{
 "cells": [
  {
   "cell_type": "markdown",
   "id": "6f6fa43a",
   "metadata": {
    "heading_collapsed": true
   },
   "source": []
  },
  {
   "cell_type": "markdown",
   "source": [
    "Bitcoin ransomware detection"
   ],
   "metadata": {
    "collapsed": false
   }
  },
  {
   "cell_type": "markdown",
   "source": [
    "Features:\n",
    "\n",
    "- The **address** is a public BC address which can receive and send bitcoins.        \n",
    "- The **income** of an address $a$ is the total amount of coins output to it measured in Satoshis (1 millionth of a BC).\n",
    "- The number of (in) **neighbors** of an address $a$  is the number of transactions which\n",
    "have $a$ as one of its output addresses.\n",
    "- The **weight** of an address is the sum of the fraction of *coins* that come from a starter transaction and merge at the address. Weight quantifies the merge behavior (i.e., the transaction has more input addresses than output addresses), where coins\n",
    "in multiple addresses are each passed through a succession of\n",
    "merging transactions and accumulated in a final address.\n",
    "- The **length** of an address $a$ is the number of non-starter transactions connected to $a$ on the longest chain.  A length of zero implies that the address is the recipient of starter transaction.\n",
    "- The **count** of an address $a$ is the number of starter transactions\n",
    "which are connected to $a$ in a chain, where a chain is\n",
    "defined as an acyclic directed path originating from a starter\n",
    "transaction and ending at address $a$. Count captures\n",
    "information about the number of transactions, whereas weight\n",
    " gives information about the amount of coins.\n",
    "- **looped** is the number of starter transactions connected to $a$ by more than one path (chain).\n",
    "    \n"
   ],
   "metadata": {
    "collapsed": false
   }
  },
  {
   "cell_type": "markdown",
   "id": "10c7352c",
   "metadata": {},
   "source": [
    "### 1.3 Packages and helper functions"
   ]
  },
  {
   "cell_type": "code",
   "execution_count": 4,
   "id": "b142e4c0",
   "metadata": {
    "ExecuteTime": {
     "end_time": "2022-07-28T12:57:31.040703Z",
     "start_time": "2022-07-28T12:57:30.319897Z"
    }
   },
   "outputs": [],
   "source": [
    "import numpy as np\n",
    "import matplotlib\n",
    "import warnings\n",
    "\n",
    "from sklearn.linear_model import SGDClassifier\n",
    "from xgboost import XGBClassifier\n",
    "from sklearn.svm import SVC, LinearSVC\n",
    "from IPython.core.interactiveshell import InteractiveShell\n",
    "InteractiveShell.ast_node_interactivity = 'all'\n",
    "warnings.filterwarnings(\"ignore\",category=matplotlib.cbook.mplDeprecation)\n",
    "warnings.filterwarnings(\"ignore\", category=UserWarning)\n",
    "_ = np.seterr(over='ignore')\n",
    "#from pretty_confusion_matrix import plot_confusion_matrix_from_data as conf_matrix\n",
    "warnings.simplefilter(action='ignore', category=FutureWarning)\n",
    "\n",
    "from heist_tools import * # module for ransowmare classification\n"
   ]
  },
  {
   "cell_type": "code",
   "execution_count": 5,
   "outputs": [],
   "source": [
    "pd.options.mode.chained_assignment = None  # default='warn'"
   ],
   "metadata": {
    "collapsed": false
   }
  },
  {
   "cell_type": "code",
   "execution_count": 6,
   "id": "7302e378",
   "metadata": {
    "ExecuteTime": {
     "end_time": "2022-07-28T12:57:33.105095Z",
     "start_time": "2022-07-28T12:57:33.100101Z"
    }
   },
   "outputs": [],
   "source": [
    "RAND_STATE  = 42\n",
    "SPLIT_RATIO = 0.23\n",
    "SAVE_TEST_TRAIN = False\n",
    "READ_STATE = False\n",
    "DS_FRAC = .12\n",
    "NF = 7"
   ]
  },
  {
   "cell_type": "markdown",
   "id": "2455c471",
   "metadata": {},
   "source": [
    "### 1.4 Importing data"
   ]
  },
  {
   "cell_type": "code",
   "execution_count": 7,
   "outputs": [
    {
     "data": {
      "text/plain": "    n_day                             address  year  day  length    weight  \\\n0       1  17eohsAgXNgdBgRdt1LuChVv2uezemHXAJ  2011    1      18  1.000000   \n31      1  13BJvLGAByQxPQacwiuPSPKxYM6Eedp85C  2011    1      42  0.000008   \n32      1  15j5SvA31joiJddRerMwJNi8pU9A5aL7Mw  2011    1      16  0.081155   \n\n    count  looped  neighbors        income  label  day_of_week  \n0       1       0          2  3.398000e+10  white          5.0  \n31      1       0          2  9.930000e+08  white          5.0  \n32     20       0          2  3.250000e+08  white          5.0  ",
      "text/html": "<div>\n<style scoped>\n    .dataframe tbody tr th:only-of-type {\n        vertical-align: middle;\n    }\n\n    .dataframe tbody tr th {\n        vertical-align: top;\n    }\n\n    .dataframe thead th {\n        text-align: right;\n    }\n</style>\n<table border=\"1\" class=\"dataframe\">\n  <thead>\n    <tr style=\"text-align: right;\">\n      <th></th>\n      <th>n_day</th>\n      <th>address</th>\n      <th>year</th>\n      <th>day</th>\n      <th>length</th>\n      <th>weight</th>\n      <th>count</th>\n      <th>looped</th>\n      <th>neighbors</th>\n      <th>income</th>\n      <th>label</th>\n      <th>day_of_week</th>\n    </tr>\n  </thead>\n  <tbody>\n    <tr>\n      <th>0</th>\n      <td>1</td>\n      <td>17eohsAgXNgdBgRdt1LuChVv2uezemHXAJ</td>\n      <td>2011</td>\n      <td>1</td>\n      <td>18</td>\n      <td>1.000000</td>\n      <td>1</td>\n      <td>0</td>\n      <td>2</td>\n      <td>3.398000e+10</td>\n      <td>white</td>\n      <td>5.0</td>\n    </tr>\n    <tr>\n      <th>31</th>\n      <td>1</td>\n      <td>13BJvLGAByQxPQacwiuPSPKxYM6Eedp85C</td>\n      <td>2011</td>\n      <td>1</td>\n      <td>42</td>\n      <td>0.000008</td>\n      <td>1</td>\n      <td>0</td>\n      <td>2</td>\n      <td>9.930000e+08</td>\n      <td>white</td>\n      <td>5.0</td>\n    </tr>\n    <tr>\n      <th>32</th>\n      <td>1</td>\n      <td>15j5SvA31joiJddRerMwJNi8pU9A5aL7Mw</td>\n      <td>2011</td>\n      <td>1</td>\n      <td>16</td>\n      <td>0.081155</td>\n      <td>20</td>\n      <td>0</td>\n      <td>2</td>\n      <td>3.250000e+08</td>\n      <td>white</td>\n      <td>5.0</td>\n    </tr>\n  </tbody>\n</table>\n</div>"
     },
     "execution_count": 7,
     "metadata": {},
     "output_type": "execute_result"
    }
   ],
   "source": [
    "dft = pd.read_csv('data/dft_dow.csv').sort_values(by='n_day') # read the data with an added column for day\n",
    "dft.head(3)"
   ],
   "metadata": {
    "collapsed": false
   }
  },
  {
   "cell_type": "code",
   "execution_count": 8,
   "id": "c6001d1c",
   "metadata": {
    "ExecuteTime": {
     "end_time": "2022-07-28T12:57:40.554547Z",
     "start_time": "2022-07-28T12:57:38.368467Z"
    }
   },
   "outputs": [],
   "source": [
    "#df = pd.read_csv('data/BitcoinHeistData.csv') # original data\n",
    "#df = df.sample(frac=DS_FRAC, axis=0,random_state=RAND_STATE) # take a sample portion of the data\n",
    "\n",
    "#ROWS = df.shape[0]\n",
    "#COLS = df.shape[1]\n",
    "#ROWS,COLS\n"
   ]
  },
  {
   "cell_type": "code",
   "execution_count": 9,
   "outputs": [
    {
     "data": {
      "text/plain": "(350004, 12)"
     },
     "execution_count": 9,
     "metadata": {},
     "output_type": "execute_result"
    }
   ],
   "source": [
    "dft.shape"
   ],
   "metadata": {
    "collapsed": false
   }
  },
  {
   "cell_type": "code",
   "execution_count": 10,
   "outputs": [
    {
     "data": {
      "text/plain": "white                  345060\nCryptoWall               1476\nCryptoLocker             1144\nCerber                   1083\nLocky                     785\nCryptXXX                  293\nDMALockerv3                51\nNoobCrypt                  45\nDMALocker                  26\nSamSam                     11\nGlobe                       7\nGlobeImposter               5\nCryptoTorLocker2015         5\nVenusLocker                 2\nCryptConsole                2\nWannaCry                    2\nJigSaw                      1\nRazy                        1\nAPT                         1\nSam                         1\nFlyper                      1\nXLocker                     1\nEDA2                        1\nName: label, dtype: int64"
     },
     "execution_count": 10,
     "metadata": {},
     "output_type": "execute_result"
    }
   ],
   "source": [
    "dft.label.value_counts()"
   ],
   "metadata": {
    "collapsed": false
   }
  },
  {
   "cell_type": "code",
   "execution_count": 11,
   "outputs": [
    {
     "data": {
      "text/plain": "white                  345060\nCryptoWall               1476\nCryptoLocker             1144\nCerber                   1083\nLocky                     785\nCryptXXX                  293\nDMALockerv3                51\nNoobCrypt                  45\nDMALocker                  26\nSamSam                     11\nGlobe                       7\nGlobeImposter               5\nCryptoTorLocker2015         5\nVenusLocker                 2\nCryptConsole                2\nWannaCry                    2\nJigSaw                      1\nRazy                        1\nAPT                         1\nSam                         1\nFlyper                      1\nXLocker                     1\nEDA2                        1\nName: label, dtype: int64"
     },
     "execution_count": 11,
     "metadata": {},
     "output_type": "execute_result"
    }
   ],
   "source": [
    "# removing the prefix on some of the labels\n",
    "study_origins = [\"princeton\",\"padua\",\"montreal\"] #\n",
    "for r in study_origins:\n",
    "    dft['label']=dft['label'].str.replace(r,\"\")\n",
    "del study_origins\n",
    "dft.label.value_counts()"
   ],
   "metadata": {
    "collapsed": false
   }
  },
  {
   "cell_type": "code",
   "execution_count": 12,
   "id": "68b6b3be",
   "metadata": {
    "ExecuteTime": {
     "end_time": "2022-07-28T12:57:41.555766Z",
     "start_time": "2022-07-28T12:57:41.551435Z"
    }
   },
   "outputs": [
    {
     "name": "stdout",
     "output_type": "stream",
     "text": [
      "The data extends from 2011 to 2018.\n",
      "File contains 350004 rows and 12 columns\n"
     ]
    }
   ],
   "source": [
    "years = dft['year'].unique()\n",
    "print('The data extends from {} to {}.'.format(years.min(),years.max()))\n",
    "print('File contains {:d} rows and {} columns'.format(dft.shape[0], dft.shape[1]))\n"
   ]
  },
  {
   "cell_type": "code",
   "execution_count": 13,
   "id": "ec523d80",
   "metadata": {
    "ExecuteTime": {
     "end_time": "2022-07-28T12:57:41.558583Z",
     "start_time": "2022-07-28T12:57:41.556683Z"
    },
    "run_control": {
     "marked": true
    }
   },
   "outputs": [
    {
     "name": "stdout",
     "output_type": "stream",
     "text": [
      "Feature columns: \n",
      "['n_day', 'address', 'year', 'day', 'length', 'weight', 'count', 'looped', 'neighbors', 'income', 'label']\n"
     ]
    }
   ],
   "source": [
    "features=list(dft.columns)[:-1]\n",
    "print('Feature columns: \\n{}'.format(features))"
   ]
  },
  {
   "cell_type": "code",
   "execution_count": 14,
   "outputs": [],
   "source": [
    "graph_fs = ['length', 'weight', 'count', 'neighbors',\n",
    "            'income']  # features relating to the topological properties of the BC network\n"
   ],
   "metadata": {
    "collapsed": false
   }
  },
  {
   "cell_type": "code",
   "execution_count": 15,
   "id": "90e1c28a",
   "metadata": {
    "ExecuteTime": {
     "end_time": "2022-07-28T12:57:41.562713Z",
     "start_time": "2022-07-28T12:57:41.559578Z"
    }
   },
   "outputs": [
    {
     "name": "stdout",
     "output_type": "stream",
     "text": [
      "Datatypes: \n",
      "\n",
      "n_day            int64\n",
      "address         object\n",
      "year             int64\n",
      "day              int64\n",
      "length           int64\n",
      "weight         float64\n",
      "count            int64\n",
      "looped           int64\n",
      "neighbors        int64\n",
      "income         float64\n",
      "label           object\n",
      "day_of_week    float64\n",
      "dtype: object\n"
     ]
    }
   ],
   "source": [
    "print('Datatypes: \\n\\n{}'.format(dft.dtypes))"
   ]
  },
  {
   "cell_type": "code",
   "execution_count": 16,
   "id": "7cf798dd",
   "metadata": {
    "ExecuteTime": {
     "end_time": "2022-07-28T12:57:41.622598Z",
     "start_time": "2022-07-28T12:57:41.564229Z"
    }
   },
   "outputs": [
    {
     "name": "stdout",
     "output_type": "stream",
     "text": [
      "The top ransomware types are \n",
      "\n",
      " CryptoWall      1476\n",
      "CryptoLocker    1144\n",
      "Cerber          1083\n",
      "Locky            785\n",
      "CryptXXX         293\n",
      "DMALockerv3       51\n",
      "NoobCrypt         45\n",
      "DMALocker         26\n",
      "SamSam            11\n",
      "Globe              7\n",
      "Name: label, dtype: int64\n"
     ]
    }
   ],
   "source": [
    "#top_ransomwares_dict = dict(df.label.value_counts().head(10)[1:])\n",
    "# top10_ransoms_labels = df.label.value_counts()[1:11]\n",
    "print('The top ransomware types are \\n\\n', dft.label.value_counts()[1:11])"
   ]
  },
  {
   "cell_type": "code",
   "execution_count": 17,
   "outputs": [
    {
     "data": {
      "text/plain": "                           n_day         year         day      length  \\\nlabel                                                                   \nAPT                  2084.000000  2016.000000  259.000000    2.000000   \nCerber               2129.951062  2016.328717  184.969529   42.035088   \nCryptConsole         2241.000000  2017.000000   51.000000   72.000000   \nCryptXXX             1992.706485  2016.000000  167.706485   48.648464   \nCryptoLocker          985.322552  2013.038462  241.284091   30.968531   \nCryptoTorLocker2015  1623.600000  2015.000000  163.600000   32.400000   \nCryptoWall           1330.716802  2014.261518  140.262873   48.891599   \nDMALocker            1816.230769  2015.653846  117.576923   19.384615   \nDMALockerv3          2185.509804  2016.470588  188.745098   44.666667   \nEDA2                 2391.000000  2017.000000  201.000000  144.000000   \nFlyper               2160.000000  2016.000000  335.000000   14.000000   \nGlobe                2139.428571  2016.000000  314.428571   43.714286   \nGlobeImposter        1911.800000  2015.800000  159.800000   33.600000   \nJigSaw               2015.000000  2016.000000  190.000000    0.000000   \nLocky                1960.825478  2016.008917  132.570701   47.329936   \nNoobCrypt            1605.133333  2014.911111  177.577778   26.844444   \nRazy                 1006.000000  2013.000000  276.000000   54.000000   \nSam                  2096.000000  2016.000000  271.000000    6.000000   \nSamSam               2176.090909  2016.272727  251.545455   43.454545   \nVenusLocker          2208.500000  2016.500000  201.000000    8.000000   \nWannaCry             2305.500000  2017.000000  115.500000  144.000000   \nXLocker              2334.000000  2017.000000  144.000000  144.000000   \nwhite                1448.505756  2014.470651  181.717965   44.947992   \n\n                        weight        count      looped  neighbors  \\\nlabel                                                                \nAPT                   1.500000     2.000000    0.000000   2.000000   \nCerber                0.296815   752.451524   36.006464   2.021237   \nCryptConsole          0.708110  1313.500000    0.000000   2.000000   \nCryptXXX              0.352714   810.068259   45.737201   1.982935   \nCryptoLocker          0.840725   273.887238   84.938811   2.868881   \nCryptoTorLocker2015   0.986878   264.800000  247.600000   8.400000   \nCryptoWall            0.767319   435.352304  128.550136   2.007453   \nDMALocker             0.917706   441.961538  122.000000   1.692308   \nDMALockerv3           0.530395   999.470588  127.117647   1.176471   \nEDA2                  0.000303  9486.000000    0.000000   2.000000   \nFlyper                0.500000     1.000000    0.000000   2.000000   \nGlobe                 0.338471   907.571429    0.142857   2.142857   \nGlobeImposter         0.643282   708.200000    1.200000   3.600000   \nJigSaw                0.111111     1.000000    0.000000   2.000000   \nLocky                 0.374995  1009.387261  105.742675   1.253503   \nNoobCrypt             0.732404   494.777778   34.511111   1.133333   \nRazy                 26.411461   127.000000    0.000000  27.000000   \nSam                   0.062500     1.000000    1.000000   3.000000   \nSamSam                0.570040  1374.000000    0.000000   1.636364   \nVenusLocker           0.041667     1.000000    0.000000   2.000000   \nWannaCry              0.007810  3892.000000    0.000000   1.000000   \nXLocker               0.412207  4511.000000    0.000000   1.000000   \nwhite                 0.546767   719.204130  239.944723   2.229673   \n\n                           income  day_of_week  \nlabel                                           \nAPT                  7.449526e+07     3.000000  \nCerber               1.045140e+08     2.509695  \nCryptConsole         4.396725e+07     3.500000  \nCryptXXX             1.326294e+08     2.515358  \nCryptoLocker         1.947917e+09     2.746503  \nCryptoTorLocker2015  6.175042e+08     3.200000  \nCryptoWall           6.888960e+08     2.781165  \nDMALocker            6.963475e+08     2.038462  \nDMALockerv3          8.428249e+08     2.450980  \nEDA2                 3.000000e+07     3.000000  \nFlyper               3.003316e+07     2.000000  \nGlobe                7.189174e+07     2.428571  \nGlobeImposter        3.066024e+09     3.400000  \nJigSaw               1.512381e+08     4.000000  \nLocky                2.602313e+08     2.472611  \nNoobCrypt            2.190694e+08     2.311111  \nRazy                 1.415000e+11     3.000000  \nSam                  2.900000e+09     1.000000  \nSamSam               1.264769e+09     1.818182  \nVenusLocker          9.000000e+07     2.000000  \nWannaCry             3.414759e+07     1.500000  \nXLocker              1.000000e+08     2.000000  \nwhite                4.323266e+09     3.002281  ",
      "text/html": "<div>\n<style scoped>\n    .dataframe tbody tr th:only-of-type {\n        vertical-align: middle;\n    }\n\n    .dataframe tbody tr th {\n        vertical-align: top;\n    }\n\n    .dataframe thead th {\n        text-align: right;\n    }\n</style>\n<table border=\"1\" class=\"dataframe\">\n  <thead>\n    <tr style=\"text-align: right;\">\n      <th></th>\n      <th>n_day</th>\n      <th>year</th>\n      <th>day</th>\n      <th>length</th>\n      <th>weight</th>\n      <th>count</th>\n      <th>looped</th>\n      <th>neighbors</th>\n      <th>income</th>\n      <th>day_of_week</th>\n    </tr>\n    <tr>\n      <th>label</th>\n      <th></th>\n      <th></th>\n      <th></th>\n      <th></th>\n      <th></th>\n      <th></th>\n      <th></th>\n      <th></th>\n      <th></th>\n      <th></th>\n    </tr>\n  </thead>\n  <tbody>\n    <tr>\n      <th>APT</th>\n      <td>2084.000000</td>\n      <td>2016.000000</td>\n      <td>259.000000</td>\n      <td>2.000000</td>\n      <td>1.500000</td>\n      <td>2.000000</td>\n      <td>0.000000</td>\n      <td>2.000000</td>\n      <td>7.449526e+07</td>\n      <td>3.000000</td>\n    </tr>\n    <tr>\n      <th>Cerber</th>\n      <td>2129.951062</td>\n      <td>2016.328717</td>\n      <td>184.969529</td>\n      <td>42.035088</td>\n      <td>0.296815</td>\n      <td>752.451524</td>\n      <td>36.006464</td>\n      <td>2.021237</td>\n      <td>1.045140e+08</td>\n      <td>2.509695</td>\n    </tr>\n    <tr>\n      <th>CryptConsole</th>\n      <td>2241.000000</td>\n      <td>2017.000000</td>\n      <td>51.000000</td>\n      <td>72.000000</td>\n      <td>0.708110</td>\n      <td>1313.500000</td>\n      <td>0.000000</td>\n      <td>2.000000</td>\n      <td>4.396725e+07</td>\n      <td>3.500000</td>\n    </tr>\n    <tr>\n      <th>CryptXXX</th>\n      <td>1992.706485</td>\n      <td>2016.000000</td>\n      <td>167.706485</td>\n      <td>48.648464</td>\n      <td>0.352714</td>\n      <td>810.068259</td>\n      <td>45.737201</td>\n      <td>1.982935</td>\n      <td>1.326294e+08</td>\n      <td>2.515358</td>\n    </tr>\n    <tr>\n      <th>CryptoLocker</th>\n      <td>985.322552</td>\n      <td>2013.038462</td>\n      <td>241.284091</td>\n      <td>30.968531</td>\n      <td>0.840725</td>\n      <td>273.887238</td>\n      <td>84.938811</td>\n      <td>2.868881</td>\n      <td>1.947917e+09</td>\n      <td>2.746503</td>\n    </tr>\n    <tr>\n      <th>CryptoTorLocker2015</th>\n      <td>1623.600000</td>\n      <td>2015.000000</td>\n      <td>163.600000</td>\n      <td>32.400000</td>\n      <td>0.986878</td>\n      <td>264.800000</td>\n      <td>247.600000</td>\n      <td>8.400000</td>\n      <td>6.175042e+08</td>\n      <td>3.200000</td>\n    </tr>\n    <tr>\n      <th>CryptoWall</th>\n      <td>1330.716802</td>\n      <td>2014.261518</td>\n      <td>140.262873</td>\n      <td>48.891599</td>\n      <td>0.767319</td>\n      <td>435.352304</td>\n      <td>128.550136</td>\n      <td>2.007453</td>\n      <td>6.888960e+08</td>\n      <td>2.781165</td>\n    </tr>\n    <tr>\n      <th>DMALocker</th>\n      <td>1816.230769</td>\n      <td>2015.653846</td>\n      <td>117.576923</td>\n      <td>19.384615</td>\n      <td>0.917706</td>\n      <td>441.961538</td>\n      <td>122.000000</td>\n      <td>1.692308</td>\n      <td>6.963475e+08</td>\n      <td>2.038462</td>\n    </tr>\n    <tr>\n      <th>DMALockerv3</th>\n      <td>2185.509804</td>\n      <td>2016.470588</td>\n      <td>188.745098</td>\n      <td>44.666667</td>\n      <td>0.530395</td>\n      <td>999.470588</td>\n      <td>127.117647</td>\n      <td>1.176471</td>\n      <td>8.428249e+08</td>\n      <td>2.450980</td>\n    </tr>\n    <tr>\n      <th>EDA2</th>\n      <td>2391.000000</td>\n      <td>2017.000000</td>\n      <td>201.000000</td>\n      <td>144.000000</td>\n      <td>0.000303</td>\n      <td>9486.000000</td>\n      <td>0.000000</td>\n      <td>2.000000</td>\n      <td>3.000000e+07</td>\n      <td>3.000000</td>\n    </tr>\n    <tr>\n      <th>Flyper</th>\n      <td>2160.000000</td>\n      <td>2016.000000</td>\n      <td>335.000000</td>\n      <td>14.000000</td>\n      <td>0.500000</td>\n      <td>1.000000</td>\n      <td>0.000000</td>\n      <td>2.000000</td>\n      <td>3.003316e+07</td>\n      <td>2.000000</td>\n    </tr>\n    <tr>\n      <th>Globe</th>\n      <td>2139.428571</td>\n      <td>2016.000000</td>\n      <td>314.428571</td>\n      <td>43.714286</td>\n      <td>0.338471</td>\n      <td>907.571429</td>\n      <td>0.142857</td>\n      <td>2.142857</td>\n      <td>7.189174e+07</td>\n      <td>2.428571</td>\n    </tr>\n    <tr>\n      <th>GlobeImposter</th>\n      <td>1911.800000</td>\n      <td>2015.800000</td>\n      <td>159.800000</td>\n      <td>33.600000</td>\n      <td>0.643282</td>\n      <td>708.200000</td>\n      <td>1.200000</td>\n      <td>3.600000</td>\n      <td>3.066024e+09</td>\n      <td>3.400000</td>\n    </tr>\n    <tr>\n      <th>JigSaw</th>\n      <td>2015.000000</td>\n      <td>2016.000000</td>\n      <td>190.000000</td>\n      <td>0.000000</td>\n      <td>0.111111</td>\n      <td>1.000000</td>\n      <td>0.000000</td>\n      <td>2.000000</td>\n      <td>1.512381e+08</td>\n      <td>4.000000</td>\n    </tr>\n    <tr>\n      <th>Locky</th>\n      <td>1960.825478</td>\n      <td>2016.008917</td>\n      <td>132.570701</td>\n      <td>47.329936</td>\n      <td>0.374995</td>\n      <td>1009.387261</td>\n      <td>105.742675</td>\n      <td>1.253503</td>\n      <td>2.602313e+08</td>\n      <td>2.472611</td>\n    </tr>\n    <tr>\n      <th>NoobCrypt</th>\n      <td>1605.133333</td>\n      <td>2014.911111</td>\n      <td>177.577778</td>\n      <td>26.844444</td>\n      <td>0.732404</td>\n      <td>494.777778</td>\n      <td>34.511111</td>\n      <td>1.133333</td>\n      <td>2.190694e+08</td>\n      <td>2.311111</td>\n    </tr>\n    <tr>\n      <th>Razy</th>\n      <td>1006.000000</td>\n      <td>2013.000000</td>\n      <td>276.000000</td>\n      <td>54.000000</td>\n      <td>26.411461</td>\n      <td>127.000000</td>\n      <td>0.000000</td>\n      <td>27.000000</td>\n      <td>1.415000e+11</td>\n      <td>3.000000</td>\n    </tr>\n    <tr>\n      <th>Sam</th>\n      <td>2096.000000</td>\n      <td>2016.000000</td>\n      <td>271.000000</td>\n      <td>6.000000</td>\n      <td>0.062500</td>\n      <td>1.000000</td>\n      <td>1.000000</td>\n      <td>3.000000</td>\n      <td>2.900000e+09</td>\n      <td>1.000000</td>\n    </tr>\n    <tr>\n      <th>SamSam</th>\n      <td>2176.090909</td>\n      <td>2016.272727</td>\n      <td>251.545455</td>\n      <td>43.454545</td>\n      <td>0.570040</td>\n      <td>1374.000000</td>\n      <td>0.000000</td>\n      <td>1.636364</td>\n      <td>1.264769e+09</td>\n      <td>1.818182</td>\n    </tr>\n    <tr>\n      <th>VenusLocker</th>\n      <td>2208.500000</td>\n      <td>2016.500000</td>\n      <td>201.000000</td>\n      <td>8.000000</td>\n      <td>0.041667</td>\n      <td>1.000000</td>\n      <td>0.000000</td>\n      <td>2.000000</td>\n      <td>9.000000e+07</td>\n      <td>2.000000</td>\n    </tr>\n    <tr>\n      <th>WannaCry</th>\n      <td>2305.500000</td>\n      <td>2017.000000</td>\n      <td>115.500000</td>\n      <td>144.000000</td>\n      <td>0.007810</td>\n      <td>3892.000000</td>\n      <td>0.000000</td>\n      <td>1.000000</td>\n      <td>3.414759e+07</td>\n      <td>1.500000</td>\n    </tr>\n    <tr>\n      <th>XLocker</th>\n      <td>2334.000000</td>\n      <td>2017.000000</td>\n      <td>144.000000</td>\n      <td>144.000000</td>\n      <td>0.412207</td>\n      <td>4511.000000</td>\n      <td>0.000000</td>\n      <td>1.000000</td>\n      <td>1.000000e+08</td>\n      <td>2.000000</td>\n    </tr>\n    <tr>\n      <th>white</th>\n      <td>1448.505756</td>\n      <td>2014.470651</td>\n      <td>181.717965</td>\n      <td>44.947992</td>\n      <td>0.546767</td>\n      <td>719.204130</td>\n      <td>239.944723</td>\n      <td>2.229673</td>\n      <td>4.323266e+09</td>\n      <td>3.002281</td>\n    </tr>\n  </tbody>\n</table>\n</div>"
     },
     "execution_count": 17,
     "metadata": {},
     "output_type": "execute_result"
    }
   ],
   "source": [
    "dft.groupby('label').mean()"
   ],
   "metadata": {
    "collapsed": false
   }
  },
  {
   "cell_type": "code",
   "execution_count": 18,
   "id": "cfbf3a68",
   "metadata": {
    "ExecuteTime": {
     "end_time": "2022-07-28T12:57:41.673739Z",
     "start_time": "2022-07-28T12:57:41.625120Z"
    }
   },
   "outputs": [
    {
     "name": "stdout",
     "output_type": "stream",
     "text": [
      "The data is over 95% unbalanced towards clean transactions!\n",
      "\n",
      "white label cnt: 345060\n",
      "rannsomware label cnt: 4944\n"
     ]
    }
   ],
   "source": [
    "print('The data is over 95% unbalanced towards clean transactions!\\n\\nwhite label cnt: {}\\nrannsomware label cnt: {}'\\\n",
    "      .format(dft['label'].value_counts()[0],\n",
    "        sum(dft['label'].value_counts()[1:])\n",
    "             ))\n"
   ]
  },
  {
   "cell_type": "markdown",
   "source": [
    "## 1.7 Time Series Analysis"
   ],
   "metadata": {
    "collapsed": false
   }
  },
  {
   "cell_type": "code",
   "execution_count": 19,
   "outputs": [
    {
     "data": {
      "text/plain": "2885"
     },
     "execution_count": 19,
     "metadata": {},
     "output_type": "execute_result"
    }
   ],
   "source": [
    "dft.n_day.max()"
   ],
   "metadata": {
    "collapsed": false
   }
  },
  {
   "cell_type": "code",
   "execution_count": 20,
   "outputs": [],
   "source": [
    "# set a time for which we wish to start predicted ransomware addresses\n",
    "t0 = int(input(\"enter a time\"))"
   ],
   "metadata": {
    "collapsed": false
   }
  },
  {
   "cell_type": "code",
   "execution_count": 21,
   "outputs": [],
   "source": [
    "# we start by windowing the dataframe and transforming the data in the time window\n",
    "df_past = window(dft,t0,480)"
   ],
   "metadata": {
    "collapsed": false
   }
  },
  {
   "cell_type": "code",
   "execution_count": 22,
   "outputs": [
    {
     "data": {
      "text/plain": "white            57654\nCerber            1024\nLocky              785\nCryptXXX           293\nDMALockerv3         49\nDMALocker           12\nSamSam               8\nNoobCrypt            7\nGlobe                7\nVenusLocker          2\nWannaCry             2\nGlobeImposter        2\nCryptConsole         2\nAPT                  1\nFlyper               1\nSam                  1\nJigSaw               1\nXLocker              1\nName: label, dtype: int64"
     },
     "execution_count": 22,
     "metadata": {},
     "output_type": "execute_result"
    }
   ],
   "source": [
    "df_past.label.value_counts()"
   ],
   "metadata": {
    "collapsed": false
   }
  },
  {
   "cell_type": "markdown",
   "source": [],
   "metadata": {
    "collapsed": false
   }
  },
  {
   "cell_type": "markdown",
   "source": [
    "### test/train"
   ],
   "metadata": {
    "collapsed": false
   }
  },
  {
   "cell_type": "markdown",
   "source": [],
   "metadata": {
    "collapsed": false
   }
  },
  {
   "cell_type": "code",
   "execution_count": 23,
   "outputs": [],
   "source": [
    "#dft.rename(columns={\"label\":\"labels\"}, inplace=True)\n",
    "labels = df_past.label\n",
    "labels01 = labels.apply(lambda x: 0 if x=='white' else 1)\n"
   ],
   "metadata": {
    "collapsed": false
   }
  },
  {
   "cell_type": "code",
   "execution_count": 24,
   "outputs": [
    {
     "data": {
      "text/plain": "0    57654\n1     2198\nName: label, dtype: int64"
     },
     "execution_count": 24,
     "metadata": {},
     "output_type": "execute_result"
    }
   ],
   "source": [
    "labels01.value_counts()"
   ],
   "metadata": {
    "collapsed": false
   }
  },
  {
   "cell_type": "code",
   "execution_count": 25,
   "id": "2d8ded61",
   "metadata": {
    "ExecuteTime": {
     "end_time": "2022-07-28T12:59:39.784444Z",
     "start_time": "2022-07-28T12:59:39.750175Z"
    }
   },
   "outputs": [
    {
     "name": "stdout",
     "output_type": "stream",
     "text": [
      "Percentage of labels belonging to ransomware class: 3.7\n"
     ]
    }
   ],
   "source": [
    "print('Percentage of labels \\\n",
    "belonging to ransomware class: {:.2}'.format( (np.sum(labels01) / len(labels01)) * 100) )"
   ]
  },
  {
   "cell_type": "markdown",
   "id": "4f7aa000",
   "metadata": {},
   "source": []
  },
  {
   "cell_type": "code",
   "execution_count": 26,
   "id": "37ef2962",
   "metadata": {
    "ExecuteTime": {
     "end_time": "2022-07-28T12:59:39.913148Z",
     "start_time": "2022-07-28T12:59:39.785189Z"
    }
   },
   "outputs": [],
   "source": [
    "X_past_df = df_past.drop(['label'],axis=1) # X=features [original]\n",
    "X_past = X_past_df.to_numpy()"
   ]
  },
  {
   "cell_type": "code",
   "execution_count": 27,
   "outputs": [],
   "source": [
    "labels01_df = labels01.astype(int)\n",
    "y_past_df = labels01_df"
   ],
   "metadata": {
    "collapsed": false
   }
  },
  {
   "cell_type": "code",
   "execution_count": 28,
   "outputs": [
    {
     "data": {
      "text/plain": "224838    1863\n224839    1863\n224840    1863\n224846    1863\n224842    1863\n          ... \n284551    2343\n284552    2343\n284553    2343\n284554    2343\n284550    2343\nName: n_day, Length: 59852, dtype: int64"
     },
     "execution_count": 28,
     "metadata": {},
     "output_type": "execute_result"
    }
   ],
   "source": [
    "X_past_df['n_day'].astype(int)"
   ],
   "metadata": {
    "collapsed": false
   }
  },
  {
   "cell_type": "code",
   "execution_count": 29,
   "outputs": [
    {
     "data": {
      "text/plain": "        n_day                             address  year  day  length  \\\n284595   2343  1PoZdSHyPf98iwXyT5vC3iA6Bgjs4foKHv  2017  153       0   \n284592   2343  1132AixoqzmruxEyCTShVSmJjfC6JptKdv  2017  153     144   \n\n          weight  count  looped  neighbors      income  day_of_week  \n284595  1.000000      1       0          1  49179650.0          4.0  \n284592  0.001623   5551       0          2  47537702.0          4.0  ",
      "text/html": "<div>\n<style scoped>\n    .dataframe tbody tr th:only-of-type {\n        vertical-align: middle;\n    }\n\n    .dataframe tbody tr th {\n        vertical-align: top;\n    }\n\n    .dataframe thead th {\n        text-align: right;\n    }\n</style>\n<table border=\"1\" class=\"dataframe\">\n  <thead>\n    <tr style=\"text-align: right;\">\n      <th></th>\n      <th>n_day</th>\n      <th>address</th>\n      <th>year</th>\n      <th>day</th>\n      <th>length</th>\n      <th>weight</th>\n      <th>count</th>\n      <th>looped</th>\n      <th>neighbors</th>\n      <th>income</th>\n      <th>day_of_week</th>\n    </tr>\n  </thead>\n  <tbody>\n    <tr>\n      <th>284595</th>\n      <td>2343</td>\n      <td>1PoZdSHyPf98iwXyT5vC3iA6Bgjs4foKHv</td>\n      <td>2017</td>\n      <td>153</td>\n      <td>0</td>\n      <td>1.000000</td>\n      <td>1</td>\n      <td>0</td>\n      <td>1</td>\n      <td>49179650.0</td>\n      <td>4.0</td>\n    </tr>\n    <tr>\n      <th>284592</th>\n      <td>2343</td>\n      <td>1132AixoqzmruxEyCTShVSmJjfC6JptKdv</td>\n      <td>2017</td>\n      <td>153</td>\n      <td>144</td>\n      <td>0.001623</td>\n      <td>5551</td>\n      <td>0</td>\n      <td>2</td>\n      <td>47537702.0</td>\n      <td>4.0</td>\n    </tr>\n  </tbody>\n</table>\n</div>"
     },
     "execution_count": 29,
     "metadata": {},
     "output_type": "execute_result"
    }
   ],
   "source": [
    "X_future_df = dft[(dft['n_day']>=t0)&(dft['n_day']<t0+30)].drop(['label'],axis=1) # X=features [original].\n",
    "X_future_df.head(2)"
   ],
   "metadata": {
    "collapsed": false
   }
  },
  {
   "cell_type": "code",
   "execution_count": 30,
   "outputs": [],
   "source": [
    "x_train, x_test, Y_train, Y_test, ids = test_train_time(X_past_df, y_past_df, t0=t0)"
   ],
   "metadata": {
    "collapsed": false
   }
  },
  {
   "cell_type": "code",
   "execution_count": 31,
   "outputs": [
    {
     "data": {
      "text/plain": "[0    5667\n 1     262\n Name: label, dtype: int64,\n 0    8605\n 1     215\n Name: label, dtype: int64,\n 0    10084\n 1      215\n Name: label, dtype: int64,\n 0    11525\n 1      165\n Name: label, dtype: int64]"
     },
     "execution_count": 31,
     "metadata": {},
     "output_type": "execute_result"
    }
   ],
   "source": [
    "[Y_test[i].value_counts() for i in range(len(Y_train))]"
   ],
   "metadata": {
    "collapsed": false
   }
  },
  {
   "cell_type": "code",
   "execution_count": 32,
   "outputs": [
    {
     "data": {
      "text/plain": "True"
     },
     "execution_count": 32,
     "metadata": {},
     "output_type": "execute_result"
    }
   ],
   "source": [
    "t0 - 1 == x_test[3].n_day.max() # check that the times match up"
   ],
   "metadata": {
    "collapsed": false
   }
  },
  {
   "cell_type": "code",
   "execution_count": 33,
   "outputs": [
    {
     "data": {
      "text/plain": "2056"
     },
     "execution_count": 33,
     "metadata": {},
     "output_type": "execute_result"
    }
   ],
   "source": [
    "X_past_df.loc[list(ids[0][1])].n_day.min()"
   ],
   "metadata": {
    "collapsed": false
   }
  },
  {
   "cell_type": "code",
   "execution_count": 34,
   "outputs": [
    {
     "data": {
      "text/plain": "(2056, 2152, 2200, 2248)"
     },
     "execution_count": 34,
     "metadata": {},
     "output_type": "execute_result"
    }
   ],
   "source": [
    "x_test[0].loc[list(ids[0][1])].n_day.min(), x_test[1].loc[list(ids[1][1])].n_day.min(), x_test[2].loc[list(ids[2][1])].n_day.min(), x_test[3].loc[list(ids[3][1])].n_day.min()"
   ],
   "metadata": {
    "collapsed": false
   }
  },
  {
   "cell_type": "code",
   "execution_count": 35,
   "outputs": [
    {
     "data": {
      "text/plain": "(1863, 1863, 1863, 1863)"
     },
     "execution_count": 35,
     "metadata": {},
     "output_type": "execute_result"
    }
   ],
   "source": [
    "x_train[0].loc[list(ids[0][0])].n_day.min(), x_train[1].loc[list(ids[1][0])].n_day.min(), x_train[2].loc[list(ids[2][0])].n_day.min(), x_train[3].loc[list(ids[3][0])].n_day.min()"
   ],
   "metadata": {
    "collapsed": false
   }
  },
  {
   "cell_type": "code",
   "execution_count": 36,
   "outputs": [
    {
     "data": {
      "text/plain": "True"
     },
     "execution_count": 36,
     "metadata": {},
     "output_type": "execute_result"
    }
   ],
   "source": [
    "(X_past_df.loc[list(ids[0][0])].n_day.max(), X_past_df.loc[list(ids[1][0])].n_day.max(), X_past_df.loc[list(ids[2][0])].n_day.max(), X_past_df.loc[list(ids[3][0])].n_day.max())==(x_train[0].loc[list(ids[0][0])].n_day.max(), x_train[1].loc[list(ids[1][0])].n_day.max(), x_train[2].loc[list(ids[2][0])].n_day.max(), x_train[3].loc[list(ids[3][0])].n_day.max())\n"
   ],
   "metadata": {
    "collapsed": false
   }
  },
  {
   "cell_type": "code",
   "execution_count": 37,
   "outputs": [
    {
     "data": {
      "text/plain": "True"
     },
     "execution_count": 37,
     "metadata": {},
     "output_type": "execute_result"
    }
   ],
   "source": [
    "(x_test[0].loc[list(ids[0][1])].n_day.max(), x_test[1].loc[list(ids[1][1])].n_day.max(), x_test[2].loc[list(ids[2][1])].n_day.max(), x_test[3].loc[list(ids[3][1])].n_day.max())==(X_past_df.loc[list(ids[0][1])].n_day.max(), X_past_df.loc[list(ids[1][1])].n_day.max(), X_past_df.loc[list(ids[2][1])].n_day.max(), X_past_df.loc[list(ids[3][1])].n_day.max())"
   ],
   "metadata": {
    "collapsed": false
   }
  },
  {
   "cell_type": "code",
   "execution_count": 38,
   "outputs": [
    {
     "data": {
      "text/plain": "True"
     },
     "execution_count": 38,
     "metadata": {},
     "output_type": "execute_result"
    }
   ],
   "source": [
    "(x_train[0].loc[list(ids[0][0])].n_day.max(), x_train[1].loc[list(ids[1][0])].n_day.max(), x_train[2].loc[list(ids[2][0])].n_day.max(), x_train[3].loc[list(ids[3][0])].n_day.max())==(X_past_df.loc[list(ids[0][0])].n_day.max(), X_past_df.loc[list(ids[1][0])].n_day.max(), X_past_df.loc[list(ids[2][0])].n_day.max(), X_past_df.loc[list(ids[3][0])].n_day.max())"
   ],
   "metadata": {
    "collapsed": false
   }
  },
  {
   "cell_type": "code",
   "execution_count": 39,
   "outputs": [],
   "source": [
    "#dft.to_csv('data/dft_dow.csv',index=False)"
   ],
   "metadata": {
    "collapsed": false
   }
  },
  {
   "cell_type": "code",
   "execution_count": 40,
   "outputs": [
    {
     "data": {
      "text/plain": "     income    length    weight neighbors    looped     count day_of_week_0.0  \\\n0 -0.050574 -0.604923 -0.147988 -0.014186 -0.209683 -0.486973               0   \n1 -0.053492 -0.768652 -0.037287 -0.014186 -0.209683 -0.486973               0   \n\n  day_of_week_1.0 day_of_week_2.0 day_of_week_3.0 day_of_week_4.0  \\\n0               0               0               0               0   \n1               0               0               0               0   \n\n  day_of_week_5.0 day_of_week_6.0 n_day                             address  \\\n0               0               1  1863  19o75z4Vh5JzJ9H77UHKD4d3NAR2HtqUge   \n1               0               1  1863  1GFCoZY6WoVMwjv33cwhisoVENfhjQr8AZ   \n\n   year day  \n0  2016  38  \n1  2016  38  ",
      "text/html": "<div>\n<style scoped>\n    .dataframe tbody tr th:only-of-type {\n        vertical-align: middle;\n    }\n\n    .dataframe tbody tr th {\n        vertical-align: top;\n    }\n\n    .dataframe thead th {\n        text-align: right;\n    }\n</style>\n<table border=\"1\" class=\"dataframe\">\n  <thead>\n    <tr style=\"text-align: right;\">\n      <th></th>\n      <th>income</th>\n      <th>length</th>\n      <th>weight</th>\n      <th>neighbors</th>\n      <th>looped</th>\n      <th>count</th>\n      <th>day_of_week_0.0</th>\n      <th>day_of_week_1.0</th>\n      <th>day_of_week_2.0</th>\n      <th>day_of_week_3.0</th>\n      <th>day_of_week_4.0</th>\n      <th>day_of_week_5.0</th>\n      <th>day_of_week_6.0</th>\n      <th>n_day</th>\n      <th>address</th>\n      <th>year</th>\n      <th>day</th>\n    </tr>\n  </thead>\n  <tbody>\n    <tr>\n      <th>0</th>\n      <td>-0.050574</td>\n      <td>-0.604923</td>\n      <td>-0.147988</td>\n      <td>-0.014186</td>\n      <td>-0.209683</td>\n      <td>-0.486973</td>\n      <td>0</td>\n      <td>0</td>\n      <td>0</td>\n      <td>0</td>\n      <td>0</td>\n      <td>0</td>\n      <td>1</td>\n      <td>1863</td>\n      <td>19o75z4Vh5JzJ9H77UHKD4d3NAR2HtqUge</td>\n      <td>2016</td>\n      <td>38</td>\n    </tr>\n    <tr>\n      <th>1</th>\n      <td>-0.053492</td>\n      <td>-0.768652</td>\n      <td>-0.037287</td>\n      <td>-0.014186</td>\n      <td>-0.209683</td>\n      <td>-0.486973</td>\n      <td>0</td>\n      <td>0</td>\n      <td>0</td>\n      <td>0</td>\n      <td>0</td>\n      <td>0</td>\n      <td>1</td>\n      <td>1863</td>\n      <td>1GFCoZY6WoVMwjv33cwhisoVENfhjQr8AZ</td>\n      <td>2016</td>\n      <td>38</td>\n    </tr>\n  </tbody>\n</table>\n</div>"
     },
     "execution_count": 40,
     "metadata": {},
     "output_type": "execute_result"
    }
   ],
   "source": [
    "X_past_df = transform(X_past_df) # standardize and encode\n",
    "X_past_df.head(2)"
   ],
   "metadata": {
    "collapsed": false
   }
  },
  {
   "cell_type": "code",
   "execution_count": 41,
   "outputs": [
    {
     "data": {
      "text/plain": "224838    0\n224839    0\n224840    0\n224846    0\n224842    0\n         ..\n284551    0\n284552    0\n284553    0\n284554    0\n284550    0\nName: label, Length: 59852, dtype: int64"
     },
     "execution_count": 41,
     "metadata": {},
     "output_type": "execute_result"
    }
   ],
   "source": [
    "y_past_df"
   ],
   "metadata": {
    "collapsed": false
   }
  },
  {
   "cell_type": "code",
   "execution_count": 42,
   "outputs": [
    {
     "data": {
      "text/plain": "59852"
     },
     "execution_count": 42,
     "metadata": {},
     "output_type": "execute_result"
    }
   ],
   "source": [
    "X_past_df = X_past_df.reset_index(drop=True)\n",
    "len(X_past_df)"
   ],
   "metadata": {
    "collapsed": false
   }
  },
  {
   "cell_type": "code",
   "execution_count": 43,
   "outputs": [
    {
     "data": {
      "text/plain": "59852"
     },
     "execution_count": 43,
     "metadata": {},
     "output_type": "execute_result"
    }
   ],
   "source": [
    "y_past = y_past_df.reset_index(drop=True)\n",
    "len(y_past)"
   ],
   "metadata": {
    "collapsed": false
   }
  },
  {
   "cell_type": "code",
   "execution_count": 44,
   "outputs": [],
   "source": [
    "# down sample the test set"
   ],
   "metadata": {
    "collapsed": false
   }
  },
  {
   "cell_type": "code",
   "execution_count": 45,
   "outputs": [
    {
     "data": {
      "text/plain": "0    3641\n1      30\nName: label, dtype: int64"
     },
     "execution_count": 45,
     "metadata": {},
     "output_type": "execute_result"
    }
   ],
   "source": [
    "y_future = dft.loc[X_future_df.index].label.apply(lambda x: 0 if x=='white' else 1)\n",
    "y_future.value_counts()"
   ],
   "metadata": {
    "collapsed": false
   }
  },
  {
   "cell_type": "code",
   "execution_count": 46,
   "outputs": [],
   "source": [
    "y_future_down = pd.concat([y_future[y_future==0].sample(1000),y_future[y_future==1]])"
   ],
   "metadata": {
    "collapsed": false
   }
  },
  {
   "cell_type": "code",
   "execution_count": 47,
   "outputs": [
    {
     "data": {
      "text/plain": "0    1000\n1      30\nName: label, dtype: int64"
     },
     "execution_count": 47,
     "metadata": {},
     "output_type": "execute_result"
    }
   ],
   "source": [
    "y_future_down.value_counts()"
   ],
   "metadata": {
    "collapsed": false
   }
  },
  {
   "cell_type": "code",
   "execution_count": 48,
   "outputs": [],
   "source": [
    "X_future_down = X_future_df.loc[y_future_down.index]"
   ],
   "metadata": {
    "collapsed": false
   }
  },
  {
   "cell_type": "code",
   "execution_count": 49,
   "outputs": [
    {
     "data": {
      "text/plain": "        n_day                             address  year  day  length  \\\n286612   2360  1C4Ec8UDM1yFtg6814ugWkFuqco4Jt6BG8  2017  170       4   \n286543   2359  1EkKy1VTDt4trmqfjHg7TAyD197qFkLKQe  2017  169       4   \n286135   2356  1Gh1y1wS3w7VSakxEhz1Vww7uUoranotMP  2017  166     144   \n287432   2367  1EW8jcSsGQggozor7DH4XGfoYULJXhb95W  2017  177     144   \n286768   2361  16wwmMCmbSYUMc9FCQ37EsQpFshWFCNPe9  2017  171      38   \n...       ...                                 ...   ...  ...     ...   \n287724   2369  1Jcz5UyfbRfZadGXMWLbidQTibS6kKwRpB  2017  179      66   \n287869   2370  1PMSuz6KFyFQvg9mr931tKjYEJdvkqXB9C  2017  180      20   \n288054   2371  1LyzQdd6nv38bTgJaHNckxXe36AA5USSwm  2017  181     144   \n287988   2371  12kmpnJa4hEJp3BTttKgnGrr2etcFJWg3W  2017  181     144   \n287985   2371  15pVtiqNdszrR7bP5XcHJbyqHcxkk2vngb  2017  181     144   \n\n              weight  count  looped  neighbors        income  day_of_week  \n286612  1.000000e+00      1       0          2  3.808861e+07          0.0  \n286543  1.000000e+00      1       0          2  5.781221e+08          6.0  \n286135  3.458522e-01   2273       0          2  2.227944e+09          3.0  \n287432  1.736120e+00   6736       0          2  4.423958e+09          0.0  \n286768  6.250000e-02      1       0          2  3.000000e+08          1.0  \n...              ...    ...     ...        ...           ...          ...  \n287724  1.192093e-07      1       0          2  4.000000e+07          2.0  \n287869  3.906250e-03      1       0          2  4.000000e+07          3.0  \n288054  5.077596e-05   7573       0          2  4.000000e+07          4.0  \n287988  7.149385e-02   7544       0          2  5.000000e+07          4.0  \n287985  9.978938e-02   3649       0          2  4.000000e+07          4.0  \n\n[1030 rows x 11 columns]",
      "text/html": "<div>\n<style scoped>\n    .dataframe tbody tr th:only-of-type {\n        vertical-align: middle;\n    }\n\n    .dataframe tbody tr th {\n        vertical-align: top;\n    }\n\n    .dataframe thead th {\n        text-align: right;\n    }\n</style>\n<table border=\"1\" class=\"dataframe\">\n  <thead>\n    <tr style=\"text-align: right;\">\n      <th></th>\n      <th>n_day</th>\n      <th>address</th>\n      <th>year</th>\n      <th>day</th>\n      <th>length</th>\n      <th>weight</th>\n      <th>count</th>\n      <th>looped</th>\n      <th>neighbors</th>\n      <th>income</th>\n      <th>day_of_week</th>\n    </tr>\n  </thead>\n  <tbody>\n    <tr>\n      <th>286612</th>\n      <td>2360</td>\n      <td>1C4Ec8UDM1yFtg6814ugWkFuqco4Jt6BG8</td>\n      <td>2017</td>\n      <td>170</td>\n      <td>4</td>\n      <td>1.000000e+00</td>\n      <td>1</td>\n      <td>0</td>\n      <td>2</td>\n      <td>3.808861e+07</td>\n      <td>0.0</td>\n    </tr>\n    <tr>\n      <th>286543</th>\n      <td>2359</td>\n      <td>1EkKy1VTDt4trmqfjHg7TAyD197qFkLKQe</td>\n      <td>2017</td>\n      <td>169</td>\n      <td>4</td>\n      <td>1.000000e+00</td>\n      <td>1</td>\n      <td>0</td>\n      <td>2</td>\n      <td>5.781221e+08</td>\n      <td>6.0</td>\n    </tr>\n    <tr>\n      <th>286135</th>\n      <td>2356</td>\n      <td>1Gh1y1wS3w7VSakxEhz1Vww7uUoranotMP</td>\n      <td>2017</td>\n      <td>166</td>\n      <td>144</td>\n      <td>3.458522e-01</td>\n      <td>2273</td>\n      <td>0</td>\n      <td>2</td>\n      <td>2.227944e+09</td>\n      <td>3.0</td>\n    </tr>\n    <tr>\n      <th>287432</th>\n      <td>2367</td>\n      <td>1EW8jcSsGQggozor7DH4XGfoYULJXhb95W</td>\n      <td>2017</td>\n      <td>177</td>\n      <td>144</td>\n      <td>1.736120e+00</td>\n      <td>6736</td>\n      <td>0</td>\n      <td>2</td>\n      <td>4.423958e+09</td>\n      <td>0.0</td>\n    </tr>\n    <tr>\n      <th>286768</th>\n      <td>2361</td>\n      <td>16wwmMCmbSYUMc9FCQ37EsQpFshWFCNPe9</td>\n      <td>2017</td>\n      <td>171</td>\n      <td>38</td>\n      <td>6.250000e-02</td>\n      <td>1</td>\n      <td>0</td>\n      <td>2</td>\n      <td>3.000000e+08</td>\n      <td>1.0</td>\n    </tr>\n    <tr>\n      <th>...</th>\n      <td>...</td>\n      <td>...</td>\n      <td>...</td>\n      <td>...</td>\n      <td>...</td>\n      <td>...</td>\n      <td>...</td>\n      <td>...</td>\n      <td>...</td>\n      <td>...</td>\n      <td>...</td>\n    </tr>\n    <tr>\n      <th>287724</th>\n      <td>2369</td>\n      <td>1Jcz5UyfbRfZadGXMWLbidQTibS6kKwRpB</td>\n      <td>2017</td>\n      <td>179</td>\n      <td>66</td>\n      <td>1.192093e-07</td>\n      <td>1</td>\n      <td>0</td>\n      <td>2</td>\n      <td>4.000000e+07</td>\n      <td>2.0</td>\n    </tr>\n    <tr>\n      <th>287869</th>\n      <td>2370</td>\n      <td>1PMSuz6KFyFQvg9mr931tKjYEJdvkqXB9C</td>\n      <td>2017</td>\n      <td>180</td>\n      <td>20</td>\n      <td>3.906250e-03</td>\n      <td>1</td>\n      <td>0</td>\n      <td>2</td>\n      <td>4.000000e+07</td>\n      <td>3.0</td>\n    </tr>\n    <tr>\n      <th>288054</th>\n      <td>2371</td>\n      <td>1LyzQdd6nv38bTgJaHNckxXe36AA5USSwm</td>\n      <td>2017</td>\n      <td>181</td>\n      <td>144</td>\n      <td>5.077596e-05</td>\n      <td>7573</td>\n      <td>0</td>\n      <td>2</td>\n      <td>4.000000e+07</td>\n      <td>4.0</td>\n    </tr>\n    <tr>\n      <th>287988</th>\n      <td>2371</td>\n      <td>12kmpnJa4hEJp3BTttKgnGrr2etcFJWg3W</td>\n      <td>2017</td>\n      <td>181</td>\n      <td>144</td>\n      <td>7.149385e-02</td>\n      <td>7544</td>\n      <td>0</td>\n      <td>2</td>\n      <td>5.000000e+07</td>\n      <td>4.0</td>\n    </tr>\n    <tr>\n      <th>287985</th>\n      <td>2371</td>\n      <td>15pVtiqNdszrR7bP5XcHJbyqHcxkk2vngb</td>\n      <td>2017</td>\n      <td>181</td>\n      <td>144</td>\n      <td>9.978938e-02</td>\n      <td>3649</td>\n      <td>0</td>\n      <td>2</td>\n      <td>4.000000e+07</td>\n      <td>4.0</td>\n    </tr>\n  </tbody>\n</table>\n<p>1030 rows × 11 columns</p>\n</div>"
     },
     "execution_count": 49,
     "metadata": {},
     "output_type": "execute_result"
    }
   ],
   "source": [
    "X_future_down"
   ],
   "metadata": {
    "collapsed": false
   }
  },
  {
   "cell_type": "code",
   "execution_count": 50,
   "outputs": [
    {
     "data": {
      "text/plain": "286612    0\n286543    0\n286135    0\n287432    0\n286768    0\n         ..\n287724    1\n287869    1\n288054    1\n287988    1\n287985    1\nName: label, Length: 1030, dtype: int64"
     },
     "execution_count": 50,
     "metadata": {},
     "output_type": "execute_result"
    }
   ],
   "source": [
    "y_future_down"
   ],
   "metadata": {
    "collapsed": false
   }
  },
  {
   "cell_type": "code",
   "execution_count": 51,
   "outputs": [],
   "source": [
    "from sklearn.model_selection import TimeSeriesSplit"
   ],
   "metadata": {
    "collapsed": false
   }
  },
  {
   "cell_type": "code",
   "execution_count": 52,
   "outputs": [],
   "source": [
    "tscv = TimeSeriesSplit()"
   ],
   "metadata": {
    "collapsed": false
   }
  },
  {
   "cell_type": "code",
   "execution_count": null,
   "outputs": [],
   "source": [
    "tscv_splits = tscv.split(X_past_df)"
   ],
   "metadata": {
    "collapsed": false
   }
  },
  {
   "cell_type": "code",
   "execution_count": null,
   "outputs": [],
   "source": [
    "for i,(train_id,test_id) in enumerate(tscv.split(X_past_df)):\n",
    "        print(i,train_id,test_id)"
   ],
   "metadata": {
    "collapsed": false
   }
  },
  {
   "cell_type": "code",
   "execution_count": null,
   "outputs": [],
   "source": [
    " y_trains = [y_past.loc[x[0]] for x in tscv.split(X_past_df)] # useless unless we index from zero"
   ],
   "metadata": {
    "collapsed": false
   }
  },
  {
   "cell_type": "code",
   "execution_count": null,
   "outputs": [],
   "source": [
    "y_trains[0].value_counts()"
   ],
   "metadata": {
    "collapsed": false
   }
  },
  {
   "cell_type": "code",
   "execution_count": null,
   "outputs": [],
   "source": [
    "if SAVE_TEST_TRAIN == True:\n",
    "    with open('encoded'+fname, 'wb') as save_file:\n",
    "        pickle.dump([X_train, y_train, X_test, y_test], save_file)\n"
   ],
   "metadata": {
    "collapsed": false
   }
  },
  {
   "cell_type": "markdown",
   "source": [
    "# 4.0 Resampling"
   ],
   "metadata": {
    "collapsed": false
   }
  },
  {
   "cell_type": "code",
   "execution_count": 53,
   "outputs": [
    {
     "name": "stdout",
     "output_type": "stream",
     "text": [
      "Training set has 59852 rows and 17 columns.\n",
      "Testing set has 3671 rows and 11 columns.\n",
      "Training set has 2198 points that belong to postitive class (ransomware) and 57654 points that belong to negative class (white).\n",
      "Percentage of positive class data-points: 3.67%\n"
     ]
    }
   ],
   "source": [
    "print('Training set has {} rows and {} columns.'.format(X_past_df.shape[0], X_past_df.shape[1]))\n",
    "print('Testing set has {} rows and {} columns.'.format(X_future_df.shape[0], X_future_df.shape[1]))\n",
    "print('Training set has {} points that belong to postitive class (ransomware) and {} points that belong to negative class (white).'.format(\n",
    "    sum(y_past),\n",
    "    len(y_past) - sum(y_past)\n",
    "))\n",
    "print('Percentage of positive class data-points: {:.2f}%'.format((sum(y_past)/(len(y_past)) * 100)))"
   ],
   "metadata": {
    "collapsed": false
   }
  },
  {
   "cell_type": "markdown",
   "source": [
    "## 4.1 Sampling"
   ],
   "metadata": {
    "collapsed": false
   }
  },
  {
   "cell_type": "code",
   "execution_count": 54,
   "outputs": [],
   "source": [
    "from imblearn.over_sampling import SMOTE\n"
   ],
   "metadata": {
    "collapsed": false
   }
  },
  {
   "cell_type": "markdown",
   "source": [
    "### 4.1.0 Downsampling"
   ],
   "metadata": {
    "collapsed": false
   }
  },
  {
   "cell_type": "markdown",
   "source": [
    "**e_ds** <n>\n",
    "- Encoded, standard scaled, and normalized data.\n",
    "- Split of X_train_e [standardized, encoded] without column headers."
   ],
   "metadata": {
    "collapsed": false
   }
  },
  {
   "cell_type": "code",
   "execution_count": 56,
   "outputs": [
    {
     "ename": "KeyError",
     "evalue": "\"['address', 'year', 'day', 'n_day'] not found in axis\"",
     "output_type": "error",
     "traceback": [
      "\u001B[0;31m---------------------------------------------------------------------------\u001B[0m",
      "\u001B[0;31mKeyError\u001B[0m                                  Traceback (most recent call last)",
      "Input \u001B[0;32mIn [56]\u001B[0m, in \u001B[0;36m<cell line: 1>\u001B[0;34m()\u001B[0m\n\u001B[0;32m----> 1\u001B[0m \u001B[43mX_past_df\u001B[49m\u001B[38;5;241;43m.\u001B[39;49m\u001B[43mdrop\u001B[49m\u001B[43m(\u001B[49m\u001B[43mcolumns\u001B[49m\u001B[38;5;241;43m=\u001B[39;49m\u001B[43m[\u001B[49m\u001B[38;5;124;43m'\u001B[39;49m\u001B[38;5;124;43maddress\u001B[39;49m\u001B[38;5;124;43m'\u001B[39;49m\u001B[43m,\u001B[49m\u001B[38;5;124;43m'\u001B[39;49m\u001B[38;5;124;43myear\u001B[39;49m\u001B[38;5;124;43m'\u001B[39;49m\u001B[43m,\u001B[49m\u001B[38;5;124;43m'\u001B[39;49m\u001B[38;5;124;43mday\u001B[39;49m\u001B[38;5;124;43m'\u001B[39;49m\u001B[43m,\u001B[49m\u001B[38;5;124;43m'\u001B[39;49m\u001B[38;5;124;43mn_day\u001B[39;49m\u001B[38;5;124;43m'\u001B[39;49m\u001B[43m]\u001B[49m\u001B[43m,\u001B[49m\u001B[43maxis\u001B[49m\u001B[38;5;241;43m=\u001B[39;49m\u001B[38;5;241;43m1\u001B[39;49m\u001B[43m,\u001B[49m\u001B[43minplace\u001B[49m\u001B[38;5;241;43m=\u001B[39;49m\u001B[38;5;28;43;01mTrue\u001B[39;49;00m\u001B[43m)\u001B[49m\n",
      "File \u001B[0;32m~/.pyenv/versions/mambaforge-4.10.1-4/envs/ih_DA_env/lib/python3.9/site-packages/pandas/util/_decorators.py:311\u001B[0m, in \u001B[0;36mdeprecate_nonkeyword_arguments.<locals>.decorate.<locals>.wrapper\u001B[0;34m(*args, **kwargs)\u001B[0m\n\u001B[1;32m    305\u001B[0m \u001B[38;5;28;01mif\u001B[39;00m \u001B[38;5;28mlen\u001B[39m(args) \u001B[38;5;241m>\u001B[39m num_allow_args:\n\u001B[1;32m    306\u001B[0m     warnings\u001B[38;5;241m.\u001B[39mwarn(\n\u001B[1;32m    307\u001B[0m         msg\u001B[38;5;241m.\u001B[39mformat(arguments\u001B[38;5;241m=\u001B[39marguments),\n\u001B[1;32m    308\u001B[0m         \u001B[38;5;167;01mFutureWarning\u001B[39;00m,\n\u001B[1;32m    309\u001B[0m         stacklevel\u001B[38;5;241m=\u001B[39mstacklevel,\n\u001B[1;32m    310\u001B[0m     )\n\u001B[0;32m--> 311\u001B[0m \u001B[38;5;28;01mreturn\u001B[39;00m \u001B[43mfunc\u001B[49m\u001B[43m(\u001B[49m\u001B[38;5;241;43m*\u001B[39;49m\u001B[43margs\u001B[49m\u001B[43m,\u001B[49m\u001B[43m \u001B[49m\u001B[38;5;241;43m*\u001B[39;49m\u001B[38;5;241;43m*\u001B[39;49m\u001B[43mkwargs\u001B[49m\u001B[43m)\u001B[49m\n",
      "File \u001B[0;32m~/.pyenv/versions/mambaforge-4.10.1-4/envs/ih_DA_env/lib/python3.9/site-packages/pandas/core/frame.py:4954\u001B[0m, in \u001B[0;36mDataFrame.drop\u001B[0;34m(self, labels, axis, index, columns, level, inplace, errors)\u001B[0m\n\u001B[1;32m   4806\u001B[0m \u001B[38;5;129m@deprecate_nonkeyword_arguments\u001B[39m(version\u001B[38;5;241m=\u001B[39m\u001B[38;5;28;01mNone\u001B[39;00m, allowed_args\u001B[38;5;241m=\u001B[39m[\u001B[38;5;124m\"\u001B[39m\u001B[38;5;124mself\u001B[39m\u001B[38;5;124m\"\u001B[39m, \u001B[38;5;124m\"\u001B[39m\u001B[38;5;124mlabels\u001B[39m\u001B[38;5;124m\"\u001B[39m])\n\u001B[1;32m   4807\u001B[0m \u001B[38;5;28;01mdef\u001B[39;00m \u001B[38;5;21mdrop\u001B[39m(\n\u001B[1;32m   4808\u001B[0m     \u001B[38;5;28mself\u001B[39m,\n\u001B[0;32m   (...)\u001B[0m\n\u001B[1;32m   4815\u001B[0m     errors: \u001B[38;5;28mstr\u001B[39m \u001B[38;5;241m=\u001B[39m \u001B[38;5;124m\"\u001B[39m\u001B[38;5;124mraise\u001B[39m\u001B[38;5;124m\"\u001B[39m,\n\u001B[1;32m   4816\u001B[0m ):\n\u001B[1;32m   4817\u001B[0m     \u001B[38;5;124;03m\"\"\"\u001B[39;00m\n\u001B[1;32m   4818\u001B[0m \u001B[38;5;124;03m    Drop specified labels from rows or columns.\u001B[39;00m\n\u001B[1;32m   4819\u001B[0m \n\u001B[0;32m   (...)\u001B[0m\n\u001B[1;32m   4952\u001B[0m \u001B[38;5;124;03m            weight  1.0     0.8\u001B[39;00m\n\u001B[1;32m   4953\u001B[0m \u001B[38;5;124;03m    \"\"\"\u001B[39;00m\n\u001B[0;32m-> 4954\u001B[0m     \u001B[38;5;28;01mreturn\u001B[39;00m \u001B[38;5;28;43msuper\u001B[39;49m\u001B[43m(\u001B[49m\u001B[43m)\u001B[49m\u001B[38;5;241;43m.\u001B[39;49m\u001B[43mdrop\u001B[49m\u001B[43m(\u001B[49m\n\u001B[1;32m   4955\u001B[0m \u001B[43m        \u001B[49m\u001B[43mlabels\u001B[49m\u001B[38;5;241;43m=\u001B[39;49m\u001B[43mlabels\u001B[49m\u001B[43m,\u001B[49m\n\u001B[1;32m   4956\u001B[0m \u001B[43m        \u001B[49m\u001B[43maxis\u001B[49m\u001B[38;5;241;43m=\u001B[39;49m\u001B[43maxis\u001B[49m\u001B[43m,\u001B[49m\n\u001B[1;32m   4957\u001B[0m \u001B[43m        \u001B[49m\u001B[43mindex\u001B[49m\u001B[38;5;241;43m=\u001B[39;49m\u001B[43mindex\u001B[49m\u001B[43m,\u001B[49m\n\u001B[1;32m   4958\u001B[0m \u001B[43m        \u001B[49m\u001B[43mcolumns\u001B[49m\u001B[38;5;241;43m=\u001B[39;49m\u001B[43mcolumns\u001B[49m\u001B[43m,\u001B[49m\n\u001B[1;32m   4959\u001B[0m \u001B[43m        \u001B[49m\u001B[43mlevel\u001B[49m\u001B[38;5;241;43m=\u001B[39;49m\u001B[43mlevel\u001B[49m\u001B[43m,\u001B[49m\n\u001B[1;32m   4960\u001B[0m \u001B[43m        \u001B[49m\u001B[43minplace\u001B[49m\u001B[38;5;241;43m=\u001B[39;49m\u001B[43minplace\u001B[49m\u001B[43m,\u001B[49m\n\u001B[1;32m   4961\u001B[0m \u001B[43m        \u001B[49m\u001B[43merrors\u001B[49m\u001B[38;5;241;43m=\u001B[39;49m\u001B[43merrors\u001B[49m\u001B[43m,\u001B[49m\n\u001B[1;32m   4962\u001B[0m \u001B[43m    \u001B[49m\u001B[43m)\u001B[49m\n",
      "File \u001B[0;32m~/.pyenv/versions/mambaforge-4.10.1-4/envs/ih_DA_env/lib/python3.9/site-packages/pandas/core/generic.py:4267\u001B[0m, in \u001B[0;36mNDFrame.drop\u001B[0;34m(self, labels, axis, index, columns, level, inplace, errors)\u001B[0m\n\u001B[1;32m   4265\u001B[0m \u001B[38;5;28;01mfor\u001B[39;00m axis, labels \u001B[38;5;129;01min\u001B[39;00m axes\u001B[38;5;241m.\u001B[39mitems():\n\u001B[1;32m   4266\u001B[0m     \u001B[38;5;28;01mif\u001B[39;00m labels \u001B[38;5;129;01mis\u001B[39;00m \u001B[38;5;129;01mnot\u001B[39;00m \u001B[38;5;28;01mNone\u001B[39;00m:\n\u001B[0;32m-> 4267\u001B[0m         obj \u001B[38;5;241m=\u001B[39m \u001B[43mobj\u001B[49m\u001B[38;5;241;43m.\u001B[39;49m\u001B[43m_drop_axis\u001B[49m\u001B[43m(\u001B[49m\u001B[43mlabels\u001B[49m\u001B[43m,\u001B[49m\u001B[43m \u001B[49m\u001B[43maxis\u001B[49m\u001B[43m,\u001B[49m\u001B[43m \u001B[49m\u001B[43mlevel\u001B[49m\u001B[38;5;241;43m=\u001B[39;49m\u001B[43mlevel\u001B[49m\u001B[43m,\u001B[49m\u001B[43m \u001B[49m\u001B[43merrors\u001B[49m\u001B[38;5;241;43m=\u001B[39;49m\u001B[43merrors\u001B[49m\u001B[43m)\u001B[49m\n\u001B[1;32m   4269\u001B[0m \u001B[38;5;28;01mif\u001B[39;00m inplace:\n\u001B[1;32m   4270\u001B[0m     \u001B[38;5;28mself\u001B[39m\u001B[38;5;241m.\u001B[39m_update_inplace(obj)\n",
      "File \u001B[0;32m~/.pyenv/versions/mambaforge-4.10.1-4/envs/ih_DA_env/lib/python3.9/site-packages/pandas/core/generic.py:4311\u001B[0m, in \u001B[0;36mNDFrame._drop_axis\u001B[0;34m(self, labels, axis, level, errors, consolidate, only_slice)\u001B[0m\n\u001B[1;32m   4309\u001B[0m         new_axis \u001B[38;5;241m=\u001B[39m axis\u001B[38;5;241m.\u001B[39mdrop(labels, level\u001B[38;5;241m=\u001B[39mlevel, errors\u001B[38;5;241m=\u001B[39merrors)\n\u001B[1;32m   4310\u001B[0m     \u001B[38;5;28;01melse\u001B[39;00m:\n\u001B[0;32m-> 4311\u001B[0m         new_axis \u001B[38;5;241m=\u001B[39m \u001B[43maxis\u001B[49m\u001B[38;5;241;43m.\u001B[39;49m\u001B[43mdrop\u001B[49m\u001B[43m(\u001B[49m\u001B[43mlabels\u001B[49m\u001B[43m,\u001B[49m\u001B[43m \u001B[49m\u001B[43merrors\u001B[49m\u001B[38;5;241;43m=\u001B[39;49m\u001B[43merrors\u001B[49m\u001B[43m)\u001B[49m\n\u001B[1;32m   4312\u001B[0m     indexer \u001B[38;5;241m=\u001B[39m axis\u001B[38;5;241m.\u001B[39mget_indexer(new_axis)\n\u001B[1;32m   4314\u001B[0m \u001B[38;5;66;03m# Case for non-unique axis\u001B[39;00m\n\u001B[1;32m   4315\u001B[0m \u001B[38;5;28;01melse\u001B[39;00m:\n",
      "File \u001B[0;32m~/.pyenv/versions/mambaforge-4.10.1-4/envs/ih_DA_env/lib/python3.9/site-packages/pandas/core/indexes/base.py:6644\u001B[0m, in \u001B[0;36mIndex.drop\u001B[0;34m(self, labels, errors)\u001B[0m\n\u001B[1;32m   6642\u001B[0m \u001B[38;5;28;01mif\u001B[39;00m mask\u001B[38;5;241m.\u001B[39many():\n\u001B[1;32m   6643\u001B[0m     \u001B[38;5;28;01mif\u001B[39;00m errors \u001B[38;5;241m!=\u001B[39m \u001B[38;5;124m\"\u001B[39m\u001B[38;5;124mignore\u001B[39m\u001B[38;5;124m\"\u001B[39m:\n\u001B[0;32m-> 6644\u001B[0m         \u001B[38;5;28;01mraise\u001B[39;00m \u001B[38;5;167;01mKeyError\u001B[39;00m(\u001B[38;5;124mf\u001B[39m\u001B[38;5;124m\"\u001B[39m\u001B[38;5;132;01m{\u001B[39;00m\u001B[38;5;28mlist\u001B[39m(labels[mask])\u001B[38;5;132;01m}\u001B[39;00m\u001B[38;5;124m not found in axis\u001B[39m\u001B[38;5;124m\"\u001B[39m)\n\u001B[1;32m   6645\u001B[0m     indexer \u001B[38;5;241m=\u001B[39m indexer[\u001B[38;5;241m~\u001B[39mmask]\n\u001B[1;32m   6646\u001B[0m \u001B[38;5;28;01mreturn\u001B[39;00m \u001B[38;5;28mself\u001B[39m\u001B[38;5;241m.\u001B[39mdelete(indexer)\n",
      "\u001B[0;31mKeyError\u001B[0m: \"['address', 'year', 'day', 'n_day'] not found in axis\""
     ]
    }
   ],
   "source": [
    "X_past_df.drop(columns=['address','year','day','n_day'],axis=1,inplace=True)\n",
    "#X_df.drop(columns=['address','year','day','n_day'],axis=1,inplace=True)"
   ],
   "metadata": {
    "collapsed": false
   }
  },
  {
   "cell_type": "code",
   "execution_count": 58,
   "outputs": [],
   "source": [
    "# Create a sample object\n",
    "e_ds = Sampler(X_past_df)"
   ],
   "metadata": {
    "collapsed": false
   }
  },
  {
   "cell_type": "code",
   "execution_count": 59,
   "outputs": [],
   "source": [
    "e_ds.down_samp_rand(X_past_df, y_past, 0.05) # downsample using random resampling"
   ],
   "metadata": {
    "collapsed": false
   }
  },
  {
   "cell_type": "code",
   "execution_count": 60,
   "outputs": [],
   "source": [
    "e_ds.up_samp_smote(e_ds.X_train_rus, e_ds.y_train_rus, 0.75) # upsampling using SMOTE"
   ],
   "metadata": {
    "collapsed": false
   }
  },
  {
   "cell_type": "code",
   "execution_count": 61,
   "outputs": [
    {
     "data": {
      "text/plain": "0    57654\n1     2198\nName: label, dtype: int64"
     },
     "execution_count": 61,
     "metadata": {},
     "output_type": "execute_result"
    }
   ],
   "source": [
    "y_past.value_counts()"
   ],
   "metadata": {
    "collapsed": false
   }
  },
  {
   "cell_type": "code",
   "execution_count": 62,
   "outputs": [
    {
     "data": {
      "text/plain": "0    43960\n1    32970\nName: label, dtype: int64"
     },
     "execution_count": 62,
     "metadata": {},
     "output_type": "execute_result"
    }
   ],
   "source": [
    "e_ds.y_train_sm.value_counts()"
   ],
   "metadata": {
    "collapsed": false
   }
  },
  {
   "cell_type": "code",
   "execution_count": 63,
   "outputs": [],
   "source": [
    "tscv_splits = tscv.split(e_ds.X_train_sm)"
   ],
   "metadata": {
    "collapsed": false
   }
  },
  {
   "cell_type": "markdown",
   "source": [
    "# 5.0 Modeling"
   ],
   "metadata": {
    "collapsed": false
   }
  },
  {
   "cell_type": "code",
   "execution_count": 64,
   "outputs": [],
   "source": [
    "READ_STATE = False"
   ],
   "metadata": {
    "collapsed": false
   }
  },
  {
   "cell_type": "code",
   "execution_count": 65,
   "outputs": [],
   "source": [
    "models = {\n",
    "    \"sgd\": { \"estimator\": SGDClassifier(),\n",
    "             \"params\": {\n",
    "                 \"loss\" : [ \"log_loss\", \"perceptron\"],\n",
    "                 \"alpha\" : [0.0001, 0.001, 0.01, 0.1],\n",
    "                 \"penalty\" : [\"l2\", \"l1\", \"elasticnet\"],\n",
    "                 \"class_weight\" : ['balanced', None],}\n",
    "             },\n",
    "    \"rf\": { \"estimator\": RandomForestClassifier(),\n",
    "            \"params\": {\n",
    "                'max_depth' : [2,5,10,15],\n",
    "                'n_estimators' : [100, 500, 1000],\n",
    "                \"class_weight\" : ['balanced', None],}\n",
    "            },\n",
    "    \"xgb\": {\"estimator\": XGBClassifier(),\n",
    "            \"params\": {\n",
    "                'n_estimators': stats.randint(150, 1000),\n",
    "                'learning_rate': stats.uniform(0.01, 0.59),\n",
    "                'subsample': stats.uniform(0.3, 0.6),\n",
    "                'max_depth': [3, 4, 5, 6, 7],\n",
    "                'colsample_bytree': stats.uniform(0.5, 0.4),\n",
    "               # 'scale_pos_weight' : stats.uniform(estimate,estimate**2),\n",
    "                'min_child_weight': [1, 2, 3, 4],}\n",
    "            },\n",
    "    \"lsvc\": { \"estimator\": LinearSVC(),\n",
    "              \"params\": { }\n",
    "              },\n",
    "    \"svc\": { \"estimator\": SVC(),\n",
    "             \"params\": {\n",
    "                 'C': [0.1,1, 10, 100, 1000],\n",
    "                 'gamma': [1,0.1,0.01,0.001,0.0001],\n",
    "                 'kernel': ['rbf'],}\n",
    "             }\n",
    "}"
   ],
   "metadata": {
    "collapsed": false
   }
  },
  {
   "cell_type": "code",
   "execution_count": 66,
   "outputs": [
    {
     "data": {
      "text/plain": "        n_day                             address  year  day  length  \\\n286612   2360  1C4Ec8UDM1yFtg6814ugWkFuqco4Jt6BG8  2017  170       4   \n286543   2359  1EkKy1VTDt4trmqfjHg7TAyD197qFkLKQe  2017  169       4   \n286135   2356  1Gh1y1wS3w7VSakxEhz1Vww7uUoranotMP  2017  166     144   \n287432   2367  1EW8jcSsGQggozor7DH4XGfoYULJXhb95W  2017  177     144   \n286768   2361  16wwmMCmbSYUMc9FCQ37EsQpFshWFCNPe9  2017  171      38   \n...       ...                                 ...   ...  ...     ...   \n287724   2369  1Jcz5UyfbRfZadGXMWLbidQTibS6kKwRpB  2017  179      66   \n287869   2370  1PMSuz6KFyFQvg9mr931tKjYEJdvkqXB9C  2017  180      20   \n288054   2371  1LyzQdd6nv38bTgJaHNckxXe36AA5USSwm  2017  181     144   \n287988   2371  12kmpnJa4hEJp3BTttKgnGrr2etcFJWg3W  2017  181     144   \n287985   2371  15pVtiqNdszrR7bP5XcHJbyqHcxkk2vngb  2017  181     144   \n\n              weight  count  looped  neighbors        income  day_of_week  \n286612  1.000000e+00      1       0          2  3.808861e+07          0.0  \n286543  1.000000e+00      1       0          2  5.781221e+08          6.0  \n286135  3.458522e-01   2273       0          2  2.227944e+09          3.0  \n287432  1.736120e+00   6736       0          2  4.423958e+09          0.0  \n286768  6.250000e-02      1       0          2  3.000000e+08          1.0  \n...              ...    ...     ...        ...           ...          ...  \n287724  1.192093e-07      1       0          2  4.000000e+07          2.0  \n287869  3.906250e-03      1       0          2  4.000000e+07          3.0  \n288054  5.077596e-05   7573       0          2  4.000000e+07          4.0  \n287988  7.149385e-02   7544       0          2  5.000000e+07          4.0  \n287985  9.978938e-02   3649       0          2  4.000000e+07          4.0  \n\n[1030 rows x 11 columns]",
      "text/html": "<div>\n<style scoped>\n    .dataframe tbody tr th:only-of-type {\n        vertical-align: middle;\n    }\n\n    .dataframe tbody tr th {\n        vertical-align: top;\n    }\n\n    .dataframe thead th {\n        text-align: right;\n    }\n</style>\n<table border=\"1\" class=\"dataframe\">\n  <thead>\n    <tr style=\"text-align: right;\">\n      <th></th>\n      <th>n_day</th>\n      <th>address</th>\n      <th>year</th>\n      <th>day</th>\n      <th>length</th>\n      <th>weight</th>\n      <th>count</th>\n      <th>looped</th>\n      <th>neighbors</th>\n      <th>income</th>\n      <th>day_of_week</th>\n    </tr>\n  </thead>\n  <tbody>\n    <tr>\n      <th>286612</th>\n      <td>2360</td>\n      <td>1C4Ec8UDM1yFtg6814ugWkFuqco4Jt6BG8</td>\n      <td>2017</td>\n      <td>170</td>\n      <td>4</td>\n      <td>1.000000e+00</td>\n      <td>1</td>\n      <td>0</td>\n      <td>2</td>\n      <td>3.808861e+07</td>\n      <td>0.0</td>\n    </tr>\n    <tr>\n      <th>286543</th>\n      <td>2359</td>\n      <td>1EkKy1VTDt4trmqfjHg7TAyD197qFkLKQe</td>\n      <td>2017</td>\n      <td>169</td>\n      <td>4</td>\n      <td>1.000000e+00</td>\n      <td>1</td>\n      <td>0</td>\n      <td>2</td>\n      <td>5.781221e+08</td>\n      <td>6.0</td>\n    </tr>\n    <tr>\n      <th>286135</th>\n      <td>2356</td>\n      <td>1Gh1y1wS3w7VSakxEhz1Vww7uUoranotMP</td>\n      <td>2017</td>\n      <td>166</td>\n      <td>144</td>\n      <td>3.458522e-01</td>\n      <td>2273</td>\n      <td>0</td>\n      <td>2</td>\n      <td>2.227944e+09</td>\n      <td>3.0</td>\n    </tr>\n    <tr>\n      <th>287432</th>\n      <td>2367</td>\n      <td>1EW8jcSsGQggozor7DH4XGfoYULJXhb95W</td>\n      <td>2017</td>\n      <td>177</td>\n      <td>144</td>\n      <td>1.736120e+00</td>\n      <td>6736</td>\n      <td>0</td>\n      <td>2</td>\n      <td>4.423958e+09</td>\n      <td>0.0</td>\n    </tr>\n    <tr>\n      <th>286768</th>\n      <td>2361</td>\n      <td>16wwmMCmbSYUMc9FCQ37EsQpFshWFCNPe9</td>\n      <td>2017</td>\n      <td>171</td>\n      <td>38</td>\n      <td>6.250000e-02</td>\n      <td>1</td>\n      <td>0</td>\n      <td>2</td>\n      <td>3.000000e+08</td>\n      <td>1.0</td>\n    </tr>\n    <tr>\n      <th>...</th>\n      <td>...</td>\n      <td>...</td>\n      <td>...</td>\n      <td>...</td>\n      <td>...</td>\n      <td>...</td>\n      <td>...</td>\n      <td>...</td>\n      <td>...</td>\n      <td>...</td>\n      <td>...</td>\n    </tr>\n    <tr>\n      <th>287724</th>\n      <td>2369</td>\n      <td>1Jcz5UyfbRfZadGXMWLbidQTibS6kKwRpB</td>\n      <td>2017</td>\n      <td>179</td>\n      <td>66</td>\n      <td>1.192093e-07</td>\n      <td>1</td>\n      <td>0</td>\n      <td>2</td>\n      <td>4.000000e+07</td>\n      <td>2.0</td>\n    </tr>\n    <tr>\n      <th>287869</th>\n      <td>2370</td>\n      <td>1PMSuz6KFyFQvg9mr931tKjYEJdvkqXB9C</td>\n      <td>2017</td>\n      <td>180</td>\n      <td>20</td>\n      <td>3.906250e-03</td>\n      <td>1</td>\n      <td>0</td>\n      <td>2</td>\n      <td>4.000000e+07</td>\n      <td>3.0</td>\n    </tr>\n    <tr>\n      <th>288054</th>\n      <td>2371</td>\n      <td>1LyzQdd6nv38bTgJaHNckxXe36AA5USSwm</td>\n      <td>2017</td>\n      <td>181</td>\n      <td>144</td>\n      <td>5.077596e-05</td>\n      <td>7573</td>\n      <td>0</td>\n      <td>2</td>\n      <td>4.000000e+07</td>\n      <td>4.0</td>\n    </tr>\n    <tr>\n      <th>287988</th>\n      <td>2371</td>\n      <td>12kmpnJa4hEJp3BTttKgnGrr2etcFJWg3W</td>\n      <td>2017</td>\n      <td>181</td>\n      <td>144</td>\n      <td>7.149385e-02</td>\n      <td>7544</td>\n      <td>0</td>\n      <td>2</td>\n      <td>5.000000e+07</td>\n      <td>4.0</td>\n    </tr>\n    <tr>\n      <th>287985</th>\n      <td>2371</td>\n      <td>15pVtiqNdszrR7bP5XcHJbyqHcxkk2vngb</td>\n      <td>2017</td>\n      <td>181</td>\n      <td>144</td>\n      <td>9.978938e-02</td>\n      <td>3649</td>\n      <td>0</td>\n      <td>2</td>\n      <td>4.000000e+07</td>\n      <td>4.0</td>\n    </tr>\n  </tbody>\n</table>\n<p>1030 rows × 11 columns</p>\n</div>"
     },
     "execution_count": 66,
     "metadata": {},
     "output_type": "execute_result"
    }
   ],
   "source": [
    "X_future_down"
   ],
   "metadata": {
    "collapsed": false
   }
  },
  {
   "cell_type": "code",
   "execution_count": 67,
   "outputs": [],
   "source": [
    "X_future_df = transform(X_future_df)\n",
    "X_future_df.drop(columns=['address','year','day','n_day'],axis=1,inplace=True)"
   ],
   "metadata": {
    "collapsed": false
   }
  },
  {
   "cell_type": "code",
   "execution_count": 68,
   "outputs": [
    {
     "data": {
      "text/plain": "        n_day                             address  year  day  length  \\\n286612   2360  1C4Ec8UDM1yFtg6814ugWkFuqco4Jt6BG8  2017  170       4   \n286543   2359  1EkKy1VTDt4trmqfjHg7TAyD197qFkLKQe  2017  169       4   \n286135   2356  1Gh1y1wS3w7VSakxEhz1Vww7uUoranotMP  2017  166     144   \n287432   2367  1EW8jcSsGQggozor7DH4XGfoYULJXhb95W  2017  177     144   \n286768   2361  16wwmMCmbSYUMc9FCQ37EsQpFshWFCNPe9  2017  171      38   \n...       ...                                 ...   ...  ...     ...   \n287724   2369  1Jcz5UyfbRfZadGXMWLbidQTibS6kKwRpB  2017  179      66   \n287869   2370  1PMSuz6KFyFQvg9mr931tKjYEJdvkqXB9C  2017  180      20   \n288054   2371  1LyzQdd6nv38bTgJaHNckxXe36AA5USSwm  2017  181     144   \n287988   2371  12kmpnJa4hEJp3BTttKgnGrr2etcFJWg3W  2017  181     144   \n287985   2371  15pVtiqNdszrR7bP5XcHJbyqHcxkk2vngb  2017  181     144   \n\n              weight  count  looped  neighbors        income  day_of_week  \n286612  1.000000e+00      1       0          2  3.808861e+07          0.0  \n286543  1.000000e+00      1       0          2  5.781221e+08          6.0  \n286135  3.458522e-01   2273       0          2  2.227944e+09          3.0  \n287432  1.736120e+00   6736       0          2  4.423958e+09          0.0  \n286768  6.250000e-02      1       0          2  3.000000e+08          1.0  \n...              ...    ...     ...        ...           ...          ...  \n287724  1.192093e-07      1       0          2  4.000000e+07          2.0  \n287869  3.906250e-03      1       0          2  4.000000e+07          3.0  \n288054  5.077596e-05   7573       0          2  4.000000e+07          4.0  \n287988  7.149385e-02   7544       0          2  5.000000e+07          4.0  \n287985  9.978938e-02   3649       0          2  4.000000e+07          4.0  \n\n[1030 rows x 11 columns]",
      "text/html": "<div>\n<style scoped>\n    .dataframe tbody tr th:only-of-type {\n        vertical-align: middle;\n    }\n\n    .dataframe tbody tr th {\n        vertical-align: top;\n    }\n\n    .dataframe thead th {\n        text-align: right;\n    }\n</style>\n<table border=\"1\" class=\"dataframe\">\n  <thead>\n    <tr style=\"text-align: right;\">\n      <th></th>\n      <th>n_day</th>\n      <th>address</th>\n      <th>year</th>\n      <th>day</th>\n      <th>length</th>\n      <th>weight</th>\n      <th>count</th>\n      <th>looped</th>\n      <th>neighbors</th>\n      <th>income</th>\n      <th>day_of_week</th>\n    </tr>\n  </thead>\n  <tbody>\n    <tr>\n      <th>286612</th>\n      <td>2360</td>\n      <td>1C4Ec8UDM1yFtg6814ugWkFuqco4Jt6BG8</td>\n      <td>2017</td>\n      <td>170</td>\n      <td>4</td>\n      <td>1.000000e+00</td>\n      <td>1</td>\n      <td>0</td>\n      <td>2</td>\n      <td>3.808861e+07</td>\n      <td>0.0</td>\n    </tr>\n    <tr>\n      <th>286543</th>\n      <td>2359</td>\n      <td>1EkKy1VTDt4trmqfjHg7TAyD197qFkLKQe</td>\n      <td>2017</td>\n      <td>169</td>\n      <td>4</td>\n      <td>1.000000e+00</td>\n      <td>1</td>\n      <td>0</td>\n      <td>2</td>\n      <td>5.781221e+08</td>\n      <td>6.0</td>\n    </tr>\n    <tr>\n      <th>286135</th>\n      <td>2356</td>\n      <td>1Gh1y1wS3w7VSakxEhz1Vww7uUoranotMP</td>\n      <td>2017</td>\n      <td>166</td>\n      <td>144</td>\n      <td>3.458522e-01</td>\n      <td>2273</td>\n      <td>0</td>\n      <td>2</td>\n      <td>2.227944e+09</td>\n      <td>3.0</td>\n    </tr>\n    <tr>\n      <th>287432</th>\n      <td>2367</td>\n      <td>1EW8jcSsGQggozor7DH4XGfoYULJXhb95W</td>\n      <td>2017</td>\n      <td>177</td>\n      <td>144</td>\n      <td>1.736120e+00</td>\n      <td>6736</td>\n      <td>0</td>\n      <td>2</td>\n      <td>4.423958e+09</td>\n      <td>0.0</td>\n    </tr>\n    <tr>\n      <th>286768</th>\n      <td>2361</td>\n      <td>16wwmMCmbSYUMc9FCQ37EsQpFshWFCNPe9</td>\n      <td>2017</td>\n      <td>171</td>\n      <td>38</td>\n      <td>6.250000e-02</td>\n      <td>1</td>\n      <td>0</td>\n      <td>2</td>\n      <td>3.000000e+08</td>\n      <td>1.0</td>\n    </tr>\n    <tr>\n      <th>...</th>\n      <td>...</td>\n      <td>...</td>\n      <td>...</td>\n      <td>...</td>\n      <td>...</td>\n      <td>...</td>\n      <td>...</td>\n      <td>...</td>\n      <td>...</td>\n      <td>...</td>\n      <td>...</td>\n    </tr>\n    <tr>\n      <th>287724</th>\n      <td>2369</td>\n      <td>1Jcz5UyfbRfZadGXMWLbidQTibS6kKwRpB</td>\n      <td>2017</td>\n      <td>179</td>\n      <td>66</td>\n      <td>1.192093e-07</td>\n      <td>1</td>\n      <td>0</td>\n      <td>2</td>\n      <td>4.000000e+07</td>\n      <td>2.0</td>\n    </tr>\n    <tr>\n      <th>287869</th>\n      <td>2370</td>\n      <td>1PMSuz6KFyFQvg9mr931tKjYEJdvkqXB9C</td>\n      <td>2017</td>\n      <td>180</td>\n      <td>20</td>\n      <td>3.906250e-03</td>\n      <td>1</td>\n      <td>0</td>\n      <td>2</td>\n      <td>4.000000e+07</td>\n      <td>3.0</td>\n    </tr>\n    <tr>\n      <th>288054</th>\n      <td>2371</td>\n      <td>1LyzQdd6nv38bTgJaHNckxXe36AA5USSwm</td>\n      <td>2017</td>\n      <td>181</td>\n      <td>144</td>\n      <td>5.077596e-05</td>\n      <td>7573</td>\n      <td>0</td>\n      <td>2</td>\n      <td>4.000000e+07</td>\n      <td>4.0</td>\n    </tr>\n    <tr>\n      <th>287988</th>\n      <td>2371</td>\n      <td>12kmpnJa4hEJp3BTttKgnGrr2etcFJWg3W</td>\n      <td>2017</td>\n      <td>181</td>\n      <td>144</td>\n      <td>7.149385e-02</td>\n      <td>7544</td>\n      <td>0</td>\n      <td>2</td>\n      <td>5.000000e+07</td>\n      <td>4.0</td>\n    </tr>\n    <tr>\n      <th>287985</th>\n      <td>2371</td>\n      <td>15pVtiqNdszrR7bP5XcHJbyqHcxkk2vngb</td>\n      <td>2017</td>\n      <td>181</td>\n      <td>144</td>\n      <td>9.978938e-02</td>\n      <td>3649</td>\n      <td>0</td>\n      <td>2</td>\n      <td>4.000000e+07</td>\n      <td>4.0</td>\n    </tr>\n  </tbody>\n</table>\n<p>1030 rows × 11 columns</p>\n</div>"
     },
     "execution_count": 68,
     "metadata": {},
     "output_type": "execute_result"
    }
   ],
   "source": [
    "X_future_down"
   ],
   "metadata": {
    "collapsed": false
   }
  },
  {
   "cell_type": "code",
   "execution_count": 69,
   "outputs": [],
   "source": [
    "X_future_down = transform(X_future_down)"
   ],
   "metadata": {
    "collapsed": false
   }
  },
  {
   "cell_type": "code",
   "execution_count": 70,
   "outputs": [],
   "source": [
    "X_future_down.drop(columns=['address','year','day','n_day'],axis=1,inplace=True)"
   ],
   "metadata": {
    "collapsed": false
   }
  },
  {
   "cell_type": "code",
   "execution_count": 71,
   "outputs": [],
   "source": [
    "y_train_sm = e_ds.y_train_sm.sample(frac=1,random_state=RAND_STATE)\n",
    "X_train_sm = e_ds.X_train_sm.sample(frac=1,random_state=RAND_STATE)"
   ],
   "metadata": {
    "collapsed": false
   }
  },
  {
   "cell_type": "code",
   "execution_count": 72,
   "outputs": [
    {
     "data": {
      "text/plain": "15199    0\n4510     0\n69762    1\n32644    0\n16981    0\n        ..\n6265     0\n54886    1\n76820    1\n860      0\n15795    0\nName: label, Length: 76930, dtype: int64"
     },
     "execution_count": 72,
     "metadata": {},
     "output_type": "execute_result"
    }
   ],
   "source": [
    "y_train_sm"
   ],
   "metadata": {
    "collapsed": false
   }
  },
  {
   "cell_type": "code",
   "execution_count": 73,
   "outputs": [],
   "source": [
    "y_trains=[e_ds.y_train_sm.loc[x[1]] for x in tscv.split(e_ds.y_train_sm)]# useless unless we index from zero"
   ],
   "metadata": {
    "collapsed": false
   }
  },
  {
   "cell_type": "code",
   "execution_count": 74,
   "outputs": [
    {
     "data": {
      "text/plain": "1    12821\nName: label, dtype: int64"
     },
     "execution_count": 74,
     "metadata": {},
     "output_type": "execute_result"
    }
   ],
   "source": [
    "y_trains[3].value_counts()"
   ],
   "metadata": {
    "collapsed": false
   }
  },
  {
   "cell_type": "code",
   "execution_count": 75,
   "outputs": [
    {
     "name": "stdout",
     "output_type": "stream",
     "text": [
      "Fitting 5 folds for each of 5 candidates, totalling 25 fits\n",
      "{'penalty': 'l2', 'loss': 'log_loss', 'class_weight': 'balanced', 'alpha': 0.01}\n"
     ]
    },
    {
     "data": {
      "text/plain": "{'alpha': 0.01,\n 'average': False,\n 'class_weight': 'balanced',\n 'early_stopping': False,\n 'epsilon': 0.1,\n 'eta0': 0.0,\n 'fit_intercept': True,\n 'l1_ratio': 0.15,\n 'learning_rate': 'optimal',\n 'loss': 'log_loss',\n 'max_iter': 1000,\n 'n_iter_no_change': 5,\n 'n_jobs': None,\n 'penalty': 'l2',\n 'power_t': 0.5,\n 'random_state': 42,\n 'shuffle': True,\n 'tol': 0.001,\n 'validation_fraction': 0.1,\n 'verbose': 0,\n 'warm_start': False}"
     },
     "execution_count": 75,
     "metadata": {},
     "output_type": "execute_result"
    }
   ],
   "source": [
    "# Create model\n",
    "sgd_cl = SGDClassifier(random_state=RAND_STATE, max_iter=3000, learning_rate='optimal')\n",
    "sgd = Model(\n",
    "    X_train_sm, y_train_sm,\n",
    "    X_past_df, X_future_down,\n",
    "    sgd_cl, models['sgd']['params'], SGDClassifier,crss_vldtr=tscv)\n",
    "sgd.params"
   ],
   "metadata": {
    "collapsed": false
   }
  },
  {
   "cell_type": "code",
   "execution_count": 81,
   "outputs": [
    {
     "data": {
      "text/plain": "  Type  Accuracy  Precision    Recall  F1-Score\n0  trn  0.475807   0.053228  0.790719  0.099742\n0  tst  0.521359   0.045187  0.766667  0.085343",
      "text/html": "<div>\n<style scoped>\n    .dataframe tbody tr th:only-of-type {\n        vertical-align: middle;\n    }\n\n    .dataframe tbody tr th {\n        vertical-align: top;\n    }\n\n    .dataframe thead th {\n        text-align: right;\n    }\n</style>\n<table border=\"1\" class=\"dataframe\">\n  <thead>\n    <tr style=\"text-align: right;\">\n      <th></th>\n      <th>Type</th>\n      <th>Accuracy</th>\n      <th>Precision</th>\n      <th>Recall</th>\n      <th>F1-Score</th>\n    </tr>\n  </thead>\n  <tbody>\n    <tr>\n      <th>0</th>\n      <td>trn</td>\n      <td>0.475807</td>\n      <td>0.053228</td>\n      <td>0.790719</td>\n      <td>0.099742</td>\n    </tr>\n    <tr>\n      <th>0</th>\n      <td>tst</td>\n      <td>0.521359</td>\n      <td>0.045187</td>\n      <td>0.766667</td>\n      <td>0.085343</td>\n    </tr>\n  </tbody>\n</table>\n</div>"
     },
     "execution_count": 81,
     "metadata": {},
     "output_type": "execute_result"
    }
   ],
   "source": [
    "sgd.score(y_past,y_future_down)"
   ],
   "metadata": {
    "collapsed": false
   }
  },
  {
   "cell_type": "code",
   "execution_count": 77,
   "outputs": [
    {
     "data": {
      "text/plain": "{'penalty': 'l2',\n 'loss': 'log_loss',\n 'class_weight': 'balanced',\n 'alpha': 0.01}"
     },
     "execution_count": 77,
     "metadata": {},
     "output_type": "execute_result"
    }
   ],
   "source": [
    "sgd.best_params"
   ],
   "metadata": {
    "collapsed": false
   }
  },
  {
   "cell_type": "markdown",
   "source": [
    "Compare result to original features"
   ],
   "metadata": {
    "collapsed": false
   }
  },
  {
   "cell_type": "code",
   "execution_count": 78,
   "outputs": [
    {
     "data": {
      "text/plain": "<Figure size 1080x504 with 4 Axes>",
      "image/png": "[encoded data removed]"
     },
     "metadata": {
      "needs_background": "light"
     },
     "output_type": "display_data"
    }
   ],
   "source": [
    "sgd.conf_mat(y_past,y_future_down)"
   ],
   "metadata": {
    "collapsed": false
   }
  },
  {
   "cell_type": "code",
   "execution_count": 79,
   "outputs": [
    {
     "data": {
      "text/plain": "0    3641\n1      30\nName: label, dtype: int64"
     },
     "execution_count": 79,
     "metadata": {},
     "output_type": "execute_result"
    }
   ],
   "source": [
    "y_future.value_counts()"
   ],
   "metadata": {
    "collapsed": false
   }
  },
  {
   "cell_type": "code",
   "execution_count": 80,
   "outputs": [
    {
     "name": "stdout",
     "output_type": "stream",
     "text": [
      "Fitting 5 folds for each of 5 candidates, totalling 25 fits\n",
      "{'penalty': 'l2', 'loss': 'log_loss', 'class_weight': 'balanced', 'alpha': 0.01}\n"
     ]
    },
    {
     "data": {
      "text/plain": "{'alpha': 0.01,\n 'average': False,\n 'class_weight': 'balanced',\n 'early_stopping': False,\n 'epsilon': 0.1,\n 'eta0': 0.0,\n 'fit_intercept': True,\n 'l1_ratio': 0.15,\n 'learning_rate': 'optimal',\n 'loss': 'log_loss',\n 'max_iter': 1000,\n 'n_iter_no_change': 5,\n 'n_jobs': None,\n 'penalty': 'l2',\n 'power_t': 0.5,\n 'random_state': 42,\n 'shuffle': True,\n 'tol': 0.001,\n 'validation_fraction': 0.1,\n 'verbose': 0,\n 'warm_start': False}"
     },
     "execution_count": 80,
     "metadata": {},
     "output_type": "execute_result"
    }
   ],
   "source": [
    "sgd_cl = SGDClassifier(random_state=RAND_STATE, max_iter=3000, learning_rate='optimal')\n",
    "sgd = Model(\n",
    "    X_train_sm, y_train_sm,\n",
    "    X_past_df, X_future_down,\n",
    "    sgd_cl, models['sgd']['params'], SGDClassifier,crss_vldtr=tscv)\n",
    "sgd.params"
   ],
   "metadata": {
    "collapsed": false
   }
  },
  {
   "cell_type": "code",
   "execution_count": 82,
   "outputs": [],
   "source": [
    "from collections import Counter\n",
    "# because only 1.5% of our data-set contains positive datapoints\n",
    "counter = Counter(y_past)\n",
    "estimate = np.sqrt(counter[0] / counter[1])"
   ],
   "metadata": {
    "collapsed": false
   }
  },
  {
   "cell_type": "code",
   "execution_count": 83,
   "outputs": [],
   "source": [
    "#kf = KFold(n_splits=5,shuffle = True, random_state = RAND_STATE)\n",
    "\n",
    "# basic classifier constructor [for parameter search]\n",
    "xgb_clf = XGBClassifier(\n",
    "    objective = 'binary:logistic',\n",
    "    use_label_encoder=False,\n",
    "    #scale_pos_weight = estimate,\n",
    "    random_state = RAND_STATE,)\n",
    "\n",
    "\n",
    "xgb_params_in = {\n",
    "    'n_estimators': stats.randint(150, 1000),\n",
    "    'learning_rate': stats.uniform(0.01, 0.59),\n",
    "    'subsample': stats.uniform(0.3, 0.6),\n",
    "    'max_depth': [3, 4, 5, 6, 7],\n",
    "    'colsample_bytree': stats.uniform(0.5, 0.4),\n",
    "    #'scale_pos_weight' : stats.uniform(estimate,estimate**2),\n",
    "    'min_child_weight': [1, 2, 3, 4]}"
   ],
   "metadata": {
    "collapsed": false
   }
  },
  {
   "cell_type": "code",
   "execution_count": 84,
   "outputs": [],
   "source": [
    "X_train_e = X_past_df.to_numpy()\n",
    "y_train_np = np.ravel(y_past.to_numpy()).astype(np.int32)"
   ],
   "metadata": {
    "collapsed": false
   }
  },
  {
   "cell_type": "code",
   "execution_count": 85,
   "outputs": [
    {
     "name": "stdout",
     "output_type": "stream",
     "text": [
      "Fitting 5 folds for each of 5 candidates, totalling 25 fits\n"
     ]
    },
    {
     "name": "stderr",
     "output_type": "stream",
     "text": [
      "/Users/antares/.pyenv/versions/mambaforge-4.10.1-4/envs/ih_DA_env/lib/python3.9/site-packages/xgboost/compat.py:36: FutureWarning: pandas.Int64Index is deprecated and will be removed from pandas in a future version. Use pandas.Index with the appropriate dtype instead.\n",
      "  from pandas import MultiIndex, Int64Index\n",
      "/Users/antares/.pyenv/versions/mambaforge-4.10.1-4/envs/ih_DA_env/lib/python3.9/site-packages/xgboost/compat.py:36: FutureWarning: pandas.Int64Index is deprecated and will be removed from pandas in a future version. Use pandas.Index with the appropriate dtype instead.\n",
      "  from pandas import MultiIndex, Int64Index\n",
      "/Users/antares/.pyenv/versions/mambaforge-4.10.1-4/envs/ih_DA_env/lib/python3.9/site-packages/xgboost/compat.py:36: FutureWarning: pandas.Int64Index is deprecated and will be removed from pandas in a future version. Use pandas.Index with the appropriate dtype instead.\n",
      "  from pandas import MultiIndex, Int64Index\n",
      "/Users/antares/.pyenv/versions/mambaforge-4.10.1-4/envs/ih_DA_env/lib/python3.9/site-packages/xgboost/compat.py:36: FutureWarning: pandas.Int64Index is deprecated and will be removed from pandas in a future version. Use pandas.Index with the appropriate dtype instead.\n",
      "  from pandas import MultiIndex, Int64Index\n",
      "/Users/antares/.pyenv/versions/mambaforge-4.10.1-4/envs/ih_DA_env/lib/python3.9/site-packages/xgboost/compat.py:36: FutureWarning: pandas.Int64Index is deprecated and will be removed from pandas in a future version. Use pandas.Index with the appropriate dtype instead.\n",
      "  from pandas import MultiIndex, Int64Index\n",
      "/Users/antares/.pyenv/versions/mambaforge-4.10.1-4/envs/ih_DA_env/lib/python3.9/site-packages/xgboost/compat.py:36: FutureWarning: pandas.Int64Index is deprecated and will be removed from pandas in a future version. Use pandas.Index with the appropriate dtype instead.\n",
      "  from pandas import MultiIndex, Int64Index\n",
      "/Users/antares/.pyenv/versions/mambaforge-4.10.1-4/envs/ih_DA_env/lib/python3.9/site-packages/xgboost/compat.py:36: FutureWarning: pandas.Int64Index is deprecated and will be removed from pandas in a future version. Use pandas.Index with the appropriate dtype instead.\n",
      "  from pandas import MultiIndex, Int64Index\n",
      "/Users/antares/.pyenv/versions/mambaforge-4.10.1-4/envs/ih_DA_env/lib/python3.9/site-packages/xgboost/compat.py:36: FutureWarning: pandas.Int64Index is deprecated and will be removed from pandas in a future version. Use pandas.Index with the appropriate dtype instead.\n",
      "  from pandas import MultiIndex, Int64Index\n"
     ]
    },
    {
     "name": "stdout",
     "output_type": "stream",
     "text": [
      "[01:47:19] WARNING: /Users/runner/miniforge3/conda-bld/xgboost-split_1645117899018/work/src/learner.cc:1115: Starting in XGBoost 1.3.0, the default evaluation metric used with the objective 'binary:logistic' was changed from 'error' to 'logloss'. Explicitly set eval_metric if you'd like to restore the old behavior.\n",
      "{'colsample_bytree': 0.649816047538945, 'learning_rate': 0.5709214407818505, 'max_depth': 5, 'min_child_weight': 4, 'n_estimators': 850, 'subsample': 0.6581100947678922}\n",
      "[01:47:29] WARNING: /Users/runner/miniforge3/conda-bld/xgboost-split_1645117899018/work/src/learner.cc:1115: Starting in XGBoost 1.3.0, the default evaluation metric used with the objective 'binary:logistic' was changed from 'error' to 'logloss'. Explicitly set eval_metric if you'd like to restore the old behavior.\n"
     ]
    }
   ],
   "source": [
    "xgb = Model(X_train_sm.to_numpy(), y_train_sm.to_numpy(),\n",
    "    #X_train_e, y_train_np,\n",
    "        X_train_e, X_future_down.to_numpy(),\n",
    "        xgb_clf, xgb_params_in, XGBClassifier, crss_vldtr=tscv)"
   ],
   "metadata": {
    "collapsed": false
   }
  },
  {
   "cell_type": "code",
   "execution_count": 86,
   "outputs": [
    {
     "data": {
      "text/plain": "                 feature importance\nday_of_week_6.0            0.176312\nneighbors                  0.148482\nlooped                     0.097293\nlength                     0.091285\nday_of_week_5.0            0.090564\nincome                     0.086678\ncount                      0.070211\nweight                     0.047956\nday_of_week_3.0            0.045025\nday_of_week_0.0            0.038456\nday_of_week_2.0            0.037479\nday_of_week_4.0            0.036187\nday_of_week_1.0            0.034073",
      "text/html": "<div>\n<style scoped>\n    .dataframe tbody tr th:only-of-type {\n        vertical-align: middle;\n    }\n\n    .dataframe tbody tr th {\n        vertical-align: top;\n    }\n\n    .dataframe thead th {\n        text-align: right;\n    }\n</style>\n<table border=\"1\" class=\"dataframe\">\n  <thead>\n    <tr style=\"text-align: right;\">\n      <th></th>\n      <th>feature importance</th>\n    </tr>\n  </thead>\n  <tbody>\n    <tr>\n      <th>day_of_week_6.0</th>\n      <td>0.176312</td>\n    </tr>\n    <tr>\n      <th>neighbors</th>\n      <td>0.148482</td>\n    </tr>\n    <tr>\n      <th>looped</th>\n      <td>0.097293</td>\n    </tr>\n    <tr>\n      <th>length</th>\n      <td>0.091285</td>\n    </tr>\n    <tr>\n      <th>day_of_week_5.0</th>\n      <td>0.090564</td>\n    </tr>\n    <tr>\n      <th>income</th>\n      <td>0.086678</td>\n    </tr>\n    <tr>\n      <th>count</th>\n      <td>0.070211</td>\n    </tr>\n    <tr>\n      <th>weight</th>\n      <td>0.047956</td>\n    </tr>\n    <tr>\n      <th>day_of_week_3.0</th>\n      <td>0.045025</td>\n    </tr>\n    <tr>\n      <th>day_of_week_0.0</th>\n      <td>0.038456</td>\n    </tr>\n    <tr>\n      <th>day_of_week_2.0</th>\n      <td>0.037479</td>\n    </tr>\n    <tr>\n      <th>day_of_week_4.0</th>\n      <td>0.036187</td>\n    </tr>\n    <tr>\n      <th>day_of_week_1.0</th>\n      <td>0.034073</td>\n    </tr>\n  </tbody>\n</table>\n</div>"
     },
     "execution_count": 86,
     "metadata": {},
     "output_type": "execute_result"
    }
   ],
   "source": [
    "xgb_feat_ranks_df = pd.DataFrame(np.ravel(xgb.tuned.feature_importances_),index=X_past_df.columns)\n",
    "xgb_feat_ranks_df.columns = ['feature importance']\n",
    "xgb_feat_ranks_df.sort_values(by='feature importance', ascending=False)"
   ],
   "metadata": {
    "collapsed": false
   }
  },
  {
   "cell_type": "code",
   "execution_count": 87,
   "outputs": [
    {
     "data": {
      "text/plain": "  Type  Accuracy  Precision    Recall  F1-Score\n0  trn  0.936493   0.345121  0.812557  0.484470\n0  tst  0.190291   0.031469  0.900000  0.060811",
      "text/html": "<div>\n<style scoped>\n    .dataframe tbody tr th:only-of-type {\n        vertical-align: middle;\n    }\n\n    .dataframe tbody tr th {\n        vertical-align: top;\n    }\n\n    .dataframe thead th {\n        text-align: right;\n    }\n</style>\n<table border=\"1\" class=\"dataframe\">\n  <thead>\n    <tr style=\"text-align: right;\">\n      <th></th>\n      <th>Type</th>\n      <th>Accuracy</th>\n      <th>Precision</th>\n      <th>Recall</th>\n      <th>F1-Score</th>\n    </tr>\n  </thead>\n  <tbody>\n    <tr>\n      <th>0</th>\n      <td>trn</td>\n      <td>0.936493</td>\n      <td>0.345121</td>\n      <td>0.812557</td>\n      <td>0.484470</td>\n    </tr>\n    <tr>\n      <th>0</th>\n      <td>tst</td>\n      <td>0.190291</td>\n      <td>0.031469</td>\n      <td>0.900000</td>\n      <td>0.060811</td>\n    </tr>\n  </tbody>\n</table>\n</div>"
     },
     "execution_count": 87,
     "metadata": {},
     "output_type": "execute_result"
    }
   ],
   "source": [
    "xgb.score(y_past,y_future_down)"
   ],
   "metadata": {
    "collapsed": false
   }
  },
  {
   "cell_type": "code",
   "execution_count": null,
   "outputs": [],
   "source": [],
   "metadata": {
    "collapsed": false
   }
  }
 ],
 "metadata": {
  "kernelspec": {
   "display_name": "Python 3 (ipykernel)",
   "language": "python",
   "name": "python3"
  },
  "language_info": {
   "codemirror_mode": {
    "name": "ipython",
    "version": 3
   },
   "file_extension": ".py",
   "mimetype": "text/x-python",
   "name": "python",
   "nbconvert_exporter": "python",
   "pygments_lexer": "ipython3",
   "version": "3.9.0"
  },
  "toc": {
   "base_numbering": 1,
   "nav_menu": {},
   "number_sections": false,
   "sideBar": true,
   "skip_h1_title": false,
   "title_cell": "Table of Contents",
   "title_sidebar": "Contents",
   "toc_cell": false,
   "toc_position": {
    "height": "calc(100% - 180px)",
    "left": "10px",
    "top": "150px",
    "width": "413.6px"
   },
   "toc_section_display": true,
   "toc_window_display": true
  },
  "varInspector": {
   "cols": {
    "lenName": 16,
    "lenType": 16,
    "lenVar": 40
   },
   "kernels_config": {
    "python": {
     "delete_cmd_postfix": "",
     "delete_cmd_prefix": "del ",
     "library": "var_list.py",
     "varRefreshCmd": "print(var_dic_list())"
    },
    "r": {
     "delete_cmd_postfix": ") ",
     "delete_cmd_prefix": "rm(",
     "library": "var_list.r",
     "varRefreshCmd": "cat(var_dic_list()) "
    }
   },
   "types_to_exclude": [
    "module",
    "function",
    "builtin_function_or_method",
    "instance",
    "_Feature"
   ],
   "window_display": false
  }
 },
 "nbformat": 4,
 "nbformat_minor": 5
}
