{
 "cells": [
  {
   "cell_type": "markdown",
   "id": "6f6fa43a",
   "metadata": {
    "heading_collapsed": true
   },
   "source": [
    "# 0.0 Table of Contents\n",
    "\n",
    "1. [Introduction](#1.0-Introduction)\n",
    "\n",
    "2. [Feature Analysis](#2.0-Feature-Analysis)"
   ]
  },
  {
   "cell_type": "markdown",
   "id": "86fd8be8",
   "metadata": {},
   "source": [
    "# 1.0 Introduction\n",
    " "
   ]
  },
  {
   "cell_type": "markdown",
   "id": "48a0c01d",
   "metadata": {},
   "source": [
    "### 1.1 Project -  Binary classification of bitcoin addresses\n",
    "\n",
    "-  **GOAL:** to predict whether an address has been the recipient of ransomware coins. \n",
    "\n",
    "-  **DATA:**  Data is time series (24hr chunks) derived from the topological and geometrical properties of the bitcoin network.\n",
    "\n",
    "### 1.2 Basics\n",
    "\n",
    "- Ransomware is a rogue compute code that encrypts the victim's filesystem unless money is paid to the attacker for decryption. \n",
    "\n",
    "- Bitcoin is often used for these payments because it provides a semi-anonymous transaction method.  \n",
    "\n",
    "- The dataset was taken from the UCI Machine Learning Repository. It contains labelled data of addresses according to whether they have been involved in Ransomware. The data is from 2009 January to 2018 December. \n",
    "- Link to the data-set: [click here](https://archive.ics.uci.edu/ml/datasets/BitcoinHeistRansomwareAddressDataset)\n",
    "\n",
    "### 1.2.0 Breakdown\n",
    "\n",
    "---\n",
    "**\"starter transactions\"**: transactions which are spent outputs from the  previous time window <n>\n",
    "\n",
    "Features:\n",
    "\n",
    "- The **address** is a public BC address which can receive and send bitcoins.        \n",
    "- The **income** of an address $a$ is the total amount of coins output to it measured in Satoshis (1 millionth of a BC).\n",
    "- The number of (in) **neighbors** of an address $a$  is the number of transactions which\n",
    "have $a$ as one of its output addresses.\n",
    "- The **weight** of an address is the sum of the fraction of *coins* that come from a starter transaction and merge at the address. Weight quantifies the merge behavior (i.e., the transaction has more input addresses than output addresses), where coins\n",
    "in multiple addresses are each passed through a succession of\n",
    "merging transactions and accumulated in a final address.\n",
    "- The **length** of an address $a$ is the number of non-starter transactions connected to $a$ on the longest chain.  A length of zero implies that the address is the recipient of starter transaction.\n",
    "- The **count** of an address $a$ is the number of starter transactions\n",
    "which are connected to $a$ in a chain, where a chain is\n",
    "defined as an acyclic directed path originating from a starter\n",
    "transaction and ending at address $a$. Count captures\n",
    "information about the number of transactions, whereas weight\n",
    " gives information about the amount of coins.\n",
    "- **looped** is the number of starter transactions connected to $a$ by more than one path (chain). \n",
    "    \n",
    "       \n",
    "<n>\n",
    "Engineered/derived features:\n",
    "    \n",
    "- bc_income = boxcox of income\n",
    "    \n",
    "- bc_length = boxcox of length\n",
    "    \n",
    "- yeo_weight = yeo of weight\n",
    "   \n",
    "- logbc_n_address = boxcox log of address\n",
    "\n",
    "- bc_neighbors = box of neighbors\n",
    "   \n",
    "- sig_looped = sigmoid of looped\n",
    "    \n",
    "- log_count = log of count\n",
    "   \n",
    "- day_of_week = {'Monday':0,...,'Sunday': 6}"
   ]
  },
  {
   "cell_type": "markdown",
   "id": "10c7352c",
   "metadata": {},
   "source": [
    "### 1.3 Packages and helper functions"
   ]
  },
  {
   "cell_type": "code",
   "execution_count": 1,
   "id": "b142e4c0",
   "metadata": {
    "ExecuteTime": {
     "end_time": "2022-07-28T12:57:31.040703Z",
     "start_time": "2022-07-28T12:57:30.319897Z"
    }
   },
   "outputs": [
    {
     "name": "stderr",
     "output_type": "stream",
     "text": [
      "/Users/antares/.pyenv/versions/mambaforge-4.10.1-4/envs/ih_DA_env/lib/python3.9/site-packages/xgboost/compat.py:36: FutureWarning: pandas.Int64Index is deprecated and will be removed from pandas in a future version. Use pandas.Index with the appropriate dtype instead.\n",
      "  from pandas import MultiIndex, Int64Index\n"
     ]
    }
   ],
   "source": [
    "import numpy as np\n",
    "import matplotlib\n",
    "import warnings\n",
    "\n",
    "from sklearn.linear_model import SGDClassifier\n",
    "from xgboost import XGBClassifier\n",
    "from sklearn.svm import SVC, LinearSVC\n",
    "from IPython.core.interactiveshell import InteractiveShell\n",
    "InteractiveShell.ast_node_interactivity = 'all'\n",
    "warnings.filterwarnings(\"ignore\",category=matplotlib.cbook.mplDeprecation)\n",
    "warnings.filterwarnings(\"ignore\", category=UserWarning)\n",
    "_ = np.seterr(over='ignore')\n",
    "#from pretty_confusion_matrix import plot_confusion_matrix_from_data as conf_matrix\n",
    "warnings.simplefilter(action='ignore', category=FutureWarning)\n",
    "\n",
    "from heist_tools import *\n"
   ]
  },
  {
   "cell_type": "code",
   "execution_count": 2,
   "outputs": [],
   "source": [
    "pd.options.mode.chained_assignment = None  # default='warn'"
   ],
   "metadata": {
    "collapsed": false
   }
  },
  {
   "cell_type": "code",
   "execution_count": 3,
   "id": "7302e378",
   "metadata": {
    "ExecuteTime": {
     "end_time": "2022-07-28T12:57:33.105095Z",
     "start_time": "2022-07-28T12:57:33.100101Z"
    }
   },
   "outputs": [],
   "source": [
    "RAND_STATE  = 42\n",
    "SPLIT_RATIO = 0.23\n",
    "SAVE_TEST_TRAIN = False\n",
    "READ_STATE = False\n",
    "DS_FRAC = .12\n",
    "NF = 7"
   ]
  },
  {
   "cell_type": "markdown",
   "id": "2455c471",
   "metadata": {},
   "source": [
    "### 1.4 Importing data"
   ]
  },
  {
   "cell_type": "code",
   "execution_count": 4,
   "outputs": [],
   "source": [
    "dft = pd.read_csv('dft.csv')"
   ],
   "metadata": {
    "collapsed": false
   }
  },
  {
   "cell_type": "code",
   "execution_count": 5,
   "id": "c6001d1c",
   "metadata": {
    "ExecuteTime": {
     "end_time": "2022-07-28T12:57:40.554547Z",
     "start_time": "2022-07-28T12:57:38.368467Z"
    }
   },
   "outputs": [
    {
     "data": {
      "text/plain": "(350004, 10)"
     },
     "execution_count": 5,
     "metadata": {},
     "output_type": "execute_result"
    }
   ],
   "source": [
    "df = pd.read_csv('data/BitcoinHeistData.csv')\n",
    "df = df.sample(frac=DS_FRAC, axis=0,random_state=RAND_STATE) # take a sample portion of the data\n",
    "\n",
    "\n",
    "#dft = df.copy()\n",
    "ROWS = df.shape[0]\n",
    "COLS = df.shape[1]\n",
    "ROWS,COLS\n"
   ]
  },
  {
   "cell_type": "code",
   "execution_count": 6,
   "outputs": [
    {
     "data": {
      "text/plain": "         n_day                             address  year  day  length  \\\n2667698   2637  15DQFhP5R7ZeaBS9Ute7NzrYVBFSH1Z2kZ  2018   82       8   \n2013400   1982  3FhUXgmVecach9dZ59JK1yBLEcr9JsvJXZ  2016  157       2   \n2704440   2673  3DpHZaCtj88yaXUtajYnYLb8xgN15K8fnw  2018  118     144   \n1650833   1620  1G6doAKXpDsnsdSA1wgh7jfAnkaPi49M4y  2015  160     144   \n1586811   1556   175gAXqbkq4nho268FZxoBZ7TCCZWzWcg  2015   96     128   \n...        ...                                 ...   ...  ...     ...   \n2796843   2766  3GATJRb9VFCDRe8wQodrNvUouTWGwjLmhM  2018  211      10   \n1036846   1006  18JuSPFSb4f1iWgeMenS6kFeRw2FYDX1kz  2013  276       4   \n1932590   1901  1KSjpKdmpFtbLQqbhCoQ8g127AzGq8CjaY  2016   76     144   \n730452     699  1A3AQAvJLVqne7ud7JT6nb3n1gkhpz7DuT  2012  334       0   \n1063408   1032  1MfphSj17CXv6EkUU2siqMTUzV71DZbi2V  2013  302       0   \n\n           weight  count  looped  neighbors        income  label  \n2667698  1.311111      3       0          2  5.772641e+08  white  \n2013400  0.025000     44       0          1  1.000000e+08  white  \n2704440  3.619217   5991    5991          2  2.999500e+08  white  \n1650833  0.000484   3452    3049          2  2.990000e+08  white  \n1586811  0.625000      2       0          2  4.000000e+07  white  \n...           ...    ...     ...        ...           ...    ...  \n2796843  0.125000      1       0          2  2.600785e+10  white  \n1036846  0.166667      1       0          2  3.012661e+08  white  \n1932590  0.002160   3928    3809          2  1.213316e+08  white  \n730452   1.000000      1       0          1  4.997700e+08  white  \n1063408  1.000000      1       0          2  2.488927e+09  white  \n\n[350004 rows x 11 columns]",
      "text/html": "<div>\n<style scoped>\n    .dataframe tbody tr th:only-of-type {\n        vertical-align: middle;\n    }\n\n    .dataframe tbody tr th {\n        vertical-align: top;\n    }\n\n    .dataframe thead th {\n        text-align: right;\n    }\n</style>\n<table border=\"1\" class=\"dataframe\">\n  <thead>\n    <tr style=\"text-align: right;\">\n      <th></th>\n      <th>n_day</th>\n      <th>address</th>\n      <th>year</th>\n      <th>day</th>\n      <th>length</th>\n      <th>weight</th>\n      <th>count</th>\n      <th>looped</th>\n      <th>neighbors</th>\n      <th>income</th>\n      <th>label</th>\n    </tr>\n  </thead>\n  <tbody>\n    <tr>\n      <th>2667698</th>\n      <td>2637</td>\n      <td>15DQFhP5R7ZeaBS9Ute7NzrYVBFSH1Z2kZ</td>\n      <td>2018</td>\n      <td>82</td>\n      <td>8</td>\n      <td>1.311111</td>\n      <td>3</td>\n      <td>0</td>\n      <td>2</td>\n      <td>5.772641e+08</td>\n      <td>white</td>\n    </tr>\n    <tr>\n      <th>2013400</th>\n      <td>1982</td>\n      <td>3FhUXgmVecach9dZ59JK1yBLEcr9JsvJXZ</td>\n      <td>2016</td>\n      <td>157</td>\n      <td>2</td>\n      <td>0.025000</td>\n      <td>44</td>\n      <td>0</td>\n      <td>1</td>\n      <td>1.000000e+08</td>\n      <td>white</td>\n    </tr>\n    <tr>\n      <th>2704440</th>\n      <td>2673</td>\n      <td>3DpHZaCtj88yaXUtajYnYLb8xgN15K8fnw</td>\n      <td>2018</td>\n      <td>118</td>\n      <td>144</td>\n      <td>3.619217</td>\n      <td>5991</td>\n      <td>5991</td>\n      <td>2</td>\n      <td>2.999500e+08</td>\n      <td>white</td>\n    </tr>\n    <tr>\n      <th>1650833</th>\n      <td>1620</td>\n      <td>1G6doAKXpDsnsdSA1wgh7jfAnkaPi49M4y</td>\n      <td>2015</td>\n      <td>160</td>\n      <td>144</td>\n      <td>0.000484</td>\n      <td>3452</td>\n      <td>3049</td>\n      <td>2</td>\n      <td>2.990000e+08</td>\n      <td>white</td>\n    </tr>\n    <tr>\n      <th>1586811</th>\n      <td>1556</td>\n      <td>175gAXqbkq4nho268FZxoBZ7TCCZWzWcg</td>\n      <td>2015</td>\n      <td>96</td>\n      <td>128</td>\n      <td>0.625000</td>\n      <td>2</td>\n      <td>0</td>\n      <td>2</td>\n      <td>4.000000e+07</td>\n      <td>white</td>\n    </tr>\n    <tr>\n      <th>...</th>\n      <td>...</td>\n      <td>...</td>\n      <td>...</td>\n      <td>...</td>\n      <td>...</td>\n      <td>...</td>\n      <td>...</td>\n      <td>...</td>\n      <td>...</td>\n      <td>...</td>\n      <td>...</td>\n    </tr>\n    <tr>\n      <th>2796843</th>\n      <td>2766</td>\n      <td>3GATJRb9VFCDRe8wQodrNvUouTWGwjLmhM</td>\n      <td>2018</td>\n      <td>211</td>\n      <td>10</td>\n      <td>0.125000</td>\n      <td>1</td>\n      <td>0</td>\n      <td>2</td>\n      <td>2.600785e+10</td>\n      <td>white</td>\n    </tr>\n    <tr>\n      <th>1036846</th>\n      <td>1006</td>\n      <td>18JuSPFSb4f1iWgeMenS6kFeRw2FYDX1kz</td>\n      <td>2013</td>\n      <td>276</td>\n      <td>4</td>\n      <td>0.166667</td>\n      <td>1</td>\n      <td>0</td>\n      <td>2</td>\n      <td>3.012661e+08</td>\n      <td>white</td>\n    </tr>\n    <tr>\n      <th>1932590</th>\n      <td>1901</td>\n      <td>1KSjpKdmpFtbLQqbhCoQ8g127AzGq8CjaY</td>\n      <td>2016</td>\n      <td>76</td>\n      <td>144</td>\n      <td>0.002160</td>\n      <td>3928</td>\n      <td>3809</td>\n      <td>2</td>\n      <td>1.213316e+08</td>\n      <td>white</td>\n    </tr>\n    <tr>\n      <th>730452</th>\n      <td>699</td>\n      <td>1A3AQAvJLVqne7ud7JT6nb3n1gkhpz7DuT</td>\n      <td>2012</td>\n      <td>334</td>\n      <td>0</td>\n      <td>1.000000</td>\n      <td>1</td>\n      <td>0</td>\n      <td>1</td>\n      <td>4.997700e+08</td>\n      <td>white</td>\n    </tr>\n    <tr>\n      <th>1063408</th>\n      <td>1032</td>\n      <td>1MfphSj17CXv6EkUU2siqMTUzV71DZbi2V</td>\n      <td>2013</td>\n      <td>302</td>\n      <td>0</td>\n      <td>1.000000</td>\n      <td>1</td>\n      <td>0</td>\n      <td>2</td>\n      <td>2.488927e+09</td>\n      <td>white</td>\n    </tr>\n  </tbody>\n</table>\n<p>350004 rows × 11 columns</p>\n</div>"
     },
     "execution_count": 6,
     "metadata": {},
     "output_type": "execute_result"
    }
   ],
   "source": [
    "dft"
   ],
   "metadata": {
    "collapsed": false
   }
  },
  {
   "cell_type": "code",
   "execution_count": 7,
   "outputs": [
    {
     "data": {
      "text/plain": "white                          345060\npaduaCryptoWall                  1476\nmontrealCryptoLocker             1144\nprincetonCerber                  1083\nprincetonLocky                    785\nmontrealCryptXXX                  293\nmontrealDMALockerv3                51\nmontrealNoobCrypt                  45\nmontrealDMALocker                  26\nmontrealSamSam                     11\nmontrealGlobe                       7\nmontrealCryptoTorLocker2015         5\nmontrealGlobeImposter               5\nmontrealWannaCry                    2\nmontrealVenusLocker                 2\nmontrealCryptConsole                2\nmontrealSam                         1\nmontrealFlyper                      1\nmontrealAPT                         1\nmontrealXLocker                     1\nmontrealEDA2                        1\nmontrealJigSaw                      1\nmontrealRazy                        1\nName: label, dtype: int64"
     },
     "execution_count": 7,
     "metadata": {},
     "output_type": "execute_result"
    }
   ],
   "source": [
    "df.label.value_counts()"
   ],
   "metadata": {
    "collapsed": false
   }
  },
  {
   "cell_type": "code",
   "execution_count": 8,
   "id": "a328e72d",
   "metadata": {
    "ExecuteTime": {
     "end_time": "2022-07-28T12:57:41.548063Z",
     "start_time": "2022-07-28T12:57:40.575566Z"
    }
   },
   "outputs": [
    {
     "data": {
      "text/plain": "white                  345060\nCryptoWall               1476\nCryptoLocker             1144\nCerber                   1083\nLocky                     785\nCryptXXX                  293\nDMALockerv3                51\nNoobCrypt                  45\nDMALocker                  26\nSamSam                     11\nGlobe                       7\nCryptoTorLocker2015         5\nGlobeImposter               5\nWannaCry                    2\nVenusLocker                 2\nCryptConsole                2\nSam                         1\nFlyper                      1\nAPT                         1\nXLocker                     1\nEDA2                        1\nJigSaw                      1\nRazy                        1\nName: label, dtype: int64"
     },
     "execution_count": 8,
     "metadata": {},
     "output_type": "execute_result"
    }
   ],
   "source": [
    "# removing the prefix on some of the labels\n",
    "study_origins = [\"princeton\",\"padua\",\"montreal\"] #\n",
    "for r in study_origins:\n",
    "    dft['label']=dft['label'].str.replace(r,\"\")\n",
    "    df['label']=df['label'].str.replace(r,\"\")\n",
    "del study_origins\n",
    "df.label.value_counts()"
   ]
  },
  {
   "cell_type": "code",
   "execution_count": 9,
   "id": "68b6b3be",
   "metadata": {
    "ExecuteTime": {
     "end_time": "2022-07-28T12:57:41.555766Z",
     "start_time": "2022-07-28T12:57:41.551435Z"
    }
   },
   "outputs": [
    {
     "name": "stdout",
     "output_type": "stream",
     "text": [
      "The data extends from 2011 to 2018.\n",
      "File contains 350004 rows and 10 columns\n"
     ]
    }
   ],
   "source": [
    "years = df['year'].unique()\n",
    "print('The data extends from {} to {}.'.format(years.min(),years.max()))\n",
    "print('File contains {:d} rows and {} columns'.format(df.shape[0], df.shape[1]))\n"
   ]
  },
  {
   "cell_type": "code",
   "execution_count": 10,
   "id": "ec523d80",
   "metadata": {
    "ExecuteTime": {
     "end_time": "2022-07-28T12:57:41.558583Z",
     "start_time": "2022-07-28T12:57:41.556683Z"
    },
    "run_control": {
     "marked": true
    }
   },
   "outputs": [
    {
     "name": "stdout",
     "output_type": "stream",
     "text": [
      "Feature columns: \n",
      "['address', 'year', 'day', 'length', 'weight', 'count', 'looped', 'neighbors', 'income']\n"
     ]
    }
   ],
   "source": [
    "features=list(df.columns)[:-1]\n",
    "print('Feature columns: \\n{}'.format(features))"
   ]
  },
  {
   "cell_type": "code",
   "execution_count": 11,
   "outputs": [],
   "source": [
    "graph_fs = ['length', 'weight', 'count', 'neighbors',\n",
    "            'income']  # features relating to the topological properties of the BC network\n"
   ],
   "metadata": {
    "collapsed": false
   }
  },
  {
   "cell_type": "code",
   "execution_count": 12,
   "id": "90e1c28a",
   "metadata": {
    "ExecuteTime": {
     "end_time": "2022-07-28T12:57:41.562713Z",
     "start_time": "2022-07-28T12:57:41.559578Z"
    }
   },
   "outputs": [
    {
     "name": "stdout",
     "output_type": "stream",
     "text": [
      "Datatypes: \n",
      "\n",
      "address       object\n",
      "year           int64\n",
      "day            int64\n",
      "length         int64\n",
      "weight       float64\n",
      "count          int64\n",
      "looped         int64\n",
      "neighbors      int64\n",
      "income       float64\n",
      "label         object\n",
      "dtype: object\n"
     ]
    }
   ],
   "source": [
    "print('Datatypes: \\n\\n{}'.format(df.dtypes))"
   ]
  },
  {
   "cell_type": "code",
   "execution_count": 13,
   "id": "7cf798dd",
   "metadata": {
    "ExecuteTime": {
     "end_time": "2022-07-28T12:57:41.622598Z",
     "start_time": "2022-07-28T12:57:41.564229Z"
    }
   },
   "outputs": [
    {
     "name": "stdout",
     "output_type": "stream",
     "text": [
      "The top ransomware types are \n",
      "\n",
      " CryptoWall      1476\n",
      "CryptoLocker    1144\n",
      "Cerber          1083\n",
      "Locky            785\n",
      "CryptXXX         293\n",
      "DMALockerv3       51\n",
      "NoobCrypt         45\n",
      "DMALocker         26\n",
      "SamSam            11\n",
      "Globe              7\n",
      "Name: label, dtype: int64\n"
     ]
    }
   ],
   "source": [
    "#top_ransomwares_dict = dict(df.label.value_counts().head(10)[1:])\n",
    "# top10_ransoms_labels = df.label.value_counts()[1:11]\n",
    "print('The top ransomware types are \\n\\n', df.label.value_counts()[1:11])"
   ]
  },
  {
   "cell_type": "code",
   "execution_count": 14,
   "outputs": [
    {
     "data": {
      "text/plain": "                           n_day         year         day      length  \\\nlabel                                                                   \nAPT                  2084.000000  2016.000000  259.000000    2.000000   \nCerber               2129.951062  2016.328717  184.969529   42.035088   \nCryptConsole         2241.000000  2017.000000   51.000000   72.000000   \nCryptXXX             1992.706485  2016.000000  167.706485   48.648464   \nCryptoLocker          985.322552  2013.038462  241.284091   30.968531   \nCryptoTorLocker2015  1623.600000  2015.000000  163.600000   32.400000   \nCryptoWall           1330.716802  2014.261518  140.262873   48.891599   \nDMALocker            1816.230769  2015.653846  117.576923   19.384615   \nDMALockerv3          2185.509804  2016.470588  188.745098   44.666667   \nEDA2                 2391.000000  2017.000000  201.000000  144.000000   \nFlyper               2160.000000  2016.000000  335.000000   14.000000   \nGlobe                2139.428571  2016.000000  314.428571   43.714286   \nGlobeImposter        1911.800000  2015.800000  159.800000   33.600000   \nJigSaw               2015.000000  2016.000000  190.000000    0.000000   \nLocky                1960.825478  2016.008917  132.570701   47.329936   \nNoobCrypt            1605.133333  2014.911111  177.577778   26.844444   \nRazy                 1006.000000  2013.000000  276.000000   54.000000   \nSam                  2096.000000  2016.000000  271.000000    6.000000   \nSamSam               2176.090909  2016.272727  251.545455   43.454545   \nVenusLocker          2208.500000  2016.500000  201.000000    8.000000   \nWannaCry             2305.500000  2017.000000  115.500000  144.000000   \nXLocker              2334.000000  2017.000000  144.000000  144.000000   \nwhite                1448.505756  2014.470651  181.717965   44.947992   \n\n                        weight        count      looped  neighbors  \\\nlabel                                                                \nAPT                   1.500000     2.000000    0.000000   2.000000   \nCerber                0.296815   752.451524   36.006464   2.021237   \nCryptConsole          0.708110  1313.500000    0.000000   2.000000   \nCryptXXX              0.352714   810.068259   45.737201   1.982935   \nCryptoLocker          0.840725   273.887238   84.938811   2.868881   \nCryptoTorLocker2015   0.986878   264.800000  247.600000   8.400000   \nCryptoWall            0.767319   435.352304  128.550136   2.007453   \nDMALocker             0.917706   441.961538  122.000000   1.692308   \nDMALockerv3           0.530395   999.470588  127.117647   1.176471   \nEDA2                  0.000303  9486.000000    0.000000   2.000000   \nFlyper                0.500000     1.000000    0.000000   2.000000   \nGlobe                 0.338471   907.571429    0.142857   2.142857   \nGlobeImposter         0.643282   708.200000    1.200000   3.600000   \nJigSaw                0.111111     1.000000    0.000000   2.000000   \nLocky                 0.374995  1009.387261  105.742675   1.253503   \nNoobCrypt             0.732404   494.777778   34.511111   1.133333   \nRazy                 26.411461   127.000000    0.000000  27.000000   \nSam                   0.062500     1.000000    1.000000   3.000000   \nSamSam                0.570040  1374.000000    0.000000   1.636364   \nVenusLocker           0.041667     1.000000    0.000000   2.000000   \nWannaCry              0.007810  3892.000000    0.000000   1.000000   \nXLocker               0.412207  4511.000000    0.000000   1.000000   \nwhite                 0.546767   719.204130  239.944723   2.229673   \n\n                           income  \nlabel                              \nAPT                  7.449526e+07  \nCerber               1.045140e+08  \nCryptConsole         4.396725e+07  \nCryptXXX             1.326294e+08  \nCryptoLocker         1.947917e+09  \nCryptoTorLocker2015  6.175042e+08  \nCryptoWall           6.888960e+08  \nDMALocker            6.963475e+08  \nDMALockerv3          8.428249e+08  \nEDA2                 3.000000e+07  \nFlyper               3.003316e+07  \nGlobe                7.189174e+07  \nGlobeImposter        3.066024e+09  \nJigSaw               1.512381e+08  \nLocky                2.602313e+08  \nNoobCrypt            2.190694e+08  \nRazy                 1.415000e+11  \nSam                  2.900000e+09  \nSamSam               1.264769e+09  \nVenusLocker          9.000000e+07  \nWannaCry             3.414759e+07  \nXLocker              1.000000e+08  \nwhite                4.323266e+09  ",
      "text/html": "<div>\n<style scoped>\n    .dataframe tbody tr th:only-of-type {\n        vertical-align: middle;\n    }\n\n    .dataframe tbody tr th {\n        vertical-align: top;\n    }\n\n    .dataframe thead th {\n        text-align: right;\n    }\n</style>\n<table border=\"1\" class=\"dataframe\">\n  <thead>\n    <tr style=\"text-align: right;\">\n      <th></th>\n      <th>n_day</th>\n      <th>year</th>\n      <th>day</th>\n      <th>length</th>\n      <th>weight</th>\n      <th>count</th>\n      <th>looped</th>\n      <th>neighbors</th>\n      <th>income</th>\n    </tr>\n    <tr>\n      <th>label</th>\n      <th></th>\n      <th></th>\n      <th></th>\n      <th></th>\n      <th></th>\n      <th></th>\n      <th></th>\n      <th></th>\n      <th></th>\n    </tr>\n  </thead>\n  <tbody>\n    <tr>\n      <th>APT</th>\n      <td>2084.000000</td>\n      <td>2016.000000</td>\n      <td>259.000000</td>\n      <td>2.000000</td>\n      <td>1.500000</td>\n      <td>2.000000</td>\n      <td>0.000000</td>\n      <td>2.000000</td>\n      <td>7.449526e+07</td>\n    </tr>\n    <tr>\n      <th>Cerber</th>\n      <td>2129.951062</td>\n      <td>2016.328717</td>\n      <td>184.969529</td>\n      <td>42.035088</td>\n      <td>0.296815</td>\n      <td>752.451524</td>\n      <td>36.006464</td>\n      <td>2.021237</td>\n      <td>1.045140e+08</td>\n    </tr>\n    <tr>\n      <th>CryptConsole</th>\n      <td>2241.000000</td>\n      <td>2017.000000</td>\n      <td>51.000000</td>\n      <td>72.000000</td>\n      <td>0.708110</td>\n      <td>1313.500000</td>\n      <td>0.000000</td>\n      <td>2.000000</td>\n      <td>4.396725e+07</td>\n    </tr>\n    <tr>\n      <th>CryptXXX</th>\n      <td>1992.706485</td>\n      <td>2016.000000</td>\n      <td>167.706485</td>\n      <td>48.648464</td>\n      <td>0.352714</td>\n      <td>810.068259</td>\n      <td>45.737201</td>\n      <td>1.982935</td>\n      <td>1.326294e+08</td>\n    </tr>\n    <tr>\n      <th>CryptoLocker</th>\n      <td>985.322552</td>\n      <td>2013.038462</td>\n      <td>241.284091</td>\n      <td>30.968531</td>\n      <td>0.840725</td>\n      <td>273.887238</td>\n      <td>84.938811</td>\n      <td>2.868881</td>\n      <td>1.947917e+09</td>\n    </tr>\n    <tr>\n      <th>CryptoTorLocker2015</th>\n      <td>1623.600000</td>\n      <td>2015.000000</td>\n      <td>163.600000</td>\n      <td>32.400000</td>\n      <td>0.986878</td>\n      <td>264.800000</td>\n      <td>247.600000</td>\n      <td>8.400000</td>\n      <td>6.175042e+08</td>\n    </tr>\n    <tr>\n      <th>CryptoWall</th>\n      <td>1330.716802</td>\n      <td>2014.261518</td>\n      <td>140.262873</td>\n      <td>48.891599</td>\n      <td>0.767319</td>\n      <td>435.352304</td>\n      <td>128.550136</td>\n      <td>2.007453</td>\n      <td>6.888960e+08</td>\n    </tr>\n    <tr>\n      <th>DMALocker</th>\n      <td>1816.230769</td>\n      <td>2015.653846</td>\n      <td>117.576923</td>\n      <td>19.384615</td>\n      <td>0.917706</td>\n      <td>441.961538</td>\n      <td>122.000000</td>\n      <td>1.692308</td>\n      <td>6.963475e+08</td>\n    </tr>\n    <tr>\n      <th>DMALockerv3</th>\n      <td>2185.509804</td>\n      <td>2016.470588</td>\n      <td>188.745098</td>\n      <td>44.666667</td>\n      <td>0.530395</td>\n      <td>999.470588</td>\n      <td>127.117647</td>\n      <td>1.176471</td>\n      <td>8.428249e+08</td>\n    </tr>\n    <tr>\n      <th>EDA2</th>\n      <td>2391.000000</td>\n      <td>2017.000000</td>\n      <td>201.000000</td>\n      <td>144.000000</td>\n      <td>0.000303</td>\n      <td>9486.000000</td>\n      <td>0.000000</td>\n      <td>2.000000</td>\n      <td>3.000000e+07</td>\n    </tr>\n    <tr>\n      <th>Flyper</th>\n      <td>2160.000000</td>\n      <td>2016.000000</td>\n      <td>335.000000</td>\n      <td>14.000000</td>\n      <td>0.500000</td>\n      <td>1.000000</td>\n      <td>0.000000</td>\n      <td>2.000000</td>\n      <td>3.003316e+07</td>\n    </tr>\n    <tr>\n      <th>Globe</th>\n      <td>2139.428571</td>\n      <td>2016.000000</td>\n      <td>314.428571</td>\n      <td>43.714286</td>\n      <td>0.338471</td>\n      <td>907.571429</td>\n      <td>0.142857</td>\n      <td>2.142857</td>\n      <td>7.189174e+07</td>\n    </tr>\n    <tr>\n      <th>GlobeImposter</th>\n      <td>1911.800000</td>\n      <td>2015.800000</td>\n      <td>159.800000</td>\n      <td>33.600000</td>\n      <td>0.643282</td>\n      <td>708.200000</td>\n      <td>1.200000</td>\n      <td>3.600000</td>\n      <td>3.066024e+09</td>\n    </tr>\n    <tr>\n      <th>JigSaw</th>\n      <td>2015.000000</td>\n      <td>2016.000000</td>\n      <td>190.000000</td>\n      <td>0.000000</td>\n      <td>0.111111</td>\n      <td>1.000000</td>\n      <td>0.000000</td>\n      <td>2.000000</td>\n      <td>1.512381e+08</td>\n    </tr>\n    <tr>\n      <th>Locky</th>\n      <td>1960.825478</td>\n      <td>2016.008917</td>\n      <td>132.570701</td>\n      <td>47.329936</td>\n      <td>0.374995</td>\n      <td>1009.387261</td>\n      <td>105.742675</td>\n      <td>1.253503</td>\n      <td>2.602313e+08</td>\n    </tr>\n    <tr>\n      <th>NoobCrypt</th>\n      <td>1605.133333</td>\n      <td>2014.911111</td>\n      <td>177.577778</td>\n      <td>26.844444</td>\n      <td>0.732404</td>\n      <td>494.777778</td>\n      <td>34.511111</td>\n      <td>1.133333</td>\n      <td>2.190694e+08</td>\n    </tr>\n    <tr>\n      <th>Razy</th>\n      <td>1006.000000</td>\n      <td>2013.000000</td>\n      <td>276.000000</td>\n      <td>54.000000</td>\n      <td>26.411461</td>\n      <td>127.000000</td>\n      <td>0.000000</td>\n      <td>27.000000</td>\n      <td>1.415000e+11</td>\n    </tr>\n    <tr>\n      <th>Sam</th>\n      <td>2096.000000</td>\n      <td>2016.000000</td>\n      <td>271.000000</td>\n      <td>6.000000</td>\n      <td>0.062500</td>\n      <td>1.000000</td>\n      <td>1.000000</td>\n      <td>3.000000</td>\n      <td>2.900000e+09</td>\n    </tr>\n    <tr>\n      <th>SamSam</th>\n      <td>2176.090909</td>\n      <td>2016.272727</td>\n      <td>251.545455</td>\n      <td>43.454545</td>\n      <td>0.570040</td>\n      <td>1374.000000</td>\n      <td>0.000000</td>\n      <td>1.636364</td>\n      <td>1.264769e+09</td>\n    </tr>\n    <tr>\n      <th>VenusLocker</th>\n      <td>2208.500000</td>\n      <td>2016.500000</td>\n      <td>201.000000</td>\n      <td>8.000000</td>\n      <td>0.041667</td>\n      <td>1.000000</td>\n      <td>0.000000</td>\n      <td>2.000000</td>\n      <td>9.000000e+07</td>\n    </tr>\n    <tr>\n      <th>WannaCry</th>\n      <td>2305.500000</td>\n      <td>2017.000000</td>\n      <td>115.500000</td>\n      <td>144.000000</td>\n      <td>0.007810</td>\n      <td>3892.000000</td>\n      <td>0.000000</td>\n      <td>1.000000</td>\n      <td>3.414759e+07</td>\n    </tr>\n    <tr>\n      <th>XLocker</th>\n      <td>2334.000000</td>\n      <td>2017.000000</td>\n      <td>144.000000</td>\n      <td>144.000000</td>\n      <td>0.412207</td>\n      <td>4511.000000</td>\n      <td>0.000000</td>\n      <td>1.000000</td>\n      <td>1.000000e+08</td>\n    </tr>\n    <tr>\n      <th>white</th>\n      <td>1448.505756</td>\n      <td>2014.470651</td>\n      <td>181.717965</td>\n      <td>44.947992</td>\n      <td>0.546767</td>\n      <td>719.204130</td>\n      <td>239.944723</td>\n      <td>2.229673</td>\n      <td>4.323266e+09</td>\n    </tr>\n  </tbody>\n</table>\n</div>"
     },
     "execution_count": 14,
     "metadata": {},
     "output_type": "execute_result"
    }
   ],
   "source": [
    "dft.groupby('label').mean()"
   ],
   "metadata": {
    "collapsed": false
   }
  },
  {
   "cell_type": "code",
   "execution_count": 15,
   "id": "cfbf3a68",
   "metadata": {
    "ExecuteTime": {
     "end_time": "2022-07-28T12:57:41.673739Z",
     "start_time": "2022-07-28T12:57:41.625120Z"
    }
   },
   "outputs": [
    {
     "name": "stdout",
     "output_type": "stream",
     "text": [
      "The data is over 95% unbalanced towards clean transactions!\n",
      "\n",
      "white label cnt: 345060\n",
      "rannsomware label cnt: 4944\n"
     ]
    }
   ],
   "source": [
    "print('The data is over 95% unbalanced towards clean transactions!\\n\\nwhite label cnt: {}\\nrannsomware label cnt: {}'\\\n",
    "      .format(df['label'].value_counts()[0], \n",
    "        sum(df['label'].value_counts()[1:])\n",
    "             ))\n"
   ]
  },
  {
   "cell_type": "markdown",
   "source": [
    "## 1.7 Time Series Analysis"
   ],
   "metadata": {
    "collapsed": false
   }
  },
  {
   "cell_type": "code",
   "execution_count": 16,
   "outputs": [
    {
     "data": {
      "text/plain": "2885"
     },
     "execution_count": 16,
     "metadata": {},
     "output_type": "execute_result"
    }
   ],
   "source": [
    "dft.n_day.max()"
   ],
   "metadata": {
    "collapsed": false
   }
  },
  {
   "cell_type": "code",
   "execution_count": 17,
   "outputs": [],
   "source": [
    "t0 = 2400"
   ],
   "metadata": {
    "collapsed": false
   }
  },
  {
   "cell_type": "code",
   "execution_count": 18,
   "outputs": [
    {
     "data": {
      "text/plain": "         n_day                             address  year  day  length  \\\n41650        1  17eohsAgXNgdBgRdt1LuChVv2uezemHXAJ  2011    1      18   \n41622        1  197pmpuNBx6uZmrV1g5sEx4Pg115bdkaCf  2011    1      40   \n41561        1  13BJvLGAByQxPQacwiuPSPKxYM6Eedp85C  2011    1      42   \n41686        1  15j5SvA31joiJddRerMwJNi8pU9A5aL7Mw  2011    1      16   \n41731        1  1E2cm87Rchz7PxUy199KKFCJLHxqWQtdYB  2011    1      84   \n...        ...                                 ...   ...  ...     ...   \n2916027   2885  3EGRxTdG5LN88QHKDtk9fvYXWY9AbwZdtM  2018  330       0   \n2916515   2885   1xJMm1DMvPCEcXfJsMXe7qcSjXvPktUkM  2018  330      12   \n2916124   2885  31uNxKXy9fpphxYGpvUe19J7a4j2T56MCE  2018  330     144   \n2916633   2885  1MzG2FxuZFzDKVSTqwNhpc6797AYjmWm6M  2018  330       0   \n2915812   2885  3CxuqrPrgpaunM72d1VBZv7ncvRt9i542o  2018  330     144   \n\n           weight  count  looped  neighbors        income  label  \n41650    1.000000      1       0          2  3.398000e+10  white  \n41622    0.162310     20       1          4  9.332000e+09  white  \n41561    0.000008      1       0          2  9.930000e+08  white  \n41686    0.081155     20       0          2  3.250000e+08  white  \n41731    1.000000      1       0          2  1.254100e+10  white  \n...           ...    ...     ...        ...           ...    ...  \n2916027  0.500000      1       0          2  4.886600e+07  white  \n2916515  0.135417      1       1          5  2.047158e+09  white  \n2916124  0.147945   6800    6800          4  5.235040e+09  white  \n2916633  0.250000      1       0          2  4.981870e+07  white  \n2915812  0.073968   8177    6744          2  2.225371e+08  white  \n\n[350004 rows x 11 columns]",
      "text/html": "<div>\n<style scoped>\n    .dataframe tbody tr th:only-of-type {\n        vertical-align: middle;\n    }\n\n    .dataframe tbody tr th {\n        vertical-align: top;\n    }\n\n    .dataframe thead th {\n        text-align: right;\n    }\n</style>\n<table border=\"1\" class=\"dataframe\">\n  <thead>\n    <tr style=\"text-align: right;\">\n      <th></th>\n      <th>n_day</th>\n      <th>address</th>\n      <th>year</th>\n      <th>day</th>\n      <th>length</th>\n      <th>weight</th>\n      <th>count</th>\n      <th>looped</th>\n      <th>neighbors</th>\n      <th>income</th>\n      <th>label</th>\n    </tr>\n  </thead>\n  <tbody>\n    <tr>\n      <th>41650</th>\n      <td>1</td>\n      <td>17eohsAgXNgdBgRdt1LuChVv2uezemHXAJ</td>\n      <td>2011</td>\n      <td>1</td>\n      <td>18</td>\n      <td>1.000000</td>\n      <td>1</td>\n      <td>0</td>\n      <td>2</td>\n      <td>3.398000e+10</td>\n      <td>white</td>\n    </tr>\n    <tr>\n      <th>41622</th>\n      <td>1</td>\n      <td>197pmpuNBx6uZmrV1g5sEx4Pg115bdkaCf</td>\n      <td>2011</td>\n      <td>1</td>\n      <td>40</td>\n      <td>0.162310</td>\n      <td>20</td>\n      <td>1</td>\n      <td>4</td>\n      <td>9.332000e+09</td>\n      <td>white</td>\n    </tr>\n    <tr>\n      <th>41561</th>\n      <td>1</td>\n      <td>13BJvLGAByQxPQacwiuPSPKxYM6Eedp85C</td>\n      <td>2011</td>\n      <td>1</td>\n      <td>42</td>\n      <td>0.000008</td>\n      <td>1</td>\n      <td>0</td>\n      <td>2</td>\n      <td>9.930000e+08</td>\n      <td>white</td>\n    </tr>\n    <tr>\n      <th>41686</th>\n      <td>1</td>\n      <td>15j5SvA31joiJddRerMwJNi8pU9A5aL7Mw</td>\n      <td>2011</td>\n      <td>1</td>\n      <td>16</td>\n      <td>0.081155</td>\n      <td>20</td>\n      <td>0</td>\n      <td>2</td>\n      <td>3.250000e+08</td>\n      <td>white</td>\n    </tr>\n    <tr>\n      <th>41731</th>\n      <td>1</td>\n      <td>1E2cm87Rchz7PxUy199KKFCJLHxqWQtdYB</td>\n      <td>2011</td>\n      <td>1</td>\n      <td>84</td>\n      <td>1.000000</td>\n      <td>1</td>\n      <td>0</td>\n      <td>2</td>\n      <td>1.254100e+10</td>\n      <td>white</td>\n    </tr>\n    <tr>\n      <th>...</th>\n      <td>...</td>\n      <td>...</td>\n      <td>...</td>\n      <td>...</td>\n      <td>...</td>\n      <td>...</td>\n      <td>...</td>\n      <td>...</td>\n      <td>...</td>\n      <td>...</td>\n      <td>...</td>\n    </tr>\n    <tr>\n      <th>2916027</th>\n      <td>2885</td>\n      <td>3EGRxTdG5LN88QHKDtk9fvYXWY9AbwZdtM</td>\n      <td>2018</td>\n      <td>330</td>\n      <td>0</td>\n      <td>0.500000</td>\n      <td>1</td>\n      <td>0</td>\n      <td>2</td>\n      <td>4.886600e+07</td>\n      <td>white</td>\n    </tr>\n    <tr>\n      <th>2916515</th>\n      <td>2885</td>\n      <td>1xJMm1DMvPCEcXfJsMXe7qcSjXvPktUkM</td>\n      <td>2018</td>\n      <td>330</td>\n      <td>12</td>\n      <td>0.135417</td>\n      <td>1</td>\n      <td>1</td>\n      <td>5</td>\n      <td>2.047158e+09</td>\n      <td>white</td>\n    </tr>\n    <tr>\n      <th>2916124</th>\n      <td>2885</td>\n      <td>31uNxKXy9fpphxYGpvUe19J7a4j2T56MCE</td>\n      <td>2018</td>\n      <td>330</td>\n      <td>144</td>\n      <td>0.147945</td>\n      <td>6800</td>\n      <td>6800</td>\n      <td>4</td>\n      <td>5.235040e+09</td>\n      <td>white</td>\n    </tr>\n    <tr>\n      <th>2916633</th>\n      <td>2885</td>\n      <td>1MzG2FxuZFzDKVSTqwNhpc6797AYjmWm6M</td>\n      <td>2018</td>\n      <td>330</td>\n      <td>0</td>\n      <td>0.250000</td>\n      <td>1</td>\n      <td>0</td>\n      <td>2</td>\n      <td>4.981870e+07</td>\n      <td>white</td>\n    </tr>\n    <tr>\n      <th>2915812</th>\n      <td>2885</td>\n      <td>3CxuqrPrgpaunM72d1VBZv7ncvRt9i542o</td>\n      <td>2018</td>\n      <td>330</td>\n      <td>144</td>\n      <td>0.073968</td>\n      <td>8177</td>\n      <td>6744</td>\n      <td>2</td>\n      <td>2.225371e+08</td>\n      <td>white</td>\n    </tr>\n  </tbody>\n</table>\n<p>350004 rows × 11 columns</p>\n</div>"
     },
     "execution_count": 18,
     "metadata": {},
     "output_type": "execute_result"
    }
   ],
   "source": [
    "dft=dft.sort_values(by='n_day')\n",
    "dft"
   ],
   "metadata": {
    "collapsed": false
   }
  },
  {
   "cell_type": "code",
   "execution_count": 19,
   "outputs": [],
   "source": [
    "del day_of_week"
   ],
   "metadata": {
    "collapsed": false
   }
  },
  {
   "cell_type": "code",
   "execution_count": 20,
   "outputs": [],
   "source": [
    "#dft.to_csv(\"dft.csv\",index_label=False)"
   ],
   "metadata": {
    "collapsed": false
   }
  },
  {
   "cell_type": "code",
   "execution_count": 21,
   "outputs": [],
   "source": [
    "#dft = pd.read_csv('dft.csv')"
   ],
   "metadata": {
    "collapsed": false
   }
  },
  {
   "cell_type": "code",
   "execution_count": 22,
   "outputs": [],
   "source": [
    "# we start by windowing the dataframe and transforming the data in the time window\n",
    "df_= window(dft,t0,480)"
   ],
   "metadata": {
    "collapsed": false
   }
  },
  {
   "cell_type": "code",
   "execution_count": 23,
   "outputs": [],
   "source": [
    "#dfc=pd.concat([dfc,pd.DataFrame(pd.to_datetime(dfc['year'] * 1000 + dfc['day'], format='%Y%j'),columns=['date'])],axis=1)"
   ],
   "metadata": {
    "collapsed": false
   }
  },
  {
   "cell_type": "code",
   "execution_count": 24,
   "outputs": [],
   "source": [
    "#top_df.drop(['day', 'year'], axis=1, inplace=True)"
   ],
   "metadata": {
    "collapsed": false
   }
  },
  {
   "cell_type": "code",
   "execution_count": 25,
   "outputs": [
    {
     "data": {
      "text/plain": "white            57858\nCerber            1061\nLocky              394\nCryptXXX           293\nDMALockerv3         50\nSamSam              11\nDMALocker           10\nGlobe                7\nCryptConsole         2\nNoobCrypt            2\nWannaCry             2\nGlobeImposter        2\nVenusLocker          2\nXLocker              1\nAPT                  1\nFlyper               1\nSam                  1\nJigSaw               1\nEDA2                 1\nName: label, dtype: int64"
     },
     "execution_count": 25,
     "metadata": {},
     "output_type": "execute_result"
    }
   ],
   "source": [
    "df_.label.value_counts()"
   ],
   "metadata": {
    "collapsed": false
   }
  },
  {
   "cell_type": "markdown",
   "source": [],
   "metadata": {
    "collapsed": false
   }
  },
  {
   "cell_type": "markdown",
   "source": [
    "### test/train"
   ],
   "metadata": {
    "collapsed": false
   }
  },
  {
   "cell_type": "code",
   "execution_count": 26,
   "outputs": [],
   "source": [
    "#dft.rename(columns={\"label\":\"labels\"}, inplace=True)\n",
    "label = df_.label.apply(lambda x: 0 if x=='white' else 1)\n"
   ],
   "metadata": {
    "collapsed": false
   }
  },
  {
   "cell_type": "code",
   "execution_count": 27,
   "outputs": [
    {
     "data": {
      "text/plain": "0    57858\n1     1842\nName: label, dtype: int64"
     },
     "execution_count": 27,
     "metadata": {},
     "output_type": "execute_result"
    }
   ],
   "source": [
    "label.value_counts()"
   ],
   "metadata": {
    "collapsed": false
   }
  },
  {
   "cell_type": "code",
   "execution_count": 28,
   "id": "7aecf0bd",
   "metadata": {
    "ExecuteTime": {
     "end_time": "2022-07-28T12:59:39.746401Z",
     "start_time": "2022-07-28T12:57:42.154188Z"
    }
   },
   "outputs": [],
   "source": [
    "# labels = labels_to_binary(dft.label) # recast labels into binary"
   ]
  },
  {
   "cell_type": "code",
   "execution_count": 29,
   "id": "071e721d",
   "metadata": {
    "ExecuteTime": {
     "end_time": "2022-07-28T12:59:39.749510Z",
     "start_time": "2022-07-28T12:59:39.747448Z"
    }
   },
   "outputs": [],
   "source": [
    "#labels_df = pd.DataFrame(labels,columns=['labels'])"
   ]
  },
  {
   "cell_type": "code",
   "execution_count": 30,
   "id": "2d8ded61",
   "metadata": {
    "ExecuteTime": {
     "end_time": "2022-07-28T12:59:39.784444Z",
     "start_time": "2022-07-28T12:59:39.750175Z"
    }
   },
   "outputs": [
    {
     "name": "stdout",
     "output_type": "stream",
     "text": [
      "Percentage of labels belonging to ransomware class: 3.1\n"
     ]
    }
   ],
   "source": [
    "print('Percentage of labels \\\n",
    "belonging to ransomware class: {:.2}'.format( (np.sum(label) / len(label)) * 100) )"
   ]
  },
  {
   "cell_type": "markdown",
   "id": "4f7aa000",
   "metadata": {},
   "source": [
    "**Defining {X, X_test, x_rain, y_test, y_train}**"
   ]
  },
  {
   "cell_type": "code",
   "execution_count": 31,
   "id": "37ef2962",
   "metadata": {
    "ExecuteTime": {
     "end_time": "2022-07-28T12:59:39.913148Z",
     "start_time": "2022-07-28T12:59:39.785189Z"
    }
   },
   "outputs": [],
   "source": [
    "X_df = df_.drop(['label'],axis=1) # X=features [original]\n",
    "X = X_df.to_numpy()"
   ]
  },
  {
   "cell_type": "code",
   "execution_count": 32,
   "outputs": [],
   "source": [
    "labels_df = label.astype(int)\n",
    "y_df = labels_df"
   ],
   "metadata": {
    "collapsed": false
   }
  },
  {
   "cell_type": "code",
   "execution_count": 33,
   "outputs": [
    {
     "data": {
      "text/plain": "1950989    1920\n1950723    1920\n1059       1920\n1951637    1920\n1950967    1920\n           ... \n2431403    2400\n2430704    2400\n2431376    2400\n2430778    2400\n2430872    2400\nName: n_day, Length: 59700, dtype: int64"
     },
     "execution_count": 33,
     "metadata": {},
     "output_type": "execute_result"
    }
   ],
   "source": [
    "X_df['n_day'].astype(int)"
   ],
   "metadata": {
    "collapsed": false
   }
  },
  {
   "cell_type": "code",
   "execution_count": 34,
   "outputs": [
    {
     "data": {
      "text/plain": "         n_day                             address  year  day  length  \\\n2431424   2400  39V5cHzVGuHBv9D43ikLdRKXeH9ojrNYaS  2017  210       0   \n2430728   2400  1BD9tcH52JE3rGVAMQEzCBj2M25VjZcxez  2017  210      14   \n2431674   2400  3LvFTHNr5XNYQFam9BTpvky6SpbDBRDYJr  2017  210       0   \n2431066   2400  3BMEXKvrCFsTAxvNtXGHQcYdv9Wq46NFHk  2017  210       2   \n2431619   2400  1DoM52bn9wWXXKNN7LhrA1eXhuRm7bcBvU  2017  210       4   \n...        ...                                 ...   ...  ...     ...   \n2460123   2429  15meA7WKTrt3Ns8rZ1HGUT9orPDFHsGbxD  2017  239     144   \n2460026   2429  1JDmbM4qACrRkS9m1rDc1Qnkcve97jRQyG  2017  239     116   \n2460150   2429  19ynwMaai3jD2jbYmxsHam5C3qaEfZ41zx  2017  239     144   \n2459753   2429  35WxAybY2fLt9SohsdzMvxsG9TMsBuwc9j  2017  239     144   \n2459835   2429  16wgvJiWLc6sw9oSQtMPbmDMbMF3kiqqp9  2017  239     106   \n\n           weight  count  looped  neighbors        income  \n2431424  1.000000      1       0          1  1.254629e+08  \n2430728  0.031250      1       0          2  1.381058e+10  \n2431674  0.500000      1       0          1  5.879121e+08  \n2431066  5.250000      4       4          5  1.641642e+10  \n2431619  0.500000      1       0          2  9.400071e+08  \n...           ...    ...     ...        ...           ...  \n2460123  0.084731   4004    4004          4  2.210895e+08  \n2460026  0.500000      1       0          2  1.341213e+09  \n2460150  0.758331   5550       0          2  3.222404e+07  \n2459753  0.435569   5527       0          1  6.000000e+07  \n2459835  0.031250      1       0          2  1.352892e+09  \n\n[3553 rows x 10 columns]",
      "text/html": "<div>\n<style scoped>\n    .dataframe tbody tr th:only-of-type {\n        vertical-align: middle;\n    }\n\n    .dataframe tbody tr th {\n        vertical-align: top;\n    }\n\n    .dataframe thead th {\n        text-align: right;\n    }\n</style>\n<table border=\"1\" class=\"dataframe\">\n  <thead>\n    <tr style=\"text-align: right;\">\n      <th></th>\n      <th>n_day</th>\n      <th>address</th>\n      <th>year</th>\n      <th>day</th>\n      <th>length</th>\n      <th>weight</th>\n      <th>count</th>\n      <th>looped</th>\n      <th>neighbors</th>\n      <th>income</th>\n    </tr>\n  </thead>\n  <tbody>\n    <tr>\n      <th>2431424</th>\n      <td>2400</td>\n      <td>39V5cHzVGuHBv9D43ikLdRKXeH9ojrNYaS</td>\n      <td>2017</td>\n      <td>210</td>\n      <td>0</td>\n      <td>1.000000</td>\n      <td>1</td>\n      <td>0</td>\n      <td>1</td>\n      <td>1.254629e+08</td>\n    </tr>\n    <tr>\n      <th>2430728</th>\n      <td>2400</td>\n      <td>1BD9tcH52JE3rGVAMQEzCBj2M25VjZcxez</td>\n      <td>2017</td>\n      <td>210</td>\n      <td>14</td>\n      <td>0.031250</td>\n      <td>1</td>\n      <td>0</td>\n      <td>2</td>\n      <td>1.381058e+10</td>\n    </tr>\n    <tr>\n      <th>2431674</th>\n      <td>2400</td>\n      <td>3LvFTHNr5XNYQFam9BTpvky6SpbDBRDYJr</td>\n      <td>2017</td>\n      <td>210</td>\n      <td>0</td>\n      <td>0.500000</td>\n      <td>1</td>\n      <td>0</td>\n      <td>1</td>\n      <td>5.879121e+08</td>\n    </tr>\n    <tr>\n      <th>2431066</th>\n      <td>2400</td>\n      <td>3BMEXKvrCFsTAxvNtXGHQcYdv9Wq46NFHk</td>\n      <td>2017</td>\n      <td>210</td>\n      <td>2</td>\n      <td>5.250000</td>\n      <td>4</td>\n      <td>4</td>\n      <td>5</td>\n      <td>1.641642e+10</td>\n    </tr>\n    <tr>\n      <th>2431619</th>\n      <td>2400</td>\n      <td>1DoM52bn9wWXXKNN7LhrA1eXhuRm7bcBvU</td>\n      <td>2017</td>\n      <td>210</td>\n      <td>4</td>\n      <td>0.500000</td>\n      <td>1</td>\n      <td>0</td>\n      <td>2</td>\n      <td>9.400071e+08</td>\n    </tr>\n    <tr>\n      <th>...</th>\n      <td>...</td>\n      <td>...</td>\n      <td>...</td>\n      <td>...</td>\n      <td>...</td>\n      <td>...</td>\n      <td>...</td>\n      <td>...</td>\n      <td>...</td>\n      <td>...</td>\n    </tr>\n    <tr>\n      <th>2460123</th>\n      <td>2429</td>\n      <td>15meA7WKTrt3Ns8rZ1HGUT9orPDFHsGbxD</td>\n      <td>2017</td>\n      <td>239</td>\n      <td>144</td>\n      <td>0.084731</td>\n      <td>4004</td>\n      <td>4004</td>\n      <td>4</td>\n      <td>2.210895e+08</td>\n    </tr>\n    <tr>\n      <th>2460026</th>\n      <td>2429</td>\n      <td>1JDmbM4qACrRkS9m1rDc1Qnkcve97jRQyG</td>\n      <td>2017</td>\n      <td>239</td>\n      <td>116</td>\n      <td>0.500000</td>\n      <td>1</td>\n      <td>0</td>\n      <td>2</td>\n      <td>1.341213e+09</td>\n    </tr>\n    <tr>\n      <th>2460150</th>\n      <td>2429</td>\n      <td>19ynwMaai3jD2jbYmxsHam5C3qaEfZ41zx</td>\n      <td>2017</td>\n      <td>239</td>\n      <td>144</td>\n      <td>0.758331</td>\n      <td>5550</td>\n      <td>0</td>\n      <td>2</td>\n      <td>3.222404e+07</td>\n    </tr>\n    <tr>\n      <th>2459753</th>\n      <td>2429</td>\n      <td>35WxAybY2fLt9SohsdzMvxsG9TMsBuwc9j</td>\n      <td>2017</td>\n      <td>239</td>\n      <td>144</td>\n      <td>0.435569</td>\n      <td>5527</td>\n      <td>0</td>\n      <td>1</td>\n      <td>6.000000e+07</td>\n    </tr>\n    <tr>\n      <th>2459835</th>\n      <td>2429</td>\n      <td>16wgvJiWLc6sw9oSQtMPbmDMbMF3kiqqp9</td>\n      <td>2017</td>\n      <td>239</td>\n      <td>106</td>\n      <td>0.031250</td>\n      <td>1</td>\n      <td>0</td>\n      <td>2</td>\n      <td>1.352892e+09</td>\n    </tr>\n  </tbody>\n</table>\n<p>3553 rows × 10 columns</p>\n</div>"
     },
     "execution_count": 34,
     "metadata": {},
     "output_type": "execute_result"
    }
   ],
   "source": [
    "X_future = dft[(dft['n_day']>=t0)&(dft['n_day']<t0+30)].drop(['label'],axis=1) # X=features [original].\n",
    "X_future"
   ],
   "metadata": {
    "collapsed": false
   }
  },
  {
   "cell_type": "code",
   "execution_count": 35,
   "outputs": [],
   "source": [
    "x_train, x_test, Y_train, Y_test, ids = test_train_time(X_df, labels_df, t0=t0)"
   ],
   "metadata": {
    "collapsed": false
   }
  },
  {
   "cell_type": "code",
   "execution_count": 36,
   "outputs": [
    {
     "data": {
      "text/plain": "[0    5552\n 1     154\n Name: label, dtype: int64,\n 0    8616\n 1     184\n Name: label, dtype: int64,\n 0    10076\n 1      143\n Name: label, dtype: int64,\n 0    11524\n 1      100\n Name: label, dtype: int64]"
     },
     "execution_count": 36,
     "metadata": {},
     "output_type": "execute_result"
    }
   ],
   "source": [
    "[Y_test[i].value_counts() for i in range(len(Y_train))]"
   ],
   "metadata": {
    "collapsed": false
   }
  },
  {
   "cell_type": "code",
   "execution_count": 37,
   "outputs": [
    {
     "data": {
      "text/plain": "True"
     },
     "execution_count": 37,
     "metadata": {},
     "output_type": "execute_result"
    }
   ],
   "source": [
    "t0 - 1 == x_test[3].n_day.max() # check that the times match up"
   ],
   "metadata": {
    "collapsed": false
   }
  },
  {
   "cell_type": "code",
   "execution_count": 38,
   "id": "787c4497",
   "metadata": {
    "ExecuteTime": {
     "end_time": "2022-07-28T12:59:40.072774Z",
     "start_time": "2022-07-28T12:59:39.914014Z"
    }
   },
   "outputs": [],
   "source": [
    "# WORKING test train split. We perform many operations on this data\n",
    "# We will down sample this data for plotting, testing, and training optimization\n",
    "#X_train, X_test, y_train, y_test = train_test_split(\n",
    "#    X_df,                        # design matrix\n",
    "#    labels_df,                   # y\n",
    "#    stratify = labels,           #  stratify preserves the large imbalance in the target variable\n",
    "#    random_state = RAND_STATE,\n",
    "#    test_size = SPLIT_RATIO\n",
    "##)"
   ]
  },
  {
   "cell_type": "code",
   "execution_count": 39,
   "id": "f24c294a",
   "metadata": {
    "ExecuteTime": {
     "end_time": "2022-07-28T12:59:40.077697Z",
     "start_time": "2022-07-28T12:59:40.076090Z"
    },
    "run_control": {
     "marked": false
    }
   },
   "outputs": [],
   "source": [
    "#if SAVE_TEST_TRAIN == True:\n",
    "#    with open('X_train_y_train_X_test_y_test_label_v3_01.pickle', 'wb') as save_file:\n",
    "#        pickle.dump([X_train, y_train, X_test, y_test], save_file)\n",
    "\n",
    "if SAVE_TEST_TRAIN == True:\n",
    "    fname = 'x_train_Y_train_x_test_Y_test_v2_0'+str(NF)+'.pickle'\n",
    "    with open(fname, 'wb') as save_file:\n",
    "        for i in range(len(x_train)):\n",
    "            pickle.dump([x_train, Y_train, x_test, Y_test], save_file)"
   ]
  },
  {
   "cell_type": "code",
   "execution_count": 40,
   "outputs": [
    {
     "data": {
      "text/plain": "24304"
     },
     "execution_count": 40,
     "metadata": {},
     "output_type": "execute_result"
    }
   ],
   "source": [
    "len(list(ids[0][0]))"
   ],
   "metadata": {
    "collapsed": false
   }
  },
  {
   "cell_type": "code",
   "execution_count": 41,
   "outputs": [
    {
     "data": {
      "text/plain": "Int64Index([2335864, 2336566, 2336349, 2335737, 2336652, 2336103, 2335824,\n            2335915, 2335708, 2335891,\n            ...\n            2429965, 2430260, 2430473, 2430205, 2429997, 2429723, 2430417,\n            2429713, 2430050, 2429885],\n           dtype='int64', length=11624)"
     },
     "execution_count": 41,
     "metadata": {},
     "output_type": "execute_result"
    }
   ],
   "source": [
    "ids[3][1]"
   ],
   "metadata": {
    "collapsed": false
   }
  },
  {
   "cell_type": "code",
   "execution_count": 42,
   "outputs": [
    {
     "data": {
      "text/plain": "(2159, 2279, 2339, 2399)"
     },
     "execution_count": 42,
     "metadata": {},
     "output_type": "execute_result"
    }
   ],
   "source": [
    "x_test[0].loc[list(ids[0][1])].n_day.max(), x_test[1].loc[list(ids[1][1])].n_day.max(), x_test[2].loc[list(ids[2][1])].n_day.max(), x_test[3].loc[list(ids[3][1])].n_day.max()"
   ],
   "metadata": {
    "collapsed": false
   }
  },
  {
   "cell_type": "code",
   "execution_count": 43,
   "outputs": [
    {
     "data": {
      "text/plain": "(2113, 2209, 2257, 2305)"
     },
     "execution_count": 43,
     "metadata": {},
     "output_type": "execute_result"
    }
   ],
   "source": [
    "x_test[0].loc[list(ids[0][1])].n_day.min(), x_test[1].loc[list(ids[1][1])].n_day.min(), x_test[2].loc[list(ids[2][1])].n_day.min(), x_test[3].loc[list(ids[3][1])].n_day.min()"
   ],
   "metadata": {
    "collapsed": false
   }
  },
  {
   "cell_type": "code",
   "execution_count": 44,
   "outputs": [
    {
     "data": {
      "text/plain": "(1920, 1920, 1920, 1920)"
     },
     "execution_count": 44,
     "metadata": {},
     "output_type": "execute_result"
    }
   ],
   "source": [
    "x_train[0].loc[list(ids[0][0])].n_day.min(), x_train[1].loc[list(ids[1][0])].n_day.min(), x_train[2].loc[list(ids[2][0])].n_day.min(), x_train[3].loc[list(ids[3][0])].n_day.min()"
   ],
   "metadata": {
    "collapsed": false
   }
  },
  {
   "cell_type": "code",
   "execution_count": 45,
   "outputs": [
    {
     "data": {
      "text/plain": "(2112, 2208, 2256, 2304)"
     },
     "execution_count": 45,
     "metadata": {},
     "output_type": "execute_result"
    }
   ],
   "source": [
    "x_train[0].loc[list(ids[0][0])].n_day.max(), x_train[1].loc[list(ids[1][0])].n_day.max(), x_train[2].loc[list(ids[2][0])].n_day.max(), x_train[3].loc[list(ids[3][0])].n_day.max()"
   ],
   "metadata": {
    "collapsed": false
   }
  },
  {
   "cell_type": "code",
   "execution_count": 46,
   "outputs": [
    {
     "data": {
      "text/plain": "2400"
     },
     "execution_count": 46,
     "metadata": {},
     "output_type": "execute_result"
    }
   ],
   "source": [
    "t0"
   ],
   "metadata": {
    "collapsed": false
   }
  },
  {
   "cell_type": "code",
   "execution_count": 47,
   "outputs": [
    {
     "data": {
      "text/plain": "(2112, 2208, 2256, 2304)"
     },
     "execution_count": 47,
     "metadata": {},
     "output_type": "execute_result"
    }
   ],
   "source": [
    "X_df.loc[list(ids[0][0])].n_day.max(), X_df.loc[list(ids[1][0])].n_day.max(), X_df.loc[list(ids[2][0])].n_day.max(), X_df.loc[list(ids[3][0])].n_day.max()"
   ],
   "metadata": {
    "collapsed": false
   }
  },
  {
   "cell_type": "code",
   "execution_count": 48,
   "outputs": [
    {
     "data": {
      "text/plain": "(2159, 2279, 2339, 2399)"
     },
     "execution_count": 48,
     "metadata": {},
     "output_type": "execute_result"
    }
   ],
   "source": [
    "X_df.loc[list(ids[0][1])].n_day.max(), X_df.loc[list(ids[1][1])].n_day.max(), X_df.loc[list(ids[2][1])].n_day.max(), X_df.loc[list(ids[3][1])].n_day.max()"
   ],
   "metadata": {
    "collapsed": false
   }
  },
  {
   "cell_type": "code",
   "execution_count": 49,
   "outputs": [
    {
     "data": {
      "text/plain": "(2112, 2208, 2256, 2304)"
     },
     "execution_count": 49,
     "metadata": {},
     "output_type": "execute_result"
    }
   ],
   "source": [
    "X_df.loc[list(ids[0][0])].n_day.max(), X_df.loc[list(ids[1][0])].n_day.max(), X_df.loc[list(ids[2][0])].n_day.max(), X_df.loc[list(ids[3][0])].n_day.max()"
   ],
   "metadata": {
    "collapsed": false
   }
  },
  {
   "cell_type": "code",
   "execution_count": 50,
   "outputs": [],
   "source": [
    "def day_of_week(df):\n",
    "    \"\"\"\n",
    "    :param X:\n",
    "    :return: a new column with the day of the week\n",
    "    \"\"\"\n",
    "    ''\n",
    "\n",
    "    day_of_week = np.array([])\n",
    "    for index, row in tqdm(df.iterrows(), total=df.shape[0]):\n",
    "        # For each data-point, we consider its year and day\n",
    "        # and calculate what day of the week (Monday, Tuesday, etc)\n",
    "        # it was when the transaction happened\n",
    "        # datetime.datetime(year, 1, 1).weekday() returns the first day of the year\n",
    "        # using this information, we can calculate the present day\n",
    "\n",
    "        year_i, day_i = row['year'], row['day']\n",
    "        day_of_week = np.append (day_of_week, \\\n",
    "                                      get_day_number(datetime.datetime(year_i, 1, 1).weekday(), day_i))\n",
    "    df['day_of_week'] = day_of_week\n",
    "\n",
    "    return df"
   ],
   "metadata": {
    "collapsed": false
   }
  },
  {
   "cell_type": "code",
   "execution_count": 51,
   "outputs": [
    {
     "data": {
      "text/plain": "  0%|          | 0/350004 [00:00<?, ?it/s]",
      "application/vnd.jupyter.widget-view+json": {
       "version_major": 2,
       "version_minor": 0,
       "model_id": "4a83ef0ba9884dee9aac2db505041ed9"
      }
     },
     "metadata": {},
     "output_type": "display_data"
    },
    {
     "data": {
      "text/plain": "                                    address  year  day  length    weight  \\\n2667698  15DQFhP5R7ZeaBS9Ute7NzrYVBFSH1Z2kZ  2018   82       8  1.311111   \n2013400  3FhUXgmVecach9dZ59JK1yBLEcr9JsvJXZ  2016  157       2  0.025000   \n2704440  3DpHZaCtj88yaXUtajYnYLb8xgN15K8fnw  2018  118     144  3.619217   \n1650833  1G6doAKXpDsnsdSA1wgh7jfAnkaPi49M4y  2015  160     144  0.000484   \n1586811   175gAXqbkq4nho268FZxoBZ7TCCZWzWcg  2015   96     128  0.625000   \n...                                     ...   ...  ...     ...       ...   \n2796843  3GATJRb9VFCDRe8wQodrNvUouTWGwjLmhM  2018  211      10  0.125000   \n1036846  18JuSPFSb4f1iWgeMenS6kFeRw2FYDX1kz  2013  276       4  0.166667   \n1932590  1KSjpKdmpFtbLQqbhCoQ8g127AzGq8CjaY  2016   76     144  0.002160   \n730452   1A3AQAvJLVqne7ud7JT6nb3n1gkhpz7DuT  2012  334       0  1.000000   \n1063408  1MfphSj17CXv6EkUU2siqMTUzV71DZbi2V  2013  302       0  1.000000   \n\n         count  looped  neighbors        income  label  day_of_week  \n2667698      3       0          2  5.772641e+08  white          4.0  \n2013400     44       0          1  1.000000e+08  white          6.0  \n2704440   5991    5991          2  2.999500e+08  white          5.0  \n1650833   3452    3049          2  2.990000e+08  white          1.0  \n1586811      2       0          2  4.000000e+07  white          0.0  \n...        ...     ...        ...           ...    ...          ...  \n2796843      1       0          2  2.600785e+10  white          0.0  \n1036846      1       0          2  3.012661e+08  white          3.0  \n1932590   3928    3809          2  1.213316e+08  white          2.0  \n730452       1       0          1  4.997700e+08  white          3.0  \n1063408      1       0          2  2.488927e+09  white          1.0  \n\n[350004 rows x 11 columns]",
      "text/html": "<div>\n<style scoped>\n    .dataframe tbody tr th:only-of-type {\n        vertical-align: middle;\n    }\n\n    .dataframe tbody tr th {\n        vertical-align: top;\n    }\n\n    .dataframe thead th {\n        text-align: right;\n    }\n</style>\n<table border=\"1\" class=\"dataframe\">\n  <thead>\n    <tr style=\"text-align: right;\">\n      <th></th>\n      <th>address</th>\n      <th>year</th>\n      <th>day</th>\n      <th>length</th>\n      <th>weight</th>\n      <th>count</th>\n      <th>looped</th>\n      <th>neighbors</th>\n      <th>income</th>\n      <th>label</th>\n      <th>day_of_week</th>\n    </tr>\n  </thead>\n  <tbody>\n    <tr>\n      <th>2667698</th>\n      <td>15DQFhP5R7ZeaBS9Ute7NzrYVBFSH1Z2kZ</td>\n      <td>2018</td>\n      <td>82</td>\n      <td>8</td>\n      <td>1.311111</td>\n      <td>3</td>\n      <td>0</td>\n      <td>2</td>\n      <td>5.772641e+08</td>\n      <td>white</td>\n      <td>4.0</td>\n    </tr>\n    <tr>\n      <th>2013400</th>\n      <td>3FhUXgmVecach9dZ59JK1yBLEcr9JsvJXZ</td>\n      <td>2016</td>\n      <td>157</td>\n      <td>2</td>\n      <td>0.025000</td>\n      <td>44</td>\n      <td>0</td>\n      <td>1</td>\n      <td>1.000000e+08</td>\n      <td>white</td>\n      <td>6.0</td>\n    </tr>\n    <tr>\n      <th>2704440</th>\n      <td>3DpHZaCtj88yaXUtajYnYLb8xgN15K8fnw</td>\n      <td>2018</td>\n      <td>118</td>\n      <td>144</td>\n      <td>3.619217</td>\n      <td>5991</td>\n      <td>5991</td>\n      <td>2</td>\n      <td>2.999500e+08</td>\n      <td>white</td>\n      <td>5.0</td>\n    </tr>\n    <tr>\n      <th>1650833</th>\n      <td>1G6doAKXpDsnsdSA1wgh7jfAnkaPi49M4y</td>\n      <td>2015</td>\n      <td>160</td>\n      <td>144</td>\n      <td>0.000484</td>\n      <td>3452</td>\n      <td>3049</td>\n      <td>2</td>\n      <td>2.990000e+08</td>\n      <td>white</td>\n      <td>1.0</td>\n    </tr>\n    <tr>\n      <th>1586811</th>\n      <td>175gAXqbkq4nho268FZxoBZ7TCCZWzWcg</td>\n      <td>2015</td>\n      <td>96</td>\n      <td>128</td>\n      <td>0.625000</td>\n      <td>2</td>\n      <td>0</td>\n      <td>2</td>\n      <td>4.000000e+07</td>\n      <td>white</td>\n      <td>0.0</td>\n    </tr>\n    <tr>\n      <th>...</th>\n      <td>...</td>\n      <td>...</td>\n      <td>...</td>\n      <td>...</td>\n      <td>...</td>\n      <td>...</td>\n      <td>...</td>\n      <td>...</td>\n      <td>...</td>\n      <td>...</td>\n      <td>...</td>\n    </tr>\n    <tr>\n      <th>2796843</th>\n      <td>3GATJRb9VFCDRe8wQodrNvUouTWGwjLmhM</td>\n      <td>2018</td>\n      <td>211</td>\n      <td>10</td>\n      <td>0.125000</td>\n      <td>1</td>\n      <td>0</td>\n      <td>2</td>\n      <td>2.600785e+10</td>\n      <td>white</td>\n      <td>0.0</td>\n    </tr>\n    <tr>\n      <th>1036846</th>\n      <td>18JuSPFSb4f1iWgeMenS6kFeRw2FYDX1kz</td>\n      <td>2013</td>\n      <td>276</td>\n      <td>4</td>\n      <td>0.166667</td>\n      <td>1</td>\n      <td>0</td>\n      <td>2</td>\n      <td>3.012661e+08</td>\n      <td>white</td>\n      <td>3.0</td>\n    </tr>\n    <tr>\n      <th>1932590</th>\n      <td>1KSjpKdmpFtbLQqbhCoQ8g127AzGq8CjaY</td>\n      <td>2016</td>\n      <td>76</td>\n      <td>144</td>\n      <td>0.002160</td>\n      <td>3928</td>\n      <td>3809</td>\n      <td>2</td>\n      <td>1.213316e+08</td>\n      <td>white</td>\n      <td>2.0</td>\n    </tr>\n    <tr>\n      <th>730452</th>\n      <td>1A3AQAvJLVqne7ud7JT6nb3n1gkhpz7DuT</td>\n      <td>2012</td>\n      <td>334</td>\n      <td>0</td>\n      <td>1.000000</td>\n      <td>1</td>\n      <td>0</td>\n      <td>1</td>\n      <td>4.997700e+08</td>\n      <td>white</td>\n      <td>3.0</td>\n    </tr>\n    <tr>\n      <th>1063408</th>\n      <td>1MfphSj17CXv6EkUU2siqMTUzV71DZbi2V</td>\n      <td>2013</td>\n      <td>302</td>\n      <td>0</td>\n      <td>1.000000</td>\n      <td>1</td>\n      <td>0</td>\n      <td>2</td>\n      <td>2.488927e+09</td>\n      <td>white</td>\n      <td>1.0</td>\n    </tr>\n  </tbody>\n</table>\n<p>350004 rows × 11 columns</p>\n</div>"
     },
     "execution_count": 51,
     "metadata": {},
     "output_type": "execute_result"
    }
   ],
   "source": [
    "day_of_week(df)"
   ],
   "metadata": {
    "collapsed": false
   }
  },
  {
   "cell_type": "code",
   "execution_count": 52,
   "outputs": [
    {
     "data": {
      "text/plain": "  0%|          | 0/59700 [00:00<?, ?it/s]",
      "application/vnd.jupyter.widget-view+json": {
       "version_major": 2,
       "version_minor": 0,
       "model_id": "7350524964c14e00aec39b87d1acb9d5"
      }
     },
     "metadata": {},
     "output_type": "display_data"
    },
    {
     "data": {
      "text/plain": "         n_day                             address  year  day  length  \\\n1950989   1920  36JgDSKafDma5xDqsCg2x8c8oV8WR79Bmc  2016   95       0   \n1950723   1920  1M8XLtfvmH2MBXSztMnENEWZvqVNfH3gbK  2016   95       4   \n1059      1920  12pc75GMaCFZopL2My8vesTJ3G8aRNFigi  2016   95      16   \n1951637   1920  17PK8L4a48knPoHzU65wNM48fgBe8Gpzqd  2016   95       2   \n1950967   1920  35ACmEtrhJUy9Rn5JjVFzLsizCLTLcevFd  2016   95     144   \n...        ...                                 ...   ...  ...     ...   \n2431403   2400  1NqTr8ve8xDvhGgf8S7xyTqY9uWanWX97P  2017  210      20   \n2430704   2400   16rALWA1K1E9xAmQB6QYjAjK7PsEkeFgA  2017  210      18   \n2431376   2400  1KneRWTP5bhcvjt3Yyrdz6J5CVWQZRDLxH  2017  210     142   \n2430778   2400  19x2aGWBYjAXPtL2pHpgnu7ZSkuYxoDXpA  2017  210      32   \n2430872   2400   1D4dTntAMPXxmJmRLqJEpPrE7hM2jX37V  2017  210      16   \n\n           weight  count  looped  neighbors        income  day_of_week  \n1950989  0.500000      1       0          2  2.500000e+09          0.0  \n1950723  0.062500      1       0          1  2.999900e+08          0.0  \n1059     1.000463      3       0          2  3.100000e+08          0.0  \n1951637  1.000000      1       0          2  2.156727e+09          0.0  \n1950967  0.044554   5072       0          1  3.230677e+07          0.0  \n...           ...    ...     ...        ...           ...          ...  \n2431403  1.000000      1       0          2  5.486205e+07          5.0  \n2430704  0.000116      1       0          2  2.699118e+08          5.0  \n2431376  0.000069   6650       0          1  5.018137e+08          5.0  \n2430778  0.003906      1       0          2  2.500211e+10          5.0  \n2430872  0.250000      1       0          2  3.707462e+07          5.0  \n\n[59700 rows x 11 columns]",
      "text/html": "<div>\n<style scoped>\n    .dataframe tbody tr th:only-of-type {\n        vertical-align: middle;\n    }\n\n    .dataframe tbody tr th {\n        vertical-align: top;\n    }\n\n    .dataframe thead th {\n        text-align: right;\n    }\n</style>\n<table border=\"1\" class=\"dataframe\">\n  <thead>\n    <tr style=\"text-align: right;\">\n      <th></th>\n      <th>n_day</th>\n      <th>address</th>\n      <th>year</th>\n      <th>day</th>\n      <th>length</th>\n      <th>weight</th>\n      <th>count</th>\n      <th>looped</th>\n      <th>neighbors</th>\n      <th>income</th>\n      <th>day_of_week</th>\n    </tr>\n  </thead>\n  <tbody>\n    <tr>\n      <th>1950989</th>\n      <td>1920</td>\n      <td>36JgDSKafDma5xDqsCg2x8c8oV8WR79Bmc</td>\n      <td>2016</td>\n      <td>95</td>\n      <td>0</td>\n      <td>0.500000</td>\n      <td>1</td>\n      <td>0</td>\n      <td>2</td>\n      <td>2.500000e+09</td>\n      <td>0.0</td>\n    </tr>\n    <tr>\n      <th>1950723</th>\n      <td>1920</td>\n      <td>1M8XLtfvmH2MBXSztMnENEWZvqVNfH3gbK</td>\n      <td>2016</td>\n      <td>95</td>\n      <td>4</td>\n      <td>0.062500</td>\n      <td>1</td>\n      <td>0</td>\n      <td>1</td>\n      <td>2.999900e+08</td>\n      <td>0.0</td>\n    </tr>\n    <tr>\n      <th>1059</th>\n      <td>1920</td>\n      <td>12pc75GMaCFZopL2My8vesTJ3G8aRNFigi</td>\n      <td>2016</td>\n      <td>95</td>\n      <td>16</td>\n      <td>1.000463</td>\n      <td>3</td>\n      <td>0</td>\n      <td>2</td>\n      <td>3.100000e+08</td>\n      <td>0.0</td>\n    </tr>\n    <tr>\n      <th>1951637</th>\n      <td>1920</td>\n      <td>17PK8L4a48knPoHzU65wNM48fgBe8Gpzqd</td>\n      <td>2016</td>\n      <td>95</td>\n      <td>2</td>\n      <td>1.000000</td>\n      <td>1</td>\n      <td>0</td>\n      <td>2</td>\n      <td>2.156727e+09</td>\n      <td>0.0</td>\n    </tr>\n    <tr>\n      <th>1950967</th>\n      <td>1920</td>\n      <td>35ACmEtrhJUy9Rn5JjVFzLsizCLTLcevFd</td>\n      <td>2016</td>\n      <td>95</td>\n      <td>144</td>\n      <td>0.044554</td>\n      <td>5072</td>\n      <td>0</td>\n      <td>1</td>\n      <td>3.230677e+07</td>\n      <td>0.0</td>\n    </tr>\n    <tr>\n      <th>...</th>\n      <td>...</td>\n      <td>...</td>\n      <td>...</td>\n      <td>...</td>\n      <td>...</td>\n      <td>...</td>\n      <td>...</td>\n      <td>...</td>\n      <td>...</td>\n      <td>...</td>\n      <td>...</td>\n    </tr>\n    <tr>\n      <th>2431403</th>\n      <td>2400</td>\n      <td>1NqTr8ve8xDvhGgf8S7xyTqY9uWanWX97P</td>\n      <td>2017</td>\n      <td>210</td>\n      <td>20</td>\n      <td>1.000000</td>\n      <td>1</td>\n      <td>0</td>\n      <td>2</td>\n      <td>5.486205e+07</td>\n      <td>5.0</td>\n    </tr>\n    <tr>\n      <th>2430704</th>\n      <td>2400</td>\n      <td>16rALWA1K1E9xAmQB6QYjAjK7PsEkeFgA</td>\n      <td>2017</td>\n      <td>210</td>\n      <td>18</td>\n      <td>0.000116</td>\n      <td>1</td>\n      <td>0</td>\n      <td>2</td>\n      <td>2.699118e+08</td>\n      <td>5.0</td>\n    </tr>\n    <tr>\n      <th>2431376</th>\n      <td>2400</td>\n      <td>1KneRWTP5bhcvjt3Yyrdz6J5CVWQZRDLxH</td>\n      <td>2017</td>\n      <td>210</td>\n      <td>142</td>\n      <td>0.000069</td>\n      <td>6650</td>\n      <td>0</td>\n      <td>1</td>\n      <td>5.018137e+08</td>\n      <td>5.0</td>\n    </tr>\n    <tr>\n      <th>2430778</th>\n      <td>2400</td>\n      <td>19x2aGWBYjAXPtL2pHpgnu7ZSkuYxoDXpA</td>\n      <td>2017</td>\n      <td>210</td>\n      <td>32</td>\n      <td>0.003906</td>\n      <td>1</td>\n      <td>0</td>\n      <td>2</td>\n      <td>2.500211e+10</td>\n      <td>5.0</td>\n    </tr>\n    <tr>\n      <th>2430872</th>\n      <td>2400</td>\n      <td>1D4dTntAMPXxmJmRLqJEpPrE7hM2jX37V</td>\n      <td>2017</td>\n      <td>210</td>\n      <td>16</td>\n      <td>0.250000</td>\n      <td>1</td>\n      <td>0</td>\n      <td>2</td>\n      <td>3.707462e+07</td>\n      <td>5.0</td>\n    </tr>\n  </tbody>\n</table>\n<p>59700 rows × 11 columns</p>\n</div>"
     },
     "execution_count": 52,
     "metadata": {},
     "output_type": "execute_result"
    }
   ],
   "source": [
    "day_of_week(X_df)"
   ],
   "metadata": {
    "collapsed": false
   }
  },
  {
   "cell_type": "code",
   "execution_count": 53,
   "outputs": [
    {
     "data": {
      "text/plain": "         income    length    weight neighbors    looped     count  \\\n0      0.021188 -0.753143 -0.059892 -0.011761 -0.187231 -0.469878   \n1     -0.040213 -0.686645 -0.388692 -0.143198 -0.187231 -0.469878   \n2     -0.039934 -0.487152  0.316227 -0.011761 -0.187231 -0.468928   \n3      0.011608 -0.719894  0.315879 -0.011761 -0.187231 -0.469878   \n4     -0.047684  1.640771 -0.402179 -0.143198 -0.187231  1.939169   \n...         ...       ...       ...       ...       ...       ...   \n59695 -0.047055 -0.420655  0.315879 -0.011761 -0.187231 -0.469878   \n59696 -0.041053 -0.453904 -0.435576 -0.011761 -0.187231 -0.469878   \n59697 -0.034581  1.607523 -0.435611 -0.143198 -0.187231  2.688819   \n59698  0.649217 -0.221162 -0.432727 -0.011761 -0.187231 -0.469878   \n59699 -0.047551 -0.487152 -0.247777 -0.011761 -0.187231 -0.469878   \n\n      day_of_week_0.0 day_of_week_1.0 day_of_week_2.0 day_of_week_3.0  \\\n0                   1               0               0               0   \n1                   1               0               0               0   \n2                   1               0               0               0   \n3                   1               0               0               0   \n4                   1               0               0               0   \n...               ...             ...             ...             ...   \n59695               0               0               0               0   \n59696               0               0               0               0   \n59697               0               0               0               0   \n59698               0               0               0               0   \n59699               0               0               0               0   \n\n      day_of_week_4.0 day_of_week_5.0 day_of_week_6.0 n_day  \\\n0                   0               0               0  1920   \n1                   0               0               0  1920   \n2                   0               0               0  1920   \n3                   0               0               0  1920   \n4                   0               0               0  1920   \n...               ...             ...             ...   ...   \n59695               0               1               0  2400   \n59696               0               1               0  2400   \n59697               0               1               0  2400   \n59698               0               1               0  2400   \n59699               0               1               0  2400   \n\n                                  address  year  day  \n0      36JgDSKafDma5xDqsCg2x8c8oV8WR79Bmc  2016   95  \n1      1M8XLtfvmH2MBXSztMnENEWZvqVNfH3gbK  2016   95  \n2      12pc75GMaCFZopL2My8vesTJ3G8aRNFigi  2016   95  \n3      17PK8L4a48knPoHzU65wNM48fgBe8Gpzqd  2016   95  \n4      35ACmEtrhJUy9Rn5JjVFzLsizCLTLcevFd  2016   95  \n...                                   ...   ...  ...  \n59695  1NqTr8ve8xDvhGgf8S7xyTqY9uWanWX97P  2017  210  \n59696   16rALWA1K1E9xAmQB6QYjAjK7PsEkeFgA  2017  210  \n59697  1KneRWTP5bhcvjt3Yyrdz6J5CVWQZRDLxH  2017  210  \n59698  19x2aGWBYjAXPtL2pHpgnu7ZSkuYxoDXpA  2017  210  \n59699   1D4dTntAMPXxmJmRLqJEpPrE7hM2jX37V  2017  210  \n\n[59700 rows x 17 columns]",
      "text/html": "<div>\n<style scoped>\n    .dataframe tbody tr th:only-of-type {\n        vertical-align: middle;\n    }\n\n    .dataframe tbody tr th {\n        vertical-align: top;\n    }\n\n    .dataframe thead th {\n        text-align: right;\n    }\n</style>\n<table border=\"1\" class=\"dataframe\">\n  <thead>\n    <tr style=\"text-align: right;\">\n      <th></th>\n      <th>income</th>\n      <th>length</th>\n      <th>weight</th>\n      <th>neighbors</th>\n      <th>looped</th>\n      <th>count</th>\n      <th>day_of_week_0.0</th>\n      <th>day_of_week_1.0</th>\n      <th>day_of_week_2.0</th>\n      <th>day_of_week_3.0</th>\n      <th>day_of_week_4.0</th>\n      <th>day_of_week_5.0</th>\n      <th>day_of_week_6.0</th>\n      <th>n_day</th>\n      <th>address</th>\n      <th>year</th>\n      <th>day</th>\n    </tr>\n  </thead>\n  <tbody>\n    <tr>\n      <th>0</th>\n      <td>0.021188</td>\n      <td>-0.753143</td>\n      <td>-0.059892</td>\n      <td>-0.011761</td>\n      <td>-0.187231</td>\n      <td>-0.469878</td>\n      <td>1</td>\n      <td>0</td>\n      <td>0</td>\n      <td>0</td>\n      <td>0</td>\n      <td>0</td>\n      <td>0</td>\n      <td>1920</td>\n      <td>36JgDSKafDma5xDqsCg2x8c8oV8WR79Bmc</td>\n      <td>2016</td>\n      <td>95</td>\n    </tr>\n    <tr>\n      <th>1</th>\n      <td>-0.040213</td>\n      <td>-0.686645</td>\n      <td>-0.388692</td>\n      <td>-0.143198</td>\n      <td>-0.187231</td>\n      <td>-0.469878</td>\n      <td>1</td>\n      <td>0</td>\n      <td>0</td>\n      <td>0</td>\n      <td>0</td>\n      <td>0</td>\n      <td>0</td>\n      <td>1920</td>\n      <td>1M8XLtfvmH2MBXSztMnENEWZvqVNfH3gbK</td>\n      <td>2016</td>\n      <td>95</td>\n    </tr>\n    <tr>\n      <th>2</th>\n      <td>-0.039934</td>\n      <td>-0.487152</td>\n      <td>0.316227</td>\n      <td>-0.011761</td>\n      <td>-0.187231</td>\n      <td>-0.468928</td>\n      <td>1</td>\n      <td>0</td>\n      <td>0</td>\n      <td>0</td>\n      <td>0</td>\n      <td>0</td>\n      <td>0</td>\n      <td>1920</td>\n      <td>12pc75GMaCFZopL2My8vesTJ3G8aRNFigi</td>\n      <td>2016</td>\n      <td>95</td>\n    </tr>\n    <tr>\n      <th>3</th>\n      <td>0.011608</td>\n      <td>-0.719894</td>\n      <td>0.315879</td>\n      <td>-0.011761</td>\n      <td>-0.187231</td>\n      <td>-0.469878</td>\n      <td>1</td>\n      <td>0</td>\n      <td>0</td>\n      <td>0</td>\n      <td>0</td>\n      <td>0</td>\n      <td>0</td>\n      <td>1920</td>\n      <td>17PK8L4a48knPoHzU65wNM48fgBe8Gpzqd</td>\n      <td>2016</td>\n      <td>95</td>\n    </tr>\n    <tr>\n      <th>4</th>\n      <td>-0.047684</td>\n      <td>1.640771</td>\n      <td>-0.402179</td>\n      <td>-0.143198</td>\n      <td>-0.187231</td>\n      <td>1.939169</td>\n      <td>1</td>\n      <td>0</td>\n      <td>0</td>\n      <td>0</td>\n      <td>0</td>\n      <td>0</td>\n      <td>0</td>\n      <td>1920</td>\n      <td>35ACmEtrhJUy9Rn5JjVFzLsizCLTLcevFd</td>\n      <td>2016</td>\n      <td>95</td>\n    </tr>\n    <tr>\n      <th>...</th>\n      <td>...</td>\n      <td>...</td>\n      <td>...</td>\n      <td>...</td>\n      <td>...</td>\n      <td>...</td>\n      <td>...</td>\n      <td>...</td>\n      <td>...</td>\n      <td>...</td>\n      <td>...</td>\n      <td>...</td>\n      <td>...</td>\n      <td>...</td>\n      <td>...</td>\n      <td>...</td>\n      <td>...</td>\n    </tr>\n    <tr>\n      <th>59695</th>\n      <td>-0.047055</td>\n      <td>-0.420655</td>\n      <td>0.315879</td>\n      <td>-0.011761</td>\n      <td>-0.187231</td>\n      <td>-0.469878</td>\n      <td>0</td>\n      <td>0</td>\n      <td>0</td>\n      <td>0</td>\n      <td>0</td>\n      <td>1</td>\n      <td>0</td>\n      <td>2400</td>\n      <td>1NqTr8ve8xDvhGgf8S7xyTqY9uWanWX97P</td>\n      <td>2017</td>\n      <td>210</td>\n    </tr>\n    <tr>\n      <th>59696</th>\n      <td>-0.041053</td>\n      <td>-0.453904</td>\n      <td>-0.435576</td>\n      <td>-0.011761</td>\n      <td>-0.187231</td>\n      <td>-0.469878</td>\n      <td>0</td>\n      <td>0</td>\n      <td>0</td>\n      <td>0</td>\n      <td>0</td>\n      <td>1</td>\n      <td>0</td>\n      <td>2400</td>\n      <td>16rALWA1K1E9xAmQB6QYjAjK7PsEkeFgA</td>\n      <td>2017</td>\n      <td>210</td>\n    </tr>\n    <tr>\n      <th>59697</th>\n      <td>-0.034581</td>\n      <td>1.607523</td>\n      <td>-0.435611</td>\n      <td>-0.143198</td>\n      <td>-0.187231</td>\n      <td>2.688819</td>\n      <td>0</td>\n      <td>0</td>\n      <td>0</td>\n      <td>0</td>\n      <td>0</td>\n      <td>1</td>\n      <td>0</td>\n      <td>2400</td>\n      <td>1KneRWTP5bhcvjt3Yyrdz6J5CVWQZRDLxH</td>\n      <td>2017</td>\n      <td>210</td>\n    </tr>\n    <tr>\n      <th>59698</th>\n      <td>0.649217</td>\n      <td>-0.221162</td>\n      <td>-0.432727</td>\n      <td>-0.011761</td>\n      <td>-0.187231</td>\n      <td>-0.469878</td>\n      <td>0</td>\n      <td>0</td>\n      <td>0</td>\n      <td>0</td>\n      <td>0</td>\n      <td>1</td>\n      <td>0</td>\n      <td>2400</td>\n      <td>19x2aGWBYjAXPtL2pHpgnu7ZSkuYxoDXpA</td>\n      <td>2017</td>\n      <td>210</td>\n    </tr>\n    <tr>\n      <th>59699</th>\n      <td>-0.047551</td>\n      <td>-0.487152</td>\n      <td>-0.247777</td>\n      <td>-0.011761</td>\n      <td>-0.187231</td>\n      <td>-0.469878</td>\n      <td>0</td>\n      <td>0</td>\n      <td>0</td>\n      <td>0</td>\n      <td>0</td>\n      <td>1</td>\n      <td>0</td>\n      <td>2400</td>\n      <td>1D4dTntAMPXxmJmRLqJEpPrE7hM2jX37V</td>\n      <td>2017</td>\n      <td>210</td>\n    </tr>\n  </tbody>\n</table>\n<p>59700 rows × 17 columns</p>\n</div>"
     },
     "execution_count": 53,
     "metadata": {},
     "output_type": "execute_result"
    }
   ],
   "source": [
    "X_df=transform(X_df)\n",
    "X_df"
   ],
   "metadata": {
    "collapsed": false
   }
  },
  {
   "cell_type": "code",
   "execution_count": 54,
   "outputs": [
    {
     "data": {
      "text/plain": "59700"
     },
     "execution_count": 54,
     "metadata": {},
     "output_type": "execute_result"
    }
   ],
   "source": [
    "X_df0 = X_df.reset_index(drop=True)\n",
    "len(X_df0)"
   ],
   "metadata": {
    "collapsed": false
   }
  },
  {
   "cell_type": "code",
   "execution_count": 55,
   "outputs": [
    {
     "data": {
      "text/plain": "59700"
     },
     "execution_count": 55,
     "metadata": {},
     "output_type": "execute_result"
    }
   ],
   "source": [
    "y_df0 = y_df.reset_index(drop=True)\n",
    "len(y_df0)"
   ],
   "metadata": {
    "collapsed": false
   }
  },
  {
   "cell_type": "code",
   "execution_count": 56,
   "outputs": [
    {
     "data": {
      "text/plain": "         n_day                             address  year  day  length  \\\n2431424   2400  39V5cHzVGuHBv9D43ikLdRKXeH9ojrNYaS  2017  210       0   \n2430728   2400  1BD9tcH52JE3rGVAMQEzCBj2M25VjZcxez  2017  210      14   \n2431674   2400  3LvFTHNr5XNYQFam9BTpvky6SpbDBRDYJr  2017  210       0   \n2431066   2400  3BMEXKvrCFsTAxvNtXGHQcYdv9Wq46NFHk  2017  210       2   \n2431619   2400  1DoM52bn9wWXXKNN7LhrA1eXhuRm7bcBvU  2017  210       4   \n...        ...                                 ...   ...  ...     ...   \n2460123   2429  15meA7WKTrt3Ns8rZ1HGUT9orPDFHsGbxD  2017  239     144   \n2460026   2429  1JDmbM4qACrRkS9m1rDc1Qnkcve97jRQyG  2017  239     116   \n2460150   2429  19ynwMaai3jD2jbYmxsHam5C3qaEfZ41zx  2017  239     144   \n2459753   2429  35WxAybY2fLt9SohsdzMvxsG9TMsBuwc9j  2017  239     144   \n2459835   2429  16wgvJiWLc6sw9oSQtMPbmDMbMF3kiqqp9  2017  239     106   \n\n           weight  count  looped  neighbors        income  \n2431424  1.000000      1       0          1  1.254629e+08  \n2430728  0.031250      1       0          2  1.381058e+10  \n2431674  0.500000      1       0          1  5.879121e+08  \n2431066  5.250000      4       4          5  1.641642e+10  \n2431619  0.500000      1       0          2  9.400071e+08  \n...           ...    ...     ...        ...           ...  \n2460123  0.084731   4004    4004          4  2.210895e+08  \n2460026  0.500000      1       0          2  1.341213e+09  \n2460150  0.758331   5550       0          2  3.222404e+07  \n2459753  0.435569   5527       0          1  6.000000e+07  \n2459835  0.031250      1       0          2  1.352892e+09  \n\n[3553 rows x 10 columns]",
      "text/html": "<div>\n<style scoped>\n    .dataframe tbody tr th:only-of-type {\n        vertical-align: middle;\n    }\n\n    .dataframe tbody tr th {\n        vertical-align: top;\n    }\n\n    .dataframe thead th {\n        text-align: right;\n    }\n</style>\n<table border=\"1\" class=\"dataframe\">\n  <thead>\n    <tr style=\"text-align: right;\">\n      <th></th>\n      <th>n_day</th>\n      <th>address</th>\n      <th>year</th>\n      <th>day</th>\n      <th>length</th>\n      <th>weight</th>\n      <th>count</th>\n      <th>looped</th>\n      <th>neighbors</th>\n      <th>income</th>\n    </tr>\n  </thead>\n  <tbody>\n    <tr>\n      <th>2431424</th>\n      <td>2400</td>\n      <td>39V5cHzVGuHBv9D43ikLdRKXeH9ojrNYaS</td>\n      <td>2017</td>\n      <td>210</td>\n      <td>0</td>\n      <td>1.000000</td>\n      <td>1</td>\n      <td>0</td>\n      <td>1</td>\n      <td>1.254629e+08</td>\n    </tr>\n    <tr>\n      <th>2430728</th>\n      <td>2400</td>\n      <td>1BD9tcH52JE3rGVAMQEzCBj2M25VjZcxez</td>\n      <td>2017</td>\n      <td>210</td>\n      <td>14</td>\n      <td>0.031250</td>\n      <td>1</td>\n      <td>0</td>\n      <td>2</td>\n      <td>1.381058e+10</td>\n    </tr>\n    <tr>\n      <th>2431674</th>\n      <td>2400</td>\n      <td>3LvFTHNr5XNYQFam9BTpvky6SpbDBRDYJr</td>\n      <td>2017</td>\n      <td>210</td>\n      <td>0</td>\n      <td>0.500000</td>\n      <td>1</td>\n      <td>0</td>\n      <td>1</td>\n      <td>5.879121e+08</td>\n    </tr>\n    <tr>\n      <th>2431066</th>\n      <td>2400</td>\n      <td>3BMEXKvrCFsTAxvNtXGHQcYdv9Wq46NFHk</td>\n      <td>2017</td>\n      <td>210</td>\n      <td>2</td>\n      <td>5.250000</td>\n      <td>4</td>\n      <td>4</td>\n      <td>5</td>\n      <td>1.641642e+10</td>\n    </tr>\n    <tr>\n      <th>2431619</th>\n      <td>2400</td>\n      <td>1DoM52bn9wWXXKNN7LhrA1eXhuRm7bcBvU</td>\n      <td>2017</td>\n      <td>210</td>\n      <td>4</td>\n      <td>0.500000</td>\n      <td>1</td>\n      <td>0</td>\n      <td>2</td>\n      <td>9.400071e+08</td>\n    </tr>\n    <tr>\n      <th>...</th>\n      <td>...</td>\n      <td>...</td>\n      <td>...</td>\n      <td>...</td>\n      <td>...</td>\n      <td>...</td>\n      <td>...</td>\n      <td>...</td>\n      <td>...</td>\n      <td>...</td>\n    </tr>\n    <tr>\n      <th>2460123</th>\n      <td>2429</td>\n      <td>15meA7WKTrt3Ns8rZ1HGUT9orPDFHsGbxD</td>\n      <td>2017</td>\n      <td>239</td>\n      <td>144</td>\n      <td>0.084731</td>\n      <td>4004</td>\n      <td>4004</td>\n      <td>4</td>\n      <td>2.210895e+08</td>\n    </tr>\n    <tr>\n      <th>2460026</th>\n      <td>2429</td>\n      <td>1JDmbM4qACrRkS9m1rDc1Qnkcve97jRQyG</td>\n      <td>2017</td>\n      <td>239</td>\n      <td>116</td>\n      <td>0.500000</td>\n      <td>1</td>\n      <td>0</td>\n      <td>2</td>\n      <td>1.341213e+09</td>\n    </tr>\n    <tr>\n      <th>2460150</th>\n      <td>2429</td>\n      <td>19ynwMaai3jD2jbYmxsHam5C3qaEfZ41zx</td>\n      <td>2017</td>\n      <td>239</td>\n      <td>144</td>\n      <td>0.758331</td>\n      <td>5550</td>\n      <td>0</td>\n      <td>2</td>\n      <td>3.222404e+07</td>\n    </tr>\n    <tr>\n      <th>2459753</th>\n      <td>2429</td>\n      <td>35WxAybY2fLt9SohsdzMvxsG9TMsBuwc9j</td>\n      <td>2017</td>\n      <td>239</td>\n      <td>144</td>\n      <td>0.435569</td>\n      <td>5527</td>\n      <td>0</td>\n      <td>1</td>\n      <td>6.000000e+07</td>\n    </tr>\n    <tr>\n      <th>2459835</th>\n      <td>2429</td>\n      <td>16wgvJiWLc6sw9oSQtMPbmDMbMF3kiqqp9</td>\n      <td>2017</td>\n      <td>239</td>\n      <td>106</td>\n      <td>0.031250</td>\n      <td>1</td>\n      <td>0</td>\n      <td>2</td>\n      <td>1.352892e+09</td>\n    </tr>\n  </tbody>\n</table>\n<p>3553 rows × 10 columns</p>\n</div>"
     },
     "execution_count": 56,
     "metadata": {},
     "output_type": "execute_result"
    }
   ],
   "source": [
    "X_future"
   ],
   "metadata": {
    "collapsed": false
   }
  },
  {
   "cell_type": "code",
   "execution_count": 57,
   "outputs": [],
   "source": [
    "# down sample the test set"
   ],
   "metadata": {
    "collapsed": false
   }
  },
  {
   "cell_type": "code",
   "execution_count": 58,
   "outputs": [
    {
     "data": {
      "text/plain": "0    3542\n1      11\nName: label, dtype: int64"
     },
     "execution_count": 58,
     "metadata": {},
     "output_type": "execute_result"
    }
   ],
   "source": [
    "y_future = dft.loc[X_future.index].label.apply(lambda x: 0 if x=='white' else 1)\n",
    "y_future.value_counts()"
   ],
   "metadata": {
    "collapsed": false
   }
  },
  {
   "cell_type": "code",
   "execution_count": 58,
   "outputs": [],
   "source": [],
   "metadata": {
    "collapsed": false
   }
  },
  {
   "cell_type": "code",
   "execution_count": 59,
   "outputs": [],
   "source": [
    "y_future_down = pd.concat([y_future[y_future==0].sample(1000),y_future[y_future==1]])"
   ],
   "metadata": {
    "collapsed": false
   }
  },
  {
   "cell_type": "code",
   "execution_count": 60,
   "outputs": [
    {
     "data": {
      "text/plain": "0    1000\n1      11\nName: label, dtype: int64"
     },
     "execution_count": 60,
     "metadata": {},
     "output_type": "execute_result"
    }
   ],
   "source": [
    "y_future_down.value_counts()"
   ],
   "metadata": {
    "collapsed": false
   }
  },
  {
   "cell_type": "code",
   "execution_count": 61,
   "outputs": [],
   "source": [
    "X_future_down = X_future.loc[y_future_down.index]"
   ],
   "metadata": {
    "collapsed": false
   }
  },
  {
   "cell_type": "code",
   "execution_count": 62,
   "outputs": [
    {
     "data": {
      "text/plain": "         n_day                             address  year  day  length  \\\n2453079   2422  1K2pPRZx8PTYG7kTmJg2noWiwkXkKEdY16  2017  232       2   \n2431711   2401  1Geh64YRAbVfs6EEtdjGkGTqLrbc9Eab9J  2017  211      52   \n2431904   2401  1FGrrFbszS4s1KwcGPBH1miHd62weK5dGy  2017  211       0   \n2446992   2416  18tAtwbLAgyRjwJhq6gttC2XFtddVxLCJS  2017  226       8   \n2435970   2405  1HJBK4bsfdFBuwW33CwBrq5EPLhSS1QkLT  2017  215       2   \n...        ...                                 ...   ...  ...     ...   \n23306     2413  1EuLyA5UeAGhDLkSJdvGGGbDdcgYaf3jMr  2017  223     142   \n29449     2413  1JkyZRhBSmWhVqERtfm6tN4GBJyFy1MozP  2017  223     144   \n34978     2420  1Mc4xCEEF7fh35YNh7dC3Kh8pTLV8zNmjS  2017  230      78   \n8413      2425  16LpTe2cSyvxccDCNjZd17uVEbBR4VZKzN  2017  235       6   \n39406     2426  1PsPdmHmQkcm16kHTY8jeZ6gGp6YvJsFeb  2017  236       0   \n\n               weight  count  looped  neighbors        income  \n2453079  2.500000e-01      1       0          2  3.350297e+09  \n2431711  9.042245e-07      1       0          2  4.166526e+09  \n2431904  1.000000e+00      1       0          1  4.000000e+07  \n2446992  1.250000e-01      1       0          2  2.094700e+08  \n2435970  5.000000e-01      1       0          2  1.346620e+09  \n...               ...    ...     ...        ...           ...  \n23306    1.821912e-06   1269       0          2  5.000000e+07  \n29449    2.985678e-02   1911       0          2  5.000000e+07  \n34978    7.450581e-09      1       0          2  4.000000e+07  \n8413     5.000000e-01      1       0          2  4.000000e+07  \n39406    5.000000e-01      1       0          2  3.200000e+07  \n\n[1011 rows x 10 columns]",
      "text/html": "<div>\n<style scoped>\n    .dataframe tbody tr th:only-of-type {\n        vertical-align: middle;\n    }\n\n    .dataframe tbody tr th {\n        vertical-align: top;\n    }\n\n    .dataframe thead th {\n        text-align: right;\n    }\n</style>\n<table border=\"1\" class=\"dataframe\">\n  <thead>\n    <tr style=\"text-align: right;\">\n      <th></th>\n      <th>n_day</th>\n      <th>address</th>\n      <th>year</th>\n      <th>day</th>\n      <th>length</th>\n      <th>weight</th>\n      <th>count</th>\n      <th>looped</th>\n      <th>neighbors</th>\n      <th>income</th>\n    </tr>\n  </thead>\n  <tbody>\n    <tr>\n      <th>2453079</th>\n      <td>2422</td>\n      <td>1K2pPRZx8PTYG7kTmJg2noWiwkXkKEdY16</td>\n      <td>2017</td>\n      <td>232</td>\n      <td>2</td>\n      <td>2.500000e-01</td>\n      <td>1</td>\n      <td>0</td>\n      <td>2</td>\n      <td>3.350297e+09</td>\n    </tr>\n    <tr>\n      <th>2431711</th>\n      <td>2401</td>\n      <td>1Geh64YRAbVfs6EEtdjGkGTqLrbc9Eab9J</td>\n      <td>2017</td>\n      <td>211</td>\n      <td>52</td>\n      <td>9.042245e-07</td>\n      <td>1</td>\n      <td>0</td>\n      <td>2</td>\n      <td>4.166526e+09</td>\n    </tr>\n    <tr>\n      <th>2431904</th>\n      <td>2401</td>\n      <td>1FGrrFbszS4s1KwcGPBH1miHd62weK5dGy</td>\n      <td>2017</td>\n      <td>211</td>\n      <td>0</td>\n      <td>1.000000e+00</td>\n      <td>1</td>\n      <td>0</td>\n      <td>1</td>\n      <td>4.000000e+07</td>\n    </tr>\n    <tr>\n      <th>2446992</th>\n      <td>2416</td>\n      <td>18tAtwbLAgyRjwJhq6gttC2XFtddVxLCJS</td>\n      <td>2017</td>\n      <td>226</td>\n      <td>8</td>\n      <td>1.250000e-01</td>\n      <td>1</td>\n      <td>0</td>\n      <td>2</td>\n      <td>2.094700e+08</td>\n    </tr>\n    <tr>\n      <th>2435970</th>\n      <td>2405</td>\n      <td>1HJBK4bsfdFBuwW33CwBrq5EPLhSS1QkLT</td>\n      <td>2017</td>\n      <td>215</td>\n      <td>2</td>\n      <td>5.000000e-01</td>\n      <td>1</td>\n      <td>0</td>\n      <td>2</td>\n      <td>1.346620e+09</td>\n    </tr>\n    <tr>\n      <th>...</th>\n      <td>...</td>\n      <td>...</td>\n      <td>...</td>\n      <td>...</td>\n      <td>...</td>\n      <td>...</td>\n      <td>...</td>\n      <td>...</td>\n      <td>...</td>\n      <td>...</td>\n    </tr>\n    <tr>\n      <th>23306</th>\n      <td>2413</td>\n      <td>1EuLyA5UeAGhDLkSJdvGGGbDdcgYaf3jMr</td>\n      <td>2017</td>\n      <td>223</td>\n      <td>142</td>\n      <td>1.821912e-06</td>\n      <td>1269</td>\n      <td>0</td>\n      <td>2</td>\n      <td>5.000000e+07</td>\n    </tr>\n    <tr>\n      <th>29449</th>\n      <td>2413</td>\n      <td>1JkyZRhBSmWhVqERtfm6tN4GBJyFy1MozP</td>\n      <td>2017</td>\n      <td>223</td>\n      <td>144</td>\n      <td>2.985678e-02</td>\n      <td>1911</td>\n      <td>0</td>\n      <td>2</td>\n      <td>5.000000e+07</td>\n    </tr>\n    <tr>\n      <th>34978</th>\n      <td>2420</td>\n      <td>1Mc4xCEEF7fh35YNh7dC3Kh8pTLV8zNmjS</td>\n      <td>2017</td>\n      <td>230</td>\n      <td>78</td>\n      <td>7.450581e-09</td>\n      <td>1</td>\n      <td>0</td>\n      <td>2</td>\n      <td>4.000000e+07</td>\n    </tr>\n    <tr>\n      <th>8413</th>\n      <td>2425</td>\n      <td>16LpTe2cSyvxccDCNjZd17uVEbBR4VZKzN</td>\n      <td>2017</td>\n      <td>235</td>\n      <td>6</td>\n      <td>5.000000e-01</td>\n      <td>1</td>\n      <td>0</td>\n      <td>2</td>\n      <td>4.000000e+07</td>\n    </tr>\n    <tr>\n      <th>39406</th>\n      <td>2426</td>\n      <td>1PsPdmHmQkcm16kHTY8jeZ6gGp6YvJsFeb</td>\n      <td>2017</td>\n      <td>236</td>\n      <td>0</td>\n      <td>5.000000e-01</td>\n      <td>1</td>\n      <td>0</td>\n      <td>2</td>\n      <td>3.200000e+07</td>\n    </tr>\n  </tbody>\n</table>\n<p>1011 rows × 10 columns</p>\n</div>"
     },
     "execution_count": 62,
     "metadata": {},
     "output_type": "execute_result"
    }
   ],
   "source": [
    "X_future_down"
   ],
   "metadata": {
    "collapsed": false
   }
  },
  {
   "cell_type": "code",
   "execution_count": 63,
   "outputs": [
    {
     "data": {
      "text/plain": "2453079    0\n2431711    0\n2431904    0\n2446992    0\n2435970    0\n          ..\n23306      1\n29449      1\n34978      1\n8413       1\n39406      1\nName: label, Length: 1011, dtype: int64"
     },
     "execution_count": 63,
     "metadata": {},
     "output_type": "execute_result"
    }
   ],
   "source": [
    "y_future_down"
   ],
   "metadata": {
    "collapsed": false
   }
  },
  {
   "cell_type": "code",
   "execution_count": 64,
   "outputs": [
    {
     "data": {
      "text/plain": "  0%|          | 0/3553 [00:00<?, ?it/s]",
      "application/vnd.jupyter.widget-view+json": {
       "version_major": 2,
       "version_minor": 0,
       "model_id": "3cd246b0027849619e0af48b2c9fa926"
      }
     },
     "metadata": {},
     "output_type": "display_data"
    },
    {
     "data": {
      "text/plain": "         n_day                             address  year  day  length  \\\n2431424   2400  39V5cHzVGuHBv9D43ikLdRKXeH9ojrNYaS  2017  210       0   \n2430728   2400  1BD9tcH52JE3rGVAMQEzCBj2M25VjZcxez  2017  210      14   \n2431674   2400  3LvFTHNr5XNYQFam9BTpvky6SpbDBRDYJr  2017  210       0   \n2431066   2400  3BMEXKvrCFsTAxvNtXGHQcYdv9Wq46NFHk  2017  210       2   \n2431619   2400  1DoM52bn9wWXXKNN7LhrA1eXhuRm7bcBvU  2017  210       4   \n...        ...                                 ...   ...  ...     ...   \n2460123   2429  15meA7WKTrt3Ns8rZ1HGUT9orPDFHsGbxD  2017  239     144   \n2460026   2429  1JDmbM4qACrRkS9m1rDc1Qnkcve97jRQyG  2017  239     116   \n2460150   2429  19ynwMaai3jD2jbYmxsHam5C3qaEfZ41zx  2017  239     144   \n2459753   2429  35WxAybY2fLt9SohsdzMvxsG9TMsBuwc9j  2017  239     144   \n2459835   2429  16wgvJiWLc6sw9oSQtMPbmDMbMF3kiqqp9  2017  239     106   \n\n           weight  count  looped  neighbors        income  day_of_week  \n2431424  1.000000      1       0          1  1.254629e+08          5.0  \n2430728  0.031250      1       0          2  1.381058e+10          5.0  \n2431674  0.500000      1       0          1  5.879121e+08          5.0  \n2431066  5.250000      4       4          5  1.641642e+10          5.0  \n2431619  0.500000      1       0          2  9.400071e+08          5.0  \n...           ...    ...     ...        ...           ...          ...  \n2460123  0.084731   4004    4004          4  2.210895e+08          6.0  \n2460026  0.500000      1       0          2  1.341213e+09          6.0  \n2460150  0.758331   5550       0          2  3.222404e+07          6.0  \n2459753  0.435569   5527       0          1  6.000000e+07          6.0  \n2459835  0.031250      1       0          2  1.352892e+09          6.0  \n\n[3553 rows x 11 columns]",
      "text/html": "<div>\n<style scoped>\n    .dataframe tbody tr th:only-of-type {\n        vertical-align: middle;\n    }\n\n    .dataframe tbody tr th {\n        vertical-align: top;\n    }\n\n    .dataframe thead th {\n        text-align: right;\n    }\n</style>\n<table border=\"1\" class=\"dataframe\">\n  <thead>\n    <tr style=\"text-align: right;\">\n      <th></th>\n      <th>n_day</th>\n      <th>address</th>\n      <th>year</th>\n      <th>day</th>\n      <th>length</th>\n      <th>weight</th>\n      <th>count</th>\n      <th>looped</th>\n      <th>neighbors</th>\n      <th>income</th>\n      <th>day_of_week</th>\n    </tr>\n  </thead>\n  <tbody>\n    <tr>\n      <th>2431424</th>\n      <td>2400</td>\n      <td>39V5cHzVGuHBv9D43ikLdRKXeH9ojrNYaS</td>\n      <td>2017</td>\n      <td>210</td>\n      <td>0</td>\n      <td>1.000000</td>\n      <td>1</td>\n      <td>0</td>\n      <td>1</td>\n      <td>1.254629e+08</td>\n      <td>5.0</td>\n    </tr>\n    <tr>\n      <th>2430728</th>\n      <td>2400</td>\n      <td>1BD9tcH52JE3rGVAMQEzCBj2M25VjZcxez</td>\n      <td>2017</td>\n      <td>210</td>\n      <td>14</td>\n      <td>0.031250</td>\n      <td>1</td>\n      <td>0</td>\n      <td>2</td>\n      <td>1.381058e+10</td>\n      <td>5.0</td>\n    </tr>\n    <tr>\n      <th>2431674</th>\n      <td>2400</td>\n      <td>3LvFTHNr5XNYQFam9BTpvky6SpbDBRDYJr</td>\n      <td>2017</td>\n      <td>210</td>\n      <td>0</td>\n      <td>0.500000</td>\n      <td>1</td>\n      <td>0</td>\n      <td>1</td>\n      <td>5.879121e+08</td>\n      <td>5.0</td>\n    </tr>\n    <tr>\n      <th>2431066</th>\n      <td>2400</td>\n      <td>3BMEXKvrCFsTAxvNtXGHQcYdv9Wq46NFHk</td>\n      <td>2017</td>\n      <td>210</td>\n      <td>2</td>\n      <td>5.250000</td>\n      <td>4</td>\n      <td>4</td>\n      <td>5</td>\n      <td>1.641642e+10</td>\n      <td>5.0</td>\n    </tr>\n    <tr>\n      <th>2431619</th>\n      <td>2400</td>\n      <td>1DoM52bn9wWXXKNN7LhrA1eXhuRm7bcBvU</td>\n      <td>2017</td>\n      <td>210</td>\n      <td>4</td>\n      <td>0.500000</td>\n      <td>1</td>\n      <td>0</td>\n      <td>2</td>\n      <td>9.400071e+08</td>\n      <td>5.0</td>\n    </tr>\n    <tr>\n      <th>...</th>\n      <td>...</td>\n      <td>...</td>\n      <td>...</td>\n      <td>...</td>\n      <td>...</td>\n      <td>...</td>\n      <td>...</td>\n      <td>...</td>\n      <td>...</td>\n      <td>...</td>\n      <td>...</td>\n    </tr>\n    <tr>\n      <th>2460123</th>\n      <td>2429</td>\n      <td>15meA7WKTrt3Ns8rZ1HGUT9orPDFHsGbxD</td>\n      <td>2017</td>\n      <td>239</td>\n      <td>144</td>\n      <td>0.084731</td>\n      <td>4004</td>\n      <td>4004</td>\n      <td>4</td>\n      <td>2.210895e+08</td>\n      <td>6.0</td>\n    </tr>\n    <tr>\n      <th>2460026</th>\n      <td>2429</td>\n      <td>1JDmbM4qACrRkS9m1rDc1Qnkcve97jRQyG</td>\n      <td>2017</td>\n      <td>239</td>\n      <td>116</td>\n      <td>0.500000</td>\n      <td>1</td>\n      <td>0</td>\n      <td>2</td>\n      <td>1.341213e+09</td>\n      <td>6.0</td>\n    </tr>\n    <tr>\n      <th>2460150</th>\n      <td>2429</td>\n      <td>19ynwMaai3jD2jbYmxsHam5C3qaEfZ41zx</td>\n      <td>2017</td>\n      <td>239</td>\n      <td>144</td>\n      <td>0.758331</td>\n      <td>5550</td>\n      <td>0</td>\n      <td>2</td>\n      <td>3.222404e+07</td>\n      <td>6.0</td>\n    </tr>\n    <tr>\n      <th>2459753</th>\n      <td>2429</td>\n      <td>35WxAybY2fLt9SohsdzMvxsG9TMsBuwc9j</td>\n      <td>2017</td>\n      <td>239</td>\n      <td>144</td>\n      <td>0.435569</td>\n      <td>5527</td>\n      <td>0</td>\n      <td>1</td>\n      <td>6.000000e+07</td>\n      <td>6.0</td>\n    </tr>\n    <tr>\n      <th>2459835</th>\n      <td>2429</td>\n      <td>16wgvJiWLc6sw9oSQtMPbmDMbMF3kiqqp9</td>\n      <td>2017</td>\n      <td>239</td>\n      <td>106</td>\n      <td>0.031250</td>\n      <td>1</td>\n      <td>0</td>\n      <td>2</td>\n      <td>1.352892e+09</td>\n      <td>6.0</td>\n    </tr>\n  </tbody>\n</table>\n<p>3553 rows × 11 columns</p>\n</div>"
     },
     "execution_count": 64,
     "metadata": {},
     "output_type": "execute_result"
    }
   ],
   "source": [
    "day_of_week(X_future)"
   ],
   "metadata": {
    "collapsed": false
   }
  },
  {
   "cell_type": "code",
   "execution_count": 65,
   "outputs": [],
   "source": [
    "from sklearn.model_selection import TimeSeriesSplit"
   ],
   "metadata": {
    "collapsed": false
   }
  },
  {
   "cell_type": "code",
   "execution_count": 66,
   "outputs": [],
   "source": [
    "tscv = TimeSeriesSplit()"
   ],
   "metadata": {
    "collapsed": false
   }
  },
  {
   "cell_type": "code",
   "execution_count": 67,
   "outputs": [],
   "source": [
    "tscv_splits = tscv.split(X_df0)"
   ],
   "metadata": {
    "collapsed": false
   }
  },
  {
   "cell_type": "code",
   "execution_count": 68,
   "outputs": [
    {
     "name": "stdout",
     "output_type": "stream",
     "text": [
      "0 [   0    1    2 ... 9947 9948 9949] [ 9950  9951  9952 ... 19897 19898 19899]\n",
      "1 [    0     1     2 ... 19897 19898 19899] [19900 19901 19902 ... 29847 29848 29849]\n",
      "2 [    0     1     2 ... 29847 29848 29849] [29850 29851 29852 ... 39797 39798 39799]\n",
      "3 [    0     1     2 ... 39797 39798 39799] [39800 39801 39802 ... 49747 49748 49749]\n",
      "4 [    0     1     2 ... 49747 49748 49749] [49750 49751 49752 ... 59697 59698 59699]\n"
     ]
    }
   ],
   "source": [
    "for i,(train_id,test_id) in enumerate(tscv.split(X_df0)):\n",
    "        print(i,train_id,test_id)"
   ],
   "metadata": {
    "collapsed": false
   }
  },
  {
   "cell_type": "code",
   "execution_count": 69,
   "outputs": [],
   "source": [
    " y_trains = [y_df0.loc[x[0]]for x in tscv.split(X_df0)] # useless unless we index from zero"
   ],
   "metadata": {
    "collapsed": false
   }
  },
  {
   "cell_type": "code",
   "execution_count": 70,
   "outputs": [
    {
     "data": {
      "text/plain": "0    9373\n1     577\nName: label, dtype: int64"
     },
     "execution_count": 70,
     "metadata": {},
     "output_type": "execute_result"
    }
   ],
   "source": [
    "y_trains[0].value_counts()"
   ],
   "metadata": {
    "collapsed": false
   }
  },
  {
   "cell_type": "code",
   "execution_count": 71,
   "outputs": [],
   "source": [
    "if SAVE_TEST_TRAIN == True:\n",
    "    with open('encoded'+fname, 'wb') as save_file:\n",
    "        pickle.dump([X_train, y_train, X_test, y_test], save_file)\n"
   ],
   "metadata": {
    "collapsed": false
   }
  },
  {
   "cell_type": "markdown",
   "source": [
    "# 4.0 Resampling"
   ],
   "metadata": {
    "collapsed": false
   }
  },
  {
   "cell_type": "code",
   "execution_count": 72,
   "outputs": [
    {
     "name": "stdout",
     "output_type": "stream",
     "text": [
      "Training set has 59700 rows and 17 columns.\n",
      "Testing set has 3553 rows and 11 columns.\n",
      "Training set has 1842 points that belong to postitive class (ransomware) and 57858 points that belong to negative class (white).\n",
      "Percentage of positive class data-points: 3.09%\n"
     ]
    }
   ],
   "source": [
    "print('Training set has {} rows and {} columns.'.format(X_df.shape[0], X_df.shape[1]))\n",
    "print('Testing set has {} rows and {} columns.'.format(X_future.shape[0], X_future.shape[1]))\n",
    "print('Training set has {} points that belong to postitive class (ransomware) and {} points that belong to negative class (white).'.format(\n",
    "    sum(y_df),\n",
    "    len(y_df) - sum(y_df)\n",
    "))\n",
    "print('Percentage of positive class data-points: {:.2f}%'.format((sum(y_df)/(len(y_df)) * 100)))"
   ],
   "metadata": {
    "collapsed": false
   }
  },
  {
   "cell_type": "markdown",
   "source": [
    "## 4.1 Sampling"
   ],
   "metadata": {
    "collapsed": false
   }
  },
  {
   "cell_type": "code",
   "execution_count": 73,
   "outputs": [],
   "source": [
    "from imblearn.over_sampling import SMOTE\n"
   ],
   "metadata": {
    "collapsed": false
   }
  },
  {
   "cell_type": "markdown",
   "source": [
    "### 4.1.0 Downsampling"
   ],
   "metadata": {
    "collapsed": false
   }
  },
  {
   "cell_type": "code",
   "execution_count": 73,
   "outputs": [],
   "source": [],
   "metadata": {
    "collapsed": false
   }
  },
  {
   "cell_type": "markdown",
   "source": [
    "**e_ds** <n>\n",
    "- Encoded, standard scaled, and normalized data.\n",
    "- Split of X_train_e [standardized, encoded] without column headers."
   ],
   "metadata": {
    "collapsed": false
   }
  },
  {
   "cell_type": "code",
   "execution_count": 74,
   "outputs": [],
   "source": [
    "X_df0.drop(columns=['address','year','day','n_day'],axis=1,inplace=True)\n",
    "X_df.drop(columns=['address','year','day','n_day'],axis=1,inplace=True)"
   ],
   "metadata": {
    "collapsed": false
   }
  },
  {
   "cell_type": "code",
   "execution_count": 75,
   "outputs": [],
   "source": [
    "# Create a sample object\n",
    "e_ds = Sampler(X_df0)"
   ],
   "metadata": {
    "collapsed": false
   }
  },
  {
   "cell_type": "code",
   "execution_count": 76,
   "outputs": [],
   "source": [
    "e_ds.down_samp_rand(X_df0, y_df0, 0.05) # downsample using random resampling"
   ],
   "metadata": {
    "collapsed": false
   }
  },
  {
   "cell_type": "code",
   "execution_count": 77,
   "outputs": [],
   "source": [
    "e_ds.up_samp_smote(e_ds.X_train_rus, e_ds.y_train_rus, 0.55) # upsampling using SMOTE"
   ],
   "metadata": {
    "collapsed": false
   }
  },
  {
   "cell_type": "code",
   "execution_count": 78,
   "outputs": [
    {
     "data": {
      "text/plain": "0    57858\n1     1842\nName: label, dtype: int64"
     },
     "execution_count": 78,
     "metadata": {},
     "output_type": "execute_result"
    }
   ],
   "source": [
    "y_df0.value_counts()"
   ],
   "metadata": {
    "collapsed": false
   }
  },
  {
   "cell_type": "code",
   "execution_count": 79,
   "outputs": [
    {
     "data": {
      "text/plain": "0    36840\n1    20262\nName: label, dtype: int64"
     },
     "execution_count": 79,
     "metadata": {},
     "output_type": "execute_result"
    }
   ],
   "source": [
    "e_ds.y_train_sm.value_counts()"
   ],
   "metadata": {
    "collapsed": false
   }
  },
  {
   "cell_type": "code",
   "execution_count": 80,
   "outputs": [],
   "source": [
    "tscv_splits = tscv.split(e_ds.X_train_sm)"
   ],
   "metadata": {
    "collapsed": false
   }
  },
  {
   "cell_type": "markdown",
   "source": [
    "# 5.0 Modeling"
   ],
   "metadata": {
    "collapsed": false
   }
  },
  {
   "cell_type": "code",
   "execution_count": 81,
   "outputs": [],
   "source": [
    "READ_STATE = False"
   ],
   "metadata": {
    "collapsed": false
   }
  },
  {
   "cell_type": "code",
   "execution_count": 82,
   "outputs": [],
   "source": [
    "models = {\n",
    "    \"sgd\": { \"estimator\": SGDClassifier(),\n",
    "             \"params\": {\n",
    "                 \"loss\" : [ \"log_loss\", \"perceptron\"],\n",
    "                 \"alpha\" : [0.0001, 0.001, 0.01, 0.1],\n",
    "                 \"penalty\" : [\"l2\", \"l1\", \"elasticnet\"],\n",
    "                 \"class_weight\" : ['balanced', None],}\n",
    "             },\n",
    "    \"rf\": { \"estimator\": RandomForestClassifier(),\n",
    "            \"params\": {\n",
    "                'max_depth' : [2,5,10,15],\n",
    "                'n_estimators' : [100, 500, 1000],\n",
    "                \"class_weight\" : ['balanced', None],}\n",
    "            },\n",
    "    \"xgb\": {\"estimator\": XGBClassifier(),\n",
    "            \"params\": {\n",
    "                'n_estimators': stats.randint(150, 1000),\n",
    "                'learning_rate': stats.uniform(0.01, 0.59),\n",
    "                'subsample': stats.uniform(0.3, 0.6),\n",
    "                'max_depth': [3, 4, 5, 6, 7],\n",
    "                'colsample_bytree': stats.uniform(0.5, 0.4),\n",
    "               # 'scale_pos_weight' : stats.uniform(estimate,estimate**2),\n",
    "                'min_child_weight': [1, 2, 3, 4],}\n",
    "            },\n",
    "    \"lsvc\": { \"estimator\": LinearSVC(),\n",
    "              \"params\": { }\n",
    "              },\n",
    "    \"svc\": { \"estimator\": SVC(),\n",
    "             \"params\": {\n",
    "                 'C': [0.1,1, 10, 100, 1000],\n",
    "                 'gamma': [1,0.1,0.01,0.001,0.0001],\n",
    "                 'kernel': ['rbf'],}\n",
    "             }\n",
    "}"
   ],
   "metadata": {
    "collapsed": false
   }
  },
  {
   "cell_type": "code",
   "execution_count": 83,
   "outputs": [],
   "source": [
    "X_future0 = transform(X_future)\n",
    "X_future0.drop(columns=['address','year','day','n_day'],axis=1,inplace=True)"
   ],
   "metadata": {
    "collapsed": false
   }
  },
  {
   "cell_type": "code",
   "execution_count": 84,
   "outputs": [
    {
     "data": {
      "text/plain": "         n_day                             address  year  day  length  \\\n2453079   2422  1K2pPRZx8PTYG7kTmJg2noWiwkXkKEdY16  2017  232       2   \n2431711   2401  1Geh64YRAbVfs6EEtdjGkGTqLrbc9Eab9J  2017  211      52   \n2431904   2401  1FGrrFbszS4s1KwcGPBH1miHd62weK5dGy  2017  211       0   \n2446992   2416  18tAtwbLAgyRjwJhq6gttC2XFtddVxLCJS  2017  226       8   \n2435970   2405  1HJBK4bsfdFBuwW33CwBrq5EPLhSS1QkLT  2017  215       2   \n...        ...                                 ...   ...  ...     ...   \n23306     2413  1EuLyA5UeAGhDLkSJdvGGGbDdcgYaf3jMr  2017  223     142   \n29449     2413  1JkyZRhBSmWhVqERtfm6tN4GBJyFy1MozP  2017  223     144   \n34978     2420  1Mc4xCEEF7fh35YNh7dC3Kh8pTLV8zNmjS  2017  230      78   \n8413      2425  16LpTe2cSyvxccDCNjZd17uVEbBR4VZKzN  2017  235       6   \n39406     2426  1PsPdmHmQkcm16kHTY8jeZ6gGp6YvJsFeb  2017  236       0   \n\n               weight  count  looped  neighbors        income  \n2453079  2.500000e-01      1       0          2  3.350297e+09  \n2431711  9.042245e-07      1       0          2  4.166526e+09  \n2431904  1.000000e+00      1       0          1  4.000000e+07  \n2446992  1.250000e-01      1       0          2  2.094700e+08  \n2435970  5.000000e-01      1       0          2  1.346620e+09  \n...               ...    ...     ...        ...           ...  \n23306    1.821912e-06   1269       0          2  5.000000e+07  \n29449    2.985678e-02   1911       0          2  5.000000e+07  \n34978    7.450581e-09      1       0          2  4.000000e+07  \n8413     5.000000e-01      1       0          2  4.000000e+07  \n39406    5.000000e-01      1       0          2  3.200000e+07  \n\n[1011 rows x 10 columns]",
      "text/html": "<div>\n<style scoped>\n    .dataframe tbody tr th:only-of-type {\n        vertical-align: middle;\n    }\n\n    .dataframe tbody tr th {\n        vertical-align: top;\n    }\n\n    .dataframe thead th {\n        text-align: right;\n    }\n</style>\n<table border=\"1\" class=\"dataframe\">\n  <thead>\n    <tr style=\"text-align: right;\">\n      <th></th>\n      <th>n_day</th>\n      <th>address</th>\n      <th>year</th>\n      <th>day</th>\n      <th>length</th>\n      <th>weight</th>\n      <th>count</th>\n      <th>looped</th>\n      <th>neighbors</th>\n      <th>income</th>\n    </tr>\n  </thead>\n  <tbody>\n    <tr>\n      <th>2453079</th>\n      <td>2422</td>\n      <td>1K2pPRZx8PTYG7kTmJg2noWiwkXkKEdY16</td>\n      <td>2017</td>\n      <td>232</td>\n      <td>2</td>\n      <td>2.500000e-01</td>\n      <td>1</td>\n      <td>0</td>\n      <td>2</td>\n      <td>3.350297e+09</td>\n    </tr>\n    <tr>\n      <th>2431711</th>\n      <td>2401</td>\n      <td>1Geh64YRAbVfs6EEtdjGkGTqLrbc9Eab9J</td>\n      <td>2017</td>\n      <td>211</td>\n      <td>52</td>\n      <td>9.042245e-07</td>\n      <td>1</td>\n      <td>0</td>\n      <td>2</td>\n      <td>4.166526e+09</td>\n    </tr>\n    <tr>\n      <th>2431904</th>\n      <td>2401</td>\n      <td>1FGrrFbszS4s1KwcGPBH1miHd62weK5dGy</td>\n      <td>2017</td>\n      <td>211</td>\n      <td>0</td>\n      <td>1.000000e+00</td>\n      <td>1</td>\n      <td>0</td>\n      <td>1</td>\n      <td>4.000000e+07</td>\n    </tr>\n    <tr>\n      <th>2446992</th>\n      <td>2416</td>\n      <td>18tAtwbLAgyRjwJhq6gttC2XFtddVxLCJS</td>\n      <td>2017</td>\n      <td>226</td>\n      <td>8</td>\n      <td>1.250000e-01</td>\n      <td>1</td>\n      <td>0</td>\n      <td>2</td>\n      <td>2.094700e+08</td>\n    </tr>\n    <tr>\n      <th>2435970</th>\n      <td>2405</td>\n      <td>1HJBK4bsfdFBuwW33CwBrq5EPLhSS1QkLT</td>\n      <td>2017</td>\n      <td>215</td>\n      <td>2</td>\n      <td>5.000000e-01</td>\n      <td>1</td>\n      <td>0</td>\n      <td>2</td>\n      <td>1.346620e+09</td>\n    </tr>\n    <tr>\n      <th>...</th>\n      <td>...</td>\n      <td>...</td>\n      <td>...</td>\n      <td>...</td>\n      <td>...</td>\n      <td>...</td>\n      <td>...</td>\n      <td>...</td>\n      <td>...</td>\n      <td>...</td>\n    </tr>\n    <tr>\n      <th>23306</th>\n      <td>2413</td>\n      <td>1EuLyA5UeAGhDLkSJdvGGGbDdcgYaf3jMr</td>\n      <td>2017</td>\n      <td>223</td>\n      <td>142</td>\n      <td>1.821912e-06</td>\n      <td>1269</td>\n      <td>0</td>\n      <td>2</td>\n      <td>5.000000e+07</td>\n    </tr>\n    <tr>\n      <th>29449</th>\n      <td>2413</td>\n      <td>1JkyZRhBSmWhVqERtfm6tN4GBJyFy1MozP</td>\n      <td>2017</td>\n      <td>223</td>\n      <td>144</td>\n      <td>2.985678e-02</td>\n      <td>1911</td>\n      <td>0</td>\n      <td>2</td>\n      <td>5.000000e+07</td>\n    </tr>\n    <tr>\n      <th>34978</th>\n      <td>2420</td>\n      <td>1Mc4xCEEF7fh35YNh7dC3Kh8pTLV8zNmjS</td>\n      <td>2017</td>\n      <td>230</td>\n      <td>78</td>\n      <td>7.450581e-09</td>\n      <td>1</td>\n      <td>0</td>\n      <td>2</td>\n      <td>4.000000e+07</td>\n    </tr>\n    <tr>\n      <th>8413</th>\n      <td>2425</td>\n      <td>16LpTe2cSyvxccDCNjZd17uVEbBR4VZKzN</td>\n      <td>2017</td>\n      <td>235</td>\n      <td>6</td>\n      <td>5.000000e-01</td>\n      <td>1</td>\n      <td>0</td>\n      <td>2</td>\n      <td>4.000000e+07</td>\n    </tr>\n    <tr>\n      <th>39406</th>\n      <td>2426</td>\n      <td>1PsPdmHmQkcm16kHTY8jeZ6gGp6YvJsFeb</td>\n      <td>2017</td>\n      <td>236</td>\n      <td>0</td>\n      <td>5.000000e-01</td>\n      <td>1</td>\n      <td>0</td>\n      <td>2</td>\n      <td>3.200000e+07</td>\n    </tr>\n  </tbody>\n</table>\n<p>1011 rows × 10 columns</p>\n</div>"
     },
     "execution_count": 84,
     "metadata": {},
     "output_type": "execute_result"
    }
   ],
   "source": [
    "X_future_down"
   ],
   "metadata": {
    "collapsed": false
   }
  },
  {
   "cell_type": "code",
   "execution_count": 85,
   "outputs": [
    {
     "data": {
      "text/plain": "  0%|          | 0/1011 [00:00<?, ?it/s]",
      "application/vnd.jupyter.widget-view+json": {
       "version_major": 2,
       "version_minor": 0,
       "model_id": "e7c58f33184c438c92f126b96ff5ffe0"
      }
     },
     "metadata": {},
     "output_type": "display_data"
    },
    {
     "data": {
      "text/plain": "         n_day                             address  year  day  length  \\\n2453079   2422  1K2pPRZx8PTYG7kTmJg2noWiwkXkKEdY16  2017  232       2   \n2431711   2401  1Geh64YRAbVfs6EEtdjGkGTqLrbc9Eab9J  2017  211      52   \n2431904   2401  1FGrrFbszS4s1KwcGPBH1miHd62weK5dGy  2017  211       0   \n2446992   2416  18tAtwbLAgyRjwJhq6gttC2XFtddVxLCJS  2017  226       8   \n2435970   2405  1HJBK4bsfdFBuwW33CwBrq5EPLhSS1QkLT  2017  215       2   \n...        ...                                 ...   ...  ...     ...   \n23306     2413  1EuLyA5UeAGhDLkSJdvGGGbDdcgYaf3jMr  2017  223     142   \n29449     2413  1JkyZRhBSmWhVqERtfm6tN4GBJyFy1MozP  2017  223     144   \n34978     2420  1Mc4xCEEF7fh35YNh7dC3Kh8pTLV8zNmjS  2017  230      78   \n8413      2425  16LpTe2cSyvxccDCNjZd17uVEbBR4VZKzN  2017  235       6   \n39406     2426  1PsPdmHmQkcm16kHTY8jeZ6gGp6YvJsFeb  2017  236       0   \n\n               weight  count  looped  neighbors        income  day_of_week  \n2453079  2.500000e-01      1       0          2  3.350297e+09          6.0  \n2431711  9.042245e-07      1       0          2  4.166526e+09          6.0  \n2431904  1.000000e+00      1       0          1  4.000000e+07          6.0  \n2446992  1.250000e-01      1       0          2  2.094700e+08          0.0  \n2435970  5.000000e-01      1       0          2  1.346620e+09          3.0  \n...               ...    ...     ...        ...           ...          ...  \n23306    1.821912e-06   1269       0          2  5.000000e+07          4.0  \n29449    2.985678e-02   1911       0          2  5.000000e+07          4.0  \n34978    7.450581e-09      1       0          2  4.000000e+07          4.0  \n8413     5.000000e-01      1       0          2  4.000000e+07          2.0  \n39406    5.000000e-01      1       0          2  3.200000e+07          3.0  \n\n[1011 rows x 11 columns]",
      "text/html": "<div>\n<style scoped>\n    .dataframe tbody tr th:only-of-type {\n        vertical-align: middle;\n    }\n\n    .dataframe tbody tr th {\n        vertical-align: top;\n    }\n\n    .dataframe thead th {\n        text-align: right;\n    }\n</style>\n<table border=\"1\" class=\"dataframe\">\n  <thead>\n    <tr style=\"text-align: right;\">\n      <th></th>\n      <th>n_day</th>\n      <th>address</th>\n      <th>year</th>\n      <th>day</th>\n      <th>length</th>\n      <th>weight</th>\n      <th>count</th>\n      <th>looped</th>\n      <th>neighbors</th>\n      <th>income</th>\n      <th>day_of_week</th>\n    </tr>\n  </thead>\n  <tbody>\n    <tr>\n      <th>2453079</th>\n      <td>2422</td>\n      <td>1K2pPRZx8PTYG7kTmJg2noWiwkXkKEdY16</td>\n      <td>2017</td>\n      <td>232</td>\n      <td>2</td>\n      <td>2.500000e-01</td>\n      <td>1</td>\n      <td>0</td>\n      <td>2</td>\n      <td>3.350297e+09</td>\n      <td>6.0</td>\n    </tr>\n    <tr>\n      <th>2431711</th>\n      <td>2401</td>\n      <td>1Geh64YRAbVfs6EEtdjGkGTqLrbc9Eab9J</td>\n      <td>2017</td>\n      <td>211</td>\n      <td>52</td>\n      <td>9.042245e-07</td>\n      <td>1</td>\n      <td>0</td>\n      <td>2</td>\n      <td>4.166526e+09</td>\n      <td>6.0</td>\n    </tr>\n    <tr>\n      <th>2431904</th>\n      <td>2401</td>\n      <td>1FGrrFbszS4s1KwcGPBH1miHd62weK5dGy</td>\n      <td>2017</td>\n      <td>211</td>\n      <td>0</td>\n      <td>1.000000e+00</td>\n      <td>1</td>\n      <td>0</td>\n      <td>1</td>\n      <td>4.000000e+07</td>\n      <td>6.0</td>\n    </tr>\n    <tr>\n      <th>2446992</th>\n      <td>2416</td>\n      <td>18tAtwbLAgyRjwJhq6gttC2XFtddVxLCJS</td>\n      <td>2017</td>\n      <td>226</td>\n      <td>8</td>\n      <td>1.250000e-01</td>\n      <td>1</td>\n      <td>0</td>\n      <td>2</td>\n      <td>2.094700e+08</td>\n      <td>0.0</td>\n    </tr>\n    <tr>\n      <th>2435970</th>\n      <td>2405</td>\n      <td>1HJBK4bsfdFBuwW33CwBrq5EPLhSS1QkLT</td>\n      <td>2017</td>\n      <td>215</td>\n      <td>2</td>\n      <td>5.000000e-01</td>\n      <td>1</td>\n      <td>0</td>\n      <td>2</td>\n      <td>1.346620e+09</td>\n      <td>3.0</td>\n    </tr>\n    <tr>\n      <th>...</th>\n      <td>...</td>\n      <td>...</td>\n      <td>...</td>\n      <td>...</td>\n      <td>...</td>\n      <td>...</td>\n      <td>...</td>\n      <td>...</td>\n      <td>...</td>\n      <td>...</td>\n      <td>...</td>\n    </tr>\n    <tr>\n      <th>23306</th>\n      <td>2413</td>\n      <td>1EuLyA5UeAGhDLkSJdvGGGbDdcgYaf3jMr</td>\n      <td>2017</td>\n      <td>223</td>\n      <td>142</td>\n      <td>1.821912e-06</td>\n      <td>1269</td>\n      <td>0</td>\n      <td>2</td>\n      <td>5.000000e+07</td>\n      <td>4.0</td>\n    </tr>\n    <tr>\n      <th>29449</th>\n      <td>2413</td>\n      <td>1JkyZRhBSmWhVqERtfm6tN4GBJyFy1MozP</td>\n      <td>2017</td>\n      <td>223</td>\n      <td>144</td>\n      <td>2.985678e-02</td>\n      <td>1911</td>\n      <td>0</td>\n      <td>2</td>\n      <td>5.000000e+07</td>\n      <td>4.0</td>\n    </tr>\n    <tr>\n      <th>34978</th>\n      <td>2420</td>\n      <td>1Mc4xCEEF7fh35YNh7dC3Kh8pTLV8zNmjS</td>\n      <td>2017</td>\n      <td>230</td>\n      <td>78</td>\n      <td>7.450581e-09</td>\n      <td>1</td>\n      <td>0</td>\n      <td>2</td>\n      <td>4.000000e+07</td>\n      <td>4.0</td>\n    </tr>\n    <tr>\n      <th>8413</th>\n      <td>2425</td>\n      <td>16LpTe2cSyvxccDCNjZd17uVEbBR4VZKzN</td>\n      <td>2017</td>\n      <td>235</td>\n      <td>6</td>\n      <td>5.000000e-01</td>\n      <td>1</td>\n      <td>0</td>\n      <td>2</td>\n      <td>4.000000e+07</td>\n      <td>2.0</td>\n    </tr>\n    <tr>\n      <th>39406</th>\n      <td>2426</td>\n      <td>1PsPdmHmQkcm16kHTY8jeZ6gGp6YvJsFeb</td>\n      <td>2017</td>\n      <td>236</td>\n      <td>0</td>\n      <td>5.000000e-01</td>\n      <td>1</td>\n      <td>0</td>\n      <td>2</td>\n      <td>3.200000e+07</td>\n      <td>3.0</td>\n    </tr>\n  </tbody>\n</table>\n<p>1011 rows × 11 columns</p>\n</div>"
     },
     "execution_count": 85,
     "metadata": {},
     "output_type": "execute_result"
    }
   ],
   "source": [
    "day_of_week(X_future_down)\n",
    "X_future_down = transform(X_future_down)"
   ],
   "metadata": {
    "collapsed": false
   }
  },
  {
   "cell_type": "code",
   "execution_count": 86,
   "outputs": [],
   "source": [
    "X_future_down.drop(columns=['address','year','day','n_day'],axis=1,inplace=True)"
   ],
   "metadata": {
    "collapsed": false
   }
  },
  {
   "cell_type": "code",
   "execution_count": 87,
   "outputs": [
    {
     "data": {
      "text/plain": "59700"
     },
     "execution_count": 87,
     "metadata": {},
     "output_type": "execute_result"
    }
   ],
   "source": [
    "len(y_df0)"
   ],
   "metadata": {
    "collapsed": false
   }
  },
  {
   "cell_type": "code",
   "execution_count": 88,
   "outputs": [
    {
     "data": {
      "text/plain": "0.9564824120603015"
     },
     "execution_count": 88,
     "metadata": {},
     "output_type": "execute_result"
    }
   ],
   "source": [
    "len(e_ds.y_train_sm)/len(y_df0)"
   ],
   "metadata": {
    "collapsed": false
   }
  },
  {
   "cell_type": "code",
   "execution_count": 89,
   "outputs": [],
   "source": [
    "y_train_sm = e_ds.y_train_sm.sample(frac=1,random_state=RAND_STATE)\n",
    "X_train_sm = e_ds.X_train_sm.sample(frac=1,random_state=RAND_STATE)"
   ],
   "metadata": {
    "collapsed": false
   }
  },
  {
   "cell_type": "code",
   "execution_count": 90,
   "outputs": [
    {
     "data": {
      "text/plain": "14533    0\n18331    0\n53472    1\n10453    0\n7499     0\n        ..\n54343    1\n38158    1\n860      0\n15795    0\n56422    1\nName: label, Length: 57102, dtype: int64"
     },
     "execution_count": 90,
     "metadata": {},
     "output_type": "execute_result"
    }
   ],
   "source": [
    "y_train_sm"
   ],
   "metadata": {
    "collapsed": false
   }
  },
  {
   "cell_type": "code",
   "execution_count": 91,
   "outputs": [],
   "source": [
    "y_trains=[e_ds.y_train_sm.loc[x[1]] for x in tscv.split(e_ds.y_train_sm)]# useless unless we index from zero"
   ],
   "metadata": {
    "collapsed": false
   }
  },
  {
   "cell_type": "code",
   "execution_count": 92,
   "outputs": [
    {
     "data": {
      "text/plain": "1    9517\nName: label, dtype: int64"
     },
     "execution_count": 92,
     "metadata": {},
     "output_type": "execute_result"
    }
   ],
   "source": [
    "y_trains[3].value_counts()"
   ],
   "metadata": {
    "collapsed": false
   }
  },
  {
   "cell_type": "code",
   "execution_count": 93,
   "outputs": [
    {
     "name": "stdout",
     "output_type": "stream",
     "text": [
      "Fitting 5 folds for each of 5 candidates, totalling 25 fits\n",
      "{'penalty': 'l2', 'loss': 'log_loss', 'class_weight': 'balanced', 'alpha': 0.01}\n"
     ]
    },
    {
     "data": {
      "text/plain": "{'alpha': 0.01,\n 'average': False,\n 'class_weight': 'balanced',\n 'early_stopping': False,\n 'epsilon': 0.1,\n 'eta0': 0.0,\n 'fit_intercept': True,\n 'l1_ratio': 0.15,\n 'learning_rate': 'optimal',\n 'loss': 'log_loss',\n 'max_iter': 1000,\n 'n_iter_no_change': 5,\n 'n_jobs': None,\n 'penalty': 'l2',\n 'power_t': 0.5,\n 'random_state': 42,\n 'shuffle': True,\n 'tol': 0.001,\n 'validation_fraction': 0.1,\n 'verbose': 0,\n 'warm_start': False}"
     },
     "execution_count": 93,
     "metadata": {},
     "output_type": "execute_result"
    }
   ],
   "source": [
    "# Create model\n",
    "sgd_cl = SGDClassifier(random_state=RAND_STATE, max_iter=3000, learning_rate='optimal')\n",
    "sgd = Model(\n",
    "    X_train_sm, y_train_sm,\n",
    "    X_df0, X_future_down,\n",
    "    sgd_cl, models['sgd']['params'], SGDClassifier,crss_vldtr=tscv)\n",
    "sgd.params"
   ],
   "metadata": {
    "collapsed": false
   }
  },
  {
   "cell_type": "code",
   "execution_count": 94,
   "outputs": [
    {
     "data": {
      "text/plain": "  Type  Accuracy  Precision    Recall  F1-Score\n0  trn  0.552596   0.047822  0.713898  0.089639\n0  tst  0.533136   0.020790  0.909091  0.040650",
      "text/html": "<div>\n<style scoped>\n    .dataframe tbody tr th:only-of-type {\n        vertical-align: middle;\n    }\n\n    .dataframe tbody tr th {\n        vertical-align: top;\n    }\n\n    .dataframe thead th {\n        text-align: right;\n    }\n</style>\n<table border=\"1\" class=\"dataframe\">\n  <thead>\n    <tr style=\"text-align: right;\">\n      <th></th>\n      <th>Type</th>\n      <th>Accuracy</th>\n      <th>Precision</th>\n      <th>Recall</th>\n      <th>F1-Score</th>\n    </tr>\n  </thead>\n  <tbody>\n    <tr>\n      <th>0</th>\n      <td>trn</td>\n      <td>0.552596</td>\n      <td>0.047822</td>\n      <td>0.713898</td>\n      <td>0.089639</td>\n    </tr>\n    <tr>\n      <th>0</th>\n      <td>tst</td>\n      <td>0.533136</td>\n      <td>0.020790</td>\n      <td>0.909091</td>\n      <td>0.040650</td>\n    </tr>\n  </tbody>\n</table>\n</div>"
     },
     "execution_count": 94,
     "metadata": {},
     "output_type": "execute_result"
    }
   ],
   "source": [
    "sgd.score(y_df0,y_future_down)"
   ],
   "metadata": {
    "collapsed": false
   }
  },
  {
   "cell_type": "code",
   "execution_count": 95,
   "outputs": [
    {
     "data": {
      "text/plain": "{'penalty': 'l2',\n 'loss': 'log_loss',\n 'class_weight': 'balanced',\n 'alpha': 0.01}"
     },
     "execution_count": 95,
     "metadata": {},
     "output_type": "execute_result"
    }
   ],
   "source": [
    "sgd.best_params"
   ],
   "metadata": {
    "collapsed": false
   }
  },
  {
   "cell_type": "markdown",
   "source": [
    "Compare result to original features"
   ],
   "metadata": {
    "collapsed": false
   }
  },
  {
   "cell_type": "code",
   "execution_count": 96,
   "outputs": [
    {
     "data": {
      "text/plain": "<Figure size 1080x504 with 4 Axes>",
      "image/png": "[encoded data removed]"
     },
     "metadata": {
      "needs_background": "light"
     },
     "output_type": "display_data"
    }
   ],
   "source": [
    "sgd.conf_mat(y_df0,y_future_down)"
   ],
   "metadata": {
    "collapsed": false
   }
  },
  {
   "cell_type": "code",
   "execution_count": 97,
   "outputs": [
    {
     "data": {
      "text/plain": "0    3542\n1      11\nName: label, dtype: int64"
     },
     "execution_count": 97,
     "metadata": {},
     "output_type": "execute_result"
    }
   ],
   "source": [
    "y_future.value_counts()"
   ],
   "metadata": {
    "collapsed": false
   }
  },
  {
   "cell_type": "code",
   "execution_count": 97,
   "outputs": [],
   "source": [],
   "metadata": {
    "collapsed": false
   }
  }
 ],
 "metadata": {
  "kernelspec": {
   "display_name": "Python 3 (ipykernel)",
   "language": "python",
   "name": "python3"
  },
  "language_info": {
   "codemirror_mode": {
    "name": "ipython",
    "version": 3
   },
   "file_extension": ".py",
   "mimetype": "text/x-python",
   "name": "python",
   "nbconvert_exporter": "python",
   "pygments_lexer": "ipython3",
   "version": "3.9.0"
  },
  "toc": {
   "base_numbering": 1,
   "nav_menu": {},
   "number_sections": false,
   "sideBar": true,
   "skip_h1_title": false,
   "title_cell": "Table of Contents",
   "title_sidebar": "Contents",
   "toc_cell": false,
   "toc_position": {
    "height": "calc(100% - 180px)",
    "left": "10px",
    "top": "150px",
    "width": "413.6px"
   },
   "toc_section_display": true,
   "toc_window_display": true
  },
  "varInspector": {
   "cols": {
    "lenName": 16,
    "lenType": 16,
    "lenVar": 40
   },
   "kernels_config": {
    "python": {
     "delete_cmd_postfix": "",
     "delete_cmd_prefix": "del ",
     "library": "var_list.py",
     "varRefreshCmd": "print(var_dic_list())"
    },
    "r": {
     "delete_cmd_postfix": ") ",
     "delete_cmd_prefix": "rm(",
     "library": "var_list.r",
     "varRefreshCmd": "cat(var_dic_list()) "
    }
   },
   "types_to_exclude": [
    "module",
    "function",
    "builtin_function_or_method",
    "instance",
    "_Feature"
   ],
   "window_display": false
  }
 },
 "nbformat": 4,
 "nbformat_minor": 5
}
