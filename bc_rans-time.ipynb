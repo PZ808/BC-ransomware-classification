{
 "cells": [
  {
   "cell_type": "markdown",
   "id": "6f6fa43a",
   "metadata": {
    "heading_collapsed": true,
    "pycharm": {
     "name": "#%% md\n"
    }
   },
   "source": [
    "# 0.0 Table of Contents\n",
    "\n",
    "1. [Introduction](#1.0-Introduction)\n",
    "\n",
    "2. [Feature Analysis](#2.0-Feature-Analysis)"
   ]
  },
  {
   "cell_type": "markdown",
   "id": "86fd8be8",
   "metadata": {
    "pycharm": {
     "name": "#%% md\n"
    }
   },
   "source": [
    "# 1.0 Introduction\n",
    " "
   ]
  },
  {
   "cell_type": "markdown",
   "id": "48a0c01d",
   "metadata": {
    "pycharm": {
     "name": "#%% md\n"
    }
   },
   "source": [
    "### 1.1 Project -  Binary classification of bitcoin addresses\n",
    "\n",
    "-  **GOAL:** to predict whether an address has been the recipient of ransomware coins. \n",
    "\n",
    "-  **DATA:**  Data is time series (24hr chunks) derived from the topological and geometrical properties of the bitcoin network.\n",
    "\n",
    "### 1.2 Basics\n",
    "\n",
    "- Ransomware is a rogue compute code that encrypts the victim's filesystem unless money is paid to the attacker for decryption. \n",
    "\n",
    "- Bitcoin is often used for these payments because it provides a semi-anonymous transaction method.  \n",
    "\n",
    "- The dataset was taken from the UCI Machine Learning Repository. It contains labelled data of addresses according to whether they have been involved in Ransomware. The data is from 2009 January to 2018 December. \n",
    "- Link to the data-set: [click here](https://archive.ics.uci.edu/ml/datasets/BitcoinHeistRansomwareAddressDataset)\n",
    "\n",
    "### 1.2.0 Breakdown\n",
    "\n",
    "---\n",
    "**\"starter transactions\"**: transactions which are spent outputs from the  previous time window <n>\n",
    "\n",
    "Features:\n",
    "\n",
    "- The **address** is a public BC address which can receive and send bitcoins.        \n",
    "- The **income** of an address $a$ is the total amount of coins output to it measured in Satoshis (1 millionth of a BC).\n",
    "- The number of (in) **neighbors** of an address $a$  is the number of transactions which\n",
    "have $a$ as one of its output addresses.\n",
    "- The **weight** of an address is the sum of the fraction of *coins* that come from a starter transaction and merge at the address. Weight quantifies the merge behavior (i.e., the transaction has more input addresses than output addresses), where coins\n",
    "in multiple addresses are each passed through a succession of\n",
    "merging transactions and accumulated in a final address.\n",
    "- The **length** of an address $a$ is the number of non-starter transactions connected to $a$ on the longest chain.  A length of zero implies that the address is the recipient of starter transaction.\n",
    "- The **count** of an address $a$ is the number of starter transactions\n",
    "which are connected to $a$ in a chain, where a chain is\n",
    "defined as an acyclic directed path originating from a starter\n",
    "transaction and ending at address $a$. Count captures\n",
    "information about the number of transactions, whereas weight\n",
    " gives information about the amount of coins.\n",
    "- **looped** is the number of starter transactions connected to $a$ by more than one path (chain). \n",
    "    \n",
    "       \n",
    "<n>\n",
    "Engineered/derived features:\n",
    "    \n",
    "- bc_income = boxcox of income\n",
    "    \n",
    "- bc_length = boxcox of length\n",
    "    \n",
    "- yeo_weight = yeo of weight\n",
    "   \n",
    "- logbc_n_address = boxcox log of address\n",
    "\n",
    "- bc_neighbors = box of neighbors\n",
    "   \n",
    "- sig_looped = sigmoid of looped\n",
    "    \n",
    "- log_count = log of count\n",
    "   \n",
    "- day_of_week = {'Monday':0,...,'Sunday': 6}"
   ]
  },
  {
   "cell_type": "markdown",
   "id": "10c7352c",
   "metadata": {
    "pycharm": {
     "name": "#%% md\n"
    }
   },
   "source": [
    "### 1.3 Packages and helper functions"
   ]
  },
  {
   "cell_type": "code",
   "execution_count": 473,
   "id": "b142e4c0",
   "metadata": {
    "ExecuteTime": {
     "end_time": "2022-07-28T12:57:31.040703Z",
     "start_time": "2022-07-28T12:57:30.319897Z"
    },
    "pycharm": {
     "name": "#%%\n"
    }
   },
   "outputs": [],
   "source": [
    "import pandas as pd\n",
    "import numpy as np\n",
    "import matplotlib\n",
    "import matplotlib.pyplot as plt\n",
    "import seaborn as sns\n",
    "import sklearn.metrics\n",
    "from tqdm.notebook import tqdm\n",
    "import os\n",
    "import pickle\n",
    "import pdb\n",
    "import datetime\n",
    "import warnings\n",
    "\n",
    "from scipy.stats import pearsonr\n",
    "from scipy import stats\n",
    "from scipy.stats import boxcox, yeojohnson\n",
    "from scipy.stats import shapiro\n",
    "\n",
    "from sklearn.ensemble import RandomForestClassifier\n",
    "from imblearn.under_sampling import RandomUnderSampler\n",
    "\n",
    "from sklearn.model_selection import train_test_split\n",
    "from sklearn.model_selection import RandomizedSearchCV\n",
    "from sklearn.preprocessing import PowerTransformer\n",
    "from sklearn.preprocessing import StandardScaler, OneHotEncoder\n",
    "from sklearn.compose import ColumnTransformer\n",
    "from sklearn.metrics import accuracy_score, log_loss, plot_roc_curve, f1_score, precision_score, recall_score, classification_report\n",
    "from sklearn.metrics import confusion_matrix\n",
    "from sklearn.metrics import plot_confusion_matrix\n",
    "from sklearn.metrics import precision_recall_curve\n",
    "from prettytable import PrettyTable\n",
    "\n",
    "from sklearn.linear_model import SGDClassifier\n",
    "from xgboost import XGBClassifier\n",
    "from sklearn.model_selection import KFold\n",
    "from sklearn.svm import SVC\n",
    "\n",
    "warnings.filterwarnings(\"ignore\",category=matplotlib.cbook.mplDeprecation)\n",
    "warnings.filterwarnings(\"ignore\", category=UserWarning)\n",
    "_ = np.seterr(over='ignore')\n",
    "#from pretty_confusion_matrix import plot_confusion_matrix_from_data as conf_matrix\n",
    "warnings.simplefilter(action='ignore', category=FutureWarning)"
   ]
  },
  {
   "cell_type": "code",
   "execution_count": 230,
   "outputs": [],
   "source": [
    "pd.options.mode.chained_assignment = None  # default='warn'"
   ],
   "metadata": {
    "collapsed": false,
    "pycharm": {
     "name": "#%%\n"
    }
   }
  },
  {
   "cell_type": "code",
   "execution_count": 231,
   "id": "7302e378",
   "metadata": {
    "ExecuteTime": {
     "end_time": "2022-07-28T12:57:33.105095Z",
     "start_time": "2022-07-28T12:57:33.100101Z"
    },
    "pycharm": {
     "name": "#%%\n"
    }
   },
   "outputs": [],
   "source": [
    "RAND_STATE  = 42\n",
    "SPLIT_RATIO = 0.23\n",
    "SAVE_TEST_TRAIN = False\n",
    "DS_FRAC = .25\n",
    "NF = 7"
   ]
  },
  {
   "cell_type": "markdown",
   "id": "2455c471",
   "metadata": {
    "pycharm": {
     "name": "#%% md\n"
    }
   },
   "source": [
    "### 1.4 Importing data"
   ]
  },
  {
   "cell_type": "code",
   "execution_count": 232,
   "id": "c6001d1c",
   "metadata": {
    "ExecuteTime": {
     "end_time": "2022-07-28T12:57:40.554547Z",
     "start_time": "2022-07-28T12:57:38.368467Z"
    },
    "pycharm": {
     "name": "#%%\n"
    }
   },
   "outputs": [
    {
     "data": {
      "text/plain": "(729174, 10)"
     },
     "execution_count": 232,
     "metadata": {},
     "output_type": "execute_result"
    }
   ],
   "source": [
    "df = pd.read_csv('data/BitcoinHeistData.csv')\n",
    "df = df.sample(frac=DS_FRAC, axis=0,random_state=RAND_STATE)\n",
    "ROWS = df.shape[0]\n",
    "COLS = df.shape[1]\n",
    "ROWS,COLS\n"
   ]
  },
  {
   "cell_type": "code",
   "execution_count": 233,
   "id": "fc0b9086",
   "metadata": {
    "ExecuteTime": {
     "end_time": "2022-07-28T12:57:40.566614Z",
     "start_time": "2022-07-28T12:57:40.555654Z"
    },
    "pycharm": {
     "name": "#%%\n"
    }
   },
   "outputs": [],
   "source": [
    "# copy a data frame\n",
    "dfc = df.copy()"
   ]
  },
  {
   "cell_type": "code",
   "execution_count": 234,
   "id": "8787e035",
   "metadata": {
    "ExecuteTime": {
     "end_time": "2022-07-28T12:57:40.573997Z",
     "start_time": "2022-07-28T12:57:40.567587Z"
    },
    "pycharm": {
     "name": "#%%\n"
    }
   },
   "outputs": [
    {
     "data": {
      "text/plain": "                                    address  year  day  length    weight  \\\n2667698  15DQFhP5R7ZeaBS9Ute7NzrYVBFSH1Z2kZ  2018   82       8  1.311111   \n2013400  3FhUXgmVecach9dZ59JK1yBLEcr9JsvJXZ  2016  157       2  0.025000   \n2704440  3DpHZaCtj88yaXUtajYnYLb8xgN15K8fnw  2018  118     144  3.619217   \n1650833  1G6doAKXpDsnsdSA1wgh7jfAnkaPi49M4y  2015  160     144  0.000484   \n1586811   175gAXqbkq4nho268FZxoBZ7TCCZWzWcg  2015   96     128  0.625000   \n\n         count  looped  neighbors       income  label  \n2667698      3       0          2  577264100.0  white  \n2013400     44       0          1  100000000.0  white  \n2704440   5991    5991          2  299950000.0  white  \n1650833   3452    3049          2  299000000.0  white  \n1586811      2       0          2   40000000.0  white  ",
      "text/html": "<div>\n<style scoped>\n    .dataframe tbody tr th:only-of-type {\n        vertical-align: middle;\n    }\n\n    .dataframe tbody tr th {\n        vertical-align: top;\n    }\n\n    .dataframe thead th {\n        text-align: right;\n    }\n</style>\n<table border=\"1\" class=\"dataframe\">\n  <thead>\n    <tr style=\"text-align: right;\">\n      <th></th>\n      <th>address</th>\n      <th>year</th>\n      <th>day</th>\n      <th>length</th>\n      <th>weight</th>\n      <th>count</th>\n      <th>looped</th>\n      <th>neighbors</th>\n      <th>income</th>\n      <th>label</th>\n    </tr>\n  </thead>\n  <tbody>\n    <tr>\n      <th>2667698</th>\n      <td>15DQFhP5R7ZeaBS9Ute7NzrYVBFSH1Z2kZ</td>\n      <td>2018</td>\n      <td>82</td>\n      <td>8</td>\n      <td>1.311111</td>\n      <td>3</td>\n      <td>0</td>\n      <td>2</td>\n      <td>577264100.0</td>\n      <td>white</td>\n    </tr>\n    <tr>\n      <th>2013400</th>\n      <td>3FhUXgmVecach9dZ59JK1yBLEcr9JsvJXZ</td>\n      <td>2016</td>\n      <td>157</td>\n      <td>2</td>\n      <td>0.025000</td>\n      <td>44</td>\n      <td>0</td>\n      <td>1</td>\n      <td>100000000.0</td>\n      <td>white</td>\n    </tr>\n    <tr>\n      <th>2704440</th>\n      <td>3DpHZaCtj88yaXUtajYnYLb8xgN15K8fnw</td>\n      <td>2018</td>\n      <td>118</td>\n      <td>144</td>\n      <td>3.619217</td>\n      <td>5991</td>\n      <td>5991</td>\n      <td>2</td>\n      <td>299950000.0</td>\n      <td>white</td>\n    </tr>\n    <tr>\n      <th>1650833</th>\n      <td>1G6doAKXpDsnsdSA1wgh7jfAnkaPi49M4y</td>\n      <td>2015</td>\n      <td>160</td>\n      <td>144</td>\n      <td>0.000484</td>\n      <td>3452</td>\n      <td>3049</td>\n      <td>2</td>\n      <td>299000000.0</td>\n      <td>white</td>\n    </tr>\n    <tr>\n      <th>1586811</th>\n      <td>175gAXqbkq4nho268FZxoBZ7TCCZWzWcg</td>\n      <td>2015</td>\n      <td>96</td>\n      <td>128</td>\n      <td>0.625000</td>\n      <td>2</td>\n      <td>0</td>\n      <td>2</td>\n      <td>40000000.0</td>\n      <td>white</td>\n    </tr>\n  </tbody>\n</table>\n</div>"
     },
     "execution_count": 234,
     "metadata": {},
     "output_type": "execute_result"
    }
   ],
   "source": [
    "df.head()"
   ]
  },
  {
   "cell_type": "code",
   "execution_count": 235,
   "id": "a328e72d",
   "metadata": {
    "ExecuteTime": {
     "end_time": "2022-07-28T12:57:41.548063Z",
     "start_time": "2022-07-28T12:57:40.575566Z"
    },
    "pycharm": {
     "name": "#%%\n"
    }
   },
   "outputs": [],
   "source": [
    "remove_words = [\"princeton\",\"padua\",\"montreal\"]\n",
    "for r in remove_words:\n",
    "    dfc['label']=dfc['label'].str.replace(r,\"\")\n",
    "    df['label']=df['label'].str.replace(r,\"\")"
   ]
  },
  {
   "cell_type": "markdown",
   "id": "06c98382",
   "metadata": {
    "pycharm": {
     "name": "#%% md\n"
    }
   },
   "source": [
    "For each time window extending back from the t_now, we take a sample of addresses"
   ]
  },
  {
   "cell_type": "code",
   "execution_count": 8,
   "id": "68b6b3be",
   "metadata": {
    "ExecuteTime": {
     "end_time": "2022-07-28T12:57:41.555766Z",
     "start_time": "2022-07-28T12:57:41.551435Z"
    },
    "pycharm": {
     "name": "#%%\n"
    }
   },
   "outputs": [
    {
     "name": "stdout",
     "output_type": "stream",
     "text": [
      "The data extends from 2011 to 2018.\n",
      "File containts 291670 rows and 10 columns\n"
     ]
    }
   ],
   "source": [
    "years = df['year'].unique()\n",
    "print('The data extends from {} to {}.'.format(years.min(),years.max()))\n",
    "print('File containts {:d} rows and {} columns'.format(df.shape[0], df.shape[1]))\n"
   ]
  },
  {
   "cell_type": "code",
   "execution_count": 9,
   "id": "ec523d80",
   "metadata": {
    "ExecuteTime": {
     "end_time": "2022-07-28T12:57:41.558583Z",
     "start_time": "2022-07-28T12:57:41.556683Z"
    },
    "run_control": {
     "marked": true
    },
    "pycharm": {
     "name": "#%%\n"
    }
   },
   "outputs": [
    {
     "name": "stdout",
     "output_type": "stream",
     "text": [
      "Feature columns: \n",
      "['address', 'year', 'day', 'length', 'weight', 'count', 'looped', 'neighbors', 'income']\n"
     ]
    }
   ],
   "source": [
    "features=list(df.columns)[:-1]\n",
    "print('Feature columns: \\n{}'.format(features))"
   ]
  },
  {
   "cell_type": "code",
   "execution_count": 10,
   "id": "90e1c28a",
   "metadata": {
    "ExecuteTime": {
     "end_time": "2022-07-28T12:57:41.562713Z",
     "start_time": "2022-07-28T12:57:41.559578Z"
    },
    "pycharm": {
     "name": "#%%\n"
    }
   },
   "outputs": [
    {
     "name": "stdout",
     "output_type": "stream",
     "text": [
      "Datatypes: \n",
      "\n",
      "address       object\n",
      "year           int64\n",
      "day            int64\n",
      "length         int64\n",
      "weight       float64\n",
      "count          int64\n",
      "looped         int64\n",
      "neighbors      int64\n",
      "income       float64\n",
      "label         object\n",
      "dtype: object\n"
     ]
    }
   ],
   "source": [
    "print('Datatypes: \\n\\n{}'.format(df.dtypes))"
   ]
  },
  {
   "cell_type": "code",
   "execution_count": 236,
   "id": "7cf798dd",
   "metadata": {
    "ExecuteTime": {
     "end_time": "2022-07-28T12:57:41.622598Z",
     "start_time": "2022-07-28T12:57:41.564229Z"
    },
    "pycharm": {
     "name": "#%%\n"
    }
   },
   "outputs": [
    {
     "name": "stdout",
     "output_type": "stream",
     "text": [
      "The top ransomware types are\n"
     ]
    },
    {
     "data": {
      "text/plain": "CryptoWall      3008\nCryptoLocker    2322\nCerber          2209\nLocky           1628\nCryptXXX         617\nNoobCrypt        101\nDMALockerv3       93\nDMALocker         50\nSamSam            16\nGlobe             11\nName: label, dtype: int64"
     },
     "execution_count": 236,
     "metadata": {},
     "output_type": "execute_result"
    }
   ],
   "source": [
    "top_ransomwares_dict = dict(dfc.label.value_counts().head(10)[1:])\n",
    "top10_ransoms_labels = dfc.label.value_counts()[1:11]\n",
    "print('The top ransomware types are')\n",
    "top10_ransoms_labels"
   ]
  },
  {
   "cell_type": "code",
   "execution_count": 237,
   "id": "cfbf3a68",
   "metadata": {
    "ExecuteTime": {
     "end_time": "2022-07-28T12:57:41.673739Z",
     "start_time": "2022-07-28T12:57:41.625120Z"
    },
    "pycharm": {
     "name": "#%%\n"
    }
   },
   "outputs": [
    {
     "name": "stdout",
     "output_type": "stream",
     "text": [
      "The data is over 95% unbalanced towards clean!\n",
      "\n",
      "white label cnt: 719067\n",
      "rannsomware label cnt: 10107\n"
     ]
    }
   ],
   "source": [
    "print('The data is over 95% unbalanced towards clean!\\n\\nwhite label cnt: {}\\nrannsomware label cnt: {}'\\\n",
    "      .format(df['label'].value_counts()[0], \n",
    "        sum(df['label'].value_counts()[1:])\n",
    "             ))\n"
   ]
  },
  {
   "cell_type": "markdown",
   "id": "73cfeae8",
   "metadata": {
    "pycharm": {
     "name": "#%% md\n"
    }
   },
   "source": [
    "### 1.5 Cleaning the data"
   ]
  },
  {
   "cell_type": "markdown",
   "id": "43a55271",
   "metadata": {
    "pycharm": {
     "name": "#%% md\n"
    }
   },
   "source": [
    "- check for corrupted, missing, or duplicated entries"
   ]
  },
  {
   "cell_type": "code",
   "execution_count": 238,
   "id": "b3762cae",
   "metadata": {
    "ExecuteTime": {
     "end_time": "2022-07-28T12:57:41.783622Z",
     "start_time": "2022-07-28T12:57:41.674684Z"
    },
    "pycharm": {
     "name": "#%%\n"
    }
   },
   "outputs": [
    {
     "data": {
      "text/plain": "address      False\nyear         False\nday          False\nlength       False\nweight       False\ncount        False\nlooped       False\nneighbors    False\nincome       False\nlabel        False\ndtype: bool"
     },
     "execution_count": 238,
     "metadata": {},
     "output_type": "execute_result"
    }
   ],
   "source": [
    "df.isnull().any() # check for null values"
   ]
  },
  {
   "cell_type": "code",
   "execution_count": 239,
   "id": "ca96d4b3",
   "metadata": {
    "ExecuteTime": {
     "end_time": "2022-07-28T12:57:41.786564Z",
     "start_time": "2022-07-28T12:57:41.784515Z"
    },
    "pycharm": {
     "name": "#%%\n"
    }
   },
   "outputs": [
    {
     "name": "stdout",
     "output_type": "stream",
     "text": [
      "The data is free of obvious null values\n"
     ]
    }
   ],
   "source": [
    "print('The data is free of obvious null values')"
   ]
  },
  {
   "cell_type": "code",
   "execution_count": 240,
   "outputs": [],
   "source": [
    "df = df.drop_duplicates() # if any"
   ],
   "metadata": {
    "collapsed": false,
    "pycharm": {
     "name": "#%%\n"
    }
   }
  },
  {
   "cell_type": "markdown",
   "source": [
    "### 1.6 Exploration of top ransomware accounts"
   ],
   "metadata": {
    "collapsed": false,
    "pycharm": {
     "name": "#%% md\n"
    }
   }
  },
  {
   "cell_type": "code",
   "execution_count": 461,
   "outputs": [
    {
     "data": {
      "text/plain": "                                    address  year  day  length    weight  \\\n2667698  15DQFhP5R7ZeaBS9Ute7NzrYVBFSH1Z2kZ  2018   82       8  1.311111   \n2013400  3FhUXgmVecach9dZ59JK1yBLEcr9JsvJXZ  2016  157       2  0.025000   \n2704440  3DpHZaCtj88yaXUtajYnYLb8xgN15K8fnw  2018  118     144  3.619217   \n1650833  1G6doAKXpDsnsdSA1wgh7jfAnkaPi49M4y  2015  160     144  0.000484   \n1586811   175gAXqbkq4nho268FZxoBZ7TCCZWzWcg  2015   96     128  0.625000   \n...                                     ...   ...  ...     ...       ...   \n2801004  1NcRJirxHXN3PYEEdgdimwd2WBjxiDNfoG  2018  215       0  1.000000   \n1279778  1AqiakQAVAkNfacgoxomCDLe62TNBBhAzE  2014  154     144  0.825244   \n2286818  3PbboqPBfQoArgYn9DohRzTCTWu4euCduy  2017   66       0  1.000000   \n287632   1GZvWujtmYKfaVA9mYw954hwkdjrrMuCp5  2011  256      28  0.007994   \n2843736  123wREowXiDjyoxkYymp7yapFmZu2zdT3d  2018  258       6  0.500000   \n\n         count  looped  neighbors        income  label  \n2667698      3       0          2  5.772641e+08  white  \n2013400     44       0          1  1.000000e+08  white  \n2704440   5991    5991          2  2.999500e+08  white  \n1650833   3452    3049          2  2.990000e+08  white  \n1586811      2       0          2  4.000000e+07  white  \n...        ...     ...        ...           ...    ...  \n2801004      1       0          2  1.112954e+08  white  \n1279778   1756    1746          2  4.298373e+08  white  \n2286818      1       0          1  3.468740e+07  white  \n287632      44       0          2  7.998859e+09  white  \n2843736      1       0          2  4.655546e+07  white  \n\n[729174 rows x 10 columns]",
      "text/html": "<div>\n<style scoped>\n    .dataframe tbody tr th:only-of-type {\n        vertical-align: middle;\n    }\n\n    .dataframe tbody tr th {\n        vertical-align: top;\n    }\n\n    .dataframe thead th {\n        text-align: right;\n    }\n</style>\n<table border=\"1\" class=\"dataframe\">\n  <thead>\n    <tr style=\"text-align: right;\">\n      <th></th>\n      <th>address</th>\n      <th>year</th>\n      <th>day</th>\n      <th>length</th>\n      <th>weight</th>\n      <th>count</th>\n      <th>looped</th>\n      <th>neighbors</th>\n      <th>income</th>\n      <th>label</th>\n    </tr>\n  </thead>\n  <tbody>\n    <tr>\n      <th>2667698</th>\n      <td>15DQFhP5R7ZeaBS9Ute7NzrYVBFSH1Z2kZ</td>\n      <td>2018</td>\n      <td>82</td>\n      <td>8</td>\n      <td>1.311111</td>\n      <td>3</td>\n      <td>0</td>\n      <td>2</td>\n      <td>5.772641e+08</td>\n      <td>white</td>\n    </tr>\n    <tr>\n      <th>2013400</th>\n      <td>3FhUXgmVecach9dZ59JK1yBLEcr9JsvJXZ</td>\n      <td>2016</td>\n      <td>157</td>\n      <td>2</td>\n      <td>0.025000</td>\n      <td>44</td>\n      <td>0</td>\n      <td>1</td>\n      <td>1.000000e+08</td>\n      <td>white</td>\n    </tr>\n    <tr>\n      <th>2704440</th>\n      <td>3DpHZaCtj88yaXUtajYnYLb8xgN15K8fnw</td>\n      <td>2018</td>\n      <td>118</td>\n      <td>144</td>\n      <td>3.619217</td>\n      <td>5991</td>\n      <td>5991</td>\n      <td>2</td>\n      <td>2.999500e+08</td>\n      <td>white</td>\n    </tr>\n    <tr>\n      <th>1650833</th>\n      <td>1G6doAKXpDsnsdSA1wgh7jfAnkaPi49M4y</td>\n      <td>2015</td>\n      <td>160</td>\n      <td>144</td>\n      <td>0.000484</td>\n      <td>3452</td>\n      <td>3049</td>\n      <td>2</td>\n      <td>2.990000e+08</td>\n      <td>white</td>\n    </tr>\n    <tr>\n      <th>1586811</th>\n      <td>175gAXqbkq4nho268FZxoBZ7TCCZWzWcg</td>\n      <td>2015</td>\n      <td>96</td>\n      <td>128</td>\n      <td>0.625000</td>\n      <td>2</td>\n      <td>0</td>\n      <td>2</td>\n      <td>4.000000e+07</td>\n      <td>white</td>\n    </tr>\n    <tr>\n      <th>...</th>\n      <td>...</td>\n      <td>...</td>\n      <td>...</td>\n      <td>...</td>\n      <td>...</td>\n      <td>...</td>\n      <td>...</td>\n      <td>...</td>\n      <td>...</td>\n      <td>...</td>\n    </tr>\n    <tr>\n      <th>2801004</th>\n      <td>1NcRJirxHXN3PYEEdgdimwd2WBjxiDNfoG</td>\n      <td>2018</td>\n      <td>215</td>\n      <td>0</td>\n      <td>1.000000</td>\n      <td>1</td>\n      <td>0</td>\n      <td>2</td>\n      <td>1.112954e+08</td>\n      <td>white</td>\n    </tr>\n    <tr>\n      <th>1279778</th>\n      <td>1AqiakQAVAkNfacgoxomCDLe62TNBBhAzE</td>\n      <td>2014</td>\n      <td>154</td>\n      <td>144</td>\n      <td>0.825244</td>\n      <td>1756</td>\n      <td>1746</td>\n      <td>2</td>\n      <td>4.298373e+08</td>\n      <td>white</td>\n    </tr>\n    <tr>\n      <th>2286818</th>\n      <td>3PbboqPBfQoArgYn9DohRzTCTWu4euCduy</td>\n      <td>2017</td>\n      <td>66</td>\n      <td>0</td>\n      <td>1.000000</td>\n      <td>1</td>\n      <td>0</td>\n      <td>1</td>\n      <td>3.468740e+07</td>\n      <td>white</td>\n    </tr>\n    <tr>\n      <th>287632</th>\n      <td>1GZvWujtmYKfaVA9mYw954hwkdjrrMuCp5</td>\n      <td>2011</td>\n      <td>256</td>\n      <td>28</td>\n      <td>0.007994</td>\n      <td>44</td>\n      <td>0</td>\n      <td>2</td>\n      <td>7.998859e+09</td>\n      <td>white</td>\n    </tr>\n    <tr>\n      <th>2843736</th>\n      <td>123wREowXiDjyoxkYymp7yapFmZu2zdT3d</td>\n      <td>2018</td>\n      <td>258</td>\n      <td>6</td>\n      <td>0.500000</td>\n      <td>1</td>\n      <td>0</td>\n      <td>2</td>\n      <td>4.655546e+07</td>\n      <td>white</td>\n    </tr>\n  </tbody>\n</table>\n<p>729174 rows × 10 columns</p>\n</div>"
     },
     "execution_count": 461,
     "metadata": {},
     "output_type": "execute_result"
    }
   ],
   "source": [],
   "metadata": {
    "collapsed": false,
    "pycharm": {
     "name": "#%%\n"
    }
   }
  },
  {
   "cell_type": "code",
   "execution_count": 442,
   "outputs": [],
   "source": [
    "top_ransomwares_dict = dfc[dfc['label']!='white']['address'].value_counts().head(5).to_dict()\n",
    "dfc[dfc['label']!='white']['address'].value_counts().head(5).to_dict()\n",
    "top_ransomwares_l = list(top_ransomwares_dict.keys())\n",
    "top_accts = [dfc[dfc['address'] == j] for j in top_ransomwares_l]"
   ],
   "metadata": {
    "collapsed": false,
    "pycharm": {
     "name": "#%%\n"
    }
   }
  },
  {
   "cell_type": "code",
   "execution_count": 460,
   "outputs": [
    {
     "data": {
      "text/plain": "              year         day      length      weight        count  \\\ncount   101.000000  101.000000  101.000000  101.000000   101.000000   \nmean   2013.386139  181.930693    7.485149    1.324719    43.930693   \nstd       0.489291  106.086875   26.751678    0.620879   270.717316   \nmin    2013.000000    5.000000    0.000000    0.000096     1.000000   \n25%    2013.000000   92.000000    0.000000    1.000000     1.000000   \n50%    2013.000000  171.000000    0.000000    1.000000     2.000000   \n75%    2014.000000  277.000000    2.000000    1.500000     2.000000   \nmax    2014.000000  365.000000  144.000000    3.312269  2319.000000   \n\n           looped   neighbors        income  \ncount  101.000000  101.000000  1.010000e+02  \nmean     0.019802    1.554455  4.791904e+09  \nstd      0.199007    0.767792  1.695253e+10  \nmin      0.000000    1.000000  4.076000e+07  \n25%      0.000000    1.000000  6.354000e+08  \n50%      0.000000    1.000000  1.946310e+09  \n75%      0.000000    2.000000  4.461540e+09  \nmax      2.000000    4.000000  1.687649e+11  ",
      "text/html": "<div>\n<style scoped>\n    .dataframe tbody tr th:only-of-type {\n        vertical-align: middle;\n    }\n\n    .dataframe tbody tr th {\n        vertical-align: top;\n    }\n\n    .dataframe thead th {\n        text-align: right;\n    }\n</style>\n<table border=\"1\" class=\"dataframe\">\n  <thead>\n    <tr style=\"text-align: right;\">\n      <th></th>\n      <th>year</th>\n      <th>day</th>\n      <th>length</th>\n      <th>weight</th>\n      <th>count</th>\n      <th>looped</th>\n      <th>neighbors</th>\n      <th>income</th>\n    </tr>\n  </thead>\n  <tbody>\n    <tr>\n      <th>count</th>\n      <td>101.000000</td>\n      <td>101.000000</td>\n      <td>101.000000</td>\n      <td>101.000000</td>\n      <td>101.000000</td>\n      <td>101.000000</td>\n      <td>101.000000</td>\n      <td>1.010000e+02</td>\n    </tr>\n    <tr>\n      <th>mean</th>\n      <td>2013.386139</td>\n      <td>181.930693</td>\n      <td>7.485149</td>\n      <td>1.324719</td>\n      <td>43.930693</td>\n      <td>0.019802</td>\n      <td>1.554455</td>\n      <td>4.791904e+09</td>\n    </tr>\n    <tr>\n      <th>std</th>\n      <td>0.489291</td>\n      <td>106.086875</td>\n      <td>26.751678</td>\n      <td>0.620879</td>\n      <td>270.717316</td>\n      <td>0.199007</td>\n      <td>0.767792</td>\n      <td>1.695253e+10</td>\n    </tr>\n    <tr>\n      <th>min</th>\n      <td>2013.000000</td>\n      <td>5.000000</td>\n      <td>0.000000</td>\n      <td>0.000096</td>\n      <td>1.000000</td>\n      <td>0.000000</td>\n      <td>1.000000</td>\n      <td>4.076000e+07</td>\n    </tr>\n    <tr>\n      <th>25%</th>\n      <td>2013.000000</td>\n      <td>92.000000</td>\n      <td>0.000000</td>\n      <td>1.000000</td>\n      <td>1.000000</td>\n      <td>0.000000</td>\n      <td>1.000000</td>\n      <td>6.354000e+08</td>\n    </tr>\n    <tr>\n      <th>50%</th>\n      <td>2013.000000</td>\n      <td>171.000000</td>\n      <td>0.000000</td>\n      <td>1.000000</td>\n      <td>2.000000</td>\n      <td>0.000000</td>\n      <td>1.000000</td>\n      <td>1.946310e+09</td>\n    </tr>\n    <tr>\n      <th>75%</th>\n      <td>2014.000000</td>\n      <td>277.000000</td>\n      <td>2.000000</td>\n      <td>1.500000</td>\n      <td>2.000000</td>\n      <td>0.000000</td>\n      <td>2.000000</td>\n      <td>4.461540e+09</td>\n    </tr>\n    <tr>\n      <th>max</th>\n      <td>2014.000000</td>\n      <td>365.000000</td>\n      <td>144.000000</td>\n      <td>3.312269</td>\n      <td>2319.000000</td>\n      <td>2.000000</td>\n      <td>4.000000</td>\n      <td>1.687649e+11</td>\n    </tr>\n  </tbody>\n</table>\n</div>"
     },
     "execution_count": 460,
     "metadata": {},
     "output_type": "execute_result"
    }
   ],
   "source": [
    "top_accts[0].describe()"
   ],
   "metadata": {
    "collapsed": false,
    "pycharm": {
     "name": "#%%\n"
    }
   }
  },
  {
   "cell_type": "code",
   "execution_count": 455,
   "outputs": [
    {
     "data": {
      "text/plain": "(0.828, 1.656]       0.683168\n(1.656, 2.484]       0.128713\n(-0.00422, 0.828]    0.108911\n(2.484, 3.312]       0.079208\nName: weight, dtype: float64"
     },
     "execution_count": 455,
     "metadata": {},
     "output_type": "execute_result"
    }
   ],
   "source": [
    "top_accts[0]['weight'].value_counts(normalize=True,bins=4)"
   ],
   "metadata": {
    "collapsed": false,
    "pycharm": {
     "name": "#%%\n"
    }
   }
  },
  {
   "cell_type": "code",
   "execution_count": 454,
   "outputs": [
    {
     "data": {
      "text/plain": "(-1.319, 580.5]     0.980198\n(1160.0, 1739.5]    0.009901\n(1739.5, 2319.0]    0.009901\n(580.5, 1160.0]     0.000000\nName: count, dtype: float64"
     },
     "execution_count": 454,
     "metadata": {},
     "output_type": "execute_result"
    }
   ],
   "source": [
    "top_accts[0]['count'].value_counts(normalize=True,bins=4)"
   ],
   "metadata": {
    "collapsed": false,
    "pycharm": {
     "name": "#%%\n"
    }
   }
  },
  {
   "cell_type": "code",
   "execution_count": 528,
   "outputs": [
    {
     "data": {
      "text/plain": "(-0.003, 0.5]    0.990099\n(1.5, 2.0]       0.009901\n(0.5, 1.0]       0.000000\n(1.0, 1.5]       0.000000\nName: looped, dtype: float64"
     },
     "execution_count": 528,
     "metadata": {},
     "output_type": "execute_result"
    }
   ],
   "source": [
    "top_accts[0]['looped'].value_counts(normalize=True,bins=4)\n"
   ],
   "metadata": {
    "collapsed": false,
    "pycharm": {
     "name": "#%%\n"
    }
   }
  },
  {
   "cell_type": "code",
   "execution_count": 529,
   "outputs": [],
   "source": [
    "top_df = top_accts[0]"
   ],
   "metadata": {
    "collapsed": false,
    "pycharm": {
     "name": "#%%\n"
    }
   }
  },
  {
   "cell_type": "code",
   "execution_count": 532,
   "outputs": [],
   "source": [
    "top_df['time']= ''"
   ],
   "metadata": {
    "collapsed": false,
    "pycharm": {
     "name": "#%%\n"
    }
   }
  },
  {
   "cell_type": "code",
   "execution_count": 533,
   "outputs": [],
   "source": [
    "def convert_times(df):\n",
    "    start = 2011\n",
    "    year = 365\n",
    "    for idx, row in df.iterrows():\n",
    "        fact = (df['year'][idx]-start)*year\n",
    "        df['time'][idx] = df['day'][idx] + fact\n",
    "    return df"
   ],
   "metadata": {
    "collapsed": false,
    "pycharm": {
     "name": "#%%\n"
    }
   }
  },
  {
   "cell_type": "code",
   "execution_count": 534,
   "outputs": [],
   "source": [
    "top_df = convert_times(top_df)"
   ],
   "metadata": {
    "collapsed": false,
    "pycharm": {
     "name": "#%%\n"
    }
   }
  },
  {
   "cell_type": "code",
   "execution_count": 535,
   "outputs": [],
   "source": [
    "top_df.drop(['day', 'year'], axis=1, inplace=True)"
   ],
   "metadata": {
    "collapsed": false,
    "pycharm": {
     "name": "#%%\n"
    }
   }
  },
  {
   "cell_type": "code",
   "execution_count": 536,
   "outputs": [],
   "source": [
    "import matplotlib.pyplot as plt"
   ],
   "metadata": {
    "collapsed": false,
    "pycharm": {
     "name": "#%%\n"
    }
   }
  },
  {
   "cell_type": "code",
   "execution_count": 537,
   "outputs": [],
   "source": [
    "top_df.sort_values(by=['time'], ascending=True,inplace=True)"
   ],
   "metadata": {
    "collapsed": false,
    "pycharm": {
     "name": "#%%\n"
    }
   }
  },
  {
   "cell_type": "code",
   "execution_count": 538,
   "outputs": [
    {
     "data": {
      "text/plain": "[<matplotlib.lines.Line2D at 0x34338c130>]"
     },
     "execution_count": 538,
     "metadata": {},
     "output_type": "execute_result"
    },
    {
     "data": {
      "text/plain": "<Figure size 432x288 with 1 Axes>",
      "image/png": "[encoded data removed]"
     },
     "metadata": {},
     "output_type": "display_data"
    }
   ],
   "source": [
    "plt.plot(top_df['time'],top_df['income'])"
   ],
   "metadata": {
    "collapsed": false,
    "pycharm": {
     "name": "#%%\n"
    }
   }
  },
  {
   "cell_type": "code",
   "execution_count": 539,
   "outputs": [
    {
     "data": {
      "text/plain": "269.37379739184337"
     },
     "execution_count": 539,
     "metadata": {},
     "output_type": "execute_result"
    }
   ],
   "source": [
    "np.std(top_df['count'])"
   ],
   "metadata": {
    "collapsed": false,
    "pycharm": {
     "name": "#%%\n"
    }
   }
  },
  {
   "cell_type": "code",
   "execution_count": 540,
   "outputs": [
    {
     "data": {
      "text/plain": "822     1\n1103    1\n1142    1\n1139    1\n1135    1\n       ..\n984     1\n983     1\n980     1\n969     1\n1268    1\nName: time, Length: 101, dtype: int64"
     },
     "execution_count": 540,
     "metadata": {},
     "output_type": "execute_result"
    }
   ],
   "source": [
    "top_df['time'].value_counts()"
   ],
   "metadata": {
    "collapsed": false,
    "pycharm": {
     "name": "#%%\n"
    }
   }
  },
  {
   "cell_type": "code",
   "execution_count": 541,
   "outputs": [
    {
     "data": {
      "text/plain": "<Figure size 432x288 with 1 Axes>",
      "image/png": "[encoded data removed]"
     },
     "metadata": {},
     "output_type": "display_data"
    },
    {
     "data": {
      "text/plain": "[]"
     },
     "execution_count": 541,
     "metadata": {},
     "output_type": "execute_result"
    }
   ],
   "source": [
    "tmp = pd.plotting.autocorrelation_plot(top_df['length'])\n",
    "plt.show()\n",
    "tmp.plot()"
   ],
   "metadata": {
    "collapsed": false,
    "pycharm": {
     "name": "#%%\n"
    }
   }
  },
  {
   "cell_type": "code",
   "execution_count": 542,
   "outputs": [
    {
     "data": {
      "text/plain": "                                  address  length  weight  count  looped  \\\n34065  1LXrSb67EaH1LGc6d6kWHq8rgv4ZBQAcpU       4    1.00      2       0   \n34135  1LXrSb67EaH1LGc6d6kWHq8rgv4ZBQAcpU       2    1.50      2       0   \n34157  1LXrSb67EaH1LGc6d6kWHq8rgv4ZBQAcpU       0    1.00      1       0   \n34073  1LXrSb67EaH1LGc6d6kWHq8rgv4ZBQAcpU       2    1.00      2       0   \n34070  1LXrSb67EaH1LGc6d6kWHq8rgv4ZBQAcpU       0    1.00      1       0   \n...                                   ...     ...     ...    ...     ...   \n34075  1LXrSb67EaH1LGc6d6kWHq8rgv4ZBQAcpU       0    1.00      1       0   \n33985  1LXrSb67EaH1LGc6d6kWHq8rgv4ZBQAcpU       0    1.00      1       0   \n34249  1LXrSb67EaH1LGc6d6kWHq8rgv4ZBQAcpU       0    1.00      1       0   \n34097  1LXrSb67EaH1LGc6d6kWHq8rgv4ZBQAcpU       2    2.25      2       2   \n34184  1LXrSb67EaH1LGc6d6kWHq8rgv4ZBQAcpU       2    1.00      1       0   \n\n       neighbors        income         label  time  \n34065          1  6.760220e+09  CryptoLocker   822  \n34135          2  8.376640e+09  CryptoLocker   826  \n34157          1  9.973540e+09  CryptoLocker   833  \n34073          2  1.033522e+10  CryptoLocker   837  \n34070          1  3.799540e+09  CryptoLocker   846  \n...          ...           ...           ...   ...  \n34075          1  1.610340e+09  CryptoLocker  1250  \n33985          1  5.925000e+07  CryptoLocker  1259  \n34249          1  3.171300e+08  CryptoLocker  1265  \n34097          3  5.342960e+09  CryptoLocker  1266  \n34184          1  2.192500e+08  CryptoLocker  1268  \n\n[101 rows x 9 columns]",
      "text/html": "<div>\n<style scoped>\n    .dataframe tbody tr th:only-of-type {\n        vertical-align: middle;\n    }\n\n    .dataframe tbody tr th {\n        vertical-align: top;\n    }\n\n    .dataframe thead th {\n        text-align: right;\n    }\n</style>\n<table border=\"1\" class=\"dataframe\">\n  <thead>\n    <tr style=\"text-align: right;\">\n      <th></th>\n      <th>address</th>\n      <th>length</th>\n      <th>weight</th>\n      <th>count</th>\n      <th>looped</th>\n      <th>neighbors</th>\n      <th>income</th>\n      <th>label</th>\n      <th>time</th>\n    </tr>\n  </thead>\n  <tbody>\n    <tr>\n      <th>34065</th>\n      <td>1LXrSb67EaH1LGc6d6kWHq8rgv4ZBQAcpU</td>\n      <td>4</td>\n      <td>1.00</td>\n      <td>2</td>\n      <td>0</td>\n      <td>1</td>\n      <td>6.760220e+09</td>\n      <td>CryptoLocker</td>\n      <td>822</td>\n    </tr>\n    <tr>\n      <th>34135</th>\n      <td>1LXrSb67EaH1LGc6d6kWHq8rgv4ZBQAcpU</td>\n      <td>2</td>\n      <td>1.50</td>\n      <td>2</td>\n      <td>0</td>\n      <td>2</td>\n      <td>8.376640e+09</td>\n      <td>CryptoLocker</td>\n      <td>826</td>\n    </tr>\n    <tr>\n      <th>34157</th>\n      <td>1LXrSb67EaH1LGc6d6kWHq8rgv4ZBQAcpU</td>\n      <td>0</td>\n      <td>1.00</td>\n      <td>1</td>\n      <td>0</td>\n      <td>1</td>\n      <td>9.973540e+09</td>\n      <td>CryptoLocker</td>\n      <td>833</td>\n    </tr>\n    <tr>\n      <th>34073</th>\n      <td>1LXrSb67EaH1LGc6d6kWHq8rgv4ZBQAcpU</td>\n      <td>2</td>\n      <td>1.00</td>\n      <td>2</td>\n      <td>0</td>\n      <td>2</td>\n      <td>1.033522e+10</td>\n      <td>CryptoLocker</td>\n      <td>837</td>\n    </tr>\n    <tr>\n      <th>34070</th>\n      <td>1LXrSb67EaH1LGc6d6kWHq8rgv4ZBQAcpU</td>\n      <td>0</td>\n      <td>1.00</td>\n      <td>1</td>\n      <td>0</td>\n      <td>1</td>\n      <td>3.799540e+09</td>\n      <td>CryptoLocker</td>\n      <td>846</td>\n    </tr>\n    <tr>\n      <th>...</th>\n      <td>...</td>\n      <td>...</td>\n      <td>...</td>\n      <td>...</td>\n      <td>...</td>\n      <td>...</td>\n      <td>...</td>\n      <td>...</td>\n      <td>...</td>\n    </tr>\n    <tr>\n      <th>34075</th>\n      <td>1LXrSb67EaH1LGc6d6kWHq8rgv4ZBQAcpU</td>\n      <td>0</td>\n      <td>1.00</td>\n      <td>1</td>\n      <td>0</td>\n      <td>1</td>\n      <td>1.610340e+09</td>\n      <td>CryptoLocker</td>\n      <td>1250</td>\n    </tr>\n    <tr>\n      <th>33985</th>\n      <td>1LXrSb67EaH1LGc6d6kWHq8rgv4ZBQAcpU</td>\n      <td>0</td>\n      <td>1.00</td>\n      <td>1</td>\n      <td>0</td>\n      <td>1</td>\n      <td>5.925000e+07</td>\n      <td>CryptoLocker</td>\n      <td>1259</td>\n    </tr>\n    <tr>\n      <th>34249</th>\n      <td>1LXrSb67EaH1LGc6d6kWHq8rgv4ZBQAcpU</td>\n      <td>0</td>\n      <td>1.00</td>\n      <td>1</td>\n      <td>0</td>\n      <td>1</td>\n      <td>3.171300e+08</td>\n      <td>CryptoLocker</td>\n      <td>1265</td>\n    </tr>\n    <tr>\n      <th>34097</th>\n      <td>1LXrSb67EaH1LGc6d6kWHq8rgv4ZBQAcpU</td>\n      <td>2</td>\n      <td>2.25</td>\n      <td>2</td>\n      <td>2</td>\n      <td>3</td>\n      <td>5.342960e+09</td>\n      <td>CryptoLocker</td>\n      <td>1266</td>\n    </tr>\n    <tr>\n      <th>34184</th>\n      <td>1LXrSb67EaH1LGc6d6kWHq8rgv4ZBQAcpU</td>\n      <td>2</td>\n      <td>1.00</td>\n      <td>1</td>\n      <td>0</td>\n      <td>1</td>\n      <td>2.192500e+08</td>\n      <td>CryptoLocker</td>\n      <td>1268</td>\n    </tr>\n  </tbody>\n</table>\n<p>101 rows × 9 columns</p>\n</div>"
     },
     "execution_count": 542,
     "metadata": {},
     "output_type": "execute_result"
    }
   ],
   "source": [
    "top_df"
   ],
   "metadata": {
    "collapsed": false,
    "pycharm": {
     "name": "#%%\n"
    }
   }
  },
  {
   "cell_type": "code",
   "execution_count": 30,
   "outputs": [
    {
     "data": {
      "text/plain": "-0.10331646393177565"
     },
     "execution_count": 30,
     "metadata": {},
     "output_type": "execute_result"
    }
   ],
   "source": [
    "top_df['income'].autocorr(lag=2)"
   ],
   "metadata": {
    "collapsed": false,
    "pycharm": {
     "name": "#%%\n"
    }
   }
  },
  {
   "cell_type": "code",
   "execution_count": 33,
   "outputs": [],
   "source": [
    "year_vars = df.groupby('year').var()\n"
   ],
   "metadata": {
    "collapsed": false,
    "pycharm": {
     "name": "#%%\n"
    }
   }
  },
  {
   "cell_type": "code",
   "execution_count": 34,
   "outputs": [
    {
     "data": {
      "text/plain": "               day       length      weight         count        looped  \\\nyear                                                                      \n2011  10640.092779   941.811666    0.602399  7.782987e+02  8.203313e+01   \n2012  11068.814072  2075.513736    7.803078  1.966471e+05  5.677411e+04   \n2013  11148.814793  2312.595587   14.107738  6.781572e+05  1.757465e+05   \n2014  11055.107209  4339.553603    2.611388  7.206790e+05  5.124574e+05   \n2015  10999.204134  4541.401051   31.181484  2.895797e+06  1.750638e+06   \n2016  10918.650097  3937.921899    7.183563  3.978499e+06  1.397704e+06   \n2017  11141.410109  3553.734728    4.558745  6.089127e+06  1.554984e+06   \n2018   9071.873630  3779.567804  232.518876  6.413728e+06  1.729087e+06   \n\n        neighbors        income  \nyear                             \n2011     2.377670  1.931484e+23  \n2012   508.052064  1.056930e+22  \n2013   262.404180  2.975309e+21  \n2014    24.585218  1.284803e+20  \n2015    35.553089  5.255236e+20  \n2016    54.592590  7.627649e+20  \n2017   169.433263  1.371904e+21  \n2018  6933.467385  2.011246e+21  ",
      "text/html": "<div>\n<style scoped>\n    .dataframe tbody tr th:only-of-type {\n        vertical-align: middle;\n    }\n\n    .dataframe tbody tr th {\n        vertical-align: top;\n    }\n\n    .dataframe thead th {\n        text-align: right;\n    }\n</style>\n<table border=\"1\" class=\"dataframe\">\n  <thead>\n    <tr style=\"text-align: right;\">\n      <th></th>\n      <th>day</th>\n      <th>length</th>\n      <th>weight</th>\n      <th>count</th>\n      <th>looped</th>\n      <th>neighbors</th>\n      <th>income</th>\n    </tr>\n    <tr>\n      <th>year</th>\n      <th></th>\n      <th></th>\n      <th></th>\n      <th></th>\n      <th></th>\n      <th></th>\n      <th></th>\n    </tr>\n  </thead>\n  <tbody>\n    <tr>\n      <th>2011</th>\n      <td>10640.092779</td>\n      <td>941.811666</td>\n      <td>0.602399</td>\n      <td>7.782987e+02</td>\n      <td>8.203313e+01</td>\n      <td>2.377670</td>\n      <td>1.931484e+23</td>\n    </tr>\n    <tr>\n      <th>2012</th>\n      <td>11068.814072</td>\n      <td>2075.513736</td>\n      <td>7.803078</td>\n      <td>1.966471e+05</td>\n      <td>5.677411e+04</td>\n      <td>508.052064</td>\n      <td>1.056930e+22</td>\n    </tr>\n    <tr>\n      <th>2013</th>\n      <td>11148.814793</td>\n      <td>2312.595587</td>\n      <td>14.107738</td>\n      <td>6.781572e+05</td>\n      <td>1.757465e+05</td>\n      <td>262.404180</td>\n      <td>2.975309e+21</td>\n    </tr>\n    <tr>\n      <th>2014</th>\n      <td>11055.107209</td>\n      <td>4339.553603</td>\n      <td>2.611388</td>\n      <td>7.206790e+05</td>\n      <td>5.124574e+05</td>\n      <td>24.585218</td>\n      <td>1.284803e+20</td>\n    </tr>\n    <tr>\n      <th>2015</th>\n      <td>10999.204134</td>\n      <td>4541.401051</td>\n      <td>31.181484</td>\n      <td>2.895797e+06</td>\n      <td>1.750638e+06</td>\n      <td>35.553089</td>\n      <td>5.255236e+20</td>\n    </tr>\n    <tr>\n      <th>2016</th>\n      <td>10918.650097</td>\n      <td>3937.921899</td>\n      <td>7.183563</td>\n      <td>3.978499e+06</td>\n      <td>1.397704e+06</td>\n      <td>54.592590</td>\n      <td>7.627649e+20</td>\n    </tr>\n    <tr>\n      <th>2017</th>\n      <td>11141.410109</td>\n      <td>3553.734728</td>\n      <td>4.558745</td>\n      <td>6.089127e+06</td>\n      <td>1.554984e+06</td>\n      <td>169.433263</td>\n      <td>1.371904e+21</td>\n    </tr>\n    <tr>\n      <th>2018</th>\n      <td>9071.873630</td>\n      <td>3779.567804</td>\n      <td>232.518876</td>\n      <td>6.413728e+06</td>\n      <td>1.729087e+06</td>\n      <td>6933.467385</td>\n      <td>2.011246e+21</td>\n    </tr>\n  </tbody>\n</table>\n</div>"
     },
     "execution_count": 34,
     "metadata": {},
     "output_type": "execute_result"
    }
   ],
   "source": [
    "year_vars"
   ],
   "metadata": {
    "collapsed": false,
    "pycharm": {
     "name": "#%%\n"
    }
   }
  },
  {
   "cell_type": "code",
   "execution_count": 586,
   "outputs": [],
   "source": [
    "mean_white_per_yr = df[df['label'] == 'white'].groupby('year').mean()\n",
    "mean_red_per_yr = df[df['label'] != 'white'].groupby('year').mean()\n",
    "\n"
   ],
   "metadata": {
    "collapsed": false,
    "pycharm": {
     "name": "#%%\n"
    }
   }
  },
  {
   "cell_type": "code",
   "execution_count": 588,
   "outputs": [
    {
     "data": {
      "text/plain": "[2011, 2012, 2013, 2014, 2015, 2016, 2017, 2018]"
     },
     "execution_count": 588,
     "metadata": {},
     "output_type": "execute_result"
    }
   ],
   "source": [
    "yrs = list(mean_red_per_yr['income'].index)\n",
    "yrs"
   ],
   "metadata": {
    "collapsed": false,
    "pycharm": {
     "name": "#%%\n"
    }
   }
  },
  {
   "cell_type": "code",
   "execution_count": 589,
   "outputs": [
    {
     "data": {
      "text/plain": "array([[1.14920907e+10],\n       [1.00711654e+10],\n       [4.00750104e+09],\n       [1.67897771e+09],\n       [1.89057254e+09],\n       [1.87414534e+09],\n       [1.76914907e+09],\n       [1.69124335e+09]])"
     },
     "execution_count": 589,
     "metadata": {},
     "output_type": "execute_result"
    }
   ],
   "source": [
    "temp=np.array(dfc.groupby('year').income.mean()).reshape((-1,1))\n",
    "temp"
   ],
   "metadata": {
    "collapsed": false,
    "pycharm": {
     "name": "#%%\n"
    }
   }
  },
  {
   "cell_type": "code",
   "execution_count": 643,
   "outputs": [
    {
     "data": {
      "text/plain": "<BarContainer object of 8 artists>"
     },
     "execution_count": 643,
     "metadata": {},
     "output_type": "execute_result"
    },
    {
     "data": {
      "text/plain": "<Figure size 432x288 with 2 Axes>",
      "image/png": "[encoded data removed]"
     },
     "metadata": {},
     "output_type": "display_data"
    }
   ],
   "source": [
    "fig, ax = plt.subplots(1,2)\n",
    "plt.title('Mean income per year [clean]')\n",
    "plt.xlabel('year')\n",
    "ax[0].bar(yrs,mean_red_per_yr['income'])\n",
    "ax[1].bar(yrs,mean_white_per_yr['income'])"
   ],
   "metadata": {
    "collapsed": false,
    "pycharm": {
     "name": "#%%\n"
    }
   }
  },
  {
   "cell_type": "code",
   "execution_count": 627,
   "outputs": [
    {
     "data": {
      "text/plain": "<AxesSubplot:ylabel='income'>"
     },
     "execution_count": 627,
     "metadata": {},
     "output_type": "execute_result"
    },
    {
     "data": {
      "text/plain": "<Figure size 432x288 with 1 Axes>",
      "image/png": "[encoded data removed]"
     },
     "metadata": {},
     "output_type": "display_data"
    }
   ],
   "source": [
    "sns.barplot(yrs,mean_red_per_yr['income'],label='red')"
   ],
   "metadata": {
    "collapsed": false,
    "pycharm": {
     "name": "#%%\n"
    }
   }
  },
  {
   "cell_type": "markdown",
   "source": [
    "### 1.7 X,y split"
   ],
   "metadata": {
    "collapsed": false,
    "pycharm": {
     "name": "#%% md\n"
    }
   }
  },
  {
   "cell_type": "code",
   "execution_count": 241,
   "id": "021c8d82",
   "metadata": {
    "ExecuteTime": {
     "end_time": "2022-07-28T12:57:42.153156Z",
     "start_time": "2022-07-28T12:57:42.150014Z"
    },
    "pycharm": {
     "name": "#%%\n"
    }
   },
   "outputs": [],
   "source": [
    "def labels_to_binary(df_labels):\n",
    "    # joins the classes of ransomware labels and into 'detected'=1, 'not detected'=0\n",
    "    \n",
    "    labels = np.array([])\n",
    "    \n",
    "    for label_i in tqdm(df_labels):\n",
    "        if label_i == 'white':\n",
    "            # label all presumed \"white\" addresses with 0\n",
    "            labels = np.append(labels, 0) \n",
    "        else:\n",
    "            # label all ransomware addresses with 1\n",
    "            labels = np.append(labels, 1) #ransomware\n",
    "    return labels"
   ]
  },
  {
   "cell_type": "code",
   "execution_count": 242,
   "id": "7aecf0bd",
   "metadata": {
    "ExecuteTime": {
     "end_time": "2022-07-28T12:59:39.746401Z",
     "start_time": "2022-07-28T12:57:42.154188Z"
    },
    "pycharm": {
     "name": "#%%\n"
    }
   },
   "outputs": [
    {
     "data": {
      "text/plain": "  0%|          | 0/729174 [00:00<?, ?it/s]",
      "application/vnd.jupyter.widget-view+json": {
       "version_major": 2,
       "version_minor": 0,
       "model_id": "3b9d214647fa4c2b8616300a12d18b4a"
      }
     },
     "metadata": {},
     "output_type": "display_data"
    }
   ],
   "source": [
    "labels = labels_to_binary(df.label) # recast labels into binary"
   ]
  },
  {
   "cell_type": "code",
   "execution_count": 243,
   "id": "071e721d",
   "metadata": {
    "ExecuteTime": {
     "end_time": "2022-07-28T12:59:39.749510Z",
     "start_time": "2022-07-28T12:59:39.747448Z"
    },
    "pycharm": {
     "name": "#%%\n"
    }
   },
   "outputs": [],
   "source": [
    "labels_df = pd.DataFrame(labels,columns=['labels'])"
   ]
  },
  {
   "cell_type": "code",
   "execution_count": 244,
   "id": "2d8ded61",
   "metadata": {
    "ExecuteTime": {
     "end_time": "2022-07-28T12:59:39.784444Z",
     "start_time": "2022-07-28T12:59:39.750175Z"
    },
    "pycharm": {
     "name": "#%%\n"
    }
   },
   "outputs": [
    {
     "name": "stdout",
     "output_type": "stream",
     "text": [
      "Percentage of labels belonging to ransomware class: 1.4\n"
     ]
    }
   ],
   "source": [
    "print('Percentage of labels \\\n",
    "belonging to ransomware class: {:.2}'.format( (sum(labels) / len(labels)) * 100) )"
   ]
  },
  {
   "cell_type": "markdown",
   "id": "4f7aa000",
   "metadata": {
    "pycharm": {
     "name": "#%% md\n"
    }
   },
   "source": [
    "**Defining {X, X_test, x_rain, y_test, y_train}**"
   ]
  },
  {
   "cell_type": "code",
   "execution_count": 245,
   "id": "37ef2962",
   "metadata": {
    "ExecuteTime": {
     "end_time": "2022-07-28T12:59:39.913148Z",
     "start_time": "2022-07-28T12:59:39.785189Z"
    },
    "pycharm": {
     "name": "#%%\n"
    }
   },
   "outputs": [],
   "source": [
    "X_df = df.drop(['label'],axis=1) # X=features [original]\n",
    "X = X_df.to_numpy()"
   ]
  },
  {
   "cell_type": "code",
   "execution_count": 248,
   "outputs": [],
   "source": [
    "labels_df = labels_df.astype(int)"
   ],
   "metadata": {
    "collapsed": false,
    "pycharm": {
     "name": "#%%\n"
    }
   }
  },
  {
   "cell_type": "code",
   "execution_count": 249,
   "id": "787c4497",
   "metadata": {
    "ExecuteTime": {
     "end_time": "2022-07-28T12:59:40.072774Z",
     "start_time": "2022-07-28T12:59:39.914014Z"
    },
    "pycharm": {
     "name": "#%%\n"
    }
   },
   "outputs": [],
   "source": [
    "# WORKING test train split. We perform many operations on this data\n",
    "# We will down sample this data for plotting, testing, and training optimization\n",
    "X_train, X_test, y_train, y_test = train_test_split(\n",
    "    X_df,\n",
    "    labels_df,                      # y \n",
    "    stratify = labels,           #  stratify preserves the large imbalance in the target variable\n",
    "    random_state = RAND_STATE,\n",
    "    test_size = SPLIT_RATIO\n",
    ")"
   ]
  },
  {
   "cell_type": "code",
   "execution_count": 250,
   "id": "f24c294a",
   "metadata": {
    "ExecuteTime": {
     "end_time": "2022-07-28T12:59:40.077697Z",
     "start_time": "2022-07-28T12:59:40.076090Z"
    },
    "run_control": {
     "marked": false
    },
    "pycharm": {
     "name": "#%%\n"
    }
   },
   "outputs": [],
   "source": [
    "#if SAVE_TEST_TRAIN == True:\n",
    "#    with open('X_train_y_train_X_test_y_test_label_v3_01.pickle', 'wb') as save_file:\n",
    "#        pickle.dump([X_train, y_train, X_test, y_test], save_file)\n",
    "\n",
    "if SAVE_TEST_TRAIN == True:\n",
    "    fname = 'X_train_y_train_X_test_y_test_v2_0'+str(NF)+'.pickle'\n",
    "    with open(fname, 'wb') as save_file:\n",
    "        pickle.dump([X_train, y_train, X_test, y_test], save_file)"
   ]
  },
  {
   "cell_type": "markdown",
   "id": "792ba9b0",
   "metadata": {
    "pycharm": {
     "name": "#%% md\n"
    }
   },
   "source": [
    "# 2.0 Feature Analysis"
   ]
  },
  {
   "cell_type": "markdown",
   "id": "cf2ac74f",
   "metadata": {
    "pycharm": {
     "name": "#%% md\n"
    }
   },
   "source": [
    "* Transform features to reduce their skew\n",
    "* Normalize to unit variance and zero mean for distance classification\n",
    "* Engineer new features from the old ones"
   ]
  },
  {
   "cell_type": "code",
   "execution_count": 251,
   "id": "f973f9ac",
   "metadata": {
    "ExecuteTime": {
     "end_time": "2022-07-28T12:59:40.103502Z",
     "start_time": "2022-07-28T12:59:40.101887Z"
    },
    "pycharm": {
     "name": "#%%\n"
    }
   },
   "outputs": [],
   "source": [
    "pt = PowerTransformer(method='box-cox') # transformer to reduce skew, not standard"
   ]
  },
  {
   "cell_type": "code",
   "execution_count": 252,
   "outputs": [],
   "source": [
    "def plot_box(col_var):\n",
    "        return sns.boxplot(x=col_var)\n",
    "def plot_pdf(col_var, title=''):\n",
    "        # plots distributions\n",
    "\n",
    "        #self.col = s.name\n",
    "        sns.distplot(col_var, color=\"c\")\n",
    "        plt.title(title +  ' distribution')\n",
    "        plt.ylabel('$\\pho')\n",
    "        plt.xlabel(col_var.name)\n",
    "        plt.plot()"
   ],
   "metadata": {
    "collapsed": false,
    "pycharm": {
     "name": "#%%\n"
    }
   }
  },
  {
   "cell_type": "code",
   "execution_count": 253,
   "id": "de37c141",
   "metadata": {
    "ExecuteTime": {
     "end_time": "2022-07-28T12:59:40.109455Z",
     "start_time": "2022-07-28T12:59:40.104219Z"
    },
    "pycharm": {
     "name": "#%%\n"
    }
   },
   "outputs": [],
   "source": [
    "class Feature:\n",
    "    def __init__(self, df, colname):\n",
    "        self.df = df\n",
    "        self.col = colname\n",
    "        self.vec = np.array(self.df[self.col])\n",
    "        self.series = self.df[self.col]\n",
    "        if self.series.dtype == 'O':\n",
    "            pass\n",
    "        else:\n",
    "            self.skew = self.series.skew()\n",
    "            self.mean = self.series.mean()\n",
    "            self.var  = self.series.var()\n",
    "            self.std  = self.series.std()\n",
    "    def plot_pdf(self):\n",
    "        # plots distributions\n",
    "        sns.distplot(self.series, color=\"c\")\n",
    "        plt.title(str(self.col) +  ' distribution')\n",
    "        plt.ylabel('density')\n",
    "        plt.xlabel(self.col)\n",
    "        plt.plot()\n",
    "    def plot_box(self):\n",
    "        return sns.boxplot(x=self.series)\n",
    "    def apply_pt_for_plots(self):\n",
    "        return pt.fit_transform(self.vec.reshape(-1,1))\n",
    "    def bc(self):\n",
    "        # boxcox on column\n",
    "        return  boxcox(self.series)[0] \n",
    "    def yeo(self):   \n",
    "        # yeo on column\n",
    "        return  yeojohnson(self.series)[0] \n",
    "    def sigmoid(self):\n",
    "        # logistic function\n",
    "        return 1 / (1 + np.exp(-self.vec))"
   ]
  },
  {
   "cell_type": "code",
   "execution_count": 254,
   "outputs": [],
   "source": [
    "train_features = {\n",
    "    \"address\": Feature(X_train,'address'),\n",
    "    \"income\": Feature(X_train,'income'),\n",
    "    \"day\": Feature(X_train, 'day'),\n",
    "    \"year\": Feature(X_train,'year'),\n",
    "    \"length\": Feature(X_train, 'length'),\n",
    "    \"weight\": Feature(X_train, 'weight'),\n",
    "    \"neighbors\": Feature(X_train,'neighbors'),\n",
    "    \"count\": Feature(X_train,'count'),\n",
    "    \"looped\": Feature(X_train,'looped')}\n",
    "\n",
    "test_features = {\n",
    "    \"address\": Feature(X_test,'address'),\n",
    "    \"income\": Feature(X_test,'income'),\n",
    "    \"day\": Feature(X_test, 'day'),\n",
    "    \"year\": Feature(X_test,'year'),\n",
    "    \"length\": Feature(X_test, 'length'),\n",
    "    \"weight\": Feature(X_test, 'weight'),\n",
    "    \"neighbors\": Feature(X_test,'neighbors'),\n",
    "    \"count\": Feature(X_test,'count'),\n",
    "    \"looped\": Feature(X_test,'looped')}"
   ],
   "metadata": {
    "collapsed": false,
    "pycharm": {
     "name": "#%%\n"
    }
   }
  },
  {
   "cell_type": "code",
   "execution_count": 255,
   "outputs": [],
   "source": [
    "train_features_d = {} # derived through transformations to be more normally distributed and on smaller domains\n",
    "test_features_d = {}\n",
    "\n",
    "train_features_d['year'] = Feature(X_train,'year')\n",
    "test_features_d['year']  = Feature(X_test,'year')"
   ],
   "metadata": {
    "collapsed": false,
    "pycharm": {
     "name": "#%%\n"
    }
   }
  },
  {
   "cell_type": "markdown",
   "id": "ad5deb4a",
   "metadata": {
    "pycharm": {
     "name": "#%% md\n"
    }
   },
   "source": [
    "#### 2.1.0 income [bc_income]"
   ]
  },
  {
   "cell_type": "code",
   "execution_count": 52,
   "outputs": [],
   "source": [],
   "metadata": {
    "collapsed": false,
    "pycharm": {
     "name": "#%%\n"
    }
   }
  },
  {
   "cell_type": "code",
   "execution_count": 256,
   "outputs": [
    {
     "data": {
      "text/plain": "count    5.614630e+05\nmean     4.272640e+09\nstd      1.453427e+11\nmin      3.000000e+07\n25%      7.408249e+07\n50%      1.999900e+08\n75%      9.941911e+08\nmax      4.966515e+13\nName: income, dtype: float64"
     },
     "execution_count": 256,
     "metadata": {},
     "output_type": "execute_result"
    }
   ],
   "source": [
    "train_features['income'].series.describe()"
   ],
   "metadata": {
    "collapsed": false,
    "pycharm": {
     "name": "#%%\n"
    }
   }
  },
  {
   "cell_type": "code",
   "execution_count": 462,
   "outputs": [
    {
     "data": {
      "text/plain": "(-49635122076.175, 9933054415234.8]       561456\n(39732127660939.2, 49665152076174.0]           4\n(9933054415234.8, 19866078830469.6]            2\n(19866078830469.6, 29799103245704.402]         1\n(29799103245704.402, 39732127660939.2]         0\nName: income, dtype: int64"
     },
     "execution_count": 462,
     "metadata": {},
     "output_type": "execute_result"
    }
   ],
   "source": [
    "train_features['income'].series.value_counts(bins=5)"
   ],
   "metadata": {
    "collapsed": false,
    "pycharm": {
     "name": "#%%\n"
    }
   }
  },
  {
   "cell_type": "code",
   "execution_count": 257,
   "outputs": [
    {
     "data": {
      "text/plain": "<Figure size 432x288 with 1 Axes>",
      "image/png": "[encoded data removed]"
     },
     "metadata": {},
     "output_type": "display_data"
    }
   ],
   "source": [
    "train_features['income'].plot_pdf()"
   ],
   "metadata": {
    "collapsed": false,
    "pycharm": {
     "name": "#%%\n"
    }
   }
  },
  {
   "cell_type": "markdown",
   "source": [
    "The Shapiro–Wilk test tests the null hypothesis that a sample x1, ..., xn came from a normally distributed population."
   ],
   "metadata": {
    "collapsed": false,
    "pycharm": {
     "name": "#%% md\n"
    }
   }
  },
  {
   "cell_type": "code",
   "execution_count": 489,
   "outputs": [
    {
     "data": {
      "text/plain": "AndersonResult(statistic=205270.3457565758, critical_values=array([0.576, 0.656, 0.787, 0.918, 1.092]), significance_level=array([15. , 10. ,  5. ,  2.5,  1. ]))"
     },
     "execution_count": 489,
     "metadata": {},
     "output_type": "execute_result"
    }
   ],
   "source": [
    "#shapiro(train_features['income'].series)\n",
    "shapiro(X_train['income'])\n",
    "\n",
    "stats.anderson(X_train.income, dist='norm')"
   ],
   "metadata": {
    "collapsed": false,
    "pycharm": {
     "name": "#%%\n"
    }
   }
  },
  {
   "cell_type": "code",
   "execution_count": 258,
   "id": "0b796e38",
   "metadata": {
    "ExecuteTime": {
     "end_time": "2022-07-28T12:59:40.582868Z",
     "start_time": "2022-07-28T12:59:40.580987Z"
    },
    "pycharm": {
     "name": "#%%\n"
    }
   },
   "outputs": [
    {
     "name": "stdout",
     "output_type": "stream",
     "text": [
      "Income skew = 250.7389157110026\n"
     ]
    }
   ],
   "source": [
    "print('Income skew = {}'.format(train_features['income'].skew)) # highly skwewed"
   ]
  },
  {
   "cell_type": "code",
   "execution_count": 259,
   "id": "a709df62",
   "metadata": {
    "ExecuteTime": {
     "end_time": "2022-07-28T12:59:40.648665Z",
     "start_time": "2022-07-28T12:59:40.587807Z"
    },
    "pycharm": {
     "name": "#%%\n"
    }
   },
   "outputs": [
    {
     "data": {
      "text/plain": "<Figure size 432x288 with 1 Axes>",
      "image/png": "[encoded data removed]"
     },
     "metadata": {},
     "output_type": "display_data"
    }
   ],
   "source": [
    "# reducing skew with log\n",
    "log_inc = np.log(np.log(np.log(X_train['income'])))\n",
    "ax = plot_box(log_inc)"
   ]
  },
  {
   "cell_type": "code",
   "execution_count": 260,
   "id": "22fc7de0",
   "metadata": {
    "ExecuteTime": {
     "end_time": "2022-07-28T12:59:41.184078Z",
     "start_time": "2022-07-28T12:59:40.650134Z"
    },
    "pycharm": {
     "name": "#%%\n"
    }
   },
   "outputs": [
    {
     "data": {
      "text/plain": "<Figure size 432x288 with 1 Axes>",
      "image/png": "[encoded data removed]"
     },
     "metadata": {},
     "output_type": "display_data"
    }
   ],
   "source": [
    "plot_pdf(log_inc, 'log')"
   ]
  },
  {
   "cell_type": "markdown",
   "id": "d65ae44f",
   "metadata": {
    "pycharm": {
     "name": "#%% md\n"
    }
   },
   "source": [
    "Log doesn't quite normalize the distribution. Try with boxcox"
   ]
  },
  {
   "cell_type": "code",
   "execution_count": 261,
   "id": "a87c2e86",
   "metadata": {
    "ExecuteTime": {
     "end_time": "2022-07-28T12:59:41.421760Z",
     "start_time": "2022-07-28T12:59:41.185059Z"
    },
    "pycharm": {
     "name": "#%%\n"
    }
   },
   "outputs": [],
   "source": [
    "# boxcox \n",
    "bc_income_train = train_features['income'].bc() # np array\n",
    "bc_income_test = test_features['income'].bc()   # np array"
   ]
  },
  {
   "cell_type": "code",
   "execution_count": 262,
   "id": "8614078b",
   "metadata": {
    "ExecuteTime": {
     "end_time": "2022-07-28T12:59:41.475495Z",
     "start_time": "2022-07-28T12:59:41.422597Z"
    },
    "pycharm": {
     "name": "#%%\n"
    }
   },
   "outputs": [
    {
     "data": {
      "text/plain": "<Figure size 432x288 with 1 Axes>",
      "image/png": "[encoded data removed]"
     },
     "metadata": {},
     "output_type": "display_data"
    }
   ],
   "source": [
    "ax = plot_box(bc_income_train) # box plot of boxcox(income)"
   ]
  },
  {
   "cell_type": "markdown",
   "source": [
    "Applying the box-cox transform has removed the outliers"
   ],
   "metadata": {
    "collapsed": false,
    "pycharm": {
     "name": "#%% md\n"
    }
   }
  },
  {
   "cell_type": "code",
   "execution_count": 263,
   "id": "786751f1",
   "metadata": {
    "ExecuteTime": {
     "end_time": "2022-07-28T12:59:42.055004Z",
     "start_time": "2022-07-28T12:59:41.476391Z"
    },
    "pycharm": {
     "name": "#%%\n"
    }
   },
   "outputs": [
    {
     "data": {
      "text/plain": "<Figure size 432x288 with 1 Axes>",
      "image/png": "[encoded data removed]"
     },
     "metadata": {},
     "output_type": "display_data"
    }
   ],
   "source": [
    "plot_pdf(pd.Series(bc_income_train, name='boxcox income'), 'boxcox')"
   ]
  },
  {
   "cell_type": "code",
   "execution_count": 264,
   "id": "e73bf645",
   "metadata": {
    "ExecuteTime": {
     "end_time": "2022-07-28T12:59:42.069385Z",
     "start_time": "2022-07-28T12:59:42.055992Z"
    },
    "pycharm": {
     "name": "#%%\n"
    }
   },
   "outputs": [],
   "source": [
    "# Seems good enough to save as a new engineered feature\n",
    "train_features_d['bc_income'] = Feature(pd.DataFrame(bc_income_train, columns=['bc_income']),'bc_income')\n",
    "test_features_d['bc_income']  = Feature(pd.DataFrame(bc_income_test, columns=['bc_income']),'bc_income')"
   ]
  },
  {
   "cell_type": "code",
   "execution_count": 265,
   "id": "724a97ac",
   "metadata": {
    "ExecuteTime": {
     "end_time": "2022-07-28T12:59:42.072576Z",
     "start_time": "2022-07-28T12:59:42.070142Z"
    },
    "pycharm": {
     "name": "#%%\n"
    }
   },
   "outputs": [
    {
     "data": {
      "text/plain": "0.15785959251757625"
     },
     "execution_count": 265,
     "metadata": {},
     "output_type": "execute_result"
    }
   ],
   "source": [
    "train_features_d['bc_income'].skew"
   ]
  },
  {
   "cell_type": "code",
   "execution_count": 479,
   "outputs": [
    {
     "data": {
      "text/plain": "ShapiroResult(statistic=0.8034206628799438, pvalue=0.0)"
     },
     "execution_count": 479,
     "metadata": {},
     "output_type": "execute_result"
    }
   ],
   "source": [
    "shapiro(test_features_d['bc_income'].series)\n"
   ],
   "metadata": {
    "collapsed": false,
    "pycharm": {
     "name": "#%%\n"
    }
   }
  },
  {
   "cell_type": "markdown",
   "id": "e2f32de0",
   "metadata": {
    "pycharm": {
     "name": "#%% md\n"
    }
   },
   "source": [
    "#### 2.1.1 day [day_of_week]"
   ]
  },
  {
   "cell_type": "code",
   "execution_count": 272,
   "outputs": [
    {
     "data": {
      "text/plain": "count    561463.000000\nmean        181.614723\nstd         103.921732\nmin           1.000000\n25%          92.000000\n50%         181.000000\n75%         271.000000\nmax         365.000000\nName: day, dtype: float64"
     },
     "execution_count": 272,
     "metadata": {},
     "output_type": "execute_result"
    }
   ],
   "source": [
    "train_features['day'].series.describe()"
   ],
   "metadata": {
    "collapsed": false,
    "pycharm": {
     "name": "#%%\n"
    }
   }
  },
  {
   "cell_type": "code",
   "execution_count": 273,
   "outputs": [
    {
     "data": {
      "text/plain": "<Figure size 432x288 with 1 Axes>",
      "image/png": "[encoded data removed]"
     },
     "metadata": {},
     "output_type": "display_data"
    }
   ],
   "source": [
    "train_features['day'].plot_pdf()"
   ],
   "metadata": {
    "collapsed": false,
    "pycharm": {
     "name": "#%%\n"
    }
   }
  },
  {
   "cell_type": "code",
   "execution_count": 274,
   "id": "8138825b",
   "metadata": {
    "ExecuteTime": {
     "end_time": "2022-07-28T12:59:42.678499Z",
     "start_time": "2022-07-28T12:59:42.674392Z"
    },
    "pycharm": {
     "name": "#%%\n"
    }
   },
   "outputs": [
    {
     "name": "stdout",
     "output_type": "stream",
     "text": [
      "The distribution in days is pretty flat. has only minor skew s = 0.01044502861126917\n"
     ]
    }
   ],
   "source": [
    "print('The distribution in days is pretty flat. has only minor skew s = {}'.format(train_features['day'].series.skew()))\n"
   ]
  },
  {
   "cell_type": "markdown",
   "source": [
    "We don't need to transform day\n"
   ],
   "metadata": {
    "collapsed": false,
    "pycharm": {
     "name": "#%% md\n"
    }
   }
  },
  {
   "cell_type": "code",
   "execution_count": 66,
   "outputs": [],
   "source": [],
   "metadata": {
    "collapsed": false,
    "pycharm": {
     "name": "#%%\n"
    }
   }
  },
  {
   "cell_type": "code",
   "execution_count": 275,
   "outputs": [],
   "source": [
    "train_features_d['day'] = Feature(X_train,'day')\n",
    "test_features_d['day'] = Feature(X_test,'day')"
   ],
   "metadata": {
    "collapsed": false,
    "pycharm": {
     "name": "#%%\n"
    }
   }
  },
  {
   "cell_type": "markdown",
   "id": "5603ee5b",
   "metadata": {
    "pycharm": {
     "name": "#%% md\n"
    }
   },
   "source": [
    "###### Engineering day of week feature"
   ]
  },
  {
   "cell_type": "code",
   "execution_count": 276,
   "id": "10cb4f2e",
   "metadata": {
    "ExecuteTime": {
     "end_time": "2022-07-28T12:59:42.680898Z",
     "start_time": "2022-07-28T12:59:42.679342Z"
    },
    "pycharm": {
     "name": "#%%\n"
    }
   },
   "outputs": [],
   "source": [
    "def get_day_number(first_day_of_year, day):\n",
    "    # day number (0 for monday, 6 for sunday) for day\n",
    "    return (first_day_of_year + day - 1) % 7"
   ]
  },
  {
   "cell_type": "code",
   "execution_count": 277,
   "id": "8e52ec5e",
   "metadata": {
    "ExecuteTime": {
     "end_time": "2022-07-28T13:00:49.792527Z",
     "start_time": "2022-07-28T12:59:42.681775Z"
    },
    "scrolled": true,
    "pycharm": {
     "name": "#%%\n"
    }
   },
   "outputs": [
    {
     "data": {
      "text/plain": "0it [00:00, ?it/s]",
      "application/vnd.jupyter.widget-view+json": {
       "version_major": 2,
       "version_minor": 0,
       "model_id": "f15153a9d5ca4fa29bfcd79a61ff0cdb"
      }
     },
     "metadata": {},
     "output_type": "display_data"
    }
   ],
   "source": [
    "day_of_week_train = np.array([])\n",
    "for index, row in tqdm(X_train.iterrows()):\n",
    "    # For each data-point, we consider its year and day \n",
    "    # and calculate what day of the week (Monday, Tuesday, etc)\n",
    "    # it was when the transaction happened\n",
    "    # datetime.datetime(year, 1, 1).weekday() returns the first day of the year\n",
    "    # using this information, we can calculate the present day\n",
    "\n",
    "    year_i, day_i = row['year'], row['day']\n",
    "    day_of_week_train = np.append(day_of_week_train, \\\n",
    "                                  get_day_number(datetime.datetime(year_i, 1, 1).weekday(), day_i))"
   ]
  },
  {
   "cell_type": "code",
   "execution_count": 278,
   "id": "e4077e0a",
   "metadata": {
    "ExecuteTime": {
     "end_time": "2022-07-28T13:00:55.739551Z",
     "start_time": "2022-07-28T13:00:49.793329Z"
    },
    "pycharm": {
     "name": "#%%\n"
    }
   },
   "outputs": [
    {
     "data": {
      "text/plain": "0it [00:00, ?it/s]",
      "application/vnd.jupyter.widget-view+json": {
       "version_major": 2,
       "version_minor": 0,
       "model_id": "3c5a4abc5eba4c16b38a0bafc9732ffd"
      }
     },
     "metadata": {},
     "output_type": "display_data"
    }
   ],
   "source": [
    "day_of_week_test = np.array([])\n",
    "for index, row in tqdm(X_test.iterrows()):\n",
    "    #same as above but for test set\n",
    "\n",
    "    year_i, day_i = row['year'], row['day']\n",
    "    day_of_week_test = np.append(day_of_week_test, \\\n",
    "                                 get_day_number(datetime.datetime(year_i, 1, 1).weekday(), day_i))"
   ]
  },
  {
   "cell_type": "code",
   "execution_count": 280,
   "outputs": [],
   "source": [
    "train_features_d['day_of_week'] = Feature(pd.DataFrame(day_of_week_train.astype(int),columns=['day_of_week']),'day_of_week')\n",
    "test_features_d['day_of_week'] = Feature(pd.DataFrame(day_of_week_test.astype(int),columns=['day_of_week']),'day_of_week')"
   ],
   "metadata": {
    "collapsed": false,
    "pycharm": {
     "name": "#%%\n"
    }
   }
  },
  {
   "cell_type": "markdown",
   "id": "e1c0a9fc",
   "metadata": {
    "pycharm": {
     "name": "#%% md\n"
    }
   },
   "source": [
    "####  2.1.2 length [bc_length]"
   ]
  },
  {
   "cell_type": "code",
   "execution_count": 283,
   "outputs": [
    {
     "data": {
      "text/plain": "count    561463.000000\nmean         44.950267\nstd          58.946800\nmin           0.000000\n25%           2.000000\n50%           8.000000\n75%         108.000000\nmax         144.000000\nName: length, dtype: float64"
     },
     "execution_count": 283,
     "metadata": {},
     "output_type": "execute_result"
    }
   ],
   "source": [
    "train_features['length'].series.describe()"
   ],
   "metadata": {
    "collapsed": false,
    "pycharm": {
     "name": "#%%\n"
    }
   }
  },
  {
   "cell_type": "code",
   "execution_count": 282,
   "id": "b0beb6f0",
   "metadata": {
    "ExecuteTime": {
     "end_time": "2022-07-28T13:00:56.332209Z",
     "start_time": "2022-07-28T13:00:55.740405Z"
    },
    "pycharm": {
     "name": "#%%\n"
    }
   },
   "outputs": [
    {
     "data": {
      "text/plain": "<Figure size 432x288 with 1 Axes>",
      "image/png": "[encoded data removed]"
     },
     "metadata": {},
     "output_type": "display_data"
    }
   ],
   "source": [
    "train_features['length'].plot_pdf()"
   ]
  },
  {
   "cell_type": "code",
   "execution_count": 464,
   "outputs": [
    {
     "data": {
      "text/plain": "(-0.145, 72.0]    406526\n(72.0, 144.0]     154937\nName: length, dtype: int64"
     },
     "execution_count": 464,
     "metadata": {},
     "output_type": "execute_result"
    }
   ],
   "source": [
    "train_features['length'].series.value_counts(bins=2)"
   ],
   "metadata": {
    "collapsed": false,
    "pycharm": {
     "name": "#%%\n"
    }
   }
  },
  {
   "cell_type": "code",
   "execution_count": 475,
   "outputs": [
    {
     "data": {
      "text/plain": "ShapiroResult(statistic=0.6907636523246765, pvalue=0.0)"
     },
     "execution_count": 475,
     "metadata": {},
     "output_type": "execute_result"
    }
   ],
   "source": [
    "shapiro(train_features['length'].series)"
   ],
   "metadata": {
    "collapsed": false,
    "pycharm": {
     "name": "#%%\n"
    }
   }
  },
  {
   "cell_type": "markdown",
   "source": [
    "This has the form of a bimodal distribution according to the Shapiro test (p<0.05 we )\n"
   ],
   "metadata": {
    "collapsed": false,
    "pycharm": {
     "name": "#%% md\n"
    }
   }
  },
  {
   "cell_type": "code",
   "execution_count": 302,
   "outputs": [
    {
     "data": {
      "text/plain": "                      count        mean         std    min    25%    50%  \\\nlabel                                                                      \nAPT                     2.0   73.000000  100.409163    2.0   37.5   73.0   \nCerber               2209.0   41.134450   56.942449    0.0    2.0    8.0   \nCryptConsole            3.0   50.666667   80.927951    0.0    4.0    8.0   \nCryptXXX              617.0   48.716370   58.409095    0.0    2.0   16.0   \nCryptoLocker         2322.0   31.226529   50.783753    0.0    0.0    4.0   \nCryptoTorLocker2015    10.0   19.200000   43.991918    2.0    4.0    4.0   \nCryptoWall           3008.0   47.710106   61.804683    0.0    0.0    8.0   \nDMALocker              50.0   37.160000   59.921159    0.0    0.0    2.0   \nDMALockerv3            93.0   42.064516   61.743827    0.0    0.0    4.0   \nEDA2                    1.0  144.000000         NaN  144.0  144.0  144.0   \nFlyper                  2.0    7.000000    9.899495    0.0    3.5    7.0   \nGlobe                  11.0   54.000000   71.419885    0.0    0.0    6.0   \nGlobeImposter           9.0   37.555556   61.030958    0.0    0.0    4.0   \nGlobev3                 4.0   73.500000   81.410483    2.0    3.5   74.0   \nJigSaw                  2.0   13.000000   18.384776    0.0    6.5   13.0   \nLocky                1628.0   47.437346   62.417693    0.0    2.0    7.0   \nNoobCrypt             101.0   23.029703   51.000874    0.0    0.0    0.0   \nRazy                    3.0   64.666667   70.606893    0.0   27.0   54.0   \nSam                     1.0    6.000000         NaN    6.0    6.0    6.0   \nSamSam                 16.0   49.875000   65.975627    0.0    1.5   11.0   \nVenusLocker             3.0   14.000000   10.583005    6.0    8.0   10.0   \nWannaCry                6.0   73.333333   77.435565    0.0    3.0   75.0   \nXLocker                 1.0  144.000000         NaN  144.0  144.0  144.0   \nXLockerv5.0             2.0    8.000000    5.656854    4.0    6.0    8.0   \nXTPLocker               3.0   97.333333   80.829038    4.0   74.0  144.0   \n\n                       75%    max  \nlabel                              \nAPT                  108.5  144.0  \nCerber                66.0  144.0  \nCryptConsole          76.0  144.0  \nCryptXXX             104.0  144.0  \nCryptoLocker          30.0  144.0  \nCryptoTorLocker2015    7.5  144.0  \nCryptoWall           144.0  144.0  \nDMALocker             60.5  144.0  \nDMALockerv3          144.0  144.0  \nEDA2                 144.0  144.0  \nFlyper                10.5   14.0  \nGlobe                144.0  144.0  \nGlobeImposter         26.0  144.0  \nGlobev3              144.0  144.0  \nJigSaw                19.5   26.0  \nLocky                144.0  144.0  \nNoobCrypt              6.0  144.0  \nRazy                  97.0  140.0  \nSam                    6.0    6.0  \nSamSam               144.0  144.0  \nVenusLocker           18.0   26.0  \nWannaCry             144.0  144.0  \nXLocker              144.0  144.0  \nXLockerv5.0           10.0   12.0  \nXTPLocker            144.0  144.0  ",
      "text/html": "<div>\n<style scoped>\n    .dataframe tbody tr th:only-of-type {\n        vertical-align: middle;\n    }\n\n    .dataframe tbody tr th {\n        vertical-align: top;\n    }\n\n    .dataframe thead th {\n        text-align: right;\n    }\n</style>\n<table border=\"1\" class=\"dataframe\">\n  <thead>\n    <tr style=\"text-align: right;\">\n      <th></th>\n      <th>count</th>\n      <th>mean</th>\n      <th>std</th>\n      <th>min</th>\n      <th>25%</th>\n      <th>50%</th>\n      <th>75%</th>\n      <th>max</th>\n    </tr>\n    <tr>\n      <th>label</th>\n      <th></th>\n      <th></th>\n      <th></th>\n      <th></th>\n      <th></th>\n      <th></th>\n      <th></th>\n      <th></th>\n    </tr>\n  </thead>\n  <tbody>\n    <tr>\n      <th>APT</th>\n      <td>2.0</td>\n      <td>73.000000</td>\n      <td>100.409163</td>\n      <td>2.0</td>\n      <td>37.5</td>\n      <td>73.0</td>\n      <td>108.5</td>\n      <td>144.0</td>\n    </tr>\n    <tr>\n      <th>Cerber</th>\n      <td>2209.0</td>\n      <td>41.134450</td>\n      <td>56.942449</td>\n      <td>0.0</td>\n      <td>2.0</td>\n      <td>8.0</td>\n      <td>66.0</td>\n      <td>144.0</td>\n    </tr>\n    <tr>\n      <th>CryptConsole</th>\n      <td>3.0</td>\n      <td>50.666667</td>\n      <td>80.927951</td>\n      <td>0.0</td>\n      <td>4.0</td>\n      <td>8.0</td>\n      <td>76.0</td>\n      <td>144.0</td>\n    </tr>\n    <tr>\n      <th>CryptXXX</th>\n      <td>617.0</td>\n      <td>48.716370</td>\n      <td>58.409095</td>\n      <td>0.0</td>\n      <td>2.0</td>\n      <td>16.0</td>\n      <td>104.0</td>\n      <td>144.0</td>\n    </tr>\n    <tr>\n      <th>CryptoLocker</th>\n      <td>2322.0</td>\n      <td>31.226529</td>\n      <td>50.783753</td>\n      <td>0.0</td>\n      <td>0.0</td>\n      <td>4.0</td>\n      <td>30.0</td>\n      <td>144.0</td>\n    </tr>\n    <tr>\n      <th>CryptoTorLocker2015</th>\n      <td>10.0</td>\n      <td>19.200000</td>\n      <td>43.991918</td>\n      <td>2.0</td>\n      <td>4.0</td>\n      <td>4.0</td>\n      <td>7.5</td>\n      <td>144.0</td>\n    </tr>\n    <tr>\n      <th>CryptoWall</th>\n      <td>3008.0</td>\n      <td>47.710106</td>\n      <td>61.804683</td>\n      <td>0.0</td>\n      <td>0.0</td>\n      <td>8.0</td>\n      <td>144.0</td>\n      <td>144.0</td>\n    </tr>\n    <tr>\n      <th>DMALocker</th>\n      <td>50.0</td>\n      <td>37.160000</td>\n      <td>59.921159</td>\n      <td>0.0</td>\n      <td>0.0</td>\n      <td>2.0</td>\n      <td>60.5</td>\n      <td>144.0</td>\n    </tr>\n    <tr>\n      <th>DMALockerv3</th>\n      <td>93.0</td>\n      <td>42.064516</td>\n      <td>61.743827</td>\n      <td>0.0</td>\n      <td>0.0</td>\n      <td>4.0</td>\n      <td>144.0</td>\n      <td>144.0</td>\n    </tr>\n    <tr>\n      <th>EDA2</th>\n      <td>1.0</td>\n      <td>144.000000</td>\n      <td>NaN</td>\n      <td>144.0</td>\n      <td>144.0</td>\n      <td>144.0</td>\n      <td>144.0</td>\n      <td>144.0</td>\n    </tr>\n    <tr>\n      <th>Flyper</th>\n      <td>2.0</td>\n      <td>7.000000</td>\n      <td>9.899495</td>\n      <td>0.0</td>\n      <td>3.5</td>\n      <td>7.0</td>\n      <td>10.5</td>\n      <td>14.0</td>\n    </tr>\n    <tr>\n      <th>Globe</th>\n      <td>11.0</td>\n      <td>54.000000</td>\n      <td>71.419885</td>\n      <td>0.0</td>\n      <td>0.0</td>\n      <td>6.0</td>\n      <td>144.0</td>\n      <td>144.0</td>\n    </tr>\n    <tr>\n      <th>GlobeImposter</th>\n      <td>9.0</td>\n      <td>37.555556</td>\n      <td>61.030958</td>\n      <td>0.0</td>\n      <td>0.0</td>\n      <td>4.0</td>\n      <td>26.0</td>\n      <td>144.0</td>\n    </tr>\n    <tr>\n      <th>Globev3</th>\n      <td>4.0</td>\n      <td>73.500000</td>\n      <td>81.410483</td>\n      <td>2.0</td>\n      <td>3.5</td>\n      <td>74.0</td>\n      <td>144.0</td>\n      <td>144.0</td>\n    </tr>\n    <tr>\n      <th>JigSaw</th>\n      <td>2.0</td>\n      <td>13.000000</td>\n      <td>18.384776</td>\n      <td>0.0</td>\n      <td>6.5</td>\n      <td>13.0</td>\n      <td>19.5</td>\n      <td>26.0</td>\n    </tr>\n    <tr>\n      <th>Locky</th>\n      <td>1628.0</td>\n      <td>47.437346</td>\n      <td>62.417693</td>\n      <td>0.0</td>\n      <td>2.0</td>\n      <td>7.0</td>\n      <td>144.0</td>\n      <td>144.0</td>\n    </tr>\n    <tr>\n      <th>NoobCrypt</th>\n      <td>101.0</td>\n      <td>23.029703</td>\n      <td>51.000874</td>\n      <td>0.0</td>\n      <td>0.0</td>\n      <td>0.0</td>\n      <td>6.0</td>\n      <td>144.0</td>\n    </tr>\n    <tr>\n      <th>Razy</th>\n      <td>3.0</td>\n      <td>64.666667</td>\n      <td>70.606893</td>\n      <td>0.0</td>\n      <td>27.0</td>\n      <td>54.0</td>\n      <td>97.0</td>\n      <td>140.0</td>\n    </tr>\n    <tr>\n      <th>Sam</th>\n      <td>1.0</td>\n      <td>6.000000</td>\n      <td>NaN</td>\n      <td>6.0</td>\n      <td>6.0</td>\n      <td>6.0</td>\n      <td>6.0</td>\n      <td>6.0</td>\n    </tr>\n    <tr>\n      <th>SamSam</th>\n      <td>16.0</td>\n      <td>49.875000</td>\n      <td>65.975627</td>\n      <td>0.0</td>\n      <td>1.5</td>\n      <td>11.0</td>\n      <td>144.0</td>\n      <td>144.0</td>\n    </tr>\n    <tr>\n      <th>VenusLocker</th>\n      <td>3.0</td>\n      <td>14.000000</td>\n      <td>10.583005</td>\n      <td>6.0</td>\n      <td>8.0</td>\n      <td>10.0</td>\n      <td>18.0</td>\n      <td>26.0</td>\n    </tr>\n    <tr>\n      <th>WannaCry</th>\n      <td>6.0</td>\n      <td>73.333333</td>\n      <td>77.435565</td>\n      <td>0.0</td>\n      <td>3.0</td>\n      <td>75.0</td>\n      <td>144.0</td>\n      <td>144.0</td>\n    </tr>\n    <tr>\n      <th>XLocker</th>\n      <td>1.0</td>\n      <td>144.000000</td>\n      <td>NaN</td>\n      <td>144.0</td>\n      <td>144.0</td>\n      <td>144.0</td>\n      <td>144.0</td>\n      <td>144.0</td>\n    </tr>\n    <tr>\n      <th>XLockerv5.0</th>\n      <td>2.0</td>\n      <td>8.000000</td>\n      <td>5.656854</td>\n      <td>4.0</td>\n      <td>6.0</td>\n      <td>8.0</td>\n      <td>10.0</td>\n      <td>12.0</td>\n    </tr>\n    <tr>\n      <th>XTPLocker</th>\n      <td>3.0</td>\n      <td>97.333333</td>\n      <td>80.829038</td>\n      <td>4.0</td>\n      <td>74.0</td>\n      <td>144.0</td>\n      <td>144.0</td>\n      <td>144.0</td>\n    </tr>\n  </tbody>\n</table>\n</div>"
     },
     "execution_count": 302,
     "metadata": {},
     "output_type": "execute_result"
    }
   ],
   "source": [
    "dfc[dfc['label']!='white'].groupby('label')['length'].describe()"
   ],
   "metadata": {
    "collapsed": false,
    "pycharm": {
     "name": "#%%\n"
    }
   }
  },
  {
   "cell_type": "code",
   "execution_count": 472,
   "outputs": [
    {
     "data": {
      "text/plain": "          count       mean        std  min  25%  50%    75%    max\nlabel                                                             \nwhite  719067.0  44.984759  58.956648  0.0  2.0  8.0  108.0  144.0",
      "text/html": "<div>\n<style scoped>\n    .dataframe tbody tr th:only-of-type {\n        vertical-align: middle;\n    }\n\n    .dataframe tbody tr th {\n        vertical-align: top;\n    }\n\n    .dataframe thead th {\n        text-align: right;\n    }\n</style>\n<table border=\"1\" class=\"dataframe\">\n  <thead>\n    <tr style=\"text-align: right;\">\n      <th></th>\n      <th>count</th>\n      <th>mean</th>\n      <th>std</th>\n      <th>min</th>\n      <th>25%</th>\n      <th>50%</th>\n      <th>75%</th>\n      <th>max</th>\n    </tr>\n    <tr>\n      <th>label</th>\n      <th></th>\n      <th></th>\n      <th></th>\n      <th></th>\n      <th></th>\n      <th></th>\n      <th></th>\n      <th></th>\n    </tr>\n  </thead>\n  <tbody>\n    <tr>\n      <th>white</th>\n      <td>719067.0</td>\n      <td>44.984759</td>\n      <td>58.956648</td>\n      <td>0.0</td>\n      <td>2.0</td>\n      <td>8.0</td>\n      <td>108.0</td>\n      <td>144.0</td>\n    </tr>\n  </tbody>\n</table>\n</div>"
     },
     "execution_count": 472,
     "metadata": {},
     "output_type": "execute_result"
    }
   ],
   "source": [
    "dfc[dfc['label']=='white'].groupby('label')['length'].describe()"
   ],
   "metadata": {
    "collapsed": false,
    "pycharm": {
     "name": "#%%\n"
    }
   }
  },
  {
   "cell_type": "code",
   "execution_count": 303,
   "outputs": [
    {
     "data": {
      "text/plain": "label\nAPT                     73.0\nCerber                   8.0\nCryptConsole             8.0\nCryptXXX                16.0\nCryptoLocker             4.0\nCryptoTorLocker2015      4.0\nCryptoWall               8.0\nDMALocker                2.0\nDMALockerv3              4.0\nEDA2                   144.0\nFlyper                   7.0\nGlobe                    6.0\nGlobeImposter            4.0\nGlobev3                 74.0\nJigSaw                  13.0\nLocky                    7.0\nNoobCrypt                0.0\nRazy                    54.0\nSam                      6.0\nSamSam                  11.0\nVenusLocker             10.0\nWannaCry                75.0\nXLocker                144.0\nXLockerv5.0              8.0\nXTPLocker              144.0\nName: length, dtype: float64"
     },
     "execution_count": 303,
     "metadata": {},
     "output_type": "execute_result"
    }
   ],
   "source": [
    "dfc[dfc['label']!='white'].groupby('label')['length'].median()"
   ],
   "metadata": {
    "collapsed": false,
    "pycharm": {
     "name": "#%%\n"
    }
   }
  },
  {
   "cell_type": "code",
   "execution_count": 467,
   "outputs": [
    {
     "data": {
      "text/plain": "49.904383033479796"
     },
     "execution_count": 467,
     "metadata": {},
     "output_type": "execute_result"
    }
   ],
   "source": [
    "dfc[dfc['label'] != 'white'].groupby('label')['length'].describe()['mean'].mean()"
   ],
   "metadata": {
    "collapsed": false,
    "pycharm": {
     "name": "#%%\n"
    }
   }
  },
  {
   "cell_type": "code",
   "execution_count": 305,
   "id": "23cde096",
   "metadata": {
    "ExecuteTime": {
     "end_time": "2022-07-28T13:00:56.335237Z",
     "start_time": "2022-07-28T13:00:56.333191Z"
    },
    "pycharm": {
     "name": "#%%\n"
    }
   },
   "outputs": [
    {
     "data": {
      "text/plain": "0.926722338090165"
     },
     "execution_count": 305,
     "metadata": {},
     "output_type": "execute_result"
    }
   ],
   "source": [
    "train_features['length'].skew # check how symmetric the pdf is"
   ]
  },
  {
   "cell_type": "markdown",
   "source": [],
   "metadata": {
    "collapsed": false,
    "pycharm": {
     "name": "#%% md\n"
    }
   }
  },
  {
   "cell_type": "code",
   "execution_count": null,
   "outputs": [],
   "source": [],
   "metadata": {
    "collapsed": false,
    "pycharm": {
     "name": "#%%\n"
    }
   }
  },
  {
   "cell_type": "code",
   "execution_count": 76,
   "id": "214357ce",
   "metadata": {
    "ExecuteTime": {
     "end_time": "2022-07-28T13:00:56.348963Z",
     "start_time": "2022-07-28T13:00:56.336059Z"
    },
    "pycharm": {
     "name": "#%%\n"
    }
   },
   "outputs": [
    {
     "data": {
      "text/plain": "(0.9301063947466278, 0.5786997644611137, -1.0686297218222065)"
     },
     "execution_count": 76,
     "metadata": {},
     "output_type": "execute_result"
    }
   ],
   "source": [
    "# check whether log and sqrt help the skew\n",
    "X_tra_v = train_features['length'].vec\n",
    "opsXa = np.log(np.sqrt(X_tra_v + 1e-6))\n",
    "train_features['length'].skew, np.sqrt(X_train['length']).skew(), pd.Series(opsXa).skew()\n"
   ]
  },
  {
   "cell_type": "code",
   "execution_count": 306,
   "id": "9fa3d9fa",
   "metadata": {
    "ExecuteTime": {
     "end_time": "2022-07-28T13:00:56.563092Z",
     "start_time": "2022-07-28T13:00:56.349907Z"
    },
    "pycharm": {
     "name": "#%%\n"
    }
   },
   "outputs": [],
   "source": [
    "#constructing the feature\n",
    "bc_length_train = boxcox((np.sin(np.log(np.sqrt(np.array(X_train['length']) + 1e-6))))**2)[0]\n",
    "bc_length_test  = boxcox((np.sin(np.log(np.sqrt(np.array(X_test['length']) + 1e-6))))**2)[0]"
   ]
  },
  {
   "cell_type": "code",
   "execution_count": 307,
   "id": "0faeca24",
   "metadata": {
    "ExecuteTime": {
     "end_time": "2022-07-28T13:00:56.577904Z",
     "start_time": "2022-07-28T13:00:56.564000Z"
    },
    "pycharm": {
     "name": "#%%\n"
    }
   },
   "outputs": [],
   "source": [
    "# new features\n",
    "train_features_d['bc_length'] = Feature(pd.DataFrame(bc_length_train, columns=['bc_length']),'bc_length')\n",
    "test_features_d['bc_length'] = Feature(pd.DataFrame(bc_length_test, columns=['bc_length']),'bc_length')"
   ]
  },
  {
   "cell_type": "code",
   "execution_count": 309,
   "outputs": [
    {
     "data": {
      "text/plain": "<Figure size 432x288 with 1 Axes>",
      "image/png": "[encoded data removed]"
     },
     "metadata": {},
     "output_type": "display_data"
    }
   ],
   "source": [
    "train_features_d['bc_length'].plot_pdf()"
   ],
   "metadata": {
    "collapsed": false,
    "pycharm": {
     "name": "#%%\n"
    }
   }
  },
  {
   "cell_type": "code",
   "execution_count": 310,
   "id": "2c0a9efa",
   "metadata": {
    "ExecuteTime": {
     "end_time": "2022-07-28T13:00:56.581164Z",
     "start_time": "2022-07-28T13:00:56.578765Z"
    },
    "pycharm": {
     "name": "#%%\n"
    }
   },
   "outputs": [
    {
     "data": {
      "text/plain": "-0.03206929862926806"
     },
     "execution_count": 310,
     "metadata": {},
     "output_type": "execute_result"
    }
   ],
   "source": [
    "train_features_d['bc_length'].skew # the skew has improved but it's now biased"
   ]
  },
  {
   "cell_type": "markdown",
   "id": "dae1b403",
   "metadata": {
    "pycharm": {
     "name": "#%% md\n"
    }
   },
   "source": [
    "#### 2.1.3 weight [yeo_weight]"
   ]
  },
  {
   "cell_type": "code",
   "execution_count": 312,
   "outputs": [
    {
     "data": {
      "text/plain": "count    5.614630e+05\nmean     5.462778e-01\nstd      4.606104e+00\nmin      3.606469e-94\n25%      2.183655e-02\n50%      2.500000e-01\n75%      8.833250e-01\nmax      1.943749e+03\nName: weight, dtype: float64"
     },
     "execution_count": 312,
     "metadata": {},
     "output_type": "execute_result"
    }
   ],
   "source": [
    "train_features['weight'].series.describe()"
   ],
   "metadata": {
    "collapsed": false,
    "pycharm": {
     "name": "#%%\n"
    }
   }
  },
  {
   "cell_type": "code",
   "execution_count": 313,
   "id": "4454f4b9",
   "metadata": {
    "ExecuteTime": {
     "end_time": "2022-07-28T13:00:57.036492Z",
     "start_time": "2022-07-28T13:00:56.582117Z"
    },
    "pycharm": {
     "name": "#%%\n"
    }
   },
   "outputs": [
    {
     "data": {
      "text/plain": "<Figure size 432x288 with 1 Axes>",
      "image/png": "[encoded data removed]"
     },
     "metadata": {},
     "output_type": "display_data"
    }
   ],
   "source": [
    "train_features['weight'].plot_pdf()"
   ]
  },
  {
   "cell_type": "code",
   "execution_count": 314,
   "id": "c89bfadb",
   "metadata": {
    "ExecuteTime": {
     "end_time": "2022-07-28T13:00:57.039532Z",
     "start_time": "2022-07-28T13:00:57.037402Z"
    },
    "pycharm": {
     "name": "#%%\n"
    }
   },
   "outputs": [
    {
     "data": {
      "text/plain": "280.4573588750912"
     },
     "execution_count": 314,
     "metadata": {},
     "output_type": "execute_result"
    }
   ],
   "source": [
    "train_features['weight'].skew # very skewed!"
   ]
  },
  {
   "cell_type": "code",
   "execution_count": 321,
   "id": "6737443c",
   "metadata": {
    "ExecuteTime": {
     "end_time": "2022-07-28T13:00:57.366712Z",
     "start_time": "2022-07-28T13:00:57.353352Z"
    },
    "pycharm": {
     "name": "#%%\n"
    }
   },
   "outputs": [],
   "source": [
    "train_features_d['yeo_weight'] = Feature( pd.DataFrame(train_features['weight'].yeo(),\n",
    "                    columns=['yeo_weight']),'yeo_weight' )\n",
    "test_features_d['yeo_weight'] = Feature( pd.DataFrame(test_features['weight'].yeo(),\n",
    "                    columns=['yeo_weight']),'yeo_weight' )"
   ]
  },
  {
   "cell_type": "code",
   "execution_count": 322,
   "id": "d6478d2b",
   "metadata": {
    "ExecuteTime": {
     "end_time": "2022-07-28T13:00:57.945006Z",
     "start_time": "2022-07-28T13:00:57.367513Z"
    },
    "pycharm": {
     "name": "#%%\n"
    }
   },
   "outputs": [
    {
     "data": {
      "text/plain": "<Figure size 432x288 with 1 Axes>",
      "image/png": "[encoded data removed]"
     },
     "metadata": {},
     "output_type": "display_data"
    }
   ],
   "source": [
    "train_features_d['yeo_weight'].plot_pdf()"
   ]
  },
  {
   "cell_type": "code",
   "execution_count": 323,
   "id": "57c99478",
   "metadata": {
    "ExecuteTime": {
     "end_time": "2022-07-28T13:00:57.999378Z",
     "start_time": "2022-07-28T13:00:57.945945Z"
    },
    "pycharm": {
     "name": "#%%\n"
    }
   },
   "outputs": [
    {
     "data": {
      "text/plain": "<Figure size 432x288 with 1 Axes>",
      "image/png": "[encoded data removed]"
     },
     "metadata": {},
     "output_type": "display_data"
    }
   ],
   "source": [
    "#plotting box plots\n",
    "ax = plot_box(train_features_d['yeo_weight'].series)\n",
    "\n",
    "#sns.boxplot(x=yeo_weight_train_ft.series)"
   ]
  },
  {
   "cell_type": "code",
   "execution_count": 324,
   "id": "6ce63520",
   "metadata": {
    "ExecuteTime": {
     "end_time": "2022-07-28T13:00:58.002695Z",
     "start_time": "2022-07-28T13:00:58.000336Z"
    },
    "pycharm": {
     "name": "#%%\n"
    }
   },
   "outputs": [
    {
     "data": {
      "text/plain": "0.23440638184372953"
     },
     "execution_count": 324,
     "metadata": {},
     "output_type": "execute_result"
    }
   ],
   "source": [
    "train_features_d['yeo_weight'].skew"
   ]
  },
  {
   "cell_type": "markdown",
   "id": "159ec6ba",
   "metadata": {
    "pycharm": {
     "name": "#%% md\n"
    }
   },
   "source": [
    "#### 2.1.4 address [logbc_n_address]"
   ]
  },
  {
   "cell_type": "code",
   "execution_count": 325,
   "outputs": [],
   "source": [
    "train_features_d['address'] = Feature(X_train,'address')\n",
    "test_features_d ['address'] = Feature(X_test, 'address')\n"
   ],
   "metadata": {
    "collapsed": false,
    "pycharm": {
     "name": "#%%\n"
    }
   }
  },
  {
   "cell_type": "code",
   "execution_count": 326,
   "id": "f903b03c",
   "metadata": {
    "ExecuteTime": {
     "end_time": "2022-07-28T13:00:58.012333Z",
     "start_time": "2022-07-28T13:00:58.003663Z"
    },
    "pycharm": {
     "name": "#%%\n"
    }
   },
   "outputs": [],
   "source": [
    "X_train_address_ft = Feature(X_train,'address')\n",
    "X_test_address_ft  = Feature(X_test,'address')"
   ]
  },
  {
   "cell_type": "code",
   "execution_count": 327,
   "id": "8468eef1",
   "metadata": {
    "ExecuteTime": {
     "end_time": "2022-07-28T13:00:58.292964Z",
     "start_time": "2022-07-28T13:00:58.013280Z"
    },
    "pycharm": {
     "name": "#%%\n"
    }
   },
   "outputs": [
    {
     "data": {
      "text/plain": "1LXrSb67EaH1LGc6d6kWHq8rgv4ZBQAcpU    76\n16cVG72goMe4sNqZhnpmnqfCMZ1uSFbUit    60\n12wQZTDmA8onM3sEt4jwcvzDxnNXxD8Vza    40\n1LEq4WmpCrqBd7V3PywE2nvFUFC3QTe52x    38\n1CVWpTNwNYGdKgZRohiiVFrnFNbw8anG9     35\n                                      ..\n3PRnPsknHbyxh7bmEz2JExAsnxjvHHr3mU     1\n1KhDd3kCtYCg8Kjrn6Tw9hRPDr8fYoiAfq     1\n1PD5cXpyNwL8SKYzcUWBEKgwVS8TPBubRQ     1\n1ChWuXBqD1RDhrxA8nXv3K3ppoxt5A9GhM     1\n1KasizAg9PNALw6hUZy7WKgkUcaf9DghbV     1\nName: address, Length: 533512, dtype: int64"
     },
     "execution_count": 327,
     "metadata": {},
     "output_type": "execute_result"
    }
   ],
   "source": [
    "X_train['address'].value_counts()"
   ]
  },
  {
   "cell_type": "markdown",
   "id": "e76d3860",
   "metadata": {
    "pycharm": {
     "name": "#%% md\n"
    }
   },
   "source": [
    "##### Highest paid ransom address"
   ]
  },
  {
   "cell_type": "code",
   "execution_count": 343,
   "outputs": [
    {
     "name": "stdout",
     "output_type": "stream",
     "text": [
      "the highest income address is\n"
     ]
    },
    {
     "data": {
      "text/plain": "2412    135N2nfAkextd6E25quXpM98qLSi2BccCb\nName: address, dtype: object"
     },
     "execution_count": 343,
     "metadata": {},
     "output_type": "execute_result"
    }
   ],
   "source": [
    "print('the highest income address is')\n",
    "dfc[dfc.label != 'white'][['income','address']].sort_values(by='income',ascending=False).head(1)['address']"
   ],
   "metadata": {
    "collapsed": false,
    "pycharm": {
     "name": "#%%\n"
    }
   }
  },
  {
   "cell_type": "code",
   "execution_count": 344,
   "outputs": [
    {
     "data": {
      "text/plain": "1LXrSb67EaH1LGc6d6kWHq8rgv4ZBQAcpU    101\n16cVG72goMe4sNqZhnpmnqfCMZ1uSFbUit     75\n12wQZTDmA8onM3sEt4jwcvzDxnNXxD8Vza     51\n1LEq4WmpCrqBd7V3PywE2nvFUFC3QTe52x     49\n12YursV58dRT2c9iuZg3jEWfwgTDamBcnd     48\n                                     ... \n19EfypD1dG3mPM6eKj57H5SE4jbrsPUz9C      1\n19wa2zFox8paunHem7mcYeZpPTdVGUQM7y      1\n32Y3DcSYvXM1gHjcEZ2NirnFhrgMNDqqE4      1\n1AN31sEsyHVTqXzqWvaWMMNcYMBiAWDArD      1\n123wREowXiDjyoxkYymp7yapFmZu2zdT3d      1\nName: address, Length: 687847, dtype: int64"
     },
     "execution_count": 344,
     "metadata": {},
     "output_type": "execute_result"
    }
   ],
   "source": [
    "df.address.value_counts()"
   ],
   "metadata": {
    "collapsed": false,
    "pycharm": {
     "name": "#%%\n"
    }
   }
  },
  {
   "cell_type": "code",
   "execution_count": 333,
   "outputs": [
    {
     "data": {
      "text/plain": "34381    CryptoLocker\n34315    CryptoLocker\n34298    CryptoLocker\n34239    CryptoLocker\n33971    CryptoLocker\n             ...     \n34008    CryptoLocker\n34188    CryptoLocker\n34157    CryptoLocker\n34154    CryptoLocker\n34161    CryptoLocker\nName: label, Length: 101, dtype: object"
     },
     "execution_count": 333,
     "metadata": {},
     "output_type": "execute_result"
    }
   ],
   "source": [
    "df[df['address']=='1LXrSb67EaH1LGc6d6kWHq8rgv4ZBQAcpU'].label"
   ],
   "metadata": {
    "collapsed": false,
    "pycharm": {
     "name": "#%%\n"
    }
   }
  },
  {
   "cell_type": "code",
   "execution_count": 328,
   "outputs": [
    {
     "data": {
      "text/plain": "         year         day      length     weight        count  looped  \\\ncount    62.0   62.000000   62.000000  62.000000    62.000000    62.0   \nmean   2013.0  245.322581   10.032258   1.351558    70.483871     0.0   \nstd       0.0   79.087786   31.048332   0.679452   343.929784     0.0   \nmin    2013.0   92.000000    0.000000   0.000096     1.000000     0.0   \n25%    2013.0  178.750000    0.000000   1.000000     1.000000     0.0   \n50%    2013.0  253.500000    2.000000   1.000000     2.000000     0.0   \n75%    2013.0  311.500000    4.000000   1.500000     3.000000     0.0   \nmax    2013.0  365.000000  144.000000   3.312269  2319.000000     0.0   \n\n       neighbors        income  \ncount  62.000000  6.200000e+01  \nmean    1.451613  6.696082e+09  \nstd     0.693705  2.129775e+10  \nmin     1.000000  1.655000e+08  \n25%     1.000000  1.748748e+09  \n50%     1.000000  3.019705e+09  \n75%     2.000000  4.891061e+09  \nmax     4.000000  1.687649e+11  ",
      "text/html": "<div>\n<style scoped>\n    .dataframe tbody tr th:only-of-type {\n        vertical-align: middle;\n    }\n\n    .dataframe tbody tr th {\n        vertical-align: top;\n    }\n\n    .dataframe thead th {\n        text-align: right;\n    }\n</style>\n<table border=\"1\" class=\"dataframe\">\n  <thead>\n    <tr style=\"text-align: right;\">\n      <th></th>\n      <th>year</th>\n      <th>day</th>\n      <th>length</th>\n      <th>weight</th>\n      <th>count</th>\n      <th>looped</th>\n      <th>neighbors</th>\n      <th>income</th>\n    </tr>\n  </thead>\n  <tbody>\n    <tr>\n      <th>count</th>\n      <td>62.0</td>\n      <td>62.000000</td>\n      <td>62.000000</td>\n      <td>62.000000</td>\n      <td>62.000000</td>\n      <td>62.0</td>\n      <td>62.000000</td>\n      <td>6.200000e+01</td>\n    </tr>\n    <tr>\n      <th>mean</th>\n      <td>2013.0</td>\n      <td>245.322581</td>\n      <td>10.032258</td>\n      <td>1.351558</td>\n      <td>70.483871</td>\n      <td>0.0</td>\n      <td>1.451613</td>\n      <td>6.696082e+09</td>\n    </tr>\n    <tr>\n      <th>std</th>\n      <td>0.0</td>\n      <td>79.087786</td>\n      <td>31.048332</td>\n      <td>0.679452</td>\n      <td>343.929784</td>\n      <td>0.0</td>\n      <td>0.693705</td>\n      <td>2.129775e+10</td>\n    </tr>\n    <tr>\n      <th>min</th>\n      <td>2013.0</td>\n      <td>92.000000</td>\n      <td>0.000000</td>\n      <td>0.000096</td>\n      <td>1.000000</td>\n      <td>0.0</td>\n      <td>1.000000</td>\n      <td>1.655000e+08</td>\n    </tr>\n    <tr>\n      <th>25%</th>\n      <td>2013.0</td>\n      <td>178.750000</td>\n      <td>0.000000</td>\n      <td>1.000000</td>\n      <td>1.000000</td>\n      <td>0.0</td>\n      <td>1.000000</td>\n      <td>1.748748e+09</td>\n    </tr>\n    <tr>\n      <th>50%</th>\n      <td>2013.0</td>\n      <td>253.500000</td>\n      <td>2.000000</td>\n      <td>1.000000</td>\n      <td>2.000000</td>\n      <td>0.0</td>\n      <td>1.000000</td>\n      <td>3.019705e+09</td>\n    </tr>\n    <tr>\n      <th>75%</th>\n      <td>2013.0</td>\n      <td>311.500000</td>\n      <td>4.000000</td>\n      <td>1.500000</td>\n      <td>3.000000</td>\n      <td>0.0</td>\n      <td>2.000000</td>\n      <td>4.891061e+09</td>\n    </tr>\n    <tr>\n      <th>max</th>\n      <td>2013.0</td>\n      <td>365.000000</td>\n      <td>144.000000</td>\n      <td>3.312269</td>\n      <td>2319.000000</td>\n      <td>0.0</td>\n      <td>4.000000</td>\n      <td>1.687649e+11</td>\n    </tr>\n  </tbody>\n</table>\n</div>"
     },
     "execution_count": 328,
     "metadata": {},
     "output_type": "execute_result"
    }
   ],
   "source": [
    "worst_culprit_address = df[df['address']=='1LXrSb67EaH1LGc6d6kWHq8rgv4ZBQAcpU']\n",
    "worst_culprit_address[worst_culprit_address['year']==2013].describe()"
   ],
   "metadata": {
    "collapsed": false,
    "pycharm": {
     "name": "#%%\n"
    }
   }
  },
  {
   "cell_type": "code",
   "execution_count": 329,
   "outputs": [
    {
     "data": {
      "text/plain": "         year         day      length     weight      count     looped  \\\ncount    39.0   39.000000   39.000000  39.000000  39.000000  39.000000   \nmean   2014.0   81.153846    3.435897   1.282052   1.717949   0.051282   \nstd       0.0   50.954850   17.561613   0.519929   0.856821   0.320256   \nmin    2014.0    5.000000    0.000000   0.500000   1.000000   0.000000   \n25%    2014.0   38.500000    0.000000   1.000000   1.000000   0.000000   \n50%    2014.0   74.000000    0.000000   1.000000   1.000000   0.000000   \n75%    2014.0  122.000000    1.000000   1.500000   2.000000   0.000000   \nmax    2014.0  173.000000  110.000000   2.500000   4.000000   2.000000   \n\n       neighbors        income  \ncount  39.000000  3.900000e+01  \nmean    1.717949  1.764748e+09  \nstd     0.856821  3.581429e+09  \nmin     1.000000  4.076000e+07  \n25%     1.000000  2.127200e+08  \n50%     1.000000  6.354000e+08  \n75%     2.000000  1.555902e+09  \nmax     4.000000  2.107868e+10  ",
      "text/html": "<div>\n<style scoped>\n    .dataframe tbody tr th:only-of-type {\n        vertical-align: middle;\n    }\n\n    .dataframe tbody tr th {\n        vertical-align: top;\n    }\n\n    .dataframe thead th {\n        text-align: right;\n    }\n</style>\n<table border=\"1\" class=\"dataframe\">\n  <thead>\n    <tr style=\"text-align: right;\">\n      <th></th>\n      <th>year</th>\n      <th>day</th>\n      <th>length</th>\n      <th>weight</th>\n      <th>count</th>\n      <th>looped</th>\n      <th>neighbors</th>\n      <th>income</th>\n    </tr>\n  </thead>\n  <tbody>\n    <tr>\n      <th>count</th>\n      <td>39.0</td>\n      <td>39.000000</td>\n      <td>39.000000</td>\n      <td>39.000000</td>\n      <td>39.000000</td>\n      <td>39.000000</td>\n      <td>39.000000</td>\n      <td>3.900000e+01</td>\n    </tr>\n    <tr>\n      <th>mean</th>\n      <td>2014.0</td>\n      <td>81.153846</td>\n      <td>3.435897</td>\n      <td>1.282052</td>\n      <td>1.717949</td>\n      <td>0.051282</td>\n      <td>1.717949</td>\n      <td>1.764748e+09</td>\n    </tr>\n    <tr>\n      <th>std</th>\n      <td>0.0</td>\n      <td>50.954850</td>\n      <td>17.561613</td>\n      <td>0.519929</td>\n      <td>0.856821</td>\n      <td>0.320256</td>\n      <td>0.856821</td>\n      <td>3.581429e+09</td>\n    </tr>\n    <tr>\n      <th>min</th>\n      <td>2014.0</td>\n      <td>5.000000</td>\n      <td>0.000000</td>\n      <td>0.500000</td>\n      <td>1.000000</td>\n      <td>0.000000</td>\n      <td>1.000000</td>\n      <td>4.076000e+07</td>\n    </tr>\n    <tr>\n      <th>25%</th>\n      <td>2014.0</td>\n      <td>38.500000</td>\n      <td>0.000000</td>\n      <td>1.000000</td>\n      <td>1.000000</td>\n      <td>0.000000</td>\n      <td>1.000000</td>\n      <td>2.127200e+08</td>\n    </tr>\n    <tr>\n      <th>50%</th>\n      <td>2014.0</td>\n      <td>74.000000</td>\n      <td>0.000000</td>\n      <td>1.000000</td>\n      <td>1.000000</td>\n      <td>0.000000</td>\n      <td>1.000000</td>\n      <td>6.354000e+08</td>\n    </tr>\n    <tr>\n      <th>75%</th>\n      <td>2014.0</td>\n      <td>122.000000</td>\n      <td>1.000000</td>\n      <td>1.500000</td>\n      <td>2.000000</td>\n      <td>0.000000</td>\n      <td>2.000000</td>\n      <td>1.555902e+09</td>\n    </tr>\n    <tr>\n      <th>max</th>\n      <td>2014.0</td>\n      <td>173.000000</td>\n      <td>110.000000</td>\n      <td>2.500000</td>\n      <td>4.000000</td>\n      <td>2.000000</td>\n      <td>4.000000</td>\n      <td>2.107868e+10</td>\n    </tr>\n  </tbody>\n</table>\n</div>"
     },
     "execution_count": 329,
     "metadata": {},
     "output_type": "execute_result"
    }
   ],
   "source": [
    "worst_culprit_address = df[df['address']=='1LXrSb67EaH1LGc6d6kWHq8rgv4ZBQAcpU']\n",
    "worst_culprit_address[worst_culprit_address['year']==2014].describe()"
   ],
   "metadata": {
    "collapsed": false,
    "pycharm": {
     "name": "#%%\n"
    }
   }
  },
  {
   "cell_type": "code",
   "execution_count": 330,
   "id": "b479e12e",
   "metadata": {
    "ExecuteTime": {
     "end_time": "2022-07-28T13:00:58.393738Z",
     "start_time": "2022-07-28T13:00:58.389815Z"
    },
    "pycharm": {
     "name": "#%%\n"
    }
   },
   "outputs": [
    {
     "data": {
      "text/plain": "year\n2013    963.998942\n2014    308.410256\nName: length, dtype: float64"
     },
     "execution_count": 330,
     "metadata": {},
     "output_type": "execute_result"
    }
   ],
   "source": [
    "worst_culprit_address[['length','year','day']].groupby('year')['length'].var()"
   ]
  },
  {
   "cell_type": "markdown",
   "id": "c514102e",
   "metadata": {
    "pycharm": {
     "name": "#%% md\n"
    }
   },
   "source": [
    "##### Feature engineering:  logbc_n_address_train\n",
    "* the number of times the address appears (log boxcox transformation applied)"
   ]
  },
  {
   "cell_type": "code",
   "execution_count": 345,
   "id": "4b51eb90",
   "metadata": {
    "ExecuteTime": {
     "end_time": "2022-07-28T13:00:58.621604Z",
     "start_time": "2022-07-28T13:00:58.394757Z"
    },
    "pycharm": {
     "name": "#%%\n"
    }
   },
   "outputs": [
    {
     "name": "stdout",
     "output_type": "stream",
     "text": [
      "An address is repeated an average of 1.052 number of times\n"
     ]
    }
   ],
   "source": [
    "address_cnts = train_features_d['address'].series.value_counts()\n",
    "print('An address is repeated an average of {:.3f} number of times'.format(np.mean(address_cnts)))"
   ]
  },
  {
   "cell_type": "code",
   "execution_count": 346,
   "id": "292c8d28",
   "metadata": {
    "ExecuteTime": {
     "end_time": "2022-07-28T13:00:58.627328Z",
     "start_time": "2022-07-28T13:00:58.622757Z"
    },
    "pycharm": {
     "name": "#%%\n"
    }
   },
   "outputs": [
    {
     "data": {
      "text/plain": "27.97646128250812"
     },
     "execution_count": 346,
     "metadata": {},
     "output_type": "execute_result"
    }
   ],
   "source": [
    "address_cnts.skew()"
   ]
  },
  {
   "cell_type": "code",
   "execution_count": 347,
   "id": "df803468",
   "metadata": {
    "ExecuteTime": {
     "end_time": "2022-07-28T13:00:58.735722Z",
     "start_time": "2022-07-28T13:00:58.628365Z"
    },
    "pycharm": {
     "name": "#%%\n"
    }
   },
   "outputs": [],
   "source": [
    "#Since this is an extremely skewed feature let's only visualize the 1st percentile points\n",
    "one_percentile = np.percentile(address_cnts, 99)\n",
    "n_addresses_1perc = np.array([element for element in address_cnts if element <= one_percentile])"
   ]
  },
  {
   "cell_type": "code",
   "execution_count": 348,
   "id": "8a7dbf06",
   "metadata": {
    "ExecuteTime": {
     "end_time": "2022-07-28T13:00:59.208621Z",
     "start_time": "2022-07-28T13:00:58.736523Z"
    },
    "pycharm": {
     "name": "#%%\n"
    }
   },
   "outputs": [
    {
     "data": {
      "text/plain": "<Figure size 432x288 with 1 Axes>",
      "image/png": "[encoded data removed]"
     },
     "metadata": {},
     "output_type": "display_data"
    }
   ],
   "source": [
    "#checking points only within 1st percentile\n",
    "plt.title('addresses cnts within 1st percentile')\n",
    "sns.distplot(n_addresses_1perc)\n",
    "plt.xlabel('n_addresses')\n",
    "plt.ylabel('density')\n",
    "plt.show()"
   ]
  },
  {
   "cell_type": "code",
   "execution_count": 349,
   "id": "f53885ea",
   "metadata": {
    "ExecuteTime": {
     "end_time": "2022-07-28T13:01:01.181224Z",
     "start_time": "2022-07-28T13:00:59.209610Z"
    },
    "pycharm": {
     "name": "#%%\n"
    }
   },
   "outputs": [
    {
     "data": {
      "text/plain": "0it [00:00, ?it/s]",
      "application/vnd.jupyter.widget-view+json": {
       "version_major": 2,
       "version_minor": 0,
       "model_id": "2ce27d673a6a42a2b9e38eb34be69e0a"
      }
     },
     "metadata": {},
     "output_type": "display_data"
    }
   ],
   "source": [
    "dict_address_cnts = dict(X_train['address'].value_counts())\n",
    "n_address = boxcox(np.array(list(dict_address_cnts.values())))[0]\n",
    "# \n",
    "for index, key in tqdm(enumerate(dict_address_cnts.keys())):\n",
    "    # updating the dictionary with number of times each address appears with the boxcox transformation applied to fix the skewness\n",
    "    dict_address_cnts.update({key: address_cnts[index]})\n",
    " "
   ]
  },
  {
   "cell_type": "code",
   "execution_count": 350,
   "id": "9234d709",
   "metadata": {
    "ExecuteTime": {
     "end_time": "2022-07-28T13:01:01.184899Z",
     "start_time": "2022-07-28T13:01:01.182068Z"
    },
    "pycharm": {
     "name": "#%%\n"
    }
   },
   "outputs": [
    {
     "data": {
      "text/plain": "0.0"
     },
     "execution_count": 350,
     "metadata": {},
     "output_type": "execute_result"
    }
   ],
   "source": [
    "n_address.min()"
   ]
  },
  {
   "cell_type": "code",
   "execution_count": 351,
   "id": "48e4f161",
   "metadata": {
    "ExecuteTime": {
     "end_time": "2022-07-28T13:01:01.312787Z",
     "start_time": "2022-07-28T13:01:01.185654Z"
    },
    "pycharm": {
     "name": "#%%\n"
    }
   },
   "outputs": [
    {
     "data": {
      "text/plain": "5.953107169677995"
     },
     "execution_count": 351,
     "metadata": {},
     "output_type": "execute_result"
    }
   ],
   "source": [
    "bc_address_n = boxcox(np.array(list(dict_address_cnts.values())))[0] # \n",
    "pd.Series(bc_address_n).skew()"
   ]
  },
  {
   "cell_type": "code",
   "execution_count": 352,
   "id": "42e281eb",
   "metadata": {
    "ExecuteTime": {
     "end_time": "2022-07-28T13:01:01.807366Z",
     "start_time": "2022-07-28T13:01:01.313898Z"
    },
    "pycharm": {
     "name": "#%%\n"
    }
   },
   "outputs": [
    {
     "data": {
      "text/plain": "<Figure size 432x288 with 1 Axes>",
      "image/png": "[encoded data removed]"
     },
     "metadata": {},
     "output_type": "display_data"
    }
   ],
   "source": [
    "#plot to print distribution of n_addresses\n",
    "plt.title('bc num address distribution')\n",
    "sns.distplot(bc_address_n)\n",
    "plt.xlabel('addresses')\n",
    "plt.ylabel('density')\n",
    "plt.show()"
   ]
  },
  {
   "cell_type": "code",
   "execution_count": 353,
   "id": "a944bfdf",
   "metadata": {
    "ExecuteTime": {
     "end_time": "2022-07-28T13:02:24.081388Z",
     "start_time": "2022-07-28T13:01:01.808688Z"
    },
    "pycharm": {
     "name": "#%%\n"
    }
   },
   "outputs": [
    {
     "data": {
      "text/plain": "  0%|          | 0/561463 [00:00<?, ?it/s]",
      "application/vnd.jupyter.widget-view+json": {
       "version_major": 2,
       "version_minor": 0,
       "model_id": "14395711387d402883824f8a2197b0c2"
      }
     },
     "metadata": {},
     "output_type": "display_data"
    },
    {
     "data": {
      "text/plain": "  0%|          | 0/167711 [00:00<?, ?it/s]",
      "application/vnd.jupyter.widget-view+json": {
       "version_major": 2,
       "version_minor": 0,
       "model_id": "2bdeb0c531de439eb8e077631268002c"
      }
     },
     "metadata": {},
     "output_type": "display_data"
    }
   ],
   "source": [
    "bc_n_address_train = np.array([])\n",
    "\n",
    "for index, row in tqdm(X_train.iterrows(), total=X_train.shape[0]):\n",
    "    # For each address in the training set append the boxcox'd\n",
    "    # number of times it appears in the training set\n",
    "\n",
    "    n_address_i = dict_address_cnts.get(X_train.loc[index]['address'])\n",
    "    \n",
    "    bc_n_address_train = np.append(bc_n_address_train, n_address_i)\n",
    "\n",
    "bc_n_address_test = np.array([])\n",
    "min_dict_n_address = min(list(dict_address_cnts.values()))\n",
    "\n",
    "for index, row in tqdm(X_test.iterrows(), total=X_test.shape[0]):\n",
    "    # For each address in the training set append the boxcox'd\n",
    "    # number of times it appears in the training set\n",
    "    try:\n",
    "        #we do the same as above\n",
    "        n_address_i = dict_address_cnts[X_test.loc[index]['address']]\n",
    "    except KeyError:\n",
    "        #KeyError arises when the addreses in training set has not been seen before (i.e cold start)\n",
    "        #For this, we assign the minimum value to it\n",
    "\n",
    "        n_address_i = min_dict_n_address #Addressing cold start\n",
    "    bc_n_address_test = np.append(bc_n_address_test, n_address_i)"
   ]
  },
  {
   "cell_type": "code",
   "execution_count": 354,
   "id": "0fa27921",
   "metadata": {
    "ExecuteTime": {
     "end_time": "2022-07-28T13:02:24.518845Z",
     "start_time": "2022-07-28T13:02:24.082159Z"
    },
    "pycharm": {
     "name": "#%%\n"
    }
   },
   "outputs": [
    {
     "data": {
      "text/plain": "<Figure size 432x288 with 1 Axes>",
      "image/png": "[encoded data removed]"
     },
     "metadata": {},
     "output_type": "display_data"
    }
   ],
   "source": [
    "plt.title('boxcox address counts distribution')\n",
    "sns.distplot(bc_n_address_train)\n",
    "plt.xlabel('addresses')\n",
    "plt.ylabel('density')\n",
    "plt.show()"
   ]
  },
  {
   "cell_type": "code",
   "execution_count": 355,
   "id": "d153ffd1",
   "metadata": {
    "ExecuteTime": {
     "end_time": "2022-07-28T13:02:24.993329Z",
     "start_time": "2022-07-28T13:02:24.519782Z"
    },
    "pycharm": {
     "name": "#%%\n"
    }
   },
   "outputs": [
    {
     "data": {
      "text/plain": "<Figure size 432x288 with 1 Axes>",
      "image/png": "[encoded data removed]"
     },
     "metadata": {},
     "output_type": "display_data"
    }
   ],
   "source": [
    "plt.title('log boxcox address counts distribution)')\n",
    "sns.distplot(np.log(bc_n_address_train)) \n",
    "plt.xlabel('addresses')\n",
    "plt.ylabel('density')\n",
    "plt.show()"
   ]
  },
  {
   "cell_type": "code",
   "execution_count": 356,
   "id": "fdbcd250",
   "metadata": {
    "ExecuteTime": {
     "end_time": "2022-07-28T13:02:24.998474Z",
     "start_time": "2022-07-28T13:02:24.994289Z"
    },
    "pycharm": {
     "name": "#%%\n"
    }
   },
   "outputs": [],
   "source": [
    "logbc_n_address_train = np.log(bc_n_address_train)\n",
    "logbc_n_address_test = np.log(bc_n_address_test)"
   ]
  },
  {
   "cell_type": "code",
   "execution_count": 357,
   "id": "8d7cd7d6",
   "metadata": {
    "ExecuteTime": {
     "end_time": "2022-07-28T13:02:25.012742Z",
     "start_time": "2022-07-28T13:02:24.999423Z"
    },
    "pycharm": {
     "name": "#%%\n"
    }
   },
   "outputs": [],
   "source": [
    "train_features_d['logbc_n_address'] = Feature( pd.DataFrame(logbc_n_address_train,\n",
    "                    columns=['logbc_n_address']),'logbc_n_address' )\n",
    "test_features_d['logbc_n_address']  = Feature( pd.DataFrame(logbc_n_address_test,\n",
    "                    columns=['logbc_n_address']),'logbc_n_address' )"
   ]
  },
  {
   "cell_type": "code",
   "execution_count": 358,
   "id": "026f812d",
   "metadata": {
    "ExecuteTime": {
     "end_time": "2022-07-28T13:02:25.016364Z",
     "start_time": "2022-07-28T13:02:25.013631Z"
    },
    "pycharm": {
     "name": "#%%\n"
    }
   },
   "outputs": [
    {
     "data": {
      "text/plain": "4.734594416456778"
     },
     "execution_count": 358,
     "metadata": {},
     "output_type": "execute_result"
    }
   ],
   "source": [
    "train_features_d['logbc_n_address'].skew"
   ]
  },
  {
   "cell_type": "code",
   "execution_count": 359,
   "id": "1dcefc63",
   "metadata": {
    "ExecuteTime": {
     "end_time": "2022-07-28T13:02:25.490966Z",
     "start_time": "2022-07-28T13:02:25.017711Z"
    },
    "pycharm": {
     "name": "#%%\n"
    }
   },
   "outputs": [
    {
     "data": {
      "text/plain": "<Figure size 432x288 with 1 Axes>",
      "image/png": "[encoded data removed]"
     },
     "metadata": {},
     "output_type": "display_data"
    }
   ],
   "source": [
    "train_features_d['logbc_n_address'].plot_pdf()"
   ]
  },
  {
   "cell_type": "markdown",
   "id": "30270eae",
   "metadata": {
    "pycharm": {
     "name": "#%% md\n"
    }
   },
   "source": [
    "#### 2.1.5 neighbors [bc_neighbors]"
   ]
  },
  {
   "cell_type": "code",
   "execution_count": 369,
   "outputs": [
    {
     "data": {
      "text/plain": "count    561463.000000\nmean          2.222531\nstd          23.915774\nmin           1.000000\n25%           1.000000\n50%           2.000000\n75%           2.000000\nmax       12920.000000\nName: neighbors, dtype: float64"
     },
     "execution_count": 369,
     "metadata": {},
     "output_type": "execute_result"
    }
   ],
   "source": [
    "train_features['neighbors'].series.describe()"
   ],
   "metadata": {
    "collapsed": false,
    "pycharm": {
     "name": "#%%\n"
    }
   }
  },
  {
   "cell_type": "code",
   "execution_count": 370,
   "id": "4b422ef9",
   "metadata": {
    "ExecuteTime": {
     "end_time": "2022-07-28T13:02:25.981299Z",
     "start_time": "2022-07-28T13:02:25.501831Z"
    },
    "pycharm": {
     "name": "#%%\n"
    }
   },
   "outputs": [
    {
     "data": {
      "text/plain": "<Figure size 432x288 with 1 Axes>",
      "image/png": "[encoded data removed]"
     },
     "metadata": {},
     "output_type": "display_data"
    }
   ],
   "source": [
    "train_features['neighbors'].plot_pdf()"
   ]
  },
  {
   "cell_type": "code",
   "execution_count": 371,
   "id": "ebfcb605",
   "metadata": {
    "ExecuteTime": {
     "end_time": "2022-07-28T13:02:25.984393Z",
     "start_time": "2022-07-28T13:02:25.982231Z"
    },
    "pycharm": {
     "name": "#%%\n"
    }
   },
   "outputs": [
    {
     "data": {
      "text/plain": "349.670288068549"
     },
     "execution_count": 371,
     "metadata": {},
     "output_type": "execute_result"
    }
   ],
   "source": [
    "train_features['neighbors'].skew"
   ]
  },
  {
   "cell_type": "code",
   "execution_count": 372,
   "id": "55be241d",
   "metadata": {
    "ExecuteTime": {
     "end_time": "2022-07-28T13:02:26.249248Z",
     "start_time": "2022-07-28T13:02:25.985202Z"
    },
    "pycharm": {
     "name": "#%%\n"
    }
   },
   "outputs": [],
   "source": [
    "# apply boxcox\n",
    "bc_neighbors_train = train_features['neighbors'].bc()\n",
    "bc_neighbors_test = test_features['neighbors'].bc()"
   ]
  },
  {
   "cell_type": "code",
   "execution_count": 373,
   "id": "7f653d32",
   "metadata": {
    "ExecuteTime": {
     "end_time": "2022-07-28T13:02:26.262020Z",
     "start_time": "2022-07-28T13:02:26.250218Z"
    },
    "pycharm": {
     "name": "#%%\n"
    }
   },
   "outputs": [],
   "source": [
    "# generate new feature\n",
    "train_features_d['bc_neighbors'] = Feature(pd.DataFrame(bc_neighbors_train,\n",
    "                    columns=['bc_neighbors']),'bc_neighbors')\n",
    "test_features_d['bc_neighbors'] = Feature( pd.DataFrame(bc_neighbors_test,\n",
    "                    columns=['bc_neighbors']),'bc_neighbors')"
   ]
  },
  {
   "cell_type": "code",
   "execution_count": 374,
   "id": "a3ee2c2c",
   "metadata": {
    "ExecuteTime": {
     "end_time": "2022-07-28T13:02:26.265236Z",
     "start_time": "2022-07-28T13:02:26.263003Z"
    },
    "pycharm": {
     "name": "#%%\n"
    }
   },
   "outputs": [
    {
     "data": {
      "text/plain": "0.43092982180546063"
     },
     "execution_count": 374,
     "metadata": {},
     "output_type": "execute_result"
    }
   ],
   "source": [
    "train_features_d['bc_neighbors'].mean# skew is reduced"
   ]
  },
  {
   "cell_type": "code",
   "execution_count": 374,
   "outputs": [],
   "source": [],
   "metadata": {
    "collapsed": false,
    "pycharm": {
     "name": "#%%\n"
    }
   }
  },
  {
   "cell_type": "code",
   "execution_count": 375,
   "id": "d7231ccd",
   "metadata": {
    "ExecuteTime": {
     "end_time": "2022-07-28T13:02:26.800031Z",
     "start_time": "2022-07-28T13:02:26.265923Z"
    },
    "pycharm": {
     "name": "#%%\n"
    }
   },
   "outputs": [
    {
     "data": {
      "text/plain": "<Figure size 432x288 with 1 Axes>",
      "image/png": "[encoded data removed]"
     },
     "metadata": {},
     "output_type": "display_data"
    }
   ],
   "source": [
    "train_features_d['bc_neighbors'].plot_pdf()"
   ]
  },
  {
   "cell_type": "code",
   "execution_count": 376,
   "outputs": [
    {
     "data": {
      "text/plain": "                      count       mean        std  min    25%   50%    75%  \\\nlabel                                                                        \nAPT                     2.0   2.500000   0.707107  2.0   2.25   2.5   2.75   \nCerber               2209.0   2.014939   0.406306  1.0   2.00   2.0   2.00   \nCryptConsole            3.0   2.000000   0.000000  2.0   2.00   2.0   2.00   \nCryptXXX              617.0   1.972447   0.655312  1.0   2.00   2.0   2.00   \nCryptoLocker         2322.0   2.883290   3.439348  1.0   2.00   2.0   3.00   \nCryptoTorLocker2015    10.0   7.000000   5.517648  2.0   2.00   5.5  10.50   \nCryptoWall           3008.0   1.942819   2.130289  1.0   1.00   1.0   2.00   \nDMALocker              50.0   1.880000   1.349830  1.0   1.00   1.0   2.00   \nDMALockerv3            93.0   1.161290   0.576540  1.0   1.00   1.0   1.00   \nEDA2                    1.0   2.000000        NaN  2.0   2.00   2.0   2.00   \nFlyper                  2.0   1.500000   0.707107  1.0   1.25   1.5   1.75   \nGlobe                  11.0   2.181818   0.750757  1.0   2.00   2.0   2.00   \nGlobeImposter           9.0   2.555556   2.743680  1.0   1.00   1.0   2.00   \nGlobev3                 4.0   1.750000   0.500000  1.0   1.75   2.0   2.00   \nJigSaw                  2.0   2.000000   0.000000  2.0   2.00   2.0   2.00   \nLocky                1628.0   1.238329   0.458163  1.0   1.00   1.0   1.00   \nNoobCrypt             101.0   1.227723   0.719461  1.0   1.00   1.0   1.00   \nRazy                    3.0  19.333333  15.947832  1.0  14.00  27.0  28.50   \nSam                     1.0   3.000000        NaN  3.0   3.00   3.0   3.00   \nSamSam                 16.0   1.500000   0.894427  1.0   1.00   1.0   2.00   \nVenusLocker             3.0   1.666667   0.577350  1.0   1.50   2.0   2.00   \nWannaCry                6.0   1.333333   0.816497  1.0   1.00   1.0   1.00   \nXLocker                 1.0   1.000000        NaN  1.0   1.00   1.0   1.00   \nXLockerv5.0             2.0   1.500000   0.707107  1.0   1.25   1.5   1.75   \nXTPLocker               3.0   1.000000   0.000000  1.0   1.00   1.0   1.00   \n\n                      max  \nlabel                      \nAPT                   3.0  \nCerber               10.0  \nCryptConsole          2.0  \nCryptXXX              6.0  \nCryptoLocker         63.0  \nCryptoTorLocker2015  16.0  \nCryptoWall           37.0  \nDMALocker             6.0  \nDMALockerv3           5.0  \nEDA2                  2.0  \nFlyper                2.0  \nGlobe                 4.0  \nGlobeImposter         9.0  \nGlobev3               2.0  \nJigSaw                2.0  \nLocky                 6.0  \nNoobCrypt             7.0  \nRazy                 30.0  \nSam                   3.0  \nSamSam                4.0  \nVenusLocker           2.0  \nWannaCry              3.0  \nXLocker               1.0  \nXLockerv5.0           2.0  \nXTPLocker             1.0  ",
      "text/html": "<div>\n<style scoped>\n    .dataframe tbody tr th:only-of-type {\n        vertical-align: middle;\n    }\n\n    .dataframe tbody tr th {\n        vertical-align: top;\n    }\n\n    .dataframe thead th {\n        text-align: right;\n    }\n</style>\n<table border=\"1\" class=\"dataframe\">\n  <thead>\n    <tr style=\"text-align: right;\">\n      <th></th>\n      <th>count</th>\n      <th>mean</th>\n      <th>std</th>\n      <th>min</th>\n      <th>25%</th>\n      <th>50%</th>\n      <th>75%</th>\n      <th>max</th>\n    </tr>\n    <tr>\n      <th>label</th>\n      <th></th>\n      <th></th>\n      <th></th>\n      <th></th>\n      <th></th>\n      <th></th>\n      <th></th>\n      <th></th>\n    </tr>\n  </thead>\n  <tbody>\n    <tr>\n      <th>APT</th>\n      <td>2.0</td>\n      <td>2.500000</td>\n      <td>0.707107</td>\n      <td>2.0</td>\n      <td>2.25</td>\n      <td>2.5</td>\n      <td>2.75</td>\n      <td>3.0</td>\n    </tr>\n    <tr>\n      <th>Cerber</th>\n      <td>2209.0</td>\n      <td>2.014939</td>\n      <td>0.406306</td>\n      <td>1.0</td>\n      <td>2.00</td>\n      <td>2.0</td>\n      <td>2.00</td>\n      <td>10.0</td>\n    </tr>\n    <tr>\n      <th>CryptConsole</th>\n      <td>3.0</td>\n      <td>2.000000</td>\n      <td>0.000000</td>\n      <td>2.0</td>\n      <td>2.00</td>\n      <td>2.0</td>\n      <td>2.00</td>\n      <td>2.0</td>\n    </tr>\n    <tr>\n      <th>CryptXXX</th>\n      <td>617.0</td>\n      <td>1.972447</td>\n      <td>0.655312</td>\n      <td>1.0</td>\n      <td>2.00</td>\n      <td>2.0</td>\n      <td>2.00</td>\n      <td>6.0</td>\n    </tr>\n    <tr>\n      <th>CryptoLocker</th>\n      <td>2322.0</td>\n      <td>2.883290</td>\n      <td>3.439348</td>\n      <td>1.0</td>\n      <td>2.00</td>\n      <td>2.0</td>\n      <td>3.00</td>\n      <td>63.0</td>\n    </tr>\n    <tr>\n      <th>CryptoTorLocker2015</th>\n      <td>10.0</td>\n      <td>7.000000</td>\n      <td>5.517648</td>\n      <td>2.0</td>\n      <td>2.00</td>\n      <td>5.5</td>\n      <td>10.50</td>\n      <td>16.0</td>\n    </tr>\n    <tr>\n      <th>CryptoWall</th>\n      <td>3008.0</td>\n      <td>1.942819</td>\n      <td>2.130289</td>\n      <td>1.0</td>\n      <td>1.00</td>\n      <td>1.0</td>\n      <td>2.00</td>\n      <td>37.0</td>\n    </tr>\n    <tr>\n      <th>DMALocker</th>\n      <td>50.0</td>\n      <td>1.880000</td>\n      <td>1.349830</td>\n      <td>1.0</td>\n      <td>1.00</td>\n      <td>1.0</td>\n      <td>2.00</td>\n      <td>6.0</td>\n    </tr>\n    <tr>\n      <th>DMALockerv3</th>\n      <td>93.0</td>\n      <td>1.161290</td>\n      <td>0.576540</td>\n      <td>1.0</td>\n      <td>1.00</td>\n      <td>1.0</td>\n      <td>1.00</td>\n      <td>5.0</td>\n    </tr>\n    <tr>\n      <th>EDA2</th>\n      <td>1.0</td>\n      <td>2.000000</td>\n      <td>NaN</td>\n      <td>2.0</td>\n      <td>2.00</td>\n      <td>2.0</td>\n      <td>2.00</td>\n      <td>2.0</td>\n    </tr>\n    <tr>\n      <th>Flyper</th>\n      <td>2.0</td>\n      <td>1.500000</td>\n      <td>0.707107</td>\n      <td>1.0</td>\n      <td>1.25</td>\n      <td>1.5</td>\n      <td>1.75</td>\n      <td>2.0</td>\n    </tr>\n    <tr>\n      <th>Globe</th>\n      <td>11.0</td>\n      <td>2.181818</td>\n      <td>0.750757</td>\n      <td>1.0</td>\n      <td>2.00</td>\n      <td>2.0</td>\n      <td>2.00</td>\n      <td>4.0</td>\n    </tr>\n    <tr>\n      <th>GlobeImposter</th>\n      <td>9.0</td>\n      <td>2.555556</td>\n      <td>2.743680</td>\n      <td>1.0</td>\n      <td>1.00</td>\n      <td>1.0</td>\n      <td>2.00</td>\n      <td>9.0</td>\n    </tr>\n    <tr>\n      <th>Globev3</th>\n      <td>4.0</td>\n      <td>1.750000</td>\n      <td>0.500000</td>\n      <td>1.0</td>\n      <td>1.75</td>\n      <td>2.0</td>\n      <td>2.00</td>\n      <td>2.0</td>\n    </tr>\n    <tr>\n      <th>JigSaw</th>\n      <td>2.0</td>\n      <td>2.000000</td>\n      <td>0.000000</td>\n      <td>2.0</td>\n      <td>2.00</td>\n      <td>2.0</td>\n      <td>2.00</td>\n      <td>2.0</td>\n    </tr>\n    <tr>\n      <th>Locky</th>\n      <td>1628.0</td>\n      <td>1.238329</td>\n      <td>0.458163</td>\n      <td>1.0</td>\n      <td>1.00</td>\n      <td>1.0</td>\n      <td>1.00</td>\n      <td>6.0</td>\n    </tr>\n    <tr>\n      <th>NoobCrypt</th>\n      <td>101.0</td>\n      <td>1.227723</td>\n      <td>0.719461</td>\n      <td>1.0</td>\n      <td>1.00</td>\n      <td>1.0</td>\n      <td>1.00</td>\n      <td>7.0</td>\n    </tr>\n    <tr>\n      <th>Razy</th>\n      <td>3.0</td>\n      <td>19.333333</td>\n      <td>15.947832</td>\n      <td>1.0</td>\n      <td>14.00</td>\n      <td>27.0</td>\n      <td>28.50</td>\n      <td>30.0</td>\n    </tr>\n    <tr>\n      <th>Sam</th>\n      <td>1.0</td>\n      <td>3.000000</td>\n      <td>NaN</td>\n      <td>3.0</td>\n      <td>3.00</td>\n      <td>3.0</td>\n      <td>3.00</td>\n      <td>3.0</td>\n    </tr>\n    <tr>\n      <th>SamSam</th>\n      <td>16.0</td>\n      <td>1.500000</td>\n      <td>0.894427</td>\n      <td>1.0</td>\n      <td>1.00</td>\n      <td>1.0</td>\n      <td>2.00</td>\n      <td>4.0</td>\n    </tr>\n    <tr>\n      <th>VenusLocker</th>\n      <td>3.0</td>\n      <td>1.666667</td>\n      <td>0.577350</td>\n      <td>1.0</td>\n      <td>1.50</td>\n      <td>2.0</td>\n      <td>2.00</td>\n      <td>2.0</td>\n    </tr>\n    <tr>\n      <th>WannaCry</th>\n      <td>6.0</td>\n      <td>1.333333</td>\n      <td>0.816497</td>\n      <td>1.0</td>\n      <td>1.00</td>\n      <td>1.0</td>\n      <td>1.00</td>\n      <td>3.0</td>\n    </tr>\n    <tr>\n      <th>XLocker</th>\n      <td>1.0</td>\n      <td>1.000000</td>\n      <td>NaN</td>\n      <td>1.0</td>\n      <td>1.00</td>\n      <td>1.0</td>\n      <td>1.00</td>\n      <td>1.0</td>\n    </tr>\n    <tr>\n      <th>XLockerv5.0</th>\n      <td>2.0</td>\n      <td>1.500000</td>\n      <td>0.707107</td>\n      <td>1.0</td>\n      <td>1.25</td>\n      <td>1.5</td>\n      <td>1.75</td>\n      <td>2.0</td>\n    </tr>\n    <tr>\n      <th>XTPLocker</th>\n      <td>3.0</td>\n      <td>1.000000</td>\n      <td>0.000000</td>\n      <td>1.0</td>\n      <td>1.00</td>\n      <td>1.0</td>\n      <td>1.00</td>\n      <td>1.0</td>\n    </tr>\n  </tbody>\n</table>\n</div>"
     },
     "execution_count": 376,
     "metadata": {},
     "output_type": "execute_result"
    }
   ],
   "source": [
    "\n",
    "dfc[dfc['label'] != 'white'].groupby('label')['neighbors'].describe()"
   ],
   "metadata": {
    "collapsed": false,
    "pycharm": {
     "name": "#%%\n"
    }
   }
  },
  {
   "cell_type": "code",
   "execution_count": 377,
   "outputs": [
    {
     "data": {
      "text/plain": "          count      mean       std  min  25%  50%  75%      max\nlabel                                                           \nwhite  719067.0  2.216711  22.39515  1.0  1.0  2.0  2.0  12920.0",
      "text/html": "<div>\n<style scoped>\n    .dataframe tbody tr th:only-of-type {\n        vertical-align: middle;\n    }\n\n    .dataframe tbody tr th {\n        vertical-align: top;\n    }\n\n    .dataframe thead th {\n        text-align: right;\n    }\n</style>\n<table border=\"1\" class=\"dataframe\">\n  <thead>\n    <tr style=\"text-align: right;\">\n      <th></th>\n      <th>count</th>\n      <th>mean</th>\n      <th>std</th>\n      <th>min</th>\n      <th>25%</th>\n      <th>50%</th>\n      <th>75%</th>\n      <th>max</th>\n    </tr>\n    <tr>\n      <th>label</th>\n      <th></th>\n      <th></th>\n      <th></th>\n      <th></th>\n      <th></th>\n      <th></th>\n      <th></th>\n      <th></th>\n    </tr>\n  </thead>\n  <tbody>\n    <tr>\n      <th>white</th>\n      <td>719067.0</td>\n      <td>2.216711</td>\n      <td>22.39515</td>\n      <td>1.0</td>\n      <td>1.0</td>\n      <td>2.0</td>\n      <td>2.0</td>\n      <td>12920.0</td>\n    </tr>\n  </tbody>\n</table>\n</div>"
     },
     "execution_count": 377,
     "metadata": {},
     "output_type": "execute_result"
    }
   ],
   "source": [
    "\n",
    "dfc[dfc['label'] == 'white'].groupby('label')['neighbors'].describe()"
   ],
   "metadata": {
    "collapsed": false,
    "pycharm": {
     "name": "#%%\n"
    }
   }
  },
  {
   "cell_type": "markdown",
   "id": "461fe0f7",
   "metadata": {
    "pycharm": {
     "name": "#%% md\n"
    }
   },
   "source": [
    "#### 2.1.6 looped  [sig_looped]"
   ]
  },
  {
   "cell_type": "code",
   "execution_count": 378,
   "id": "9b7e14c5",
   "metadata": {
    "ExecuteTime": {
     "end_time": "2022-07-28T13:02:27.290683Z",
     "start_time": "2022-07-28T13:02:26.821471Z"
    },
    "pycharm": {
     "name": "#%%\n"
    }
   },
   "outputs": [
    {
     "data": {
      "text/plain": "<Figure size 432x288 with 1 Axes>",
      "image/png": "[encoded data removed]"
     },
     "metadata": {},
     "output_type": "display_data"
    }
   ],
   "source": [
    "train_features['looped'].plot_pdf()"
   ]
  },
  {
   "cell_type": "code",
   "execution_count": 379,
   "id": "d54faa21",
   "metadata": {
    "ExecuteTime": {
     "end_time": "2022-07-28T13:02:27.293813Z",
     "start_time": "2022-07-28T13:02:27.291778Z"
    },
    "pycharm": {
     "name": "#%%\n"
    }
   },
   "outputs": [
    {
     "data": {
      "text/plain": "5.544117274510451"
     },
     "execution_count": 379,
     "metadata": {},
     "output_type": "execute_result"
    }
   ],
   "source": [
    "train_features['looped'].skew"
   ]
  },
  {
   "cell_type": "code",
   "execution_count": 380,
   "id": "f93d0856",
   "metadata": {
    "ExecuteTime": {
     "end_time": "2022-07-28T13:02:27.300341Z",
     "start_time": "2022-07-28T13:02:27.294534Z"
    },
    "pycharm": {
     "name": "#%%\n"
    }
   },
   "outputs": [],
   "source": [
    "# apply sigmoid\n",
    "sig_looped_train = train_features['looped'].sigmoid()\n",
    "sig_looped_test  = test_features['looped'].sigmoid()"
   ]
  },
  {
   "cell_type": "code",
   "execution_count": 381,
   "id": "a62118f0",
   "metadata": {
    "ExecuteTime": {
     "end_time": "2022-07-28T13:02:27.313217Z",
     "start_time": "2022-07-28T13:02:27.301486Z"
    },
    "pycharm": {
     "name": "#%%\n"
    }
   },
   "outputs": [],
   "source": [
    "# generate new feature\n",
    "train_features_d['sig_looped'] = Feature(pd.DataFrame(sig_looped_train,\n",
    "                    columns=['sig_looped']),'sig_looped' )\n",
    "test_features_d['sig_looped'] = Feature(pd.DataFrame(sig_looped_test,\n",
    "                    columns=['sig_looped']),'sig_looped' )"
   ]
  },
  {
   "cell_type": "code",
   "execution_count": 382,
   "id": "57230316",
   "metadata": {
    "ExecuteTime": {
     "end_time": "2022-07-28T13:02:27.316674Z",
     "start_time": "2022-07-28T13:02:27.314113Z"
    },
    "pycharm": {
     "name": "#%%\n"
    }
   },
   "outputs": [
    {
     "data": {
      "text/plain": "2.2215463159882374"
     },
     "execution_count": 382,
     "metadata": {},
     "output_type": "execute_result"
    }
   ],
   "source": [
    "train_features_d['sig_looped'].skew"
   ]
  },
  {
   "cell_type": "code",
   "execution_count": 383,
   "id": "0c11b5c6",
   "metadata": {
    "ExecuteTime": {
     "end_time": "2022-07-28T13:02:27.874987Z",
     "start_time": "2022-07-28T13:02:27.317580Z"
    },
    "pycharm": {
     "name": "#%%\n"
    }
   },
   "outputs": [
    {
     "data": {
      "text/plain": "<Figure size 432x288 with 1 Axes>",
      "image/png": "[encoded data removed]"
     },
     "metadata": {},
     "output_type": "display_data"
    }
   ],
   "source": [
    "train_features_d['sig_looped'].plot_pdf()"
   ]
  },
  {
   "cell_type": "markdown",
   "id": "0ef7cbbe",
   "metadata": {
    "pycharm": {
     "name": "#%% md\n"
    }
   },
   "source": [
    "#### 2.1.7 count [log_count]"
   ]
  },
  {
   "cell_type": "code",
   "execution_count": 384,
   "id": "4c84d7d4",
   "metadata": {
    "ExecuteTime": {
     "end_time": "2022-07-28T13:02:27.883172Z",
     "start_time": "2022-07-28T13:02:27.875893Z"
    },
    "pycharm": {
     "name": "#%%\n"
    }
   },
   "outputs": [],
   "source": [
    "#X_train_cnt_ft = feature(X_train,'count')\n",
    "#X_test_cnt_ft  = feature(X_test,'count')"
   ]
  },
  {
   "cell_type": "code",
   "execution_count": 385,
   "id": "64c362bd",
   "metadata": {
    "ExecuteTime": {
     "end_time": "2022-07-28T13:02:28.383577Z",
     "start_time": "2022-07-28T13:02:27.884050Z"
    },
    "pycharm": {
     "name": "#%%\n"
    }
   },
   "outputs": [
    {
     "data": {
      "text/plain": "<Figure size 432x288 with 1 Axes>",
      "image/png": "[encoded data removed]"
     },
     "metadata": {},
     "output_type": "display_data"
    }
   ],
   "source": [
    "train_features['count'].plot_pdf()"
   ]
  },
  {
   "cell_type": "code",
   "execution_count": 386,
   "id": "df87e68b",
   "metadata": {
    "ExecuteTime": {
     "end_time": "2022-07-28T13:02:28.386557Z",
     "start_time": "2022-07-28T13:02:28.384407Z"
    },
    "pycharm": {
     "name": "#%%\n"
    }
   },
   "outputs": [
    {
     "data": {
      "text/plain": "2.9361537332298413"
     },
     "execution_count": 386,
     "metadata": {},
     "output_type": "execute_result"
    }
   ],
   "source": [
    "train_features['count'].skew"
   ]
  },
  {
   "cell_type": "code",
   "execution_count": 387,
   "outputs": [
    {
     "data": {
      "text/plain": "1"
     },
     "execution_count": 387,
     "metadata": {},
     "output_type": "execute_result"
    }
   ],
   "source": [
    "min(train_features['count'].vec)"
   ],
   "metadata": {
    "collapsed": false,
    "pycharm": {
     "name": "#%%\n"
    }
   }
  },
  {
   "cell_type": "code",
   "execution_count": 388,
   "id": "587c4c8e",
   "metadata": {
    "ExecuteTime": {
     "end_time": "2022-07-28T13:02:28.393759Z",
     "start_time": "2022-07-28T13:02:28.387332Z"
    },
    "scrolled": false,
    "pycharm": {
     "name": "#%%\n"
    }
   },
   "outputs": [],
   "source": [
    "log_count_train = np.log(train_features['count'].vec)\n",
    "log_count_test  = np.log(test_features['count'].vec)"
   ]
  },
  {
   "cell_type": "code",
   "execution_count": 389,
   "id": "1eb071e1",
   "metadata": {
    "ExecuteTime": {
     "end_time": "2022-07-28T13:02:28.406220Z",
     "start_time": "2022-07-28T13:02:28.394722Z"
    },
    "pycharm": {
     "name": "#%%\n"
    }
   },
   "outputs": [],
   "source": [
    "# generate new feature\n",
    "train_features_d['log_count'] = Feature(pd.DataFrame(log_count_train,\n",
    "                    columns=['log_count']),'log_count')\n",
    "test_features_d['log_count'] = Feature(pd.DataFrame(log_count_test,\n",
    "                    columns=['log_count']),'log_count')"
   ]
  },
  {
   "cell_type": "code",
   "execution_count": 390,
   "id": "751ead53",
   "metadata": {
    "ExecuteTime": {
     "end_time": "2022-07-28T13:02:28.979306Z",
     "start_time": "2022-07-28T13:02:28.407129Z"
    },
    "pycharm": {
     "name": "#%%\n"
    }
   },
   "outputs": [
    {
     "data": {
      "text/plain": "<Figure size 432x288 with 1 Axes>",
      "image/png": "[encoded data removed]"
     },
     "metadata": {},
     "output_type": "display_data"
    }
   ],
   "source": [
    "train_features_d['log_count'].plot_pdf()"
   ]
  },
  {
   "cell_type": "code",
   "execution_count": 391,
   "id": "a15a4f60",
   "metadata": {
    "ExecuteTime": {
     "end_time": "2022-07-28T13:02:28.982466Z",
     "start_time": "2022-07-28T13:02:28.980269Z"
    },
    "pycharm": {
     "name": "#%%\n"
    }
   },
   "outputs": [
    {
     "data": {
      "text/plain": "1.0654651240037887"
     },
     "execution_count": 391,
     "metadata": {},
     "output_type": "execute_result"
    }
   ],
   "source": [
    "train_features_d['log_count'].skew"
   ]
  },
  {
   "cell_type": "markdown",
   "id": "149cb329",
   "metadata": {
    "pycharm": {
     "name": "#%% md\n"
    }
   },
   "source": [
    "# 3.0 Standardizing and Encoding"
   ]
  },
  {
   "cell_type": "code",
   "execution_count": 392,
   "outputs": [
    {
     "data": {
      "text/plain": "['year',\n 'bc_income',\n 'day',\n 'day_of_week',\n 'bc_length',\n 'yeo_weight',\n 'address',\n 'logbc_n_address',\n 'bc_neighbors',\n 'sig_looped',\n 'log_count']"
     },
     "execution_count": 392,
     "metadata": {},
     "output_type": "execute_result"
    }
   ],
   "source": [
    "list(train_features_d.keys())"
   ],
   "metadata": {
    "collapsed": false,
    "pycharm": {
     "name": "#%%\n"
    }
   }
  },
  {
   "cell_type": "code",
   "execution_count": 393,
   "id": "e3aceff8",
   "metadata": {
    "ExecuteTime": {
     "end_time": "2022-07-28T13:02:28.985254Z",
     "start_time": "2022-07-28T13:02:28.983284Z"
    },
    "pycharm": {
     "name": "#%%\n"
    }
   },
   "outputs": [],
   "source": [
    "# original columns to get scaled for distance based classifiers\n",
    "cols_orig = [ \n",
    "    'year',\n",
    "    'day',\n",
    "    'length',\n",
    "    'weight',\n",
    "    'count',\n",
    "    'looped',\n",
    "    'neighbors',\n",
    "    'income']\n",
    "# new columns to get scaled for distance based classifiers\n",
    "cols_new = [\n",
    "    'address',\n",
    "    'bc_income',\n",
    "    'bc_length',\n",
    "    'yeo_weight',\n",
    "    'logbc_n_address',\n",
    "    'bc_neighbors',\n",
    "    'sig_looped',\n",
    "    'log_count',\n",
    "    'year',\n",
    "    'day',\n",
    "    'day_of_week'\n",
    "]\n",
    "\n",
    "cols = cols_orig + cols_new\n",
    "num_to_enc = 1"
   ]
  },
  {
   "cell_type": "code",
   "execution_count": 394,
   "outputs": [],
   "source": [
    "X_train_d = pd.DataFrame()\n",
    "X_test_d = pd.DataFrame()"
   ],
   "metadata": {
    "collapsed": false,
    "pycharm": {
     "name": "#%%\n"
    }
   }
  },
  {
   "cell_type": "code",
   "execution_count": 395,
   "outputs": [
    {
     "data": {
      "text/plain": "{'year': <__main__.Feature at 0x29cd8f730>,\n 'bc_income': <__main__.Feature at 0x2add7b820>,\n 'day': <__main__.Feature at 0x2adf09df0>,\n 'day_of_week': <__main__.Feature at 0x2ade72460>,\n 'bc_length': <__main__.Feature at 0x2bc49db50>,\n 'yeo_weight': <__main__.Feature at 0x13af39b50>,\n 'address': <__main__.Feature at 0x13ae6cdf0>,\n 'logbc_n_address': <__main__.Feature at 0x3137c68b0>,\n 'bc_neighbors': <__main__.Feature at 0x313c64610>,\n 'sig_looped': <__main__.Feature at 0x313dece20>,\n 'log_count': <__main__.Feature at 0x313d62f10>}"
     },
     "execution_count": 395,
     "metadata": {},
     "output_type": "execute_result"
    }
   ],
   "source": [
    "train_features_d"
   ],
   "metadata": {
    "collapsed": false,
    "pycharm": {
     "name": "#%%\n"
    }
   }
  },
  {
   "cell_type": "code",
   "execution_count": 396,
   "outputs": [],
   "source": [
    "X_train_d['address']=train_features['address'].vec"
   ],
   "metadata": {
    "collapsed": false,
    "pycharm": {
     "name": "#%%\n"
    }
   }
  },
  {
   "cell_type": "code",
   "execution_count": 397,
   "outputs": [],
   "source": [
    "for col in cols_new:\n",
    "    X_train_d[col] = train_features_d[col].vec\n",
    "    X_test_d[col] = test_features_d[col].vec\n"
   ],
   "metadata": {
    "collapsed": false,
    "pycharm": {
     "name": "#%%\n"
    }
   }
  },
  {
   "cell_type": "code",
   "execution_count": 398,
   "id": "e41fc14e",
   "metadata": {
    "ExecuteTime": {
     "end_time": "2022-07-28T13:02:28.999398Z",
     "start_time": "2022-07-28T13:02:28.997501Z"
    },
    "pycharm": {
     "name": "#%%\n"
    }
   },
   "outputs": [],
   "source": [
    "if SAVE_TEST_TRAIN == True:\n",
    "    with open('derived'+fname, 'wb') as save_file:\n",
    "        pickle.dump([X_train, y_train, X_test, y_test], save_file)"
   ]
  },
  {
   "cell_type": "markdown",
   "id": "9632cb07",
   "metadata": {
    "pycharm": {
     "name": "#%% md\n"
    }
   },
   "source": [
    "#### 2.2.1 Scaling and encoding the data"
   ]
  },
  {
   "cell_type": "code",
   "execution_count": 399,
   "id": "e3213b34",
   "metadata": {
    "ExecuteTime": {
     "end_time": "2022-07-28T13:02:29.002849Z",
     "start_time": "2022-07-28T13:02:29.000155Z"
    },
    "pycharm": {
     "name": "#%%\n"
    }
   },
   "outputs": [],
   "source": [
    "# cols to standardize (0 mean, unit variance)\n",
    "col_names_standardize = ['bc_income',\n",
    "                         'bc_length',\n",
    "                         'yeo_weight',\n",
    "                         'logbc_n_address',\n",
    "                         'bc_neighbors',\n",
    "                         'sig_looped',\n",
    "                         'log_count']\n",
    "# cols to encode\n",
    "col_names_encode = ['day_of_week']\n",
    "col_names_pass = ['year','address', 'day']"
   ]
  },
  {
   "cell_type": "code",
   "execution_count": 400,
   "outputs": [
    {
     "data": {
      "text/plain": "                                   address  bc_income  bc_length  yeo_weight  \\\n0       152PVs5BJXc6ffpnTfodo8gk4459ga2rGo   4.118361  -0.835123    0.002122   \n1       3HsKgPcBZX8LhzAZLbY5yEAvSeJVhe1hyp   4.125074  -1.517506    0.189317   \n2       1BBiuoy7bYaaMkCQNw9TJaM829PrAvML4o   4.106015  -0.063107    0.107866   \n3        1vTKvyRX2JUHJc37vjMjiG5q9qmuPBfsG   4.133130  -0.000639    0.428972   \n4       12aPhUHp4MVEPc94SsoASkEeJXnZmK8sHZ   4.118753  -0.063107    0.003887   \n...                                    ...        ...        ...         ...   \n561458  3F2ndcScfjb3qQUGer3AEFCRgiPdVctJ3K   4.126515  -0.835123    0.499521   \n561459  3DY52Fau1HC1zK2TU7ShyzVqVKhhhTEHvs   4.142881  -0.475318    0.000003   \n561460  1HN2ijH7JECUkwvmGHZWmApfZEm3KP1SRh   4.138220  -0.107729    0.007736   \n561461  1Km6v9iejV2Dv5Q1WcD8NfxQuekqNv1brC   4.126054  -0.454637    0.222847   \n561462  1KasizAg9PNALw6hUZy7WKgkUcaf9DghbV   4.139552  -0.835123    0.262896   \n\n        logbc_n_address  bc_neighbors  sig_looped  log_count  year  day  \\\n0              1.098612      0.000000         0.5   6.463029  2014  264   \n1              0.000000      0.000000         0.5   0.000000  2016  195   \n2              0.000000      0.584252         0.5   0.000000  2014  183   \n3              0.000000      0.584252         0.5   0.000000  2014  202   \n4              0.000000      0.000000         0.5   0.000000  2013    2   \n...                 ...           ...         ...        ...   ...  ...   \n561458         0.000000      0.584252         1.0   8.637107  2018  241   \n561459         0.000000      0.584252         0.5   0.000000  2018  110   \n561460         0.000000      0.000000         0.5   0.000000  2011  128   \n561461         0.000000      0.584252         0.5   1.098612  2013  287   \n561462         0.000000      0.584252         0.5   7.733684  2015   15   \n\n        day_of_week  \n0                 6  \n1                 2  \n2                 2  \n3                 0  \n4                 2  \n...             ...  \n561458            2  \n561459            4  \n561460            6  \n561461            0  \n561462            3  \n\n[561463 rows x 11 columns]",
      "text/html": "<div>\n<style scoped>\n    .dataframe tbody tr th:only-of-type {\n        vertical-align: middle;\n    }\n\n    .dataframe tbody tr th {\n        vertical-align: top;\n    }\n\n    .dataframe thead th {\n        text-align: right;\n    }\n</style>\n<table border=\"1\" class=\"dataframe\">\n  <thead>\n    <tr style=\"text-align: right;\">\n      <th></th>\n      <th>address</th>\n      <th>bc_income</th>\n      <th>bc_length</th>\n      <th>yeo_weight</th>\n      <th>logbc_n_address</th>\n      <th>bc_neighbors</th>\n      <th>sig_looped</th>\n      <th>log_count</th>\n      <th>year</th>\n      <th>day</th>\n      <th>day_of_week</th>\n    </tr>\n  </thead>\n  <tbody>\n    <tr>\n      <th>0</th>\n      <td>152PVs5BJXc6ffpnTfodo8gk4459ga2rGo</td>\n      <td>4.118361</td>\n      <td>-0.835123</td>\n      <td>0.002122</td>\n      <td>1.098612</td>\n      <td>0.000000</td>\n      <td>0.5</td>\n      <td>6.463029</td>\n      <td>2014</td>\n      <td>264</td>\n      <td>6</td>\n    </tr>\n    <tr>\n      <th>1</th>\n      <td>3HsKgPcBZX8LhzAZLbY5yEAvSeJVhe1hyp</td>\n      <td>4.125074</td>\n      <td>-1.517506</td>\n      <td>0.189317</td>\n      <td>0.000000</td>\n      <td>0.000000</td>\n      <td>0.5</td>\n      <td>0.000000</td>\n      <td>2016</td>\n      <td>195</td>\n      <td>2</td>\n    </tr>\n    <tr>\n      <th>2</th>\n      <td>1BBiuoy7bYaaMkCQNw9TJaM829PrAvML4o</td>\n      <td>4.106015</td>\n      <td>-0.063107</td>\n      <td>0.107866</td>\n      <td>0.000000</td>\n      <td>0.584252</td>\n      <td>0.5</td>\n      <td>0.000000</td>\n      <td>2014</td>\n      <td>183</td>\n      <td>2</td>\n    </tr>\n    <tr>\n      <th>3</th>\n      <td>1vTKvyRX2JUHJc37vjMjiG5q9qmuPBfsG</td>\n      <td>4.133130</td>\n      <td>-0.000639</td>\n      <td>0.428972</td>\n      <td>0.000000</td>\n      <td>0.584252</td>\n      <td>0.5</td>\n      <td>0.000000</td>\n      <td>2014</td>\n      <td>202</td>\n      <td>0</td>\n    </tr>\n    <tr>\n      <th>4</th>\n      <td>12aPhUHp4MVEPc94SsoASkEeJXnZmK8sHZ</td>\n      <td>4.118753</td>\n      <td>-0.063107</td>\n      <td>0.003887</td>\n      <td>0.000000</td>\n      <td>0.000000</td>\n      <td>0.5</td>\n      <td>0.000000</td>\n      <td>2013</td>\n      <td>2</td>\n      <td>2</td>\n    </tr>\n    <tr>\n      <th>...</th>\n      <td>...</td>\n      <td>...</td>\n      <td>...</td>\n      <td>...</td>\n      <td>...</td>\n      <td>...</td>\n      <td>...</td>\n      <td>...</td>\n      <td>...</td>\n      <td>...</td>\n      <td>...</td>\n    </tr>\n    <tr>\n      <th>561458</th>\n      <td>3F2ndcScfjb3qQUGer3AEFCRgiPdVctJ3K</td>\n      <td>4.126515</td>\n      <td>-0.835123</td>\n      <td>0.499521</td>\n      <td>0.000000</td>\n      <td>0.584252</td>\n      <td>1.0</td>\n      <td>8.637107</td>\n      <td>2018</td>\n      <td>241</td>\n      <td>2</td>\n    </tr>\n    <tr>\n      <th>561459</th>\n      <td>3DY52Fau1HC1zK2TU7ShyzVqVKhhhTEHvs</td>\n      <td>4.142881</td>\n      <td>-0.475318</td>\n      <td>0.000003</td>\n      <td>0.000000</td>\n      <td>0.584252</td>\n      <td>0.5</td>\n      <td>0.000000</td>\n      <td>2018</td>\n      <td>110</td>\n      <td>4</td>\n    </tr>\n    <tr>\n      <th>561460</th>\n      <td>1HN2ijH7JECUkwvmGHZWmApfZEm3KP1SRh</td>\n      <td>4.138220</td>\n      <td>-0.107729</td>\n      <td>0.007736</td>\n      <td>0.000000</td>\n      <td>0.000000</td>\n      <td>0.5</td>\n      <td>0.000000</td>\n      <td>2011</td>\n      <td>128</td>\n      <td>6</td>\n    </tr>\n    <tr>\n      <th>561461</th>\n      <td>1Km6v9iejV2Dv5Q1WcD8NfxQuekqNv1brC</td>\n      <td>4.126054</td>\n      <td>-0.454637</td>\n      <td>0.222847</td>\n      <td>0.000000</td>\n      <td>0.584252</td>\n      <td>0.5</td>\n      <td>1.098612</td>\n      <td>2013</td>\n      <td>287</td>\n      <td>0</td>\n    </tr>\n    <tr>\n      <th>561462</th>\n      <td>1KasizAg9PNALw6hUZy7WKgkUcaf9DghbV</td>\n      <td>4.139552</td>\n      <td>-0.835123</td>\n      <td>0.262896</td>\n      <td>0.000000</td>\n      <td>0.584252</td>\n      <td>0.5</td>\n      <td>7.733684</td>\n      <td>2015</td>\n      <td>15</td>\n      <td>3</td>\n    </tr>\n  </tbody>\n</table>\n<p>561463 rows × 11 columns</p>\n</div>"
     },
     "execution_count": 400,
     "metadata": {},
     "output_type": "execute_result"
    }
   ],
   "source": [
    "X_train_d"
   ],
   "metadata": {
    "collapsed": false,
    "pycharm": {
     "name": "#%%\n"
    }
   }
  },
  {
   "cell_type": "code",
   "execution_count": 401,
   "outputs": [
    {
     "data": {
      "text/plain": "                                    address  year  day  length    weight  \\\n1389833  152PVs5BJXc6ffpnTfodo8gk4459ga2rGo  2014  264     144  0.002128   \n2050983  3HsKgPcBZX8LhzAZLbY5yEAvSeJVhe1hyp  2016  195       2  0.250000   \n1308993  1BBiuoy7bYaaMkCQNw9TJaM829PrAvML4o  2014  183      14  0.125000   \n1327903   1vTKvyRX2JUHJc37vjMjiG5q9qmuPBfsG  2014  202      22  1.000000   \n762993   12aPhUHp4MVEPc94SsoASkEeJXnZmK8sHZ  2013    2      14  0.003906   \n...                                     ...   ...  ...     ...       ...   \n2827069  3F2ndcScfjb3qQUGer3AEFCRgiPdVctJ3K  2018  241     144  1.544710   \n2695959  3DY52Fau1HC1zK2TU7ShyzVqVKhhhTEHvs  2018  110      92  0.000003   \n159013   1HN2ijH7JECUkwvmGHZWmApfZEm3KP1SRh  2011  128      12  0.007812   \n1048336  1Km6v9iejV2Dv5Q1WcD8NfxQuekqNv1brC  2013  287       6  0.312500   \n1505724  1KasizAg9PNALw6hUZy7WKgkUcaf9DghbV  2015   15     144  0.398461   \n\n         count  looped  neighbors        income  \n1389833    641       0          1  1.000000e+08  \n2050983      1       0          1  1.818900e+08  \n1308993      1       0          2  4.000000e+07  \n1327903      1       0          2  4.270780e+08  \n762993       1       0          1  1.033284e+08  \n...        ...     ...        ...           ...  \n2827069   5637    5625          2  2.093145e+08  \n2695959      1       0          2  1.632521e+09  \n159013       1       0          1  8.150000e+08  \n1048336      3       0          2  2.000000e+08  \n1505724   2284       0          2  9.825900e+08  \n\n[561463 rows x 9 columns]",
      "text/html": "<div>\n<style scoped>\n    .dataframe tbody tr th:only-of-type {\n        vertical-align: middle;\n    }\n\n    .dataframe tbody tr th {\n        vertical-align: top;\n    }\n\n    .dataframe thead th {\n        text-align: right;\n    }\n</style>\n<table border=\"1\" class=\"dataframe\">\n  <thead>\n    <tr style=\"text-align: right;\">\n      <th></th>\n      <th>address</th>\n      <th>year</th>\n      <th>day</th>\n      <th>length</th>\n      <th>weight</th>\n      <th>count</th>\n      <th>looped</th>\n      <th>neighbors</th>\n      <th>income</th>\n    </tr>\n  </thead>\n  <tbody>\n    <tr>\n      <th>1389833</th>\n      <td>152PVs5BJXc6ffpnTfodo8gk4459ga2rGo</td>\n      <td>2014</td>\n      <td>264</td>\n      <td>144</td>\n      <td>0.002128</td>\n      <td>641</td>\n      <td>0</td>\n      <td>1</td>\n      <td>1.000000e+08</td>\n    </tr>\n    <tr>\n      <th>2050983</th>\n      <td>3HsKgPcBZX8LhzAZLbY5yEAvSeJVhe1hyp</td>\n      <td>2016</td>\n      <td>195</td>\n      <td>2</td>\n      <td>0.250000</td>\n      <td>1</td>\n      <td>0</td>\n      <td>1</td>\n      <td>1.818900e+08</td>\n    </tr>\n    <tr>\n      <th>1308993</th>\n      <td>1BBiuoy7bYaaMkCQNw9TJaM829PrAvML4o</td>\n      <td>2014</td>\n      <td>183</td>\n      <td>14</td>\n      <td>0.125000</td>\n      <td>1</td>\n      <td>0</td>\n      <td>2</td>\n      <td>4.000000e+07</td>\n    </tr>\n    <tr>\n      <th>1327903</th>\n      <td>1vTKvyRX2JUHJc37vjMjiG5q9qmuPBfsG</td>\n      <td>2014</td>\n      <td>202</td>\n      <td>22</td>\n      <td>1.000000</td>\n      <td>1</td>\n      <td>0</td>\n      <td>2</td>\n      <td>4.270780e+08</td>\n    </tr>\n    <tr>\n      <th>762993</th>\n      <td>12aPhUHp4MVEPc94SsoASkEeJXnZmK8sHZ</td>\n      <td>2013</td>\n      <td>2</td>\n      <td>14</td>\n      <td>0.003906</td>\n      <td>1</td>\n      <td>0</td>\n      <td>1</td>\n      <td>1.033284e+08</td>\n    </tr>\n    <tr>\n      <th>...</th>\n      <td>...</td>\n      <td>...</td>\n      <td>...</td>\n      <td>...</td>\n      <td>...</td>\n      <td>...</td>\n      <td>...</td>\n      <td>...</td>\n      <td>...</td>\n    </tr>\n    <tr>\n      <th>2827069</th>\n      <td>3F2ndcScfjb3qQUGer3AEFCRgiPdVctJ3K</td>\n      <td>2018</td>\n      <td>241</td>\n      <td>144</td>\n      <td>1.544710</td>\n      <td>5637</td>\n      <td>5625</td>\n      <td>2</td>\n      <td>2.093145e+08</td>\n    </tr>\n    <tr>\n      <th>2695959</th>\n      <td>3DY52Fau1HC1zK2TU7ShyzVqVKhhhTEHvs</td>\n      <td>2018</td>\n      <td>110</td>\n      <td>92</td>\n      <td>0.000003</td>\n      <td>1</td>\n      <td>0</td>\n      <td>2</td>\n      <td>1.632521e+09</td>\n    </tr>\n    <tr>\n      <th>159013</th>\n      <td>1HN2ijH7JECUkwvmGHZWmApfZEm3KP1SRh</td>\n      <td>2011</td>\n      <td>128</td>\n      <td>12</td>\n      <td>0.007812</td>\n      <td>1</td>\n      <td>0</td>\n      <td>1</td>\n      <td>8.150000e+08</td>\n    </tr>\n    <tr>\n      <th>1048336</th>\n      <td>1Km6v9iejV2Dv5Q1WcD8NfxQuekqNv1brC</td>\n      <td>2013</td>\n      <td>287</td>\n      <td>6</td>\n      <td>0.312500</td>\n      <td>3</td>\n      <td>0</td>\n      <td>2</td>\n      <td>2.000000e+08</td>\n    </tr>\n    <tr>\n      <th>1505724</th>\n      <td>1KasizAg9PNALw6hUZy7WKgkUcaf9DghbV</td>\n      <td>2015</td>\n      <td>15</td>\n      <td>144</td>\n      <td>0.398461</td>\n      <td>2284</td>\n      <td>0</td>\n      <td>2</td>\n      <td>9.825900e+08</td>\n    </tr>\n  </tbody>\n</table>\n<p>561463 rows × 9 columns</p>\n</div>"
     },
     "execution_count": 401,
     "metadata": {},
     "output_type": "execute_result"
    }
   ],
   "source": [
    "X_train"
   ],
   "metadata": {
    "collapsed": false,
    "pycharm": {
     "name": "#%%\n"
    }
   }
  },
  {
   "cell_type": "code",
   "execution_count": 402,
   "id": "d2cfaced",
   "metadata": {
    "ExecuteTime": {
     "end_time": "2022-07-28T13:02:29.169697Z",
     "start_time": "2022-07-28T13:02:29.003778Z"
    },
    "pycharm": {
     "name": "#%%\n"
    }
   },
   "outputs": [
    {
     "data": {
      "text/plain": "ColumnTransformer(remainder='passthrough',\n                  transformers=[('standardize', StandardScaler(),\n                                 ['bc_income', 'bc_length', 'yeo_weight',\n                                  'logbc_n_address', 'bc_neighbors',\n                                  'sig_looped', 'log_count']),\n                                ('encode', OneHotEncoder(dtype=<class 'int'>),\n                                 ['day_of_week'])],\n                  verbose_feature_names_out=False)",
      "text/html": "<style>#sk-container-id-4 {color: black;background-color: white;}#sk-container-id-4 pre{padding: 0;}#sk-container-id-4 div.sk-toggleable {background-color: white;}#sk-container-id-4 label.sk-toggleable__label {cursor: pointer;display: block;width: 100%;margin-bottom: 0;padding: 0.3em;box-sizing: border-box;text-align: center;}#sk-container-id-4 label.sk-toggleable__label-arrow:before {content: \"▸\";float: left;margin-right: 0.25em;color: #696969;}#sk-container-id-4 label.sk-toggleable__label-arrow:hover:before {color: black;}#sk-container-id-4 div.sk-estimator:hover label.sk-toggleable__label-arrow:before {color: black;}#sk-container-id-4 div.sk-toggleable__content {max-height: 0;max-width: 0;overflow: hidden;text-align: left;background-color: #f0f8ff;}#sk-container-id-4 div.sk-toggleable__content pre {margin: 0.2em;color: black;border-radius: 0.25em;background-color: #f0f8ff;}#sk-container-id-4 input.sk-toggleable__control:checked~div.sk-toggleable__content {max-height: 200px;max-width: 100%;overflow: auto;}#sk-container-id-4 input.sk-toggleable__control:checked~label.sk-toggleable__label-arrow:before {content: \"▾\";}#sk-container-id-4 div.sk-estimator input.sk-toggleable__control:checked~label.sk-toggleable__label {background-color: #d4ebff;}#sk-container-id-4 div.sk-label input.sk-toggleable__control:checked~label.sk-toggleable__label {background-color: #d4ebff;}#sk-container-id-4 input.sk-hidden--visually {border: 0;clip: rect(1px 1px 1px 1px);clip: rect(1px, 1px, 1px, 1px);height: 1px;margin: -1px;overflow: hidden;padding: 0;position: absolute;width: 1px;}#sk-container-id-4 div.sk-estimator {font-family: monospace;background-color: #f0f8ff;border: 1px dotted black;border-radius: 0.25em;box-sizing: border-box;margin-bottom: 0.5em;}#sk-container-id-4 div.sk-estimator:hover {background-color: #d4ebff;}#sk-container-id-4 div.sk-parallel-item::after {content: \"\";width: 100%;border-bottom: 1px solid gray;flex-grow: 1;}#sk-container-id-4 div.sk-label:hover label.sk-toggleable__label {background-color: #d4ebff;}#sk-container-id-4 div.sk-serial::before {content: \"\";position: absolute;border-left: 1px solid gray;box-sizing: border-box;top: 0;bottom: 0;left: 50%;z-index: 0;}#sk-container-id-4 div.sk-serial {display: flex;flex-direction: column;align-items: center;background-color: white;padding-right: 0.2em;padding-left: 0.2em;position: relative;}#sk-container-id-4 div.sk-item {position: relative;z-index: 1;}#sk-container-id-4 div.sk-parallel {display: flex;align-items: stretch;justify-content: center;background-color: white;position: relative;}#sk-container-id-4 div.sk-item::before, #sk-container-id-4 div.sk-parallel-item::before {content: \"\";position: absolute;border-left: 1px solid gray;box-sizing: border-box;top: 0;bottom: 0;left: 50%;z-index: -1;}#sk-container-id-4 div.sk-parallel-item {display: flex;flex-direction: column;z-index: 1;position: relative;background-color: white;}#sk-container-id-4 div.sk-parallel-item:first-child::after {align-self: flex-end;width: 50%;}#sk-container-id-4 div.sk-parallel-item:last-child::after {align-self: flex-start;width: 50%;}#sk-container-id-4 div.sk-parallel-item:only-child::after {width: 0;}#sk-container-id-4 div.sk-dashed-wrapped {border: 1px dashed gray;margin: 0 0.4em 0.5em 0.4em;box-sizing: border-box;padding-bottom: 0.4em;background-color: white;}#sk-container-id-4 div.sk-label label {font-family: monospace;font-weight: bold;display: inline-block;line-height: 1.2em;}#sk-container-id-4 div.sk-label-container {text-align: center;}#sk-container-id-4 div.sk-container {/* jupyter's `normalize.less` sets `[hidden] { display: none; }` but bootstrap.min.css set `[hidden] { display: none !important; }` so we also need the `!important` here to be able to override the default hidden behavior on the sphinx rendered scikit-learn.org. See: https://github.com/scikit-learn/scikit-learn/issues/21755 */display: inline-block !important;position: relative;}#sk-container-id-4 div.sk-text-repr-fallback {display: none;}</style><div id=\"sk-container-id-4\" class=\"sk-top-container\"><div class=\"sk-text-repr-fallback\"><pre>ColumnTransformer(remainder=&#x27;passthrough&#x27;,\n                  transformers=[(&#x27;standardize&#x27;, StandardScaler(),\n                                 [&#x27;bc_income&#x27;, &#x27;bc_length&#x27;, &#x27;yeo_weight&#x27;,\n                                  &#x27;logbc_n_address&#x27;, &#x27;bc_neighbors&#x27;,\n                                  &#x27;sig_looped&#x27;, &#x27;log_count&#x27;]),\n                                (&#x27;encode&#x27;, OneHotEncoder(dtype=&lt;class &#x27;int&#x27;&gt;),\n                                 [&#x27;day_of_week&#x27;])],\n                  verbose_feature_names_out=False)</pre><b>In a Jupyter environment, please rerun this cell to show the HTML representation or trust the notebook. <br />On GitHub, the HTML representation is unable to render, please try loading this page with nbviewer.org.</b></div><div class=\"sk-container\" hidden><div class=\"sk-item sk-dashed-wrapped\"><div class=\"sk-label-container\"><div class=\"sk-label sk-toggleable\"><input class=\"sk-toggleable__control sk-hidden--visually\" id=\"sk-estimator-id-22\" type=\"checkbox\" ><label for=\"sk-estimator-id-22\" class=\"sk-toggleable__label sk-toggleable__label-arrow\">ColumnTransformer</label><div class=\"sk-toggleable__content\"><pre>ColumnTransformer(remainder=&#x27;passthrough&#x27;,\n                  transformers=[(&#x27;standardize&#x27;, StandardScaler(),\n                                 [&#x27;bc_income&#x27;, &#x27;bc_length&#x27;, &#x27;yeo_weight&#x27;,\n                                  &#x27;logbc_n_address&#x27;, &#x27;bc_neighbors&#x27;,\n                                  &#x27;sig_looped&#x27;, &#x27;log_count&#x27;]),\n                                (&#x27;encode&#x27;, OneHotEncoder(dtype=&lt;class &#x27;int&#x27;&gt;),\n                                 [&#x27;day_of_week&#x27;])],\n                  verbose_feature_names_out=False)</pre></div></div></div><div class=\"sk-parallel\"><div class=\"sk-parallel-item\"><div class=\"sk-item\"><div class=\"sk-label-container\"><div class=\"sk-label sk-toggleable\"><input class=\"sk-toggleable__control sk-hidden--visually\" id=\"sk-estimator-id-23\" type=\"checkbox\" ><label for=\"sk-estimator-id-23\" class=\"sk-toggleable__label sk-toggleable__label-arrow\">standardize</label><div class=\"sk-toggleable__content\"><pre>[&#x27;bc_income&#x27;, &#x27;bc_length&#x27;, &#x27;yeo_weight&#x27;, &#x27;logbc_n_address&#x27;, &#x27;bc_neighbors&#x27;, &#x27;sig_looped&#x27;, &#x27;log_count&#x27;]</pre></div></div></div><div class=\"sk-serial\"><div class=\"sk-item\"><div class=\"sk-estimator sk-toggleable\"><input class=\"sk-toggleable__control sk-hidden--visually\" id=\"sk-estimator-id-24\" type=\"checkbox\" ><label for=\"sk-estimator-id-24\" class=\"sk-toggleable__label sk-toggleable__label-arrow\">StandardScaler</label><div class=\"sk-toggleable__content\"><pre>StandardScaler()</pre></div></div></div></div></div></div><div class=\"sk-parallel-item\"><div class=\"sk-item\"><div class=\"sk-label-container\"><div class=\"sk-label sk-toggleable\"><input class=\"sk-toggleable__control sk-hidden--visually\" id=\"sk-estimator-id-25\" type=\"checkbox\" ><label for=\"sk-estimator-id-25\" class=\"sk-toggleable__label sk-toggleable__label-arrow\">encode</label><div class=\"sk-toggleable__content\"><pre>[&#x27;day_of_week&#x27;]</pre></div></div></div><div class=\"sk-serial\"><div class=\"sk-item\"><div class=\"sk-estimator sk-toggleable\"><input class=\"sk-toggleable__control sk-hidden--visually\" id=\"sk-estimator-id-26\" type=\"checkbox\" ><label for=\"sk-estimator-id-26\" class=\"sk-toggleable__label sk-toggleable__label-arrow\">OneHotEncoder</label><div class=\"sk-toggleable__content\"><pre>OneHotEncoder(dtype=&lt;class &#x27;int&#x27;&gt;)</pre></div></div></div></div></div></div><div class=\"sk-parallel-item\"><div class=\"sk-item\"><div class=\"sk-label-container\"><div class=\"sk-label sk-toggleable\"><input class=\"sk-toggleable__control sk-hidden--visually\" id=\"sk-estimator-id-27\" type=\"checkbox\" ><label for=\"sk-estimator-id-27\" class=\"sk-toggleable__label sk-toggleable__label-arrow\">remainder</label><div class=\"sk-toggleable__content\"><pre>[&#x27;address&#x27;, &#x27;year&#x27;, &#x27;day&#x27;]</pre></div></div></div><div class=\"sk-serial\"><div class=\"sk-item\"><div class=\"sk-estimator sk-toggleable\"><input class=\"sk-toggleable__control sk-hidden--visually\" id=\"sk-estimator-id-28\" type=\"checkbox\" ><label for=\"sk-estimator-id-28\" class=\"sk-toggleable__label sk-toggleable__label-arrow\">passthrough</label><div class=\"sk-toggleable__content\"><pre>passthrough</pre></div></div></div></div></div></div></div></div></div></div>"
     },
     "execution_count": 402,
     "metadata": {},
     "output_type": "execute_result"
    }
   ],
   "source": [
    "# transform the data for use in distance based modeling algorithms [logistic regression]\n",
    "transformer = ColumnTransformer(\n",
    "    [('standardize', StandardScaler(), col_names_standardize),\n",
    "    ('encode', OneHotEncoder(dtype=int), col_names_encode)],\n",
    "    remainder = 'passthrough',\n",
    "     verbose_feature_names_out=False)\n",
    "\n",
    "transformer.fit(X_train_d)"
   ]
  },
  {
   "cell_type": "code",
   "execution_count": 403,
   "id": "6438ec98",
   "metadata": {
    "ExecuteTime": {
     "end_time": "2022-07-28T13:02:29.295782Z",
     "start_time": "2022-07-28T13:02:29.170548Z"
    },
    "pycharm": {
     "name": "#%%\n"
    }
   },
   "outputs": [],
   "source": [
    "# std. transformed and encoded variables (np arrays)\n",
    "X_train_e = transformer.transform(X_train_d)\n",
    "X_test_e  = transformer.transform(X_test_d)\n",
    "# std. transformed and encoded variables (df with verbose headers)\n",
    "\n",
    "X_train_e_df = pd.DataFrame(X_train_e,columns=transformer.get_feature_names_out())\n",
    "X_test_e_df = pd.DataFrame(X_test_e,columns=transformer.get_feature_names_out())"
   ]
  },
  {
   "cell_type": "code",
   "execution_count": 403,
   "outputs": [],
   "source": [],
   "metadata": {
    "collapsed": false,
    "pycharm": {
     "name": "#%%\n"
    }
   }
  },
  {
   "cell_type": "code",
   "execution_count": 404,
   "id": "8239c7d0",
   "metadata": {
    "ExecuteTime": {
     "end_time": "2022-07-28T13:02:29.298463Z",
     "start_time": "2022-07-28T13:02:29.296655Z"
    },
    "pycharm": {
     "name": "#%%\n"
    }
   },
   "outputs": [],
   "source": [
    "if SAVE_TEST_TRAIN == True:\n",
    "    with open('encoded'+fname, 'wb') as save_file:\n",
    "        pickle.dump([X_train, y_train, X_test, y_test], save_file)\n"
   ]
  },
  {
   "cell_type": "markdown",
   "source": [
    "# 3.0 Resampling"
   ],
   "metadata": {
    "collapsed": false,
    "pycharm": {
     "name": "#%% md\n"
    }
   }
  },
  {
   "cell_type": "code",
   "execution_count": 405,
   "outputs": [
    {
     "name": "stdout",
     "output_type": "stream",
     "text": [
      "Training set has 561463 rows and 9 columns.\n",
      "Testing set has 167711 rows and 9 columns.\n",
      "Training set has 7782 points that belong to postitive class (ransomware) and 553681 points that belong to negative class (white).\n",
      "Percentage of positive class data-points: 1.39%\n"
     ]
    }
   ],
   "source": [
    "print('Training set has {} rows and {} columns.'.format(X_train.shape[0], X_train.shape[1]))\n",
    "print('Testing set has {} rows and {} columns.'.format(X_test.shape[0], X_test.shape[1]))\n",
    "print('Training set has {} points that belong to postitive class (ransomware) and {} points that belong to negative class (white).'.format(\n",
    "    sum(y_train['labels']),\n",
    "    len(y_train['labels']) - sum(y_train['labels'])\n",
    "))\n",
    "print('Percentage of positive class data-points: {:.2f}%'.format((sum(y_train['labels'])/(len(y_train['labels'])) * 100)))"
   ],
   "metadata": {
    "collapsed": false,
    "pycharm": {
     "name": "#%%\n"
    }
   }
  },
  {
   "cell_type": "markdown",
   "source": [
    "## 2.1 Sampling"
   ],
   "metadata": {
    "collapsed": false,
    "pycharm": {
     "name": "#%% md\n"
    }
   }
  },
  {
   "cell_type": "code",
   "execution_count": 406,
   "outputs": [],
   "source": [
    "from imblearn.over_sampling import SMOTE\n"
   ],
   "metadata": {
    "collapsed": false,
    "pycharm": {
     "name": "#%%\n"
    }
   }
  },
  {
   "cell_type": "markdown",
   "source": [
    "### 2.1.0 Downsampling"
   ],
   "metadata": {
    "collapsed": false,
    "pycharm": {
     "name": "#%% md\n"
    }
   }
  },
  {
   "cell_type": "code",
   "execution_count": 407,
   "outputs": [],
   "source": [
    "class Sampler:\n",
    "\n",
    "    def __init__(self,X):\n",
    "        self.X_df = pd.DataFrame(X)\n",
    "        self.positive_df = pd.DataFrame([], columns = self.X_df.columns)\n",
    "        self.negative_df = pd.DataFrame([], columns = self.X_df.columns)\n",
    "        self.combined_df = pd.DataFrame([], columns = self.X_df.columns)\n",
    "        self.X_train_sm =  pd.DataFrame([], columns = self.X_df.columns)\n",
    "        self.y_train_sm =  pd.DataFrame([], columns = ['lables'])\n",
    "        self.X_train_rus = pd.DataFrame([], columns = self.X_df.columns)\n",
    "        self.y_train_rus =  pd.DataFrame([], columns = ['lables'])\n",
    "\n",
    "\n",
    "\n",
    "    def up_samp_smote(self, X_train, y_train, ratio):\n",
    "        \"\"\"Upsamples minority class using SMOTE.\n",
    "        Ratio argument is the percentage of the upsampled minority class in relation\n",
    "        to the majority class.\n",
    "        \"\"\"\n",
    "        sm = SMOTE(random_state=RAND_STATE, sampling_strategy=ratio)\n",
    "        X_train_sm, y_train_sm = sm.fit_resample(X_train, y_train)\n",
    "        #print(len(X_train_sm), len(y_train_sm))\n",
    "        self.X_train_sm, self.y_train_sm = X_train_sm, y_train_sm\n",
    "\n",
    "\n",
    "    def down_samp_rand(self, X_train, y_train, ratio):\n",
    "        \"\"\"Downsamples majority class using random sampling.\n",
    "        Ratio argument is the ratio of minority class to the downsampled majority\n",
    "        \"\"\"\n",
    "        rus = RandomUnderSampler(sampling_strategy=ratio,random_state=RAND_STATE)\n",
    "        X_train_rus, y_train_rus = rus.fit_resample(X_train, y_train)\n",
    "        self.X_train_rus, self.y_train_rus = X_train_rus, y_train_rus\n",
    "\n",
    "\n",
    "    def down_samp(self, y_train, prob=0.015):\n",
    "        index = 0\n",
    "\n",
    "        for index_df, row in tqdm(self.X_df.iterrows(), total=self.X_df.shape[0]):\n",
    "            if y_train[index] == 0:\n",
    "                if np.random.uniform(0, 1) < prob:\n",
    "                    #picking negative class with a probability=prob\n",
    "                    self.negative_df = self.negative_df.append(row, ignore_index=True)\n",
    "                    index += 1\n",
    "                else:\n",
    "                    index += 1\n",
    "            elif y_train[index] == 1:\n",
    "            #picking all positive data-points\n",
    "                self.positive_df = self.positive_df.append(row, ignore_index=True)\n",
    "                index += 1\n",
    "        self.combined_df = self.positive_df.append(self.negative_df, ignore_index = True)"
   ],
   "metadata": {
    "collapsed": false,
    "pycharm": {
     "name": "#%%\n"
    }
   }
  },
  {
   "cell_type": "markdown",
   "source": [
    "**e_ds** <n>\n",
    "- Encoded, standard scaled, and normalized data.\n",
    "- Split of X_train_e [standardized, encoded] without column headers."
   ],
   "metadata": {
    "collapsed": false,
    "pycharm": {
     "name": "#%% md\n"
    }
   }
  },
  {
   "cell_type": "code",
   "execution_count": 408,
   "outputs": [],
   "source": [
    "X_train_e_df.drop(columns=['address'],axis=1,inplace=True)"
   ],
   "metadata": {
    "collapsed": false,
    "pycharm": {
     "name": "#%%\n"
    }
   }
  },
  {
   "cell_type": "code",
   "execution_count": 409,
   "outputs": [],
   "source": [
    "# Create a sample object\n",
    "e_ds = Sampler(X_train_e_df)"
   ],
   "metadata": {
    "collapsed": false,
    "pycharm": {
     "name": "#%%\n"
    }
   }
  },
  {
   "cell_type": "code",
   "execution_count": 410,
   "outputs": [],
   "source": [
    "e_ds.down_samp_rand(X_train_e_df, y_train['labels'], 0.05) # downsample using random resampling"
   ],
   "metadata": {
    "collapsed": false,
    "pycharm": {
     "name": "#%%\n"
    }
   }
  },
  {
   "cell_type": "code",
   "execution_count": 411,
   "outputs": [],
   "source": [
    "e_ds.up_samp_smote(e_ds.X_train_rus, e_ds.y_train_rus, 0.25) # upsampling using SMOTE"
   ],
   "metadata": {
    "collapsed": false,
    "pycharm": {
     "name": "#%%\n"
    }
   }
  },
  {
   "cell_type": "code",
   "execution_count": 412,
   "outputs": [],
   "source": [
    "READ_STATE = False"
   ],
   "metadata": {
    "collapsed": false,
    "pycharm": {
     "name": "#%%\n"
    }
   }
  },
  {
   "cell_type": "markdown",
   "source": [
    "# 4.0 Modeling"
   ],
   "metadata": {
    "collapsed": false,
    "pycharm": {
     "name": "#%% md\n"
    }
   }
  },
  {
   "cell_type": "code",
   "execution_count": 414,
   "outputs": [],
   "source": [
    "def plot_roc(model, X, y, plot_title):\n",
    "    plot_roc_curve(model, X, y)\n",
    "    plt.title(plot_title)\n",
    "    plt.plot(np.arange(0, 1.1, 0.1), np.arange(0, 1.1, 0.1), label='RandomModel (AUC = 0.50)')\n",
    "    plt.legend()\n",
    "    plt.show()\n",
    "\n",
    "\n",
    "def confusion_mat(y, y_pred):\n",
    "    cf_matrix = confusion_matrix(y, y_pred)\n",
    "    group_names = ['True Neg', 'False Pos', 'False Neg', 'True Pos']\n",
    "    group_counts = ['{0:0.0f}'.format(value) for value in cf_matrix.flatten()]\n",
    "    group_percentages = ['{0:.2%}'.format(value) for value in cf_matrix.flatten() / np.sum(cf_matrix)]\n",
    "    labels = [f'{v1}\\n{v2}\\n{v3}' for v1, v2, v3 in zip(group_names, group_counts, group_percentages)]\n",
    "    labels = np.asarray(labels).reshape(2, 2)\n",
    "    sns.heatmap(cf_matrix, annot=labels, fmt='', cmap='Reds')\n",
    "\n",
    "\n",
    "def tabulate_scores_df(model_name, y_test, y_pred):\n",
    "    df2 = pd.DataFrame([[\n",
    "        model_name,\n",
    "        accuracy_score(y_true=y_test, y_pred=y_pred),\n",
    "        precision_score(y_true=y_test, y_pred=y_pred),\n",
    "        recall_score(y_true=y_test, y_pred=y_pred),\n",
    "        f1_score(y_true=y_test, y_pred=y_pred)]],\n",
    "        columns=['Type', 'Accuracy', 'Precision', 'Recall', 'F1-Score'])\n",
    "\n",
    "    return df2\n"
   ],
   "metadata": {
    "collapsed": false,
    "pycharm": {
     "name": "#%%\n"
    }
   }
  },
  {
   "cell_type": "code",
   "execution_count": 521,
   "outputs": [],
   "source": [
    "class Model:\n",
    "    def __init__(self, x_tr, y_tr, X_tr, X_tst, routine, params, classifier, crss_vldtr=None):\n",
    "        '''Model'''\n",
    "        self.classifier = classifier\n",
    "        self.X_tst = X_tst\n",
    "\n",
    "\n",
    "        #  randomized search on hyper parameters\n",
    "        search = RandomizedSearchCV(\n",
    "            estimator = routine,\n",
    "            param_distributions = params,\n",
    "            scoring = 'accuracy',\n",
    "            cv = crss_vldtr,\n",
    "            n_jobs = -1,\n",
    "            verbose = 1,\n",
    "            random_state = RAND_STATE,\n",
    "            return_train_score = True,\n",
    "            n_iter = 5\n",
    "        )\n",
    "        if READ_STATE == True:\n",
    "            tag = input('Enter head of parameter file to read')\n",
    "            rf_hps_fname = tag + '_bestparams_sm_e_05.csv'\n",
    "            print('reading file ', rf_hps_fname)\n",
    "            bps = pd.read_csv(rf_hps_fname, index_col=False).to_dict('list')\n",
    "            bps.pop('Unnamed: 0')\n",
    "            ks = [k for k in bps.keys()]\n",
    "            vs = [v[0] for v in bps.values()]\n",
    "            self.best_params = dict( zip(ks,vs) )\n",
    "        else:\n",
    "            search.fit(x_tr, y_tr)\n",
    "            self.best_params = search.best_params_\n",
    "\n",
    "        print(self.best_params)\n",
    "        tuned = classifier(**self.best_params,# n_jobs = -1,\n",
    "                            random_state = RAND_STATE)\n",
    "        self.tuned = tuned\n",
    "        # fit\n",
    "        tuned.fit(x_tr, y_tr)\n",
    "        # predict\n",
    "        self.preds_train = tuned.predict(X_tr)\n",
    "        self.preds_test  = tuned.predict(X_tst)\n",
    "        self.params      = tuned.get_params()\n",
    "\n",
    "    def score(self,y_tr,y_tst):\n",
    "        trn_score_df = tabulate_scores_df('trn', y_tr, self.preds_train)\n",
    "        tst_score_df = tabulate_scores_df('tst', y_tst, self.preds_test)\n",
    "        score_df = trn_score_df.append(tst_score_df)\n",
    "        return score_df\n",
    "\n",
    "    def roc(self, y_tst, title):\n",
    "        plot_roc(self.tuned, self.X_tst,y_tst, title)\n",
    "\n",
    "    def conf_mat(self, y_tr, y_tst):\n",
    "        plt.figure(figsize=(15,7))\n",
    "\n",
    "        plt.subplot(1,2,1) # first heatmap\n",
    "        confusion_mat(y_tr, self.preds_train)\n",
    "\n",
    "        plt.subplot(1,2,2) # first heatmap\n",
    "        confusion_mat(y_test, self.preds_test)\n",
    "\n",
    "        plt.show()\n",
    "\n",
    "    def feature_imps(self,colnames):\n",
    "        feat_ranks_df = pd.DataFrame(np.ravel(self.tuned.feature_importances_), index=colnames)\n",
    "        feat_ranks_df.columns = ['feature importance']\n",
    "        feat_ranks_df.sort_values(by='feature importance', ascending=False)\n",
    "        return feat_ranks_df"
   ],
   "metadata": {
    "collapsed": false,
    "pycharm": {
     "name": "#%%\n"
    }
   }
  },
  {
   "cell_type": "code",
   "execution_count": 417,
   "outputs": [],
   "source": [
    "from collections import Counter\n",
    "counter = Counter(y_train['labels'])\n",
    "estimate = np.sqrt(counter[0] / counter[1])"
   ],
   "metadata": {
    "collapsed": false,
    "pycharm": {
     "name": "#%%\n"
    }
   }
  },
  {
   "cell_type": "code",
   "execution_count": 419,
   "outputs": [],
   "source": [
    "from sklearn.svm import LinearSVC"
   ],
   "metadata": {
    "collapsed": false,
    "pycharm": {
     "name": "#%%\n"
    }
   }
  },
  {
   "cell_type": "code",
   "execution_count": 420,
   "outputs": [],
   "source": [
    "models = {\n",
    "    \"sgd\": { \"estimater\": SGDClassifier(),\n",
    "             \"params\": {\n",
    "                 \"loss\" : [ \"log_loss\", \"perceptron\"],\n",
    "                 \"alpha\" : [0.0001, 0.001, 0.01, 0.1],\n",
    "                 \"penalty\" : [\"l2\", \"l1\", \"elasticnet\"],\n",
    "                 \"class_weight\" : ['balanced', None],}\n",
    "             },\n",
    "    \"rf\": { \"estimater\": RandomForestClassifier(),\n",
    "            \"params\": {\n",
    "                'max_depth' : [2,5,10,15],\n",
    "                'n_estimators' : [100, 500, 1000],\n",
    "                \"class_weight\" : ['balanced', None],}\n",
    "            },\n",
    "    \"xgb\": {\"estimater\": XGBClassifier(),\n",
    "            \"params\": {\n",
    "                'n_estimators': stats.randint(150, 1000),\n",
    "                'learning_rate': stats.uniform(0.01, 0.59),\n",
    "                'subsample': stats.uniform(0.3, 0.6),\n",
    "                'max_depth': [3, 4, 5, 6, 7],\n",
    "                'colsample_bytree': stats.uniform(0.5, 0.4),\n",
    "                'scale_pos_weight' : stats.uniform(estimate,estimate**2),\n",
    "                'min_child_weight': [1, 2, 3, 4],}\n",
    "            },\n",
    "    \"lsvc\": { \"estimater\": LinearSVC(),\n",
    "              \"params\": { }\n",
    "              },\n",
    "    \"svc\": { \"estimater\": SVC(),\n",
    "             \"params\": {\n",
    "                 'C': [0.1,1, 10, 100, 1000],\n",
    "                 'gamma': [1,0.1,0.01,0.001,0.0001],\n",
    "                 'kernel': ['rbf'],}\n",
    "             }\n",
    "}"
   ],
   "metadata": {
    "collapsed": false,
    "pycharm": {
     "name": "#%%\n"
    }
   }
  },
  {
   "cell_type": "code",
   "execution_count": 421,
   "outputs": [],
   "source": [
    "X_test_e_df.drop(columns=['address'],axis=1,inplace=True)"
   ],
   "metadata": {
    "collapsed": false,
    "pycharm": {
     "name": "#%%\n"
    }
   }
  },
  {
   "cell_type": "code",
   "execution_count": 422,
   "outputs": [
    {
     "name": "stdout",
     "output_type": "stream",
     "text": [
      "Fitting 5 folds for each of 5 candidates, totalling 25 fits\n",
      "{'penalty': 'l1', 'loss': 'perceptron', 'class_weight': 'balanced', 'alpha': 0.1}\n"
     ]
    },
    {
     "data": {
      "text/plain": "{'alpha': 0.1,\n 'average': False,\n 'class_weight': 'balanced',\n 'early_stopping': False,\n 'epsilon': 0.1,\n 'eta0': 0.0,\n 'fit_intercept': True,\n 'l1_ratio': 0.15,\n 'learning_rate': 'optimal',\n 'loss': 'perceptron',\n 'max_iter': 1000,\n 'n_iter_no_change': 5,\n 'n_jobs': None,\n 'penalty': 'l1',\n 'power_t': 0.5,\n 'random_state': 42,\n 'shuffle': True,\n 'tol': 0.001,\n 'validation_fraction': 0.1,\n 'verbose': 0,\n 'warm_start': False}"
     },
     "execution_count": 422,
     "metadata": {},
     "output_type": "execute_result"
    }
   ],
   "source": [
    "# Create model\n",
    "sgd_cl = SGDClassifier(random_state=RAND_STATE, max_iter=3000, learning_rate='optimal')\n",
    "sgd_params_in = {\n",
    "    \"loss\": [\"log_loss\", \"perceptron\"],\n",
    "    \"alpha\": [0.0001, 0.001, 0.01, 0.1],\n",
    "    \"penalty\": [\"l2\", \"l1\", \"elasticnet\"],\n",
    "    \"class_weight\": ['balanced', None]\n",
    "}\n",
    "sgd = Model(\n",
    "    e_ds.X_train_sm, e_ds.y_train_sm,\n",
    "    X_train_e_df, X_test_e_df,\n",
    "    sgd_cl, sgd_params_in, SGDClassifier)\n",
    "sgd.params"
   ],
   "metadata": {
    "collapsed": false,
    "pycharm": {
     "name": "#%%\n"
    }
   }
  },
  {
   "cell_type": "code",
   "execution_count": 423,
   "outputs": [
    {
     "data": {
      "text/plain": "  Type  Accuracy  Precision    Recall  F1-Score\n0  trn  0.924273   0.084895  0.456438  0.143162\n0  tst  0.952561   0.121012  0.386667  0.184335",
      "text/html": "<div>\n<style scoped>\n    .dataframe tbody tr th:only-of-type {\n        vertical-align: middle;\n    }\n\n    .dataframe tbody tr th {\n        vertical-align: top;\n    }\n\n    .dataframe thead th {\n        text-align: right;\n    }\n</style>\n<table border=\"1\" class=\"dataframe\">\n  <thead>\n    <tr style=\"text-align: right;\">\n      <th></th>\n      <th>Type</th>\n      <th>Accuracy</th>\n      <th>Precision</th>\n      <th>Recall</th>\n      <th>F1-Score</th>\n    </tr>\n  </thead>\n  <tbody>\n    <tr>\n      <th>0</th>\n      <td>trn</td>\n      <td>0.924273</td>\n      <td>0.084895</td>\n      <td>0.456438</td>\n      <td>0.143162</td>\n    </tr>\n    <tr>\n      <th>0</th>\n      <td>tst</td>\n      <td>0.952561</td>\n      <td>0.121012</td>\n      <td>0.386667</td>\n      <td>0.184335</td>\n    </tr>\n  </tbody>\n</table>\n</div>"
     },
     "execution_count": 423,
     "metadata": {},
     "output_type": "execute_result"
    }
   ],
   "source": [
    "sgd.score(y_train,y_test)"
   ],
   "metadata": {
    "collapsed": false,
    "pycharm": {
     "name": "#%%\n"
    }
   }
  },
  {
   "cell_type": "markdown",
   "source": [
    "Compare result to original features"
   ],
   "metadata": {
    "collapsed": false,
    "pycharm": {
     "name": "#%% md\n"
    }
   }
  },
  {
   "cell_type": "code",
   "execution_count": null,
   "outputs": [
    {
     "ename": "KeyboardInterrupt",
     "evalue": "",
     "output_type": "error",
     "traceback": [
      "\u001B[0;31m---------------------------------------------------------------------------\u001B[0m",
      "\u001B[0;31mKeyboardInterrupt\u001B[0m                         Traceback (most recent call last)",
      "Input \u001B[0;32mIn [524]\u001B[0m, in \u001B[0;36m<cell line: 9>\u001B[0;34m()\u001B[0m\n\u001B[1;32m      2\u001B[0m sgd_cl0 \u001B[38;5;241m=\u001B[39m SGDClassifier(random_state\u001B[38;5;241m=\u001B[39mRAND_STATE, max_iter\u001B[38;5;241m=\u001B[39m\u001B[38;5;241m4000\u001B[39m, learning_rate\u001B[38;5;241m=\u001B[39m\u001B[38;5;124m'\u001B[39m\u001B[38;5;124moptimal\u001B[39m\u001B[38;5;124m'\u001B[39m,n_jobs\u001B[38;5;241m=\u001B[39m\u001B[38;5;241m-\u001B[39m\u001B[38;5;241m1\u001B[39m)\n\u001B[1;32m      3\u001B[0m sgd_params_in \u001B[38;5;241m=\u001B[39m {\n\u001B[1;32m      4\u001B[0m     \u001B[38;5;124m\"\u001B[39m\u001B[38;5;124mloss\u001B[39m\u001B[38;5;124m\"\u001B[39m: [ \u001B[38;5;124m\"\u001B[39m\u001B[38;5;124mperceptron\u001B[39m\u001B[38;5;124m\"\u001B[39m],\n\u001B[1;32m      5\u001B[0m     \u001B[38;5;124m\"\u001B[39m\u001B[38;5;124malpha\u001B[39m\u001B[38;5;124m\"\u001B[39m: [ \u001B[38;5;241m0.1\u001B[39m],\n\u001B[1;32m      6\u001B[0m     \u001B[38;5;124m\"\u001B[39m\u001B[38;5;124mpenalty\u001B[39m\u001B[38;5;124m\"\u001B[39m: [\u001B[38;5;124m\"\u001B[39m\u001B[38;5;124ml2\u001B[39m\u001B[38;5;124m\"\u001B[39m, \u001B[38;5;124m\"\u001B[39m\u001B[38;5;124ml1\u001B[39m\u001B[38;5;124m\"\u001B[39m, \u001B[38;5;124m\"\u001B[39m\u001B[38;5;124melasticnet\u001B[39m\u001B[38;5;124m\"\u001B[39m],\n\u001B[1;32m      7\u001B[0m     \u001B[38;5;124m\"\u001B[39m\u001B[38;5;124mclass_weight\u001B[39m\u001B[38;5;124m\"\u001B[39m: [\u001B[38;5;124m'\u001B[39m\u001B[38;5;124mbalanced\u001B[39m\u001B[38;5;124m'\u001B[39m, \u001B[38;5;28;01mNone\u001B[39;00m]\n\u001B[1;32m      8\u001B[0m }\n\u001B[0;32m----> 9\u001B[0m sgd0 \u001B[38;5;241m=\u001B[39m \u001B[43mModel\u001B[49m\u001B[43m(\u001B[49m\n\u001B[1;32m     10\u001B[0m \u001B[43m    \u001B[49m\u001B[43mX_train\u001B[49m\u001B[38;5;241;43m.\u001B[39;49m\u001B[43mdrop\u001B[49m\u001B[43m(\u001B[49m\u001B[43mlabels\u001B[49m\u001B[38;5;241;43m=\u001B[39;49m\u001B[43m[\u001B[49m\u001B[38;5;124;43m'\u001B[39;49m\u001B[38;5;124;43maddress\u001B[39;49m\u001B[38;5;124;43m'\u001B[39;49m\u001B[43m]\u001B[49m\u001B[43m,\u001B[49m\u001B[43maxis\u001B[49m\u001B[38;5;241;43m=\u001B[39;49m\u001B[38;5;241;43m1\u001B[39;49m\u001B[43m)\u001B[49m\u001B[43m,\u001B[49m\u001B[43m \u001B[49m\u001B[43my_train\u001B[49m\u001B[43m[\u001B[49m\u001B[38;5;124;43m'\u001B[39;49m\u001B[38;5;124;43mlabels\u001B[39;49m\u001B[38;5;124;43m'\u001B[39;49m\u001B[43m]\u001B[49m\u001B[43m,\u001B[49m\n\u001B[1;32m     11\u001B[0m \u001B[43m    \u001B[49m\u001B[43mX_train\u001B[49m\u001B[38;5;241;43m.\u001B[39;49m\u001B[43mdrop\u001B[49m\u001B[43m(\u001B[49m\u001B[43mlabels\u001B[49m\u001B[38;5;241;43m=\u001B[39;49m\u001B[43m[\u001B[49m\u001B[38;5;124;43m'\u001B[39;49m\u001B[38;5;124;43maddress\u001B[39;49m\u001B[38;5;124;43m'\u001B[39;49m\u001B[43m]\u001B[49m\u001B[43m,\u001B[49m\u001B[43maxis\u001B[49m\u001B[38;5;241;43m=\u001B[39;49m\u001B[38;5;241;43m1\u001B[39;49m\u001B[43m)\u001B[49m\u001B[43m,\u001B[49m\u001B[43m \u001B[49m\u001B[43mX_test\u001B[49m\u001B[38;5;241;43m.\u001B[39;49m\u001B[43mdrop\u001B[49m\u001B[43m(\u001B[49m\u001B[43mlabels\u001B[49m\u001B[38;5;241;43m=\u001B[39;49m\u001B[43m[\u001B[49m\u001B[38;5;124;43m'\u001B[39;49m\u001B[38;5;124;43maddress\u001B[39;49m\u001B[38;5;124;43m'\u001B[39;49m\u001B[43m]\u001B[49m\u001B[43m,\u001B[49m\u001B[43maxis\u001B[49m\u001B[38;5;241;43m=\u001B[39;49m\u001B[38;5;241;43m1\u001B[39;49m\u001B[43m)\u001B[49m\u001B[43m,\u001B[49m\n\u001B[1;32m     12\u001B[0m \u001B[43m    \u001B[49m\u001B[43msgd_cl0\u001B[49m\u001B[43m,\u001B[49m\u001B[43m \u001B[49m\u001B[43msgd_params_in\u001B[49m\u001B[43m,\u001B[49m\u001B[43m \u001B[49m\u001B[43mSGDClassifier\u001B[49m\u001B[43m)\u001B[49m\n\u001B[1;32m     13\u001B[0m sgd0\u001B[38;5;241m.\u001B[39mparams\n",
      "Input \u001B[0;32mIn [521]\u001B[0m, in \u001B[0;36mModel.__init__\u001B[0;34m(self, x_tr, y_tr, X_tr, X_tst, routine, params, classifier, crss_vldtr)\u001B[0m\n\u001B[1;32m     28\u001B[0m     \u001B[38;5;28mself\u001B[39m\u001B[38;5;241m.\u001B[39mbest_params \u001B[38;5;241m=\u001B[39m \u001B[38;5;28mdict\u001B[39m( \u001B[38;5;28mzip\u001B[39m(ks,vs) )\n\u001B[1;32m     29\u001B[0m \u001B[38;5;28;01melse\u001B[39;00m:\n\u001B[0;32m---> 30\u001B[0m     \u001B[43msearch\u001B[49m\u001B[38;5;241;43m.\u001B[39;49m\u001B[43mfit\u001B[49m\u001B[43m(\u001B[49m\u001B[43mx_tr\u001B[49m\u001B[43m,\u001B[49m\u001B[43m \u001B[49m\u001B[43my_tr\u001B[49m\u001B[43m)\u001B[49m\n\u001B[1;32m     31\u001B[0m     \u001B[38;5;28mself\u001B[39m\u001B[38;5;241m.\u001B[39mbest_params \u001B[38;5;241m=\u001B[39m search\u001B[38;5;241m.\u001B[39mbest_params_\n\u001B[1;32m     33\u001B[0m \u001B[38;5;28mprint\u001B[39m(\u001B[38;5;28mself\u001B[39m\u001B[38;5;241m.\u001B[39mbest_params)\n",
      "File \u001B[0;32m~/.pyenv/versions/mambaforge-4.10.1-4/envs/ih_DA_env/lib/python3.9/site-packages/sklearn/model_selection/_search.py:875\u001B[0m, in \u001B[0;36mBaseSearchCV.fit\u001B[0;34m(self, X, y, groups, **fit_params)\u001B[0m\n\u001B[1;32m    869\u001B[0m     results \u001B[38;5;241m=\u001B[39m \u001B[38;5;28mself\u001B[39m\u001B[38;5;241m.\u001B[39m_format_results(\n\u001B[1;32m    870\u001B[0m         all_candidate_params, n_splits, all_out, all_more_results\n\u001B[1;32m    871\u001B[0m     )\n\u001B[1;32m    873\u001B[0m     \u001B[38;5;28;01mreturn\u001B[39;00m results\n\u001B[0;32m--> 875\u001B[0m \u001B[38;5;28;43mself\u001B[39;49m\u001B[38;5;241;43m.\u001B[39;49m\u001B[43m_run_search\u001B[49m\u001B[43m(\u001B[49m\u001B[43mevaluate_candidates\u001B[49m\u001B[43m)\u001B[49m\n\u001B[1;32m    877\u001B[0m \u001B[38;5;66;03m# multimetric is determined here because in the case of a callable\u001B[39;00m\n\u001B[1;32m    878\u001B[0m \u001B[38;5;66;03m# self.scoring the return type is only known after calling\u001B[39;00m\n\u001B[1;32m    879\u001B[0m first_test_score \u001B[38;5;241m=\u001B[39m all_out[\u001B[38;5;241m0\u001B[39m][\u001B[38;5;124m\"\u001B[39m\u001B[38;5;124mtest_scores\u001B[39m\u001B[38;5;124m\"\u001B[39m]\n",
      "File \u001B[0;32m~/.pyenv/versions/mambaforge-4.10.1-4/envs/ih_DA_env/lib/python3.9/site-packages/sklearn/model_selection/_search.py:1749\u001B[0m, in \u001B[0;36mRandomizedSearchCV._run_search\u001B[0;34m(self, evaluate_candidates)\u001B[0m\n\u001B[1;32m   1747\u001B[0m \u001B[38;5;28;01mdef\u001B[39;00m \u001B[38;5;21m_run_search\u001B[39m(\u001B[38;5;28mself\u001B[39m, evaluate_candidates):\n\u001B[1;32m   1748\u001B[0m     \u001B[38;5;124;03m\"\"\"Search n_iter candidates from param_distributions\"\"\"\u001B[39;00m\n\u001B[0;32m-> 1749\u001B[0m     \u001B[43mevaluate_candidates\u001B[49m\u001B[43m(\u001B[49m\n\u001B[1;32m   1750\u001B[0m \u001B[43m        \u001B[49m\u001B[43mParameterSampler\u001B[49m\u001B[43m(\u001B[49m\n\u001B[1;32m   1751\u001B[0m \u001B[43m            \u001B[49m\u001B[38;5;28;43mself\u001B[39;49m\u001B[38;5;241;43m.\u001B[39;49m\u001B[43mparam_distributions\u001B[49m\u001B[43m,\u001B[49m\u001B[43m \u001B[49m\u001B[38;5;28;43mself\u001B[39;49m\u001B[38;5;241;43m.\u001B[39;49m\u001B[43mn_iter\u001B[49m\u001B[43m,\u001B[49m\u001B[43m \u001B[49m\u001B[43mrandom_state\u001B[49m\u001B[38;5;241;43m=\u001B[39;49m\u001B[38;5;28;43mself\u001B[39;49m\u001B[38;5;241;43m.\u001B[39;49m\u001B[43mrandom_state\u001B[49m\n\u001B[1;32m   1752\u001B[0m \u001B[43m        \u001B[49m\u001B[43m)\u001B[49m\n\u001B[1;32m   1753\u001B[0m \u001B[43m    \u001B[49m\u001B[43m)\u001B[49m\n",
      "File \u001B[0;32m~/.pyenv/versions/mambaforge-4.10.1-4/envs/ih_DA_env/lib/python3.9/site-packages/sklearn/model_selection/_search.py:822\u001B[0m, in \u001B[0;36mBaseSearchCV.fit.<locals>.evaluate_candidates\u001B[0;34m(candidate_params, cv, more_results)\u001B[0m\n\u001B[1;32m    814\u001B[0m \u001B[38;5;28;01mif\u001B[39;00m \u001B[38;5;28mself\u001B[39m\u001B[38;5;241m.\u001B[39mverbose \u001B[38;5;241m>\u001B[39m \u001B[38;5;241m0\u001B[39m:\n\u001B[1;32m    815\u001B[0m     \u001B[38;5;28mprint\u001B[39m(\n\u001B[1;32m    816\u001B[0m         \u001B[38;5;124m\"\u001B[39m\u001B[38;5;124mFitting \u001B[39m\u001B[38;5;132;01m{0}\u001B[39;00m\u001B[38;5;124m folds for each of \u001B[39m\u001B[38;5;132;01m{1}\u001B[39;00m\u001B[38;5;124m candidates,\u001B[39m\u001B[38;5;124m\"\u001B[39m\n\u001B[1;32m    817\u001B[0m         \u001B[38;5;124m\"\u001B[39m\u001B[38;5;124m totalling \u001B[39m\u001B[38;5;132;01m{2}\u001B[39;00m\u001B[38;5;124m fits\u001B[39m\u001B[38;5;124m\"\u001B[39m\u001B[38;5;241m.\u001B[39mformat(\n\u001B[1;32m    818\u001B[0m             n_splits, n_candidates, n_candidates \u001B[38;5;241m*\u001B[39m n_splits\n\u001B[1;32m    819\u001B[0m         )\n\u001B[1;32m    820\u001B[0m     )\n\u001B[0;32m--> 822\u001B[0m out \u001B[38;5;241m=\u001B[39m \u001B[43mparallel\u001B[49m\u001B[43m(\u001B[49m\n\u001B[1;32m    823\u001B[0m \u001B[43m    \u001B[49m\u001B[43mdelayed\u001B[49m\u001B[43m(\u001B[49m\u001B[43m_fit_and_score\u001B[49m\u001B[43m)\u001B[49m\u001B[43m(\u001B[49m\n\u001B[1;32m    824\u001B[0m \u001B[43m        \u001B[49m\u001B[43mclone\u001B[49m\u001B[43m(\u001B[49m\u001B[43mbase_estimator\u001B[49m\u001B[43m)\u001B[49m\u001B[43m,\u001B[49m\n\u001B[1;32m    825\u001B[0m \u001B[43m        \u001B[49m\u001B[43mX\u001B[49m\u001B[43m,\u001B[49m\n\u001B[1;32m    826\u001B[0m \u001B[43m        \u001B[49m\u001B[43my\u001B[49m\u001B[43m,\u001B[49m\n\u001B[1;32m    827\u001B[0m \u001B[43m        \u001B[49m\u001B[43mtrain\u001B[49m\u001B[38;5;241;43m=\u001B[39;49m\u001B[43mtrain\u001B[49m\u001B[43m,\u001B[49m\n\u001B[1;32m    828\u001B[0m \u001B[43m        \u001B[49m\u001B[43mtest\u001B[49m\u001B[38;5;241;43m=\u001B[39;49m\u001B[43mtest\u001B[49m\u001B[43m,\u001B[49m\n\u001B[1;32m    829\u001B[0m \u001B[43m        \u001B[49m\u001B[43mparameters\u001B[49m\u001B[38;5;241;43m=\u001B[39;49m\u001B[43mparameters\u001B[49m\u001B[43m,\u001B[49m\n\u001B[1;32m    830\u001B[0m \u001B[43m        \u001B[49m\u001B[43msplit_progress\u001B[49m\u001B[38;5;241;43m=\u001B[39;49m\u001B[43m(\u001B[49m\u001B[43msplit_idx\u001B[49m\u001B[43m,\u001B[49m\u001B[43m \u001B[49m\u001B[43mn_splits\u001B[49m\u001B[43m)\u001B[49m\u001B[43m,\u001B[49m\n\u001B[1;32m    831\u001B[0m \u001B[43m        \u001B[49m\u001B[43mcandidate_progress\u001B[49m\u001B[38;5;241;43m=\u001B[39;49m\u001B[43m(\u001B[49m\u001B[43mcand_idx\u001B[49m\u001B[43m,\u001B[49m\u001B[43m \u001B[49m\u001B[43mn_candidates\u001B[49m\u001B[43m)\u001B[49m\u001B[43m,\u001B[49m\n\u001B[1;32m    832\u001B[0m \u001B[43m        \u001B[49m\u001B[38;5;241;43m*\u001B[39;49m\u001B[38;5;241;43m*\u001B[39;49m\u001B[43mfit_and_score_kwargs\u001B[49m\u001B[43m,\u001B[49m\n\u001B[1;32m    833\u001B[0m \u001B[43m    \u001B[49m\u001B[43m)\u001B[49m\n\u001B[1;32m    834\u001B[0m \u001B[43m    \u001B[49m\u001B[38;5;28;43;01mfor\u001B[39;49;00m\u001B[43m \u001B[49m\u001B[43m(\u001B[49m\u001B[43mcand_idx\u001B[49m\u001B[43m,\u001B[49m\u001B[43m \u001B[49m\u001B[43mparameters\u001B[49m\u001B[43m)\u001B[49m\u001B[43m,\u001B[49m\u001B[43m \u001B[49m\u001B[43m(\u001B[49m\u001B[43msplit_idx\u001B[49m\u001B[43m,\u001B[49m\u001B[43m \u001B[49m\u001B[43m(\u001B[49m\u001B[43mtrain\u001B[49m\u001B[43m,\u001B[49m\u001B[43m \u001B[49m\u001B[43mtest\u001B[49m\u001B[43m)\u001B[49m\u001B[43m)\u001B[49m\u001B[43m \u001B[49m\u001B[38;5;129;43;01min\u001B[39;49;00m\u001B[43m \u001B[49m\u001B[43mproduct\u001B[49m\u001B[43m(\u001B[49m\n\u001B[1;32m    835\u001B[0m \u001B[43m        \u001B[49m\u001B[38;5;28;43menumerate\u001B[39;49m\u001B[43m(\u001B[49m\u001B[43mcandidate_params\u001B[49m\u001B[43m)\u001B[49m\u001B[43m,\u001B[49m\u001B[43m \u001B[49m\u001B[38;5;28;43menumerate\u001B[39;49m\u001B[43m(\u001B[49m\u001B[43mcv\u001B[49m\u001B[38;5;241;43m.\u001B[39;49m\u001B[43msplit\u001B[49m\u001B[43m(\u001B[49m\u001B[43mX\u001B[49m\u001B[43m,\u001B[49m\u001B[43m \u001B[49m\u001B[43my\u001B[49m\u001B[43m,\u001B[49m\u001B[43m \u001B[49m\u001B[43mgroups\u001B[49m\u001B[43m)\u001B[49m\u001B[43m)\u001B[49m\n\u001B[1;32m    836\u001B[0m \u001B[43m    \u001B[49m\u001B[43m)\u001B[49m\n\u001B[1;32m    837\u001B[0m \u001B[43m\u001B[49m\u001B[43m)\u001B[49m\n\u001B[1;32m    839\u001B[0m \u001B[38;5;28;01mif\u001B[39;00m \u001B[38;5;28mlen\u001B[39m(out) \u001B[38;5;241m<\u001B[39m \u001B[38;5;241m1\u001B[39m:\n\u001B[1;32m    840\u001B[0m     \u001B[38;5;28;01mraise\u001B[39;00m \u001B[38;5;167;01mValueError\u001B[39;00m(\n\u001B[1;32m    841\u001B[0m         \u001B[38;5;124m\"\u001B[39m\u001B[38;5;124mNo fits were performed. \u001B[39m\u001B[38;5;124m\"\u001B[39m\n\u001B[1;32m    842\u001B[0m         \u001B[38;5;124m\"\u001B[39m\u001B[38;5;124mWas the CV iterator empty? \u001B[39m\u001B[38;5;124m\"\u001B[39m\n\u001B[1;32m    843\u001B[0m         \u001B[38;5;124m\"\u001B[39m\u001B[38;5;124mWere there no candidates?\u001B[39m\u001B[38;5;124m\"\u001B[39m\n\u001B[1;32m    844\u001B[0m     )\n",
      "File \u001B[0;32m~/.pyenv/versions/mambaforge-4.10.1-4/envs/ih_DA_env/lib/python3.9/site-packages/joblib/parallel.py:1056\u001B[0m, in \u001B[0;36mParallel.__call__\u001B[0;34m(self, iterable)\u001B[0m\n\u001B[1;32m   1053\u001B[0m     \u001B[38;5;28mself\u001B[39m\u001B[38;5;241m.\u001B[39m_iterating \u001B[38;5;241m=\u001B[39m \u001B[38;5;28;01mFalse\u001B[39;00m\n\u001B[1;32m   1055\u001B[0m \u001B[38;5;28;01mwith\u001B[39;00m \u001B[38;5;28mself\u001B[39m\u001B[38;5;241m.\u001B[39m_backend\u001B[38;5;241m.\u001B[39mretrieval_context():\n\u001B[0;32m-> 1056\u001B[0m     \u001B[38;5;28;43mself\u001B[39;49m\u001B[38;5;241;43m.\u001B[39;49m\u001B[43mretrieve\u001B[49m\u001B[43m(\u001B[49m\u001B[43m)\u001B[49m\n\u001B[1;32m   1057\u001B[0m \u001B[38;5;66;03m# Make sure that we get a last message telling us we are done\u001B[39;00m\n\u001B[1;32m   1058\u001B[0m elapsed_time \u001B[38;5;241m=\u001B[39m time\u001B[38;5;241m.\u001B[39mtime() \u001B[38;5;241m-\u001B[39m \u001B[38;5;28mself\u001B[39m\u001B[38;5;241m.\u001B[39m_start_time\n",
      "File \u001B[0;32m~/.pyenv/versions/mambaforge-4.10.1-4/envs/ih_DA_env/lib/python3.9/site-packages/joblib/parallel.py:935\u001B[0m, in \u001B[0;36mParallel.retrieve\u001B[0;34m(self)\u001B[0m\n\u001B[1;32m    933\u001B[0m \u001B[38;5;28;01mtry\u001B[39;00m:\n\u001B[1;32m    934\u001B[0m     \u001B[38;5;28;01mif\u001B[39;00m \u001B[38;5;28mgetattr\u001B[39m(\u001B[38;5;28mself\u001B[39m\u001B[38;5;241m.\u001B[39m_backend, \u001B[38;5;124m'\u001B[39m\u001B[38;5;124msupports_timeout\u001B[39m\u001B[38;5;124m'\u001B[39m, \u001B[38;5;28;01mFalse\u001B[39;00m):\n\u001B[0;32m--> 935\u001B[0m         \u001B[38;5;28mself\u001B[39m\u001B[38;5;241m.\u001B[39m_output\u001B[38;5;241m.\u001B[39mextend(\u001B[43mjob\u001B[49m\u001B[38;5;241;43m.\u001B[39;49m\u001B[43mget\u001B[49m\u001B[43m(\u001B[49m\u001B[43mtimeout\u001B[49m\u001B[38;5;241;43m=\u001B[39;49m\u001B[38;5;28;43mself\u001B[39;49m\u001B[38;5;241;43m.\u001B[39;49m\u001B[43mtimeout\u001B[49m\u001B[43m)\u001B[49m)\n\u001B[1;32m    936\u001B[0m     \u001B[38;5;28;01melse\u001B[39;00m:\n\u001B[1;32m    937\u001B[0m         \u001B[38;5;28mself\u001B[39m\u001B[38;5;241m.\u001B[39m_output\u001B[38;5;241m.\u001B[39mextend(job\u001B[38;5;241m.\u001B[39mget())\n",
      "File \u001B[0;32m~/.pyenv/versions/mambaforge-4.10.1-4/envs/ih_DA_env/lib/python3.9/site-packages/joblib/_parallel_backends.py:542\u001B[0m, in \u001B[0;36mLokyBackend.wrap_future_result\u001B[0;34m(future, timeout)\u001B[0m\n\u001B[1;32m    539\u001B[0m \u001B[38;5;124;03m\"\"\"Wrapper for Future.result to implement the same behaviour as\u001B[39;00m\n\u001B[1;32m    540\u001B[0m \u001B[38;5;124;03mAsyncResults.get from multiprocessing.\"\"\"\u001B[39;00m\n\u001B[1;32m    541\u001B[0m \u001B[38;5;28;01mtry\u001B[39;00m:\n\u001B[0;32m--> 542\u001B[0m     \u001B[38;5;28;01mreturn\u001B[39;00m \u001B[43mfuture\u001B[49m\u001B[38;5;241;43m.\u001B[39;49m\u001B[43mresult\u001B[49m\u001B[43m(\u001B[49m\u001B[43mtimeout\u001B[49m\u001B[38;5;241;43m=\u001B[39;49m\u001B[43mtimeout\u001B[49m\u001B[43m)\u001B[49m\n\u001B[1;32m    543\u001B[0m \u001B[38;5;28;01mexcept\u001B[39;00m CfTimeoutError \u001B[38;5;28;01mas\u001B[39;00m e:\n\u001B[1;32m    544\u001B[0m     \u001B[38;5;28;01mraise\u001B[39;00m \u001B[38;5;167;01mTimeoutError\u001B[39;00m \u001B[38;5;28;01mfrom\u001B[39;00m \u001B[38;5;21;01me\u001B[39;00m\n",
      "File \u001B[0;32m~/.pyenv/versions/mambaforge-4.10.1-4/envs/ih_DA_env/lib/python3.9/concurrent/futures/_base.py:435\u001B[0m, in \u001B[0;36mFuture.result\u001B[0;34m(self, timeout)\u001B[0m\n\u001B[1;32m    432\u001B[0m \u001B[38;5;28;01melif\u001B[39;00m \u001B[38;5;28mself\u001B[39m\u001B[38;5;241m.\u001B[39m_state \u001B[38;5;241m==\u001B[39m FINISHED:\n\u001B[1;32m    433\u001B[0m     \u001B[38;5;28;01mreturn\u001B[39;00m \u001B[38;5;28mself\u001B[39m\u001B[38;5;241m.\u001B[39m__get_result()\n\u001B[0;32m--> 435\u001B[0m \u001B[38;5;28;43mself\u001B[39;49m\u001B[38;5;241;43m.\u001B[39;49m\u001B[43m_condition\u001B[49m\u001B[38;5;241;43m.\u001B[39;49m\u001B[43mwait\u001B[49m\u001B[43m(\u001B[49m\u001B[43mtimeout\u001B[49m\u001B[43m)\u001B[49m\n\u001B[1;32m    437\u001B[0m \u001B[38;5;28;01mif\u001B[39;00m \u001B[38;5;28mself\u001B[39m\u001B[38;5;241m.\u001B[39m_state \u001B[38;5;129;01min\u001B[39;00m [CANCELLED, CANCELLED_AND_NOTIFIED]:\n\u001B[1;32m    438\u001B[0m     \u001B[38;5;28;01mraise\u001B[39;00m CancelledError()\n",
      "File \u001B[0;32m~/.pyenv/versions/mambaforge-4.10.1-4/envs/ih_DA_env/lib/python3.9/threading.py:312\u001B[0m, in \u001B[0;36mCondition.wait\u001B[0;34m(self, timeout)\u001B[0m\n\u001B[1;32m    310\u001B[0m \u001B[38;5;28;01mtry\u001B[39;00m:    \u001B[38;5;66;03m# restore state no matter what (e.g., KeyboardInterrupt)\u001B[39;00m\n\u001B[1;32m    311\u001B[0m     \u001B[38;5;28;01mif\u001B[39;00m timeout \u001B[38;5;129;01mis\u001B[39;00m \u001B[38;5;28;01mNone\u001B[39;00m:\n\u001B[0;32m--> 312\u001B[0m         \u001B[43mwaiter\u001B[49m\u001B[38;5;241;43m.\u001B[39;49m\u001B[43macquire\u001B[49m\u001B[43m(\u001B[49m\u001B[43m)\u001B[49m\n\u001B[1;32m    313\u001B[0m         gotit \u001B[38;5;241m=\u001B[39m \u001B[38;5;28;01mTrue\u001B[39;00m\n\u001B[1;32m    314\u001B[0m     \u001B[38;5;28;01melse\u001B[39;00m:\n",
      "\u001B[0;31mKeyboardInterrupt\u001B[0m: "
     ]
    }
   ],
   "source": [
    "# Create model\n",
    "sgd_cl0 = SGDClassifier(random_state=RAND_STATE, max_iter=4000, learning_rate='optimal',n_jobs=-1)\n",
    "sgd_params_in = {\n",
    "    \"loss\": [ \"perceptron\"],\n",
    "    \"alpha\": [ 0.1],\n",
    "    \"penalty\": [\"l2\", \"l1\", \"elasticnet\"],\n",
    "    \"class_weight\": ['balanced', None]\n",
    "}\n",
    "sgd0 = Model(\n",
    "    X_train.drop(labels=['address'],axis=1), y_train['labels'],\n",
    "    X_train.drop(labels=['address'],axis=1), X_test.drop(labels=['address'],axis=1),\n",
    "    sgd_cl0, sgd_params_in, SGDClassifier)\n",
    "sgd0.params"
   ],
   "metadata": {
    "collapsed": false,
    "pycharm": {
     "name": "#%%\n"
    }
   }
  },
  {
   "cell_type": "code",
   "execution_count": 520,
   "outputs": [
    {
     "data": {
      "text/plain": "  Type  Accuracy  Precision  Recall  F1-Score\n0  trn  0.013860   0.013860     1.0  0.027341\n0  tst  0.013863   0.013863     1.0  0.027347",
      "text/html": "<div>\n<style scoped>\n    .dataframe tbody tr th:only-of-type {\n        vertical-align: middle;\n    }\n\n    .dataframe tbody tr th {\n        vertical-align: top;\n    }\n\n    .dataframe thead th {\n        text-align: right;\n    }\n</style>\n<table border=\"1\" class=\"dataframe\">\n  <thead>\n    <tr style=\"text-align: right;\">\n      <th></th>\n      <th>Type</th>\n      <th>Accuracy</th>\n      <th>Precision</th>\n      <th>Recall</th>\n      <th>F1-Score</th>\n    </tr>\n  </thead>\n  <tbody>\n    <tr>\n      <th>0</th>\n      <td>trn</td>\n      <td>0.013860</td>\n      <td>0.013860</td>\n      <td>1.0</td>\n      <td>0.027341</td>\n    </tr>\n    <tr>\n      <th>0</th>\n      <td>tst</td>\n      <td>0.013863</td>\n      <td>0.013863</td>\n      <td>1.0</td>\n      <td>0.027347</td>\n    </tr>\n  </tbody>\n</table>\n</div>"
     },
     "execution_count": 520,
     "metadata": {},
     "output_type": "execute_result"
    }
   ],
   "source": [
    "sgd0.score(y_train,y_test)"
   ],
   "metadata": {
    "collapsed": false,
    "pycharm": {
     "name": "#%%\n"
    }
   }
  },
  {
   "cell_type": "code",
   "execution_count": null,
   "outputs": [],
   "source": [],
   "metadata": {
    "collapsed": false,
    "pycharm": {
     "name": "#%%\n"
    }
   }
  }
 ],
 "metadata": {
  "kernelspec": {
   "display_name": "Python 3 (ipykernel)",
   "language": "python",
   "name": "python3"
  },
  "language_info": {
   "codemirror_mode": {
    "name": "ipython",
    "version": 3
   },
   "file_extension": ".py",
   "mimetype": "text/x-python",
   "name": "python",
   "nbconvert_exporter": "python",
   "pygments_lexer": "ipython3",
   "version": "3.9.0"
  },
  "toc": {
   "base_numbering": 1,
   "nav_menu": {},
   "number_sections": false,
   "sideBar": true,
   "skip_h1_title": false,
   "title_cell": "Table of Contents",
   "title_sidebar": "Contents",
   "toc_cell": false,
   "toc_position": {
    "height": "calc(100% - 180px)",
    "left": "10px",
    "top": "150px",
    "width": "413.6px"
   },
   "toc_section_display": true,
   "toc_window_display": true
  },
  "varInspector": {
   "cols": {
    "lenName": 16,
    "lenType": 16,
    "lenVar": 40
   },
   "kernels_config": {
    "python": {
     "delete_cmd_postfix": "",
     "delete_cmd_prefix": "del ",
     "library": "var_list.py",
     "varRefreshCmd": "print(var_dic_list())"
    },
    "r": {
     "delete_cmd_postfix": ") ",
     "delete_cmd_prefix": "rm(",
     "library": "var_list.r",
     "varRefreshCmd": "cat(var_dic_list()) "
    }
   },
   "types_to_exclude": [
    "module",
    "function",
    "builtin_function_or_method",
    "instance",
    "_Feature"
   ],
   "window_display": false
  }
 },
 "nbformat": 4,
 "nbformat_minor": 5
}