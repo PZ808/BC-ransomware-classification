{
 "cells": [
  {
   "cell_type": "markdown",
   "id": "6f6fa43a",
   "metadata": {
    "heading_collapsed": true
   },
   "source": [
    "# 0.0 Table of Contents\n",
    "\n",
    "1. [Introduction](#1.0-Introduction)\n",
    "\n",
    "2. [Feature Analysis](#2.0-Feature-Analysis)"
   ]
  },
  {
   "cell_type": "markdown",
   "id": "86fd8be8",
   "metadata": {},
   "source": [
    "# 1.0 Introduction\n",
    " "
   ]
  },
  {
   "cell_type": "markdown",
   "id": "48a0c01d",
   "metadata": {},
   "source": [
    "### 1.1 Project -  Binary classification of bitcoin addresses\n",
    "\n",
    "-  **GOAL:** to predict whether an address has been the recipient of ransomware coins. \n",
    "\n",
    "-  **DATA:**  Data is time series (24hr chunks) derived from the topological and geometrical properties of the bitcoin network.\n",
    "\n",
    "### 1.2 Basics\n",
    "\n",
    "- Ransomware is a rogue compute code that encrypts the victim's filesystem unless money is paid to the attacker for decryption. \n",
    "\n",
    "- Bitcoin is often used for these payments because it provides a semi-anonymous transaction method.  \n",
    "\n",
    "- The dataset was taken from the UCI Machine Learning Repository. It contains labelled data of addresses according to whether they have been involved in Ransomware. The data is from 2009 January to 2018 December. \n",
    "- Link to the data-set: [click here](https://archive.ics.uci.edu/ml/datasets/BitcoinHeistRansomwareAddressDataset)\n",
    "\n",
    "### 1.2.0 Breakdown\n",
    "\n",
    "---\n",
    "**\"starter transactions\"**: transactions which are spent outputs from the  previous time window <n>\n",
    "\n",
    "Features:\n",
    "\n",
    "- The **address** is a public BC address which can receive and send bitcoins.        \n",
    "- The **income** of an address $a$ is the total amount of coins output to it measured in Satoshis (1 millionth of a BC).\n",
    "- The number of (in) **neighbors** of an address $a$  is the number of transactions which\n",
    "have $a$ as one of its output addresses.\n",
    "- The **weight** of an address is the sum of the fraction of *coins* that come from a starter transaction and merge at the address. Weight quantifies the merge behavior (i.e., the transaction has more input addresses than output addresses), where coins\n",
    "in multiple addresses are each passed through a succession of\n",
    "merging transactions and accumulated in a final address.\n",
    "- The **length** of an address $a$ is the number of non-starter transactions connected to $a$ on the longest chain.  A length of zero implies that the address is the recipient of starter transaction.\n",
    "- The **count** of an address $a$ is the number of starter transactions\n",
    "which are connected to $a$ in a chain, where a chain is\n",
    "defined as an acyclic directed path originating from a starter\n",
    "transaction and ending at address $a$. Count captures\n",
    "information about the number of transactions, whereas weight\n",
    " gives information about the amount of coins.\n",
    "- **looped** is the number of starter transactions connected to $a$ by more than one path (chain). \n",
    "    \n",
    "       \n",
    "<n>\n",
    "Engineered/derived features:\n",
    "    \n",
    "- bc_income = boxcox of income\n",
    "    \n",
    "- bc_length = boxcox of length\n",
    "    \n",
    "- yeo_weight = yeo of weight\n",
    "   \n",
    "- logbc_n_address = boxcox log of address\n",
    "\n",
    "- bc_neighbors = box of neighbors\n",
    "   \n",
    "- sig_looped = sigmoid of looped\n",
    "    \n",
    "- log_count = log of count\n",
    "   \n",
    "- day_of_week = {'Monday':0,...,'Sunday': 6}"
   ]
  },
  {
   "cell_type": "markdown",
   "id": "10c7352c",
   "metadata": {},
   "source": [
    "### 1.3 Packages and helper functions"
   ]
  },
  {
   "cell_type": "code",
   "execution_count": 1,
   "id": "b142e4c0",
   "metadata": {
    "ExecuteTime": {
     "end_time": "2022-07-28T12:57:31.040703Z",
     "start_time": "2022-07-28T12:57:30.319897Z"
    }
   },
   "outputs": [
    {
     "name": "stderr",
     "output_type": "stream",
     "text": [
      "/Users/antares/.pyenv/versions/mambaforge-4.10.1-4/envs/ih_DA_env/lib/python3.9/site-packages/xgboost/compat.py:36: FutureWarning: pandas.Int64Index is deprecated and will be removed from pandas in a future version. Use pandas.Index with the appropriate dtype instead.\n",
      "  from pandas import MultiIndex, Int64Index\n"
     ]
    }
   ],
   "source": [
    "import pandas as pd\n",
    "import numpy as np\n",
    "\n",
    "import matplotlib\n",
    "import matplotlib.pyplot as plt\n",
    "\n",
    "import seaborn as sns\n",
    "from tqdm.notebook import tqdm\n",
    "import pickle\n",
    "import datetime\n",
    "import warnings\n",
    "\n",
    "from scipy import stats\n",
    "from scipy.stats import boxcox, yeojohnson\n",
    "from scipy.stats import shapiro\n",
    "\n",
    "from sklearn.ensemble import RandomForestClassifier\n",
    "from imblearn.under_sampling import RandomUnderSampler\n",
    "\n",
    "from sklearn.model_selection import train_test_split\n",
    "from sklearn.model_selection import RandomizedSearchCV\n",
    "from sklearn.preprocessing import PowerTransformer\n",
    "from sklearn.preprocessing import StandardScaler, OneHotEncoder\n",
    "from sklearn.compose import ColumnTransformer\n",
    "from sklearn.metrics import accuracy_score, plot_roc_curve, f1_score, precision_score, recall_score\n",
    "from sklearn.metrics import confusion_matrix\n",
    "\n",
    "from sklearn.linear_model import SGDClassifier\n",
    "from xgboost import XGBClassifier\n",
    "from sklearn.svm import SVC, LinearSVC\n",
    "from IPython.core.interactiveshell import InteractiveShell\n",
    "InteractiveShell.ast_node_interactivity = 'all'\n",
    "warnings.filterwarnings(\"ignore\",category=matplotlib.cbook.mplDeprecation)\n",
    "warnings.filterwarnings(\"ignore\", category=UserWarning)\n",
    "_ = np.seterr(over='ignore')\n",
    "#from pretty_confusion_matrix import plot_confusion_matrix_from_data as conf_matrix\n",
    "warnings.simplefilter(action='ignore', category=FutureWarning)"
   ]
  },
  {
   "cell_type": "code",
   "execution_count": 2,
   "outputs": [],
   "source": [
    "pd.options.mode.chained_assignment = None  # default='warn'"
   ],
   "metadata": {
    "collapsed": false
   }
  },
  {
   "cell_type": "code",
   "execution_count": 3,
   "id": "7302e378",
   "metadata": {
    "ExecuteTime": {
     "end_time": "2022-07-28T12:57:33.105095Z",
     "start_time": "2022-07-28T12:57:33.100101Z"
    }
   },
   "outputs": [],
   "source": [
    "RAND_STATE  = 42\n",
    "SPLIT_RATIO = 0.23\n",
    "SAVE_TEST_TRAIN = False\n",
    "DS_FRAC = .12\n",
    "NF = 7"
   ]
  },
  {
   "cell_type": "markdown",
   "id": "2455c471",
   "metadata": {},
   "source": [
    "### 1.4 Importing data"
   ]
  },
  {
   "cell_type": "code",
   "execution_count": 4,
   "outputs": [],
   "source": [
    "dft = pd.read_csv('dft.csv')"
   ],
   "metadata": {
    "collapsed": false
   }
  },
  {
   "cell_type": "code",
   "execution_count": 5,
   "id": "c6001d1c",
   "metadata": {
    "ExecuteTime": {
     "end_time": "2022-07-28T12:57:40.554547Z",
     "start_time": "2022-07-28T12:57:38.368467Z"
    }
   },
   "outputs": [
    {
     "data": {
      "text/plain": "(350004, 10)"
     },
     "execution_count": 5,
     "metadata": {},
     "output_type": "execute_result"
    }
   ],
   "source": [
    "df = pd.read_csv('data/BitcoinHeistData.csv')\n",
    "df = df.sample(frac=DS_FRAC, axis=0,random_state=RAND_STATE) # take a sample portion of the data\n",
    "\n",
    "\n",
    "#dft = df.copy()\n",
    "ROWS = df.shape[0]\n",
    "COLS = df.shape[1]\n",
    "ROWS,COLS\n"
   ]
  },
  {
   "cell_type": "code",
   "execution_count": 6,
   "outputs": [
    {
     "data": {
      "text/plain": "white                          345060\npaduaCryptoWall                  1476\nmontrealCryptoLocker             1144\nprincetonCerber                  1083\nprincetonLocky                    785\nmontrealCryptXXX                  293\nmontrealDMALockerv3                51\nmontrealNoobCrypt                  45\nmontrealDMALocker                  26\nmontrealSamSam                     11\nmontrealGlobe                       7\nmontrealCryptoTorLocker2015         5\nmontrealGlobeImposter               5\nmontrealWannaCry                    2\nmontrealVenusLocker                 2\nmontrealCryptConsole                2\nmontrealSam                         1\nmontrealFlyper                      1\nmontrealAPT                         1\nmontrealXLocker                     1\nmontrealEDA2                        1\nmontrealJigSaw                      1\nmontrealRazy                        1\nName: label, dtype: int64"
     },
     "execution_count": 6,
     "metadata": {},
     "output_type": "execute_result"
    }
   ],
   "source": [
    "df.label.value_counts()"
   ],
   "metadata": {
    "collapsed": false
   }
  },
  {
   "cell_type": "code",
   "execution_count": 7,
   "id": "a328e72d",
   "metadata": {
    "ExecuteTime": {
     "end_time": "2022-07-28T12:57:41.548063Z",
     "start_time": "2022-07-28T12:57:40.575566Z"
    }
   },
   "outputs": [
    {
     "data": {
      "text/plain": "white                  345060\nCryptoWall               1476\nCryptoLocker             1144\nCerber                   1083\nLocky                     785\nCryptXXX                  293\nDMALockerv3                51\nNoobCrypt                  45\nDMALocker                  26\nSamSam                     11\nGlobe                       7\nCryptoTorLocker2015         5\nGlobeImposter               5\nWannaCry                    2\nVenusLocker                 2\nCryptConsole                2\nSam                         1\nFlyper                      1\nAPT                         1\nXLocker                     1\nEDA2                        1\nJigSaw                      1\nRazy                        1\nName: label, dtype: int64"
     },
     "execution_count": 7,
     "metadata": {},
     "output_type": "execute_result"
    }
   ],
   "source": [
    "# removing the prefix on some of the labels\n",
    "study_origins = [\"princeton\",\"padua\",\"montreal\"] #\n",
    "for r in study_origins:\n",
    "    dft['label']=dft['label'].str.replace(r,\"\")\n",
    "    df['label']=df['label'].str.replace(r,\"\")\n",
    "del study_origins\n",
    "df.label.value_counts()"
   ]
  },
  {
   "cell_type": "code",
   "execution_count": 8,
   "id": "68b6b3be",
   "metadata": {
    "ExecuteTime": {
     "end_time": "2022-07-28T12:57:41.555766Z",
     "start_time": "2022-07-28T12:57:41.551435Z"
    }
   },
   "outputs": [
    {
     "name": "stdout",
     "output_type": "stream",
     "text": [
      "The data extends from 2011 to 2018.\n",
      "File contains 350004 rows and 10 columns\n"
     ]
    }
   ],
   "source": [
    "years = df['year'].unique()\n",
    "print('The data extends from {} to {}.'.format(years.min(),years.max()))\n",
    "print('File contains {:d} rows and {} columns'.format(df.shape[0], df.shape[1]))\n"
   ]
  },
  {
   "cell_type": "code",
   "execution_count": 9,
   "id": "ec523d80",
   "metadata": {
    "ExecuteTime": {
     "end_time": "2022-07-28T12:57:41.558583Z",
     "start_time": "2022-07-28T12:57:41.556683Z"
    },
    "run_control": {
     "marked": true
    }
   },
   "outputs": [
    {
     "name": "stdout",
     "output_type": "stream",
     "text": [
      "Feature columns: \n",
      "['address', 'year', 'day', 'length', 'weight', 'count', 'looped', 'neighbors', 'income']\n"
     ]
    }
   ],
   "source": [
    "features=list(df.columns)[:-1]\n",
    "print('Feature columns: \\n{}'.format(features))"
   ]
  },
  {
   "cell_type": "code",
   "execution_count": 10,
   "outputs": [
    {
     "data": {
      "text/plain": "         n_day                             address  year  day  length  \\\n2667698   2637  15DQFhP5R7ZeaBS9Ute7NzrYVBFSH1Z2kZ  2018   82       8   \n2013400   1982  3FhUXgmVecach9dZ59JK1yBLEcr9JsvJXZ  2016  157       2   \n2704440   2673  3DpHZaCtj88yaXUtajYnYLb8xgN15K8fnw  2018  118     144   \n1650833   1620  1G6doAKXpDsnsdSA1wgh7jfAnkaPi49M4y  2015  160     144   \n1586811   1556   175gAXqbkq4nho268FZxoBZ7TCCZWzWcg  2015   96     128   \n...        ...                                 ...   ...  ...     ...   \n2796843   2766  3GATJRb9VFCDRe8wQodrNvUouTWGwjLmhM  2018  211      10   \n1036846   1006  18JuSPFSb4f1iWgeMenS6kFeRw2FYDX1kz  2013  276       4   \n1932590   1901  1KSjpKdmpFtbLQqbhCoQ8g127AzGq8CjaY  2016   76     144   \n730452     699  1A3AQAvJLVqne7ud7JT6nb3n1gkhpz7DuT  2012  334       0   \n1063408   1032  1MfphSj17CXv6EkUU2siqMTUzV71DZbi2V  2013  302       0   \n\n           weight  count  looped  neighbors        income  label  \n2667698  1.311111      3       0          2  5.772641e+08  white  \n2013400  0.025000     44       0          1  1.000000e+08  white  \n2704440  3.619217   5991    5991          2  2.999500e+08  white  \n1650833  0.000484   3452    3049          2  2.990000e+08  white  \n1586811  0.625000      2       0          2  4.000000e+07  white  \n...           ...    ...     ...        ...           ...    ...  \n2796843  0.125000      1       0          2  2.600785e+10  white  \n1036846  0.166667      1       0          2  3.012661e+08  white  \n1932590  0.002160   3928    3809          2  1.213316e+08  white  \n730452   1.000000      1       0          1  4.997700e+08  white  \n1063408  1.000000      1       0          2  2.488927e+09  white  \n\n[350004 rows x 11 columns]",
      "text/html": "<div>\n<style scoped>\n    .dataframe tbody tr th:only-of-type {\n        vertical-align: middle;\n    }\n\n    .dataframe tbody tr th {\n        vertical-align: top;\n    }\n\n    .dataframe thead th {\n        text-align: right;\n    }\n</style>\n<table border=\"1\" class=\"dataframe\">\n  <thead>\n    <tr style=\"text-align: right;\">\n      <th></th>\n      <th>n_day</th>\n      <th>address</th>\n      <th>year</th>\n      <th>day</th>\n      <th>length</th>\n      <th>weight</th>\n      <th>count</th>\n      <th>looped</th>\n      <th>neighbors</th>\n      <th>income</th>\n      <th>label</th>\n    </tr>\n  </thead>\n  <tbody>\n    <tr>\n      <th>2667698</th>\n      <td>2637</td>\n      <td>15DQFhP5R7ZeaBS9Ute7NzrYVBFSH1Z2kZ</td>\n      <td>2018</td>\n      <td>82</td>\n      <td>8</td>\n      <td>1.311111</td>\n      <td>3</td>\n      <td>0</td>\n      <td>2</td>\n      <td>5.772641e+08</td>\n      <td>white</td>\n    </tr>\n    <tr>\n      <th>2013400</th>\n      <td>1982</td>\n      <td>3FhUXgmVecach9dZ59JK1yBLEcr9JsvJXZ</td>\n      <td>2016</td>\n      <td>157</td>\n      <td>2</td>\n      <td>0.025000</td>\n      <td>44</td>\n      <td>0</td>\n      <td>1</td>\n      <td>1.000000e+08</td>\n      <td>white</td>\n    </tr>\n    <tr>\n      <th>2704440</th>\n      <td>2673</td>\n      <td>3DpHZaCtj88yaXUtajYnYLb8xgN15K8fnw</td>\n      <td>2018</td>\n      <td>118</td>\n      <td>144</td>\n      <td>3.619217</td>\n      <td>5991</td>\n      <td>5991</td>\n      <td>2</td>\n      <td>2.999500e+08</td>\n      <td>white</td>\n    </tr>\n    <tr>\n      <th>1650833</th>\n      <td>1620</td>\n      <td>1G6doAKXpDsnsdSA1wgh7jfAnkaPi49M4y</td>\n      <td>2015</td>\n      <td>160</td>\n      <td>144</td>\n      <td>0.000484</td>\n      <td>3452</td>\n      <td>3049</td>\n      <td>2</td>\n      <td>2.990000e+08</td>\n      <td>white</td>\n    </tr>\n    <tr>\n      <th>1586811</th>\n      <td>1556</td>\n      <td>175gAXqbkq4nho268FZxoBZ7TCCZWzWcg</td>\n      <td>2015</td>\n      <td>96</td>\n      <td>128</td>\n      <td>0.625000</td>\n      <td>2</td>\n      <td>0</td>\n      <td>2</td>\n      <td>4.000000e+07</td>\n      <td>white</td>\n    </tr>\n    <tr>\n      <th>...</th>\n      <td>...</td>\n      <td>...</td>\n      <td>...</td>\n      <td>...</td>\n      <td>...</td>\n      <td>...</td>\n      <td>...</td>\n      <td>...</td>\n      <td>...</td>\n      <td>...</td>\n      <td>...</td>\n    </tr>\n    <tr>\n      <th>2796843</th>\n      <td>2766</td>\n      <td>3GATJRb9VFCDRe8wQodrNvUouTWGwjLmhM</td>\n      <td>2018</td>\n      <td>211</td>\n      <td>10</td>\n      <td>0.125000</td>\n      <td>1</td>\n      <td>0</td>\n      <td>2</td>\n      <td>2.600785e+10</td>\n      <td>white</td>\n    </tr>\n    <tr>\n      <th>1036846</th>\n      <td>1006</td>\n      <td>18JuSPFSb4f1iWgeMenS6kFeRw2FYDX1kz</td>\n      <td>2013</td>\n      <td>276</td>\n      <td>4</td>\n      <td>0.166667</td>\n      <td>1</td>\n      <td>0</td>\n      <td>2</td>\n      <td>3.012661e+08</td>\n      <td>white</td>\n    </tr>\n    <tr>\n      <th>1932590</th>\n      <td>1901</td>\n      <td>1KSjpKdmpFtbLQqbhCoQ8g127AzGq8CjaY</td>\n      <td>2016</td>\n      <td>76</td>\n      <td>144</td>\n      <td>0.002160</td>\n      <td>3928</td>\n      <td>3809</td>\n      <td>2</td>\n      <td>1.213316e+08</td>\n      <td>white</td>\n    </tr>\n    <tr>\n      <th>730452</th>\n      <td>699</td>\n      <td>1A3AQAvJLVqne7ud7JT6nb3n1gkhpz7DuT</td>\n      <td>2012</td>\n      <td>334</td>\n      <td>0</td>\n      <td>1.000000</td>\n      <td>1</td>\n      <td>0</td>\n      <td>1</td>\n      <td>4.997700e+08</td>\n      <td>white</td>\n    </tr>\n    <tr>\n      <th>1063408</th>\n      <td>1032</td>\n      <td>1MfphSj17CXv6EkUU2siqMTUzV71DZbi2V</td>\n      <td>2013</td>\n      <td>302</td>\n      <td>0</td>\n      <td>1.000000</td>\n      <td>1</td>\n      <td>0</td>\n      <td>2</td>\n      <td>2.488927e+09</td>\n      <td>white</td>\n    </tr>\n  </tbody>\n</table>\n<p>350004 rows × 11 columns</p>\n</div>"
     },
     "execution_count": 10,
     "metadata": {},
     "output_type": "execute_result"
    }
   ],
   "source": [
    "dft"
   ],
   "metadata": {
    "collapsed": false
   }
  },
  {
   "cell_type": "code",
   "execution_count": 11,
   "outputs": [],
   "source": [
    "graph_fs = ['length', 'weight', 'count', 'neighbors',\n",
    "            'income']  # features relating to the topological properties of the BC network\n"
   ],
   "metadata": {
    "collapsed": false
   }
  },
  {
   "cell_type": "code",
   "execution_count": 12,
   "id": "90e1c28a",
   "metadata": {
    "ExecuteTime": {
     "end_time": "2022-07-28T12:57:41.562713Z",
     "start_time": "2022-07-28T12:57:41.559578Z"
    }
   },
   "outputs": [
    {
     "name": "stdout",
     "output_type": "stream",
     "text": [
      "Datatypes: \n",
      "\n",
      "address       object\n",
      "year           int64\n",
      "day            int64\n",
      "length         int64\n",
      "weight       float64\n",
      "count          int64\n",
      "looped         int64\n",
      "neighbors      int64\n",
      "income       float64\n",
      "label         object\n",
      "dtype: object\n"
     ]
    }
   ],
   "source": [
    "print('Datatypes: \\n\\n{}'.format(df.dtypes))"
   ]
  },
  {
   "cell_type": "code",
   "execution_count": 13,
   "id": "7cf798dd",
   "metadata": {
    "ExecuteTime": {
     "end_time": "2022-07-28T12:57:41.622598Z",
     "start_time": "2022-07-28T12:57:41.564229Z"
    }
   },
   "outputs": [
    {
     "name": "stdout",
     "output_type": "stream",
     "text": [
      "The top ransomware types are \n",
      "\n",
      " CryptoWall      1476\n",
      "CryptoLocker    1144\n",
      "Cerber          1083\n",
      "Locky            785\n",
      "CryptXXX         293\n",
      "DMALockerv3       51\n",
      "NoobCrypt         45\n",
      "DMALocker         26\n",
      "SamSam            11\n",
      "Globe              7\n",
      "Name: label, dtype: int64\n"
     ]
    }
   ],
   "source": [
    "#top_ransomwares_dict = dict(df.label.value_counts().head(10)[1:])\n",
    "# top10_ransoms_labels = df.label.value_counts()[1:11]\n",
    "print('The top ransomware types are \\n\\n', df.label.value_counts()[1:11])"
   ]
  },
  {
   "cell_type": "code",
   "execution_count": 14,
   "outputs": [
    {
     "data": {
      "text/plain": "                            year         day      length     weight  \\\nlabel                                                                 \nAPT                  2016.000000  259.000000    2.000000   1.500000   \nCerber               2016.328717  184.969529   42.035088   0.296815   \nCryptConsole         2017.000000   51.000000   72.000000   0.708110   \nCryptXXX             2016.000000  167.706485   48.648464   0.352714   \nCryptoLocker         2013.038462  241.284091   30.968531   0.840725   \nCryptoTorLocker2015  2015.000000  163.600000   32.400000   0.986878   \nCryptoWall           2014.261518  140.262873   48.891599   0.767319   \nDMALocker            2015.653846  117.576923   19.384615   0.917706   \nDMALockerv3          2016.470588  188.745098   44.666667   0.530395   \nEDA2                 2017.000000  201.000000  144.000000   0.000303   \nFlyper               2016.000000  335.000000   14.000000   0.500000   \nGlobe                2016.000000  314.428571   43.714286   0.338471   \nGlobeImposter        2015.800000  159.800000   33.600000   0.643282   \nJigSaw               2016.000000  190.000000    0.000000   0.111111   \nLocky                2016.008917  132.570701   47.329936   0.374995   \nNoobCrypt            2014.911111  177.577778   26.844444   0.732404   \nRazy                 2013.000000  276.000000   54.000000  26.411461   \nSam                  2016.000000  271.000000    6.000000   0.062500   \nSamSam               2016.272727  251.545455   43.454545   0.570040   \nVenusLocker          2016.500000  201.000000    8.000000   0.041667   \nWannaCry             2017.000000  115.500000  144.000000   0.007810   \nXLocker              2017.000000  144.000000  144.000000   0.412207   \nwhite                2014.470651  181.717965   44.947992   0.546767   \n\n                           count      looped  neighbors        income  \nlabel                                                                  \nAPT                     2.000000    0.000000   2.000000  7.449526e+07  \nCerber                752.451524   36.006464   2.021237  1.045140e+08  \nCryptConsole         1313.500000    0.000000   2.000000  4.396725e+07  \nCryptXXX              810.068259   45.737201   1.982935  1.326294e+08  \nCryptoLocker          273.887238   84.938811   2.868881  1.947917e+09  \nCryptoTorLocker2015   264.800000  247.600000   8.400000  6.175042e+08  \nCryptoWall            435.352304  128.550136   2.007453  6.888960e+08  \nDMALocker             441.961538  122.000000   1.692308  6.963475e+08  \nDMALockerv3           999.470588  127.117647   1.176471  8.428249e+08  \nEDA2                 9486.000000    0.000000   2.000000  3.000000e+07  \nFlyper                  1.000000    0.000000   2.000000  3.003316e+07  \nGlobe                 907.571429    0.142857   2.142857  7.189174e+07  \nGlobeImposter         708.200000    1.200000   3.600000  3.066024e+09  \nJigSaw                  1.000000    0.000000   2.000000  1.512381e+08  \nLocky                1009.387261  105.742675   1.253503  2.602313e+08  \nNoobCrypt             494.777778   34.511111   1.133333  2.190694e+08  \nRazy                  127.000000    0.000000  27.000000  1.415000e+11  \nSam                     1.000000    1.000000   3.000000  2.900000e+09  \nSamSam               1374.000000    0.000000   1.636364  1.264769e+09  \nVenusLocker             1.000000    0.000000   2.000000  9.000000e+07  \nWannaCry             3892.000000    0.000000   1.000000  3.414759e+07  \nXLocker              4511.000000    0.000000   1.000000  1.000000e+08  \nwhite                 719.204130  239.944723   2.229673  4.323266e+09  ",
      "text/html": "<div>\n<style scoped>\n    .dataframe tbody tr th:only-of-type {\n        vertical-align: middle;\n    }\n\n    .dataframe tbody tr th {\n        vertical-align: top;\n    }\n\n    .dataframe thead th {\n        text-align: right;\n    }\n</style>\n<table border=\"1\" class=\"dataframe\">\n  <thead>\n    <tr style=\"text-align: right;\">\n      <th></th>\n      <th>year</th>\n      <th>day</th>\n      <th>length</th>\n      <th>weight</th>\n      <th>count</th>\n      <th>looped</th>\n      <th>neighbors</th>\n      <th>income</th>\n    </tr>\n    <tr>\n      <th>label</th>\n      <th></th>\n      <th></th>\n      <th></th>\n      <th></th>\n      <th></th>\n      <th></th>\n      <th></th>\n      <th></th>\n    </tr>\n  </thead>\n  <tbody>\n    <tr>\n      <th>APT</th>\n      <td>2016.000000</td>\n      <td>259.000000</td>\n      <td>2.000000</td>\n      <td>1.500000</td>\n      <td>2.000000</td>\n      <td>0.000000</td>\n      <td>2.000000</td>\n      <td>7.449526e+07</td>\n    </tr>\n    <tr>\n      <th>Cerber</th>\n      <td>2016.328717</td>\n      <td>184.969529</td>\n      <td>42.035088</td>\n      <td>0.296815</td>\n      <td>752.451524</td>\n      <td>36.006464</td>\n      <td>2.021237</td>\n      <td>1.045140e+08</td>\n    </tr>\n    <tr>\n      <th>CryptConsole</th>\n      <td>2017.000000</td>\n      <td>51.000000</td>\n      <td>72.000000</td>\n      <td>0.708110</td>\n      <td>1313.500000</td>\n      <td>0.000000</td>\n      <td>2.000000</td>\n      <td>4.396725e+07</td>\n    </tr>\n    <tr>\n      <th>CryptXXX</th>\n      <td>2016.000000</td>\n      <td>167.706485</td>\n      <td>48.648464</td>\n      <td>0.352714</td>\n      <td>810.068259</td>\n      <td>45.737201</td>\n      <td>1.982935</td>\n      <td>1.326294e+08</td>\n    </tr>\n    <tr>\n      <th>CryptoLocker</th>\n      <td>2013.038462</td>\n      <td>241.284091</td>\n      <td>30.968531</td>\n      <td>0.840725</td>\n      <td>273.887238</td>\n      <td>84.938811</td>\n      <td>2.868881</td>\n      <td>1.947917e+09</td>\n    </tr>\n    <tr>\n      <th>CryptoTorLocker2015</th>\n      <td>2015.000000</td>\n      <td>163.600000</td>\n      <td>32.400000</td>\n      <td>0.986878</td>\n      <td>264.800000</td>\n      <td>247.600000</td>\n      <td>8.400000</td>\n      <td>6.175042e+08</td>\n    </tr>\n    <tr>\n      <th>CryptoWall</th>\n      <td>2014.261518</td>\n      <td>140.262873</td>\n      <td>48.891599</td>\n      <td>0.767319</td>\n      <td>435.352304</td>\n      <td>128.550136</td>\n      <td>2.007453</td>\n      <td>6.888960e+08</td>\n    </tr>\n    <tr>\n      <th>DMALocker</th>\n      <td>2015.653846</td>\n      <td>117.576923</td>\n      <td>19.384615</td>\n      <td>0.917706</td>\n      <td>441.961538</td>\n      <td>122.000000</td>\n      <td>1.692308</td>\n      <td>6.963475e+08</td>\n    </tr>\n    <tr>\n      <th>DMALockerv3</th>\n      <td>2016.470588</td>\n      <td>188.745098</td>\n      <td>44.666667</td>\n      <td>0.530395</td>\n      <td>999.470588</td>\n      <td>127.117647</td>\n      <td>1.176471</td>\n      <td>8.428249e+08</td>\n    </tr>\n    <tr>\n      <th>EDA2</th>\n      <td>2017.000000</td>\n      <td>201.000000</td>\n      <td>144.000000</td>\n      <td>0.000303</td>\n      <td>9486.000000</td>\n      <td>0.000000</td>\n      <td>2.000000</td>\n      <td>3.000000e+07</td>\n    </tr>\n    <tr>\n      <th>Flyper</th>\n      <td>2016.000000</td>\n      <td>335.000000</td>\n      <td>14.000000</td>\n      <td>0.500000</td>\n      <td>1.000000</td>\n      <td>0.000000</td>\n      <td>2.000000</td>\n      <td>3.003316e+07</td>\n    </tr>\n    <tr>\n      <th>Globe</th>\n      <td>2016.000000</td>\n      <td>314.428571</td>\n      <td>43.714286</td>\n      <td>0.338471</td>\n      <td>907.571429</td>\n      <td>0.142857</td>\n      <td>2.142857</td>\n      <td>7.189174e+07</td>\n    </tr>\n    <tr>\n      <th>GlobeImposter</th>\n      <td>2015.800000</td>\n      <td>159.800000</td>\n      <td>33.600000</td>\n      <td>0.643282</td>\n      <td>708.200000</td>\n      <td>1.200000</td>\n      <td>3.600000</td>\n      <td>3.066024e+09</td>\n    </tr>\n    <tr>\n      <th>JigSaw</th>\n      <td>2016.000000</td>\n      <td>190.000000</td>\n      <td>0.000000</td>\n      <td>0.111111</td>\n      <td>1.000000</td>\n      <td>0.000000</td>\n      <td>2.000000</td>\n      <td>1.512381e+08</td>\n    </tr>\n    <tr>\n      <th>Locky</th>\n      <td>2016.008917</td>\n      <td>132.570701</td>\n      <td>47.329936</td>\n      <td>0.374995</td>\n      <td>1009.387261</td>\n      <td>105.742675</td>\n      <td>1.253503</td>\n      <td>2.602313e+08</td>\n    </tr>\n    <tr>\n      <th>NoobCrypt</th>\n      <td>2014.911111</td>\n      <td>177.577778</td>\n      <td>26.844444</td>\n      <td>0.732404</td>\n      <td>494.777778</td>\n      <td>34.511111</td>\n      <td>1.133333</td>\n      <td>2.190694e+08</td>\n    </tr>\n    <tr>\n      <th>Razy</th>\n      <td>2013.000000</td>\n      <td>276.000000</td>\n      <td>54.000000</td>\n      <td>26.411461</td>\n      <td>127.000000</td>\n      <td>0.000000</td>\n      <td>27.000000</td>\n      <td>1.415000e+11</td>\n    </tr>\n    <tr>\n      <th>Sam</th>\n      <td>2016.000000</td>\n      <td>271.000000</td>\n      <td>6.000000</td>\n      <td>0.062500</td>\n      <td>1.000000</td>\n      <td>1.000000</td>\n      <td>3.000000</td>\n      <td>2.900000e+09</td>\n    </tr>\n    <tr>\n      <th>SamSam</th>\n      <td>2016.272727</td>\n      <td>251.545455</td>\n      <td>43.454545</td>\n      <td>0.570040</td>\n      <td>1374.000000</td>\n      <td>0.000000</td>\n      <td>1.636364</td>\n      <td>1.264769e+09</td>\n    </tr>\n    <tr>\n      <th>VenusLocker</th>\n      <td>2016.500000</td>\n      <td>201.000000</td>\n      <td>8.000000</td>\n      <td>0.041667</td>\n      <td>1.000000</td>\n      <td>0.000000</td>\n      <td>2.000000</td>\n      <td>9.000000e+07</td>\n    </tr>\n    <tr>\n      <th>WannaCry</th>\n      <td>2017.000000</td>\n      <td>115.500000</td>\n      <td>144.000000</td>\n      <td>0.007810</td>\n      <td>3892.000000</td>\n      <td>0.000000</td>\n      <td>1.000000</td>\n      <td>3.414759e+07</td>\n    </tr>\n    <tr>\n      <th>XLocker</th>\n      <td>2017.000000</td>\n      <td>144.000000</td>\n      <td>144.000000</td>\n      <td>0.412207</td>\n      <td>4511.000000</td>\n      <td>0.000000</td>\n      <td>1.000000</td>\n      <td>1.000000e+08</td>\n    </tr>\n    <tr>\n      <th>white</th>\n      <td>2014.470651</td>\n      <td>181.717965</td>\n      <td>44.947992</td>\n      <td>0.546767</td>\n      <td>719.204130</td>\n      <td>239.944723</td>\n      <td>2.229673</td>\n      <td>4.323266e+09</td>\n    </tr>\n  </tbody>\n</table>\n</div>"
     },
     "execution_count": 14,
     "metadata": {},
     "output_type": "execute_result"
    }
   ],
   "source": [
    " df.groupby('label').mean()"
   ],
   "metadata": {
    "collapsed": false
   }
  },
  {
   "cell_type": "code",
   "execution_count": 15,
   "id": "cfbf3a68",
   "metadata": {
    "ExecuteTime": {
     "end_time": "2022-07-28T12:57:41.673739Z",
     "start_time": "2022-07-28T12:57:41.625120Z"
    }
   },
   "outputs": [
    {
     "name": "stdout",
     "output_type": "stream",
     "text": [
      "The data is over 95% unbalanced towards clean transactions!\n",
      "\n",
      "white label cnt: 345060\n",
      "rannsomware label cnt: 4944\n"
     ]
    }
   ],
   "source": [
    "print('The data is over 95% unbalanced towards clean transactions!\\n\\nwhite label cnt: {}\\nrannsomware label cnt: {}'\\\n",
    "      .format(df['label'].value_counts()[0], \n",
    "        sum(df['label'].value_counts()[1:])\n",
    "             ))\n"
   ]
  },
  {
   "cell_type": "markdown",
   "source": [
    "## 1.7 Time Series Analysis"
   ],
   "metadata": {
    "collapsed": false
   }
  },
  {
   "cell_type": "code",
   "execution_count": 16,
   "outputs": [],
   "source": [
    "def gen_n_day_col(df):\n",
    "    \"\"\"\n",
    "    converts year+day into an integer counting days starting from the first day (time=1) and creates a new column\n",
    "    :param df: data frame we add a time step col to\n",
    "    :return: data frame with a new column named t_step_name \"at the front\" counting days from the start of the data\n",
    "    \"\"\"\n",
    "\n",
    "    t_step_name = 'n_day'\n",
    "    start = 2011\n",
    "    year  = 365\n",
    "\n",
    "    cols = [t_step_name]+list(df.columns) # we want to put the time id at the front of the data frame\n",
    "    df[t_step_name] = ''\n",
    "\n",
    "    for idx, _ in tqdm(df.iterrows(),total=df.shape[0]):\n",
    "        off_set = (df['year'][idx]-start)*year\n",
    "        df[t_step_name][idx] = df['day'][idx] + off_set\n",
    "\n",
    "    return df[cols]"
   ],
   "metadata": {
    "collapsed": false
   }
  },
  {
   "cell_type": "code",
   "execution_count": 17,
   "outputs": [],
   "source": [
    "#dft    = gen_n_day_col(dft)\n",
    "#top_df = gen_n_day_col(top_df)"
   ],
   "metadata": {
    "collapsed": false
   }
  },
  {
   "cell_type": "code",
   "execution_count": 18,
   "outputs": [],
   "source": [
    "#dft.to_csv(\"dft.csv\",index_label=False)"
   ],
   "metadata": {
    "collapsed": false
   }
  },
  {
   "cell_type": "code",
   "execution_count": 19,
   "outputs": [],
   "source": [
    "#dft = pd.read_csv('dft.csv')"
   ],
   "metadata": {
    "collapsed": false
   }
  },
  {
   "cell_type": "code",
   "execution_count": 20,
   "outputs": [
    {
     "data": {
      "text/plain": "         n_day                             address  year  day  length  \\\n2667698   2637  15DQFhP5R7ZeaBS9Ute7NzrYVBFSH1Z2kZ  2018   82       8   \n2013400   1982  3FhUXgmVecach9dZ59JK1yBLEcr9JsvJXZ  2016  157       2   \n2704440   2673  3DpHZaCtj88yaXUtajYnYLb8xgN15K8fnw  2018  118     144   \n1650833   1620  1G6doAKXpDsnsdSA1wgh7jfAnkaPi49M4y  2015  160     144   \n1586811   1556   175gAXqbkq4nho268FZxoBZ7TCCZWzWcg  2015   96     128   \n...        ...                                 ...   ...  ...     ...   \n2796843   2766  3GATJRb9VFCDRe8wQodrNvUouTWGwjLmhM  2018  211      10   \n1036846   1006  18JuSPFSb4f1iWgeMenS6kFeRw2FYDX1kz  2013  276       4   \n1932590   1901  1KSjpKdmpFtbLQqbhCoQ8g127AzGq8CjaY  2016   76     144   \n730452     699  1A3AQAvJLVqne7ud7JT6nb3n1gkhpz7DuT  2012  334       0   \n1063408   1032  1MfphSj17CXv6EkUU2siqMTUzV71DZbi2V  2013  302       0   \n\n           weight  count  looped  neighbors        income  label  \n2667698  1.311111      3       0          2  5.772641e+08  white  \n2013400  0.025000     44       0          1  1.000000e+08  white  \n2704440  3.619217   5991    5991          2  2.999500e+08  white  \n1650833  0.000484   3452    3049          2  2.990000e+08  white  \n1586811  0.625000      2       0          2  4.000000e+07  white  \n...           ...    ...     ...        ...           ...    ...  \n2796843  0.125000      1       0          2  2.600785e+10  white  \n1036846  0.166667      1       0          2  3.012661e+08  white  \n1932590  0.002160   3928    3809          2  1.213316e+08  white  \n730452   1.000000      1       0          1  4.997700e+08  white  \n1063408  1.000000      1       0          2  2.488927e+09  white  \n\n[350004 rows x 11 columns]",
      "text/html": "<div>\n<style scoped>\n    .dataframe tbody tr th:only-of-type {\n        vertical-align: middle;\n    }\n\n    .dataframe tbody tr th {\n        vertical-align: top;\n    }\n\n    .dataframe thead th {\n        text-align: right;\n    }\n</style>\n<table border=\"1\" class=\"dataframe\">\n  <thead>\n    <tr style=\"text-align: right;\">\n      <th></th>\n      <th>n_day</th>\n      <th>address</th>\n      <th>year</th>\n      <th>day</th>\n      <th>length</th>\n      <th>weight</th>\n      <th>count</th>\n      <th>looped</th>\n      <th>neighbors</th>\n      <th>income</th>\n      <th>label</th>\n    </tr>\n  </thead>\n  <tbody>\n    <tr>\n      <th>2667698</th>\n      <td>2637</td>\n      <td>15DQFhP5R7ZeaBS9Ute7NzrYVBFSH1Z2kZ</td>\n      <td>2018</td>\n      <td>82</td>\n      <td>8</td>\n      <td>1.311111</td>\n      <td>3</td>\n      <td>0</td>\n      <td>2</td>\n      <td>5.772641e+08</td>\n      <td>white</td>\n    </tr>\n    <tr>\n      <th>2013400</th>\n      <td>1982</td>\n      <td>3FhUXgmVecach9dZ59JK1yBLEcr9JsvJXZ</td>\n      <td>2016</td>\n      <td>157</td>\n      <td>2</td>\n      <td>0.025000</td>\n      <td>44</td>\n      <td>0</td>\n      <td>1</td>\n      <td>1.000000e+08</td>\n      <td>white</td>\n    </tr>\n    <tr>\n      <th>2704440</th>\n      <td>2673</td>\n      <td>3DpHZaCtj88yaXUtajYnYLb8xgN15K8fnw</td>\n      <td>2018</td>\n      <td>118</td>\n      <td>144</td>\n      <td>3.619217</td>\n      <td>5991</td>\n      <td>5991</td>\n      <td>2</td>\n      <td>2.999500e+08</td>\n      <td>white</td>\n    </tr>\n    <tr>\n      <th>1650833</th>\n      <td>1620</td>\n      <td>1G6doAKXpDsnsdSA1wgh7jfAnkaPi49M4y</td>\n      <td>2015</td>\n      <td>160</td>\n      <td>144</td>\n      <td>0.000484</td>\n      <td>3452</td>\n      <td>3049</td>\n      <td>2</td>\n      <td>2.990000e+08</td>\n      <td>white</td>\n    </tr>\n    <tr>\n      <th>1586811</th>\n      <td>1556</td>\n      <td>175gAXqbkq4nho268FZxoBZ7TCCZWzWcg</td>\n      <td>2015</td>\n      <td>96</td>\n      <td>128</td>\n      <td>0.625000</td>\n      <td>2</td>\n      <td>0</td>\n      <td>2</td>\n      <td>4.000000e+07</td>\n      <td>white</td>\n    </tr>\n    <tr>\n      <th>...</th>\n      <td>...</td>\n      <td>...</td>\n      <td>...</td>\n      <td>...</td>\n      <td>...</td>\n      <td>...</td>\n      <td>...</td>\n      <td>...</td>\n      <td>...</td>\n      <td>...</td>\n      <td>...</td>\n    </tr>\n    <tr>\n      <th>2796843</th>\n      <td>2766</td>\n      <td>3GATJRb9VFCDRe8wQodrNvUouTWGwjLmhM</td>\n      <td>2018</td>\n      <td>211</td>\n      <td>10</td>\n      <td>0.125000</td>\n      <td>1</td>\n      <td>0</td>\n      <td>2</td>\n      <td>2.600785e+10</td>\n      <td>white</td>\n    </tr>\n    <tr>\n      <th>1036846</th>\n      <td>1006</td>\n      <td>18JuSPFSb4f1iWgeMenS6kFeRw2FYDX1kz</td>\n      <td>2013</td>\n      <td>276</td>\n      <td>4</td>\n      <td>0.166667</td>\n      <td>1</td>\n      <td>0</td>\n      <td>2</td>\n      <td>3.012661e+08</td>\n      <td>white</td>\n    </tr>\n    <tr>\n      <th>1932590</th>\n      <td>1901</td>\n      <td>1KSjpKdmpFtbLQqbhCoQ8g127AzGq8CjaY</td>\n      <td>2016</td>\n      <td>76</td>\n      <td>144</td>\n      <td>0.002160</td>\n      <td>3928</td>\n      <td>3809</td>\n      <td>2</td>\n      <td>1.213316e+08</td>\n      <td>white</td>\n    </tr>\n    <tr>\n      <th>730452</th>\n      <td>699</td>\n      <td>1A3AQAvJLVqne7ud7JT6nb3n1gkhpz7DuT</td>\n      <td>2012</td>\n      <td>334</td>\n      <td>0</td>\n      <td>1.000000</td>\n      <td>1</td>\n      <td>0</td>\n      <td>1</td>\n      <td>4.997700e+08</td>\n      <td>white</td>\n    </tr>\n    <tr>\n      <th>1063408</th>\n      <td>1032</td>\n      <td>1MfphSj17CXv6EkUU2siqMTUzV71DZbi2V</td>\n      <td>2013</td>\n      <td>302</td>\n      <td>0</td>\n      <td>1.000000</td>\n      <td>1</td>\n      <td>0</td>\n      <td>2</td>\n      <td>2.488927e+09</td>\n      <td>white</td>\n    </tr>\n  </tbody>\n</table>\n<p>350004 rows × 11 columns</p>\n</div>"
     },
     "execution_count": 20,
     "metadata": {},
     "output_type": "execute_result"
    }
   ],
   "source": [
    "dft"
   ],
   "metadata": {
    "collapsed": false
   }
  },
  {
   "cell_type": "code",
   "execution_count": 21,
   "outputs": [],
   "source": [
    "def test_train_time(X, y, t0):\n",
    "    \"\"\" takes the X,y data and prepares test/train sets for 4 time windows\n",
    "    :param X: input data\n",
    "    :param y: labels\n",
    "    :param t0: current time\n",
    "    :return:\n",
    "    \"\"\"\n",
    "    lags = [240,120,60,30,0]\n",
    "\n",
    "    X_train = {}\n",
    "    X_test  = {}\n",
    "    y_train = {}\n",
    "    y_test  = {}\n",
    "\n",
    "    t_first = t0 - lags[0]\n",
    "    t_min_train = t_first\n",
    "\n",
    "    for i in range(len(lags)-1):\n",
    "        # we break up each lag segment into a 80%/20% train/test split\n",
    "        #\n",
    "        # t_first                                       t_last\n",
    "        # [--------------------------------|------------]\n",
    "        # ^                               ^ ^          ^\n",
    "        #  t_min_train         t_max_train  t_min_test  t_max_text\n",
    "        t_last      = t0 - lags[i+1] # end of time window\n",
    "        t_max_train = t_first + 0.80 * (t_last-t_first)  # end of train window\n",
    "        t_min_test  = t_max_train + 1 # start of test window\n",
    "        t_max_test  = t_last - 1 # end of test window\n",
    "\n",
    "        train_filter = (X['n_day'] >= t_min_train) & (X['n_day'] <= t_max_train) # get indices\n",
    "        test_filter  = (X['n_day'] >= t_min_test)  & (X['n_day'] <= t_max_test) # get indices\n",
    "\n",
    "        X_train[i] = X[train_filter]\n",
    "        X_test[i]  = X[test_filter]\n",
    "\n",
    "        y_train[i] = y[train_filter]\n",
    "        y_test[i]  = y[test_filter]\n",
    "\n",
    "    return X_train, X_test, y_train, y_test"
   ],
   "metadata": {
    "collapsed": false
   }
  },
  {
   "cell_type": "code",
   "execution_count": 22,
   "outputs": [],
   "source": [
    "t0 = 2450"
   ],
   "metadata": {
    "collapsed": false
   }
  },
  {
   "cell_type": "code",
   "execution_count": 23,
   "outputs": [],
   "source": [
    "#dfc=pd.concat([dfc,pd.DataFrame(pd.to_datetime(dfc['year'] * 1000 + dfc['day'], format='%Y%j'),columns=['date'])],axis=1)"
   ],
   "metadata": {
    "collapsed": false
   }
  },
  {
   "cell_type": "code",
   "execution_count": 24,
   "outputs": [],
   "source": [
    "#top_df.drop(['day', 'year'], axis=1, inplace=True)"
   ],
   "metadata": {
    "collapsed": false
   }
  },
  {
   "cell_type": "code",
   "execution_count": 25,
   "outputs": [
    {
     "data": {
      "text/plain": "[{'2018': [0, 39709]},\n {'2016': [1869, 43459]},\n {'2015': [430, 43581]},\n {'2017': [399, 44117]},\n {'2011': [4, 42700]},\n {'2012': [81, 43665]},\n {'2013': [927, 43853]},\n {'2014': [1234, 43976]}]"
     },
     "execution_count": 25,
     "metadata": {},
     "output_type": "execute_result"
    }
   ],
   "source": [
    "# how many dirty and clean addresses are there in a given year\n",
    "[{str(yr):[dft[(dft['year']==yr) &(dft['label']!='white')].label.value_counts().sum(),dft[(dft['year']==yr) &(dft['label']=='white')].label.value_counts().sum() ]} for yr in dft.year.unique()]\n"
   ],
   "metadata": {
    "collapsed": false
   }
  },
  {
   "cell_type": "markdown",
   "source": [],
   "metadata": {
    "collapsed": false
   }
  },
  {
   "cell_type": "code",
   "execution_count": 26,
   "outputs": [],
   "source": [
    "mean_white_per_yr = df[df['label'] == 'white'].groupby('year').mean()\n",
    "mean_red_per_yr = df[df['label'] != 'white'].groupby('year').mean()"
   ],
   "metadata": {
    "collapsed": false
   }
  },
  {
   "cell_type": "code",
   "execution_count": 27,
   "outputs": [
    {
     "data": {
      "text/plain": "             day     length    weight        count      looped  neighbors  \\\nyear                                                                        \n2011  188.590047  22.820656  0.370436    11.857728    1.292881   1.751101   \n2012  182.767022  25.489981  0.571985   150.749983   39.022329   2.621550   \n2013  183.112581  29.919321  0.644356   277.741637   65.123275   2.416437   \n2014  183.039453  64.812625  0.448605   589.879480  371.427301   2.056963   \n2015  182.170395  71.347238  0.471931  1136.234368  609.239600   2.176292   \n2016  183.778435  50.415058  0.588719  1041.226075  299.894291   2.187004   \n2017  183.175556  46.290999  0.561547  1183.833194  236.154589   1.998980   \n2018  165.800045  48.287492  0.729389  1409.337102  298.261427   2.659976   \n\n            income  \nyear                \n2011  1.185503e+10  \n2012  9.685239e+09  \n2013  4.322880e+09  \n2014  1.400012e+09  \n2015  1.838177e+09  \n2016  1.921585e+09  \n2017  1.764899e+09  \n2018  1.764085e+09  ",
      "text/html": "<div>\n<style scoped>\n    .dataframe tbody tr th:only-of-type {\n        vertical-align: middle;\n    }\n\n    .dataframe tbody tr th {\n        vertical-align: top;\n    }\n\n    .dataframe thead th {\n        text-align: right;\n    }\n</style>\n<table border=\"1\" class=\"dataframe\">\n  <thead>\n    <tr style=\"text-align: right;\">\n      <th></th>\n      <th>day</th>\n      <th>length</th>\n      <th>weight</th>\n      <th>count</th>\n      <th>looped</th>\n      <th>neighbors</th>\n      <th>income</th>\n    </tr>\n    <tr>\n      <th>year</th>\n      <th></th>\n      <th></th>\n      <th></th>\n      <th></th>\n      <th></th>\n      <th></th>\n      <th></th>\n    </tr>\n  </thead>\n  <tbody>\n    <tr>\n      <th>2011</th>\n      <td>188.590047</td>\n      <td>22.820656</td>\n      <td>0.370436</td>\n      <td>11.857728</td>\n      <td>1.292881</td>\n      <td>1.751101</td>\n      <td>1.185503e+10</td>\n    </tr>\n    <tr>\n      <th>2012</th>\n      <td>182.767022</td>\n      <td>25.489981</td>\n      <td>0.571985</td>\n      <td>150.749983</td>\n      <td>39.022329</td>\n      <td>2.621550</td>\n      <td>9.685239e+09</td>\n    </tr>\n    <tr>\n      <th>2013</th>\n      <td>183.112581</td>\n      <td>29.919321</td>\n      <td>0.644356</td>\n      <td>277.741637</td>\n      <td>65.123275</td>\n      <td>2.416437</td>\n      <td>4.322880e+09</td>\n    </tr>\n    <tr>\n      <th>2014</th>\n      <td>183.039453</td>\n      <td>64.812625</td>\n      <td>0.448605</td>\n      <td>589.879480</td>\n      <td>371.427301</td>\n      <td>2.056963</td>\n      <td>1.400012e+09</td>\n    </tr>\n    <tr>\n      <th>2015</th>\n      <td>182.170395</td>\n      <td>71.347238</td>\n      <td>0.471931</td>\n      <td>1136.234368</td>\n      <td>609.239600</td>\n      <td>2.176292</td>\n      <td>1.838177e+09</td>\n    </tr>\n    <tr>\n      <th>2016</th>\n      <td>183.778435</td>\n      <td>50.415058</td>\n      <td>0.588719</td>\n      <td>1041.226075</td>\n      <td>299.894291</td>\n      <td>2.187004</td>\n      <td>1.921585e+09</td>\n    </tr>\n    <tr>\n      <th>2017</th>\n      <td>183.175556</td>\n      <td>46.290999</td>\n      <td>0.561547</td>\n      <td>1183.833194</td>\n      <td>236.154589</td>\n      <td>1.998980</td>\n      <td>1.764899e+09</td>\n    </tr>\n    <tr>\n      <th>2018</th>\n      <td>165.800045</td>\n      <td>48.287492</td>\n      <td>0.729389</td>\n      <td>1409.337102</td>\n      <td>298.261427</td>\n      <td>2.659976</td>\n      <td>1.764085e+09</td>\n    </tr>\n  </tbody>\n</table>\n</div>"
     },
     "execution_count": 27,
     "metadata": {},
     "output_type": "execute_result"
    }
   ],
   "source": [
    "mean_white_per_yr"
   ],
   "metadata": {
    "collapsed": false
   }
  },
  {
   "cell_type": "code",
   "execution_count": 28,
   "outputs": [
    {
     "data": {
      "text/plain": "             day     length    weight       count      looped  neighbors  \\\nyear                                                                       \n2011  320.000000  15.500000  0.196121   10.500000    0.000000   2.000000   \n2012  216.617284  15.506173  0.236797    4.456790    1.876543   2.086420   \n2013  271.145631  31.167206  0.914165  288.636462   87.786408   3.093851   \n2014  111.820908  47.761750  0.904739  363.008104  145.828201   2.223663   \n2015  197.976744  46.251163  0.421121  614.941860   65.627907   1.369767   \n2016  181.699304  46.268593  0.360525  877.061530   70.626538   1.682718   \n2017   83.619048  37.413534  0.265526  793.383459   32.744361   1.937343   \n\n            income  \nyear                \n2011  1.119131e+08  \n2012  6.246729e+08  \n2013  2.384922e+09  \n2014  8.338022e+08  \n2015  2.827447e+08  \n2016  1.996756e+08  \n2017  1.626718e+08  ",
      "text/html": "<div>\n<style scoped>\n    .dataframe tbody tr th:only-of-type {\n        vertical-align: middle;\n    }\n\n    .dataframe tbody tr th {\n        vertical-align: top;\n    }\n\n    .dataframe thead th {\n        text-align: right;\n    }\n</style>\n<table border=\"1\" class=\"dataframe\">\n  <thead>\n    <tr style=\"text-align: right;\">\n      <th></th>\n      <th>day</th>\n      <th>length</th>\n      <th>weight</th>\n      <th>count</th>\n      <th>looped</th>\n      <th>neighbors</th>\n      <th>income</th>\n    </tr>\n    <tr>\n      <th>year</th>\n      <th></th>\n      <th></th>\n      <th></th>\n      <th></th>\n      <th></th>\n      <th></th>\n      <th></th>\n    </tr>\n  </thead>\n  <tbody>\n    <tr>\n      <th>2011</th>\n      <td>320.000000</td>\n      <td>15.500000</td>\n      <td>0.196121</td>\n      <td>10.500000</td>\n      <td>0.000000</td>\n      <td>2.000000</td>\n      <td>1.119131e+08</td>\n    </tr>\n    <tr>\n      <th>2012</th>\n      <td>216.617284</td>\n      <td>15.506173</td>\n      <td>0.236797</td>\n      <td>4.456790</td>\n      <td>1.876543</td>\n      <td>2.086420</td>\n      <td>6.246729e+08</td>\n    </tr>\n    <tr>\n      <th>2013</th>\n      <td>271.145631</td>\n      <td>31.167206</td>\n      <td>0.914165</td>\n      <td>288.636462</td>\n      <td>87.786408</td>\n      <td>3.093851</td>\n      <td>2.384922e+09</td>\n    </tr>\n    <tr>\n      <th>2014</th>\n      <td>111.820908</td>\n      <td>47.761750</td>\n      <td>0.904739</td>\n      <td>363.008104</td>\n      <td>145.828201</td>\n      <td>2.223663</td>\n      <td>8.338022e+08</td>\n    </tr>\n    <tr>\n      <th>2015</th>\n      <td>197.976744</td>\n      <td>46.251163</td>\n      <td>0.421121</td>\n      <td>614.941860</td>\n      <td>65.627907</td>\n      <td>1.369767</td>\n      <td>2.827447e+08</td>\n    </tr>\n    <tr>\n      <th>2016</th>\n      <td>181.699304</td>\n      <td>46.268593</td>\n      <td>0.360525</td>\n      <td>877.061530</td>\n      <td>70.626538</td>\n      <td>1.682718</td>\n      <td>1.996756e+08</td>\n    </tr>\n    <tr>\n      <th>2017</th>\n      <td>83.619048</td>\n      <td>37.413534</td>\n      <td>0.265526</td>\n      <td>793.383459</td>\n      <td>32.744361</td>\n      <td>1.937343</td>\n      <td>1.626718e+08</td>\n    </tr>\n  </tbody>\n</table>\n</div>"
     },
     "execution_count": 28,
     "metadata": {},
     "output_type": "execute_result"
    }
   ],
   "source": [
    "mean_red_per_yr"
   ],
   "metadata": {
    "collapsed": false
   }
  },
  {
   "cell_type": "code",
   "execution_count": 29,
   "outputs": [
    {
     "data": {
      "text/plain": "['length', 'weight', 'count', 'looped', 'neighbors', 'income']"
     },
     "execution_count": 29,
     "metadata": {},
     "output_type": "execute_result"
    }
   ],
   "source": [
    "features[3:]"
   ],
   "metadata": {
    "collapsed": false
   }
  },
  {
   "cell_type": "code",
   "execution_count": 30,
   "outputs": [
    {
     "data": {
      "text/plain": "Text(0.5, 1.0, 'Mean length per year [ransom]')"
     },
     "execution_count": 30,
     "metadata": {},
     "output_type": "execute_result"
    },
    {
     "data": {
      "text/plain": "<BarContainer object of 7 artists>"
     },
     "execution_count": 30,
     "metadata": {},
     "output_type": "execute_result"
    },
    {
     "data": {
      "text/plain": "Text(0.5, 1.0, 'Mean length per year [clean]')"
     },
     "execution_count": 30,
     "metadata": {},
     "output_type": "execute_result"
    },
    {
     "data": {
      "text/plain": "<BarContainer object of 8 artists>"
     },
     "execution_count": 30,
     "metadata": {},
     "output_type": "execute_result"
    },
    {
     "data": {
      "text/plain": "Text(0.5, 1.0, 'Mean weight per year [ransom]')"
     },
     "execution_count": 30,
     "metadata": {},
     "output_type": "execute_result"
    },
    {
     "data": {
      "text/plain": "<BarContainer object of 7 artists>"
     },
     "execution_count": 30,
     "metadata": {},
     "output_type": "execute_result"
    },
    {
     "data": {
      "text/plain": "Text(0.5, 1.0, 'Mean weight per year [clean]')"
     },
     "execution_count": 30,
     "metadata": {},
     "output_type": "execute_result"
    },
    {
     "data": {
      "text/plain": "<BarContainer object of 8 artists>"
     },
     "execution_count": 30,
     "metadata": {},
     "output_type": "execute_result"
    },
    {
     "data": {
      "text/plain": "Text(0.5, 1.0, 'Mean count per year [ransom]')"
     },
     "execution_count": 30,
     "metadata": {},
     "output_type": "execute_result"
    },
    {
     "data": {
      "text/plain": "<BarContainer object of 7 artists>"
     },
     "execution_count": 30,
     "metadata": {},
     "output_type": "execute_result"
    },
    {
     "data": {
      "text/plain": "Text(0.5, 1.0, 'Mean count per year [clean]')"
     },
     "execution_count": 30,
     "metadata": {},
     "output_type": "execute_result"
    },
    {
     "data": {
      "text/plain": "<BarContainer object of 8 artists>"
     },
     "execution_count": 30,
     "metadata": {},
     "output_type": "execute_result"
    },
    {
     "data": {
      "text/plain": "Text(0.5, 1.0, 'Mean looped per year [ransom]')"
     },
     "execution_count": 30,
     "metadata": {},
     "output_type": "execute_result"
    },
    {
     "data": {
      "text/plain": "<BarContainer object of 7 artists>"
     },
     "execution_count": 30,
     "metadata": {},
     "output_type": "execute_result"
    },
    {
     "data": {
      "text/plain": "Text(0.5, 1.0, 'Mean looped per year [clean]')"
     },
     "execution_count": 30,
     "metadata": {},
     "output_type": "execute_result"
    },
    {
     "data": {
      "text/plain": "<BarContainer object of 8 artists>"
     },
     "execution_count": 30,
     "metadata": {},
     "output_type": "execute_result"
    },
    {
     "data": {
      "text/plain": "Text(0.5, 1.0, 'Mean neighbors per year [ransom]')"
     },
     "execution_count": 30,
     "metadata": {},
     "output_type": "execute_result"
    },
    {
     "data": {
      "text/plain": "<BarContainer object of 7 artists>"
     },
     "execution_count": 30,
     "metadata": {},
     "output_type": "execute_result"
    },
    {
     "data": {
      "text/plain": "Text(0.5, 1.0, 'Mean neighbors per year [clean]')"
     },
     "execution_count": 30,
     "metadata": {},
     "output_type": "execute_result"
    },
    {
     "data": {
      "text/plain": "<BarContainer object of 8 artists>"
     },
     "execution_count": 30,
     "metadata": {},
     "output_type": "execute_result"
    },
    {
     "data": {
      "text/plain": "Text(0.5, 1.0, 'Mean income per year [ransom]')"
     },
     "execution_count": 30,
     "metadata": {},
     "output_type": "execute_result"
    },
    {
     "data": {
      "text/plain": "<BarContainer object of 7 artists>"
     },
     "execution_count": 30,
     "metadata": {},
     "output_type": "execute_result"
    },
    {
     "data": {
      "text/plain": "Text(0.5, 1.0, 'Mean income per year [clean]')"
     },
     "execution_count": 30,
     "metadata": {},
     "output_type": "execute_result"
    },
    {
     "data": {
      "text/plain": "<BarContainer object of 8 artists>"
     },
     "execution_count": 30,
     "metadata": {},
     "output_type": "execute_result"
    },
    {
     "data": {
      "text/plain": "<Figure size 432x288 with 2 Axes>",
      "image/png": "[encoded data removed]"
     },
     "metadata": {
      "needs_background": "light"
     },
     "output_type": "display_data"
    },
    {
     "data": {
      "text/plain": "<Figure size 432x288 with 2 Axes>",
      "image/png": "[encoded data removed]"
     },
     "metadata": {
      "needs_background": "light"
     },
     "output_type": "display_data"
    },
    {
     "data": {
      "text/plain": "<Figure size 432x288 with 2 Axes>",
      "image/png": "[encoded data removed]"
     },
     "metadata": {
      "needs_background": "light"
     },
     "output_type": "display_data"
    },
    {
     "data": {
      "text/plain": "<Figure size 432x288 with 2 Axes>",
      "image/png": "[encoded data removed]"
     },
     "metadata": {
      "needs_background": "light"
     },
     "output_type": "display_data"
    },
    {
     "data": {
      "text/plain": "<Figure size 432x288 with 2 Axes>",
      "image/png": "[encoded data removed]"
     },
     "metadata": {
      "needs_background": "light"
     },
     "output_type": "display_data"
    },
    {
     "data": {
      "text/plain": "<Figure size 432x288 with 2 Axes>",
      "image/png": "[encoded data removed]"
     },
     "metadata": {
      "needs_background": "light"
     },
     "output_type": "display_data"
    }
   ],
   "source": [
    "for f in features[3:]:\n",
    "    yrs = list(mean_red_per_yr[f].index)\n",
    "\n",
    "    fig, ax = plt.subplots(1,2)\n",
    "    ax[0].set_title('Mean {} per year [ransom]'.format(f))\n",
    "    #plt.xlabel('year')\n",
    "    ax[0].bar(yrs,mean_red_per_yr[f])\n",
    "    yrs.append(2018)\n",
    "    ax[1].set_title('Mean {} per year [clean]'.format(f))\n",
    "    ax[1].bar(yrs,mean_white_per_yr[f])\n",
    "    del yrs, fig, ax\n"
   ],
   "metadata": {
    "collapsed": false
   }
  },
  {
   "cell_type": "markdown",
   "source": [
    "### test/train"
   ],
   "metadata": {
    "collapsed": false
   }
  },
  {
   "cell_type": "code",
   "execution_count": 31,
   "outputs": [],
   "source": [
    "#dft.rename(columns={\"label\":\"labels\"}, inplace=True)\n",
    "label = dft.label.apply(lambda x: 0 if x=='white' else 1)\n"
   ],
   "metadata": {
    "collapsed": false
   }
  },
  {
   "cell_type": "code",
   "execution_count": 32,
   "outputs": [
    {
     "data": {
      "text/plain": "0    345060\n1      4944\nName: label, dtype: int64"
     },
     "execution_count": 32,
     "metadata": {},
     "output_type": "execute_result"
    }
   ],
   "source": [
    "label.value_counts()"
   ],
   "metadata": {
    "collapsed": false
   }
  },
  {
   "cell_type": "code",
   "execution_count": 33,
   "id": "7aecf0bd",
   "metadata": {
    "ExecuteTime": {
     "end_time": "2022-07-28T12:59:39.746401Z",
     "start_time": "2022-07-28T12:57:42.154188Z"
    }
   },
   "outputs": [],
   "source": [
    "# labels = labels_to_binary(dft.label) # recast labels into binary"
   ]
  },
  {
   "cell_type": "code",
   "execution_count": 34,
   "id": "071e721d",
   "metadata": {
    "ExecuteTime": {
     "end_time": "2022-07-28T12:59:39.749510Z",
     "start_time": "2022-07-28T12:59:39.747448Z"
    }
   },
   "outputs": [],
   "source": [
    "#labels_df = pd.DataFrame(labels,columns=['labels'])"
   ]
  },
  {
   "cell_type": "code",
   "execution_count": 35,
   "id": "2d8ded61",
   "metadata": {
    "ExecuteTime": {
     "end_time": "2022-07-28T12:59:39.784444Z",
     "start_time": "2022-07-28T12:59:39.750175Z"
    }
   },
   "outputs": [
    {
     "name": "stdout",
     "output_type": "stream",
     "text": [
      "Percentage of labels belonging to ransomware class: 1.4\n"
     ]
    }
   ],
   "source": [
    "print('Percentage of labels \\\n",
    "belonging to ransomware class: {:.2}'.format( (np.sum(label) / len(label)) * 100) )"
   ]
  },
  {
   "cell_type": "markdown",
   "id": "4f7aa000",
   "metadata": {},
   "source": [
    "**Defining {X, X_test, x_rain, y_test, y_train}**"
   ]
  },
  {
   "cell_type": "code",
   "execution_count": 36,
   "id": "37ef2962",
   "metadata": {
    "ExecuteTime": {
     "end_time": "2022-07-28T12:59:39.913148Z",
     "start_time": "2022-07-28T12:59:39.785189Z"
    }
   },
   "outputs": [],
   "source": [
    "X_df = dft.drop(['label'],axis=1) # X=features [original]\n",
    "X = X_df.to_numpy()"
   ]
  },
  {
   "cell_type": "code",
   "execution_count": 37,
   "outputs": [],
   "source": [
    "labels_df = label.astype(int)\n",
    "y_df = labels_df"
   ],
   "metadata": {
    "collapsed": false
   }
  },
  {
   "cell_type": "code",
   "execution_count": 38,
   "outputs": [
    {
     "data": {
      "text/plain": "         n_day                             address  year  day  length  \\\n2667698   2637  15DQFhP5R7ZeaBS9Ute7NzrYVBFSH1Z2kZ  2018   82       8   \n2013400   1982  3FhUXgmVecach9dZ59JK1yBLEcr9JsvJXZ  2016  157       2   \n2704440   2673  3DpHZaCtj88yaXUtajYnYLb8xgN15K8fnw  2018  118     144   \n1650833   1620  1G6doAKXpDsnsdSA1wgh7jfAnkaPi49M4y  2015  160     144   \n1586811   1556   175gAXqbkq4nho268FZxoBZ7TCCZWzWcg  2015   96     128   \n...        ...                                 ...   ...  ...     ...   \n2796843   2766  3GATJRb9VFCDRe8wQodrNvUouTWGwjLmhM  2018  211      10   \n1036846   1006  18JuSPFSb4f1iWgeMenS6kFeRw2FYDX1kz  2013  276       4   \n1932590   1901  1KSjpKdmpFtbLQqbhCoQ8g127AzGq8CjaY  2016   76     144   \n730452     699  1A3AQAvJLVqne7ud7JT6nb3n1gkhpz7DuT  2012  334       0   \n1063408   1032  1MfphSj17CXv6EkUU2siqMTUzV71DZbi2V  2013  302       0   \n\n           weight  count  looped  neighbors        income  \n2667698  1.311111      3       0          2  5.772641e+08  \n2013400  0.025000     44       0          1  1.000000e+08  \n2704440  3.619217   5991    5991          2  2.999500e+08  \n1650833  0.000484   3452    3049          2  2.990000e+08  \n1586811  0.625000      2       0          2  4.000000e+07  \n...           ...    ...     ...        ...           ...  \n2796843  0.125000      1       0          2  2.600785e+10  \n1036846  0.166667      1       0          2  3.012661e+08  \n1932590  0.002160   3928    3809          2  1.213316e+08  \n730452   1.000000      1       0          1  4.997700e+08  \n1063408  1.000000      1       0          2  2.488927e+09  \n\n[350004 rows x 10 columns]",
      "text/html": "<div>\n<style scoped>\n    .dataframe tbody tr th:only-of-type {\n        vertical-align: middle;\n    }\n\n    .dataframe tbody tr th {\n        vertical-align: top;\n    }\n\n    .dataframe thead th {\n        text-align: right;\n    }\n</style>\n<table border=\"1\" class=\"dataframe\">\n  <thead>\n    <tr style=\"text-align: right;\">\n      <th></th>\n      <th>n_day</th>\n      <th>address</th>\n      <th>year</th>\n      <th>day</th>\n      <th>length</th>\n      <th>weight</th>\n      <th>count</th>\n      <th>looped</th>\n      <th>neighbors</th>\n      <th>income</th>\n    </tr>\n  </thead>\n  <tbody>\n    <tr>\n      <th>2667698</th>\n      <td>2637</td>\n      <td>15DQFhP5R7ZeaBS9Ute7NzrYVBFSH1Z2kZ</td>\n      <td>2018</td>\n      <td>82</td>\n      <td>8</td>\n      <td>1.311111</td>\n      <td>3</td>\n      <td>0</td>\n      <td>2</td>\n      <td>5.772641e+08</td>\n    </tr>\n    <tr>\n      <th>2013400</th>\n      <td>1982</td>\n      <td>3FhUXgmVecach9dZ59JK1yBLEcr9JsvJXZ</td>\n      <td>2016</td>\n      <td>157</td>\n      <td>2</td>\n      <td>0.025000</td>\n      <td>44</td>\n      <td>0</td>\n      <td>1</td>\n      <td>1.000000e+08</td>\n    </tr>\n    <tr>\n      <th>2704440</th>\n      <td>2673</td>\n      <td>3DpHZaCtj88yaXUtajYnYLb8xgN15K8fnw</td>\n      <td>2018</td>\n      <td>118</td>\n      <td>144</td>\n      <td>3.619217</td>\n      <td>5991</td>\n      <td>5991</td>\n      <td>2</td>\n      <td>2.999500e+08</td>\n    </tr>\n    <tr>\n      <th>1650833</th>\n      <td>1620</td>\n      <td>1G6doAKXpDsnsdSA1wgh7jfAnkaPi49M4y</td>\n      <td>2015</td>\n      <td>160</td>\n      <td>144</td>\n      <td>0.000484</td>\n      <td>3452</td>\n      <td>3049</td>\n      <td>2</td>\n      <td>2.990000e+08</td>\n    </tr>\n    <tr>\n      <th>1586811</th>\n      <td>1556</td>\n      <td>175gAXqbkq4nho268FZxoBZ7TCCZWzWcg</td>\n      <td>2015</td>\n      <td>96</td>\n      <td>128</td>\n      <td>0.625000</td>\n      <td>2</td>\n      <td>0</td>\n      <td>2</td>\n      <td>4.000000e+07</td>\n    </tr>\n    <tr>\n      <th>...</th>\n      <td>...</td>\n      <td>...</td>\n      <td>...</td>\n      <td>...</td>\n      <td>...</td>\n      <td>...</td>\n      <td>...</td>\n      <td>...</td>\n      <td>...</td>\n      <td>...</td>\n    </tr>\n    <tr>\n      <th>2796843</th>\n      <td>2766</td>\n      <td>3GATJRb9VFCDRe8wQodrNvUouTWGwjLmhM</td>\n      <td>2018</td>\n      <td>211</td>\n      <td>10</td>\n      <td>0.125000</td>\n      <td>1</td>\n      <td>0</td>\n      <td>2</td>\n      <td>2.600785e+10</td>\n    </tr>\n    <tr>\n      <th>1036846</th>\n      <td>1006</td>\n      <td>18JuSPFSb4f1iWgeMenS6kFeRw2FYDX1kz</td>\n      <td>2013</td>\n      <td>276</td>\n      <td>4</td>\n      <td>0.166667</td>\n      <td>1</td>\n      <td>0</td>\n      <td>2</td>\n      <td>3.012661e+08</td>\n    </tr>\n    <tr>\n      <th>1932590</th>\n      <td>1901</td>\n      <td>1KSjpKdmpFtbLQqbhCoQ8g127AzGq8CjaY</td>\n      <td>2016</td>\n      <td>76</td>\n      <td>144</td>\n      <td>0.002160</td>\n      <td>3928</td>\n      <td>3809</td>\n      <td>2</td>\n      <td>1.213316e+08</td>\n    </tr>\n    <tr>\n      <th>730452</th>\n      <td>699</td>\n      <td>1A3AQAvJLVqne7ud7JT6nb3n1gkhpz7DuT</td>\n      <td>2012</td>\n      <td>334</td>\n      <td>0</td>\n      <td>1.000000</td>\n      <td>1</td>\n      <td>0</td>\n      <td>1</td>\n      <td>4.997700e+08</td>\n    </tr>\n    <tr>\n      <th>1063408</th>\n      <td>1032</td>\n      <td>1MfphSj17CXv6EkUU2siqMTUzV71DZbi2V</td>\n      <td>2013</td>\n      <td>302</td>\n      <td>0</td>\n      <td>1.000000</td>\n      <td>1</td>\n      <td>0</td>\n      <td>2</td>\n      <td>2.488927e+09</td>\n    </tr>\n  </tbody>\n</table>\n<p>350004 rows × 10 columns</p>\n</div>"
     },
     "execution_count": 38,
     "metadata": {},
     "output_type": "execute_result"
    }
   ],
   "source": [
    "X_df"
   ],
   "metadata": {
    "collapsed": false
   }
  },
  {
   "cell_type": "code",
   "execution_count": 39,
   "outputs": [
    {
     "data": {
      "text/plain": "2667698    2637\n2013400    1982\n2704440    2673\n1650833    1620\n1586811    1556\n           ... \n2796843    2766\n1036846    1006\n1932590    1901\n730452      699\n1063408    1032\nName: n_day, Length: 350004, dtype: int64"
     },
     "execution_count": 39,
     "metadata": {},
     "output_type": "execute_result"
    }
   ],
   "source": [
    "X_df['n_day'].astype(int)"
   ],
   "metadata": {
    "collapsed": false
   }
  },
  {
   "cell_type": "code",
   "execution_count": 40,
   "outputs": [],
   "source": [
    "x_train, x_test, Y_train, Y_test = test_train_time(X_df, labels_df, t0=t0)"
   ],
   "metadata": {
    "collapsed": false
   }
  },
  {
   "cell_type": "code",
   "execution_count": 41,
   "outputs": [
    {
     "data": {
      "text/plain": "[0    2800\n 1      31\n Name: label, dtype: int64,\n 0    4282\n 1      37\n Name: label, dtype: int64,\n 0    4904\n 1      23\n Name: label, dtype: int64,\n 0    5507\n 1      13\n Name: label, dtype: int64]"
     },
     "execution_count": 41,
     "metadata": {},
     "output_type": "execute_result"
    }
   ],
   "source": [
    "[Y_test[i].value_counts() for i in range(len(Y_train))]"
   ],
   "metadata": {
    "collapsed": false
   }
  },
  {
   "cell_type": "code",
   "execution_count": 42,
   "outputs": [
    {
     "data": {
      "text/plain": "True"
     },
     "execution_count": 42,
     "metadata": {},
     "output_type": "execute_result"
    }
   ],
   "source": [
    "t0 - 1 == x_test[3].n_day.max() # check that the times match up"
   ],
   "metadata": {
    "collapsed": false
   }
  },
  {
   "cell_type": "code",
   "execution_count": 43,
   "outputs": [
    {
     "data": {
      "text/plain": "2448188    0\n2453764    0\n2445267    0\n2477193    0\n2451404    0\n          ..\n2443770    0\n2443215    0\n2447587    0\n2471414    0\n2438886    0\nName: label, Length: 5520, dtype: int64"
     },
     "execution_count": 43,
     "metadata": {},
     "output_type": "execute_result"
    }
   ],
   "source": [
    "Y_test[3]"
   ],
   "metadata": {
    "collapsed": false
   }
  },
  {
   "cell_type": "code",
   "execution_count": 44,
   "outputs": [
    {
     "data": {
      "text/plain": "2445267    1.000000\n2416100    1.250000\n2441030    0.125000\n2438461    0.197468\n2425097    1.000000\n             ...   \n2443215    0.500000\n2447587    0.500000\n2423088    0.953125\n2438886    1.000000\n2412425    0.500000\nName: weight, Length: 4925, dtype: float64"
     },
     "execution_count": 44,
     "metadata": {},
     "output_type": "execute_result"
    }
   ],
   "source": [
    "x_test[2].iloc[2:,5]"
   ],
   "metadata": {
    "collapsed": false
   }
  },
  {
   "cell_type": "code",
   "execution_count": 45,
   "id": "787c4497",
   "metadata": {
    "ExecuteTime": {
     "end_time": "2022-07-28T12:59:40.072774Z",
     "start_time": "2022-07-28T12:59:39.914014Z"
    }
   },
   "outputs": [],
   "source": [
    "# WORKING test train split. We perform many operations on this data\n",
    "# We will down sample this data for plotting, testing, and training optimization\n",
    "#X_train, X_test, y_train, y_test = train_test_split(\n",
    "#    X_df,                        # design matrix\n",
    "#    labels_df,                   # y\n",
    "#    stratify = labels,           #  stratify preserves the large imbalance in the target variable\n",
    "#    random_state = RAND_STATE,\n",
    "#    test_size = SPLIT_RATIO\n",
    "##)"
   ]
  },
  {
   "cell_type": "code",
   "execution_count": 46,
   "id": "f24c294a",
   "metadata": {
    "ExecuteTime": {
     "end_time": "2022-07-28T12:59:40.077697Z",
     "start_time": "2022-07-28T12:59:40.076090Z"
    },
    "run_control": {
     "marked": false
    }
   },
   "outputs": [],
   "source": [
    "#if SAVE_TEST_TRAIN == True:\n",
    "#    with open('X_train_y_train_X_test_y_test_label_v3_01.pickle', 'wb') as save_file:\n",
    "#        pickle.dump([X_train, y_train, X_test, y_test], save_file)\n",
    "\n",
    "if SAVE_TEST_TRAIN == True:\n",
    "    fname = 'x_train_Y_train_x_test_Y_test_v2_0'+str(NF)+'.pickle'\n",
    "    with open(fname, 'wb') as save_file:\n",
    "        for i in range(len(x_train)):\n",
    "            pickle.dump([x_train, Y_train, x_test, Y_test], save_file)"
   ]
  },
  {
   "cell_type": "markdown",
   "id": "792ba9b0",
   "metadata": {},
   "source": [
    "# 2.0 Feature Analysis"
   ]
  },
  {
   "cell_type": "markdown",
   "id": "cf2ac74f",
   "metadata": {},
   "source": [
    "* Transform features to reduce their skew\n",
    "* Normalize to unit variance and zero mean for distance classification\n",
    "* Engineer new features from the old ones"
   ]
  },
  {
   "cell_type": "code",
   "execution_count": 47,
   "id": "f973f9ac",
   "metadata": {
    "ExecuteTime": {
     "end_time": "2022-07-28T12:59:40.103502Z",
     "start_time": "2022-07-28T12:59:40.101887Z"
    }
   },
   "outputs": [],
   "source": [
    "pt = PowerTransformer(method='box-cox') # transformer to reduce skew, not standard"
   ]
  },
  {
   "cell_type": "code",
   "execution_count": 48,
   "outputs": [],
   "source": [
    "def plot_box(col_var):\n",
    "        return sns.boxplot(x=col_var)\n",
    "def plot_pdf(col_var, title=''):\n",
    "        # plots distributions\n",
    "\n",
    "        #self.col = s.name\n",
    "        sns.distplot(col_var, color=\"c\")\n",
    "        plt.title(title +  ' distribution')\n",
    "        plt.ylabel('$\\pho')\n",
    "        plt.xlabel(col_var.name)\n",
    "        plt.plot()"
   ],
   "metadata": {
    "collapsed": false
   }
  },
  {
   "cell_type": "code",
   "execution_count": 49,
   "id": "de37c141",
   "metadata": {
    "ExecuteTime": {
     "end_time": "2022-07-28T12:59:40.109455Z",
     "start_time": "2022-07-28T12:59:40.104219Z"
    }
   },
   "outputs": [],
   "source": [
    "class Feature:\n",
    "    def __init__(self, df, colname):\n",
    "        self.df = df\n",
    "        self.col = colname\n",
    "        self.vec = np.array(self.df[self.col])\n",
    "        self.series = self.df[self.col]\n",
    "        if self.series.dtype == 'O':\n",
    "            pass\n",
    "        else:\n",
    "            self.skew = self.series.skew()\n",
    "            self.mean = self.series.mean()\n",
    "            self.var  = self.series.var()\n",
    "            self.std  = self.series.std()\n",
    "    def plot_pdf(self):\n",
    "        # plots distributions\n",
    "        sns.distplot(self.series, color=\"c\")\n",
    "        plt.title(str(self.col) +  ' distribution')\n",
    "        plt.ylabel('density')\n",
    "        plt.xlabel(self.col)\n",
    "        plt.plot()\n",
    "    def plot_box(self):\n",
    "        return sns.boxplot(x=self.series)\n",
    "    def apply_pt_for_plots(self):\n",
    "        return pt.fit_transform(self.vec.reshape(-1,1))\n",
    "    def bc(self):\n",
    "        # boxcox on column\n",
    "        return  boxcox(self.series)[0] \n",
    "    def yeo(self):   \n",
    "        # yeo on column\n",
    "        return  yeojohnson(self.series)[0] \n",
    "    def sigmoid(self):\n",
    "        # logistic function\n",
    "        return 1 / (1 + np.exp(-self.vec))"
   ]
  },
  {
   "cell_type": "code",
   "execution_count": 50,
   "outputs": [
    {
     "data": {
      "text/plain": "         n_day                             address  year  day  length  \\\n2411433   2380  1BSvL68Hgq6QWzqVw61gMpE2MbRFwGtUWa  2017  190     144   \n2416100   2385  1A6RmAWW3vTj9Sph7VbUXqZzZgqLBtXhP9  2017  195      30   \n2388478   2357  1HwHAvHARrFg2fwqmPjVdbuPNofjZkzTLw  2017  167       0   \n2395969   2365  3QqFuf3MyH28fKEpRWcbrrjFjJHSaTKWe3  2017  175     144   \n2401186   2370  13nperwLp6ysFjzTEJgqriUQcC3w8K8YcS  2017  180       2   \n...        ...                                 ...   ...  ...     ...   \n2413266   2382  1KC29n1FBnWc6YVHD88QjyAnFNsmqhMbYY  2017  192       6   \n2393076   2362  12dSf4rVRyvrQR3vVorUrSndmyLGQz1wFT  2017  172       4   \n2404299   2373  115crDPinvDeeqFWzrsHJ1zqRN7VvApr6i  2017  183      40   \n2412425   2381  1HKDpva2fgdZernDrDv4cAoqYgb68TBTwf  2017  191      86   \n2404488   2373  1C2USrpixXov824tARWQNbStCSpU4B6znN  2017  183       0   \n\n           weight  count  looped  neighbors        income  \n2411433  0.044365   4510       0          2  4.066859e+08  \n2416100  1.250000      3       0          1  3.622634e+07  \n2388478  1.000000      1       0          1  6.000000e+07  \n2395969  0.456726   5068       0          2  2.420320e+08  \n2401186  0.250000      1       0          2  5.075899e+08  \n...           ...    ...     ...        ...           ...  \n2413266  1.000000      1       0          2  1.401348e+09  \n2393076  1.000000      1       0          2  1.119263e+09  \n2404299  0.500000      1       0          2  6.537267e+07  \n2412425  0.500000      1       0          2  9.237963e+08  \n2404488  0.111111      1       0          1  2.099496e+09  \n\n[4319 rows x 10 columns]",
      "text/html": "<div>\n<style scoped>\n    .dataframe tbody tr th:only-of-type {\n        vertical-align: middle;\n    }\n\n    .dataframe tbody tr th {\n        vertical-align: top;\n    }\n\n    .dataframe thead th {\n        text-align: right;\n    }\n</style>\n<table border=\"1\" class=\"dataframe\">\n  <thead>\n    <tr style=\"text-align: right;\">\n      <th></th>\n      <th>n_day</th>\n      <th>address</th>\n      <th>year</th>\n      <th>day</th>\n      <th>length</th>\n      <th>weight</th>\n      <th>count</th>\n      <th>looped</th>\n      <th>neighbors</th>\n      <th>income</th>\n    </tr>\n  </thead>\n  <tbody>\n    <tr>\n      <th>2411433</th>\n      <td>2380</td>\n      <td>1BSvL68Hgq6QWzqVw61gMpE2MbRFwGtUWa</td>\n      <td>2017</td>\n      <td>190</td>\n      <td>144</td>\n      <td>0.044365</td>\n      <td>4510</td>\n      <td>0</td>\n      <td>2</td>\n      <td>4.066859e+08</td>\n    </tr>\n    <tr>\n      <th>2416100</th>\n      <td>2385</td>\n      <td>1A6RmAWW3vTj9Sph7VbUXqZzZgqLBtXhP9</td>\n      <td>2017</td>\n      <td>195</td>\n      <td>30</td>\n      <td>1.250000</td>\n      <td>3</td>\n      <td>0</td>\n      <td>1</td>\n      <td>3.622634e+07</td>\n    </tr>\n    <tr>\n      <th>2388478</th>\n      <td>2357</td>\n      <td>1HwHAvHARrFg2fwqmPjVdbuPNofjZkzTLw</td>\n      <td>2017</td>\n      <td>167</td>\n      <td>0</td>\n      <td>1.000000</td>\n      <td>1</td>\n      <td>0</td>\n      <td>1</td>\n      <td>6.000000e+07</td>\n    </tr>\n    <tr>\n      <th>2395969</th>\n      <td>2365</td>\n      <td>3QqFuf3MyH28fKEpRWcbrrjFjJHSaTKWe3</td>\n      <td>2017</td>\n      <td>175</td>\n      <td>144</td>\n      <td>0.456726</td>\n      <td>5068</td>\n      <td>0</td>\n      <td>2</td>\n      <td>2.420320e+08</td>\n    </tr>\n    <tr>\n      <th>2401186</th>\n      <td>2370</td>\n      <td>13nperwLp6ysFjzTEJgqriUQcC3w8K8YcS</td>\n      <td>2017</td>\n      <td>180</td>\n      <td>2</td>\n      <td>0.250000</td>\n      <td>1</td>\n      <td>0</td>\n      <td>2</td>\n      <td>5.075899e+08</td>\n    </tr>\n    <tr>\n      <th>...</th>\n      <td>...</td>\n      <td>...</td>\n      <td>...</td>\n      <td>...</td>\n      <td>...</td>\n      <td>...</td>\n      <td>...</td>\n      <td>...</td>\n      <td>...</td>\n      <td>...</td>\n    </tr>\n    <tr>\n      <th>2413266</th>\n      <td>2382</td>\n      <td>1KC29n1FBnWc6YVHD88QjyAnFNsmqhMbYY</td>\n      <td>2017</td>\n      <td>192</td>\n      <td>6</td>\n      <td>1.000000</td>\n      <td>1</td>\n      <td>0</td>\n      <td>2</td>\n      <td>1.401348e+09</td>\n    </tr>\n    <tr>\n      <th>2393076</th>\n      <td>2362</td>\n      <td>12dSf4rVRyvrQR3vVorUrSndmyLGQz1wFT</td>\n      <td>2017</td>\n      <td>172</td>\n      <td>4</td>\n      <td>1.000000</td>\n      <td>1</td>\n      <td>0</td>\n      <td>2</td>\n      <td>1.119263e+09</td>\n    </tr>\n    <tr>\n      <th>2404299</th>\n      <td>2373</td>\n      <td>115crDPinvDeeqFWzrsHJ1zqRN7VvApr6i</td>\n      <td>2017</td>\n      <td>183</td>\n      <td>40</td>\n      <td>0.500000</td>\n      <td>1</td>\n      <td>0</td>\n      <td>2</td>\n      <td>6.537267e+07</td>\n    </tr>\n    <tr>\n      <th>2412425</th>\n      <td>2381</td>\n      <td>1HKDpva2fgdZernDrDv4cAoqYgb68TBTwf</td>\n      <td>2017</td>\n      <td>191</td>\n      <td>86</td>\n      <td>0.500000</td>\n      <td>1</td>\n      <td>0</td>\n      <td>2</td>\n      <td>9.237963e+08</td>\n    </tr>\n    <tr>\n      <th>2404488</th>\n      <td>2373</td>\n      <td>1C2USrpixXov824tARWQNbStCSpU4B6znN</td>\n      <td>2017</td>\n      <td>183</td>\n      <td>0</td>\n      <td>0.111111</td>\n      <td>1</td>\n      <td>0</td>\n      <td>1</td>\n      <td>2.099496e+09</td>\n    </tr>\n  </tbody>\n</table>\n<p>4319 rows × 10 columns</p>\n</div>"
     },
     "execution_count": 50,
     "metadata": {},
     "output_type": "execute_result"
    }
   ],
   "source": [
    "x_test[1]"
   ],
   "metadata": {
    "collapsed": false
   }
  },
  {
   "cell_type": "code",
   "execution_count": 50,
   "outputs": [],
   "source": [],
   "metadata": {
    "collapsed": false
   }
  },
  {
   "cell_type": "code",
   "execution_count": 51,
   "outputs": [],
   "source": [
    "X_train = x_train[0]\n",
    "X_test = x_test[0]\n",
    "y_train = Y_train[0]\n",
    "y_test = Y_test[0]"
   ],
   "metadata": {
    "collapsed": false
   }
  },
  {
   "cell_type": "code",
   "execution_count": 52,
   "outputs": [],
   "source": [
    "train_features = {\n",
    "    \"address\": Feature(X_train,'address'),\n",
    "    \"income\": Feature(X_train,'income'),\n",
    "    \"day\": Feature(X_train, 'day'),\n",
    "    \"year\": Feature(X_train,'year'),\n",
    "    \"length\": Feature(X_train, 'length'),\n",
    "    \"weight\": Feature(X_train, 'weight'),\n",
    "    \"neighbors\": Feature(X_train,'neighbors'),\n",
    "    \"count\": Feature(X_train,'count'),\n",
    "    \"looped\": Feature(X_train,'looped')}\n",
    "\n",
    "test_features = {\n",
    "    \"address\": Feature(X_test,'address'),\n",
    "    \"income\": Feature(X_test,'income'),\n",
    "    \"day\": Feature(X_test, 'day'),\n",
    "    \"year\": Feature(X_test,'year'),\n",
    "    \"length\": Feature(X_test, 'length'),\n",
    "    \"weight\": Feature(X_test, 'weight'),\n",
    "    \"neighbors\": Feature(X_test,'neighbors'),\n",
    "    \"count\": Feature(X_test,'count'),\n",
    "    \"looped\": Feature(X_test,'looped')}"
   ],
   "metadata": {
    "collapsed": false
   }
  },
  {
   "cell_type": "code",
   "execution_count": 53,
   "outputs": [],
   "source": [
    "train_features_d = {} # derived through transformations to be more normally distributed and on smaller domains\n",
    "test_features_d = {}\n",
    "\n",
    "train_features_d['year'] = Feature(X_train,'year')\n",
    "test_features_d['year']  = Feature(X_test,'year')"
   ],
   "metadata": {
    "collapsed": false
   }
  },
  {
   "cell_type": "code",
   "execution_count": 54,
   "outputs": [
    {
     "data": {
      "text/plain": "                     length                                               \\\n                      count        mean         std    min    25%    50%   \nlabel                                                                      \nAPT                     1.0    2.000000         NaN    2.0    2.0    2.0   \nCerber               1083.0   42.035088   57.243543    0.0    2.0    8.0   \nCryptConsole            2.0   72.000000  101.823376    0.0   36.0   72.0   \nCryptXXX              293.0   48.648464   58.101493    0.0    2.0   16.0   \nCryptoLocker         1144.0   30.968531   50.384965    0.0    0.0    6.0   \nCryptoTorLocker2015     5.0   32.400000   62.424354    2.0    4.0    4.0   \nCryptoWall           1476.0   48.891599   62.199693    0.0    2.0    8.0   \nDMALocker              26.0   19.384615   46.150256    0.0    0.0    2.0   \nDMALockerv3            51.0   44.666667   63.618446    0.0    0.0    4.0   \nEDA2                    1.0  144.000000         NaN  144.0  144.0  144.0   \nFlyper                  1.0   14.000000         NaN   14.0   14.0   14.0   \nGlobe                   7.0   43.714286   68.599597    0.0    1.0    6.0   \nGlobeImposter           5.0   33.600000   62.119240    0.0    2.0    4.0   \nJigSaw                  1.0    0.000000         NaN    0.0    0.0    0.0   \nLocky                 785.0   47.329936   61.892966    0.0    2.0    8.0   \nNoobCrypt              45.0   26.844444   55.193031    0.0    0.0    0.0   \nRazy                    1.0   54.000000         NaN   54.0   54.0   54.0   \nSam                     1.0    6.000000         NaN    6.0    6.0    6.0   \nSamSam                 11.0   43.454545   64.851158    0.0    0.0    8.0   \nVenusLocker             2.0    8.000000    2.828427    6.0    7.0    8.0   \nWannaCry                2.0  144.000000    0.000000  144.0  144.0  144.0   \nXLocker                 1.0  144.000000         NaN  144.0  144.0  144.0   \n\n                                   weight             ... neighbors        \\\n                       75%    max   count       mean  ...       75%   max   \nlabel                                                 ...                   \nAPT                    2.0    2.0     1.0   1.500000  ...       2.0   2.0   \nCerber                72.0  144.0  1083.0   0.296815  ...       2.0  10.0   \nCryptConsole         108.0  144.0     2.0   0.708110  ...       2.0   2.0   \nCryptXXX             102.0  144.0   293.0   0.352714  ...       2.0   6.0   \nCryptoLocker          28.0  144.0  1144.0   0.840725  ...       3.0  63.0   \nCryptoTorLocker2015    8.0  144.0     5.0   0.986878  ...      11.0  16.0   \nCryptoWall           144.0  144.0  1476.0   0.767319  ...       2.0  37.0   \nDMALocker              6.0  144.0    26.0   0.917706  ...       2.0   6.0   \nDMALockerv3          144.0  144.0    51.0   0.530395  ...       1.0   4.0   \nEDA2                 144.0  144.0     1.0   0.000303  ...       2.0   2.0   \nFlyper                14.0   14.0     1.0   0.500000  ...       2.0   2.0   \nGlobe                 77.0  144.0     7.0   0.338471  ...       2.0   3.0   \nGlobeImposter         18.0  144.0     5.0   0.643282  ...       5.0   9.0   \nJigSaw                 0.0    0.0     1.0   0.111111  ...       2.0   2.0   \nLocky                144.0  144.0   785.0   0.374995  ...       1.0   6.0   \nNoobCrypt              8.0  144.0    45.0   0.732404  ...       1.0   2.0   \nRazy                  54.0   54.0     1.0  26.411461  ...      27.0  27.0   \nSam                    6.0    6.0     1.0   0.062500  ...       3.0   3.0   \nSamSam                81.0  144.0    11.0   0.570040  ...       2.0   4.0   \nVenusLocker            9.0   10.0     2.0   0.041667  ...       2.0   2.0   \nWannaCry             144.0  144.0     2.0   0.007810  ...       1.0   1.0   \nXLocker              144.0  144.0     1.0   0.412207  ...       1.0   1.0   \n\n                     income                                            \\\n                      count          mean           std           min   \nlabel                                                                   \nAPT                     1.0  7.449526e+07           NaN  7.449526e+07   \nCerber               1083.0  1.045140e+08  2.462109e+08  3.000000e+07   \nCryptConsole            2.0  4.396725e+07  8.531597e+06  3.793450e+07   \nCryptXXX              293.0  1.326294e+08  4.887407e+07  3.263323e+07   \nCryptoLocker         1144.0  1.947917e+09  1.420100e+10  3.000000e+07   \nCryptoTorLocker2015     5.0  6.175042e+08  4.140341e+08  1.888900e+08   \nCryptoWall           1476.0  6.888960e+08  2.295361e+09  3.000000e+07   \nDMALocker              26.0  6.963475e+08  1.123449e+09  3.770000e+07   \nDMALockerv3            51.0  8.428249e+08  8.043184e+08  4.719290e+07   \nEDA2                    1.0  3.000000e+07           NaN  3.000000e+07   \nFlyper                  1.0  3.003316e+07           NaN  3.003316e+07   \nGlobe                   7.0  7.189174e+07  3.626657e+07  3.300000e+07   \nGlobeImposter           5.0  3.066024e+09  1.855626e+09  1.219500e+08   \nJigSaw                  1.0  1.512381e+08           NaN  1.512381e+08   \nLocky                 785.0  2.602313e+08  4.100169e+08  3.086404e+07   \nNoobCrypt              45.0  2.190694e+08  2.565852e+08  3.242530e+07   \nRazy                    1.0  1.415000e+11           NaN  1.415000e+11   \nSam                     1.0  2.900000e+09           NaN  2.900000e+09   \nSamSam                 11.0  1.264769e+09  1.153547e+09  1.700000e+08   \nVenusLocker             2.0  9.000000e+07  1.414214e+07  8.000000e+07   \nWannaCry                2.0  3.414759e+07  1.622942e+06  3.300000e+07   \nXLocker                 1.0  1.000000e+08           NaN  1.000000e+08   \n\n                                                                             \n                              25%           50%           75%           max  \nlabel                                                                        \nAPT                  7.449526e+07  7.449526e+07  7.449526e+07  7.449526e+07  \nCerber               7.500000e+07  8.624000e+07  1.000000e+08  8.041664e+09  \nCryptConsole         4.095088e+07  4.396725e+07  4.698362e+07  5.000000e+07  \nCryptXXX             1.200000e+08  1.200000e+08  1.200000e+08  3.600000e+08  \nCryptoLocker         7.279222e+07  2.000000e+08  6.893388e+08  2.761544e+11  \nCryptoTorLocker2015  2.568549e+08  5.517978e+08  1.012471e+09  1.077507e+09  \nCryptoWall           1.000000e+08  2.031250e+08  4.048106e+08  4.213426e+10  \nDMALocker            2.607518e+08  4.210065e+08  6.600000e+08  5.929831e+09  \nDMALockerv3          3.000000e+08  6.000000e+08  1.000000e+09  3.000000e+09  \nEDA2                 3.000000e+07  3.000000e+07  3.000000e+07  3.000000e+07  \nFlyper               3.003316e+07  3.003316e+07  3.003316e+07  3.003316e+07  \nGlobe                4.250000e+07  6.524221e+07  9.500000e+07  1.300000e+08  \nGlobeImposter        2.499729e+09  3.899900e+09  3.900300e+09  4.908241e+09  \nJigSaw               1.512381e+08  1.512381e+08  1.512381e+08  1.512381e+08  \nLocky                1.000000e+08  2.000000e+08  4.000000e+08  5.000000e+09  \nNoobCrypt            6.274748e+07  1.212452e+08  2.619726e+08  1.162445e+09  \nRazy                 1.415000e+11  1.415000e+11  1.415000e+11  1.415000e+11  \nSam                  2.900000e+09  2.900000e+09  2.900000e+09  2.900000e+09  \nSamSam               3.850000e+08  1.192454e+09  1.600000e+09  3.800000e+09  \nVenusLocker          8.500000e+07  9.000000e+07  9.500000e+07  1.000000e+08  \nWannaCry             3.357380e+07  3.414759e+07  3.472139e+07  3.529519e+07  \nXLocker              1.000000e+08  1.000000e+08  1.000000e+08  1.000000e+08  \n\n[22 rows x 40 columns]",
      "text/html": "<div>\n<style scoped>\n    .dataframe tbody tr th:only-of-type {\n        vertical-align: middle;\n    }\n\n    .dataframe tbody tr th {\n        vertical-align: top;\n    }\n\n    .dataframe thead tr th {\n        text-align: left;\n    }\n\n    .dataframe thead tr:last-of-type th {\n        text-align: right;\n    }\n</style>\n<table border=\"1\" class=\"dataframe\">\n  <thead>\n    <tr>\n      <th></th>\n      <th colspan=\"8\" halign=\"left\">length</th>\n      <th colspan=\"2\" halign=\"left\">weight</th>\n      <th>...</th>\n      <th colspan=\"2\" halign=\"left\">neighbors</th>\n      <th colspan=\"8\" halign=\"left\">income</th>\n    </tr>\n    <tr>\n      <th></th>\n      <th>count</th>\n      <th>mean</th>\n      <th>std</th>\n      <th>min</th>\n      <th>25%</th>\n      <th>50%</th>\n      <th>75%</th>\n      <th>max</th>\n      <th>count</th>\n      <th>mean</th>\n      <th>...</th>\n      <th>75%</th>\n      <th>max</th>\n      <th>count</th>\n      <th>mean</th>\n      <th>std</th>\n      <th>min</th>\n      <th>25%</th>\n      <th>50%</th>\n      <th>75%</th>\n      <th>max</th>\n    </tr>\n    <tr>\n      <th>label</th>\n      <th></th>\n      <th></th>\n      <th></th>\n      <th></th>\n      <th></th>\n      <th></th>\n      <th></th>\n      <th></th>\n      <th></th>\n      <th></th>\n      <th></th>\n      <th></th>\n      <th></th>\n      <th></th>\n      <th></th>\n      <th></th>\n      <th></th>\n      <th></th>\n      <th></th>\n      <th></th>\n      <th></th>\n    </tr>\n  </thead>\n  <tbody>\n    <tr>\n      <th>APT</th>\n      <td>1.0</td>\n      <td>2.000000</td>\n      <td>NaN</td>\n      <td>2.0</td>\n      <td>2.0</td>\n      <td>2.0</td>\n      <td>2.0</td>\n      <td>2.0</td>\n      <td>1.0</td>\n      <td>1.500000</td>\n      <td>...</td>\n      <td>2.0</td>\n      <td>2.0</td>\n      <td>1.0</td>\n      <td>7.449526e+07</td>\n      <td>NaN</td>\n      <td>7.449526e+07</td>\n      <td>7.449526e+07</td>\n      <td>7.449526e+07</td>\n      <td>7.449526e+07</td>\n      <td>7.449526e+07</td>\n    </tr>\n    <tr>\n      <th>Cerber</th>\n      <td>1083.0</td>\n      <td>42.035088</td>\n      <td>57.243543</td>\n      <td>0.0</td>\n      <td>2.0</td>\n      <td>8.0</td>\n      <td>72.0</td>\n      <td>144.0</td>\n      <td>1083.0</td>\n      <td>0.296815</td>\n      <td>...</td>\n      <td>2.0</td>\n      <td>10.0</td>\n      <td>1083.0</td>\n      <td>1.045140e+08</td>\n      <td>2.462109e+08</td>\n      <td>3.000000e+07</td>\n      <td>7.500000e+07</td>\n      <td>8.624000e+07</td>\n      <td>1.000000e+08</td>\n      <td>8.041664e+09</td>\n    </tr>\n    <tr>\n      <th>CryptConsole</th>\n      <td>2.0</td>\n      <td>72.000000</td>\n      <td>101.823376</td>\n      <td>0.0</td>\n      <td>36.0</td>\n      <td>72.0</td>\n      <td>108.0</td>\n      <td>144.0</td>\n      <td>2.0</td>\n      <td>0.708110</td>\n      <td>...</td>\n      <td>2.0</td>\n      <td>2.0</td>\n      <td>2.0</td>\n      <td>4.396725e+07</td>\n      <td>8.531597e+06</td>\n      <td>3.793450e+07</td>\n      <td>4.095088e+07</td>\n      <td>4.396725e+07</td>\n      <td>4.698362e+07</td>\n      <td>5.000000e+07</td>\n    </tr>\n    <tr>\n      <th>CryptXXX</th>\n      <td>293.0</td>\n      <td>48.648464</td>\n      <td>58.101493</td>\n      <td>0.0</td>\n      <td>2.0</td>\n      <td>16.0</td>\n      <td>102.0</td>\n      <td>144.0</td>\n      <td>293.0</td>\n      <td>0.352714</td>\n      <td>...</td>\n      <td>2.0</td>\n      <td>6.0</td>\n      <td>293.0</td>\n      <td>1.326294e+08</td>\n      <td>4.887407e+07</td>\n      <td>3.263323e+07</td>\n      <td>1.200000e+08</td>\n      <td>1.200000e+08</td>\n      <td>1.200000e+08</td>\n      <td>3.600000e+08</td>\n    </tr>\n    <tr>\n      <th>CryptoLocker</th>\n      <td>1144.0</td>\n      <td>30.968531</td>\n      <td>50.384965</td>\n      <td>0.0</td>\n      <td>0.0</td>\n      <td>6.0</td>\n      <td>28.0</td>\n      <td>144.0</td>\n      <td>1144.0</td>\n      <td>0.840725</td>\n      <td>...</td>\n      <td>3.0</td>\n      <td>63.0</td>\n      <td>1144.0</td>\n      <td>1.947917e+09</td>\n      <td>1.420100e+10</td>\n      <td>3.000000e+07</td>\n      <td>7.279222e+07</td>\n      <td>2.000000e+08</td>\n      <td>6.893388e+08</td>\n      <td>2.761544e+11</td>\n    </tr>\n    <tr>\n      <th>CryptoTorLocker2015</th>\n      <td>5.0</td>\n      <td>32.400000</td>\n      <td>62.424354</td>\n      <td>2.0</td>\n      <td>4.0</td>\n      <td>4.0</td>\n      <td>8.0</td>\n      <td>144.0</td>\n      <td>5.0</td>\n      <td>0.986878</td>\n      <td>...</td>\n      <td>11.0</td>\n      <td>16.0</td>\n      <td>5.0</td>\n      <td>6.175042e+08</td>\n      <td>4.140341e+08</td>\n      <td>1.888900e+08</td>\n      <td>2.568549e+08</td>\n      <td>5.517978e+08</td>\n      <td>1.012471e+09</td>\n      <td>1.077507e+09</td>\n    </tr>\n    <tr>\n      <th>CryptoWall</th>\n      <td>1476.0</td>\n      <td>48.891599</td>\n      <td>62.199693</td>\n      <td>0.0</td>\n      <td>2.0</td>\n      <td>8.0</td>\n      <td>144.0</td>\n      <td>144.0</td>\n      <td>1476.0</td>\n      <td>0.767319</td>\n      <td>...</td>\n      <td>2.0</td>\n      <td>37.0</td>\n      <td>1476.0</td>\n      <td>6.888960e+08</td>\n      <td>2.295361e+09</td>\n      <td>3.000000e+07</td>\n      <td>1.000000e+08</td>\n      <td>2.031250e+08</td>\n      <td>4.048106e+08</td>\n      <td>4.213426e+10</td>\n    </tr>\n    <tr>\n      <th>DMALocker</th>\n      <td>26.0</td>\n      <td>19.384615</td>\n      <td>46.150256</td>\n      <td>0.0</td>\n      <td>0.0</td>\n      <td>2.0</td>\n      <td>6.0</td>\n      <td>144.0</td>\n      <td>26.0</td>\n      <td>0.917706</td>\n      <td>...</td>\n      <td>2.0</td>\n      <td>6.0</td>\n      <td>26.0</td>\n      <td>6.963475e+08</td>\n      <td>1.123449e+09</td>\n      <td>3.770000e+07</td>\n      <td>2.607518e+08</td>\n      <td>4.210065e+08</td>\n      <td>6.600000e+08</td>\n      <td>5.929831e+09</td>\n    </tr>\n    <tr>\n      <th>DMALockerv3</th>\n      <td>51.0</td>\n      <td>44.666667</td>\n      <td>63.618446</td>\n      <td>0.0</td>\n      <td>0.0</td>\n      <td>4.0</td>\n      <td>144.0</td>\n      <td>144.0</td>\n      <td>51.0</td>\n      <td>0.530395</td>\n      <td>...</td>\n      <td>1.0</td>\n      <td>4.0</td>\n      <td>51.0</td>\n      <td>8.428249e+08</td>\n      <td>8.043184e+08</td>\n      <td>4.719290e+07</td>\n      <td>3.000000e+08</td>\n      <td>6.000000e+08</td>\n      <td>1.000000e+09</td>\n      <td>3.000000e+09</td>\n    </tr>\n    <tr>\n      <th>EDA2</th>\n      <td>1.0</td>\n      <td>144.000000</td>\n      <td>NaN</td>\n      <td>144.0</td>\n      <td>144.0</td>\n      <td>144.0</td>\n      <td>144.0</td>\n      <td>144.0</td>\n      <td>1.0</td>\n      <td>0.000303</td>\n      <td>...</td>\n      <td>2.0</td>\n      <td>2.0</td>\n      <td>1.0</td>\n      <td>3.000000e+07</td>\n      <td>NaN</td>\n      <td>3.000000e+07</td>\n      <td>3.000000e+07</td>\n      <td>3.000000e+07</td>\n      <td>3.000000e+07</td>\n      <td>3.000000e+07</td>\n    </tr>\n    <tr>\n      <th>Flyper</th>\n      <td>1.0</td>\n      <td>14.000000</td>\n      <td>NaN</td>\n      <td>14.0</td>\n      <td>14.0</td>\n      <td>14.0</td>\n      <td>14.0</td>\n      <td>14.0</td>\n      <td>1.0</td>\n      <td>0.500000</td>\n      <td>...</td>\n      <td>2.0</td>\n      <td>2.0</td>\n      <td>1.0</td>\n      <td>3.003316e+07</td>\n      <td>NaN</td>\n      <td>3.003316e+07</td>\n      <td>3.003316e+07</td>\n      <td>3.003316e+07</td>\n      <td>3.003316e+07</td>\n      <td>3.003316e+07</td>\n    </tr>\n    <tr>\n      <th>Globe</th>\n      <td>7.0</td>\n      <td>43.714286</td>\n      <td>68.599597</td>\n      <td>0.0</td>\n      <td>1.0</td>\n      <td>6.0</td>\n      <td>77.0</td>\n      <td>144.0</td>\n      <td>7.0</td>\n      <td>0.338471</td>\n      <td>...</td>\n      <td>2.0</td>\n      <td>3.0</td>\n      <td>7.0</td>\n      <td>7.189174e+07</td>\n      <td>3.626657e+07</td>\n      <td>3.300000e+07</td>\n      <td>4.250000e+07</td>\n      <td>6.524221e+07</td>\n      <td>9.500000e+07</td>\n      <td>1.300000e+08</td>\n    </tr>\n    <tr>\n      <th>GlobeImposter</th>\n      <td>5.0</td>\n      <td>33.600000</td>\n      <td>62.119240</td>\n      <td>0.0</td>\n      <td>2.0</td>\n      <td>4.0</td>\n      <td>18.0</td>\n      <td>144.0</td>\n      <td>5.0</td>\n      <td>0.643282</td>\n      <td>...</td>\n      <td>5.0</td>\n      <td>9.0</td>\n      <td>5.0</td>\n      <td>3.066024e+09</td>\n      <td>1.855626e+09</td>\n      <td>1.219500e+08</td>\n      <td>2.499729e+09</td>\n      <td>3.899900e+09</td>\n      <td>3.900300e+09</td>\n      <td>4.908241e+09</td>\n    </tr>\n    <tr>\n      <th>JigSaw</th>\n      <td>1.0</td>\n      <td>0.000000</td>\n      <td>NaN</td>\n      <td>0.0</td>\n      <td>0.0</td>\n      <td>0.0</td>\n      <td>0.0</td>\n      <td>0.0</td>\n      <td>1.0</td>\n      <td>0.111111</td>\n      <td>...</td>\n      <td>2.0</td>\n      <td>2.0</td>\n      <td>1.0</td>\n      <td>1.512381e+08</td>\n      <td>NaN</td>\n      <td>1.512381e+08</td>\n      <td>1.512381e+08</td>\n      <td>1.512381e+08</td>\n      <td>1.512381e+08</td>\n      <td>1.512381e+08</td>\n    </tr>\n    <tr>\n      <th>Locky</th>\n      <td>785.0</td>\n      <td>47.329936</td>\n      <td>61.892966</td>\n      <td>0.0</td>\n      <td>2.0</td>\n      <td>8.0</td>\n      <td>144.0</td>\n      <td>144.0</td>\n      <td>785.0</td>\n      <td>0.374995</td>\n      <td>...</td>\n      <td>1.0</td>\n      <td>6.0</td>\n      <td>785.0</td>\n      <td>2.602313e+08</td>\n      <td>4.100169e+08</td>\n      <td>3.086404e+07</td>\n      <td>1.000000e+08</td>\n      <td>2.000000e+08</td>\n      <td>4.000000e+08</td>\n      <td>5.000000e+09</td>\n    </tr>\n    <tr>\n      <th>NoobCrypt</th>\n      <td>45.0</td>\n      <td>26.844444</td>\n      <td>55.193031</td>\n      <td>0.0</td>\n      <td>0.0</td>\n      <td>0.0</td>\n      <td>8.0</td>\n      <td>144.0</td>\n      <td>45.0</td>\n      <td>0.732404</td>\n      <td>...</td>\n      <td>1.0</td>\n      <td>2.0</td>\n      <td>45.0</td>\n      <td>2.190694e+08</td>\n      <td>2.565852e+08</td>\n      <td>3.242530e+07</td>\n      <td>6.274748e+07</td>\n      <td>1.212452e+08</td>\n      <td>2.619726e+08</td>\n      <td>1.162445e+09</td>\n    </tr>\n    <tr>\n      <th>Razy</th>\n      <td>1.0</td>\n      <td>54.000000</td>\n      <td>NaN</td>\n      <td>54.0</td>\n      <td>54.0</td>\n      <td>54.0</td>\n      <td>54.0</td>\n      <td>54.0</td>\n      <td>1.0</td>\n      <td>26.411461</td>\n      <td>...</td>\n      <td>27.0</td>\n      <td>27.0</td>\n      <td>1.0</td>\n      <td>1.415000e+11</td>\n      <td>NaN</td>\n      <td>1.415000e+11</td>\n      <td>1.415000e+11</td>\n      <td>1.415000e+11</td>\n      <td>1.415000e+11</td>\n      <td>1.415000e+11</td>\n    </tr>\n    <tr>\n      <th>Sam</th>\n      <td>1.0</td>\n      <td>6.000000</td>\n      <td>NaN</td>\n      <td>6.0</td>\n      <td>6.0</td>\n      <td>6.0</td>\n      <td>6.0</td>\n      <td>6.0</td>\n      <td>1.0</td>\n      <td>0.062500</td>\n      <td>...</td>\n      <td>3.0</td>\n      <td>3.0</td>\n      <td>1.0</td>\n      <td>2.900000e+09</td>\n      <td>NaN</td>\n      <td>2.900000e+09</td>\n      <td>2.900000e+09</td>\n      <td>2.900000e+09</td>\n      <td>2.900000e+09</td>\n      <td>2.900000e+09</td>\n    </tr>\n    <tr>\n      <th>SamSam</th>\n      <td>11.0</td>\n      <td>43.454545</td>\n      <td>64.851158</td>\n      <td>0.0</td>\n      <td>0.0</td>\n      <td>8.0</td>\n      <td>81.0</td>\n      <td>144.0</td>\n      <td>11.0</td>\n      <td>0.570040</td>\n      <td>...</td>\n      <td>2.0</td>\n      <td>4.0</td>\n      <td>11.0</td>\n      <td>1.264769e+09</td>\n      <td>1.153547e+09</td>\n      <td>1.700000e+08</td>\n      <td>3.850000e+08</td>\n      <td>1.192454e+09</td>\n      <td>1.600000e+09</td>\n      <td>3.800000e+09</td>\n    </tr>\n    <tr>\n      <th>VenusLocker</th>\n      <td>2.0</td>\n      <td>8.000000</td>\n      <td>2.828427</td>\n      <td>6.0</td>\n      <td>7.0</td>\n      <td>8.0</td>\n      <td>9.0</td>\n      <td>10.0</td>\n      <td>2.0</td>\n      <td>0.041667</td>\n      <td>...</td>\n      <td>2.0</td>\n      <td>2.0</td>\n      <td>2.0</td>\n      <td>9.000000e+07</td>\n      <td>1.414214e+07</td>\n      <td>8.000000e+07</td>\n      <td>8.500000e+07</td>\n      <td>9.000000e+07</td>\n      <td>9.500000e+07</td>\n      <td>1.000000e+08</td>\n    </tr>\n    <tr>\n      <th>WannaCry</th>\n      <td>2.0</td>\n      <td>144.000000</td>\n      <td>0.000000</td>\n      <td>144.0</td>\n      <td>144.0</td>\n      <td>144.0</td>\n      <td>144.0</td>\n      <td>144.0</td>\n      <td>2.0</td>\n      <td>0.007810</td>\n      <td>...</td>\n      <td>1.0</td>\n      <td>1.0</td>\n      <td>2.0</td>\n      <td>3.414759e+07</td>\n      <td>1.622942e+06</td>\n      <td>3.300000e+07</td>\n      <td>3.357380e+07</td>\n      <td>3.414759e+07</td>\n      <td>3.472139e+07</td>\n      <td>3.529519e+07</td>\n    </tr>\n    <tr>\n      <th>XLocker</th>\n      <td>1.0</td>\n      <td>144.000000</td>\n      <td>NaN</td>\n      <td>144.0</td>\n      <td>144.0</td>\n      <td>144.0</td>\n      <td>144.0</td>\n      <td>144.0</td>\n      <td>1.0</td>\n      <td>0.412207</td>\n      <td>...</td>\n      <td>1.0</td>\n      <td>1.0</td>\n      <td>1.0</td>\n      <td>1.000000e+08</td>\n      <td>NaN</td>\n      <td>1.000000e+08</td>\n      <td>1.000000e+08</td>\n      <td>1.000000e+08</td>\n      <td>1.000000e+08</td>\n      <td>1.000000e+08</td>\n    </tr>\n  </tbody>\n</table>\n<p>22 rows × 40 columns</p>\n</div>"
     },
     "execution_count": 54,
     "metadata": {},
     "output_type": "execute_result"
    }
   ],
   "source": [
    "# statistics of the graph properties\n",
    "df[df['label']!='white'].groupby('label')[graph_fs].describe()"
   ],
   "metadata": {
    "collapsed": false
   }
  },
  {
   "cell_type": "code",
   "execution_count": 55,
   "outputs": [
    {
     "data": {
      "text/plain": "         length                                                       weight  \\\n          count       mean        std  min  25%  50%    75%    max     count   \nlabel                                                                          \nwhite  345060.0  44.947992  58.935955  0.0  2.0  8.0  106.0  144.0  345060.0   \n\n                 ... neighbors             income                              \\\n           mean  ...       75%      max     count          mean           std   \nlabel            ...                                                            \nwhite  0.546767  ...       2.0  12920.0  345060.0  4.323266e+09  1.557013e+11   \n\n                                                                        \n              min          25%          50%          75%           max  \nlabel                                                                   \nwhite  30000000.0  73504278.25  200000000.0  999950000.0  4.966515e+13  \n\n[1 rows x 40 columns]",
      "text/html": "<div>\n<style scoped>\n    .dataframe tbody tr th:only-of-type {\n        vertical-align: middle;\n    }\n\n    .dataframe tbody tr th {\n        vertical-align: top;\n    }\n\n    .dataframe thead tr th {\n        text-align: left;\n    }\n\n    .dataframe thead tr:last-of-type th {\n        text-align: right;\n    }\n</style>\n<table border=\"1\" class=\"dataframe\">\n  <thead>\n    <tr>\n      <th></th>\n      <th colspan=\"8\" halign=\"left\">length</th>\n      <th colspan=\"2\" halign=\"left\">weight</th>\n      <th>...</th>\n      <th colspan=\"2\" halign=\"left\">neighbors</th>\n      <th colspan=\"8\" halign=\"left\">income</th>\n    </tr>\n    <tr>\n      <th></th>\n      <th>count</th>\n      <th>mean</th>\n      <th>std</th>\n      <th>min</th>\n      <th>25%</th>\n      <th>50%</th>\n      <th>75%</th>\n      <th>max</th>\n      <th>count</th>\n      <th>mean</th>\n      <th>...</th>\n      <th>75%</th>\n      <th>max</th>\n      <th>count</th>\n      <th>mean</th>\n      <th>std</th>\n      <th>min</th>\n      <th>25%</th>\n      <th>50%</th>\n      <th>75%</th>\n      <th>max</th>\n    </tr>\n    <tr>\n      <th>label</th>\n      <th></th>\n      <th></th>\n      <th></th>\n      <th></th>\n      <th></th>\n      <th></th>\n      <th></th>\n      <th></th>\n      <th></th>\n      <th></th>\n      <th></th>\n      <th></th>\n      <th></th>\n      <th></th>\n      <th></th>\n      <th></th>\n      <th></th>\n      <th></th>\n      <th></th>\n      <th></th>\n      <th></th>\n    </tr>\n  </thead>\n  <tbody>\n    <tr>\n      <th>white</th>\n      <td>345060.0</td>\n      <td>44.947992</td>\n      <td>58.935955</td>\n      <td>0.0</td>\n      <td>2.0</td>\n      <td>8.0</td>\n      <td>106.0</td>\n      <td>144.0</td>\n      <td>345060.0</td>\n      <td>0.546767</td>\n      <td>...</td>\n      <td>2.0</td>\n      <td>12920.0</td>\n      <td>345060.0</td>\n      <td>4.323266e+09</td>\n      <td>1.557013e+11</td>\n      <td>30000000.0</td>\n      <td>73504278.25</td>\n      <td>200000000.0</td>\n      <td>999950000.0</td>\n      <td>4.966515e+13</td>\n    </tr>\n  </tbody>\n</table>\n<p>1 rows × 40 columns</p>\n</div>"
     },
     "execution_count": 55,
     "metadata": {},
     "output_type": "execute_result"
    }
   ],
   "source": [
    "# statistics of the graph properties\n",
    "dft[dft['label']=='white'].groupby('label')[graph_fs].describe()"
   ],
   "metadata": {
    "collapsed": false
   }
  },
  {
   "cell_type": "markdown",
   "source": [
    "#### 2.1.0 income [bc_income]"
   ],
   "metadata": {
    "collapsed": false
   }
  },
  {
   "cell_type": "code",
   "execution_count": 56,
   "outputs": [
    {
     "data": {
      "text/plain": "count    1.198900e+04\nmean     1.130756e+09\nstd      5.125942e+09\nmin      3.000000e+07\n25%      5.773252e+07\n50%      1.335503e+08\n75%      4.989000e+08\nmax      1.862204e+11\nName: income, dtype: float64"
     },
     "execution_count": 56,
     "metadata": {},
     "output_type": "execute_result"
    }
   ],
   "source": [
    "train_features['income'].series.describe()"
   ],
   "metadata": {
    "collapsed": false
   }
  },
  {
   "cell_type": "code",
   "execution_count": 57,
   "outputs": [
    {
     "data": {
      "text/plain": "(-156190439.204, 37268087840.6]     11943\n(37268087840.6, 74506175681.2]         35\n(74506175681.2, 111744263521.8]         5\n(111744263521.8, 148982351362.4]        5\n(148982351362.4, 186220439203.0]        1\nName: income, dtype: int64"
     },
     "execution_count": 57,
     "metadata": {},
     "output_type": "execute_result"
    }
   ],
   "source": [
    "train_features['income'].series.value_counts(bins=5)"
   ],
   "metadata": {
    "collapsed": false
   }
  },
  {
   "cell_type": "code",
   "execution_count": 58,
   "outputs": [
    {
     "data": {
      "text/plain": "<Figure size 432x288 with 1 Axes>",
      "image/png": "[encoded data removed]"
     },
     "metadata": {
      "needs_background": "light"
     },
     "output_type": "display_data"
    }
   ],
   "source": [
    "train_features['income'].plot_pdf()"
   ],
   "metadata": {
    "collapsed": false
   }
  },
  {
   "cell_type": "markdown",
   "source": [
    "The Shapiro–Wilk test tests the null hypothesis that a sample x1, ..., xn came from a normally distributed population."
   ],
   "metadata": {
    "collapsed": false
   }
  },
  {
   "cell_type": "code",
   "execution_count": 59,
   "outputs": [
    {
     "data": {
      "text/plain": "ShapiroResult(statistic=0.18264621496200562, pvalue=0.0)"
     },
     "execution_count": 59,
     "metadata": {},
     "output_type": "execute_result"
    },
    {
     "data": {
      "text/plain": "AndersonResult(statistic=3199.1775991373925, critical_values=array([0.576, 0.656, 0.787, 0.918, 1.092]), significance_level=array([15. , 10. ,  5. ,  2.5,  1. ]))"
     },
     "execution_count": 59,
     "metadata": {},
     "output_type": "execute_result"
    }
   ],
   "source": [
    "#shapiro(train_features['income'].series)\n",
    "shapiro(X_train['income'])\n",
    "\n",
    "stats.anderson(X_train.income, dist='norm')"
   ],
   "metadata": {
    "collapsed": false
   }
  },
  {
   "cell_type": "code",
   "execution_count": 60,
   "outputs": [
    {
     "name": "stdout",
     "output_type": "stream",
     "text": [
      "Income skew = 15.446287122287593\n"
     ]
    }
   ],
   "source": [
    "print('Income skew = {}'.format(train_features['income'].skew)) # highly skwewed"
   ],
   "metadata": {
    "collapsed": false
   }
  },
  {
   "cell_type": "code",
   "execution_count": 61,
   "outputs": [
    {
     "data": {
      "text/plain": "<Figure size 432x288 with 1 Axes>",
      "image/png": "[encoded data removed]"
     },
     "metadata": {
      "needs_background": "light"
     },
     "output_type": "display_data"
    }
   ],
   "source": [
    "# reducing skew with log\n",
    "log_inc = np.log(np.log(np.log(X_train['income'])))\n",
    "ax = plot_box(log_inc)"
   ],
   "metadata": {
    "collapsed": false
   }
  },
  {
   "cell_type": "code",
   "execution_count": 62,
   "outputs": [
    {
     "data": {
      "text/plain": "<Figure size 432x288 with 1 Axes>",
      "image/png": "[encoded data removed]"
     },
     "metadata": {
      "needs_background": "light"
     },
     "output_type": "display_data"
    }
   ],
   "source": [
    "plot_pdf(log_inc, 'log')"
   ],
   "metadata": {
    "collapsed": false
   }
  },
  {
   "cell_type": "markdown",
   "source": [
    "Log doesn't quite normalize the distribution. Try with boxcox"
   ],
   "metadata": {
    "collapsed": false
   }
  },
  {
   "cell_type": "code",
   "execution_count": 63,
   "id": "a87c2e86",
   "metadata": {
    "ExecuteTime": {
     "end_time": "2022-07-28T12:59:41.421760Z",
     "start_time": "2022-07-28T12:59:41.185059Z"
    }
   },
   "outputs": [],
   "source": [
    "# boxcox \n",
    "bc_income_train = train_features['income'].bc() # np array\n",
    "bc_income_test = test_features['income'].bc()   # np array"
   ]
  },
  {
   "cell_type": "code",
   "execution_count": 64,
   "outputs": [
    {
     "data": {
      "text/plain": "<Figure size 432x288 with 1 Axes>",
      "image/png": "[encoded data removed]"
     },
     "metadata": {
      "needs_background": "light"
     },
     "output_type": "display_data"
    }
   ],
   "source": [
    "ax = plot_box(bc_income_train) # box plot of boxcox(income)"
   ],
   "metadata": {
    "collapsed": false
   }
  },
  {
   "cell_type": "markdown",
   "source": [
    "Applying the box-cox transform has removed the outliers"
   ],
   "metadata": {
    "collapsed": false
   }
  },
  {
   "cell_type": "code",
   "execution_count": 65,
   "outputs": [
    {
     "data": {
      "text/plain": "<Figure size 432x288 with 1 Axes>",
      "image/png": "[encoded data removed]"
     },
     "metadata": {
      "needs_background": "light"
     },
     "output_type": "display_data"
    }
   ],
   "source": [
    "plot_pdf(pd.Series(bc_income_train, name='boxcox income'), 'boxcox')"
   ],
   "metadata": {
    "collapsed": false
   }
  },
  {
   "cell_type": "code",
   "execution_count": 66,
   "id": "e73bf645",
   "metadata": {
    "ExecuteTime": {
     "end_time": "2022-07-28T12:59:42.069385Z",
     "start_time": "2022-07-28T12:59:42.055992Z"
    }
   },
   "outputs": [],
   "source": [
    "# Seems good enough to save as a new engineered feature\n",
    "train_features_d['bc_income'] = Feature(pd.DataFrame(bc_income_train, columns=['bc_income']),'bc_income')\n",
    "test_features_d['bc_income']  = Feature(pd.DataFrame(bc_income_test, columns=['bc_income']),'bc_income')"
   ]
  },
  {
   "cell_type": "code",
   "execution_count": 67,
   "outputs": [
    {
     "data": {
      "text/plain": "0.18723895733221685"
     },
     "execution_count": 67,
     "metadata": {},
     "output_type": "execute_result"
    }
   ],
   "source": [
    "train_features_d['bc_income'].skew"
   ],
   "metadata": {
    "collapsed": false
   }
  },
  {
   "cell_type": "code",
   "execution_count": 68,
   "outputs": [
    {
     "data": {
      "text/plain": "ShapiroResult(statistic=0.9634581208229065, pvalue=3.5419047294590743e-26)"
     },
     "execution_count": 68,
     "metadata": {},
     "output_type": "execute_result"
    }
   ],
   "source": [
    "shapiro(test_features_d['bc_income'].series)\n"
   ],
   "metadata": {
    "collapsed": false
   }
  },
  {
   "cell_type": "markdown",
   "id": "e2f32de0",
   "metadata": {},
   "source": [
    "#### 2.1.1 day [day_of_week]"
   ]
  },
  {
   "cell_type": "code",
   "execution_count": 69,
   "outputs": [
    {
     "data": {
      "text/plain": "count    11989.000000\nmean        67.922345\nstd         27.978093\nmin         20.000000\n25%         44.000000\n50%         68.000000\n75%         92.000000\nmax        116.000000\nName: day, dtype: float64"
     },
     "execution_count": 69,
     "metadata": {},
     "output_type": "execute_result"
    }
   ],
   "source": [
    "train_features['day'].series.describe()"
   ],
   "metadata": {
    "collapsed": false
   }
  },
  {
   "cell_type": "code",
   "execution_count": 70,
   "outputs": [
    {
     "data": {
      "text/plain": "<Figure size 432x288 with 1 Axes>",
      "image/png": "[encoded data removed]"
     },
     "metadata": {
      "needs_background": "light"
     },
     "output_type": "display_data"
    }
   ],
   "source": [
    "train_features['day'].plot_pdf()"
   ],
   "metadata": {
    "collapsed": false
   }
  },
  {
   "cell_type": "code",
   "execution_count": 71,
   "outputs": [
    {
     "name": "stdout",
     "output_type": "stream",
     "text": [
      "The distribution in days is pretty flat. has only minor skew s = 0.0002812922921677783\n"
     ]
    }
   ],
   "source": [
    "print('The distribution in days is pretty flat. has only minor skew s = {}'.format(train_features['day'].series.skew()))\n"
   ],
   "metadata": {
    "collapsed": false
   }
  },
  {
   "cell_type": "markdown",
   "source": [
    "We don't need to transform day\n"
   ],
   "metadata": {
    "collapsed": false
   }
  },
  {
   "cell_type": "code",
   "execution_count": 72,
   "outputs": [],
   "source": [
    "train_features_d['day'] = Feature(X_train,'day')\n",
    "test_features_d['day'] = Feature(X_test,'day')"
   ],
   "metadata": {
    "collapsed": false
   }
  },
  {
   "cell_type": "markdown",
   "id": "5603ee5b",
   "metadata": {},
   "source": [
    "###### Engineering day of week feature"
   ]
  },
  {
   "cell_type": "code",
   "execution_count": 73,
   "id": "10cb4f2e",
   "metadata": {
    "ExecuteTime": {
     "end_time": "2022-07-28T12:59:42.680898Z",
     "start_time": "2022-07-28T12:59:42.679342Z"
    }
   },
   "outputs": [],
   "source": [
    "def get_day_number(first_day_of_year, day):\n",
    "    # day number (0 for monday, 6 for sunday) for day\n",
    "    return (first_day_of_year + day - 1) % 7"
   ]
  },
  {
   "cell_type": "code",
   "execution_count": 74,
   "id": "8e52ec5e",
   "metadata": {
    "ExecuteTime": {
     "end_time": "2022-07-28T13:00:49.792527Z",
     "start_time": "2022-07-28T12:59:42.681775Z"
    },
    "scrolled": true
   },
   "outputs": [
    {
     "data": {
      "text/plain": "  0%|          | 0/11989 [00:00<?, ?it/s]",
      "application/vnd.jupyter.widget-view+json": {
       "version_major": 2,
       "version_minor": 0,
       "model_id": "d7ffcd3f21864212b025d2d726c6e2ed"
      }
     },
     "metadata": {},
     "output_type": "display_data"
    }
   ],
   "source": [
    "day_of_week_train = np.array([])\n",
    "for index, row in tqdm(X_train.iterrows(),total=X_train.shape[0]):\n",
    "    # For each data-point, we consider its year and day \n",
    "    # and calculate what day of the week (Monday, Tuesday, etc)\n",
    "    # it was when the transaction happened\n",
    "    # datetime.datetime(year, 1, 1).weekday() returns the first day of the year\n",
    "    # using this information, we can calculate the present day\n",
    "\n",
    "    year_i, day_i = row['year'], row['day']\n",
    "    day_of_week_train = np.append(day_of_week_train, \\\n",
    "                                  get_day_number(datetime.datetime(year_i, 1, 1).weekday(), day_i))"
   ]
  },
  {
   "cell_type": "code",
   "execution_count": 75,
   "id": "e4077e0a",
   "metadata": {
    "ExecuteTime": {
     "end_time": "2022-07-28T13:00:55.739551Z",
     "start_time": "2022-07-28T13:00:49.793329Z"
    }
   },
   "outputs": [
    {
     "data": {
      "text/plain": "  0%|          | 0/2831 [00:00<?, ?it/s]",
      "application/vnd.jupyter.widget-view+json": {
       "version_major": 2,
       "version_minor": 0,
       "model_id": "aa817c550f4448bfa1437c8302c5983e"
      }
     },
     "metadata": {},
     "output_type": "display_data"
    }
   ],
   "source": [
    "day_of_week_test = np.array([])\n",
    "for index, row in tqdm(X_test.iterrows(),total=X_test.shape[0]):\n",
    "    #same as above but for test set\n",
    "\n",
    "    year_i, day_i = row['year'], row['day']\n",
    "    day_of_week_test = np.append(day_of_week_test, \\\n",
    "                                 get_day_number(datetime.datetime(year_i, 1, 1).weekday(), day_i))"
   ]
  },
  {
   "cell_type": "code",
   "execution_count": 76,
   "outputs": [],
   "source": [
    "train_features_d['day_of_week'] = Feature(pd.DataFrame(day_of_week_train.astype(int),columns=['day_of_week']),'day_of_week')\n",
    "test_features_d['day_of_week'] = Feature(pd.DataFrame(day_of_week_test.astype(int),columns=['day_of_week']),'day_of_week')"
   ],
   "metadata": {
    "collapsed": false
   }
  },
  {
   "cell_type": "markdown",
   "id": "e1c0a9fc",
   "metadata": {},
   "source": [
    "####  2.1.2 length [bc_length]"
   ]
  },
  {
   "cell_type": "code",
   "execution_count": 77,
   "outputs": [
    {
     "data": {
      "text/plain": "count    11989.000000\nmean        41.394111\nstd         57.199105\nmin          0.000000\n25%          2.000000\n50%          8.000000\n75%         70.000000\nmax        144.000000\nName: length, dtype: float64"
     },
     "execution_count": 77,
     "metadata": {},
     "output_type": "execute_result"
    }
   ],
   "source": [
    "train_features['length'].series.describe()"
   ],
   "metadata": {
    "collapsed": false
   }
  },
  {
   "cell_type": "code",
   "execution_count": 78,
   "outputs": [
    {
     "data": {
      "text/plain": "<Figure size 432x288 with 1 Axes>",
      "image/png": "[encoded data removed]"
     },
     "metadata": {
      "needs_background": "light"
     },
     "output_type": "display_data"
    }
   ],
   "source": [
    "train_features['length'].plot_pdf()"
   ],
   "metadata": {
    "collapsed": false
   }
  },
  {
   "cell_type": "code",
   "execution_count": 79,
   "outputs": [
    {
     "data": {
      "text/plain": "(-0.145, 72.0]    9023\n(72.0, 144.0]     2966\nName: length, dtype: int64"
     },
     "execution_count": 79,
     "metadata": {},
     "output_type": "execute_result"
    }
   ],
   "source": [
    "train_features['length'].series.value_counts(bins=2)"
   ],
   "metadata": {
    "collapsed": false
   }
  },
  {
   "cell_type": "code",
   "execution_count": 80,
   "outputs": [
    {
     "data": {
      "text/plain": "ShapiroResult(statistic=0.6752521991729736, pvalue=0.0)"
     },
     "execution_count": 80,
     "metadata": {},
     "output_type": "execute_result"
    }
   ],
   "source": [
    "shapiro(train_features['length'].series)"
   ],
   "metadata": {
    "collapsed": false
   }
  },
  {
   "cell_type": "markdown",
   "source": [
    "This has the form of a bimodal distribution according to the Shapiro test (p<0.05 we )\n"
   ],
   "metadata": {
    "collapsed": false
   }
  },
  {
   "cell_type": "code",
   "execution_count": 81,
   "outputs": [
    {
     "data": {
      "text/plain": "         n_day                             address  year  day  length  \\\n2667698   2637  15DQFhP5R7ZeaBS9Ute7NzrYVBFSH1Z2kZ  2018   82       8   \n2013400   1982  3FhUXgmVecach9dZ59JK1yBLEcr9JsvJXZ  2016  157       2   \n2704440   2673  3DpHZaCtj88yaXUtajYnYLb8xgN15K8fnw  2018  118     144   \n1650833   1620  1G6doAKXpDsnsdSA1wgh7jfAnkaPi49M4y  2015  160     144   \n1586811   1556   175gAXqbkq4nho268FZxoBZ7TCCZWzWcg  2015   96     128   \n...        ...                                 ...   ...  ...     ...   \n2796843   2766  3GATJRb9VFCDRe8wQodrNvUouTWGwjLmhM  2018  211      10   \n1036846   1006  18JuSPFSb4f1iWgeMenS6kFeRw2FYDX1kz  2013  276       4   \n1932590   1901  1KSjpKdmpFtbLQqbhCoQ8g127AzGq8CjaY  2016   76     144   \n730452     699  1A3AQAvJLVqne7ud7JT6nb3n1gkhpz7DuT  2012  334       0   \n1063408   1032  1MfphSj17CXv6EkUU2siqMTUzV71DZbi2V  2013  302       0   \n\n           weight  count  looped  neighbors        income  label  \n2667698  1.311111      3       0          2  5.772641e+08  white  \n2013400  0.025000     44       0          1  1.000000e+08  white  \n2704440  3.619217   5991    5991          2  2.999500e+08  white  \n1650833  0.000484   3452    3049          2  2.990000e+08  white  \n1586811  0.625000      2       0          2  4.000000e+07  white  \n...           ...    ...     ...        ...           ...    ...  \n2796843  0.125000      1       0          2  2.600785e+10  white  \n1036846  0.166667      1       0          2  3.012661e+08  white  \n1932590  0.002160   3928    3809          2  1.213316e+08  white  \n730452   1.000000      1       0          1  4.997700e+08  white  \n1063408  1.000000      1       0          2  2.488927e+09  white  \n\n[350004 rows x 11 columns]",
      "text/html": "<div>\n<style scoped>\n    .dataframe tbody tr th:only-of-type {\n        vertical-align: middle;\n    }\n\n    .dataframe tbody tr th {\n        vertical-align: top;\n    }\n\n    .dataframe thead th {\n        text-align: right;\n    }\n</style>\n<table border=\"1\" class=\"dataframe\">\n  <thead>\n    <tr style=\"text-align: right;\">\n      <th></th>\n      <th>n_day</th>\n      <th>address</th>\n      <th>year</th>\n      <th>day</th>\n      <th>length</th>\n      <th>weight</th>\n      <th>count</th>\n      <th>looped</th>\n      <th>neighbors</th>\n      <th>income</th>\n      <th>label</th>\n    </tr>\n  </thead>\n  <tbody>\n    <tr>\n      <th>2667698</th>\n      <td>2637</td>\n      <td>15DQFhP5R7ZeaBS9Ute7NzrYVBFSH1Z2kZ</td>\n      <td>2018</td>\n      <td>82</td>\n      <td>8</td>\n      <td>1.311111</td>\n      <td>3</td>\n      <td>0</td>\n      <td>2</td>\n      <td>5.772641e+08</td>\n      <td>white</td>\n    </tr>\n    <tr>\n      <th>2013400</th>\n      <td>1982</td>\n      <td>3FhUXgmVecach9dZ59JK1yBLEcr9JsvJXZ</td>\n      <td>2016</td>\n      <td>157</td>\n      <td>2</td>\n      <td>0.025000</td>\n      <td>44</td>\n      <td>0</td>\n      <td>1</td>\n      <td>1.000000e+08</td>\n      <td>white</td>\n    </tr>\n    <tr>\n      <th>2704440</th>\n      <td>2673</td>\n      <td>3DpHZaCtj88yaXUtajYnYLb8xgN15K8fnw</td>\n      <td>2018</td>\n      <td>118</td>\n      <td>144</td>\n      <td>3.619217</td>\n      <td>5991</td>\n      <td>5991</td>\n      <td>2</td>\n      <td>2.999500e+08</td>\n      <td>white</td>\n    </tr>\n    <tr>\n      <th>1650833</th>\n      <td>1620</td>\n      <td>1G6doAKXpDsnsdSA1wgh7jfAnkaPi49M4y</td>\n      <td>2015</td>\n      <td>160</td>\n      <td>144</td>\n      <td>0.000484</td>\n      <td>3452</td>\n      <td>3049</td>\n      <td>2</td>\n      <td>2.990000e+08</td>\n      <td>white</td>\n    </tr>\n    <tr>\n      <th>1586811</th>\n      <td>1556</td>\n      <td>175gAXqbkq4nho268FZxoBZ7TCCZWzWcg</td>\n      <td>2015</td>\n      <td>96</td>\n      <td>128</td>\n      <td>0.625000</td>\n      <td>2</td>\n      <td>0</td>\n      <td>2</td>\n      <td>4.000000e+07</td>\n      <td>white</td>\n    </tr>\n    <tr>\n      <th>...</th>\n      <td>...</td>\n      <td>...</td>\n      <td>...</td>\n      <td>...</td>\n      <td>...</td>\n      <td>...</td>\n      <td>...</td>\n      <td>...</td>\n      <td>...</td>\n      <td>...</td>\n      <td>...</td>\n    </tr>\n    <tr>\n      <th>2796843</th>\n      <td>2766</td>\n      <td>3GATJRb9VFCDRe8wQodrNvUouTWGwjLmhM</td>\n      <td>2018</td>\n      <td>211</td>\n      <td>10</td>\n      <td>0.125000</td>\n      <td>1</td>\n      <td>0</td>\n      <td>2</td>\n      <td>2.600785e+10</td>\n      <td>white</td>\n    </tr>\n    <tr>\n      <th>1036846</th>\n      <td>1006</td>\n      <td>18JuSPFSb4f1iWgeMenS6kFeRw2FYDX1kz</td>\n      <td>2013</td>\n      <td>276</td>\n      <td>4</td>\n      <td>0.166667</td>\n      <td>1</td>\n      <td>0</td>\n      <td>2</td>\n      <td>3.012661e+08</td>\n      <td>white</td>\n    </tr>\n    <tr>\n      <th>1932590</th>\n      <td>1901</td>\n      <td>1KSjpKdmpFtbLQqbhCoQ8g127AzGq8CjaY</td>\n      <td>2016</td>\n      <td>76</td>\n      <td>144</td>\n      <td>0.002160</td>\n      <td>3928</td>\n      <td>3809</td>\n      <td>2</td>\n      <td>1.213316e+08</td>\n      <td>white</td>\n    </tr>\n    <tr>\n      <th>730452</th>\n      <td>699</td>\n      <td>1A3AQAvJLVqne7ud7JT6nb3n1gkhpz7DuT</td>\n      <td>2012</td>\n      <td>334</td>\n      <td>0</td>\n      <td>1.000000</td>\n      <td>1</td>\n      <td>0</td>\n      <td>1</td>\n      <td>4.997700e+08</td>\n      <td>white</td>\n    </tr>\n    <tr>\n      <th>1063408</th>\n      <td>1032</td>\n      <td>1MfphSj17CXv6EkUU2siqMTUzV71DZbi2V</td>\n      <td>2013</td>\n      <td>302</td>\n      <td>0</td>\n      <td>1.000000</td>\n      <td>1</td>\n      <td>0</td>\n      <td>2</td>\n      <td>2.488927e+09</td>\n      <td>white</td>\n    </tr>\n  </tbody>\n</table>\n<p>350004 rows × 11 columns</p>\n</div>"
     },
     "execution_count": 81,
     "metadata": {},
     "output_type": "execute_result"
    }
   ],
   "source": [
    "dft"
   ],
   "metadata": {
    "collapsed": false
   }
  },
  {
   "cell_type": "code",
   "execution_count": 82,
   "outputs": [
    {
     "data": {
      "text/plain": "                      count        mean         std    min    25%    50%  \\\nlabel                                                                      \nAPT                     1.0    2.000000         NaN    2.0    2.0    2.0   \nCerber               1083.0   42.035088   57.243543    0.0    2.0    8.0   \nCryptConsole            2.0   72.000000  101.823376    0.0   36.0   72.0   \nCryptXXX              293.0   48.648464   58.101493    0.0    2.0   16.0   \nCryptoLocker         1144.0   30.968531   50.384965    0.0    0.0    6.0   \nCryptoTorLocker2015     5.0   32.400000   62.424354    2.0    4.0    4.0   \nCryptoWall           1476.0   48.891599   62.199693    0.0    2.0    8.0   \nDMALocker              26.0   19.384615   46.150256    0.0    0.0    2.0   \nDMALockerv3            51.0   44.666667   63.618446    0.0    0.0    4.0   \nEDA2                    1.0  144.000000         NaN  144.0  144.0  144.0   \nFlyper                  1.0   14.000000         NaN   14.0   14.0   14.0   \nGlobe                   7.0   43.714286   68.599597    0.0    1.0    6.0   \nGlobeImposter           5.0   33.600000   62.119240    0.0    2.0    4.0   \nJigSaw                  1.0    0.000000         NaN    0.0    0.0    0.0   \nLocky                 785.0   47.329936   61.892966    0.0    2.0    8.0   \nNoobCrypt              45.0   26.844444   55.193031    0.0    0.0    0.0   \nRazy                    1.0   54.000000         NaN   54.0   54.0   54.0   \nSam                     1.0    6.000000         NaN    6.0    6.0    6.0   \nSamSam                 11.0   43.454545   64.851158    0.0    0.0    8.0   \nVenusLocker             2.0    8.000000    2.828427    6.0    7.0    8.0   \nWannaCry                2.0  144.000000    0.000000  144.0  144.0  144.0   \nXLocker                 1.0  144.000000         NaN  144.0  144.0  144.0   \n\n                       75%    max  \nlabel                              \nAPT                    2.0    2.0  \nCerber                72.0  144.0  \nCryptConsole         108.0  144.0  \nCryptXXX             102.0  144.0  \nCryptoLocker          28.0  144.0  \nCryptoTorLocker2015    8.0  144.0  \nCryptoWall           144.0  144.0  \nDMALocker              6.0  144.0  \nDMALockerv3          144.0  144.0  \nEDA2                 144.0  144.0  \nFlyper                14.0   14.0  \nGlobe                 77.0  144.0  \nGlobeImposter         18.0  144.0  \nJigSaw                 0.0    0.0  \nLocky                144.0  144.0  \nNoobCrypt              8.0  144.0  \nRazy                  54.0   54.0  \nSam                    6.0    6.0  \nSamSam                81.0  144.0  \nVenusLocker            9.0   10.0  \nWannaCry             144.0  144.0  \nXLocker              144.0  144.0  ",
      "text/html": "<div>\n<style scoped>\n    .dataframe tbody tr th:only-of-type {\n        vertical-align: middle;\n    }\n\n    .dataframe tbody tr th {\n        vertical-align: top;\n    }\n\n    .dataframe thead th {\n        text-align: right;\n    }\n</style>\n<table border=\"1\" class=\"dataframe\">\n  <thead>\n    <tr style=\"text-align: right;\">\n      <th></th>\n      <th>count</th>\n      <th>mean</th>\n      <th>std</th>\n      <th>min</th>\n      <th>25%</th>\n      <th>50%</th>\n      <th>75%</th>\n      <th>max</th>\n    </tr>\n    <tr>\n      <th>label</th>\n      <th></th>\n      <th></th>\n      <th></th>\n      <th></th>\n      <th></th>\n      <th></th>\n      <th></th>\n      <th></th>\n    </tr>\n  </thead>\n  <tbody>\n    <tr>\n      <th>APT</th>\n      <td>1.0</td>\n      <td>2.000000</td>\n      <td>NaN</td>\n      <td>2.0</td>\n      <td>2.0</td>\n      <td>2.0</td>\n      <td>2.0</td>\n      <td>2.0</td>\n    </tr>\n    <tr>\n      <th>Cerber</th>\n      <td>1083.0</td>\n      <td>42.035088</td>\n      <td>57.243543</td>\n      <td>0.0</td>\n      <td>2.0</td>\n      <td>8.0</td>\n      <td>72.0</td>\n      <td>144.0</td>\n    </tr>\n    <tr>\n      <th>CryptConsole</th>\n      <td>2.0</td>\n      <td>72.000000</td>\n      <td>101.823376</td>\n      <td>0.0</td>\n      <td>36.0</td>\n      <td>72.0</td>\n      <td>108.0</td>\n      <td>144.0</td>\n    </tr>\n    <tr>\n      <th>CryptXXX</th>\n      <td>293.0</td>\n      <td>48.648464</td>\n      <td>58.101493</td>\n      <td>0.0</td>\n      <td>2.0</td>\n      <td>16.0</td>\n      <td>102.0</td>\n      <td>144.0</td>\n    </tr>\n    <tr>\n      <th>CryptoLocker</th>\n      <td>1144.0</td>\n      <td>30.968531</td>\n      <td>50.384965</td>\n      <td>0.0</td>\n      <td>0.0</td>\n      <td>6.0</td>\n      <td>28.0</td>\n      <td>144.0</td>\n    </tr>\n    <tr>\n      <th>CryptoTorLocker2015</th>\n      <td>5.0</td>\n      <td>32.400000</td>\n      <td>62.424354</td>\n      <td>2.0</td>\n      <td>4.0</td>\n      <td>4.0</td>\n      <td>8.0</td>\n      <td>144.0</td>\n    </tr>\n    <tr>\n      <th>CryptoWall</th>\n      <td>1476.0</td>\n      <td>48.891599</td>\n      <td>62.199693</td>\n      <td>0.0</td>\n      <td>2.0</td>\n      <td>8.0</td>\n      <td>144.0</td>\n      <td>144.0</td>\n    </tr>\n    <tr>\n      <th>DMALocker</th>\n      <td>26.0</td>\n      <td>19.384615</td>\n      <td>46.150256</td>\n      <td>0.0</td>\n      <td>0.0</td>\n      <td>2.0</td>\n      <td>6.0</td>\n      <td>144.0</td>\n    </tr>\n    <tr>\n      <th>DMALockerv3</th>\n      <td>51.0</td>\n      <td>44.666667</td>\n      <td>63.618446</td>\n      <td>0.0</td>\n      <td>0.0</td>\n      <td>4.0</td>\n      <td>144.0</td>\n      <td>144.0</td>\n    </tr>\n    <tr>\n      <th>EDA2</th>\n      <td>1.0</td>\n      <td>144.000000</td>\n      <td>NaN</td>\n      <td>144.0</td>\n      <td>144.0</td>\n      <td>144.0</td>\n      <td>144.0</td>\n      <td>144.0</td>\n    </tr>\n    <tr>\n      <th>Flyper</th>\n      <td>1.0</td>\n      <td>14.000000</td>\n      <td>NaN</td>\n      <td>14.0</td>\n      <td>14.0</td>\n      <td>14.0</td>\n      <td>14.0</td>\n      <td>14.0</td>\n    </tr>\n    <tr>\n      <th>Globe</th>\n      <td>7.0</td>\n      <td>43.714286</td>\n      <td>68.599597</td>\n      <td>0.0</td>\n      <td>1.0</td>\n      <td>6.0</td>\n      <td>77.0</td>\n      <td>144.0</td>\n    </tr>\n    <tr>\n      <th>GlobeImposter</th>\n      <td>5.0</td>\n      <td>33.600000</td>\n      <td>62.119240</td>\n      <td>0.0</td>\n      <td>2.0</td>\n      <td>4.0</td>\n      <td>18.0</td>\n      <td>144.0</td>\n    </tr>\n    <tr>\n      <th>JigSaw</th>\n      <td>1.0</td>\n      <td>0.000000</td>\n      <td>NaN</td>\n      <td>0.0</td>\n      <td>0.0</td>\n      <td>0.0</td>\n      <td>0.0</td>\n      <td>0.0</td>\n    </tr>\n    <tr>\n      <th>Locky</th>\n      <td>785.0</td>\n      <td>47.329936</td>\n      <td>61.892966</td>\n      <td>0.0</td>\n      <td>2.0</td>\n      <td>8.0</td>\n      <td>144.0</td>\n      <td>144.0</td>\n    </tr>\n    <tr>\n      <th>NoobCrypt</th>\n      <td>45.0</td>\n      <td>26.844444</td>\n      <td>55.193031</td>\n      <td>0.0</td>\n      <td>0.0</td>\n      <td>0.0</td>\n      <td>8.0</td>\n      <td>144.0</td>\n    </tr>\n    <tr>\n      <th>Razy</th>\n      <td>1.0</td>\n      <td>54.000000</td>\n      <td>NaN</td>\n      <td>54.0</td>\n      <td>54.0</td>\n      <td>54.0</td>\n      <td>54.0</td>\n      <td>54.0</td>\n    </tr>\n    <tr>\n      <th>Sam</th>\n      <td>1.0</td>\n      <td>6.000000</td>\n      <td>NaN</td>\n      <td>6.0</td>\n      <td>6.0</td>\n      <td>6.0</td>\n      <td>6.0</td>\n      <td>6.0</td>\n    </tr>\n    <tr>\n      <th>SamSam</th>\n      <td>11.0</td>\n      <td>43.454545</td>\n      <td>64.851158</td>\n      <td>0.0</td>\n      <td>0.0</td>\n      <td>8.0</td>\n      <td>81.0</td>\n      <td>144.0</td>\n    </tr>\n    <tr>\n      <th>VenusLocker</th>\n      <td>2.0</td>\n      <td>8.000000</td>\n      <td>2.828427</td>\n      <td>6.0</td>\n      <td>7.0</td>\n      <td>8.0</td>\n      <td>9.0</td>\n      <td>10.0</td>\n    </tr>\n    <tr>\n      <th>WannaCry</th>\n      <td>2.0</td>\n      <td>144.000000</td>\n      <td>0.000000</td>\n      <td>144.0</td>\n      <td>144.0</td>\n      <td>144.0</td>\n      <td>144.0</td>\n      <td>144.0</td>\n    </tr>\n    <tr>\n      <th>XLocker</th>\n      <td>1.0</td>\n      <td>144.000000</td>\n      <td>NaN</td>\n      <td>144.0</td>\n      <td>144.0</td>\n      <td>144.0</td>\n      <td>144.0</td>\n      <td>144.0</td>\n    </tr>\n  </tbody>\n</table>\n</div>"
     },
     "execution_count": 82,
     "metadata": {},
     "output_type": "execute_result"
    }
   ],
   "source": [
    "dft[dft['label']!='white'].groupby('label')['length'].describe()"
   ],
   "metadata": {
    "collapsed": false
   }
  },
  {
   "cell_type": "code",
   "execution_count": 83,
   "outputs": [
    {
     "name": "stdout",
     "output_type": "stream",
     "text": [
      "Breakdown of lengths per label\n",
      "APT                      2.000000\n",
      "Cerber                  42.035088\n",
      "CryptConsole            72.000000\n",
      "CryptXXX                48.648464\n",
      "CryptoLocker            30.968531\n",
      "CryptoTorLocker2015     32.400000\n",
      "CryptoWall              48.891599\n",
      "DMALocker               19.384615\n",
      "DMALockerv3             44.666667\n",
      "EDA2                   144.000000\n",
      "Flyper                  14.000000\n",
      "Globe                   43.714286\n",
      "GlobeImposter           33.600000\n",
      "JigSaw                   0.000000\n",
      "Locky                   47.329936\n",
      "NoobCrypt               26.844444\n",
      "Razy                    54.000000\n",
      "Sam                      6.000000\n",
      "SamSam                  43.454545\n",
      "VenusLocker              8.000000\n",
      "WannaCry               144.000000\n",
      "XLocker                144.000000\n",
      "Name: length, dtype: float64\n"
     ]
    },
    {
     "data": {
      "text/plain": "(None, 47.72446255626962)"
     },
     "execution_count": 83,
     "metadata": {},
     "output_type": "execute_result"
    }
   ],
   "source": [
    "print(\"Breakdown of lengths per {}\".format(dft[dft['label']!='white'].groupby('label')['length'].mean())), dft[dft['label'] != 'white'].groupby('label')['length'].describe()['mean'].mean()"
   ],
   "metadata": {
    "collapsed": false
   }
  },
  {
   "cell_type": "code",
   "execution_count": 84,
   "id": "23cde096",
   "metadata": {
    "ExecuteTime": {
     "end_time": "2022-07-28T13:00:56.335237Z",
     "start_time": "2022-07-28T13:00:56.333191Z"
    }
   },
   "outputs": [
    {
     "data": {
      "text/plain": "1.080415447007993"
     },
     "execution_count": 84,
     "metadata": {},
     "output_type": "execute_result"
    }
   ],
   "source": [
    "train_features['length'].skew # check how symmetric the pdf is"
   ]
  },
  {
   "cell_type": "code",
   "execution_count": 85,
   "id": "214357ce",
   "metadata": {
    "ExecuteTime": {
     "end_time": "2022-07-28T13:00:56.348963Z",
     "start_time": "2022-07-28T13:00:56.336059Z"
    }
   },
   "outputs": [
    {
     "data": {
      "text/plain": "(1.080415447007993, 0.69370952911094, -1.0505068564185922)"
     },
     "execution_count": 85,
     "metadata": {},
     "output_type": "execute_result"
    }
   ],
   "source": [
    "# check whether log and sqrt help the skew\n",
    "X_tra_v = train_features['length'].vec\n",
    "opsXa = np.log(np.sqrt(X_tra_v + 1e-6))\n",
    "train_features['length'].skew, np.sqrt(X_train['length']).skew(), pd.Series(opsXa).skew()\n"
   ]
  },
  {
   "cell_type": "code",
   "execution_count": 86,
   "id": "9fa3d9fa",
   "metadata": {
    "ExecuteTime": {
     "end_time": "2022-07-28T13:00:56.563092Z",
     "start_time": "2022-07-28T13:00:56.349907Z"
    }
   },
   "outputs": [],
   "source": [
    "#constructing the feature\n",
    "bc_length_train = boxcox((np.sin(np.log(np.sqrt(np.array(X_train['length']) + 1e-6))))**2)[0]\n",
    "bc_length_test  = boxcox((np.sin(np.log(np.sqrt(np.array(X_test['length']) + 1e-6))))**2)[0]"
   ]
  },
  {
   "cell_type": "code",
   "execution_count": 87,
   "id": "0faeca24",
   "metadata": {
    "ExecuteTime": {
     "end_time": "2022-07-28T13:00:56.577904Z",
     "start_time": "2022-07-28T13:00:56.564000Z"
    }
   },
   "outputs": [],
   "source": [
    "# new features\n",
    "train_features_d['bc_length'] = Feature(pd.DataFrame(bc_length_train, columns=['bc_length']),'bc_length')\n",
    "test_features_d['bc_length'] = Feature(pd.DataFrame(bc_length_test, columns=['bc_length']),'bc_length')"
   ]
  },
  {
   "cell_type": "code",
   "execution_count": 88,
   "outputs": [
    {
     "data": {
      "text/plain": "<Figure size 432x288 with 1 Axes>",
      "image/png": "[encoded data removed]"
     },
     "metadata": {
      "needs_background": "light"
     },
     "output_type": "display_data"
    }
   ],
   "source": [
    "train_features_d['bc_length'].plot_pdf()"
   ],
   "metadata": {
    "collapsed": false
   }
  },
  {
   "cell_type": "code",
   "execution_count": 89,
   "id": "2c0a9efa",
   "metadata": {
    "ExecuteTime": {
     "end_time": "2022-07-28T13:00:56.581164Z",
     "start_time": "2022-07-28T13:00:56.578765Z"
    }
   },
   "outputs": [
    {
     "data": {
      "text/plain": "-0.036013946057797744"
     },
     "execution_count": 89,
     "metadata": {},
     "output_type": "execute_result"
    }
   ],
   "source": [
    "train_features_d['bc_length'].skew # the skew has improved but it's now biased"
   ]
  },
  {
   "cell_type": "markdown",
   "id": "dae1b403",
   "metadata": {},
   "source": [
    "#### 2.1.3 weight [yeo_weight]"
   ]
  },
  {
   "cell_type": "code",
   "execution_count": 90,
   "outputs": [
    {
     "data": {
      "text/plain": "count    1.198900e+04\nmean     5.609908e-01\nstd      1.167580e+00\nmin      1.920956e-37\n25%      4.166667e-02\n50%      4.085426e-01\n75%      1.000000e+00\nmax      4.290538e+01\nName: weight, dtype: float64"
     },
     "execution_count": 90,
     "metadata": {},
     "output_type": "execute_result"
    }
   ],
   "source": [
    "train_features['weight'].series.describe()"
   ],
   "metadata": {
    "collapsed": false
   }
  },
  {
   "cell_type": "code",
   "execution_count": 91,
   "id": "4454f4b9",
   "metadata": {
    "ExecuteTime": {
     "end_time": "2022-07-28T13:00:57.036492Z",
     "start_time": "2022-07-28T13:00:56.582117Z"
    }
   },
   "outputs": [
    {
     "data": {
      "text/plain": "<Figure size 432x288 with 1 Axes>",
      "image/png": "[encoded data removed]"
     },
     "metadata": {
      "needs_background": "light"
     },
     "output_type": "display_data"
    }
   ],
   "source": [
    "train_features['weight'].plot_pdf()"
   ]
  },
  {
   "cell_type": "code",
   "execution_count": 92,
   "id": "c89bfadb",
   "metadata": {
    "ExecuteTime": {
     "end_time": "2022-07-28T13:00:57.039532Z",
     "start_time": "2022-07-28T13:00:57.037402Z"
    }
   },
   "outputs": [
    {
     "data": {
      "text/plain": "16.20220135081876"
     },
     "execution_count": 92,
     "metadata": {},
     "output_type": "execute_result"
    }
   ],
   "source": [
    "train_features['weight'].skew # very skewed!"
   ]
  },
  {
   "cell_type": "code",
   "execution_count": 93,
   "id": "6737443c",
   "metadata": {
    "ExecuteTime": {
     "end_time": "2022-07-28T13:00:57.366712Z",
     "start_time": "2022-07-28T13:00:57.353352Z"
    }
   },
   "outputs": [],
   "source": [
    "train_features_d['yeo_weight'] = Feature( pd.DataFrame(train_features['weight'].yeo(),\n",
    "                    columns=['yeo_weight']),'yeo_weight' )\n",
    "test_features_d['yeo_weight'] = Feature( pd.DataFrame(test_features['weight'].yeo(),\n",
    "                    columns=['yeo_weight']),'yeo_weight' )"
   ]
  },
  {
   "cell_type": "code",
   "execution_count": 94,
   "id": "d6478d2b",
   "metadata": {
    "ExecuteTime": {
     "end_time": "2022-07-28T13:00:57.945006Z",
     "start_time": "2022-07-28T13:00:57.367513Z"
    }
   },
   "outputs": [
    {
     "data": {
      "text/plain": "<Figure size 432x288 with 1 Axes>",
      "image/png": "[encoded data removed]"
     },
     "metadata": {
      "needs_background": "light"
     },
     "output_type": "display_data"
    }
   ],
   "source": [
    "train_features_d['yeo_weight'].plot_pdf()"
   ]
  },
  {
   "cell_type": "code",
   "execution_count": 95,
   "id": "57c99478",
   "metadata": {
    "ExecuteTime": {
     "end_time": "2022-07-28T13:00:57.999378Z",
     "start_time": "2022-07-28T13:00:57.945945Z"
    }
   },
   "outputs": [
    {
     "data": {
      "text/plain": "<Figure size 432x288 with 1 Axes>",
      "image/png": "[encoded data removed]"
     },
     "metadata": {
      "needs_background": "light"
     },
     "output_type": "display_data"
    }
   ],
   "source": [
    "#plotting box plots\n",
    "ax = plot_box(train_features_d['yeo_weight'].series)\n",
    "\n",
    "#sns.boxplot(x=yeo_weight_train_ft.series)"
   ]
  },
  {
   "cell_type": "code",
   "execution_count": 96,
   "id": "6ce63520",
   "metadata": {
    "ExecuteTime": {
     "end_time": "2022-07-28T13:00:58.002695Z",
     "start_time": "2022-07-28T13:00:58.000336Z"
    }
   },
   "outputs": [
    {
     "data": {
      "text/plain": "0.1621168938212961"
     },
     "execution_count": 96,
     "metadata": {},
     "output_type": "execute_result"
    }
   ],
   "source": [
    "train_features_d['yeo_weight'].skew"
   ]
  },
  {
   "cell_type": "markdown",
   "id": "159ec6ba",
   "metadata": {},
   "source": [
    "#### 2.1.4 address [logbc_n_address]"
   ]
  },
  {
   "cell_type": "code",
   "execution_count": 97,
   "outputs": [],
   "source": [
    "train_features_d['address'] = Feature(X_train,'address')\n",
    "test_features_d ['address'] = Feature(X_test, 'address')\n"
   ],
   "metadata": {
    "collapsed": false
   }
  },
  {
   "cell_type": "code",
   "execution_count": 98,
   "id": "f903b03c",
   "metadata": {
    "ExecuteTime": {
     "end_time": "2022-07-28T13:00:58.012333Z",
     "start_time": "2022-07-28T13:00:58.003663Z"
    }
   },
   "outputs": [],
   "source": [
    "X_train_address_ft = Feature(X_train,'address')\n",
    "X_test_address_ft  = Feature(X_test,'address')"
   ]
  },
  {
   "cell_type": "code",
   "execution_count": 99,
   "id": "8468eef1",
   "metadata": {
    "ExecuteTime": {
     "end_time": "2022-07-28T13:00:58.292964Z",
     "start_time": "2022-07-28T13:00:58.013280Z"
    }
   },
   "outputs": [
    {
     "data": {
      "text/plain": "1DtyvLb1pDzXVoaVnJLAFzBJN6b4gcJSdR    5\n1BDomT52u3YU3UPHFbH8iZwdjQU5TxxSy6    2\n1LvjTxjFnjomvvMK8CGx1qZ1zpLJFUFRmq    2\n3PbacVZwS2L5i9C2Cmz9rPu8s4qjyYkufk    2\n1GvgRRnLpUP7KsLZLE23ridD45MUxHoAJ4    2\n                                     ..\n3M7yZsM7438qfD51FDP2TcfDHC4svHqq3g    1\n1Mi15qSiUrkSTJhLtPje1KBzRY7RQLjp8G    1\n1LNbVGzrnC1Pfs274fUHxxSrJY1KLV3D6     1\n1HQPibmJFMoUUjC8KgKA4pff5hBC9zXB5R    1\n3Js9vpJQmasCHqwWLoZt6wsW29yFSvd4cw    1\nName: address, Length: 11967, dtype: int64"
     },
     "execution_count": 99,
     "metadata": {},
     "output_type": "execute_result"
    }
   ],
   "source": [
    "X_train['address'].value_counts()"
   ]
  },
  {
   "cell_type": "markdown",
   "id": "e76d3860",
   "metadata": {},
   "source": [
    "##### Highest paid ransom address"
   ]
  },
  {
   "cell_type": "code",
   "execution_count": 100,
   "outputs": [
    {
     "name": "stdout",
     "output_type": "stream",
     "text": [
      "the highest income address is\n"
     ]
    },
    {
     "data": {
      "text/plain": "2412    135N2nfAkextd6E25quXpM98qLSi2BccCb\nName: address, dtype: object"
     },
     "execution_count": 100,
     "metadata": {},
     "output_type": "execute_result"
    }
   ],
   "source": [
    "print('the highest income address is')\n",
    "dft[dft.label != 'white'][['income','address']].sort_values(by='income',ascending=False).head(1)['address']"
   ],
   "metadata": {
    "collapsed": false
   }
  },
  {
   "cell_type": "code",
   "execution_count": 101,
   "outputs": [
    {
     "data": {
      "text/plain": "1LXrSb67EaH1LGc6d6kWHq8rgv4ZBQAcpU    46\n16cVG72goMe4sNqZhnpmnqfCMZ1uSFbUit    32\n12wQZTDmA8onM3sEt4jwcvzDxnNXxD8Vza    29\n1LEq4WmpCrqBd7V3PywE2nvFUFC3QTe52x    24\n1CVWpTNwNYGdKgZRohiiVFrnFNbw8anG9     22\n                                      ..\n18G6AdoGeupkN1kcTqL6UqXTaXuNhtvBTG     1\n1CnkW2hw8zBhGsZ4WYThD1STcEAqerH8wu     1\n1DhVxdtuFMeew9o9Cfi8h5CdF7LQkViwtZ     1\n16ioXEz3NkjcvhbKiNdma3AJhPGnyBnvkJ     1\n1MfphSj17CXv6EkUU2siqMTUzV71DZbi2V     1\nName: address, Length: 336348, dtype: int64"
     },
     "execution_count": 101,
     "metadata": {},
     "output_type": "execute_result"
    }
   ],
   "source": [
    "df.address.value_counts()"
   ],
   "metadata": {
    "collapsed": false
   }
  },
  {
   "cell_type": "code",
   "execution_count": 102,
   "outputs": [
    {
     "data": {
      "text/plain": "34381    CryptoLocker\n34315    CryptoLocker\n34298    CryptoLocker\n34239    CryptoLocker\n33971    CryptoLocker\n34203    CryptoLocker\n34361    CryptoLocker\n33979    CryptoLocker\n33990    CryptoLocker\n34181    CryptoLocker\n34339    CryptoLocker\n34075    CryptoLocker\n33967    CryptoLocker\n34345    CryptoLocker\n34166    CryptoLocker\n34279    CryptoLocker\n34242    CryptoLocker\n34232    CryptoLocker\n34276    CryptoLocker\n34202    CryptoLocker\n34102    CryptoLocker\n34170    CryptoLocker\n34211    CryptoLocker\n34121    CryptoLocker\n34186    CryptoLocker\n34245    CryptoLocker\n34266    CryptoLocker\n34086    CryptoLocker\n34016    CryptoLocker\n34234    CryptoLocker\n34284    CryptoLocker\n34144    CryptoLocker\n34373    CryptoLocker\n34250    CryptoLocker\n34201    CryptoLocker\n34351    CryptoLocker\n34026    CryptoLocker\n34368    CryptoLocker\n34184    CryptoLocker\n33976    CryptoLocker\n33970    CryptoLocker\n34094    CryptoLocker\n34129    CryptoLocker\n34100    CryptoLocker\n34065    CryptoLocker\n34070    CryptoLocker\nName: label, dtype: object"
     },
     "execution_count": 102,
     "metadata": {},
     "output_type": "execute_result"
    }
   ],
   "source": [
    "df[df['address']=='1LXrSb67EaH1LGc6d6kWHq8rgv4ZBQAcpU'].label"
   ],
   "metadata": {
    "collapsed": false
   }
  },
  {
   "cell_type": "code",
   "execution_count": 103,
   "outputs": [
    {
     "data": {
      "text/plain": "         year         day      length     weight        count  looped  \\\ncount    27.0   27.000000   27.000000  27.000000    27.000000    27.0   \nmean   2013.0  268.444444   12.666667   1.271758    72.777778     0.0   \nstd       0.0   80.492873   38.072805   0.634253   277.514287     0.0   \nmin    2013.0   92.000000    0.000000   0.500000     1.000000     0.0   \n25%    2013.0  204.500000    0.000000   1.000000     1.000000     0.0   \n50%    2013.0  297.000000    0.000000   1.000000     2.000000     0.0   \n75%    2013.0  336.500000    4.000000   1.281250     3.000000     0.0   \nmax    2013.0  364.000000  144.000000   3.250000  1355.000000     0.0   \n\n       neighbors        income  \ncount  27.000000  2.700000e+01  \nmean    1.407407  3.236863e+09  \nstd     0.636049  2.781155e+09  \nmin     1.000000  1.655000e+08  \n25%     1.000000  1.339505e+09  \n50%     1.000000  2.069190e+09  \n75%     2.000000  4.732336e+09  \nmax     3.000000  1.009315e+10  ",
      "text/html": "<div>\n<style scoped>\n    .dataframe tbody tr th:only-of-type {\n        vertical-align: middle;\n    }\n\n    .dataframe tbody tr th {\n        vertical-align: top;\n    }\n\n    .dataframe thead th {\n        text-align: right;\n    }\n</style>\n<table border=\"1\" class=\"dataframe\">\n  <thead>\n    <tr style=\"text-align: right;\">\n      <th></th>\n      <th>year</th>\n      <th>day</th>\n      <th>length</th>\n      <th>weight</th>\n      <th>count</th>\n      <th>looped</th>\n      <th>neighbors</th>\n      <th>income</th>\n    </tr>\n  </thead>\n  <tbody>\n    <tr>\n      <th>count</th>\n      <td>27.0</td>\n      <td>27.000000</td>\n      <td>27.000000</td>\n      <td>27.000000</td>\n      <td>27.000000</td>\n      <td>27.0</td>\n      <td>27.000000</td>\n      <td>2.700000e+01</td>\n    </tr>\n    <tr>\n      <th>mean</th>\n      <td>2013.0</td>\n      <td>268.444444</td>\n      <td>12.666667</td>\n      <td>1.271758</td>\n      <td>72.777778</td>\n      <td>0.0</td>\n      <td>1.407407</td>\n      <td>3.236863e+09</td>\n    </tr>\n    <tr>\n      <th>std</th>\n      <td>0.0</td>\n      <td>80.492873</td>\n      <td>38.072805</td>\n      <td>0.634253</td>\n      <td>277.514287</td>\n      <td>0.0</td>\n      <td>0.636049</td>\n      <td>2.781155e+09</td>\n    </tr>\n    <tr>\n      <th>min</th>\n      <td>2013.0</td>\n      <td>92.000000</td>\n      <td>0.000000</td>\n      <td>0.500000</td>\n      <td>1.000000</td>\n      <td>0.0</td>\n      <td>1.000000</td>\n      <td>1.655000e+08</td>\n    </tr>\n    <tr>\n      <th>25%</th>\n      <td>2013.0</td>\n      <td>204.500000</td>\n      <td>0.000000</td>\n      <td>1.000000</td>\n      <td>1.000000</td>\n      <td>0.0</td>\n      <td>1.000000</td>\n      <td>1.339505e+09</td>\n    </tr>\n    <tr>\n      <th>50%</th>\n      <td>2013.0</td>\n      <td>297.000000</td>\n      <td>0.000000</td>\n      <td>1.000000</td>\n      <td>2.000000</td>\n      <td>0.0</td>\n      <td>1.000000</td>\n      <td>2.069190e+09</td>\n    </tr>\n    <tr>\n      <th>75%</th>\n      <td>2013.0</td>\n      <td>336.500000</td>\n      <td>4.000000</td>\n      <td>1.281250</td>\n      <td>3.000000</td>\n      <td>0.0</td>\n      <td>2.000000</td>\n      <td>4.732336e+09</td>\n    </tr>\n    <tr>\n      <th>max</th>\n      <td>2013.0</td>\n      <td>364.000000</td>\n      <td>144.000000</td>\n      <td>3.250000</td>\n      <td>1355.000000</td>\n      <td>0.0</td>\n      <td>3.000000</td>\n      <td>1.009315e+10</td>\n    </tr>\n  </tbody>\n</table>\n</div>"
     },
     "execution_count": 103,
     "metadata": {},
     "output_type": "execute_result"
    }
   ],
   "source": [
    "worst_culprit_address = df[df['address']=='1LXrSb67EaH1LGc6d6kWHq8rgv4ZBQAcpU']\n",
    "worst_culprit_address[worst_culprit_address['year']==2013].describe()"
   ],
   "metadata": {
    "collapsed": false
   }
  },
  {
   "cell_type": "code",
   "execution_count": 104,
   "outputs": [
    {
     "data": {
      "text/plain": "         year         day     length     weight      count  looped  neighbors  \\\ncount    19.0   19.000000  19.000000  19.000000  19.000000    19.0  19.000000   \nmean   2014.0   82.526316   0.736842   1.355263   1.894737     0.0   1.842105   \nstd       0.0   51.693937   1.521772   0.548456   0.994135     0.0   0.958190   \nmin    2014.0    5.000000   0.000000   0.500000   1.000000     0.0   1.000000   \n25%    2014.0   40.000000   0.000000   1.000000   1.000000     0.0   1.000000   \n50%    2014.0   81.000000   0.000000   1.000000   2.000000     0.0   2.000000   \n75%    2014.0  122.500000   1.000000   1.500000   3.000000     0.0   2.500000   \nmax    2014.0  173.000000   6.000000   2.500000   4.000000     0.0   4.000000   \n\n             income  \ncount  1.900000e+01  \nmean   2.347847e+09  \nstd    4.857447e+09  \nmin    5.495000e+07  \n25%    3.446500e+08  \n50%    7.036700e+08  \n75%    1.572070e+09  \nmax    2.107868e+10  ",
      "text/html": "<div>\n<style scoped>\n    .dataframe tbody tr th:only-of-type {\n        vertical-align: middle;\n    }\n\n    .dataframe tbody tr th {\n        vertical-align: top;\n    }\n\n    .dataframe thead th {\n        text-align: right;\n    }\n</style>\n<table border=\"1\" class=\"dataframe\">\n  <thead>\n    <tr style=\"text-align: right;\">\n      <th></th>\n      <th>year</th>\n      <th>day</th>\n      <th>length</th>\n      <th>weight</th>\n      <th>count</th>\n      <th>looped</th>\n      <th>neighbors</th>\n      <th>income</th>\n    </tr>\n  </thead>\n  <tbody>\n    <tr>\n      <th>count</th>\n      <td>19.0</td>\n      <td>19.000000</td>\n      <td>19.000000</td>\n      <td>19.000000</td>\n      <td>19.000000</td>\n      <td>19.0</td>\n      <td>19.000000</td>\n      <td>1.900000e+01</td>\n    </tr>\n    <tr>\n      <th>mean</th>\n      <td>2014.0</td>\n      <td>82.526316</td>\n      <td>0.736842</td>\n      <td>1.355263</td>\n      <td>1.894737</td>\n      <td>0.0</td>\n      <td>1.842105</td>\n      <td>2.347847e+09</td>\n    </tr>\n    <tr>\n      <th>std</th>\n      <td>0.0</td>\n      <td>51.693937</td>\n      <td>1.521772</td>\n      <td>0.548456</td>\n      <td>0.994135</td>\n      <td>0.0</td>\n      <td>0.958190</td>\n      <td>4.857447e+09</td>\n    </tr>\n    <tr>\n      <th>min</th>\n      <td>2014.0</td>\n      <td>5.000000</td>\n      <td>0.000000</td>\n      <td>0.500000</td>\n      <td>1.000000</td>\n      <td>0.0</td>\n      <td>1.000000</td>\n      <td>5.495000e+07</td>\n    </tr>\n    <tr>\n      <th>25%</th>\n      <td>2014.0</td>\n      <td>40.000000</td>\n      <td>0.000000</td>\n      <td>1.000000</td>\n      <td>1.000000</td>\n      <td>0.0</td>\n      <td>1.000000</td>\n      <td>3.446500e+08</td>\n    </tr>\n    <tr>\n      <th>50%</th>\n      <td>2014.0</td>\n      <td>81.000000</td>\n      <td>0.000000</td>\n      <td>1.000000</td>\n      <td>2.000000</td>\n      <td>0.0</td>\n      <td>2.000000</td>\n      <td>7.036700e+08</td>\n    </tr>\n    <tr>\n      <th>75%</th>\n      <td>2014.0</td>\n      <td>122.500000</td>\n      <td>1.000000</td>\n      <td>1.500000</td>\n      <td>3.000000</td>\n      <td>0.0</td>\n      <td>2.500000</td>\n      <td>1.572070e+09</td>\n    </tr>\n    <tr>\n      <th>max</th>\n      <td>2014.0</td>\n      <td>173.000000</td>\n      <td>6.000000</td>\n      <td>2.500000</td>\n      <td>4.000000</td>\n      <td>0.0</td>\n      <td>4.000000</td>\n      <td>2.107868e+10</td>\n    </tr>\n  </tbody>\n</table>\n</div>"
     },
     "execution_count": 104,
     "metadata": {},
     "output_type": "execute_result"
    }
   ],
   "source": [
    "worst_culprit_address = df[df['address']=='1LXrSb67EaH1LGc6d6kWHq8rgv4ZBQAcpU']\n",
    "worst_culprit_address[worst_culprit_address['year']==2014].describe()"
   ],
   "metadata": {
    "collapsed": false
   }
  },
  {
   "cell_type": "code",
   "execution_count": 105,
   "id": "b479e12e",
   "metadata": {
    "ExecuteTime": {
     "end_time": "2022-07-28T13:00:58.393738Z",
     "start_time": "2022-07-28T13:00:58.389815Z"
    }
   },
   "outputs": [
    {
     "data": {
      "text/plain": "year\n2013    1449.538462\n2014       2.315789\nName: length, dtype: float64"
     },
     "execution_count": 105,
     "metadata": {},
     "output_type": "execute_result"
    }
   ],
   "source": [
    "worst_culprit_address[['length','year','day']].groupby('year')['length'].var()"
   ]
  },
  {
   "cell_type": "markdown",
   "id": "c514102e",
   "metadata": {},
   "source": [
    "##### Feature engineering:  logbc_n_address_train\n",
    "* the number of times the address appears (log boxcox transformation applied)"
   ]
  },
  {
   "cell_type": "code",
   "execution_count": 106,
   "id": "4b51eb90",
   "metadata": {
    "ExecuteTime": {
     "end_time": "2022-07-28T13:00:58.621604Z",
     "start_time": "2022-07-28T13:00:58.394757Z"
    }
   },
   "outputs": [
    {
     "name": "stdout",
     "output_type": "stream",
     "text": [
      "An address is repeated an average of 1.002 number of times\n"
     ]
    }
   ],
   "source": [
    "address_cnts = train_features_d['address'].series.value_counts()\n",
    "print('An address is repeated an average of {:.3f} number of times'.format(np.mean(address_cnts)))"
   ]
  },
  {
   "cell_type": "code",
   "execution_count": 107,
   "id": "292c8d28",
   "metadata": {
    "ExecuteTime": {
     "end_time": "2022-07-28T13:00:58.627328Z",
     "start_time": "2022-07-28T13:00:58.622757Z"
    }
   },
   "outputs": [
    {
     "data": {
      "text/plain": "45.22977870535006"
     },
     "execution_count": 107,
     "metadata": {},
     "output_type": "execute_result"
    }
   ],
   "source": [
    "address_cnts.skew()"
   ]
  },
  {
   "cell_type": "code",
   "execution_count": 108,
   "id": "f53885ea",
   "metadata": {
    "ExecuteTime": {
     "end_time": "2022-07-28T13:01:01.181224Z",
     "start_time": "2022-07-28T13:00:59.209610Z"
    }
   },
   "outputs": [
    {
     "data": {
      "text/plain": "  0%|          | 0/11967 [00:00<?, ?it/s]",
      "application/vnd.jupyter.widget-view+json": {
       "version_major": 2,
       "version_minor": 0,
       "model_id": "38384ca9829648649df825e5376bc3bf"
      }
     },
     "metadata": {},
     "output_type": "display_data"
    }
   ],
   "source": [
    "dict_address_cnts = dict(X_train['address'].value_counts())\n",
    "n_address = boxcox(np.array(list(dict_address_cnts.values())))[0]\n",
    "# \n",
    "for index, key in tqdm(enumerate(dict_address_cnts.keys()),total=len(dict_address_cnts)):\n",
    "    # updating the dictionary with number of times each address appears with the boxcox transformation applied to fix the skewness\n",
    "    dict_address_cnts.update({key: address_cnts[index]})"
   ]
  },
  {
   "cell_type": "code",
   "execution_count": 109,
   "outputs": [],
   "source": [
    "#Since this is an extremely skewed feature let's only visualize the 1st percentile points\n",
    "one_percentile = np.percentile(address_cnts, 99)\n",
    "n_addresses_1perc = np.array([element for element in address_cnts if element <= one_percentile])"
   ],
   "metadata": {
    "collapsed": false
   }
  },
  {
   "cell_type": "code",
   "execution_count": 110,
   "outputs": [
    {
     "data": {
      "text/plain": "Text(0.5, 1.0, 'addresses cnts within 1st percentile')"
     },
     "execution_count": 110,
     "metadata": {},
     "output_type": "execute_result"
    },
    {
     "data": {
      "text/plain": "<AxesSubplot:title={'center':'addresses cnts within 1st percentile'}, ylabel='Density'>"
     },
     "execution_count": 110,
     "metadata": {},
     "output_type": "execute_result"
    },
    {
     "data": {
      "text/plain": "Text(0.5, 0, 'n_addresses')"
     },
     "execution_count": 110,
     "metadata": {},
     "output_type": "execute_result"
    },
    {
     "data": {
      "text/plain": "Text(0, 0.5, 'density')"
     },
     "execution_count": 110,
     "metadata": {},
     "output_type": "execute_result"
    },
    {
     "data": {
      "text/plain": "<Figure size 432x288 with 1 Axes>",
      "image/png": "[encoded data removed]"
     },
     "metadata": {
      "needs_background": "light"
     },
     "output_type": "display_data"
    }
   ],
   "source": [
    "#checking points only within 1st percentile\n",
    "plt.title('addresses cnts within 1st percentile')\n",
    "sns.distplot(n_addresses_1perc)\n",
    "plt.xlabel('n_addresses')\n",
    "plt.ylabel('density')\n",
    "plt.show()"
   ],
   "metadata": {
    "collapsed": false
   }
  },
  {
   "cell_type": "code",
   "execution_count": 111,
   "outputs": [
    {
     "data": {
      "text/plain": "{'1DtyvLb1pDzXVoaVnJLAFzBJN6b4gcJSdR': 5,\n '1BDomT52u3YU3UPHFbH8iZwdjQU5TxxSy6': 2,\n '1LvjTxjFnjomvvMK8CGx1qZ1zpLJFUFRmq': 2,\n '3PbacVZwS2L5i9C2Cmz9rPu8s4qjyYkufk': 2,\n '1GvgRRnLpUP7KsLZLE23ridD45MUxHoAJ4': 2,\n '19Cy723nNXMwq6VTPkmb41Fr7Eu5Ra3ccv': 2,\n '1PFTTSSR23n71pYMjzNcEDTUcPGDNmChN': 2,\n '18S5LjDUrgkxZToJL35Q3RhxpLzhG2yUTA': 2,\n '1Gk8S3GsNnJ3njnz3rrudMjvocpSuzrWrd': 2,\n '1DsXznM17CKq8jGoEpuHxKwcntaN67vFes': 2,\n '1N6GyXrAHYqWAoYh4iAXW8AqxdFeqJFQY5': 2,\n '3P4C7jpF1oxHgxqt4VgMRcCBEV3YEpaDUm': 2,\n '17wsG38etiie43v2rApt4CUnRvREKRmmWp': 2,\n '19LaLdu1ZDvcEsB4LWQjbEZBYw44yoKurN': 2,\n '38DsV55ebCeq74myzr1ugAJLFNjPNiojnE': 2,\n '1N3YSdYwHU9dCbzS3sSs3SwVX8N45QYgwj': 2,\n '1J81H33K3ue4CaN1XdSRbBjYCBGGAHce7Y': 2,\n '1QJcp9tX1WxjEVCZ38RGa59tLZwvvEFmaS': 2,\n '1NQZ4kggPJb717yZKzZMyv1iVme7sRcnsZ': 2,\n '1PqUixWdbQPmbRdjbptmMN7WkAK7CgKDg6': 1,\n '1CMZRr1VaRLUvGRpmCgGYNUzLShCFttCsp': 1,\n '3DX4X6tyTwfKpzungvxNRVo4Uh2zkx85Px': 1,\n '12R6WJf27Ej96SuS5ywSQDfC539153E35w': 1,\n '1H7kgmCACyHQHUDt8fBDcAHTPNu76jeQr': 1,\n '18skzsmk1Mt9fTkivGMjSi2QkEURp5vu2': 1,\n '19qr63FimBdRKsYUDgFj6fWgo5ikjnioBS': 1,\n '1PAFKqT6V6XoWEYqxWgG2awK8mLzaq1tfA': 1,\n '1P2vtTuJaT6U5AwNZJiw88XGpmn6emp7FM': 1,\n '1EYKQLCkUCDKQVoj2dJoNfKr21pHZvcku4': 1,\n '3J1A8YHWk1ZXmhGXXfqrZho4MMdSqWqMWA': 1,\n '1C9SJ1VfREHzVr6yFqZy8vi43yW6nAd4kr': 1,\n '1D6fWBerCjnwF5QcVv7ddzY8KSsdLKcG2': 1,\n '15pEB9ah4JH6cAssf2rYyGWB5Xz8pUKj7P': 1,\n '1JcjRzQttJaS75gfJ6ADbtGpfXtUiCSAeX': 1,\n '186vbiBMWnHNjPeJHbiKSRhsrJKbuBQgzK': 1,\n '1BzV4NHzUEz4pGM6bpU4HGCvFKnRMC3RtX': 1,\n '3PiubqhptVPJz2K3UVXhpSg1SqxPbBRVRt': 1,\n '1MtcCPL5Yiqc3nTFU74uYuwYfjcKmopHrJ': 1,\n '13R4VcJ7rW34ksDbckG9autrgAFg1H5rQa': 1,\n '3MW9H7gc2ngp6Q7UY8ED8TDV8CzA1pgoNZ': 1,\n '1D7GYGy1SYfMW9hQGLSSXzvaxAuku6YwsA': 1,\n '1FQQqnpVcXmN5A41KDD5o4d59EZUz5Rzqh': 1,\n '1713Jj2wRzfRLowrBVZo8KRZ9HofWbGq9R': 1,\n '3MXV5XgsnQ5mfrzhkiZReuWfgidYTh3Vzz': 1,\n '1ATPPLmVFTWE3xmWDu6MPx2zwZFrYE9CCr': 1,\n '1fVjE8Sk7ck1EMdJmQNkhWiv1Tm6othwF': 1,\n '13JKLLWPWY57N35qi9HJrJL4JNPmfmHkh8': 1,\n '1PeSPJGZ5Cb8Fe38kPiCXW56ftJdt8bZo9': 1,\n '19mf14iXaLvtA61JWr815ji6gqbp5GVbC9': 1,\n '15tJS9fvuUPs1GXaJQatXmR2p8bVvL6Dnq': 1,\n '19GFADJjDmAoUML2qqY4eqS1QQFABawP6m': 1,\n '1B7GpKpU9uNErXnArnvQequJq9Ych6uhu7': 1,\n '1MTmYbyPVQbec7kGm6x1vtKkwvsJG6z2Wo': 1,\n '1Czi2infVe5JuWdKJ7sAUnpUp4rZUwFVpi': 1,\n '3HNVMmSfAESXcXBk9cwyiuhiPiHhho3PYj': 1,\n '1CndAhBvhzeoB8XGJCyJXgveYcwyyS9Hpp': 1,\n '1GTUNxEL1MUPt8nGX3xsf8bPUGAgRQyNof': 1,\n '17tuPgGmG4hVZvywQFuYx4UzisgKh88aZk': 1,\n '1EeYSBJsHH3RQVcQdBN1pnHmr3Lm21MTM4': 1,\n '18DKajZWzRjBXkcbbEEeMP8vm8XEdPeVBB': 1,\n '116BcE3WLbNFwfRPuDzYyCwj3LnSEtHdy4': 1,\n '1AFbXrXLCrfL6ybiJ2FhFkzD8pt4mJrem8': 1,\n '18dNNL6EXhLdwPEvUpjZ5YXK5WT48zoHbj': 1,\n '14DxbsKm9wTBHpFK1rwuV8Ux6dYzLxPv2g': 1,\n '17hD2SPsF9pbbqFZFiXJfCAJtsdJ1rSZKm': 1,\n '1G7jrn9SeZiMfca6fjEFVCfnQAB96JQoH3': 1,\n '3NVymqeqrK7C3GxwAqn2yMrr29L8uXq5PV': 1,\n '1Jj56xwFZiACh8Pro2UCojbXXtCRcT6Bad': 1,\n '1ATdbpXmQnxANYShYW45VreQf2DLv8EtVS': 1,\n '1PN1dWsrwCaVgtP3aHYM2P2vkscgFLD2jU': 1,\n '12GtHEQ43D8H3XwKkSs5aHnDksEV3aVGa1': 1,\n '12ejDZpfPLgs77rMtbgsQgVDTrquF3yBS1': 1,\n '1PxGbsgvUvuBBeVwo5735Ntd4MbhQDfNEp': 1,\n '14RzoX7fXqhRiQ4Vga3tF9JxZ9m1jFWE9E': 1,\n '1KoQDVqvXdWPKDrx83NaTvPm7BwKNm9uSv': 1,\n '1JdKUenpLyyrFTWsfaEaFmNW97Zha1Tm7S': 1,\n '19yWZCGM8twPEVXSkiRJjm4hHPypr4X4T4': 1,\n '38uwMw1v1E8xUMU6avHSCkB2ZFgNdStSW7': 1,\n '1CQvS2D5FG2KD5vTY6XMqWWxMjkkjV5gPr': 1,\n '13mxbzo6768r5esMDypDCGr34gQGLioG2f': 1,\n '1GNSm3Z6UaGsuL65AFF17umUWF5qzpSPP7': 1,\n '15SbJKfV4rJdi9GkxXttBiixjzzu7BNWDd': 1,\n '14Q5CaxVtNd2KRzwgZto292ctZCQbu2ZeN': 1,\n '1qiYnRWJbcBt5GkyA3YLnomQVBCNLaHgN': 1,\n '35MABPqWuwDF6kAYQoF8s9U8wcrLdXXuvV': 1,\n '1u8x9kjPawArxiNFLvsbUQHnGpBLPjvBH': 1,\n '1CYXu6uRb4pkcuKaevGzFr1m4qkQ7Tg44y': 1,\n '193MxNbZeJrzhBMzKcoDrnC9Ri8gZWYk8R': 1,\n '3LbNXmzoKWPLJonE6JPQobfgnyfWv7qZMy': 1,\n '1C2Dpv2ZkNHGTLy7ewbFpwW4VY5AcPDkx2': 1,\n '3KvDjzNDk6qSx7omM79qBQAhx8b1gBLmza': 1,\n '14kThhvHsPiKwjmoU25HtHViebaRp55PE6': 1,\n '1Ch7dAr6oTYsgYSMZXEDwvqJ26evhcV8Qd': 1,\n '1Fet41VykF9N5BNUu6WgsEhKHD8svNhqCa': 1,\n '13khLZXzDTLLpmymCxg2TavKhnr5oRQose': 1,\n '14mxzb2bUYXcsZnJj3hwR8AgWHjgvWK2M9': 1,\n '1MfcfdALxPj31aP1Rw9L2fD1rVG1QtTdWS': 1,\n '15hs3UkNfmhjUiY3D52X796A6ockGENFAi': 1,\n '116A3BxyebsiwsyxLPXRvuHiNebYLZfC8p': 1,\n '1J3CfDzmVRKdoMPLpCJKh2mzS5WbR6nbXA': 1,\n '3GV5iBqJMCt9GkdhUvBBnJiE1aJ4SMZhSv': 1,\n '3JC5p9JMVRRN2LPE2rYPFFPHKo1f1aDqQn': 1,\n '19R5f7dgVpbqSkjbTBy5seLxACrXEZrMZb': 1,\n '18nzC55sBNGnTGEExmxbzco6398C4p1iaK': 1,\n '1ANBfK1e9jxtmMxHv5bS1EdGT1NiX6CSmk': 1,\n '3AWdZHuWMemZPfPnZY7iTpLBTprRcHvJtW': 1,\n '13VTuS4mPremdCu4CAZnjyABLW7UH6rBb7': 1,\n '13Ktm1gU9DJFKUiWiDye5QKVH6LueeihVE': 1,\n '12pructYp1YWBkPGFbABPyswPhCQH9m585': 1,\n '3NcvirGV9LoJVmDiwVHs795goANjTMBTd5': 1,\n '121cLkkNwZFNurfQNoH2iWgyix7VW2nXc7': 1,\n '16pF6wmG3ZBGsWZ9DgwDee3HPY4PuNHGSY': 1,\n '1LVduaLBLebBa8HB1irhFuBMRn4Bx4YkwK': 1,\n '1DvXvCv9T6oBEZw6R5gxYQZ1DUwkd3Kjy8': 1,\n '3HAxCEiKLS75TV2p8Soz8ZKQ8oy97RHiS8': 1,\n '34iucSq9MYiwR4Sp8yk2Hg69mgTzusJNrA': 1,\n '1AzZoNQAr1nfUKWSPqR8HX8hGVFWe3hhfu': 1,\n '14bzzsiAb4picMMugkQ1NQmpVsGXfjTs4o': 1,\n '1FUKUxLBHh4ZaZf2BtTxSsBgTP2HmSUnNg': 1,\n '3KfAYMw6hRiCpHqY1hZ6iP9HjUS2ajwB4u': 1,\n '1LLMMTGAtjYV3USgVnJTviZvbXAuB5gYCD': 1,\n '1B6N5nufvTRdM35X2YHzP5WhuoXjpgcxCK': 1,\n '3P8TGjtUAkLZ97ebF9vrpzgkdCm82wmDGS': 1,\n '12ws4Akd98EoxJ2h95stiWdpre4HZfK4yn': 1,\n '12JZQUmXXSjAPnDHpP9tShvJma6Lq4Lany': 1,\n '1PbSVxqR5J2bxocvBYcinxD4eB7BKXq8bA': 1,\n '38o2C8MRq5tttgFsUqrQjZPwcSSApSp6bE': 1,\n '1JCwetHvtdggneypufP3pLMfigoqnxzWXC': 1,\n '1Ma5EZJyhfLjbNpppMc478aAg9aPYQEKFj': 1,\n '373BbLMXfhduq5xLLWh8AsBKVVUnn5pggw': 1,\n '3KpfSWttdhM8s6ddNVDav7yRCxdw3noKzF': 1,\n '13hpKxTwS6AsuXvhKpvjcdeWJQxeZhmEfb': 1,\n '1M3MDRLJ6BAn2fU9f4LfetCGfrkcXppQTY': 1,\n '387JTzkPSqovcAQ45Bwm5jrRH7fqEbiaYo': 1,\n '1976Fu7zmEnc2M2Dfy1jimWW6ntQGeLgY9': 1,\n '19PZ48roVx6UidmFwu7kvA7zVS1QpaCM7Q': 1,\n '18NmPLEFPGSMVyatCvrnVfeoQQX9neoZjM': 1,\n '16LepaCzpqiRGZU7YzgS3wsLz124y1vDS1': 1,\n '12xUfXiQCiML64DL9rooPPRhuutbmVDAVM': 1,\n '1JSwgS96DvDRboxuNMHr2NfjGyE5wBAoGN': 1,\n '1BgMngX2dfiK2wXW1RjxkhpYoCCycLHy1D': 1,\n '3G8rmwmNckTTeJMzKfu7Jtfzn3YuzmpLso': 1,\n '1JshRRSVKqGCNCzx41MkrqjDJEgxruEGiT': 1,\n '1DPJ4LdUd2oScvKrGhYLKqJbLy2Ug9PeAW': 1,\n '3ESj7mxjiBxtrTahCxmsKsXCtdVH3YfDLJ': 1,\n '14tJETSSJZnctMhBo9eFjbnYQFxEKL61Cy': 1,\n '1JgwdSgva4RHR9wzj9NeeKFRhXQMFvZNgS': 1,\n '19x9krKKNtPMX9THamqbrMgCDQ4GCaNDao': 1,\n '3AzbGoK4QTCxXbgPmELYYAagLckcZw2Kkk': 1,\n '1H6x982C4r1uTCRWYBW4WrGzY9DdjA6moE': 1,\n '1JeyqohidyxXQqYRSeHFJv8EyQMyHAFA6r': 1,\n '115gEoMDMiAq7zTLnFTUBgFMsBBJY4QajV': 1,\n '1FA1VF4PvpgiQXhxhnGWXk3PkzkBWY5DMw': 1,\n '1FQhTYBzi5bDfnkrh2rbmnTWVERB3T6G7r': 1,\n '3LiQ5FKJFsmowwZZeMzijwiJz4jVo4ok8F': 1,\n '3QV4vMh8z79bsUiEjuDs5CBsTmN2GQcKMQ': 1,\n '13UR4VicTYgTitw1Qjs4AQXtmnjPgz2UQR': 1,\n '1LxdDxpgF3uJgVHADbZZZSJCyiW2yoiHEk': 1,\n '1AHTP8HYKqZ1nHQ9dg51SdPwrnAHFnUjDw': 1,\n '1GhyiieAiJgukUsk4BCt3npZrRacT8mSPC': 1,\n '14tXB34ZhonfuUPWnTvK53M4qzhUpdQZ8z': 1,\n '12xNEZoRZbzLpTvu5oPvmyxTJz7yiXsYng': 1,\n '15s98Zm1LLA22Wk4hjSfyauqmXe2rZR6rg': 1,\n '1AE7xTYSfxZNt1k98oJyNnPGJFZiEeoqpD': 1,\n '1CNrzCk6EHKPnGCqrUhkLCNP5LCGCGEqFp': 1,\n '1Mf3H5ZXDJhdxK2kVmw1EYG6qSZdJSnbNM': 1,\n '35DANb8eFJxiyt9R9Sre2gVxYWTUFmyUjn': 1,\n '1Neyi72TJgaoA966DmUZz9VLrvqhwdKj4o': 1,\n '35NrsyD1XodPm5ZyYuEoVoxagJFoNyLAKz': 1,\n '1K5BVTScad8h8nJJiNfEsrQEhZAMQWYJji': 1,\n '1A4ttxz5wAjMkdkdmSCjQQqm2XdSDiWC3Y': 1,\n '1NCrRbu35octTQQD7x4X8LGsTsQGRcev5R': 1,\n '35JxqZYEmw7xXzSrH8yJZNPDmVnoBdQXkh': 1,\n '1N1Ddscb6Vst6ykZ3en39y5PEb4Ko8qpez': 1,\n '12D3qodaVeodjD7Mog8XZpCXjrjh1TcoWA': 1,\n '19HmjFLLnz8M2refeZVewDZJHBttwhjC4g': 1,\n '1HmFqBdPZRq4EbuPMugsNJbZP9RNqRCFYh': 1,\n '15QaHzSAF8iMurV9iCHq69rFqSv2sNietx': 1,\n '3GhnfRkj32psjYtewUNmsdn4gRASo5WWD7': 1,\n '1Pz5BEfGxymTqM2xwJqsKWAFyi49aYR7FB': 1,\n '16iadSzd9MFpCeHDPkhg7YbxBUpcPCKNAD': 1,\n '16vAXtaDeJAiJPiRkCHDCQCbYx3BvK5D1k': 1,\n '16nUcDyEK65GaAaFqDx5DfUhUbyjFngJ6X': 1,\n '1jAEXmt3VJuQi1VirU2tjeSQRPeyJ3hsm': 1,\n '12kapV5d7sJAJk7rr37GZX6aqFStinX3TR': 1,\n '37pV2sJhAxJKVdR1Anm7d9JqJyTiZss9RA': 1,\n '1Ddckt7xEigK19fa1kzgwZx6MWVPHcVfLb': 1,\n '3Lk1WFqvK78D7AXv7x671Xw3ENcMkNVjPr': 1,\n '1K5wiJhhjfCyCkbsrGvqwE4yK1XacrQE52': 1,\n '168d7i7enP4ECLKT6vBA49cq6uvKdrURt7': 1,\n '1A4WU7WzWqqwth5mEM3L3SvTz6349ewVGW': 1,\n '122ruDh2cbsK5scwUYUp9hYV3zVeAcKJG5': 1,\n '1PZ3epP565ndwY6RJEEjn53dsZZ3TEr5ek': 1,\n '1Lt54qLBWwrxXQ2pYrVtRHFqfK6j9sXQuF': 1,\n '1Auv2Rhb7p6MZBohXHkYj2CVb6E6cVsdXn': 1,\n '14NzdaMsgUekxg8PAb21rkUXZ3UPv4tKTb': 1,\n '12FyGjpfb9BuX52T2SHt6Q4JpV6TdZGyWf': 1,\n '1CMHra7G6gZnUaoGRDHAVngh5p5MFi3mh1': 1,\n '1QYbeqhrh3h2mh65EFjKvP4RBxZ6499dV': 1,\n '3Cf445TjgyhQmwqrJVMPirCJn3L1RvEXZz': 1,\n '1zmtTTeRVkzLQd4vsCHSMa7Sav4QQ9Uih': 1,\n '1R5gqq66UBDiCyzHtuAtkyh5MpVGPDJG8': 1,\n '113cEecR8Gczy8dHN6ihfHaCR8Z3eeNUeN': 1,\n '15edKa7LK2ADSNDD61P4NZ48hp5VxDpjvq': 1,\n '1GKaZeXsQbCiRSUHoUu8jaSLvNFx4bB241': 1,\n '16augHkJBRFu32AGs39kwBjvACgHEZZvG5': 1,\n '3MYxYddahVaJLwnFTn6hj4hLR75ASFJPwM': 1,\n '1D5qWRJTEAcZ33mTHQRUJhqgcW6ufB93wy': 1,\n '15NNwwv3Bs9xtTf8sUgaJNZse86PDxT2ZY': 1,\n '328MV5Ci2WcSCi5LwxcfH4fkXLg8cGzFM1': 1,\n '196D1gGPMQg5pnmhwPv97QG6w6sm2CK8eY': 1,\n '12us6PewLU35Qtc1sDCMGJE1ZgLzz9AUKt': 1,\n '1XYApPnuxjGPisEckbXJLoEv4qUyxLStP': 1,\n '1LvbwfCuvmDfBGmNppYHRrEYSk9Jw7YA9f': 1,\n '193qzggfcgomjAqz3cspCJPof5UpcPbke8': 1,\n '3JrAMCyLqaVr2Qxj5Sym6LSkrBpUecm1Wj': 1,\n '1GCK9dcJWfy62jV6z2vHU8YWdMsqGXPD1b': 1,\n '19HjeXqPVLoW2WgWF1ZXq8YbcMF43uC5YP': 1,\n '15ak4QxRFo8SQKNQ6QyX21BY9AXyGvYYCs': 1,\n '1EfB5CZxeakmyjN9UzsE5twAjKzn7gay6c': 1,\n '13rvVxWqPF8gspB31ZDQmtZFtiRQptVviz': 1,\n '1QCXWVVjqyTpmL9wdu9yMKYcwTN168DYK6': 1,\n '3G7PEsy1Dr2LSsCVwv2DhqNRUdwax2Wwwa': 1,\n '1HL6N2mSbZmCsC1cx48Eh4cEPhJv9QWVay': 1,\n '1JqoS6z53PeSARFuRsmmsd1Q1fC8tvt9LU': 1,\n '1NCzsF2CYjgUntbEpDJp2VKm5hiDtMEJQ6': 1,\n '3F4HMS3GmRbFdzb7TQNjgEn1ZR67DKM9xX': 1,\n '3A2tnrJWpDP2YjZgAUy8PdWREicGpixXKW': 1,\n '13cfrY5niJcdaUhMpgjZ9VFwFsBjuGiAKD': 1,\n '16smtkuWg5wNXRpN1MPFhjMYew8EC4gekX': 1,\n '13owe41tTdocTpFtvL8VQztMGWqQ64QfgQ': 1,\n '1HGsxhmpjQVxPdxHd5uZQmW7KuU8SkSrjS': 1,\n '1AuTB9wud65YHNqkqRuEiXXqtjRefJ35N6': 1,\n '1LUxURs7QDMX4AM2JuSzpESqmr8rWYJRbz': 1,\n '1G9QsE3CGe8ybLyhSUiKCReU1N3oHuBVd7': 1,\n '1MmbX93nFXUVQ3XofePirAtGN8iV9XHjca': 1,\n '1G9t2fQnmJcRKZSxzFhumR9EFdigYqqbtX': 1,\n '15cdQtkeSvyo5ivPUr3w7aN2Ni4oSdHqFj': 1,\n '12L3nUMguGFWuPfpHc7YSQkC9fiMaPXUKc': 1,\n '12hmxywRzjrfdSRhaRfV1cxs76WHNrcEoc': 1,\n '3H8ZjovcvoDMns4zRGdhdD1wbxtMcBc1Kw': 1,\n '18tSyQwWAX1Q9Fu4juSVya1faL6xRfSBBV': 1,\n '14XhNyCqvmfWKzmxQ48yTQVmnVkPVxvvA8': 1,\n '1LPW4JmbTTASWgfqGZaf9xdokNKuhL3qaB': 1,\n '15QFVsVTye3LzRmK1QuKLchLT7QRiSsAEo': 1,\n '36vBGGEVzfjM1Mn452UgW3EJA6KofRjb3d': 1,\n '12qaLCWXT5w1qMEdyMEC17oqde4D63KDfh': 1,\n '14Eq7hspTXsTWraebfoVyXXgE9QU2z2Pkf': 1,\n '19PvyNiyUgCw9vX7A22FRYxsogqTX2UPpB': 1,\n '19tvXXsUBff8Wp5J6PqyArQYeH8T1Ut8Eu': 1,\n '12xBd9KkjJMAkFBKAdz9nb6xeUHjgGXMst': 1,\n '1KZuPJkFA3yyVWGevBxcK2o3Mf3nvexrrU': 1,\n '12YKQKc3QH6hcmiQ144cBfBBzuXZyjtjdX': 1,\n '3KeVr8iXdy3AXEegjuhzVhmiYms8SkFcQ2': 1,\n '3DkDeKwC99zxM7j5BxoLU7m3EBL4pLFzuo': 1,\n '1LDbsJRYrQbFTwMhj4MvVmD3CQinUfbPmg': 1,\n '1JE4JTrR1yzdBi1hzMe442SMTuVFsBzsz7': 1,\n '1Crdfr7YwZM2z7dBtSCxtKfK83gN298pgp': 1,\n '1NBC21efTUcQAED32VtgC3QThLqFMkraSE': 1,\n '32rtYF8jL4RAfm1sCW8LDj2TcfKGvdVQW6': 1,\n '1P4VX6hdzHJwQj2tbWEgMwRJBjJzJWN5AG': 1,\n '12rtMNZWLqnJGduDEuoEbeMRXZyffBf74j': 1,\n '1NDNYqq6MrZ7SdaxJxFSmZE1zdVDhy6Fpa': 1,\n '3Hqfft99Bh9nxAf74URcYf7DcyCA3ux9DK': 1,\n '1LzkMYweZHLgbvsztcWPmjBHERRaBabVg2': 1,\n '15LFEmtMjjkaFcjKAZ5q91ZoGWRETQv7ax': 1,\n '38ge3ctBDijFu7Gvyfu97WPjrNury7u6Tp': 1,\n '1EvLKJ83u3RePhL1jQkAdLRwA9Df9kPLU7': 1,\n '1CLBTzTpFodMqfxJZueo5zboyGLkVdxi8m': 1,\n '1Z4KL4j9HEfoyo1SZRpaM37kKhS8zesSd': 1,\n '1AoohSekFT9V5cfNy66pPQ2TYGcps2dK9K': 1,\n '1442PZuZm8Utq2Fysu9WTWt3cPvSbVvrTr': 1,\n '1FmB4rikbsPkweUVom31nYzCEK2VCdGoa4': 1,\n '3D5osHjVPU421AaaCm5ingZwjyKBo8N3vp': 1,\n '13xxZa1qGkEQFjARFhptM9VCDNeJoAMTHc': 1,\n '1Ap2XQ41qfLDGt4Usn9SQqfWazMwZgFsAS': 1,\n '3Quxr51JzxCFVtxzv5AYq2DzC2NWJ4TGHr': 1,\n '1ZWQx5scXMPT8Vg99jJvecSwvD7HkF3ZH': 1,\n '14xSX3RwKa33YDoMW6YXbA4zmxPTXntDt9': 1,\n '1496FAmxKUND6SJk7KSvZL5McmLjkQP7zP': 1,\n '3QdmwuWeuSFaY6ULZKopgtf1xY1fEe3aS3': 1,\n '16HpjMnyFD5o46RnYB6SmSXF4ggDAc3ieC': 1,\n '1PdjascwZLobfa3UUFkJdzXtXGXXC3CSUM': 1,\n '37NyKCoyjhw1UHQ1e61fZjvJV1MiAeAhsb': 1,\n '16CTdJUbWZGsB2RkoCAcNU1LxNhTpNtFmr': 1,\n '17UsEVePfnwQAikjajxqoL9tTJqNNEvz7p': 1,\n '39TQj54pFcB9fiDhvtXXKXHmEswbPwsBaU': 1,\n '19t5LTrhPxfJQEmAxDgRZCXSnuqLQH3fzU': 1,\n '3LMgAesH156GKgAzSEP1JdWZwuGVuCXKaG': 1,\n '33dRpUhbFP3tUL16xGG23Xw7EGCq7MqtgX': 1,\n '1D4A7cqz5HWFg7sAGqZp1cV1zAgC15ibBk': 1,\n '1QCdoFAYgczZ4TNiMgDVfHdDGoikNo1xtB': 1,\n '19U7NCzoQDVS2Y5aSLk5MuqkLyYEgKu7BE': 1,\n '1618aPKhh5ZmJkSdcKG86u7G5zVtUEK5Z1': 1,\n '1LzsUokW8Z2MRoAKpbBRayVt49zdo4XGaG': 1,\n '1P5sgsqMkqZgHZt3cpFv8Uj2nSH7CVsrEr': 1,\n '1DGZmHkA8r7kr1FHt5rZgKiTxm77fMST39': 1,\n '19HzsxyDSzTbPcP8UZFwAv1VrTXUHkUtAN': 1,\n '1G4URBByJt92oChh3dxx36ZJERWFBcarbh': 1,\n '1KK5RVmppqDU1BF2z4i123uYL9QbRroNQx': 1,\n '1MGWCDUxBDvbn8QZzaXMuoASxwQmvMfAv9': 1,\n '1LyDu5RZL8c5CUMsHme91uEzTty6JXYfRq': 1,\n '18BRLK8ouzFBVRV4HFbuJfSPa6jMJ4RdZ1': 1,\n '3DzrRy8B3wbJUGouYrVBmBpQS4LU9fnGZb': 1,\n '1LpgL7vfkw1KZ51FLwDTyvTe3Anc7yRh5x': 1,\n '1GHUdmR4cJWphGhtGwYwvAWm1t6wCgezJj': 1,\n '1HV6yL7TXA17NJ7gBmG8sBcJRdrEeRaEXP': 1,\n '177Rr67JxUh3jj497QkgxvfYzkUooxFjzp': 1,\n '1JFo5F77wy3RcaxAiYi2C4Sv2Wtg6sbvvo': 1,\n '1JVF1c1XHYKdf3YoSbMqsQXUNv95NyJiG3': 1,\n '14mNXvgKcr1vGZ4HhgT5b4FMuW11yEvaEB': 1,\n '15F75wX3uuirPhcGYPfrKfBz67jN2px9jc': 1,\n '1JzbxPAVh8BXY3bccuxEkMK6MbniMbjvqV': 1,\n '1DCLeAJV97fLXKTiTr6kkJuGaLuktKDZor': 1,\n '14sJ1iESTWDLgjAxjYAz316dPDfuVFHaX1': 1,\n '1PwPJzYTjShjijwdttZF3oT8KVgGoYAP3c': 1,\n '1PsfH8qK3uryhbdB3fzQ9teQDgAGt47nBg': 1,\n '1CWQSerhfDZGQbrPTV2SCLDiGkQQs7kdLH': 1,\n '1GExCWUADYnZhFVxiFUtLznsVkHQYXnzJs': 1,\n '1J9aPhqtWLeX55w3owCKfAzqT6MyHFcvpq': 1,\n '12EWWLjQ5SUm3t8AV1v7kv9r4ZyYdKcxQ4': 1,\n '18NwyV2vdahzgghGiSd4N6JJQYFB3ts7C7': 1,\n '1PPZiAQG1yEpA8GeQ3oiLb82k272jhM8fr': 1,\n '1HbA3uuwmobcWsxt4wZbRgbWzqWzMctwSZ': 1,\n '32Q7cq2MdMEtM42W3CEgsqfE5tLd37H8hy': 1,\n '137HMDKGNAhyyJ88VDbZecH4hfF5UFjg3D': 1,\n '19ooTwkKTXK2fqHGtGQ3HZysNkhn9RnQP5': 1,\n '3Ekpopdk5EJiAdiKTvx8QiSsx5ujfyGazK': 1,\n '14NZxg9M7JStvw3Fdufxaz1Z9uFcN7Q64w': 1,\n '1BJTtLmzm2utR8MvxgASwBAjVkMctCuxSk': 1,\n '1J9o5wyErmKsbZjsQF8V4uSSYDwX8pDR7A': 1,\n '15qshXmnzs7iJVdNzGWRoeFjBAGLPDRDqk': 1,\n '171P1MTk5mD9bvotLNLhcMSoXb56vXoa7T': 1,\n '37SbJtW4FhD8PUY2wtjxFnvCByqtnNcwSD': 1,\n '1FeBk67FJVr1Q5xThbdgEmmrR9cwrx2SUq': 1,\n '3AXantkkDJ5cBtuYcS1C8b6fjpFWdB77Za': 1,\n '1M8MLuJixRfU4LGDAJJcci1Q3FkVtXATiX': 1,\n '1KPDHk4kq1K2LvNT1PJwDZKhMpNbB4fj42': 1,\n '3CLPHmpJ3VsffvfVa5ZhroSBLYUb6RTenV': 1,\n '1Le36sRAngbk5zDR2yK3pkfwk2gqLe3vnn': 1,\n '19nsV8ZH2EVr1zi2etpFYotXDBCEvcfaXG': 1,\n '19VcF2qs1KT3sbAcLBnmJnfPX4cAi323kh': 1,\n '1LkiBPkR7bNdbaZcQeNfNYvLweTyskCG8A': 1,\n '325R4LGioopSavKhVzZdkcgpDj3GsxMqAv': 1,\n '139cNAGeL6wyXjWuxmor7wy8KxQRagnz8u': 1,\n '1H8sRTgTsp87k5RizCTgefms6pQqZhtorY': 1,\n '1PV4GqtwfTuN8LcjNS1XJpcT53FnT6A53n': 1,\n '1FYVSMvoMw5a2mET8YAnSovMHckSnzLXxg': 1,\n '1LRSCnWQrvEXrSstx3HVSgavFDsteKECJU': 1,\n '1B4gNxVyTud7kzXNpJQDBWVm8cL8wHE4Ds': 1,\n '1EtbeZ4k1kVNKjfZTaNLRLoXkQcjUvuvrx': 1,\n '1BhKoMCkcAcx9GiobTVZZ4bN6RrwKsLNfL': 1,\n '16WNGYQQo9dfhwsdDwiEqKX6fgmCNKcZSf': 1,\n '1P9N2w6qtpzTE8onF9FGV3cfsafjTSHHtw': 1,\n '352XnGiM6w8kzP3awibSRSeiG3YR7RbKRH': 1,\n '1H2jokcCYFJ9abkUzq12WheZFyznGNvqqh': 1,\n '1EoqFfutjXNc29MmfzzVLiZcJbzpmHaFgt': 1,\n '1J1WsJ9Fn2fGDYmacYETXsH5AZtyXreDm3': 1,\n '1H12P1aQ8enm8z4N8tJqitBEyyZC3yCgME': 1,\n '13JtAa7uXRccHqkdLquCAAzJ3a64XzpVr5': 1,\n '152SJGVtioDUmqj6i2VAFDgTqyWPVxqqhW': 1,\n '1HhPE3qF7DyeMEcxQjAafLCgsgfXHmhRcR': 1,\n '1MoZrE5t5EvUuTfoa5MR2c76AzpMjaysar': 1,\n '3A4zYsXLip3q3pegZD4tk2XJT8Cjey8VP9': 1,\n '182mx6NAFPoiQz46BAaLgXvB7hDYGRB5nm': 1,\n '1An8fa7tGETBPF5PzxQjv6NyQ7yGEFBkbt': 1,\n '1LaBch2PMxvXoUvMWx74micVxrcwSvAKCy': 1,\n '1G26iQQArtQLDH22tHMC92c3nArrrG9DFr': 1,\n '3ARKU66EVYnrHhGjzsuuzgPrhizGRMgfNn': 1,\n '1AKLi4P3tvuZADUFvdkE1rqhtu6BppC7pT': 1,\n '3HhcZpCRwLxDYpHoNJkJWLg55eo4VNn7jG': 1,\n '1DS2ERyDaUv65Uisg3f3PHeRykxhYENZer': 1,\n '14JSDkj6QYzeAtriBRh8XpqdXNpM9WWpXq': 1,\n '1NyyqPrb4y8gmbsMgQSS25GUGCZszK7c9m': 1,\n '1DhrJPXFZ5PwzFUS72BJ7uKDutUT7RbN95': 1,\n '172KyqzgGXFSPyxnRPoMcuemHd3XXsi6kL': 1,\n '1PHBRtUnE9GRor7gJm8K8WY95sFJ5UTFKC': 1,\n '1L2L5U7p6n6LxTx67vSwLzYUkhrQHpfUuq': 1,\n '1Dz8wpjniPZfTjTNGRijGKjA8hjceLUs6t': 1,\n '1PwuryzZG2Rbsju5BUVUtaePjUt5ftyfiB': 1,\n '3BTVkUfqEr3mysAVvZpGwi1qQCVhJGacdr': 1,\n '1HDQBCniLPveNyropbjUTBvXfjRuTy32rD': 1,\n '36HgnDwBVp4r1DDowN9i1uFQCLm9z2VNfu': 1,\n '351BQxwYSytq8qUxRGLVvgMAs5Cih1g9Ac': 1,\n '1JYbXc8ULh3opSL2NimX2vQEhCFgQFQ8kS': 1,\n '16VUt7DJo9uaU5vaZyjEuj2XiqKXbkVqUw': 1,\n '1HWYHktkxEe9MX212JzmBQKUUiUhL2EBww': 1,\n '1DJsqrdonEyyD5Kr8QfxPUnf2nYbixJjfK': 1,\n '19TuiKkeqx2zj8ESNNRrd6TqztwkvQhQ6R': 1,\n '1GhuCoSsVtttd93wh9qyf2kafWNeQE3iVf': 1,\n '16DaLzaYcgDWQuiuLQVodopBjzYaEhgxAK': 1,\n '3NMLLoVN16TvNjjqJS2PNg9FqoJi8NBcFy': 1,\n '18QaSyCJr2oXR8Q6LCdV1qiQ3Te3zm3tWJ': 1,\n '1CYNEjuKqeGpyC5df56UnHKUcv3CrDPFrE': 1,\n '1QJ4JB23eEMGRpWU32SQQqiyVZ1aVu5iZf': 1,\n '1Bn8SPQpLjffmRPhVocZDxa2DexMLqyFKv': 1,\n '1ALLbEJQ6TdUzveDSnkKqnPH6Sp9tnm66v': 1,\n '1GKFUBFaMLWtbmxJrMVHbjy4U6K9jRQiVD': 1,\n '1C442BqGUXWRA8pHHyXo9cmDA8K1pmu4xx': 1,\n '1JE48hJ9rEWxTWb2haK9nPV6sLXSaSnKYL': 1,\n '1C7vHzPEJhXVBePGinRfpGYjdh78GkCt8v': 1,\n '1NiJDxcKpHimhuNzeAjXPqZrYZPWwskpzC': 1,\n '36ZK6zd8z2gLw8HhibHHveUtdC12pJBM2C': 1,\n '1J6tAKvENqfZMNixtEYayMh9E5HwjDpd5m': 1,\n '14Ryz1uNxub9G1K5FFaP9MeMk4fBHZKEzH': 1,\n '1vSp9EfKhn8X3Vi9HUALuDvji11KADtok': 1,\n '33KcnsWrsV2xFk8DzRDrb66rc91LJT5CXX': 1,\n '14rFbNvo1WohwtZdxJCwJeCYDhdSfVz4sF': 1,\n '1NAWqW7GJDCcwaEmnKmP2xcVrYuRSYvS6X': 1,\n '3DzKWX2w42iwXXjjtjwBHMktFev2ZyBxQD': 1,\n '1Hfd3MLspktAYXrHqyfjBQm3QuXJjfS2Gs': 1,\n '13qhd12VTHymwEN5Y5UDqoroW6qwSZPWMm': 1,\n '1GMHeS97qAiXU5WCWqqUj6J4vHeDMxe8PX': 1,\n '38BY3FY2ZfEsy4sxG6RUiHAWTBfqBqnnLy': 1,\n '18umojuNswfRMT3SWzeSewAxDsZyf2dfG': 1,\n '337tGWYgQtW1DJZ55fTSzDrDmj4ifvwTLQ': 1,\n '1B3ogBKL5RQwcL1ZadyPW25wGnWucJfUJR': 1,\n '19qTTvVLnekLBawLsqYisMVMKnHECFjwwQ': 1,\n '1FKHTH9sqS3WSJ7ByKShBE9Teuc8kmQA8m': 1,\n '18bH9GCJ31jR5HiJaWpybsm71Js9WAxHhE': 1,\n '14eS9kfvMJkBFxL75jDLMHz8vXS5xJjU9t': 1,\n '1KoqTAaUAH9oBZZZKcJhK6U8LcdPzUSWvA': 1,\n '1FeEN9b3jEeCAFwqbU43c1oBCELZWZhe5E': 1,\n '1KEFGZebAnEnCFQkTVfrLnTxEtFEnkDVqH': 1,\n '17Kp7GiE3nc4PkwYEqEtGbqHEXxV7bLCrR': 1,\n '3FioN1aJesGzfmC7aDWAZ6sCZzLfwD6cvY': 1,\n '1DDnF8bLaKiH5p3QDZr4qMUdQCwWPMTpHE': 1,\n '1NAh3b6n6sbPBJDaiHB9WrNEgDB1wEupmL': 1,\n '1H2Laeym3xopXcjyqj4MZAgoKwhBhKZKYN': 1,\n '1CN1Vp8tagcjWsuHVktj8FebjNJyUysKYu': 1,\n '1LSnncqXdCqND9BqAcXkwZBN7Tex23kKrs': 1,\n '1G8PRVLib52FucA41dYU1YRig98JevgUFY': 1,\n '1NRitCFqtUhJAhBwRYbSSzQdsAXbqCnsXB': 1,\n '13DYcvjgB9g4mFAPc7Ev6XeNUNE3iJrpvU': 1,\n '1Cm6tZJo3xwXYoP883RnA5uRTm9zjEk6H5': 1,\n '1B31Ky5dCAQ4YFzfoVWnYzV2LfexA2ecCj': 1,\n '1HVEetJH3xwCLaepjEtUStCDvMWcdJBh9S': 1,\n '3Bivuy5zrq8XPTTrBYvU5VAS1ZtPCWfX5o': 1,\n '329yWiLXFsHYUXaoEzU2wtMpLSEuafiZdY': 1,\n '3PzYrfRAqpNpEsvmVcPevgwZ9NbhJka3ve': 1,\n '1745Psf7V3gMWo4RBUDFQBfyLkqE3WFZyN': 1,\n '3F3S5W3gJoPx2vu1vgfKovZCN86eYQqWJR': 1,\n '3HKa4dQTYMuxBccXe62D6MF4Rcwb8xMQ2h': 1,\n '37pr8MoJaZNeVWe8fjMPwVYNcZPsMc9MPi': 1,\n '1E4wVEpH4WeuccsFhABenyPQc3S5qTS9RW': 1,\n '1MWBpy61EyAxombgyctTS6fmWttyjcrJBM': 1,\n '1PoxnXd2HxbSZWEYWtogL5jZkrfW6eUN6K': 1,\n '1Gvjo4VcA9gm1VjrUbShAbLEGH7mccgJKn': 1,\n '17ucDvTQPmuL5A2hMn7MVWkoL8GqR6FzE4': 1,\n '35WE6Pncz9m7Yv7Za16M64YN3Esza1ntX9': 1,\n '1KLqz7Msj72tm95X351V7152ASQ8MrBVtk': 1,\n '3EZNYJumZiFLmU6KVGAJNpm12W2UCM3H53': 1,\n '1H4VqP6ZZYRo2bFqZnesWozMXyQzB9Z1XM': 1,\n '38FURf2JbSUNwZ1r9V1XX22yRNRxQftNua': 1,\n '1LdSSsSNuEztW5K73m3QEm5YQ1tkBggU3P': 1,\n '1F9eXwfTwTgVToi661PFmixxqzSCS1ADU3': 1,\n '3FPavAuUBJvMUnY2KnLWXgJ45B53kP8caN': 1,\n '14ZpTJpLSJSNHZ7XPYGWLS7XGHFGpSkC8F': 1,\n '1EcBHyf2VXKFXn7u2x1WYXuxQn1yGDxX5K': 1,\n '19YMN1Z8aqjxpKThD2CL1jiYYhipbtYp8S': 1,\n '1NjvJt3zkfmJLs7KPHE5rR3UTr9cMnP4Xn': 1,\n '3J1ngX5Uj7hoETn4QxViozV3C9V5fhrxhd': 1,\n '12mSyYxuY3QbtRMWxNc9gesXmqAyYo4wjW': 1,\n '1K9rcTPnHwT3S8vMrQQQFTLJeAWKzfJM7D': 1,\n '1K475T79k6eoiQNfV2hcaKe7tTAQDSVc2m': 1,\n '18KCJw4DiLVPuMu4ydrvjwvNbQqqrHV5Sp': 1,\n '1J6qizQ8gsBe7chXeP6bhrK4L98m1xBEC7': 1,\n '1MBGm1wKqFqpZx4UGJa1tjdjFfBVq3biUX': 1,\n '3Jy9HoNQAH8adPtcogKBBb3KjwGTvUQh1v': 1,\n '3NS1THdWg3Knx7Gdswp6LmWQvtBArmsRfz': 1,\n '1Kxyp3GBrufuGUwtj1Coodf82PeUQyZJNq': 1,\n '1GCZsd3tzixNMXsps7obFYXizx79McwPSh': 1,\n '122jJjpDUXkHohqdgt6zSrrUb5YGf4ZVJL': 1,\n '1EW6eg2R253Ya5KkruehcVT1MyPzSxhpjg': 1,\n '1AdyXTusKXz3V3FocSQoKPpPUve2k5kniD': 1,\n '1Mtcaw3RkDSHFHgM6Hsbgmbd3D98RpRVR2': 1,\n '1HT7uK5UmnBoN4hMe8NwT96KHuh7e783wW': 1,\n '1LGKLqUmKUTxv6zTfWkcVKkuceBheiXiei': 1,\n '3D3LYWxDrE87crKHg4v6ea7o4FzoU4drBN': 1,\n '3QmUpJaXj1oxLx8qPbzAJ1PaydvCyzzGbp': 1,\n '1GbxcdZrLZhwdLhfvnvGK4XBnJw8pUoBWb': 1,\n '3PYzo7v2N6dWHs1wqqDBo99thFw4x47wBb': 1,\n '3JnW69fQU5afqbDmK3EpSMmKs3jAbdrWnj': 1,\n '3FSkpDu6A5LfQ34VvVTDCEp2E82d3AAyda': 1,\n '14uXoo26nAkvSPPrx5tUtT29djcSYHTZDP': 1,\n '1CRnrMVJ3U3wzJGCwHsT9d7HU5q8nUPb2J': 1,\n '1A227QggEhJzFvQv5oSdmaeJGLuCdkE9my': 1,\n '15KgnZ2k7KmoT6aYacqXg3RGZKpXi35jCL': 1,\n '3CpFnDgqykPXVZaG8d1QPyEjA7sFW5SBvo': 1,\n '3LF59hN4gD2HUDmSuK21dagsFmnbP1W4p3': 1,\n '3PhdACowUPy1wCPNinmwgvM64bwcsukM7C': 1,\n '1GQu3MkSSygvzTsaBf5ihRk9LrgQwe8LuS': 1,\n '18YYvFA4oxpw9ziX8ezwD6qqmQfeFsYgTM': 1,\n '1MWqdCtPqJ6jfskWMAYWAqVhCapk3fWRHp': 1,\n '1MWy6rw7mRAtmUxT3v9UB4NuGDHP7YzKVL': 1,\n '1PTzdrLTLgPQa4JH2QMyv4NDbxLJsCMpo3': 1,\n '1M6xjYzKwmHmwGif9jnTaWXE6hYh1N4XVv': 1,\n '1BckgEGt8j8RZgKdKDcS9XXqiFCSqnwRn1': 1,\n '1Kc9GdjbN4LBBur5k2eq85g38zajDGs6kL': 1,\n '16FMCPCGGQv5GoUQnmsjGLPVtFMkuxDaAZ': 1,\n '167GfEXA7tdS97P7rbpkmGtwmWsfVBJ9no': 1,\n '1LChTnWE8pytNnvhXJN82iWUjBXrCpEr89': 1,\n '3HtUaggvXou72NGuhjbd5qpPCn9ZByiDrB': 1,\n '3DEjqjbMV9sdfHCEdYC7Hn67sRaJn1obch': 1,\n '18M1pSji8fTHcRcNAKMrnnm7v8ZafdxLXT': 1,\n '18gEk8qa4sivur5ZNYcyARNapaYMbkFqov': 1,\n '12uRKaMKYvoLCbPBPajx395VC2Y18w2mTJ': 1,\n '1GcjgMikbj5W3z5F6wYZQxsgEHK2pvWAzS': 1,\n '1DNxZEiyuRKjg1iQLSTaq3gbm4BtsY2MWo': 1,\n '18VDcPoNe7tCK8KkvKM6Q3AxJdMgv3unTu': 1,\n '1DGiyMgcNTkjxiy4y9iEL85NBdC2kSHBiL': 1,\n '14C4cxkayeTmip9yhHnGYQoLg2wGA49HyR': 1,\n '1HDhukgk1x63WEJ1B15iSAM6g7sfV8hvD5': 1,\n '12woJWQMyAp6K9q2rSxkhDznNyLgxL9H5L': 1,\n '19hLF5cNioin5iRD137iFaFY9hYiqs6vFb': 1,\n '13XcrxhcpJVdpQVMxsXVGDVAayRkn6P4da': 1,\n '14GUf5QC9Ftmm5MJkzLNdsBstw8yAsp1EC': 1,\n '3E7rmCrGF7TbMrmjCauvwrgpvPirpwwqSH': 1,\n '1LewFcAR1Svj1kn8cNzpj4nyB23mdLTcSk': 1,\n '1DhTBDTDHqmGwgAwNkM7UFJEm22nDRU6y4': 1,\n '1DCLXCiEUX9t71QNkMN8HEmMQUoiSMYY9Z': 1,\n '15CFvjXuN1NXk8XMmEeUhF6EL5BifPyMje': 1,\n '1CNxvFifBJsdAokHaGJPSwsEPrQRh6yj73': 1,\n '187L1tiEkWm71zrcxEMNJZxNxBWSmjGSZS': 1,\n '1ESW4m5BfmmuAhHq5ZorCh8eSR221rBjSC': 1,\n '3Mn3nLSdixntVTZhxa8TjycEANmngCXTuc': 1,\n '19J6RU3sL1R2HpuKizhixhHkwToqBsZbWq': 1,\n '3KSJCPEsP64iKy51ZJeasM78vRj4uTVQzY': 1,\n '16BJURqGcnSbxZhCfEy8x6vC6E2h8cSUrC': 1,\n '1EeWSUGfjtLUZhYdvEMp5Y779k6TpDR4HP': 1,\n '1ApwVrsXx38zHcSSEAdvTeo4bj6E6hKvyU': 1,\n '1CacTQbJQXRrKjLjhDrwqcm7g4wLGc4S6F': 1,\n '136BxrtTwndAmhDjHjv2JWd6FARR8XNBZV': 1,\n '3GiAmt3UPa4ejybXJNo9KVFRL1bxMxBxTW': 1,\n '35ngYtuXwNuaQpejmRhwXdYdnrUxRzFpFN': 1,\n '1B57ZzxVm75p62bh3WRCzrCZistmx3r9Fp': 1,\n '1NXBTrRjGb8Z4XXn95ipWos8mMwD87zRWC': 1,\n '15SWDsVaXYcdV9shYCVwy5rQcAvU9oyHXs': 1,\n '3653huZu7fXxX64BR9NAjejzgFGWd1u1j4': 1,\n '1PSiAgEeTNWCf1HqVRyhPzcEYJzqA7xfUE': 1,\n '1FdgFA9JGVmAsSKWb48DY8pb16NX68gioE': 1,\n '1Q1z3pqsmtGG1Wn9e83NqouVTs361bZYkm': 1,\n '12ECQaC19wyDFWnEcVxj4LNRGNDrQhiEc1': 1,\n '115SbkCjRBkYKpjh1tmcuz6U1v8GiNiXou': 1,\n '3JMq9JpSg1P5mJimZnDNXDZ965r32MSNBk': 1,\n '14F8ME1siY6XiTTqHVWNV1XmeQNcKQzA5T': 1,\n '1Dijcv5hN9pTYE1c4J7wRQne6HJA4Ab272': 1,\n '1PXKo6yH9ZSc9Vzutfsbct5A4g6zBtufP4': 1,\n '1AC8ZLD2baBVD8BJ8XFfq6dM4FzT6W7FG3': 1,\n '1FvGA49BQ5VgpzzMn5N6LUz8J6FYCeyZc8': 1,\n '3JL5WK57m2QJu8hZ2ujGESSr42a8ZR95Qh': 1,\n '12oidZBoUmUowwkYbQC94rF7qvwYHi47GG': 1,\n '3FuXB1kMPM3emmdNhT8gbnVwmkZfxvt7qZ': 1,\n '33sjGSG1Jnz7Xna7s5tEjpZqaexGRA9Lqo': 1,\n '1ALkhmguW7Za35zXVveJG6z3HpH17BU44A': 1,\n '18uKhgJ5JefBzSCSdNThKkjn3XLFjapgMM': 1,\n '12v9bQ13SocG7drDPexNQo19nBUB3RroKX': 1,\n '3KsLoMCFYj1EgzVGKFV6aMkhJ278wgBAiw': 1,\n '1P7z1bxrfgdDMeLWhwXcfvhxStK6hhbQQF': 1,\n '17ng98fzd97KUZZpVVvWUnnS6qB2N1MxTF': 1,\n '1By4BJwZMdPotn7Kw7co3gdoRR2S8dPqnR': 1,\n '1BePyARkFxQh77MUBDGwZth7dyG9vzx1J4': 1,\n '1AbpvdJ2oX5Xfu23ZEaZBwav7rrr9ngsZE': 1,\n '14VBta5Xg94QhW5kVrZcU57qNJ52HTmEHv': 1,\n '3GHHm6jUfn95UiafHVxgsswFjUUFbLLmfc': 1,\n '1Q6Tg5mgc5o8XCscapUKdU7jMzKk1ZRRMw': 1,\n '1DZ4Xcwnejvq1K84zv4qHpbCj5AfMujv95': 1,\n '1LQpPVp4xKYExsz2nksyRquZ14315M4RJY': 1,\n '1FMpD5eTAcX3NwEjpbTRPpMrbHF7YxC1jq': 1,\n '14VijayC8NrnJgFyu7E19RsBJANim1tBtv': 1,\n '1NFkbtohcQ8bAtqPTbB7HiPhzBCs17Gixo': 1,\n '12Bk6X3QWU2qYumWbwZsnoNusSnuVQ6h9i': 1,\n '3CmVJg9S8v4SKmDMWP5bBsG91r6StSvHpD': 1,\n '1Ab8xzMRxEtbEsgBfbBgRVLPUgV54GqSjS': 1,\n '1KevUNRHnxCSXgbHxH3xVxAn4ue76Lq6WF': 1,\n '1NfWbn3H6Hq5oR4A7kMEdvEeQ6xjVfdewZ': 1,\n '1MMugLSfdPtgnKVL3aP1foxyPgm5acH22z': 1,\n '19BMEpG2WCsMGxdwsvgcv5zUk9ygv5HrZz': 1,\n '179dWuN8g6YgD1PsYsaGX5ikd58MtfSuBk': 1,\n '1MWbt4htsudhMTaKPxf98qr6eEYsKb4gUF': 1,\n '1PUhkEjcNDMufnJhVe2AEzSfm8zybkvaem': 1,\n '16LjCEQ9ZXQwV2EYbvJuTAeJ8yTEqSN152': 1,\n '18gtJW8FhYro6H1avf9Bp51ETaTBK7B2ZH': 1,\n '17Qbd9ZrDNPNezNkxDeakh5CWfeBNmBJgQ': 1,\n '15LLnT7Xesu1UuSTL3hNftAExvedXLha8P': 1,\n '1F7WHMmg26M1GXRrTXYGiV82smyiExf1Tj': 1,\n '1KnwVLrrVxD4V7egXSEBTKmaVuANwQd9kj': 1,\n '19tnNcPNATcesbeY9HE6ydvdBTJLjSLX2e': 1,\n '1KjDMyrG1qsN5q4UZ6JP88prHe3HdZZXUu': 1,\n '1Cko9JJhaZtnWD4waYGuyX2hwWmDJLcUiU': 1,\n '3EGoCngwStmC4ATDnnAcT4g6ESbciaaUPA': 1,\n '12tuHVLaYWVFgMDYvuu5qtsqVJFSDyj72f': 1,\n '1JrxoCxAUWR4PfHUUYXN3hzXBhNirvSuJr': 1,\n '39mYCWagHwxS4DGNcxbKWg64Nfojo5oTiq': 1,\n '1NiBfRLpoXcTELpGdyKfKZDHDkr6Mk98LP': 1,\n '36b2hSBdjcCq7FsgCUnyGXD3fBieXWvgHJ': 1,\n '16PaSjYUoGKCjPcMvpRfe1cbrLUvA3LXn4': 1,\n '15HZNQ3bsXzQqb6uwbWxLYMhRX47F74tKF': 1,\n '13YBuJ1Rj18BzXtCyYqSdJJXE1Fyzkbdcz': 1,\n '3K6uDvtefhCcM1V9RQnHkBwikxkZXAzgkK': 1,\n '1GGYGb9oWjSaktsidY7ha2njWPoJZWhnEE': 1,\n '14r8LJpvD213cw99uHm3RBcjR1NCgqrmAp': 1,\n '1KUayJeAcGv16zk6QQ1ympr9chnG4Eue3c': 1,\n '1DMeN6ADyvyDVpQBVHGu5gDyZ2SUuNkemY': 1,\n '1L1HZrKQhRKk98ANsPHbfjVfWzf4qtpMDi': 1,\n '169XwMS13NSRmKQXX2mfJMngGSAnkh5rcP': 1,\n '1FQu2kevUM96FqHKcs99Fx7FoXBmQguvVf': 1,\n '19niBPokvbBetXUj1ezmqx6D8YBeYMTH1u': 1,\n '12hwBYTh6Mv1rBHPMKnGDoUpNWyzCCvA9E': 1,\n '1N2neW1UYwrXUuq5v3EuLTJ9hhWHxD7DoB': 1,\n '1Hq2Z4iDutcp24AgDnU73QSHE2BXEeFVxk': 1,\n '1CLj2LtgMjGa7xWbU8MR5fpuUXv7v1v3BJ': 1,\n '1K8LmQVfp4Anxz6ShJZEDsadqJuSog6mbw': 1,\n '1GgvLS6h5GyL8VKnjnmkVSWsiappS1BeZ1': 1,\n '17U3YVsVvDpNEFsYGXnCeFvYv4QxU2kchE': 1,\n '1AboUUuJ9SNX1oHCyE5Tyo1Qfy34CXzx7D': 1,\n '1CjLJyWZL4BBN23aV8e6DTbvsCJPBvcjXn': 1,\n '1FGPqkh6Ckx9aHVDcX4WEWX1KNdN5MsHXC': 1,\n '1D7xFC1Z91cBkiiPep3BmPnktjyY1an1ir': 1,\n '113JBeANhqCw4QodpGxcvoAwrFTbrYRX8Z': 1,\n '1PHbAVd8by6v2CyrG1wt2EqzMoKRmxEVzu': 1,\n '1MXPTaGhp3VZYwgKtwC96aiJvgJT2f4i9v': 1,\n '1K6eqj3YsSVAZc5SFMakDe8J7pZouuoeqM': 1,\n '15tnNwjpHahzzNQSg1hchQssvhrooedmHs': 1,\n '38mjjLrPiAK9XJu5ED96yz8NDUQkqXarqY': 1,\n '16itQaRffJAD1erBxGxYPNw89BnxffCmob': 1,\n '1N934e5N6WKoG5CzSHDKftS7YhfrnXtLKY': 1,\n '18kGGcHsCcvxqSBuAcjPzi9jCgVmfXTWoo': 1,\n '14RvxooeMni4ftYuECktAYfVtTgE4ACFz9': 1,\n '1MT9g2WszyHkfYC5gdCbyzcZSqb57rxM3Q': 1,\n '33i2nxH2v4H1KyXgk1UGGcTqJ7nGtEPMEy': 1,\n '14KssouZsnHwSoLyUkxZcx2uhTLTfnCg81': 1,\n '1ENioo8uiL2HCYhi8sv1thXGLsNvVzRuLc': 1,\n '3EmRwrFJVG3mAUpsKdPGru6z1pot68d1Ty': 1,\n '15Cg6Pxz6JKrQdQAVyr7JqVyGCueQJLqCX': 1,\n '18PkqyVziuL4hNJe9vmos4wSEwwvQo3B2s': 1,\n '1MCcBjpGcPmz1gURSoGjZKCpp6ACZbhGmU': 1,\n '1PgEmC6DopVGXgieDwCxRBQaEEmZSXmKcH': 1,\n '1JfST8AMCKv1mL5j4BXRJ4hw7NrGu49Jtb': 1,\n '1LB8mwn9v6EbpGni1WFQWyReKFRfRLmskm': 1,\n '1EGLAB8k6QfUzCkpt9uGFRMctxJYW5Dv3V': 1,\n '131dxRqmkiBq9dkGu8Yb7w76HfEFj8x8SJ': 1,\n '1GxCLENwmHUSUDo1FZkDR32wn5CTPEv7dt': 1,\n '1CUeN6fbnybgoh9f7u3nUKwDB5Pt2rjwL4': 1,\n '1JAKcE5diYCNQjYbbskRQi4gxU3MFscbeA': 1,\n '1DVGucRryP2FwgkcbdqBtNS42BJSqvG3cE': 1,\n '1Nf1RJE25QchZm6xo1Lhmm2hHSGmKoHGZj': 1,\n '1FzovheLZaqxrWqFxzhDNsfDcnauntab2P': 1,\n '1HvcPSUP6QtxDhHTaUhpUmfX5nh5nMZUNW': 1,\n '19Q9wRwt8MpcUSRF3TDJaSGNf2qP4RjA77': 1,\n '3QfrnXjZ8FK7gBU62jErFJBFXfovq5sF9d': 1,\n '1CGmenX4z796cX3fa6UT59smTeJHM79qVy': 1,\n '1CsgjU77yTYxb9SjQApAwFKdLVaiK99RQm': 1,\n '32BLA92nqdFMz1BsHTEq5UQDKeqA3KG4iw': 1,\n '15eHgEpycmJcAd9Lyva4qBjaq4XBLqCcyw': 1,\n '1Dr7sMAX3oTsSGUWDCgfSrVKrgrX8kzfZp': 1,\n '12qzzPHQumxs3tuB9TJ6qBMRLNYRv1oQ8C': 1,\n '15gXnQ3shwB4HwW1W6S44fNfoNQJvdQBPJ': 1,\n '1DjN2PmH5QtV3i3NEdG3XaeaRGhXdwDzPo': 1,\n '3LxK69J7qJXqQs8qEPyWuahr3C7AGASHFT': 1,\n '15uKDxEGiuu43PZr5kVPMzYWxfE9Sgx54b': 1,\n '1MUFM13pMjkCADjXEc64J6KN8SEkf5H9ZR': 1,\n '1DR4BBJMzdWy8zZTgUvQyCPsNqMcEfdWWg': 1,\n '1BoviQQTS5dxYxeJN3gNDjgQbCmcoL4uiT': 1,\n '16hdwPXgg672Yw5DWvK1vknhjzTLLLWKj7': 1,\n '15wSMb99UMs4kqrLUqd9PHVResaXzHc9oc': 1,\n '17exS3SLaDahSL1gDXBhBtHFsvFYyGxUPm': 1,\n '1CvsGTARonzph8xdY1DDb958R5VDPDCVao': 1,\n '3FzFAoBT6C2mScahv63Wto2DB3H5zTfh8L': 1,\n '1HWzraK3Smrq9ZmpjzE7BcRsejiBrNYLGL': 1,\n '1KgHGFTSF3qmSwkdSoxktnL2bAQTH6dPb2': 1,\n '1DBM8c3nw3orn1XFsnGYzPnQoGWvvz6oUX': 1,\n '3FdGdxJZB3TbfZowhqfwnPqZ33naAdeVPH': 1,\n '1Hm8u8ov6xjqdWckMmpyhB7ETZyBvqkCQq': 1,\n '17B6L4SJfVY43WVnotYJLJA6znW4ENhg8f': 1,\n '35rqvmXBEUvK1g2ahdH5KnsuV2aWu8WX3h': 1,\n '3DTbaBY47HeTrXXs7o47SMnXdqnnuVfzxk': 1,\n '1ECUQLuioJbFZAQchcZq9pggd4EwcpuANe': 1,\n '1Ei9EsCunVNNMbz9PvyramDiAAWK1dqXjv': 1,\n '1FzYQ9SDfYpz3oRYZoCM4KP3YpkAcTbAQx': 1,\n '18EjB8z6oHUrTbVRnoue8Q55DiH6WkFv6r': 1,\n '1H88eismMoVrpmqm2oAGpr8nRXFSkttoaW': 1,\n '1FUaGhoeW7pyRMKoxXVQk5JtKPH8gavoQG': 1,\n '1NwxKVWu6Kz3CHupeRAU391JDZcK3CGuhk': 1,\n '17zdfN7TPZgM69A6xPgMBk33xqsPE3zdHa': 1,\n '1HtVzAY4rq7cy8wzPYRUABoRVJuQvkw6tR': 1,\n '1Ffy7D6MtpdvYBJpxa1qAPrztYZJW1DgxN': 1,\n '16xpiQpA8nm19KYyYNWaCSz1gMgX2vxqD4': 1,\n '34kHfeu2cpxfiEnE5PRMz4exn2B39fJvVP': 1,\n '1JxVWe4F3dMg3oMhNYQtGXrDpBLSiTWypw': 1,\n '1DT24QTCtFZbriZer9iVatPGpXMG3zZSTF': 1,\n '1ChNAMxFDCnFVVRrp5zqCatAEdNddxswQu': 1,\n '1Mwdjv2BeDKj4yiD9k3k731kP5YLaj4vXu': 1,\n '39xfWGEM3EbekhhGR4jwmSsPz6Esyh9yiH': 1,\n '1G2BPjEUgKqf93EgcncbhSuBhMhQR1Fpr5': 1,\n '1F9od77JWVzkxRY8VoADLZLKWdAZ6jjDqC': 1,\n '1PRi2vKNHmEewvpg2uH9dmymCJXvK6tQzm': 1,\n '34XGiJtAS3XbHPxCYKvMrEXhoq4nsfw4jE': 1,\n '16p2Dwnms1PBSnr58iuTbeZuQdoXKBgGMA': 1,\n '1JWMSX7nWfv956WKJVH7XFHHEiXr1461cK': 1,\n '13wzciXxj4Cd4FqzdbqWbowXxzGrJ7zgUz': 1,\n '15TuVsdTN3NjieosoDdJnbrESjVpqz8yHN': 1,\n '1JTiktFNxyKz7NinN2BcHfgdS2Qos5vLGS': 1,\n '12h2o2NhjL1cJZsK9fm6m44c4iC1we9t3h': 1,\n '1JVc2DeqY3V4AwLu4Fvhjwjhc6DFtDtyG6': 1,\n '1Neb76nAfYkPASx4A2keegxGewEYUCP6ek': 1,\n '1EgNgk6Q5ZNWy4baYWZUAkY9QGVbHTrPVK': 1,\n '1PT3wiBxWQx6uBSA1owAtT42CsWvP3C6K9': 1,\n '19oeyT3vMV81upB2GXKKgJC4UZso7DSc4D': 1,\n '1EzHDYQgoi392DGrHPtXkJugBZPjp2V5WM': 1,\n '1KgLCyEa5PSosdsoKXySC9oehpdtKFbKH': 1,\n '195Khfv74QYfkM8MfSKVWjZex3bdzQx9i1': 1,\n '175oQ15KigxkQ3rUb3yKTxqaZMThRUE7z5': 1,\n '1HSLRzUhTnrTVMHyDmfAKrs6Gn1btJ9v6U': 1,\n '1Lfg4Koppo39qp1G4JVpSMQCbwcVLUskzh': 1,\n '14UAcZqYxXyanDcKWnngNyF16Xo9SPA5i5': 1,\n '1LuAEzo5GVvqLiauUUFQTZxpKzqTCRaSHz': 1,\n '1BCA3vv9dWefLDsvAUqYKQqTCKwLKZGSDe': 1,\n '1KZj3ggFYCMZ2iAMmhmMCnFgNJT3RDqpYu': 1,\n '33mQNFHym1s2RNxyESS2rg6Jrc1SyyykGh': 1,\n '3CtZnxoA4iCPEEmUFg9a37WaP6yDMdc8g2': 1,\n '37THpkZtGWsExNdDYYXFfA499b7P7vmatQ': 1,\n '14hwiNYXRCVVeaxuycsWPEuj6Zsp2yUvsK': 1,\n '1LW5ftxf4k9vdRkT6QxeyuUcAWP4JspZaG': 1,\n '38AZDSwrenGKZmnUGF9D5uJbsVAzxaPYhE': 1,\n '17LicD6jUFhYxjeW9Vk1vEdh1SrnAs5wJr': 1,\n '12wQyaW4ntbptUoBakvXmoNaWWzYXCWxEd': 1,\n '1JcYgUwXmjVkeqKrUutgvUhqUgJz6me1j3': 1,\n '1JNBMfeHzraP6moih9TUsPgiacY64C4aKK': 1,\n '12a7HdmAR7wuBUueRcSLr8Acr5S5sdJK3d': 1,\n '1MrUjxejFvjhz271vk7TgUPmkASYudZvhh': 1,\n '12qobPUhQbtHfcPadRKiFmQj5pTaDWLqrT': 1,\n '1Lw8TN91wvEpgGPodrxWmqaNc49KvmaZmw': 1,\n '1LhjhQUyjtj2euqsXiYDLtVf2XowFogpXu': 1,\n '1D6BWvtWa2KqbZiVCfrBnjCJBg6G5K19MX': 1,\n '14HMRLh2T9DzQ6oZXBec8uuLy1f97wcgwY': 1,\n '1CiRvX1YwrU6wFwR5n7wH74jEpY1uhKhdS': 1,\n '14m6snoQwXniku5gD98UAGtFM1zcFELTw3': 1,\n '3Q3KmF3Wvzn8tgD69L2D8Mq7vrAyiE2VMG': 1,\n '1Kfn3aqMEyTN5rZL669JjFzANbWiSLRPP': 1,\n '17UHbPdeEmW8Jcvw63wZcJxFCahE8PC7rL': 1,\n '1EcVoLCQZZ5S54m4xZ2CqKSpbxm4uJynQD': 1,\n '1JgDaabaTXWH7tQUNV3K5AhjTtQ3Jqv3xj': 1,\n '3PqsGV6oMpuydnuHE1Q8mJJTjo3dtri3BV': 1,\n '1D4yDEPWZ74Cwd3ADNLXKSkabvCUfcJ1wK': 1,\n '1BZNZnsP2qMh7xUanD8LmxRw4mVSe8puJr': 1,\n '3H5ydajtv2MigHBAJEyJZ9UEXv4d69S2yd': 1,\n '1EhVdyc7ws7QxT2r5HSaRd8XPSpRQPVQ4v': 1,\n '19QVHrS6wq1ahcKCqnHqbMhbUKJCAGztQv': 1,\n '15X6oFuondvxE8TnEZj5SC1xtFDgUizyDt': 1,\n '3FkZbQFihvaEQJQDLn13JwktkKYgH9wXo8': 1,\n '3NmxhTuv2R3mJs2mmi8QXzRnr7CTrZZz8A': 1,\n '16ZDufLCa1GbMBhWDRBr9WCczjQ31cTrTR': 1,\n '15pG7FKF14SL7PVuaEQAHpu3d4Ee89SkUf': 1,\n '16FPvpZosXB8bP2SVAo3WPeuKe31jFUxhZ': 1,\n '12Hfo8ozdkccNWdmSxK3T3SqENvUpC5MVK': 1,\n '179heRGyRkSEGEQzCuFoDFT9LiXKHhnGDR': 1,\n '3J4r4dTWZRpq4CR6CBAFdWWb3eRn5vE2MU': 1,\n '1FZzYUciGqbnnRnRPz3JjArmDvgeWeLWeG': 1,\n '12DzCzivkV2DSyJ4VwYU3rJeVJPaPGcQpd': 1,\n '172kYE89YPmFRQeKPchxfxEB57vamUVHkf': 1,\n '1DWKSFZa1iixUFNmVwsQJUs4EzjBFrtBW7': 1,\n '14ev1aRaf8Liixcn839FLyKLAjFeG1BCRB': 1,\n '1D2XbLUM7nA2nQS81TVnjs1Q7qxTQWCTbP': 1,\n '3PcyZfqa8mjSHHDLwGNXanc7WrJ8nWUNp5': 1,\n '1PM6FAhmmEZmxUmJd5qEHQ1VEiUQcqcPt2': 1,\n '1DLUajFHhkKDvDgzHKGJAsRzCWdL3QaqPP': 1,\n '1FU4ywMDDJBSk3EfLeNy1aKC4qpqG6qA3L': 1,\n '16b1sKGNeR49t2yygJm3iYa6ev3e55qJw8': 1,\n '18jpnX93pdaFER53B4pqyFzeTXextxnptv': 1,\n '157MrQFP5hGVCJjZBjB9WXng7gVagNWyz1': 1,\n '3FFnziNhD2z5bFkPDBsunjaMCSc4NFnRzJ': 1,\n '1Fzokbs3z8L3gWXjnXVxQfpcya4xpz16ha': 1,\n '1CWYWhSQgMAW43rd8bFQ4pT3t8CAnHr1a7': 1,\n '1DHZJF6Yhfw2QPc2uaZDFCRQS2auAPEpnr': 1,\n '1GNPZ8bYi4aHhhoUjbjyLrSUYq35RLQdDd': 1,\n '1KKQjhAohS3FLM955DABdoF3YdCYpnV5C7': 1,\n '1EuG521nQU6VY2HqvNC5tUWjuxDXwpbgRp': 1,\n '1LxDSusurMjtK6A41BwDNjSQTKuQLvBzc6': 1,\n '1JcvSxamiacoTbzFzU9JUecAGdcwJk1651': 1,\n '1NB1SXThbPjmuCH228tv5UuW8i59iLSQpD': 1,\n '17NK5nNXHLEcb7GQusLj5MNKZQcWo8jeCe': 1,\n '13hWd6hunrhSVgQC9CqrwaRuof9VYUydX8': 1,\n '1FXrEKk9cVu719ffgvzkyc6hGf8MopXcnR': 1,\n '3NnfjCY6jSANFdZNYtEspqvp2m1hZvkjxj': 1,\n '1AHeTFspd4Lb5yU65A7wEw8o2cP7dFBamk': 1,\n '1EWkV1KMPxA9gsDrUF8htoA1ibEjQME7pN': 1,\n '1PRCfC4N9FzCTKiFbex5mrt8xtm3hH8mDH': 1,\n '35nqJyDtADXP9nf5cojgu6qEho9UcVj5LE': 1,\n '1EVYoWbBtqbPXzdHgV9ZfgX4Vn7DUsDQfU': 1,\n '1FTW39Sdep56KVLfWKLpA4t13iFCtdVgSq': 1,\n '1AUwqKHQYBLrHde83rksrmy8GeowBTLtRw': 1,\n '18EUHZ2PwfHvHyTz8gEcmxwyhbbjrbvKRm': 1,\n '1epmEL8EYmRjK6hntUC8JYP8bJhzhUXRE': 1,\n '16yCvtZyYcwhHEJ96BH1wX7Myi8nZqUmup': 1,\n '33uV9YDibZ4GVnXhfnzhwz52dRqLSL8eW2': 1,\n '17veAadWxEusRjtQW8BLJxughkGsWiSQiv': 1,\n '1B2REH6WdQ78QPY9Kh2GE5tHtujv7ho99Z': 1,\n '1HFWnBcrJ3YjfGXQhxrCgxbTRstZfah5LW': 1,\n '12xy8Kyppi1KHZgGp8bbkR1pWMSERkAjb6': 1,\n '3G8UXaW6UbHybbk3vwEVSTRR9cqpf2ZGTy': 1,\n '1DTp1oWQj9Gz2r9TmRprHri9qSZ2EUgk5j': 1,\n '1AktbEDEvv6Yecg1Jc4i6aedVMP2ERaShn': 1,\n '1NZb8oAdzJvM27Ghi6uRpcZWbjMSwFeXGB': 1,\n '1DcEFsC5hHFn7KMPboKHtMopxFnCivTQJV': 1,\n '1BLpqxLpmhpg5TQGbx44MFY76dqYgLczB9': 1,\n '3NWJN7ig3aPdQXjZnpiiNktDDTXsmiHrdk': 1,\n '3JJiGVAhXy7ZxoTy3AgSEuDTJEw4D2425X': 1,\n '13aX1WxTM7wc8n6oq6jh92Es4ap6VuPPnH': 1,\n '12SqKZXYxtPkQL3SD2in34reJDqPLwLDqc': 1,\n '12TiM8GVUdVauuGrwuAYjQfitKXJTBxfBV': 1,\n '14RBWT2yutW4e59HxVWKbgroFh2oPNsHZS': 1,\n '12cVaSAKnEVGA2aDujcy3grtPWt7SuHBhk': 1,\n '1DXVTYwwXAqwFoQXHyKx8vMDEJqBwJEMgY': 1,\n '1PXDBEtM64ZodHSzzH9ZxmdY4ro8NphMRR': 1,\n '1AHtARXXhY8M6z1zWKKw1ZmEtgP3mfMPDD': 1,\n '1L5cDuBt5y6WZiyCSUv2YYphiuhjwwj1tV': 1,\n '1BJWwB7SxU5hYEMZ6XSexuBmFMdkEcSnhM': 1,\n '14vpEKFxgowcmDPdogSJ7KSBdXbVxHFQuj': 1,\n '3DWF94gzCXfcaN8sZ8hQtPshXNE7m4ELsy': 1,\n '1LaGYV5c1VmCnXpgegssjTegWE9QtUm1q4': 1,\n '1MmNQgJCpv1ZhRKLyvDFho6Aq1Sge5G2wQ': 1,\n '11HKaFfDSmVHVpPxvQfPwEJpKLh8XvEYx': 1,\n '1LGm8wiydXoLSKFMYwHmbCXLfFhtw4Nzqe': 1,\n '1EDgBDrYer43tVjrSvCAUgL2oSgJWH61W5': 1,\n '1Fn6PWchh2mYadBiGygSWEANC266fcMkdw': 1,\n '174kCLmt7GB8CJX9tq9S3PuqucvPxjoYtY': 1,\n '3D8ucwKYtHuK6qGntgN6ynYHajSXZezriN': 1,\n '1MyS9WEaUG837iCT7iR1aiKvooiQVnUxeB': 1,\n '31tgUxiEURKUb8W7YkaNM4FmrLDWDf6tHv': 1,\n '3FUcTQa2XWHfnCZQmUWEU18xQQeMuMuVgJ': 1,\n '1DFvB31DJuvjJBMqcsvBPWLHftkbf58DjE': 1,\n '1NUQChMVCuNHErvk59aqWibopThWyTGXAy': 1,\n '35s7xojiZDG4jLPbp6aMGQ2gZP3a7QK9rq': 1,\n '1J6Zg1trokFcBdEbmMg7M8e2qg2pKimvXS': 1,\n '1Dn3JVu7nsSLKdiKeVM8g6o1ccFm8PaFet': 1,\n '1NLPfZoTQWSNBjyBpBVsWvQLKGquGyv4AW': 1,\n '1BhNPrcRzUatoLTZRNvrc4THMhANpsNaW8': 1,\n '1NHYa6BzZzjGKPxxKcgwSswXBUSBmssRsy': 1,\n '1LCYqqnW8yUhQ4prpMW5gaVaXFHXdSizEb': 1,\n '1A65M9PJMqKMsugKPpYURKLANyf8CwZfbF': 1,\n '3731QcRZTXqdEpjXVjyf9T8zXeSAqZt6Ms': 1,\n '1BTbBvN5Un9wPdd87DaKLRnLs6sfbt6QfU': 1,\n '33jUAw1QuhG411os1TLuQXGQqz1J4EDgju': 1,\n '1Lnt4XdreVUH1tH36bqGpJ7isPhFwPAq33': 1,\n '1NFn6SbQbxvB9DZbYS8bTMjNa4JQ2Spi7v': 1,\n '1qKuf3ZrdLU39WZ4fwn9UULoigXcWGXmc': 1,\n '3BfBc21YfkknLdYWC5vwg3TGSaGGFyo6uT': 1,\n '14Yf5zByx7HYKznzprfZCdtzNk2zci7WrX': 1,\n '16Mm81DRRLHhc8a4upinsPFJmFQ83wyNsJ': 1,\n '1Neka5HUE7PEedSngYXMSX4wskSYKK3La8': 1,\n '3FhWzKn8yU4s1ZTWm4kyHVS59GVKsVncCr': 1,\n '16ZcBCGkU5govmx2fkBDeFXsmvsFcLyEzy': 1,\n '3651D6DFpUkBdCVPNcYP6cWAxWgstpy25k': 1,\n '19bUnX3MTTrjphnzfEoYShK3FgLebHAVTx': 1,\n '1NEVZh9D3BdjPHYy6kN8BaivYuWVoB9tqo': 1,\n '1F9DFH6N7EbiCV2bnztsvaHJ1oMDZyEGiD': 1,\n '1Gcws2qvQjvk7pGvEwYgnTeriwHHvq66NW': 1,\n '1GT3doroYZypYWCGQWMc75cmnNuLLwU3SZ': 1,\n '1MuqmoBTVoqk9db69ZgTy9CZ39RJeCc82i': 1,\n '1KB6fnU4vjnSLS6gfjgvDKWYCvuiv1ausm': 1,\n '1FYDvZ4qmexPSbf2muHAvUUqfQRoexmVSP': 1,\n '3PZAB5L8HF76W5fzAAnES1iuuRVDDbdtXJ': 1,\n '17NRH1yy8j2jw4SFHDixKtBepryaUuwxYv': 1,\n '15H6WbSziHGi9hUMRRozhGp2qyv3cyXQFD': 1,\n '1tfQott41yvvWwFBx7Ff9acFsbK7AtgZ5': 1,\n '1LT1LCZpvu2KGhHBgbU1U3ZFRoLjSBXGqd': 1,\n '162bT3iKtTTq72ZNNnyJUF4zeXraojpjM9': 1,\n '33FgrTmu1RZJRsxDnDoMsvojosqdDWJ5e9': 1,\n '1P4AhJ598YGLqUV9Ba86PSYNSQusus5BMY': 1,\n '1C1yaNrQnwP7ncMhMMJQYK1kAPTLmjCiM': 1,\n '353v5npYiQ59ZoM12oNYMY7z4MEdD2xzPa': 1,\n '1HkgjJAJuk2EkBeZnbru9ncvtRPQD6VAd1': 1,\n '19ftGBfPqLxxnARhXSZyoRKaZ3Egqv823S': 1,\n '3J9zpbNi5Tog2g1TBYJm9ukmHHRHb11jCX': 1,\n '1bd3hmRG5QQ2sNcrzan2J8cGK2twsFzjw': 1,\n '14sXLC3pqCNMKhUXdnon9eoxL14CHTiLhF': 1,\n '1ZR6XdxambofpXPAqUB1CRL4HarndYvsW': 1,\n '1CRCg3WcCcX5EET9s4fDTHuKsf7e76Mnma': 1,\n '1JqYoUQS4Q4XyZxphp5WyWz3H1EWsZmGLY': 1,\n '18EQcVdEavjW2akz3k3DvVH9i9NXkdwBUt': 1,\n '194J81ohZ29rrQUyrrX3LmFSo2BviRXCLZ': 1,\n '1HNkFpd31Nsxak1qgZqZoTp5xApVzX52fa': 1,\n '353ntF222uyZm7ntZCDsVwm6uJqvmrDqKD': 1,\n '1FA2xRDctUptTUUna39Qxv7633JGygLa66': 1,\n '13CogmWzg5huyPEM9CqDqakyUZkhxjkMZX': 1,\n '159gAQqgGrqTqWhqhr6TddGCYrLrG11GDh': 1,\n '166Y6e2vbpXcudrkVcvwHnVTbSzW45P7Pr': 1,\n '1JRU8E4zPrYQPgUwvgcaFqPUhj1jTuzuzm': 1,\n '1Gj95yzzn1b7gvaTGR34vr22RiHTf2p7Kq': 1,\n '1FPdJ3FBEAi8iJt7ZjXg4kNzRudX7cFcfb': 1,\n '1Jya8BwbPgMCJErzG3LKKMaFvoDEQ1j52L': 1,\n '1Kr4V5VxD69QG4WMiBHhq1M2NsezccL3ji': 1,\n '1LHmsiGrccUa2L7EHSiYKrs489Q7dSqpGu': 1,\n '1Q7fo2tE1nDHuNeMj7o73Cpz2C1bLfeTAk': 1,\n '19h9SRr8qyiYzZDM4PrEE24JyZdRbfed3i': 1,\n '1AnssSmVA4Qo9zuNhpkxhzvoHbKpnGcB2Z': 1,\n '3GgABnz2UUnMnLpLwhZ1kKVQMEuCw3Rp3t': 1,\n '18JYLfxdrYhpxSNs985YDmUGSxMNnXWDfW': 1,\n '1MPwg46RHWh8naaoWKaRhJK7J33jgUgfSz': 1,\n '35fzNuM4ZouhKq5zdn4XvwXswGmmeLt6vJ': 1,\n '1LKTrRYE1AXkHJdLyjcBcwEaumfw2ABAjf': 1,\n '1EiXjnDHA7qMTKxMV8EAM9zfsy3YFGhggs': 1,\n '1Amp1Y6qZnMVQiUCZF6mKXFfuVTuc6ZLvU': 1,\n '16NgsYBt6JV7UtUgCdaNGUu1Mr3bX5fJb2': 1,\n '3NT4KxZjG1FRAHBDmee2j6MY3hCC8sH2vs': 1,\n '1N6AiD8bMmg5DvkK9TRSDUZzbhNu6iwrQp': 1,\n '1PCFAPaoScNX4YUsTHFhiNNNruW3UD29Uj': 1,\n '1JkWA4NBcWvoMQTmyq3ak9rLKb4rfzEbFz': 1,\n '1MosxXZn8aNLEKoqDjnWPaFFdpobJ1HKh3': 1,\n '1BQYddM2c826iJb8DvGQpPjxDnqHgpVN1o': 1,\n '3JSybmY7vYrpaFrvn2Ge7swocf6BYCL2cy': 1,\n '1D4tbQUDrkwSVAE6F1ubipmz9QeZFfu3je': 1,\n '19LM8Qvu5TUdJdyLvAGhBSzDiuSrkDA2ZQ': 1,\n '13vemTSAJiVusKdK5xQSTvaMv5wRP9Mvpz': 1,\n '1LxvtsixGTK6q3BhMp2CmWVvfdhWkWAmvv': 1,\n '15u6Z6WDY4FCmoiMJr4GdC4BQTWiuWgveW': 1,\n '33LMW4UCpqap3BYAhEbfSH3RRcZx3zTymw': 1,\n '159cMV28tozMogNN6s6ETg7JPiGLXMLjPW': 1,\n '1HnwXoQRas8b3sJMa5H2uTQLenhgJkP9rU': 1,\n '38x3CzSZ8ayXAN71V7nHrSarpNmErQhY1X': 1,\n '37hz42Fvio2iKG3S7huNNQATUTC7yAFzBJ': 1,\n '1D2zwFd4uLNbW6fySmuJskinZBcmAMwB1g': 1,\n '1Nemg4fHTMvtfSQcxk8n8tPuJHf9sDqF7a': 1,\n '11QVseA7HKnaAqYFkSAyfEeeqF9mbKPXy': 1,\n '13F2x9yYaAZ2Ns4ap7bq9Qu755a8oLw7dJ': 1,\n '1DrSDotQ3XhSYaZ7wXMrbWQfovWsLfJrWU': 1,\n '1GdGgtBXzyjtEYZTkFFtzLV46MksxGCzGS': 1,\n '1LMmZUg7nVrxrJpxRdUBZrHoW7SoShVrxR': 1,\n '13n3qJeZ9Y3gjLJrv2tWvzfirNFJfvu2Ev': 1,\n '1JoKYhNLnm5jiUDGAyW88bJQTXdm83Niag': 1,\n '1MsYVydR5xthBt9vxHzSvwaNvdwFQ55ipC': 1,\n '1QFhkXy9X7V9grJs4RF55HpDK5isfdrwPP': 1,\n '3J7NoNbwavJ5GfSKhxK3s4qBBL8kzxvFez': 1,\n '18ZC3TZzHx9zWsusMCzzkzHSyJmGADBFw2': 1,\n '1AFeQxD4DPN6quCGAVYvMbdaQpASSS4L3P': 1,\n '1616KtAVaUit1GvC1AwAcqRWJ2nivNftMM': 1,\n '36z1LUm6zUByjhHkCm5zLvDs6iecXbpDJB': 1,\n '1H9UwNwthmaDYUrnpvEvN6ZqxCUKYVfZFi': 1,\n '1M5EB8iFvYxuUFZEptmer7XqXiP5bri5MM': 1,\n '1Fc9rWtveAZDWUkFJZdVfcd8UMUFH98msL': 1,\n '1DfpZwEVoFeRbjKcdo2jT8V76AaoeCZfEC': 1,\n '1ByxAWP7oCtXtxAWAXbhBMmpttN3kT91ui': 1,\n '16NxPTibivKga2Tqz8ohzjn6JHMyFiyEtB': 1,\n '15j1oDkANxo1Z997kJ7Md1wgmuypxuLHtu': 1,\n '136jnWZFuNxRzrDrBWZdaFcwaS8BbpTpLs': 1,\n '1GCEEAqXFQeEnF58atU5oWSwNTerJfE7C7': 1,\n '17LmK2nHpKcuL9y35ikBSDG4KuE8wm6uMm': 1,\n '1PdzQWBcGsKRjk4zGp7eAktMnEb25wi1Na': 1,\n '18ApMFnPApb3vTLnPHkBpPrrSfb2WKCqCZ': 1,\n '1EWJUFk1AkxAcrgtAe5ch5Su7Eaa3k9yEh': 1,\n '156q2fZNxpi3kijNAroZh4JS9943ZnmUgV': 1,\n '157qj6ikqZ7jeWjgaFxiSYKsEmW6HmrqPW': 1,\n '3K4iqUAfwbNWfjfSbwga2SLYV8fQNpLAn7': 1,\n '1MpnyETYP25iXDcGjSRjppwDEZ5tCy6zok': 1,\n '19QFJtDZU1K3fzSoQoWMpGBtzntn5dmoMR': 1,\n '1McRfgEb7cPU1dmVth4axBgukehagUzZBJ': 1,\n '18AS5qhKmi9vzZv572PUDrH1ezNzCxRZzU': 1,\n '1yV5KsC2D9LENGhDAMz4e2nYEmNAFM85U': 1,\n '1EkgPJx3xd8bGkGUtXyXhZMJCanwqgt3at': 1,\n '1AMwhwKKcg3oSQNbnruAUH1NeQUaAEPUdo': 1,\n '17ZSZnUpNg5orSJbWvh2HU6DAgHByqGDXH': 1,\n '1JfFZpAnCANXfh9CfnrCzi1uZwhzmYQDAJ': 1,\n '1PsUbfqXAbSN1PGMVA5VS6uBpvQwcuiiEH': 1,\n '1Q3CSJrRUhaauYmFSGVN8oGsbs6bLNPoSz': 1,\n '1JqMEYfA8kEe9KKJDDWQjxxFfZcB9cAnuR': 1,\n '32Nv7nqAiBYX1PQvJ4CtQzq3ggCJLNQHE3': 1,\n '1EGJ3bAKktK9gbmXAumn8wtSyv6574dvKE': 1,\n '1MVJg9aNhKm8JYun9U3wQejezYvcKAvw67': 1,\n '1PcVcmyxzQ1dV1JQg6nMciLvPLZsGeJzRf': 1,\n '1HEGpXd2hCyCkSCS49kkYiZ4nDJb33Udh2': 1,\n '16pPJA26MXhXPnNLaACzoccQBBBhrd1zEQ': 1,\n '1JLh21zYDafoqhjkerpBCA9ypFdFz6znRt': 1,\n '1Hm8CgLUC4HrsggUuydcRYFGu829DpzCfr': 1,\n '14uKxYNoTzjM2KziodsqdwLxKU3suRumzR': 1,\n '184VgkjyGYUJAujApBdo3VXrUe8PLDVXEg': 1,\n '13CeESUhvfSGPkJYckt5Stf6rdt3SaFiQT': 1,\n '1137xJFnzuMzjAitriTHqukNwT6EHjtFGj': 1,\n '31zPzxtPkUKHaCR5vRByF5F1WLFC7V7vBS': 1,\n '15MBFQ1FWV7nSBCpn3vxs92QFPPs1E3rTw': 1,\n '1KmGDtUHvLQ8c1WDvVYhfTzz35sR29H4PN': 1,\n '1QC1eVMBVZvuqXXL4uNMjh27mEAAtPFeyD': 1,\n '1LcVDj2sMMUezEca1yXaRQhk3myc1EwwGX': 1,\n '19hc1qhPaXm4yfn4bpEKYuHwUtgc2Jxksi': 1,\n '3N5zfbwVqMUagA8mYG4deP3E6p7pn1KtnK': 1,\n '1Q8Kh358pzefvzgkJJjquM9oEdGvuX8XoF': 1,\n '17rjPfCDM2hCBZQzdpRZ4YfM4vF21Yhp1u': 1,\n '1DyxgJtWaJFFxrUizjkQY6DFo5PJPfPzM3': 1,\n '1MnK6bz86bdR5RUSr1HbA2DKD7Muhgnpp3': 1,\n '14uEnMFah1RXKym6AZ5dDoVGEFUtZEYQzs': 1,\n '18dLrc8xL8P34MTEJwCt1uuAn6sY17zEUC': 1,\n '1GQt4kiqdFqxPoxFLzPBT6eCBthjYzGLk1': 1,\n '3E4vq617Zg9jj3gU6gbp4vQeimX9G3FsDs': 1,\n '1JKrLBjByRmBjujencURVvwwHKdt2nU2qC': 1,\n '1wqZERtQzBiZFga6b4BAeRWjWhupdSaw2': 1,\n '1JhEmLKzRArxeuLiJ9p3fjp6fdbsrAiDHH': 1,\n '1Ff374BHoMa7nuugroLcEs3v6NBzwFApeK': 1,\n '1N4PUMLvYqU7VhZF9JGmeZ2vnoFPe5FqsP': 1,\n '1B94gAXf1TqYLUZkpqcaLdyWm8zoh4R8Db': 1,\n '19mo2mPrQ8jJTqg6QuG7d2RdNVEDXugC9U': 1,\n ...}"
     },
     "execution_count": 111,
     "metadata": {},
     "output_type": "execute_result"
    }
   ],
   "source": [
    "dict_address_cnts"
   ],
   "metadata": {
    "collapsed": false
   }
  },
  {
   "cell_type": "code",
   "execution_count": 112,
   "outputs": [
    {
     "data": {
      "text/plain": "11967"
     },
     "execution_count": 112,
     "metadata": {},
     "output_type": "execute_result"
    }
   ],
   "source": [
    "len(X_train['address'].value_counts())"
   ],
   "metadata": {
    "collapsed": false
   }
  },
  {
   "cell_type": "code",
   "execution_count": 113,
   "id": "9234d709",
   "metadata": {
    "ExecuteTime": {
     "end_time": "2022-07-28T13:01:01.184899Z",
     "start_time": "2022-07-28T13:01:01.182068Z"
    }
   },
   "outputs": [
    {
     "data": {
      "text/plain": "0.0"
     },
     "execution_count": 113,
     "metadata": {},
     "output_type": "execute_result"
    }
   ],
   "source": [
    "n_address.min()"
   ]
  },
  {
   "cell_type": "code",
   "execution_count": 114,
   "id": "48e4f161",
   "metadata": {
    "ExecuteTime": {
     "end_time": "2022-07-28T13:01:01.312787Z",
     "start_time": "2022-07-28T13:01:01.185654Z"
    }
   },
   "outputs": [
    {
     "data": {
      "text/plain": "25.039985494785466"
     },
     "execution_count": 114,
     "metadata": {},
     "output_type": "execute_result"
    }
   ],
   "source": [
    "bc_address_n = boxcox(np.array(list(dict_address_cnts.values())))[0] # \n",
    "pd.Series(bc_address_n).skew()"
   ]
  },
  {
   "cell_type": "code",
   "execution_count": 115,
   "id": "42e281eb",
   "metadata": {
    "ExecuteTime": {
     "end_time": "2022-07-28T13:01:01.807366Z",
     "start_time": "2022-07-28T13:01:01.313898Z"
    }
   },
   "outputs": [
    {
     "data": {
      "text/plain": "Text(0.5, 1.0, 'bc num address distribution')"
     },
     "execution_count": 115,
     "metadata": {},
     "output_type": "execute_result"
    },
    {
     "data": {
      "text/plain": "<AxesSubplot:title={'center':'bc num address distribution'}, ylabel='Density'>"
     },
     "execution_count": 115,
     "metadata": {},
     "output_type": "execute_result"
    },
    {
     "data": {
      "text/plain": "Text(0.5, 0, 'addresses')"
     },
     "execution_count": 115,
     "metadata": {},
     "output_type": "execute_result"
    },
    {
     "data": {
      "text/plain": "Text(0, 0.5, 'density')"
     },
     "execution_count": 115,
     "metadata": {},
     "output_type": "execute_result"
    },
    {
     "data": {
      "text/plain": "<Figure size 432x288 with 1 Axes>",
      "image/png": "[encoded data removed]"
     },
     "metadata": {
      "needs_background": "light"
     },
     "output_type": "display_data"
    }
   ],
   "source": [
    "#plot to print distribution of n_addresses\n",
    "plt.title('bc num address distribution')\n",
    "sns.distplot(bc_address_n)\n",
    "plt.xlabel('addresses')\n",
    "plt.ylabel('density')\n",
    "plt.show()"
   ]
  },
  {
   "cell_type": "code",
   "execution_count": 116,
   "id": "a944bfdf",
   "metadata": {
    "ExecuteTime": {
     "end_time": "2022-07-28T13:02:24.081388Z",
     "start_time": "2022-07-28T13:01:01.808688Z"
    }
   },
   "outputs": [
    {
     "data": {
      "text/plain": "  0%|          | 0/11989 [00:00<?, ?it/s]",
      "application/vnd.jupyter.widget-view+json": {
       "version_major": 2,
       "version_minor": 0,
       "model_id": "3881abbe563d4b2ea6b0edfe0400fa91"
      }
     },
     "metadata": {},
     "output_type": "display_data"
    },
    {
     "data": {
      "text/plain": "  0%|          | 0/2831 [00:00<?, ?it/s]",
      "application/vnd.jupyter.widget-view+json": {
       "version_major": 2,
       "version_minor": 0,
       "model_id": "8443f5b12a5d498e8416292302bdbab1"
      }
     },
     "metadata": {},
     "output_type": "display_data"
    }
   ],
   "source": [
    "bc_n_address_train = np.array([])\n",
    "\n",
    "for index, row in tqdm(X_train.iterrows(), total=X_train.shape[0]):\n",
    "    # For each address in the training set append the boxcox'd\n",
    "    # number of times it appears in the training set\n",
    "\n",
    "    n_address_i = dict_address_cnts.get(X_train.loc[index]['address'])\n",
    "    \n",
    "    bc_n_address_train = np.append(bc_n_address_train, n_address_i)\n",
    "\n",
    "bc_n_address_test = np.array([])\n",
    "min_dict_n_address = min(list(dict_address_cnts.values()))\n",
    "\n",
    "for index, row in tqdm(X_test.iterrows(), total=X_test.shape[0]):\n",
    "    # For each address in the training set append the boxcox'd\n",
    "    # number of times it appears in the training set\n",
    "    try:\n",
    "        #we do the same as above\n",
    "        n_address_i = dict_address_cnts[X_test.loc[index]['address']]\n",
    "    except KeyError:\n",
    "        #KeyError arises when the addreses in training set has not been seen before (i.e cold start)\n",
    "        #For this, we assign the minimum value to it\n",
    "\n",
    "        n_address_i = min_dict_n_address #Addressing cold start\n",
    "    bc_n_address_test = np.append(bc_n_address_test, n_address_i)"
   ]
  },
  {
   "cell_type": "code",
   "execution_count": 117,
   "id": "0fa27921",
   "metadata": {
    "ExecuteTime": {
     "end_time": "2022-07-28T13:02:24.518845Z",
     "start_time": "2022-07-28T13:02:24.082159Z"
    }
   },
   "outputs": [
    {
     "data": {
      "text/plain": "Text(0.5, 1.0, 'boxcox address counts distribution')"
     },
     "execution_count": 117,
     "metadata": {},
     "output_type": "execute_result"
    },
    {
     "data": {
      "text/plain": "<AxesSubplot:title={'center':'boxcox address counts distribution'}, ylabel='Density'>"
     },
     "execution_count": 117,
     "metadata": {},
     "output_type": "execute_result"
    },
    {
     "data": {
      "text/plain": "Text(0.5, 0, 'addresses')"
     },
     "execution_count": 117,
     "metadata": {},
     "output_type": "execute_result"
    },
    {
     "data": {
      "text/plain": "Text(0, 0.5, 'density')"
     },
     "execution_count": 117,
     "metadata": {},
     "output_type": "execute_result"
    },
    {
     "data": {
      "text/plain": "<Figure size 432x288 with 1 Axes>",
      "image/png": "[encoded data removed]"
     },
     "metadata": {
      "needs_background": "light"
     },
     "output_type": "display_data"
    }
   ],
   "source": [
    "plt.title('boxcox address counts distribution')\n",
    "sns.distplot(bc_n_address_train)\n",
    "plt.xlabel('addresses')\n",
    "plt.ylabel('density')\n",
    "plt.show()"
   ]
  },
  {
   "cell_type": "code",
   "execution_count": 118,
   "id": "d153ffd1",
   "metadata": {
    "ExecuteTime": {
     "end_time": "2022-07-28T13:02:24.993329Z",
     "start_time": "2022-07-28T13:02:24.519782Z"
    }
   },
   "outputs": [
    {
     "data": {
      "text/plain": "Text(0.5, 1.0, 'log boxcox address counts distribution)')"
     },
     "execution_count": 118,
     "metadata": {},
     "output_type": "execute_result"
    },
    {
     "data": {
      "text/plain": "<AxesSubplot:title={'center':'log boxcox address counts distribution)'}, ylabel='Density'>"
     },
     "execution_count": 118,
     "metadata": {},
     "output_type": "execute_result"
    },
    {
     "data": {
      "text/plain": "Text(0.5, 0, 'addresses')"
     },
     "execution_count": 118,
     "metadata": {},
     "output_type": "execute_result"
    },
    {
     "data": {
      "text/plain": "Text(0, 0.5, 'density')"
     },
     "execution_count": 118,
     "metadata": {},
     "output_type": "execute_result"
    },
    {
     "data": {
      "text/plain": "<Figure size 432x288 with 1 Axes>",
      "image/png": "[encoded data removed]"
     },
     "metadata": {
      "needs_background": "light"
     },
     "output_type": "display_data"
    }
   ],
   "source": [
    "plt.title('log boxcox address counts distribution)')\n",
    "sns.distplot(np.log(bc_n_address_train)) \n",
    "plt.xlabel('addresses')\n",
    "plt.ylabel('density')\n",
    "plt.show()"
   ]
  },
  {
   "cell_type": "code",
   "execution_count": 119,
   "id": "fdbcd250",
   "metadata": {
    "ExecuteTime": {
     "end_time": "2022-07-28T13:02:24.998474Z",
     "start_time": "2022-07-28T13:02:24.994289Z"
    }
   },
   "outputs": [],
   "source": [
    "logbc_n_address_train = np.log(bc_n_address_train)\n",
    "logbc_n_address_test = np.log(bc_n_address_test)"
   ]
  },
  {
   "cell_type": "code",
   "execution_count": 120,
   "id": "8d7cd7d6",
   "metadata": {
    "ExecuteTime": {
     "end_time": "2022-07-28T13:02:25.012742Z",
     "start_time": "2022-07-28T13:02:24.999423Z"
    }
   },
   "outputs": [],
   "source": [
    "train_features_d['logbc_n_address'] = Feature( pd.DataFrame(logbc_n_address_train,\n",
    "                    columns=['logbc_n_address']),'logbc_n_address' )\n",
    "test_features_d['logbc_n_address']  = Feature( pd.DataFrame(logbc_n_address_test,\n",
    "                    columns=['logbc_n_address']),'logbc_n_address' )"
   ]
  },
  {
   "cell_type": "code",
   "execution_count": 121,
   "id": "026f812d",
   "metadata": {
    "ExecuteTime": {
     "end_time": "2022-07-28T13:02:25.016364Z",
     "start_time": "2022-07-28T13:02:25.013631Z"
    }
   },
   "outputs": [
    {
     "data": {
      "text/plain": "21.54625988189369"
     },
     "execution_count": 121,
     "metadata": {},
     "output_type": "execute_result"
    }
   ],
   "source": [
    "train_features_d['logbc_n_address'].skew"
   ]
  },
  {
   "cell_type": "code",
   "execution_count": 122,
   "id": "1dcefc63",
   "metadata": {
    "ExecuteTime": {
     "end_time": "2022-07-28T13:02:25.490966Z",
     "start_time": "2022-07-28T13:02:25.017711Z"
    }
   },
   "outputs": [
    {
     "data": {
      "text/plain": "<Figure size 432x288 with 1 Axes>",
      "image/png": "[encoded data removed]"
     },
     "metadata": {
      "needs_background": "light"
     },
     "output_type": "display_data"
    }
   ],
   "source": [
    "train_features_d['logbc_n_address'].plot_pdf()"
   ]
  },
  {
   "cell_type": "markdown",
   "id": "30270eae",
   "metadata": {},
   "source": [
    "#### 2.1.5 neighbors [bc_neighbors]"
   ]
  },
  {
   "cell_type": "code",
   "execution_count": 123,
   "outputs": [
    {
     "data": {
      "text/plain": "count    11989.000000\nmean         1.918509\nstd          3.062187\nmin          1.000000\n25%          1.000000\n50%          2.000000\n75%          2.000000\nmax        243.000000\nName: neighbors, dtype: float64"
     },
     "execution_count": 123,
     "metadata": {},
     "output_type": "execute_result"
    }
   ],
   "source": [
    "train_features['neighbors'].series.describe()"
   ],
   "metadata": {
    "collapsed": false
   }
  },
  {
   "cell_type": "code",
   "execution_count": 124,
   "id": "4b422ef9",
   "metadata": {
    "ExecuteTime": {
     "end_time": "2022-07-28T13:02:25.981299Z",
     "start_time": "2022-07-28T13:02:25.501831Z"
    }
   },
   "outputs": [
    {
     "data": {
      "text/plain": "<Figure size 432x288 with 1 Axes>",
      "image/png": "[encoded data removed]"
     },
     "metadata": {
      "needs_background": "light"
     },
     "output_type": "display_data"
    }
   ],
   "source": [
    "train_features['neighbors'].plot_pdf()"
   ]
  },
  {
   "cell_type": "code",
   "execution_count": 125,
   "id": "ebfcb605",
   "metadata": {
    "ExecuteTime": {
     "end_time": "2022-07-28T13:02:25.984393Z",
     "start_time": "2022-07-28T13:02:25.982231Z"
    }
   },
   "outputs": [
    {
     "data": {
      "text/plain": "49.24906810502457"
     },
     "execution_count": 125,
     "metadata": {},
     "output_type": "execute_result"
    }
   ],
   "source": [
    "train_features['neighbors'].skew"
   ]
  },
  {
   "cell_type": "code",
   "execution_count": 126,
   "id": "55be241d",
   "metadata": {
    "ExecuteTime": {
     "end_time": "2022-07-28T13:02:26.249248Z",
     "start_time": "2022-07-28T13:02:25.985202Z"
    }
   },
   "outputs": [],
   "source": [
    "# apply boxcox\n",
    "bc_neighbors_train = train_features['neighbors'].bc()\n",
    "bc_neighbors_test = test_features['neighbors'].bc()"
   ]
  },
  {
   "cell_type": "code",
   "execution_count": 127,
   "id": "7f653d32",
   "metadata": {
    "ExecuteTime": {
     "end_time": "2022-07-28T13:02:26.262020Z",
     "start_time": "2022-07-28T13:02:26.250218Z"
    }
   },
   "outputs": [],
   "source": [
    "# generate new feature\n",
    "train_features_d['bc_neighbors'] = Feature(pd.DataFrame(bc_neighbors_train,\n",
    "                    columns=['bc_neighbors']),'bc_neighbors')\n",
    "test_features_d['bc_neighbors'] = Feature( pd.DataFrame(bc_neighbors_test,\n",
    "                    columns=['bc_neighbors']),'bc_neighbors')"
   ]
  },
  {
   "cell_type": "code",
   "execution_count": 128,
   "id": "a3ee2c2c",
   "metadata": {
    "ExecuteTime": {
     "end_time": "2022-07-28T13:02:26.265236Z",
     "start_time": "2022-07-28T13:02:26.263003Z"
    }
   },
   "outputs": [
    {
     "data": {
      "text/plain": "0.4609500245589185"
     },
     "execution_count": 128,
     "metadata": {},
     "output_type": "execute_result"
    }
   ],
   "source": [
    "train_features_d['bc_neighbors'].mean# skew is reduced"
   ]
  },
  {
   "cell_type": "code",
   "execution_count": 129,
   "id": "d7231ccd",
   "metadata": {
    "ExecuteTime": {
     "end_time": "2022-07-28T13:02:26.800031Z",
     "start_time": "2022-07-28T13:02:26.265923Z"
    }
   },
   "outputs": [
    {
     "data": {
      "text/plain": "<Figure size 432x288 with 1 Axes>",
      "image/png": "[encoded data removed]"
     },
     "metadata": {
      "needs_background": "light"
     },
     "output_type": "display_data"
    }
   ],
   "source": [
    "train_features_d['bc_neighbors'].plot_pdf()"
   ]
  },
  {
   "cell_type": "code",
   "execution_count": 130,
   "outputs": [
    {
     "data": {
      "text/plain": "                      count       mean       std   min   25%   50%   75%   max\nlabel                                                                         \nAPT                     1.0   2.000000       NaN   2.0   2.0   2.0   2.0   2.0\nCerber               1083.0   2.021237  0.445258   1.0   2.0   2.0   2.0  10.0\nCryptConsole            2.0   2.000000  0.000000   2.0   2.0   2.0   2.0   2.0\nCryptXXX              293.0   1.982935  0.638155   1.0   2.0   2.0   2.0   6.0\nCryptoLocker         1144.0   2.868881  3.522746   1.0   1.0   2.0   3.0  63.0\nCryptoTorLocker2015     5.0   8.400000  5.594640   2.0   4.0   9.0  11.0  16.0\nCryptoWall           1476.0   2.007453  2.405772   1.0   1.0   1.0   2.0  37.0\nDMALocker              26.0   1.692308  1.257592   1.0   1.0   1.0   2.0   6.0\nDMALockerv3            51.0   1.176471  0.517914   1.0   1.0   1.0   1.0   4.0\nEDA2                    1.0   2.000000       NaN   2.0   2.0   2.0   2.0   2.0\nFlyper                  1.0   2.000000       NaN   2.0   2.0   2.0   2.0   2.0\nGlobe                   7.0   2.142857  0.377964   2.0   2.0   2.0   2.0   3.0\nGlobeImposter           5.0   3.600000  3.435113   1.0   1.0   2.0   5.0   9.0\nJigSaw                  1.0   2.000000       NaN   2.0   2.0   2.0   2.0   2.0\nLocky                 785.0   1.253503  0.479893   1.0   1.0   1.0   1.0   6.0\nNoobCrypt              45.0   1.133333  0.343776   1.0   1.0   1.0   1.0   2.0\nRazy                    1.0  27.000000       NaN  27.0  27.0  27.0  27.0  27.0\nSam                     1.0   3.000000       NaN   3.0   3.0   3.0   3.0   3.0\nSamSam                 11.0   1.636364  1.026911   1.0   1.0   1.0   2.0   4.0\nVenusLocker             2.0   2.000000  0.000000   2.0   2.0   2.0   2.0   2.0\nWannaCry                2.0   1.000000  0.000000   1.0   1.0   1.0   1.0   1.0\nXLocker                 1.0   1.000000       NaN   1.0   1.0   1.0   1.0   1.0",
      "text/html": "<div>\n<style scoped>\n    .dataframe tbody tr th:only-of-type {\n        vertical-align: middle;\n    }\n\n    .dataframe tbody tr th {\n        vertical-align: top;\n    }\n\n    .dataframe thead th {\n        text-align: right;\n    }\n</style>\n<table border=\"1\" class=\"dataframe\">\n  <thead>\n    <tr style=\"text-align: right;\">\n      <th></th>\n      <th>count</th>\n      <th>mean</th>\n      <th>std</th>\n      <th>min</th>\n      <th>25%</th>\n      <th>50%</th>\n      <th>75%</th>\n      <th>max</th>\n    </tr>\n    <tr>\n      <th>label</th>\n      <th></th>\n      <th></th>\n      <th></th>\n      <th></th>\n      <th></th>\n      <th></th>\n      <th></th>\n      <th></th>\n    </tr>\n  </thead>\n  <tbody>\n    <tr>\n      <th>APT</th>\n      <td>1.0</td>\n      <td>2.000000</td>\n      <td>NaN</td>\n      <td>2.0</td>\n      <td>2.0</td>\n      <td>2.0</td>\n      <td>2.0</td>\n      <td>2.0</td>\n    </tr>\n    <tr>\n      <th>Cerber</th>\n      <td>1083.0</td>\n      <td>2.021237</td>\n      <td>0.445258</td>\n      <td>1.0</td>\n      <td>2.0</td>\n      <td>2.0</td>\n      <td>2.0</td>\n      <td>10.0</td>\n    </tr>\n    <tr>\n      <th>CryptConsole</th>\n      <td>2.0</td>\n      <td>2.000000</td>\n      <td>0.000000</td>\n      <td>2.0</td>\n      <td>2.0</td>\n      <td>2.0</td>\n      <td>2.0</td>\n      <td>2.0</td>\n    </tr>\n    <tr>\n      <th>CryptXXX</th>\n      <td>293.0</td>\n      <td>1.982935</td>\n      <td>0.638155</td>\n      <td>1.0</td>\n      <td>2.0</td>\n      <td>2.0</td>\n      <td>2.0</td>\n      <td>6.0</td>\n    </tr>\n    <tr>\n      <th>CryptoLocker</th>\n      <td>1144.0</td>\n      <td>2.868881</td>\n      <td>3.522746</td>\n      <td>1.0</td>\n      <td>1.0</td>\n      <td>2.0</td>\n      <td>3.0</td>\n      <td>63.0</td>\n    </tr>\n    <tr>\n      <th>CryptoTorLocker2015</th>\n      <td>5.0</td>\n      <td>8.400000</td>\n      <td>5.594640</td>\n      <td>2.0</td>\n      <td>4.0</td>\n      <td>9.0</td>\n      <td>11.0</td>\n      <td>16.0</td>\n    </tr>\n    <tr>\n      <th>CryptoWall</th>\n      <td>1476.0</td>\n      <td>2.007453</td>\n      <td>2.405772</td>\n      <td>1.0</td>\n      <td>1.0</td>\n      <td>1.0</td>\n      <td>2.0</td>\n      <td>37.0</td>\n    </tr>\n    <tr>\n      <th>DMALocker</th>\n      <td>26.0</td>\n      <td>1.692308</td>\n      <td>1.257592</td>\n      <td>1.0</td>\n      <td>1.0</td>\n      <td>1.0</td>\n      <td>2.0</td>\n      <td>6.0</td>\n    </tr>\n    <tr>\n      <th>DMALockerv3</th>\n      <td>51.0</td>\n      <td>1.176471</td>\n      <td>0.517914</td>\n      <td>1.0</td>\n      <td>1.0</td>\n      <td>1.0</td>\n      <td>1.0</td>\n      <td>4.0</td>\n    </tr>\n    <tr>\n      <th>EDA2</th>\n      <td>1.0</td>\n      <td>2.000000</td>\n      <td>NaN</td>\n      <td>2.0</td>\n      <td>2.0</td>\n      <td>2.0</td>\n      <td>2.0</td>\n      <td>2.0</td>\n    </tr>\n    <tr>\n      <th>Flyper</th>\n      <td>1.0</td>\n      <td>2.000000</td>\n      <td>NaN</td>\n      <td>2.0</td>\n      <td>2.0</td>\n      <td>2.0</td>\n      <td>2.0</td>\n      <td>2.0</td>\n    </tr>\n    <tr>\n      <th>Globe</th>\n      <td>7.0</td>\n      <td>2.142857</td>\n      <td>0.377964</td>\n      <td>2.0</td>\n      <td>2.0</td>\n      <td>2.0</td>\n      <td>2.0</td>\n      <td>3.0</td>\n    </tr>\n    <tr>\n      <th>GlobeImposter</th>\n      <td>5.0</td>\n      <td>3.600000</td>\n      <td>3.435113</td>\n      <td>1.0</td>\n      <td>1.0</td>\n      <td>2.0</td>\n      <td>5.0</td>\n      <td>9.0</td>\n    </tr>\n    <tr>\n      <th>JigSaw</th>\n      <td>1.0</td>\n      <td>2.000000</td>\n      <td>NaN</td>\n      <td>2.0</td>\n      <td>2.0</td>\n      <td>2.0</td>\n      <td>2.0</td>\n      <td>2.0</td>\n    </tr>\n    <tr>\n      <th>Locky</th>\n      <td>785.0</td>\n      <td>1.253503</td>\n      <td>0.479893</td>\n      <td>1.0</td>\n      <td>1.0</td>\n      <td>1.0</td>\n      <td>1.0</td>\n      <td>6.0</td>\n    </tr>\n    <tr>\n      <th>NoobCrypt</th>\n      <td>45.0</td>\n      <td>1.133333</td>\n      <td>0.343776</td>\n      <td>1.0</td>\n      <td>1.0</td>\n      <td>1.0</td>\n      <td>1.0</td>\n      <td>2.0</td>\n    </tr>\n    <tr>\n      <th>Razy</th>\n      <td>1.0</td>\n      <td>27.000000</td>\n      <td>NaN</td>\n      <td>27.0</td>\n      <td>27.0</td>\n      <td>27.0</td>\n      <td>27.0</td>\n      <td>27.0</td>\n    </tr>\n    <tr>\n      <th>Sam</th>\n      <td>1.0</td>\n      <td>3.000000</td>\n      <td>NaN</td>\n      <td>3.0</td>\n      <td>3.0</td>\n      <td>3.0</td>\n      <td>3.0</td>\n      <td>3.0</td>\n    </tr>\n    <tr>\n      <th>SamSam</th>\n      <td>11.0</td>\n      <td>1.636364</td>\n      <td>1.026911</td>\n      <td>1.0</td>\n      <td>1.0</td>\n      <td>1.0</td>\n      <td>2.0</td>\n      <td>4.0</td>\n    </tr>\n    <tr>\n      <th>VenusLocker</th>\n      <td>2.0</td>\n      <td>2.000000</td>\n      <td>0.000000</td>\n      <td>2.0</td>\n      <td>2.0</td>\n      <td>2.0</td>\n      <td>2.0</td>\n      <td>2.0</td>\n    </tr>\n    <tr>\n      <th>WannaCry</th>\n      <td>2.0</td>\n      <td>1.000000</td>\n      <td>0.000000</td>\n      <td>1.0</td>\n      <td>1.0</td>\n      <td>1.0</td>\n      <td>1.0</td>\n      <td>1.0</td>\n    </tr>\n    <tr>\n      <th>XLocker</th>\n      <td>1.0</td>\n      <td>1.000000</td>\n      <td>NaN</td>\n      <td>1.0</td>\n      <td>1.0</td>\n      <td>1.0</td>\n      <td>1.0</td>\n      <td>1.0</td>\n    </tr>\n  </tbody>\n</table>\n</div>"
     },
     "execution_count": 130,
     "metadata": {},
     "output_type": "execute_result"
    }
   ],
   "source": [
    "\n",
    "dft[dft['label'] != 'white'].groupby('label')['neighbors'].describe()"
   ],
   "metadata": {
    "collapsed": false
   }
  },
  {
   "cell_type": "code",
   "execution_count": 131,
   "outputs": [
    {
     "data": {
      "text/plain": "          count      mean        std  min  25%  50%  75%      max\nlabel                                                            \nwhite  345060.0  2.229673  28.972954  1.0  1.0  2.0  2.0  12920.0",
      "text/html": "<div>\n<style scoped>\n    .dataframe tbody tr th:only-of-type {\n        vertical-align: middle;\n    }\n\n    .dataframe tbody tr th {\n        vertical-align: top;\n    }\n\n    .dataframe thead th {\n        text-align: right;\n    }\n</style>\n<table border=\"1\" class=\"dataframe\">\n  <thead>\n    <tr style=\"text-align: right;\">\n      <th></th>\n      <th>count</th>\n      <th>mean</th>\n      <th>std</th>\n      <th>min</th>\n      <th>25%</th>\n      <th>50%</th>\n      <th>75%</th>\n      <th>max</th>\n    </tr>\n    <tr>\n      <th>label</th>\n      <th></th>\n      <th></th>\n      <th></th>\n      <th></th>\n      <th></th>\n      <th></th>\n      <th></th>\n      <th></th>\n    </tr>\n  </thead>\n  <tbody>\n    <tr>\n      <th>white</th>\n      <td>345060.0</td>\n      <td>2.229673</td>\n      <td>28.972954</td>\n      <td>1.0</td>\n      <td>1.0</td>\n      <td>2.0</td>\n      <td>2.0</td>\n      <td>12920.0</td>\n    </tr>\n  </tbody>\n</table>\n</div>"
     },
     "execution_count": 131,
     "metadata": {},
     "output_type": "execute_result"
    }
   ],
   "source": [
    "\n",
    "dft[dft['label'] == 'white'].groupby('label')['neighbors'].describe()"
   ],
   "metadata": {
    "collapsed": false
   }
  },
  {
   "cell_type": "markdown",
   "id": "461fe0f7",
   "metadata": {},
   "source": [
    "#### 2.1.6 looped  [sig_looped]"
   ]
  },
  {
   "cell_type": "code",
   "execution_count": 132,
   "id": "9b7e14c5",
   "metadata": {
    "ExecuteTime": {
     "end_time": "2022-07-28T13:02:27.290683Z",
     "start_time": "2022-07-28T13:02:26.821471Z"
    }
   },
   "outputs": [
    {
     "data": {
      "text/plain": "<Figure size 432x288 with 1 Axes>",
      "image/png": "[encoded data removed]"
     },
     "metadata": {
      "needs_background": "light"
     },
     "output_type": "display_data"
    }
   ],
   "source": [
    "train_features['looped'].plot_pdf()"
   ]
  },
  {
   "cell_type": "code",
   "execution_count": 133,
   "id": "d54faa21",
   "metadata": {
    "ExecuteTime": {
     "end_time": "2022-07-28T13:02:27.293813Z",
     "start_time": "2022-07-28T13:02:27.291778Z"
    }
   },
   "outputs": [
    {
     "data": {
      "text/plain": "7.503064401150035"
     },
     "execution_count": 133,
     "metadata": {},
     "output_type": "execute_result"
    }
   ],
   "source": [
    "train_features['looped'].skew"
   ]
  },
  {
   "cell_type": "code",
   "execution_count": 134,
   "id": "f93d0856",
   "metadata": {
    "ExecuteTime": {
     "end_time": "2022-07-28T13:02:27.300341Z",
     "start_time": "2022-07-28T13:02:27.294534Z"
    }
   },
   "outputs": [],
   "source": [
    "# apply sigmoid\n",
    "sig_looped_train = train_features['looped'].sigmoid()\n",
    "sig_looped_test  = test_features['looped'].sigmoid()"
   ]
  },
  {
   "cell_type": "code",
   "execution_count": 135,
   "id": "a62118f0",
   "metadata": {
    "ExecuteTime": {
     "end_time": "2022-07-28T13:02:27.313217Z",
     "start_time": "2022-07-28T13:02:27.301486Z"
    }
   },
   "outputs": [],
   "source": [
    "# generate new feature\n",
    "train_features_d['sig_looped'] = Feature(pd.DataFrame(sig_looped_train,\n",
    "                    columns=['sig_looped']),'sig_looped' )\n",
    "test_features_d['sig_looped'] = Feature(pd.DataFrame(sig_looped_test,\n",
    "                    columns=['sig_looped']),'sig_looped' )"
   ]
  },
  {
   "cell_type": "code",
   "execution_count": 136,
   "id": "57230316",
   "metadata": {
    "ExecuteTime": {
     "end_time": "2022-07-28T13:02:27.316674Z",
     "start_time": "2022-07-28T13:02:27.314113Z"
    }
   },
   "outputs": [
    {
     "data": {
      "text/plain": "3.90849074891445"
     },
     "execution_count": 136,
     "metadata": {},
     "output_type": "execute_result"
    }
   ],
   "source": [
    "train_features_d['sig_looped'].skew"
   ]
  },
  {
   "cell_type": "code",
   "execution_count": 137,
   "id": "0c11b5c6",
   "metadata": {
    "ExecuteTime": {
     "end_time": "2022-07-28T13:02:27.874987Z",
     "start_time": "2022-07-28T13:02:27.317580Z"
    }
   },
   "outputs": [
    {
     "data": {
      "text/plain": "<Figure size 432x288 with 1 Axes>",
      "image/png": "[encoded data removed]"
     },
     "metadata": {
      "needs_background": "light"
     },
     "output_type": "display_data"
    }
   ],
   "source": [
    "train_features_d['sig_looped'].plot_pdf()"
   ]
  },
  {
   "cell_type": "markdown",
   "id": "0ef7cbbe",
   "metadata": {},
   "source": [
    "#### 2.1.7 count [log_count]"
   ]
  },
  {
   "cell_type": "code",
   "execution_count": 138,
   "id": "4c84d7d4",
   "metadata": {
    "ExecuteTime": {
     "end_time": "2022-07-28T13:02:27.883172Z",
     "start_time": "2022-07-28T13:02:27.875893Z"
    }
   },
   "outputs": [],
   "source": [
    "#X_train_cnt_ft = feature(X_train,'count')\n",
    "#X_test_cnt_ft  = feature(X_test,'count')"
   ]
  },
  {
   "cell_type": "code",
   "execution_count": 139,
   "id": "64c362bd",
   "metadata": {
    "ExecuteTime": {
     "end_time": "2022-07-28T13:02:28.383577Z",
     "start_time": "2022-07-28T13:02:27.884050Z"
    }
   },
   "outputs": [
    {
     "data": {
      "text/plain": "<Figure size 432x288 with 1 Axes>",
      "image/png": "[encoded data removed]"
     },
     "metadata": {
      "needs_background": "light"
     },
     "output_type": "display_data"
    }
   ],
   "source": [
    "train_features['count'].plot_pdf()"
   ]
  },
  {
   "cell_type": "code",
   "execution_count": 140,
   "id": "df87e68b",
   "metadata": {
    "ExecuteTime": {
     "end_time": "2022-07-28T13:02:28.386557Z",
     "start_time": "2022-07-28T13:02:28.384407Z"
    }
   },
   "outputs": [
    {
     "data": {
      "text/plain": "2.2853056306430606"
     },
     "execution_count": 140,
     "metadata": {},
     "output_type": "execute_result"
    }
   ],
   "source": [
    "train_features['count'].skew"
   ]
  },
  {
   "cell_type": "code",
   "execution_count": 141,
   "outputs": [
    {
     "data": {
      "text/plain": "1"
     },
     "execution_count": 141,
     "metadata": {},
     "output_type": "execute_result"
    }
   ],
   "source": [
    "min(train_features['count'].vec)"
   ],
   "metadata": {
    "collapsed": false
   }
  },
  {
   "cell_type": "code",
   "execution_count": 142,
   "id": "587c4c8e",
   "metadata": {
    "ExecuteTime": {
     "end_time": "2022-07-28T13:02:28.393759Z",
     "start_time": "2022-07-28T13:02:28.387332Z"
    },
    "scrolled": false
   },
   "outputs": [],
   "source": [
    "log_count_train = np.log(train_features['count'].vec)\n",
    "log_count_test  = np.log(test_features['count'].vec)"
   ]
  },
  {
   "cell_type": "code",
   "execution_count": 143,
   "id": "1eb071e1",
   "metadata": {
    "ExecuteTime": {
     "end_time": "2022-07-28T13:02:28.406220Z",
     "start_time": "2022-07-28T13:02:28.394722Z"
    }
   },
   "outputs": [],
   "source": [
    "# generate new feature\n",
    "train_features_d['log_count'] = Feature(pd.DataFrame(log_count_train,\n",
    "                    columns=['log_count']),'log_count')\n",
    "test_features_d['log_count'] = Feature(pd.DataFrame(log_count_test,\n",
    "                    columns=['log_count']),'log_count')"
   ]
  },
  {
   "cell_type": "code",
   "execution_count": 144,
   "id": "751ead53",
   "metadata": {
    "ExecuteTime": {
     "end_time": "2022-07-28T13:02:28.979306Z",
     "start_time": "2022-07-28T13:02:28.407129Z"
    }
   },
   "outputs": [
    {
     "data": {
      "text/plain": "<Figure size 432x288 with 1 Axes>",
      "image/png": "[encoded data removed]"
     },
     "metadata": {
      "needs_background": "light"
     },
     "output_type": "display_data"
    }
   ],
   "source": [
    "train_features_d['log_count'].plot_pdf()"
   ]
  },
  {
   "cell_type": "code",
   "execution_count": 145,
   "id": "a15a4f60",
   "metadata": {
    "ExecuteTime": {
     "end_time": "2022-07-28T13:02:28.982466Z",
     "start_time": "2022-07-28T13:02:28.980269Z"
    }
   },
   "outputs": [
    {
     "data": {
      "text/plain": "1.3732798587500257"
     },
     "execution_count": 145,
     "metadata": {},
     "output_type": "execute_result"
    }
   ],
   "source": [
    "train_features_d['log_count'].skew"
   ]
  },
  {
   "cell_type": "markdown",
   "id": "149cb329",
   "metadata": {},
   "source": [
    "# 3.0 Standardizing and Encoding"
   ]
  },
  {
   "cell_type": "code",
   "execution_count": 146,
   "outputs": [
    {
     "data": {
      "text/plain": "['year',\n 'bc_income',\n 'day',\n 'day_of_week',\n 'bc_length',\n 'yeo_weight',\n 'address',\n 'logbc_n_address',\n 'bc_neighbors',\n 'sig_looped',\n 'log_count']"
     },
     "execution_count": 146,
     "metadata": {},
     "output_type": "execute_result"
    }
   ],
   "source": [
    "list(train_features_d.keys())"
   ],
   "metadata": {
    "collapsed": false
   }
  },
  {
   "cell_type": "code",
   "execution_count": 147,
   "id": "e3aceff8",
   "metadata": {
    "ExecuteTime": {
     "end_time": "2022-07-28T13:02:28.985254Z",
     "start_time": "2022-07-28T13:02:28.983284Z"
    }
   },
   "outputs": [],
   "source": [
    "# original columns to get scaled for distance based classifiers\n",
    "cols_orig = [ \n",
    "    'year',\n",
    "    'day',\n",
    "    'length',\n",
    "    'weight',\n",
    "    'count',\n",
    "    'looped',\n",
    "    'neighbors',\n",
    "    'income']\n",
    "# new columns to get scaled for distance based classifiers\n",
    "cols_new = [\n",
    "    'address',\n",
    "    'bc_income',\n",
    "    'bc_length',\n",
    "    'yeo_weight',\n",
    "    'logbc_n_address',\n",
    "    'bc_neighbors',\n",
    "    'sig_looped',\n",
    "    'log_count',\n",
    "    'year',\n",
    "    'day',\n",
    "    'day_of_week'\n",
    "]\n",
    "\n",
    "cols = cols_orig + cols_new\n",
    "num_to_enc = 1"
   ]
  },
  {
   "cell_type": "code",
   "execution_count": 148,
   "outputs": [],
   "source": [
    "X_train_d = pd.DataFrame()\n",
    "X_test_d = pd.DataFrame()"
   ],
   "metadata": {
    "collapsed": false
   }
  },
  {
   "cell_type": "code",
   "execution_count": 149,
   "outputs": [
    {
     "data": {
      "text/plain": "{'year': <__main__.Feature at 0x2a1bfbd60>,\n 'bc_income': <__main__.Feature at 0x2a48227f0>,\n 'day': <__main__.Feature at 0x2a48bb220>,\n 'day_of_week': <__main__.Feature at 0x2a590c040>,\n 'bc_length': <__main__.Feature at 0x2a5930be0>,\n 'yeo_weight': <__main__.Feature at 0x2a48d08b0>,\n 'address': <__main__.Feature at 0x2a59ec550>,\n 'logbc_n_address': <__main__.Feature at 0x2a1c02f40>,\n 'bc_neighbors': <__main__.Feature at 0x1351745b0>,\n 'sig_looped': <__main__.Feature at 0x2a596feb0>,\n 'log_count': <__main__.Feature at 0x1379f9130>}"
     },
     "execution_count": 149,
     "metadata": {},
     "output_type": "execute_result"
    }
   ],
   "source": [
    "train_features_d"
   ],
   "metadata": {
    "collapsed": false
   }
  },
  {
   "cell_type": "code",
   "execution_count": 150,
   "outputs": [],
   "source": [
    "X_train_d['address']=train_features['address'].vec"
   ],
   "metadata": {
    "collapsed": false
   }
  },
  {
   "cell_type": "code",
   "execution_count": 151,
   "outputs": [],
   "source": [
    "for col in cols_new:\n",
    "    X_train_d[col] = train_features_d[col].vec\n",
    "    X_test_d[col] = test_features_d[col].vec\n"
   ],
   "metadata": {
    "collapsed": false
   }
  },
  {
   "cell_type": "code",
   "execution_count": 152,
   "outputs": [
    {
     "data": {
      "text/plain": "2339882    0\n2337946    0\n2350164    0\n2348030    0\n2344793    0\n          ..\n2357211    0\n2350497    0\n2359204    0\n2341957    0\n2358834    0\nName: label, Length: 2831, dtype: int64"
     },
     "execution_count": 152,
     "metadata": {},
     "output_type": "execute_result"
    }
   ],
   "source": [
    "y_test"
   ],
   "metadata": {
    "collapsed": false
   }
  },
  {
   "cell_type": "code",
   "execution_count": 153,
   "id": "e41fc14e",
   "metadata": {
    "ExecuteTime": {
     "end_time": "2022-07-28T13:02:28.999398Z",
     "start_time": "2022-07-28T13:02:28.997501Z"
    }
   },
   "outputs": [],
   "source": [
    "if SAVE_TEST_TRAIN == True:\n",
    "    with open('derived'+fname, 'wb') as save_file:\n",
    "        pickle.dump([X_train, y_train, X_test, y_test], save_file)"
   ]
  },
  {
   "cell_type": "markdown",
   "id": "9632cb07",
   "metadata": {},
   "source": [
    "#### 3.1.0 Scaling and encoding the data"
   ]
  },
  {
   "cell_type": "code",
   "execution_count": 154,
   "id": "e3213b34",
   "metadata": {
    "ExecuteTime": {
     "end_time": "2022-07-28T13:02:29.002849Z",
     "start_time": "2022-07-28T13:02:29.000155Z"
    }
   },
   "outputs": [],
   "source": [
    "# cols to standardize (0 mean, unit variance)\n",
    "col_names_standardize = ['bc_income',\n",
    "                         'bc_length',\n",
    "                         'yeo_weight',\n",
    "                         'logbc_n_address',\n",
    "                         'bc_neighbors',\n",
    "                         'sig_looped',\n",
    "                         'log_count']\n",
    "# cols to encode\n",
    "col_names_encode = ['day_of_week']\n",
    "col_names_pass = ['year','address', 'day']"
   ]
  },
  {
   "cell_type": "code",
   "execution_count": 155,
   "outputs": [
    {
     "data": {
      "text/plain": "                                  address  bc_income  bc_length  yeo_weight  \\\n0      1JYbXc8ULh3opSL2NimX2vQEhCFgQFQ8kS   3.162759  -0.762872    0.194822   \n1      1HocteMqu15255SDXsdT6HfBqNaKgjbih6   3.160932  -0.005318    0.022836   \n2      1FSSVqbDPwBrE4qrwqhJq3wucoiXwj7e2X   3.163071  -0.886227    0.318354   \n3      3JDir1ZMB176HTNQAvnHMp71cUHq5DhQTj   3.161949  -0.280765    0.003295   \n4      1JtNYNnGedWenXsH2aa8hF34TY5DGwsTce   3.167333  -0.061437    0.001949   \n...                                   ...        ...        ...         ...   \n11984  157ahbqyJ8k1UYDNat8ZS3Hq2hAvp3KfvY   3.167569  -0.886227    0.464282   \n11985  14zgQi8ymTDUVfFnQMnd63Bi3iQRRLcnWq   3.163264  -0.886227    0.318354   \n11986  1FoTK5rxEP3ehYAKU1p8XSBB8XL9qzzuRz   3.163231  -0.827285    0.045207   \n11987  3PZWQepCrZkQU4TrMNHC7BwzqapSQK5Yv8   3.160927  -0.762872    0.318354   \n11988  3Js9vpJQmasCHqwWLoZt6wsW29yFSvd4cw   3.161306  -0.886227    0.109552   \n\n       logbc_n_address  bc_neighbors  sig_looped  log_count  year  day  \\\n0                  0.0      0.611863         0.5   0.000000  2017   45   \n1                  0.0      0.000000         0.5   0.693147  2017   32   \n2                  0.0      0.000000         0.5   0.000000  2017   68   \n3                  0.0      0.611863         0.5   1.386294  2017   51   \n4                  0.0      0.000000         0.5   0.000000  2017   55   \n...                ...           ...         ...        ...   ...  ...   \n11984              0.0      0.000000         0.5   0.000000  2017   82   \n11985              0.0      0.611863         0.5   0.000000  2017   36   \n11986              0.0      0.611863         0.5   7.949091  2017   96   \n11987              0.0      0.611863         0.5   0.693147  2017   70   \n11988              0.0      0.611863         0.5   0.000000  2017   73   \n\n       day_of_week  \n0                1  \n1                2  \n2                3  \n3                0  \n4                4  \n...            ...  \n11984            3  \n11985            6  \n11986            3  \n11987            5  \n11988            1  \n\n[11989 rows x 11 columns]",
      "text/html": "<div>\n<style scoped>\n    .dataframe tbody tr th:only-of-type {\n        vertical-align: middle;\n    }\n\n    .dataframe tbody tr th {\n        vertical-align: top;\n    }\n\n    .dataframe thead th {\n        text-align: right;\n    }\n</style>\n<table border=\"1\" class=\"dataframe\">\n  <thead>\n    <tr style=\"text-align: right;\">\n      <th></th>\n      <th>address</th>\n      <th>bc_income</th>\n      <th>bc_length</th>\n      <th>yeo_weight</th>\n      <th>logbc_n_address</th>\n      <th>bc_neighbors</th>\n      <th>sig_looped</th>\n      <th>log_count</th>\n      <th>year</th>\n      <th>day</th>\n      <th>day_of_week</th>\n    </tr>\n  </thead>\n  <tbody>\n    <tr>\n      <th>0</th>\n      <td>1JYbXc8ULh3opSL2NimX2vQEhCFgQFQ8kS</td>\n      <td>3.162759</td>\n      <td>-0.762872</td>\n      <td>0.194822</td>\n      <td>0.0</td>\n      <td>0.611863</td>\n      <td>0.5</td>\n      <td>0.000000</td>\n      <td>2017</td>\n      <td>45</td>\n      <td>1</td>\n    </tr>\n    <tr>\n      <th>1</th>\n      <td>1HocteMqu15255SDXsdT6HfBqNaKgjbih6</td>\n      <td>3.160932</td>\n      <td>-0.005318</td>\n      <td>0.022836</td>\n      <td>0.0</td>\n      <td>0.000000</td>\n      <td>0.5</td>\n      <td>0.693147</td>\n      <td>2017</td>\n      <td>32</td>\n      <td>2</td>\n    </tr>\n    <tr>\n      <th>2</th>\n      <td>1FSSVqbDPwBrE4qrwqhJq3wucoiXwj7e2X</td>\n      <td>3.163071</td>\n      <td>-0.886227</td>\n      <td>0.318354</td>\n      <td>0.0</td>\n      <td>0.000000</td>\n      <td>0.5</td>\n      <td>0.000000</td>\n      <td>2017</td>\n      <td>68</td>\n      <td>3</td>\n    </tr>\n    <tr>\n      <th>3</th>\n      <td>3JDir1ZMB176HTNQAvnHMp71cUHq5DhQTj</td>\n      <td>3.161949</td>\n      <td>-0.280765</td>\n      <td>0.003295</td>\n      <td>0.0</td>\n      <td>0.611863</td>\n      <td>0.5</td>\n      <td>1.386294</td>\n      <td>2017</td>\n      <td>51</td>\n      <td>0</td>\n    </tr>\n    <tr>\n      <th>4</th>\n      <td>1JtNYNnGedWenXsH2aa8hF34TY5DGwsTce</td>\n      <td>3.167333</td>\n      <td>-0.061437</td>\n      <td>0.001949</td>\n      <td>0.0</td>\n      <td>0.000000</td>\n      <td>0.5</td>\n      <td>0.000000</td>\n      <td>2017</td>\n      <td>55</td>\n      <td>4</td>\n    </tr>\n    <tr>\n      <th>...</th>\n      <td>...</td>\n      <td>...</td>\n      <td>...</td>\n      <td>...</td>\n      <td>...</td>\n      <td>...</td>\n      <td>...</td>\n      <td>...</td>\n      <td>...</td>\n      <td>...</td>\n      <td>...</td>\n    </tr>\n    <tr>\n      <th>11984</th>\n      <td>157ahbqyJ8k1UYDNat8ZS3Hq2hAvp3KfvY</td>\n      <td>3.167569</td>\n      <td>-0.886227</td>\n      <td>0.464282</td>\n      <td>0.0</td>\n      <td>0.000000</td>\n      <td>0.5</td>\n      <td>0.000000</td>\n      <td>2017</td>\n      <td>82</td>\n      <td>3</td>\n    </tr>\n    <tr>\n      <th>11985</th>\n      <td>14zgQi8ymTDUVfFnQMnd63Bi3iQRRLcnWq</td>\n      <td>3.163264</td>\n      <td>-0.886227</td>\n      <td>0.318354</td>\n      <td>0.0</td>\n      <td>0.611863</td>\n      <td>0.5</td>\n      <td>0.000000</td>\n      <td>2017</td>\n      <td>36</td>\n      <td>6</td>\n    </tr>\n    <tr>\n      <th>11986</th>\n      <td>1FoTK5rxEP3ehYAKU1p8XSBB8XL9qzzuRz</td>\n      <td>3.163231</td>\n      <td>-0.827285</td>\n      <td>0.045207</td>\n      <td>0.0</td>\n      <td>0.611863</td>\n      <td>0.5</td>\n      <td>7.949091</td>\n      <td>2017</td>\n      <td>96</td>\n      <td>3</td>\n    </tr>\n    <tr>\n      <th>11987</th>\n      <td>3PZWQepCrZkQU4TrMNHC7BwzqapSQK5Yv8</td>\n      <td>3.160927</td>\n      <td>-0.762872</td>\n      <td>0.318354</td>\n      <td>0.0</td>\n      <td>0.611863</td>\n      <td>0.5</td>\n      <td>0.693147</td>\n      <td>2017</td>\n      <td>70</td>\n      <td>5</td>\n    </tr>\n    <tr>\n      <th>11988</th>\n      <td>3Js9vpJQmasCHqwWLoZt6wsW29yFSvd4cw</td>\n      <td>3.161306</td>\n      <td>-0.886227</td>\n      <td>0.109552</td>\n      <td>0.0</td>\n      <td>0.611863</td>\n      <td>0.5</td>\n      <td>0.000000</td>\n      <td>2017</td>\n      <td>73</td>\n      <td>1</td>\n    </tr>\n  </tbody>\n</table>\n<p>11989 rows × 11 columns</p>\n</div>"
     },
     "execution_count": 155,
     "metadata": {},
     "output_type": "execute_result"
    }
   ],
   "source": [
    "X_train_d"
   ],
   "metadata": {
    "collapsed": false
   }
  },
  {
   "cell_type": "code",
   "execution_count": 156,
   "outputs": [
    {
     "data": {
      "text/plain": "         n_day                             address  year  day  length  \\\n2265864   2235  1JYbXc8ULh3opSL2NimX2vQEhCFgQFQ8kS  2017   45       4   \n2253207   2222  1HocteMqu15255SDXsdT6HfBqNaKgjbih6  2017   32      20   \n2289573   2258  1FSSVqbDPwBrE4qrwqhJq3wucoiXwj7e2X  2017   68       0   \n2272067   2241  3JDir1ZMB176HTNQAvnHMp71cUHq5DhQTj  2017   51       8   \n2276668   2245  1JtNYNnGedWenXsH2aa8hF34TY5DGwsTce  2017   55      38   \n...        ...                                 ...   ...  ...     ...   \n2303207   2272  157ahbqyJ8k1UYDNat8ZS3Hq2hAvp3KfvY  2017   82       0   \n2257268   2226  14zgQi8ymTDUVfFnQMnd63Bi3iQRRLcnWq  2017   36       0   \n2316823   2286  1FoTK5rxEP3ehYAKU1p8XSBB8XL9qzzuRz  2017   96     144   \n2291070   2260  3PZWQepCrZkQU4TrMNHC7BwzqapSQK5Yv8  2017   70       4   \n2293767   2263  3Js9vpJQmasCHqwWLoZt6wsW29yFSvd4cw  2017   73       0   \n\n           weight  count  looped  neighbors       income  \n2265864  0.250000      1       0          2   85812500.0  \n2253207  0.023438      2       0          1   50437060.0  \n2289573  0.500000      1       0          1   94860000.0  \n2272067  0.003307      4       0          2   67061348.0  \n2276668  0.001953      1       0          1  593384858.0  \n...           ...    ...     ...        ...          ...  \n2303207  1.000000      1       0          1  683224789.0  \n2257268  0.500000      1       0          2  101095310.0  \n2316823  0.047629   2833       0          2  100000000.0  \n2291070  0.500000      2       0          2   50374865.0  \n2293767  0.125000      1       0          2   55850000.0  \n\n[11989 rows x 10 columns]",
      "text/html": "<div>\n<style scoped>\n    .dataframe tbody tr th:only-of-type {\n        vertical-align: middle;\n    }\n\n    .dataframe tbody tr th {\n        vertical-align: top;\n    }\n\n    .dataframe thead th {\n        text-align: right;\n    }\n</style>\n<table border=\"1\" class=\"dataframe\">\n  <thead>\n    <tr style=\"text-align: right;\">\n      <th></th>\n      <th>n_day</th>\n      <th>address</th>\n      <th>year</th>\n      <th>day</th>\n      <th>length</th>\n      <th>weight</th>\n      <th>count</th>\n      <th>looped</th>\n      <th>neighbors</th>\n      <th>income</th>\n    </tr>\n  </thead>\n  <tbody>\n    <tr>\n      <th>2265864</th>\n      <td>2235</td>\n      <td>1JYbXc8ULh3opSL2NimX2vQEhCFgQFQ8kS</td>\n      <td>2017</td>\n      <td>45</td>\n      <td>4</td>\n      <td>0.250000</td>\n      <td>1</td>\n      <td>0</td>\n      <td>2</td>\n      <td>85812500.0</td>\n    </tr>\n    <tr>\n      <th>2253207</th>\n      <td>2222</td>\n      <td>1HocteMqu15255SDXsdT6HfBqNaKgjbih6</td>\n      <td>2017</td>\n      <td>32</td>\n      <td>20</td>\n      <td>0.023438</td>\n      <td>2</td>\n      <td>0</td>\n      <td>1</td>\n      <td>50437060.0</td>\n    </tr>\n    <tr>\n      <th>2289573</th>\n      <td>2258</td>\n      <td>1FSSVqbDPwBrE4qrwqhJq3wucoiXwj7e2X</td>\n      <td>2017</td>\n      <td>68</td>\n      <td>0</td>\n      <td>0.500000</td>\n      <td>1</td>\n      <td>0</td>\n      <td>1</td>\n      <td>94860000.0</td>\n    </tr>\n    <tr>\n      <th>2272067</th>\n      <td>2241</td>\n      <td>3JDir1ZMB176HTNQAvnHMp71cUHq5DhQTj</td>\n      <td>2017</td>\n      <td>51</td>\n      <td>8</td>\n      <td>0.003307</td>\n      <td>4</td>\n      <td>0</td>\n      <td>2</td>\n      <td>67061348.0</td>\n    </tr>\n    <tr>\n      <th>2276668</th>\n      <td>2245</td>\n      <td>1JtNYNnGedWenXsH2aa8hF34TY5DGwsTce</td>\n      <td>2017</td>\n      <td>55</td>\n      <td>38</td>\n      <td>0.001953</td>\n      <td>1</td>\n      <td>0</td>\n      <td>1</td>\n      <td>593384858.0</td>\n    </tr>\n    <tr>\n      <th>...</th>\n      <td>...</td>\n      <td>...</td>\n      <td>...</td>\n      <td>...</td>\n      <td>...</td>\n      <td>...</td>\n      <td>...</td>\n      <td>...</td>\n      <td>...</td>\n      <td>...</td>\n    </tr>\n    <tr>\n      <th>2303207</th>\n      <td>2272</td>\n      <td>157ahbqyJ8k1UYDNat8ZS3Hq2hAvp3KfvY</td>\n      <td>2017</td>\n      <td>82</td>\n      <td>0</td>\n      <td>1.000000</td>\n      <td>1</td>\n      <td>0</td>\n      <td>1</td>\n      <td>683224789.0</td>\n    </tr>\n    <tr>\n      <th>2257268</th>\n      <td>2226</td>\n      <td>14zgQi8ymTDUVfFnQMnd63Bi3iQRRLcnWq</td>\n      <td>2017</td>\n      <td>36</td>\n      <td>0</td>\n      <td>0.500000</td>\n      <td>1</td>\n      <td>0</td>\n      <td>2</td>\n      <td>101095310.0</td>\n    </tr>\n    <tr>\n      <th>2316823</th>\n      <td>2286</td>\n      <td>1FoTK5rxEP3ehYAKU1p8XSBB8XL9qzzuRz</td>\n      <td>2017</td>\n      <td>96</td>\n      <td>144</td>\n      <td>0.047629</td>\n      <td>2833</td>\n      <td>0</td>\n      <td>2</td>\n      <td>100000000.0</td>\n    </tr>\n    <tr>\n      <th>2291070</th>\n      <td>2260</td>\n      <td>3PZWQepCrZkQU4TrMNHC7BwzqapSQK5Yv8</td>\n      <td>2017</td>\n      <td>70</td>\n      <td>4</td>\n      <td>0.500000</td>\n      <td>2</td>\n      <td>0</td>\n      <td>2</td>\n      <td>50374865.0</td>\n    </tr>\n    <tr>\n      <th>2293767</th>\n      <td>2263</td>\n      <td>3Js9vpJQmasCHqwWLoZt6wsW29yFSvd4cw</td>\n      <td>2017</td>\n      <td>73</td>\n      <td>0</td>\n      <td>0.125000</td>\n      <td>1</td>\n      <td>0</td>\n      <td>2</td>\n      <td>55850000.0</td>\n    </tr>\n  </tbody>\n</table>\n<p>11989 rows × 10 columns</p>\n</div>"
     },
     "execution_count": 156,
     "metadata": {},
     "output_type": "execute_result"
    }
   ],
   "source": [
    "X_train"
   ],
   "metadata": {
    "collapsed": false
   }
  },
  {
   "cell_type": "code",
   "execution_count": 157,
   "id": "d2cfaced",
   "metadata": {
    "ExecuteTime": {
     "end_time": "2022-07-28T13:02:29.169697Z",
     "start_time": "2022-07-28T13:02:29.003778Z"
    }
   },
   "outputs": [
    {
     "data": {
      "text/plain": "ColumnTransformer(remainder='passthrough',\n                  transformers=[('standardize', StandardScaler(),\n                                 ['bc_income', 'bc_length', 'yeo_weight',\n                                  'logbc_n_address', 'bc_neighbors',\n                                  'sig_looped', 'log_count']),\n                                ('encode', OneHotEncoder(dtype=<class 'int'>),\n                                 ['day_of_week'])],\n                  verbose_feature_names_out=False)",
      "text/html": "<style>#sk-container-id-1 {color: black;background-color: white;}#sk-container-id-1 pre{padding: 0;}#sk-container-id-1 div.sk-toggleable {background-color: white;}#sk-container-id-1 label.sk-toggleable__label {cursor: pointer;display: block;width: 100%;margin-bottom: 0;padding: 0.3em;box-sizing: border-box;text-align: center;}#sk-container-id-1 label.sk-toggleable__label-arrow:before {content: \"▸\";float: left;margin-right: 0.25em;color: #696969;}#sk-container-id-1 label.sk-toggleable__label-arrow:hover:before {color: black;}#sk-container-id-1 div.sk-estimator:hover label.sk-toggleable__label-arrow:before {color: black;}#sk-container-id-1 div.sk-toggleable__content {max-height: 0;max-width: 0;overflow: hidden;text-align: left;background-color: #f0f8ff;}#sk-container-id-1 div.sk-toggleable__content pre {margin: 0.2em;color: black;border-radius: 0.25em;background-color: #f0f8ff;}#sk-container-id-1 input.sk-toggleable__control:checked~div.sk-toggleable__content {max-height: 200px;max-width: 100%;overflow: auto;}#sk-container-id-1 input.sk-toggleable__control:checked~label.sk-toggleable__label-arrow:before {content: \"▾\";}#sk-container-id-1 div.sk-estimator input.sk-toggleable__control:checked~label.sk-toggleable__label {background-color: #d4ebff;}#sk-container-id-1 div.sk-label input.sk-toggleable__control:checked~label.sk-toggleable__label {background-color: #d4ebff;}#sk-container-id-1 input.sk-hidden--visually {border: 0;clip: rect(1px 1px 1px 1px);clip: rect(1px, 1px, 1px, 1px);height: 1px;margin: -1px;overflow: hidden;padding: 0;position: absolute;width: 1px;}#sk-container-id-1 div.sk-estimator {font-family: monospace;background-color: #f0f8ff;border: 1px dotted black;border-radius: 0.25em;box-sizing: border-box;margin-bottom: 0.5em;}#sk-container-id-1 div.sk-estimator:hover {background-color: #d4ebff;}#sk-container-id-1 div.sk-parallel-item::after {content: \"\";width: 100%;border-bottom: 1px solid gray;flex-grow: 1;}#sk-container-id-1 div.sk-label:hover label.sk-toggleable__label {background-color: #d4ebff;}#sk-container-id-1 div.sk-serial::before {content: \"\";position: absolute;border-left: 1px solid gray;box-sizing: border-box;top: 0;bottom: 0;left: 50%;z-index: 0;}#sk-container-id-1 div.sk-serial {display: flex;flex-direction: column;align-items: center;background-color: white;padding-right: 0.2em;padding-left: 0.2em;position: relative;}#sk-container-id-1 div.sk-item {position: relative;z-index: 1;}#sk-container-id-1 div.sk-parallel {display: flex;align-items: stretch;justify-content: center;background-color: white;position: relative;}#sk-container-id-1 div.sk-item::before, #sk-container-id-1 div.sk-parallel-item::before {content: \"\";position: absolute;border-left: 1px solid gray;box-sizing: border-box;top: 0;bottom: 0;left: 50%;z-index: -1;}#sk-container-id-1 div.sk-parallel-item {display: flex;flex-direction: column;z-index: 1;position: relative;background-color: white;}#sk-container-id-1 div.sk-parallel-item:first-child::after {align-self: flex-end;width: 50%;}#sk-container-id-1 div.sk-parallel-item:last-child::after {align-self: flex-start;width: 50%;}#sk-container-id-1 div.sk-parallel-item:only-child::after {width: 0;}#sk-container-id-1 div.sk-dashed-wrapped {border: 1px dashed gray;margin: 0 0.4em 0.5em 0.4em;box-sizing: border-box;padding-bottom: 0.4em;background-color: white;}#sk-container-id-1 div.sk-label label {font-family: monospace;font-weight: bold;display: inline-block;line-height: 1.2em;}#sk-container-id-1 div.sk-label-container {text-align: center;}#sk-container-id-1 div.sk-container {/* jupyter's `normalize.less` sets `[hidden] { display: none; }` but bootstrap.min.css set `[hidden] { display: none !important; }` so we also need the `!important` here to be able to override the default hidden behavior on the sphinx rendered scikit-learn.org. See: https://github.com/scikit-learn/scikit-learn/issues/21755 */display: inline-block !important;position: relative;}#sk-container-id-1 div.sk-text-repr-fallback {display: none;}</style><div id=\"sk-container-id-1\" class=\"sk-top-container\"><div class=\"sk-text-repr-fallback\"><pre>ColumnTransformer(remainder=&#x27;passthrough&#x27;,\n                  transformers=[(&#x27;standardize&#x27;, StandardScaler(),\n                                 [&#x27;bc_income&#x27;, &#x27;bc_length&#x27;, &#x27;yeo_weight&#x27;,\n                                  &#x27;logbc_n_address&#x27;, &#x27;bc_neighbors&#x27;,\n                                  &#x27;sig_looped&#x27;, &#x27;log_count&#x27;]),\n                                (&#x27;encode&#x27;, OneHotEncoder(dtype=&lt;class &#x27;int&#x27;&gt;),\n                                 [&#x27;day_of_week&#x27;])],\n                  verbose_feature_names_out=False)</pre><b>In a Jupyter environment, please rerun this cell to show the HTML representation or trust the notebook. <br />On GitHub, the HTML representation is unable to render, please try loading this page with nbviewer.org.</b></div><div class=\"sk-container\" hidden><div class=\"sk-item sk-dashed-wrapped\"><div class=\"sk-label-container\"><div class=\"sk-label sk-toggleable\"><input class=\"sk-toggleable__control sk-hidden--visually\" id=\"sk-estimator-id-1\" type=\"checkbox\" ><label for=\"sk-estimator-id-1\" class=\"sk-toggleable__label sk-toggleable__label-arrow\">ColumnTransformer</label><div class=\"sk-toggleable__content\"><pre>ColumnTransformer(remainder=&#x27;passthrough&#x27;,\n                  transformers=[(&#x27;standardize&#x27;, StandardScaler(),\n                                 [&#x27;bc_income&#x27;, &#x27;bc_length&#x27;, &#x27;yeo_weight&#x27;,\n                                  &#x27;logbc_n_address&#x27;, &#x27;bc_neighbors&#x27;,\n                                  &#x27;sig_looped&#x27;, &#x27;log_count&#x27;]),\n                                (&#x27;encode&#x27;, OneHotEncoder(dtype=&lt;class &#x27;int&#x27;&gt;),\n                                 [&#x27;day_of_week&#x27;])],\n                  verbose_feature_names_out=False)</pre></div></div></div><div class=\"sk-parallel\"><div class=\"sk-parallel-item\"><div class=\"sk-item\"><div class=\"sk-label-container\"><div class=\"sk-label sk-toggleable\"><input class=\"sk-toggleable__control sk-hidden--visually\" id=\"sk-estimator-id-2\" type=\"checkbox\" ><label for=\"sk-estimator-id-2\" class=\"sk-toggleable__label sk-toggleable__label-arrow\">standardize</label><div class=\"sk-toggleable__content\"><pre>[&#x27;bc_income&#x27;, &#x27;bc_length&#x27;, &#x27;yeo_weight&#x27;, &#x27;logbc_n_address&#x27;, &#x27;bc_neighbors&#x27;, &#x27;sig_looped&#x27;, &#x27;log_count&#x27;]</pre></div></div></div><div class=\"sk-serial\"><div class=\"sk-item\"><div class=\"sk-estimator sk-toggleable\"><input class=\"sk-toggleable__control sk-hidden--visually\" id=\"sk-estimator-id-3\" type=\"checkbox\" ><label for=\"sk-estimator-id-3\" class=\"sk-toggleable__label sk-toggleable__label-arrow\">StandardScaler</label><div class=\"sk-toggleable__content\"><pre>StandardScaler()</pre></div></div></div></div></div></div><div class=\"sk-parallel-item\"><div class=\"sk-item\"><div class=\"sk-label-container\"><div class=\"sk-label sk-toggleable\"><input class=\"sk-toggleable__control sk-hidden--visually\" id=\"sk-estimator-id-4\" type=\"checkbox\" ><label for=\"sk-estimator-id-4\" class=\"sk-toggleable__label sk-toggleable__label-arrow\">encode</label><div class=\"sk-toggleable__content\"><pre>[&#x27;day_of_week&#x27;]</pre></div></div></div><div class=\"sk-serial\"><div class=\"sk-item\"><div class=\"sk-estimator sk-toggleable\"><input class=\"sk-toggleable__control sk-hidden--visually\" id=\"sk-estimator-id-5\" type=\"checkbox\" ><label for=\"sk-estimator-id-5\" class=\"sk-toggleable__label sk-toggleable__label-arrow\">OneHotEncoder</label><div class=\"sk-toggleable__content\"><pre>OneHotEncoder(dtype=&lt;class &#x27;int&#x27;&gt;)</pre></div></div></div></div></div></div><div class=\"sk-parallel-item\"><div class=\"sk-item\"><div class=\"sk-label-container\"><div class=\"sk-label sk-toggleable\"><input class=\"sk-toggleable__control sk-hidden--visually\" id=\"sk-estimator-id-6\" type=\"checkbox\" ><label for=\"sk-estimator-id-6\" class=\"sk-toggleable__label sk-toggleable__label-arrow\">remainder</label><div class=\"sk-toggleable__content\"><pre>[&#x27;address&#x27;, &#x27;year&#x27;, &#x27;day&#x27;]</pre></div></div></div><div class=\"sk-serial\"><div class=\"sk-item\"><div class=\"sk-estimator sk-toggleable\"><input class=\"sk-toggleable__control sk-hidden--visually\" id=\"sk-estimator-id-7\" type=\"checkbox\" ><label for=\"sk-estimator-id-7\" class=\"sk-toggleable__label sk-toggleable__label-arrow\">passthrough</label><div class=\"sk-toggleable__content\"><pre>passthrough</pre></div></div></div></div></div></div></div></div></div></div>"
     },
     "execution_count": 157,
     "metadata": {},
     "output_type": "execute_result"
    }
   ],
   "source": [
    "# transform the data for use in distance based modeling algorithms [logistic regression]\n",
    "transformer = ColumnTransformer(\n",
    "    [('standardize', StandardScaler(), col_names_standardize),\n",
    "    ('encode', OneHotEncoder(dtype=int), col_names_encode)],\n",
    "    remainder = 'passthrough',\n",
    "     verbose_feature_names_out=False)\n",
    "\n",
    "transformer.fit(X_train_d)"
   ]
  },
  {
   "cell_type": "code",
   "execution_count": 158,
   "id": "6438ec98",
   "metadata": {
    "ExecuteTime": {
     "end_time": "2022-07-28T13:02:29.295782Z",
     "start_time": "2022-07-28T13:02:29.170548Z"
    }
   },
   "outputs": [],
   "source": [
    "# std. transformed and encoded variables (np arrays)\n",
    "X_train_e = transformer.transform(X_train_d)\n",
    "X_test_e  = transformer.transform(X_test_d)\n",
    "# std. transformed and encoded variables (df with verbose headers)\n",
    "\n",
    "X_train_e_df = pd.DataFrame(X_train_e,columns=transformer.get_feature_names_out())\n",
    "X_test_e_df = pd.DataFrame(X_test_e,columns=transformer.get_feature_names_out())"
   ]
  },
  {
   "cell_type": "code",
   "execution_count": 158,
   "outputs": [],
   "source": [],
   "metadata": {
    "collapsed": false
   }
  },
  {
   "cell_type": "code",
   "execution_count": 159,
   "id": "8239c7d0",
   "metadata": {
    "ExecuteTime": {
     "end_time": "2022-07-28T13:02:29.298463Z",
     "start_time": "2022-07-28T13:02:29.296655Z"
    }
   },
   "outputs": [],
   "source": [
    "if SAVE_TEST_TRAIN == True:\n",
    "    with open('encoded'+fname, 'wb') as save_file:\n",
    "        pickle.dump([X_train, y_train, X_test, y_test], save_file)\n"
   ]
  },
  {
   "cell_type": "code",
   "execution_count": 159,
   "outputs": [],
   "source": [],
   "metadata": {
    "collapsed": false
   }
  },
  {
   "cell_type": "code",
   "execution_count": 159,
   "outputs": [],
   "source": [],
   "metadata": {
    "collapsed": false
   }
  },
  {
   "cell_type": "markdown",
   "source": [
    "# 4.0 Resampling"
   ],
   "metadata": {
    "collapsed": false
   }
  },
  {
   "cell_type": "code",
   "execution_count": 160,
   "outputs": [
    {
     "data": {
      "text/plain": "pandas.core.series.Series"
     },
     "execution_count": 160,
     "metadata": {},
     "output_type": "execute_result"
    }
   ],
   "source": [
    "type(y_train)"
   ],
   "metadata": {
    "collapsed": false
   }
  },
  {
   "cell_type": "code",
   "execution_count": 161,
   "outputs": [
    {
     "data": {
      "text/plain": "2339882    0\n2337946    0\n2350164    0\n2348030    0\n2344793    0\n          ..\n2357211    0\n2350497    0\n2359204    0\n2341957    0\n2358834    0\nName: label, Length: 2831, dtype: int64"
     },
     "execution_count": 161,
     "metadata": {},
     "output_type": "execute_result"
    }
   ],
   "source": [
    "y_test"
   ],
   "metadata": {
    "collapsed": false
   }
  },
  {
   "cell_type": "code",
   "execution_count": 162,
   "outputs": [
    {
     "name": "stdout",
     "output_type": "stream",
     "text": [
      "Training set has 11989 rows and 10 columns.\n",
      "Testing set has 2831 rows and 10 columns.\n",
      "Training set has 234 points that belong to postitive class (ransomware) and 11755 points that belong to negative class (white).\n",
      "Percentage of positive class data-points: 1.95%\n"
     ]
    }
   ],
   "source": [
    "print('Training set has {} rows and {} columns.'.format(X_train.shape[0], X_train.shape[1]))\n",
    "print('Testing set has {} rows and {} columns.'.format(X_test.shape[0], X_test.shape[1]))\n",
    "print('Training set has {} points that belong to postitive class (ransomware) and {} points that belong to negative class (white).'.format(\n",
    "    sum(y_train),\n",
    "    len(y_train) - sum(y_train)\n",
    "))\n",
    "print('Percentage of positive class data-points: {:.2f}%'.format((sum(y_train)/(len(y_train)) * 100)))"
   ],
   "metadata": {
    "collapsed": false
   }
  },
  {
   "cell_type": "markdown",
   "source": [
    "## 4.1 Sampling"
   ],
   "metadata": {
    "collapsed": false
   }
  },
  {
   "cell_type": "code",
   "execution_count": 163,
   "outputs": [],
   "source": [
    "from imblearn.over_sampling import SMOTE\n"
   ],
   "metadata": {
    "collapsed": false
   }
  },
  {
   "cell_type": "markdown",
   "source": [
    "### 4.1.0 Downsampling"
   ],
   "metadata": {
    "collapsed": false
   }
  },
  {
   "cell_type": "code",
   "execution_count": 164,
   "outputs": [],
   "source": [
    "class Sampler:\n",
    "\n",
    "    def __init__(self,X):\n",
    "        self.X_df = pd.DataFrame(X)\n",
    "        self.positive_df = pd.DataFrame([], columns = self.X_df.columns)\n",
    "        self.negative_df = pd.DataFrame([], columns = self.X_df.columns)\n",
    "        self.combined_df = pd.DataFrame([], columns = self.X_df.columns)\n",
    "        self.X_train_sm =  pd.DataFrame([], columns = self.X_df.columns)\n",
    "        self.y_train_sm =  pd.DataFrame([], columns = ['lable'])\n",
    "        self.X_train_rus = pd.DataFrame([], columns = self.X_df.columns)\n",
    "        self.y_train_rus =  pd.DataFrame([], columns = ['lable'])\n",
    "\n",
    "\n",
    "\n",
    "    def up_samp_smote(self, X_train, y_train, ratio):\n",
    "        \"\"\"Upsamples minority class using SMOTE.\n",
    "        Ratio argument is the percentage of the upsampled minority class in relation\n",
    "        to the majority class.\n",
    "        \"\"\"\n",
    "        sm = SMOTE(random_state=RAND_STATE, sampling_strategy=ratio)\n",
    "        X_train_sm, y_train_sm = sm.fit_resample(X_train, y_train)\n",
    "        #print(len(X_train_sm), len(y_train_sm))\n",
    "        self.X_train_sm, self.y_train_sm = X_train_sm, y_train_sm\n",
    "\n",
    "\n",
    "    def down_samp_rand(self, X_train, y_train, ratio):\n",
    "        \"\"\"Downsamples majority class using random sampling.\n",
    "        Ratio argument is the ratio of minority class to the downsampled majority\n",
    "        \"\"\"\n",
    "        rus = RandomUnderSampler(sampling_strategy=ratio,random_state=RAND_STATE)\n",
    "        X_train_rus, y_train_rus = rus.fit_resample(X_train, y_train)\n",
    "        self.X_train_rus, self.y_train_rus = X_train_rus, y_train_rus\n",
    "\n",
    "\n",
    "    def down_samp(self, y_train, prob=0.015):\n",
    "        index = 0\n",
    "\n",
    "        for index_df, row in tqdm(self.X_df.iterrows(), total=self.X_df.shape[0]):\n",
    "            if y_train[index] == 0:\n",
    "                if np.random.uniform(0, 1) < prob:\n",
    "                    #picking negative class with a probability=prob\n",
    "                    self.negative_df = self.negative_df.append(row, ignore_index=True)\n",
    "                    index += 1\n",
    "                else:\n",
    "                    index += 1\n",
    "            elif y_train[index] == 1:\n",
    "            #picking all positive data-points\n",
    "                self.positive_df = self.positive_df.append(row, ignore_index=True)\n",
    "                index += 1\n",
    "        self.combined_df = self.positive_df.append(self.negative_df, ignore_index = True)"
   ],
   "metadata": {
    "collapsed": false
   }
  },
  {
   "cell_type": "markdown",
   "source": [
    "**e_ds** <n>\n",
    "- Encoded, standard scaled, and normalized data.\n",
    "- Split of X_train_e [standardized, encoded] without column headers."
   ],
   "metadata": {
    "collapsed": false
   }
  },
  {
   "cell_type": "code",
   "execution_count": 165,
   "outputs": [],
   "source": [
    "X_train_e_df.drop(columns=['address'],axis=1,inplace=True)"
   ],
   "metadata": {
    "collapsed": false
   }
  },
  {
   "cell_type": "code",
   "execution_count": 166,
   "outputs": [],
   "source": [
    "# Create a sample object\n",
    "e_ds = Sampler(X_train_e_df)"
   ],
   "metadata": {
    "collapsed": false
   }
  },
  {
   "cell_type": "code",
   "execution_count": 167,
   "outputs": [],
   "source": [
    "e_ds.down_samp_rand(X_train_e_df, y_train, 0.05) # downsample using random resampling"
   ],
   "metadata": {
    "collapsed": false
   }
  },
  {
   "cell_type": "code",
   "execution_count": 168,
   "outputs": [],
   "source": [
    "e_ds.up_samp_smote(e_ds.X_train_rus, e_ds.y_train_rus, 0.25) # upsampling using SMOTE"
   ],
   "metadata": {
    "collapsed": false
   }
  },
  {
   "cell_type": "code",
   "execution_count": 169,
   "outputs": [],
   "source": [
    "READ_STATE = False"
   ],
   "metadata": {
    "collapsed": false
   }
  },
  {
   "cell_type": "markdown",
   "source": [
    "# 5.0 Modeling"
   ],
   "metadata": {
    "collapsed": false
   }
  },
  {
   "cell_type": "code",
   "execution_count": 170,
   "outputs": [],
   "source": [
    "def plot_roc(model, X, y, plot_title):\n",
    "    plot_roc_curve(model, X, y)\n",
    "    plt.title(plot_title)\n",
    "    plt.plot(np.arange(0, 1.1, 0.1), np.arange(0, 1.1, 0.1), label='RandomModel (AUC = 0.50)')\n",
    "    plt.legend()\n",
    "    plt.show()\n",
    "\n",
    "\n",
    "def confusion_mat(y, y_pred):\n",
    "    cf_matrix = confusion_matrix(y, y_pred)\n",
    "    group_names = ['True Neg', 'False Pos', 'False Neg', 'True Pos']\n",
    "    group_counts = ['{0:0.0f}'.format(value) for value in cf_matrix.flatten()]\n",
    "    group_percentages = ['{0:.2%}'.format(value) for value in cf_matrix.flatten() / np.sum(cf_matrix)]\n",
    "    label = [f'{v1}\\n{v2}\\n{v3}' for v1, v2, v3 in zip(group_names, group_counts, group_percentages)]\n",
    "    label = np.asarray(label).reshape(2, 2)\n",
    "    sns.heatmap(cf_matrix, annot=label, fmt='', cmap='Reds')\n",
    "\n",
    "\n",
    "def tabulate_scores_df(model_name, y_test, y_pred):\n",
    "    df2 = pd.DataFrame([[\n",
    "        model_name,\n",
    "        accuracy_score(y_true=y_test, y_pred=y_pred),\n",
    "        precision_score(y_true=y_test, y_pred=y_pred),\n",
    "        recall_score(y_true=y_test, y_pred=y_pred),\n",
    "        f1_score(y_true=y_test, y_pred=y_pred)]],\n",
    "        columns=['Type', 'Accuracy', 'Precision', 'Recall', 'F1-Score'])\n",
    "\n",
    "    return df2\n"
   ],
   "metadata": {
    "collapsed": false
   }
  },
  {
   "cell_type": "code",
   "execution_count": 171,
   "outputs": [],
   "source": [
    "class Model:\n",
    "    def __init__(self, x_tr, y_tr, X_tr, X_tst, routine, params, classifier, crss_vldtr=None):\n",
    "        '''Model'''\n",
    "        self.classifier = classifier\n",
    "        self.X_tst = X_tst\n",
    "\n",
    "\n",
    "        #  randomized search on hyper parameters\n",
    "        search = RandomizedSearchCV(\n",
    "            estimator = routine,\n",
    "            param_distributions = params,\n",
    "            scoring = 'accuracy',\n",
    "            cv = crss_vldtr,\n",
    "            n_jobs = -1,\n",
    "            verbose = 1,\n",
    "            random_state = RAND_STATE,\n",
    "            return_train_score = True,\n",
    "            n_iter = 5\n",
    "        )\n",
    "        if READ_STATE == True:\n",
    "            tag = input('Enter head of parameter file to read')\n",
    "            rf_hps_fname = tag + '_bestparams_sm_e_05.csv'\n",
    "            print('reading file ', rf_hps_fname)\n",
    "            bps = pd.read_csv(rf_hps_fname, index_col=False).to_dict('list')\n",
    "            bps.pop('Unnamed: 0')\n",
    "            ks = [k for k in bps.keys()]\n",
    "            vs = [v[0] for v in bps.values()]\n",
    "            self.best_params = dict( zip(ks,vs) )\n",
    "        else:\n",
    "            search.fit(x_tr, y_tr)\n",
    "            self.best_params = search.best_params_\n",
    "\n",
    "        print(self.best_params)\n",
    "        tuned = classifier(**self.best_params,# n_jobs = -1,\n",
    "                            random_state = RAND_STATE)\n",
    "        self.tuned = tuned\n",
    "        # fit\n",
    "        tuned.fit(x_tr, y_tr)\n",
    "        # predict\n",
    "        self.preds_train = tuned.predict(X_tr)\n",
    "        self.preds_test  = tuned.predict(X_tst)\n",
    "        self.params      = tuned.get_params()\n",
    "\n",
    "    def score(self,y_tr,y_tst):\n",
    "        trn_score_df = tabulate_scores_df('trn', y_tr, self.preds_train)\n",
    "        tst_score_df = tabulate_scores_df('tst', y_tst, self.preds_test)\n",
    "        score_df = trn_score_df.append(tst_score_df)\n",
    "        return score_df\n",
    "\n",
    "    def roc(self, y_tst, title):\n",
    "        plot_roc(self.tuned, self.X_tst,y_tst, title)\n",
    "\n",
    "    def conf_mat(self, y_tr, y_tst):\n",
    "        plt.figure(figsize=(15,7))\n",
    "\n",
    "        plt.subplot(1,2,1) # first heatmap\n",
    "        confusion_mat(y_tr, self.preds_train)\n",
    "\n",
    "        plt.subplot(1,2,2) # first heatmap\n",
    "        confusion_mat(y_test, self.preds_test)\n",
    "\n",
    "        plt.show()\n",
    "\n",
    "    def feature_imps(self,colnames):\n",
    "        feat_ranks_df = pd.DataFrame(np.ravel(self.tuned.feature_importances_), index=colnames)\n",
    "        feat_ranks_df.columns = ['feature importance']\n",
    "        feat_ranks_df.sort_values(by='feature importance', ascending=False)\n",
    "        return feat_ranks_df"
   ],
   "metadata": {
    "collapsed": false
   }
  },
  {
   "cell_type": "code",
   "execution_count": 172,
   "outputs": [],
   "source": [
    "from collections import Counter\n",
    "counter = Counter(y_train)\n",
    "estimate = np.sqrt(counter[0] / counter[1])"
   ],
   "metadata": {
    "collapsed": false
   }
  },
  {
   "cell_type": "code",
   "execution_count": 173,
   "outputs": [],
   "source": [
    "from sklearn.svm import LinearSVC"
   ],
   "metadata": {
    "collapsed": false
   }
  },
  {
   "cell_type": "code",
   "execution_count": 174,
   "outputs": [],
   "source": [
    "models = {\n",
    "    \"sgd\": { \"estimator\": SGDClassifier(),\n",
    "             \"params\": {\n",
    "                 \"loss\" : [ \"log_loss\", \"perceptron\"],\n",
    "                 \"alpha\" : [0.0001, 0.001, 0.01, 0.1],\n",
    "                 \"penalty\" : [\"l2\", \"l1\", \"elasticnet\"],\n",
    "                 \"class_weight\" : ['balanced', None],}\n",
    "             },\n",
    "    \"rf\": { \"estimator\": RandomForestClassifier(),\n",
    "            \"params\": {\n",
    "                'max_depth' : [2,5,10,15],\n",
    "                'n_estimators' : [100, 500, 1000],\n",
    "                \"class_weight\" : ['balanced', None],}\n",
    "            },\n",
    "    \"xgb\": {\"estimator\": XGBClassifier(),\n",
    "            \"params\": {\n",
    "                'n_estimators': stats.randint(150, 1000),\n",
    "                'learning_rate': stats.uniform(0.01, 0.59),\n",
    "                'subsample': stats.uniform(0.3, 0.6),\n",
    "                'max_depth': [3, 4, 5, 6, 7],\n",
    "                'colsample_bytree': stats.uniform(0.5, 0.4),\n",
    "               # 'scale_pos_weight' : stats.uniform(estimate,estimate**2),\n",
    "                'min_child_weight': [1, 2, 3, 4],}\n",
    "            },\n",
    "    \"lsvc\": { \"estimator\": LinearSVC(),\n",
    "              \"params\": { }\n",
    "              },\n",
    "    \"svc\": { \"estimator\": SVC(),\n",
    "             \"params\": {\n",
    "                 'C': [0.1,1, 10, 100, 1000],\n",
    "                 'gamma': [1,0.1,0.01,0.001,0.0001],\n",
    "                 'kernel': ['rbf'],}\n",
    "             }\n",
    "}"
   ],
   "metadata": {
    "collapsed": false
   }
  },
  {
   "cell_type": "code",
   "execution_count": 175,
   "outputs": [],
   "source": [
    "X_test_e_df.drop(columns=['address'],axis=1,inplace=True)"
   ],
   "metadata": {
    "collapsed": false
   }
  },
  {
   "cell_type": "code",
   "execution_count": 176,
   "outputs": [
    {
     "name": "stdout",
     "output_type": "stream",
     "text": [
      "Fitting 5 folds for each of 5 candidates, totalling 25 fits\n",
      "{'penalty': 'l1', 'loss': 'log_loss', 'class_weight': None, 'alpha': 0.1}\n"
     ]
    },
    {
     "data": {
      "text/plain": "{'alpha': 0.1,\n 'average': False,\n 'class_weight': None,\n 'early_stopping': False,\n 'epsilon': 0.1,\n 'eta0': 0.0,\n 'fit_intercept': True,\n 'l1_ratio': 0.15,\n 'learning_rate': 'optimal',\n 'loss': 'log_loss',\n 'max_iter': 1000,\n 'n_iter_no_change': 5,\n 'n_jobs': None,\n 'penalty': 'l1',\n 'power_t': 0.5,\n 'random_state': 42,\n 'shuffle': True,\n 'tol': 0.001,\n 'validation_fraction': 0.1,\n 'verbose': 0,\n 'warm_start': False}"
     },
     "execution_count": 176,
     "metadata": {},
     "output_type": "execute_result"
    }
   ],
   "source": [
    "# Create model\n",
    "sgd_cl = SGDClassifier(random_state=RAND_STATE, max_iter=3000, learning_rate='optimal')\n",
    "sgd_params_in = {\n",
    "    \"loss\": [\"log_loss\", \"perceptron\"],\n",
    "    \"alpha\": [0.0001, 0.001, 0.01, 0.1],\n",
    "    \"penalty\": [\"l2\", \"l1\", \"elasticnet\"],\n",
    "    \"class_weight\": ['balanced', None]\n",
    "}\n",
    "sgd = Model(\n",
    "    e_ds.X_train_sm, e_ds.y_train_sm,\n",
    "    X_train_e_df, X_test_e_df,\n",
    "    sgd_cl, sgd_params_in, SGDClassifier)\n",
    "sgd.params"
   ],
   "metadata": {
    "collapsed": false
   }
  },
  {
   "cell_type": "code",
   "execution_count": 177,
   "outputs": [
    {
     "data": {
      "text/plain": "  Type  Accuracy  Precision    Recall  F1-Score\n0  trn  0.187505   0.020285  0.858974  0.039633\n0  tst  0.989050   0.000000  0.000000  0.000000",
      "text/html": "<div>\n<style scoped>\n    .dataframe tbody tr th:only-of-type {\n        vertical-align: middle;\n    }\n\n    .dataframe tbody tr th {\n        vertical-align: top;\n    }\n\n    .dataframe thead th {\n        text-align: right;\n    }\n</style>\n<table border=\"1\" class=\"dataframe\">\n  <thead>\n    <tr style=\"text-align: right;\">\n      <th></th>\n      <th>Type</th>\n      <th>Accuracy</th>\n      <th>Precision</th>\n      <th>Recall</th>\n      <th>F1-Score</th>\n    </tr>\n  </thead>\n  <tbody>\n    <tr>\n      <th>0</th>\n      <td>trn</td>\n      <td>0.187505</td>\n      <td>0.020285</td>\n      <td>0.858974</td>\n      <td>0.039633</td>\n    </tr>\n    <tr>\n      <th>0</th>\n      <td>tst</td>\n      <td>0.989050</td>\n      <td>0.000000</td>\n      <td>0.000000</td>\n      <td>0.000000</td>\n    </tr>\n  </tbody>\n</table>\n</div>"
     },
     "execution_count": 177,
     "metadata": {},
     "output_type": "execute_result"
    }
   ],
   "source": [
    "sgd.score(y_train,y_test)"
   ],
   "metadata": {
    "collapsed": false
   }
  },
  {
   "cell_type": "markdown",
   "source": [
    "Compare result to original features"
   ],
   "metadata": {
    "collapsed": false
   }
  },
  {
   "cell_type": "code",
   "execution_count": 178,
   "outputs": [
    {
     "name": "stdout",
     "output_type": "stream",
     "text": [
      "Fitting 5 folds for each of 5 candidates, totalling 25 fits\n",
      "{'penalty': 'l2', 'loss': 'perceptron', 'class_weight': 'balanced', 'alpha': 0.1}\n"
     ]
    },
    {
     "data": {
      "text/plain": "{'alpha': 0.1,\n 'average': False,\n 'class_weight': 'balanced',\n 'early_stopping': False,\n 'epsilon': 0.1,\n 'eta0': 0.0,\n 'fit_intercept': True,\n 'l1_ratio': 0.15,\n 'learning_rate': 'optimal',\n 'loss': 'perceptron',\n 'max_iter': 1000,\n 'n_iter_no_change': 5,\n 'n_jobs': None,\n 'penalty': 'l2',\n 'power_t': 0.5,\n 'random_state': 42,\n 'shuffle': True,\n 'tol': 0.001,\n 'validation_fraction': 0.1,\n 'verbose': 0,\n 'warm_start': False}"
     },
     "execution_count": 178,
     "metadata": {},
     "output_type": "execute_result"
    }
   ],
   "source": [
    "# Create model\n",
    "sgd_cl0 = SGDClassifier(random_state=RAND_STATE, max_iter=4000, learning_rate='optimal',n_jobs=-1)\n",
    "sgd_params_in = {\n",
    "    \"loss\": [ \"perceptron\"],\n",
    "    \"alpha\": [ 0.1],\n",
    "    \"penalty\": [\"l2\", \"l1\", \"elasticnet\"],\n",
    "    \"class_weight\": ['balanced', None]\n",
    "}\n",
    "sgd0 = Model(\n",
    "    X_train.drop(labels=['address'],axis=1), y_train,\n",
    "    X_train.drop(labels=['address'],axis=1), X_test.drop(labels=['address'],axis=1),\n",
    "    sgd_cl0, sgd_params_in, SGDClassifier)\n",
    "sgd0.params"
   ],
   "metadata": {
    "collapsed": false
   }
  },
  {
   "cell_type": "code",
   "execution_count": 179,
   "outputs": [
    {
     "data": {
      "text/plain": "  Type  Accuracy  Precision  Recall  F1-Score\n0  trn  0.980482        0.0     0.0       0.0\n0  tst  0.989050        0.0     0.0       0.0",
      "text/html": "<div>\n<style scoped>\n    .dataframe tbody tr th:only-of-type {\n        vertical-align: middle;\n    }\n\n    .dataframe tbody tr th {\n        vertical-align: top;\n    }\n\n    .dataframe thead th {\n        text-align: right;\n    }\n</style>\n<table border=\"1\" class=\"dataframe\">\n  <thead>\n    <tr style=\"text-align: right;\">\n      <th></th>\n      <th>Type</th>\n      <th>Accuracy</th>\n      <th>Precision</th>\n      <th>Recall</th>\n      <th>F1-Score</th>\n    </tr>\n  </thead>\n  <tbody>\n    <tr>\n      <th>0</th>\n      <td>trn</td>\n      <td>0.980482</td>\n      <td>0.0</td>\n      <td>0.0</td>\n      <td>0.0</td>\n    </tr>\n    <tr>\n      <th>0</th>\n      <td>tst</td>\n      <td>0.989050</td>\n      <td>0.0</td>\n      <td>0.0</td>\n      <td>0.0</td>\n    </tr>\n  </tbody>\n</table>\n</div>"
     },
     "execution_count": 179,
     "metadata": {},
     "output_type": "execute_result"
    }
   ],
   "source": [
    "sgd0.score(y_train,y_test)"
   ],
   "metadata": {
    "collapsed": false
   }
  },
  {
   "cell_type": "code",
   "execution_count": 180,
   "outputs": [
    {
     "data": {
      "text/plain": "0    2800\n1      31\nName: label, dtype: int64"
     },
     "execution_count": 180,
     "metadata": {},
     "output_type": "execute_result"
    }
   ],
   "source": [
    "y_test.value_counts()"
   ],
   "metadata": {
    "collapsed": false
   }
  },
  {
   "cell_type": "code",
   "execution_count": 181,
   "outputs": [
    {
     "data": {
      "text/plain": "0    11989\ndtype: int64"
     },
     "execution_count": 181,
     "metadata": {},
     "output_type": "execute_result"
    }
   ],
   "source": [
    "pd.Series(sgd0.preds_train).value_counts()"
   ],
   "metadata": {
    "collapsed": false
   }
  },
  {
   "cell_type": "code",
   "execution_count": 182,
   "outputs": [
    {
     "data": {
      "text/plain": "2339882    0\n2337946    0\n2350164    0\n2348030    0\n2344793    0\n          ..\n2357211    0\n2350497    0\n2359204    0\n2341957    0\n2358834    0\nName: label, Length: 2831, dtype: int64"
     },
     "execution_count": 182,
     "metadata": {},
     "output_type": "execute_result"
    }
   ],
   "source": [
    "y_test"
   ],
   "metadata": {
    "collapsed": false
   }
  },
  {
   "cell_type": "code",
   "execution_count": 183,
   "outputs": [
    {
     "data": {
      "text/plain": "0    2831\ndtype: int64"
     },
     "execution_count": 183,
     "metadata": {},
     "output_type": "execute_result"
    }
   ],
   "source": [
    "pd.Series(sgd0.preds_test).value_counts()"
   ],
   "metadata": {
    "collapsed": false
   }
  },
  {
   "cell_type": "code",
   "execution_count": 183,
   "outputs": [],
   "source": [],
   "metadata": {
    "collapsed": false
   }
  }
 ],
 "metadata": {
  "kernelspec": {
   "display_name": "Python 3 (ipykernel)",
   "language": "python",
   "name": "python3"
  },
  "language_info": {
   "codemirror_mode": {
    "name": "ipython",
    "version": 3
   },
   "file_extension": ".py",
   "mimetype": "text/x-python",
   "name": "python",
   "nbconvert_exporter": "python",
   "pygments_lexer": "ipython3",
   "version": "3.9.0"
  },
  "toc": {
   "base_numbering": 1,
   "nav_menu": {},
   "number_sections": false,
   "sideBar": true,
   "skip_h1_title": false,
   "title_cell": "Table of Contents",
   "title_sidebar": "Contents",
   "toc_cell": false,
   "toc_position": {
    "height": "calc(100% - 180px)",
    "left": "10px",
    "top": "150px",
    "width": "413.6px"
   },
   "toc_section_display": true,
   "toc_window_display": true
  },
  "varInspector": {
   "cols": {
    "lenName": 16,
    "lenType": 16,
    "lenVar": 40
   },
   "kernels_config": {
    "python": {
     "delete_cmd_postfix": "",
     "delete_cmd_prefix": "del ",
     "library": "var_list.py",
     "varRefreshCmd": "print(var_dic_list())"
    },
    "r": {
     "delete_cmd_postfix": ") ",
     "delete_cmd_prefix": "rm(",
     "library": "var_list.r",
     "varRefreshCmd": "cat(var_dic_list()) "
    }
   },
   "types_to_exclude": [
    "module",
    "function",
    "builtin_function_or_method",
    "instance",
    "_Feature"
   ],
   "window_display": false
  }
 },
 "nbformat": 4,
 "nbformat_minor": 5
}
