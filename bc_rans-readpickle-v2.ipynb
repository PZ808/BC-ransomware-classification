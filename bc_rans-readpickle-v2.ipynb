{
 "cells": [
  {
   "cell_type": "markdown",
   "id": "6f6fa43a",
   "metadata": {
    "heading_collapsed": true
   },
   "source": [
    "# 0.0 Table of Contents\n",
    "\n",
    "1. [Introduction](#1.0-Introduction)\n",
    "\n",
    "2. [Feature Analysis](#2.0-Feature-Analysis)\n",
    "\n",
    "3. [Modeling](#3.0-Modeling)\n"
   ]
  },
  {
   "cell_type": "markdown",
   "id": "86fd8be8",
   "metadata": {},
   "source": [
    "# 1.0 Introduction\n",
    " "
   ]
  },
  {
   "cell_type": "markdown",
   "id": "48a0c01d",
   "metadata": {},
   "source": [
    "### 1.1 Project -  Binary classification of bitcoin addresses\n",
    "\n",
    "-  **GOAL:** to predict whether an address has been the recipient of ransomware coins. \n",
    "\n",
    "-  **DATA:**  Data is time series (24hr chunks) derived from the topological and geometrical properties of the bitcoin network.\n",
    "\n",
    "### 1.2 Basics\n",
    "\n",
    "- Ransomware is a rogue compute code that encrypts the victim's filesystem unless money is paid to the attacker for decryption. \n",
    "\n",
    "- Bitcoin is often used for these payments because it provides a semi-anonymous transaction method.  Classify bitcoin addressess as \n",
    "\n",
    "- The dataset was taken from the UCI Machine Learning Repository. It contains labelled data of addresses according to whether they have been involved in Ransomware. The data is from 2009 January to 2018 December. \n",
    "- Link to the data-set: [click here](https://archive.ics.uci.edu/ml/datasets/BitcoinHeistRansomwareAddressDataset)\n",
    "\n",
    "#### 1.2.0 Information:\n",
    "---\n",
    "**\"starter transactions\"**: transactions which are spent outputs from the  previous time window <n>\n",
    "\n",
    "features:\n",
    "\n",
    "- The **address** is a public address (key) which can receive and send bitcoins.        \n",
    "- The **income** of an address $a$ is the total amount of coins output to it measured in Satoshis (1 millionth of a BC)\n",
    "<b>\n",
    "- The number of (in) **neighbors** of an address $a$  is the number of transactions which\n",
    "have $a$ as one of its output addresses:\n",
    "<b>\n",
    "- The **weight** of an address is the sum of the fraction of *coins* that come from a starter transaction and merge at the address. Weight quantifies the merge behavior (i.e., the transaction\n",
    "has more input addresses than output addresses), where coins\n",
    "in multiple addresses are each passed through a succession of\n",
    "merging transactions and accumulated in a final address.\n",
    "- The **length** of an address $a$ is the number of non-starter transactions connected to $a$ on the longest chain.  A length of zero implies that the address is the recipient of starter transaction.\n",
    "address is an output address of a starter transaction.\n",
    "- The **count** of an address $a$ is the number of starter transactions\n",
    "which are connected to $a$ in a chain, where a chain is\n",
    "defined as an acyclic directed path originating from any starter\n",
    "transaction and ending at address $a$. he count feature represents\n",
    "information on the number of transactions, whereas the weight\n",
    "feature represents information on the amount (what percent of\n",
    "these transactions’ output?) of transactions.\n",
    "- **looped** is the number of starter transactions connected to $a$ by more than one path (chain). \n",
    "    \n",
    "       \n",
    "<n>\n",
    "Engineered/derived features:\n",
    "    \n",
    "- bc_income\n",
    "    \n",
    "- bc_length\n",
    "    \n",
    "- yeo_weight\n",
    "   \n",
    "- logbc_n_addres\n",
    "\n",
    "- bc_neighbors\n",
    "   \n",
    "- sig_looped\n",
    "   \n",
    "- log_count\n",
    "   \n",
    "- day_of_week\n",
    "    \n",
    " <n>\n",
    "     \n",
    " **Datatypes and content of master variables**\n",
    "     \n",
    "     - X_df : all features [dataframe]\n",
    "     - X : all features [ndarray]\n",
    "     - X_train : training data inc. engineered features [dataframe]\n",
    "     - labels : binary 1=ransom, 0=white [ndarray]\n",
    "     - X_train_ss : scaled (standard scalarized features: mean=0,var=1) [ndarray]\n",
    "     - X_train_tree : unscaled features [ndarray]\n",
    "     - y_test : labels [ndarray]\n",
    "     - negative_df : downsampled features from negative class [dataframe] \n",
    "     - positive_df : downsampled features from positve class [dataframe]\n",
    "     - combined_X : appended downsampled standardized features from both classes [dataframe]\n",
    "    "
   ]
  },
  {
   "cell_type": "markdown",
   "id": "10c7352c",
   "metadata": {},
   "source": [
    "### 1.3 Packages and helper functions"
   ]
  },
  {
   "cell_type": "code",
   "execution_count": 1,
   "id": "b142e4c0",
   "metadata": {
    "ExecuteTime": {
     "end_time": "2022-07-27T09:10:14.615500Z",
     "start_time": "2022-07-27T09:10:13.686409Z"
    }
   },
   "outputs": [],
   "source": [
    "import pandas as pd\n",
    "import numpy as np\n",
    "import matplotlib\n",
    "import matplotlib.pyplot as plt\n",
    "import seaborn as sns\n",
    "from tqdm.notebook import tqdm\n",
    "import os\n",
    "import pickle\n",
    "import pdb\n",
    "import datetime\n",
    "import warnings\n",
    "\n",
    "from scipy import stats\n",
    "from scipy.stats import randint\n",
    "from sklearn.metrics import roc_auc_score\n",
    "\n",
    "from imblearn.over_sampling import SMOTE\n",
    "\n",
    "\n",
    "from scipy.stats import pearsonr\n",
    "from scipy.stats import boxcox, yeojohnson\n",
    "\n",
    "from sklearn.ensemble import RandomForestClassifier\n",
    "from imblearn.under_sampling import RandomUnderSampler\n",
    "\n",
    "from sklearn.model_selection import train_test_split\n",
    "from sklearn.model_selection import RandomizedSearchCV\n",
    "from sklearn.preprocessing import PowerTransformer\n",
    "from sklearn.preprocessing import StandardScaler, OneHotEncoder\n",
    "from sklearn.compose import ColumnTransformer\n",
    "from sklearn.metrics import accuracy_score, log_loss, plot_roc_curve, f1_score, precision_score, recall_score, classification_report\n",
    "from sklearn.metrics import confusion_matrix\n",
    "from sklearn.metrics import plot_confusion_matrix\n",
    "from sklearn.metrics import precision_recall_curve\n",
    "from prettytable import PrettyTable\n",
    "warnings.filterwarnings(\"ignore\",category=matplotlib.cbook.mplDeprecation)\n",
    "warnings.filterwarnings(\"ignore\", category=UserWarning)\n",
    "_ = np.seterr(over='ignore')\n",
    "#from pretty_confusion_matrix import plot_confusion_matrix_from_data as conf_matrix\n",
    "warnings.simplefilter(action='ignore', category=FutureWarning)"
   ]
  },
  {
   "cell_type": "code",
   "execution_count": 2,
   "id": "bac7e8cb",
   "metadata": {
    "ExecuteTime": {
     "end_time": "2022-07-27T09:10:14.620469Z",
     "start_time": "2022-07-27T09:10:14.619051Z"
    }
   },
   "outputs": [],
   "source": [
    "RAND_STATE  = 42\n",
    "SPLIT_RATIO = 0.23\n",
    "SAVE_TEST_TRAIN = False\n",
    "DS_FRAC = .25"
   ]
  },
  {
   "cell_type": "markdown",
   "id": "2455c471",
   "metadata": {},
   "source": [
    "### 1.4 Importing saved data"
   ]
  },
  {
   "cell_type": "code",
   "execution_count": 3,
   "id": "9ba29d83",
   "metadata": {
    "ExecuteTime": {
     "end_time": "2022-07-27T09:10:16.158405Z",
     "start_time": "2022-07-27T09:10:16.153139Z"
    }
   },
   "outputs": [],
   "source": [
    "NF = 5 "
   ]
  },
  {
   "cell_type": "code",
   "execution_count": 4,
   "id": "85f84c9f",
   "metadata": {
    "ExecuteTime": {
     "end_time": "2022-07-27T09:10:16.872226Z",
     "start_time": "2022-07-27T09:10:16.869248Z"
    }
   },
   "outputs": [],
   "source": [
    "fname = 'X_train_y_train_X_test_y_test_0'+str(NF)+'.pickle'"
   ]
  },
  {
   "cell_type": "code",
   "execution_count": 5,
   "id": "90587189",
   "metadata": {
    "ExecuteTime": {
     "end_time": "2022-07-27T09:10:20.854008Z",
     "start_time": "2022-07-27T09:10:20.036327Z"
    }
   },
   "outputs": [],
   "source": [
    "Xy = pd.read_pickle(fname)\n",
    "Xy_d = pd.read_pickle('derived'+fname)\n",
    "Xy_e = pd.read_pickle('encoded'+fname)"
   ]
  },
  {
   "cell_type": "code",
   "execution_count": 6,
   "id": "deb1cb07",
   "metadata": {
    "ExecuteTime": {
     "end_time": "2022-07-27T09:10:25.264924Z",
     "start_time": "2022-07-27T09:10:25.252614Z"
    },
    "run_control": {
     "marked": true
    }
   },
   "outputs": [],
   "source": [
    "for i in [0,1,2,3]:\n",
    "    Xy[i].reset_index(drop=True,inplace=True)\n",
    "    Xy_d[i].reset_index(drop=True,inplace=True)\n",
    "    #Xy_e[i].reset_index(drop=True,inplace=True)\n"
   ]
  },
  {
   "cell_type": "code",
   "execution_count": 7,
   "id": "56cac4d0",
   "metadata": {
    "ExecuteTime": {
     "end_time": "2022-07-27T09:10:26.499076Z",
     "start_time": "2022-07-27T09:10:26.493333Z"
    }
   },
   "outputs": [],
   "source": [
    "# Test/train split of unmodified data \n",
    "X_train = Xy[0]\n",
    "y_train = Xy[1]\n",
    "X_test  = Xy[2]\n",
    "y_test  = Xy[3]"
   ]
  },
  {
   "cell_type": "code",
   "execution_count": 8,
   "id": "4da135c1",
   "metadata": {
    "ExecuteTime": {
     "end_time": "2022-07-27T09:10:28.594225Z",
     "start_time": "2022-07-27T09:10:28.566755Z"
    }
   },
   "outputs": [
    {
     "data": {
      "text/html": [
       "<div>\n",
       "<style scoped>\n",
       "    .dataframe tbody tr th:only-of-type {\n",
       "        vertical-align: middle;\n",
       "    }\n",
       "\n",
       "    .dataframe tbody tr th {\n",
       "        vertical-align: top;\n",
       "    }\n",
       "\n",
       "    .dataframe thead th {\n",
       "        text-align: right;\n",
       "    }\n",
       "</style>\n",
       "<table border=\"1\" class=\"dataframe\">\n",
       "  <thead>\n",
       "    <tr style=\"text-align: right;\">\n",
       "      <th></th>\n",
       "      <th>address</th>\n",
       "      <th>year</th>\n",
       "      <th>day</th>\n",
       "      <th>length</th>\n",
       "      <th>weight</th>\n",
       "      <th>count</th>\n",
       "      <th>looped</th>\n",
       "      <th>neighbors</th>\n",
       "      <th>income</th>\n",
       "    </tr>\n",
       "  </thead>\n",
       "  <tbody>\n",
       "    <tr>\n",
       "      <th>0</th>\n",
       "      <td>1CufFHv2P9PKbY7Vark4htZJcmwFQD8BSo</td>\n",
       "      <td>2018</td>\n",
       "      <td>272</td>\n",
       "      <td>2</td>\n",
       "      <td>1.000000e+00</td>\n",
       "      <td>1</td>\n",
       "      <td>0</td>\n",
       "      <td>2</td>\n",
       "      <td>6.110000e+07</td>\n",
       "    </tr>\n",
       "    <tr>\n",
       "      <th>1</th>\n",
       "      <td>13PSV222kAeKeHhZz1bJKh2q4YKSPhPxUD</td>\n",
       "      <td>2011</td>\n",
       "      <td>5</td>\n",
       "      <td>42</td>\n",
       "      <td>6.103516e-05</td>\n",
       "      <td>1</td>\n",
       "      <td>0</td>\n",
       "      <td>2</td>\n",
       "      <td>1.970000e+09</td>\n",
       "    </tr>\n",
       "    <tr>\n",
       "      <th>2</th>\n",
       "      <td>367RfLy8PBSpvuEKjY3X3X9iWt4RMwdsKy</td>\n",
       "      <td>2018</td>\n",
       "      <td>287</td>\n",
       "      <td>2</td>\n",
       "      <td>1.000000e+00</td>\n",
       "      <td>1</td>\n",
       "      <td>0</td>\n",
       "      <td>1</td>\n",
       "      <td>5.663199e+07</td>\n",
       "    </tr>\n",
       "    <tr>\n",
       "      <th>3</th>\n",
       "      <td>15eCeGrYDYF1WACHrbUgy71rrFH3tksG1V</td>\n",
       "      <td>2014</td>\n",
       "      <td>336</td>\n",
       "      <td>2</td>\n",
       "      <td>5.555556e-02</td>\n",
       "      <td>1</td>\n",
       "      <td>0</td>\n",
       "      <td>1</td>\n",
       "      <td>1.600000e+08</td>\n",
       "    </tr>\n",
       "    <tr>\n",
       "      <th>4</th>\n",
       "      <td>19xhezoeCdRfkArdQpXHxJEVxmJTpPk7FF</td>\n",
       "      <td>2016</td>\n",
       "      <td>78</td>\n",
       "      <td>0</td>\n",
       "      <td>5.000000e-01</td>\n",
       "      <td>1</td>\n",
       "      <td>0</td>\n",
       "      <td>2</td>\n",
       "      <td>5.000000e+07</td>\n",
       "    </tr>\n",
       "    <tr>\n",
       "      <th>...</th>\n",
       "      <td>...</td>\n",
       "      <td>...</td>\n",
       "      <td>...</td>\n",
       "      <td>...</td>\n",
       "      <td>...</td>\n",
       "      <td>...</td>\n",
       "      <td>...</td>\n",
       "      <td>...</td>\n",
       "      <td>...</td>\n",
       "    </tr>\n",
       "    <tr>\n",
       "      <th>2245851</th>\n",
       "      <td>19bRohpkgkHxvYpJE11LogQ3miLfjYfmn8</td>\n",
       "      <td>2011</td>\n",
       "      <td>103</td>\n",
       "      <td>58</td>\n",
       "      <td>7.450581e-09</td>\n",
       "      <td>1</td>\n",
       "      <td>0</td>\n",
       "      <td>2</td>\n",
       "      <td>6.207267e+10</td>\n",
       "    </tr>\n",
       "    <tr>\n",
       "      <th>2245852</th>\n",
       "      <td>17Cp5fhJ3Mriz8KtbVrn4SdM5ak4jJD2Dc</td>\n",
       "      <td>2015</td>\n",
       "      <td>106</td>\n",
       "      <td>16</td>\n",
       "      <td>6.250000e-02</td>\n",
       "      <td>1</td>\n",
       "      <td>0</td>\n",
       "      <td>2</td>\n",
       "      <td>1.430162e+08</td>\n",
       "    </tr>\n",
       "    <tr>\n",
       "      <th>2245853</th>\n",
       "      <td>15tMc1UW3gVpVJDmfzkpkNhsmyT69iELnC</td>\n",
       "      <td>2017</td>\n",
       "      <td>146</td>\n",
       "      <td>0</td>\n",
       "      <td>5.000000e-01</td>\n",
       "      <td>1</td>\n",
       "      <td>0</td>\n",
       "      <td>2</td>\n",
       "      <td>4.009917e+08</td>\n",
       "    </tr>\n",
       "    <tr>\n",
       "      <th>2245854</th>\n",
       "      <td>1AgiezDcp2Nb94Na5MaqSPmkM6P54b6D5C</td>\n",
       "      <td>2013</td>\n",
       "      <td>219</td>\n",
       "      <td>0</td>\n",
       "      <td>7.722008e-04</td>\n",
       "      <td>1</td>\n",
       "      <td>0</td>\n",
       "      <td>1</td>\n",
       "      <td>5.000000e+07</td>\n",
       "    </tr>\n",
       "    <tr>\n",
       "      <th>2245855</th>\n",
       "      <td>1MbMktiA2kn5fy7HzwGoWW6eNHiN61QatG</td>\n",
       "      <td>2011</td>\n",
       "      <td>348</td>\n",
       "      <td>2</td>\n",
       "      <td>1.565623e-02</td>\n",
       "      <td>49</td>\n",
       "      <td>0</td>\n",
       "      <td>1</td>\n",
       "      <td>1.180000e+08</td>\n",
       "    </tr>\n",
       "  </tbody>\n",
       "</table>\n",
       "<p>2245856 rows × 9 columns</p>\n",
       "</div>"
      ],
      "text/plain": [
       "                                    address  year  day  length        weight  \\\n",
       "0        1CufFHv2P9PKbY7Vark4htZJcmwFQD8BSo  2018  272       2  1.000000e+00   \n",
       "1        13PSV222kAeKeHhZz1bJKh2q4YKSPhPxUD  2011    5      42  6.103516e-05   \n",
       "2        367RfLy8PBSpvuEKjY3X3X9iWt4RMwdsKy  2018  287       2  1.000000e+00   \n",
       "3        15eCeGrYDYF1WACHrbUgy71rrFH3tksG1V  2014  336       2  5.555556e-02   \n",
       "4        19xhezoeCdRfkArdQpXHxJEVxmJTpPk7FF  2016   78       0  5.000000e-01   \n",
       "...                                     ...   ...  ...     ...           ...   \n",
       "2245851  19bRohpkgkHxvYpJE11LogQ3miLfjYfmn8  2011  103      58  7.450581e-09   \n",
       "2245852  17Cp5fhJ3Mriz8KtbVrn4SdM5ak4jJD2Dc  2015  106      16  6.250000e-02   \n",
       "2245853  15tMc1UW3gVpVJDmfzkpkNhsmyT69iELnC  2017  146       0  5.000000e-01   \n",
       "2245854  1AgiezDcp2Nb94Na5MaqSPmkM6P54b6D5C  2013  219       0  7.722008e-04   \n",
       "2245855  1MbMktiA2kn5fy7HzwGoWW6eNHiN61QatG  2011  348       2  1.565623e-02   \n",
       "\n",
       "         count  looped  neighbors        income  \n",
       "0            1       0          2  6.110000e+07  \n",
       "1            1       0          2  1.970000e+09  \n",
       "2            1       0          1  5.663199e+07  \n",
       "3            1       0          1  1.600000e+08  \n",
       "4            1       0          2  5.000000e+07  \n",
       "...        ...     ...        ...           ...  \n",
       "2245851      1       0          2  6.207267e+10  \n",
       "2245852      1       0          2  1.430162e+08  \n",
       "2245853      1       0          2  4.009917e+08  \n",
       "2245854      1       0          1  5.000000e+07  \n",
       "2245855     49       0          1  1.180000e+08  \n",
       "\n",
       "[2245856 rows x 9 columns]"
      ]
     },
     "execution_count": 8,
     "metadata": {},
     "output_type": "execute_result"
    }
   ],
   "source": [
    "X_train"
   ]
  },
  {
   "cell_type": "code",
   "execution_count": 9,
   "id": "02dfb569",
   "metadata": {
    "ExecuteTime": {
     "end_time": "2022-07-27T09:10:29.241735Z",
     "start_time": "2022-07-27T09:10:29.131797Z"
    }
   },
   "outputs": [],
   "source": [
    "X_train.drop(labels=['address'],axis=1,inplace=True)\n",
    "X_test.drop(labels=['address'],axis=1,inplace=True)\n",
    "X_train_ns = X_train.to_numpy() # not std. transformed\n",
    "X_test_ns  = X_test.to_numpy()  # not std. transformed"
   ]
  },
  {
   "cell_type": "code",
   "execution_count": 10,
   "id": "bc771aac",
   "metadata": {
    "ExecuteTime": {
     "end_time": "2022-07-27T09:10:29.728568Z",
     "start_time": "2022-07-27T09:10:29.724082Z"
    }
   },
   "outputs": [],
   "source": [
    "# Test/train split of transformed data (engineered to reduce skew)\n",
    "X_train_d = Xy_d[0]\n",
    "y_train_d = Xy_d[1]\n",
    "X_test_d  = Xy_d[2]\n",
    "y_test_d  = Xy_d[3]"
   ]
  },
  {
   "cell_type": "code",
   "execution_count": 11,
   "id": "35659d9b",
   "metadata": {
    "ExecuteTime": {
     "end_time": "2022-07-27T09:10:30.275269Z",
     "start_time": "2022-07-27T09:10:30.109664Z"
    }
   },
   "outputs": [],
   "source": [
    "X_train_d.drop(labels=['address'],axis=1,inplace=True)\n",
    "X_test_d.drop(labels=['address'],axis=1,inplace=True)"
   ]
  },
  {
   "cell_type": "code",
   "execution_count": 12,
   "id": "fdd468cb",
   "metadata": {
    "ExecuteTime": {
     "end_time": "2022-07-27T09:10:30.455494Z",
     "start_time": "2022-07-27T09:10:30.451874Z"
    },
    "run_control": {
     "marked": true
    }
   },
   "outputs": [],
   "source": [
    "# Test/train split of transformed, std. normalized, and encoded data\n",
    "# numpy arrays. Has standard scalarizing and encoding. for X column names are gone and address is dropped.\n",
    "X_train_e = Xy_e[0] \n",
    "y_train_e = Xy_e[1] # labels\n",
    "X_test_e  = Xy_e[2]\n",
    "y_test_e  = Xy_e[3] # labels"
   ]
  },
  {
   "cell_type": "code",
   "execution_count": 13,
   "id": "6d45a199",
   "metadata": {
    "ExecuteTime": {
     "end_time": "2022-07-27T09:10:31.090034Z",
     "start_time": "2022-07-27T09:10:31.085200Z"
    }
   },
   "outputs": [
    {
     "data": {
      "text/plain": [
       "(2245856, 22)"
      ]
     },
     "execution_count": 13,
     "metadata": {},
     "output_type": "execute_result"
    }
   ],
   "source": [
    "X_train_e.shape"
   ]
  },
  {
   "cell_type": "code",
   "execution_count": 46,
   "id": "6abe9028",
   "metadata": {
    "ExecuteTime": {
     "end_time": "2022-07-27T10:02:14.515174Z",
     "start_time": "2022-07-27T10:02:14.442282Z"
    }
   },
   "outputs": [
    {
     "name": "stdout",
     "output_type": "stream",
     "text": [
      "X_train_e has been standardized to zero mean and unit variance\n"
     ]
    },
    {
     "data": {
      "text/plain": [
       "(-2.2295261401004454e-17, 1.00000044526472)"
      ]
     },
     "execution_count": 46,
     "metadata": {},
     "output_type": "execute_result"
    }
   ],
   "source": [
    "colnames = ['year',\n",
    " 'day',\n",
    " 'length',\n",
    " 'weight',\n",
    " 'count',\n",
    " 'looped',\n",
    " 'neighbors',\n",
    " 'income',\n",
    " 'bc_income',\n",
    " 'bc_length',\n",
    " 'yeo_weight',\n",
    " 'logbc_n_address',\n",
    " 'bc_neighbors',\n",
    " 'sig_looped',\n",
    " 'log_count',\n",
    "  'monday', 'tuesday', 'wednesday', 'thursday', 'friday', 'saturday', 'sunday']\n",
    "\n",
    "# make data frame\n",
    "X_train_e_df = pd.DataFrame(X_train_e, columns=colnames)\n",
    "X_test_e_df = pd.DataFrame(X_test_e, columns=colnames)\n",
    "print('X_train_e has been standardized to zero mean and unit variance')\n",
    "X_train_e_df['looped'].mean(), X_train_e_df['looped'].var()\n",
    "           "
   ]
  },
  {
   "cell_type": "code",
   "execution_count": 15,
   "id": "ecca2084",
   "metadata": {
    "ExecuteTime": {
     "end_time": "2022-07-27T09:10:32.436100Z",
     "start_time": "2022-07-27T09:10:32.431700Z"
    }
   },
   "outputs": [],
   "source": [
    "y_train.reset_index(drop=True,inplace=True)"
   ]
  },
  {
   "cell_type": "code",
   "execution_count": 16,
   "id": "be514a99",
   "metadata": {
    "ExecuteTime": {
     "end_time": "2022-07-27T09:10:32.827968Z",
     "start_time": "2022-07-27T09:10:32.817021Z"
    },
    "scrolled": true
   },
   "outputs": [
    {
     "data": {
      "text/plain": [
       "labels\n",
       "0.0       661316\n",
       "1.0         9525\n",
       "dtype: int64"
      ]
     },
     "execution_count": 16,
     "metadata": {},
     "output_type": "execute_result"
    }
   ],
   "source": [
    "y_test.value_counts()"
   ]
  },
  {
   "cell_type": "code",
   "execution_count": 17,
   "id": "46342357",
   "metadata": {
    "ExecuteTime": {
     "end_time": "2022-07-27T09:10:33.622013Z",
     "start_time": "2022-07-27T09:10:33.598209Z"
    }
   },
   "outputs": [
    {
     "data": {
      "text/plain": [
       "labels\n",
       "0.0       661316\n",
       "1.0         9525\n",
       "dtype: int64"
      ]
     },
     "execution_count": 17,
     "metadata": {},
     "output_type": "execute_result"
    }
   ],
   "source": [
    "y_test_e.value_counts()"
   ]
  },
  {
   "cell_type": "code",
   "execution_count": 18,
   "id": "43ee9324",
   "metadata": {
    "ExecuteTime": {
     "end_time": "2022-07-27T09:10:34.435135Z",
     "start_time": "2022-07-27T09:10:34.426038Z"
    }
   },
   "outputs": [],
   "source": [
    "y_test_e.reset_index(drop=True,inplace=True)"
   ]
  },
  {
   "cell_type": "code",
   "execution_count": 19,
   "id": "860f4403",
   "metadata": {
    "ExecuteTime": {
     "end_time": "2022-07-27T09:10:35.537347Z",
     "start_time": "2022-07-27T09:10:35.522280Z"
    }
   },
   "outputs": [
    {
     "data": {
      "text/html": [
       "<div>\n",
       "<style scoped>\n",
       "    .dataframe tbody tr th:only-of-type {\n",
       "        vertical-align: middle;\n",
       "    }\n",
       "\n",
       "    .dataframe tbody tr th {\n",
       "        vertical-align: top;\n",
       "    }\n",
       "\n",
       "    .dataframe thead th {\n",
       "        text-align: right;\n",
       "    }\n",
       "</style>\n",
       "<table border=\"1\" class=\"dataframe\">\n",
       "  <thead>\n",
       "    <tr style=\"text-align: right;\">\n",
       "      <th></th>\n",
       "      <th>labels</th>\n",
       "    </tr>\n",
       "  </thead>\n",
       "  <tbody>\n",
       "    <tr>\n",
       "      <th>0</th>\n",
       "      <td>True</td>\n",
       "    </tr>\n",
       "    <tr>\n",
       "      <th>1</th>\n",
       "      <td>True</td>\n",
       "    </tr>\n",
       "    <tr>\n",
       "      <th>2</th>\n",
       "      <td>True</td>\n",
       "    </tr>\n",
       "    <tr>\n",
       "      <th>3</th>\n",
       "      <td>True</td>\n",
       "    </tr>\n",
       "    <tr>\n",
       "      <th>4</th>\n",
       "      <td>True</td>\n",
       "    </tr>\n",
       "    <tr>\n",
       "      <th>...</th>\n",
       "      <td>...</td>\n",
       "    </tr>\n",
       "    <tr>\n",
       "      <th>670836</th>\n",
       "      <td>True</td>\n",
       "    </tr>\n",
       "    <tr>\n",
       "      <th>670837</th>\n",
       "      <td>True</td>\n",
       "    </tr>\n",
       "    <tr>\n",
       "      <th>670838</th>\n",
       "      <td>True</td>\n",
       "    </tr>\n",
       "    <tr>\n",
       "      <th>670839</th>\n",
       "      <td>True</td>\n",
       "    </tr>\n",
       "    <tr>\n",
       "      <th>670840</th>\n",
       "      <td>True</td>\n",
       "    </tr>\n",
       "  </tbody>\n",
       "</table>\n",
       "<p>670841 rows × 1 columns</p>\n",
       "</div>"
      ],
      "text/plain": [
       "        labels\n",
       "0         True\n",
       "1         True\n",
       "2         True\n",
       "3         True\n",
       "4         True\n",
       "...        ...\n",
       "670836    True\n",
       "670837    True\n",
       "670838    True\n",
       "670839    True\n",
       "670840    True\n",
       "\n",
       "[670841 rows x 1 columns]"
      ]
     },
     "execution_count": 19,
     "metadata": {},
     "output_type": "execute_result"
    }
   ],
   "source": [
    "y_test_e == y_test"
   ]
  },
  {
   "cell_type": "markdown",
   "id": "149cb329",
   "metadata": {},
   "source": [
    "# 2.0 Standardizing,  Splitting, and Downsampling"
   ]
  },
  {
   "cell_type": "code",
   "execution_count": 20,
   "id": "50f43526",
   "metadata": {
    "ExecuteTime": {
     "end_time": "2022-07-27T09:10:39.468703Z",
     "start_time": "2022-07-27T09:10:39.187609Z"
    }
   },
   "outputs": [
    {
     "name": "stdout",
     "output_type": "stream",
     "text": [
      "Training set has 2245856 rows and 8 columns.\n",
      "Testing set has 670841 rows and 8 columns.\n",
      "Training set has 31888.0 points that belong to postitive class (ransomware) and 2213968.0 points that belong to negative class (white).\n",
      "Percentage of positive class data-points: 1.42%\n"
     ]
    }
   ],
   "source": [
    "print('Training set has {} rows and {} columns.'.format(X_train.shape[0], X_train.shape[1]))\n",
    "print('Testing set has {} rows and {} columns.'.format(X_test.shape[0], X_test.shape[1]))\n",
    "print('Training set has {} points that belong to postitive class (ransomware) and {} points that belong to negative class (white).'.format(\n",
    "    sum(y_train['labels']),\n",
    "    len(y_train['labels']) - sum(y_train['labels'])\n",
    "))\n",
    "print('Percentage of positive class data-points: {:.2f}%'.format((sum(y_train['labels'])/(len(y_train['labels'])) * 100)))"
   ]
  },
  {
   "cell_type": "markdown",
   "id": "079de606",
   "metadata": {},
   "source": [
    "## 2.1 Sampling"
   ]
  },
  {
   "cell_type": "markdown",
   "id": "0fecbc96",
   "metadata": {},
   "source": [
    "### 2.1.0 Downsampling "
   ]
  },
  {
   "cell_type": "code",
   "execution_count": 21,
   "id": "9dd584e2",
   "metadata": {
    "ExecuteTime": {
     "end_time": "2022-07-27T09:10:45.862717Z",
     "start_time": "2022-07-27T09:10:45.842854Z"
    }
   },
   "outputs": [],
   "source": [
    "class Sampler:\n",
    "    \n",
    "    def __init__(self,X):\n",
    "        self.X_df = pd.DataFrame(X)\n",
    "        self.positive_df = pd.DataFrame([], columns = self.X_df.columns)\n",
    "        self.negative_df = pd.DataFrame([], columns = self.X_df.columns)\n",
    "        self.combined_df = pd.DataFrame([], columns = self.X_df.columns) \n",
    "        self.X_train_sm =  pd.DataFrame([], columns = self.X_df.columns)\n",
    "        self.y_train_sm =  pd.DataFrame([], columns = ['lables'])\n",
    "        self.X_train_rus = pd.DataFrame([], columns = self.X_df.columns)\n",
    "        self.y_train_rus =  pd.DataFrame([], columns = ['lables'])\n",
    "\n",
    "        \n",
    "    \n",
    "    def up_samp_smote(self, X_train, y_train, ratio):\n",
    "        \"\"\"Upsamples minority class using SMOTE.\n",
    "        Ratio argument is the percentage of the upsampled minority class in relation\n",
    "        to the majority class. \n",
    "        \"\"\"\n",
    "        sm = SMOTE(random_state=RAND_STATE, sampling_strategy=ratio)\n",
    "        X_train_sm, y_train_sm = sm.fit_resample(X_train, y_train)\n",
    "        #print(len(X_train_sm), len(y_train_sm))\n",
    "        self.X_train_sm, self.y_train_sm = X_train_sm, y_train_sm\n",
    "       \n",
    "    \n",
    "    def down_samp_rand(self, X_train, y_train, ratio):\n",
    "        \"\"\"Downsamples majority class using random sampling.\n",
    "        Ratio argument is the ratio of minority class to the downsampled majority \n",
    "        \"\"\"\n",
    "        rus = RandomUnderSampler(sampling_strategy=ratio,random_state=RAND_STATE) \n",
    "        X_train_rus, y_train_rus = rus.fit_resample(X_train, y_train)\n",
    "        self.X_train_rus, self.y_train_rus = X_train_rus, y_train_rus\n",
    "    \n",
    "    \n",
    "    def down_samp(self, y_train, prob=0.015):\n",
    "        index = 0\n",
    "\n",
    "        for index_df, row in tqdm(self.X_df.iterrows(), total=self.X_df.shape[0]):\n",
    "            if y_train[index] == 0:\n",
    "                if np.random.uniform(0, 1) < prob:\n",
    "                    #picking negative class with a probability=prob\n",
    "                    self.negative_df = self.negative_df.append(row, ignore_index=True)\n",
    "                    index += 1\n",
    "                else:\n",
    "                    index += 1\n",
    "            elif y_train[index] == 1:\n",
    "            #picking all positive data-points\n",
    "                self.positive_df = self.positive_df.append(row, ignore_index=True)\n",
    "                index += 1\n",
    "        self.combined_df = self.positive_df.append(self.negative_df, ignore_index = True)"
   ]
  },
  {
   "cell_type": "markdown",
   "id": "3d825bf4",
   "metadata": {},
   "source": [
    "**e_ds** <n>\n",
    "- Encoded, standard scaled, and normalized data.\n",
    "- Split of X_train_e [standardized, encoded] without column headers."
   ]
  },
  {
   "cell_type": "code",
   "execution_count": 22,
   "id": "654b1c57",
   "metadata": {
    "ExecuteTime": {
     "end_time": "2022-07-27T09:10:48.527793Z",
     "start_time": "2022-07-27T09:10:48.512829Z"
    }
   },
   "outputs": [],
   "source": [
    "e_ds = Sampler(X_train_e_df) # sampler constructor "
   ]
  },
  {
   "cell_type": "code",
   "execution_count": 23,
   "id": "4f0fe573",
   "metadata": {
    "ExecuteTime": {
     "end_time": "2022-07-27T09:10:50.376696Z",
     "start_time": "2022-07-27T09:10:49.883366Z"
    }
   },
   "outputs": [],
   "source": [
    "e_ds.down_samp_rand(X_train_e, y_train_e['labels'], 0.05) # downsample using random resampling"
   ]
  },
  {
   "cell_type": "code",
   "execution_count": 24,
   "id": "5d9caab1",
   "metadata": {
    "ExecuteTime": {
     "end_time": "2022-07-27T09:10:52.845451Z",
     "start_time": "2022-07-27T09:10:52.167078Z"
    }
   },
   "outputs": [],
   "source": [
    "e_ds.up_samp_smote(e_ds.X_train_rus, e_ds.y_train_rus, 0.25) # upsampling using SMOTE"
   ]
  },
  {
   "cell_type": "code",
   "execution_count": 25,
   "id": "3dfff3ae",
   "metadata": {
    "ExecuteTime": {
     "end_time": "2022-07-27T09:10:53.159296Z",
     "start_time": "2022-07-27T09:10:53.135799Z"
    }
   },
   "outputs": [
    {
     "data": {
      "text/plain": [
       "labels\n",
       "0.0       2213968\n",
       "1.0         31888\n",
       "dtype: int64"
      ]
     },
     "execution_count": 25,
     "metadata": {},
     "output_type": "execute_result"
    }
   ],
   "source": [
    "y_train.value_counts()"
   ]
  },
  {
   "cell_type": "code",
   "execution_count": 26,
   "id": "2d19eca5",
   "metadata": {
    "ExecuteTime": {
     "end_time": "2022-07-27T09:10:53.902602Z",
     "start_time": "2022-07-27T09:10:53.886198Z"
    }
   },
   "outputs": [
    {
     "data": {
      "text/plain": [
       "0.0    637760\n",
       "1.0    159440\n",
       "Name: labels, dtype: int64"
      ]
     },
     "execution_count": 26,
     "metadata": {},
     "output_type": "execute_result"
    }
   ],
   "source": [
    "e_ds.y_train_sm.value_counts()"
   ]
  },
  {
   "cell_type": "code",
   "execution_count": 27,
   "id": "9746eb51",
   "metadata": {
    "ExecuteTime": {
     "end_time": "2022-07-27T09:10:55.713597Z",
     "start_time": "2022-07-27T09:10:55.696322Z"
    }
   },
   "outputs": [
    {
     "data": {
      "text/plain": [
       "0.0    0.8\n",
       "1.0    0.2\n",
       "Name: labels, dtype: float64"
      ]
     },
     "execution_count": 27,
     "metadata": {},
     "output_type": "execute_result"
    }
   ],
   "source": [
    "e_ds.y_train_sm.value_counts(normalize=True)"
   ]
  },
  {
   "cell_type": "code",
   "execution_count": 272,
   "id": "542e528f",
   "metadata": {
    "ExecuteTime": {
     "end_time": "2022-07-27T07:35:01.222840Z",
     "start_time": "2022-07-27T07:25:30.594969Z"
    },
    "run_control": {
     "marked": true
    }
   },
   "outputs": [
    {
     "data": {
      "application/vnd.jupyter.widget-view+json": {
       "model_id": "f5a633751db34eeb80e5c01cde770564",
       "version_major": 2,
       "version_minor": 0
      },
      "text/plain": [
       "  0%|          | 0/2245856 [00:00<?, ?it/s]"
      ]
     },
     "metadata": {},
     "output_type": "display_data"
    }
   ],
   "source": [
    "e_ds.down_samp(y_train['labels']) # down sampling"
   ]
  },
  {
   "cell_type": "code",
   "execution_count": 273,
   "id": "e1801d9c",
   "metadata": {
    "ExecuteTime": {
     "end_time": "2022-07-27T07:35:03.154902Z",
     "start_time": "2022-07-27T07:35:03.140137Z"
    }
   },
   "outputs": [],
   "source": [
    "# make new data frames for positive and negative down sampled encoded data\n",
    "combined_X_e_df = e_ds.combined_df\n",
    "combined_X_e = combined_X_e_df.to_numpy()\n",
    "combined_labels = np.append([1] * e_ds.positive_df.shape[0], \n",
    "                            [0] * e_ds.negative_df.shape[0])"
   ]
  },
  {
   "cell_type": "markdown",
   "id": "debba3f3",
   "metadata": {},
   "source": [
    "**ss_ds** <n>\n",
    "- standard scaled and normalized for distance modeling.\n",
    "- Split of X_train_ss [standardized, encoded] without column headers."
   ]
  },
  {
   "cell_type": "code",
   "execution_count": null,
   "id": "564d0bde",
   "metadata": {
    "ExecuteTime": {
     "end_time": "2022-07-26T10:16:46.354029Z",
     "start_time": "2022-07-26T10:16:46.354023Z"
    }
   },
   "outputs": [],
   "source": [
    "#d_ds = Sampler(X_train_d) # sampler constructor \n",
    "#d_ds.up_samp_smote(y_train['labels'], .75) # upsampling using SMOTE\n",
    "#d_ds.down_samp(d_ds.y_train_sm) # down sampling\n",
    "\n",
    "\n",
    "#combined_X_d_df = d_ds.combined_df\n",
    "#combined_X_d = combined_X_d_df.to_numpy()\n",
    "\n",
    "#combined_y_d = np.append(\n",
    "#    [1] * d_ds.positive_df.shape[0], \n",
    "#    [0] * d_ds.negative_df.shape[0]\n",
    "#)"
   ]
  },
  {
   "cell_type": "markdown",
   "id": "871d9966",
   "metadata": {},
   "source": [
    "**class ns_ds** <n>\n",
    "- for plotting and tree modeling.\n",
    "- Split of X_train [non-standardized, non-encoded]."
   ]
  },
  {
   "cell_type": "code",
   "execution_count": null,
   "id": "5d10eea2",
   "metadata": {
    "ExecuteTime": {
     "end_time": "2022-07-26T10:16:46.354681Z",
     "start_time": "2022-07-26T10:16:46.354675Z"
    }
   },
   "outputs": [],
   "source": [
    "#n_ds = Sampler(X_train_ns) # sampler constructor \n",
    "#n_ds.up_samp_smote(y_train['labels'], .75) # upsampling using SMOTE\n",
    "#n_ds.down_samp(n_ds.y_train_sm) # down sampling\n",
    "\n",
    "#combined_X_ns_df = n_ds.combined_df\n",
    "#combined_X_ns = combined_X_ns_df.to_numpy()\n",
    "#combined_y_ns = np.append([1] * n_ds.positive_df.shape[0], \n",
    "#                            [0] * n_ds.negative_df.shape[0])"
   ]
  },
  {
   "cell_type": "markdown",
   "id": "e4b90f65",
   "metadata": {},
   "source": [
    "## 2.2 Visualization and EDA"
   ]
  },
  {
   "cell_type": "markdown",
   "id": "196ad22e",
   "metadata": {},
   "source": [
    "### 2.2.0 Univariate"
   ]
  },
  {
   "cell_type": "code",
   "execution_count": 274,
   "id": "50d2c353",
   "metadata": {
    "ExecuteTime": {
     "end_time": "2022-07-27T07:35:04.989210Z",
     "start_time": "2022-07-27T07:35:04.987263Z"
    }
   },
   "outputs": [],
   "source": [
    "def pdf_plot_compare(ft_name):\n",
    "    sns.distplot(e_ds.negative_df[ft_name], label = 'White')\n",
    "    sns.distplot(e_ds.positive_df[ft_name], label = 'Ransomware')\n",
    "    plt.legend()\n",
    "    plt.title('distribution of ' + ft_name )\n",
    "    plt.show()"
   ]
  },
  {
   "cell_type": "code",
   "execution_count": 275,
   "id": "988ddcad",
   "metadata": {
    "ExecuteTime": {
     "end_time": "2022-07-27T07:35:06.834808Z",
     "start_time": "2022-07-27T07:35:06.833355Z"
    }
   },
   "outputs": [],
   "source": [
    "cols_new = X_train_e_df.columns\n",
    "cols_new=cols_new[:-7]"
   ]
  },
  {
   "cell_type": "code",
   "execution_count": 276,
   "id": "f17965e2",
   "metadata": {
    "ExecuteTime": {
     "end_time": "2022-07-27T07:35:11.179441Z",
     "start_time": "2022-07-27T07:35:08.677597Z"
    }
   },
   "outputs": [
    {
     "data": {
      "image/png": "[encoded data removed]",
      "text/plain": [
       "<Figure size 432x288 with 1 Axes>"
      ]
     },
     "metadata": {
      "needs_background": "light"
     },
     "output_type": "display_data"
    },
    {
     "data": {
      "image/png": "[encoded data removed]",
      "text/plain": [
       "<Figure size 432x288 with 1 Axes>"
      ]
     },
     "metadata": {
      "needs_background": "light"
     },
     "output_type": "display_data"
    },
    {
     "data": {
      "image/png": "[encoded data removed]",
      "text/plain": [
       "<Figure size 432x288 with 1 Axes>"
      ]
     },
     "metadata": {
      "needs_background": "light"
     },
     "output_type": "display_data"
    },
    {
     "data": {
      "image/png": "[encoded data removed]",
      "text/plain": [
       "<Figure size 432x288 with 1 Axes>"
      ]
     },
     "metadata": {
      "needs_background": "light"
     },
     "output_type": "display_data"
    },
    {
     "data": {
      "image/png": "[encoded data removed]",
      "text/plain": [
       "<Figure size 432x288 with 1 Axes>"
      ]
     },
     "metadata": {
      "needs_background": "light"
     },
     "output_type": "display_data"
    },
    {
     "data": {
      "image/png": "[encoded data removed]",
      "text/plain": [
       "<Figure size 432x288 with 1 Axes>"
      ]
     },
     "metadata": {
      "needs_background": "light"
     },
     "output_type": "display_data"
    },
    {
     "data": {
      "image/png": "[encoded data removed]",
      "text/plain": [
       "<Figure size 432x288 with 1 Axes>"
      ]
     },
     "metadata": {
      "needs_background": "light"
     },
     "output_type": "display_data"
    },
    {
     "data": {
      "image/png": "[encoded data removed]",
      "text/plain": [
       "<Figure size 432x288 with 1 Axes>"
      ]
     },
     "metadata": {
      "needs_background": "light"
     },
     "output_type": "display_data"
    },
    {
     "data": {
      "image/png": "[encoded data removed]",
      "text/plain": [
       "<Figure size 432x288 with 1 Axes>"
      ]
     },
     "metadata": {
      "needs_background": "light"
     },
     "output_type": "display_data"
    },
    {
     "data": {
      "image/png": "[encoded data removed]",
      "text/plain": [
       "<Figure size 432x288 with 1 Axes>"
      ]
     },
     "metadata": {
      "needs_background": "light"
     },
     "output_type": "display_data"
    },
    {
     "data": {
      "image/png": "[encoded data removed]",
      "text/plain": [
       "<Figure size 432x288 with 1 Axes>"
      ]
     },
     "metadata": {
      "needs_background": "light"
     },
     "output_type": "display_data"
    },
    {
     "data": {
      "image/png": "[encoded data removed]",
      "text/plain": [
       "<Figure size 432x288 with 1 Axes>"
      ]
     },
     "metadata": {
      "needs_background": "light"
     },
     "output_type": "display_data"
    },
    {
     "data": {
      "image/png": "[encoded data removed]",
      "text/plain": [
       "<Figure size 432x288 with 1 Axes>"
      ]
     },
     "metadata": {
      "needs_background": "light"
     },
     "output_type": "display_data"
    },
    {
     "data": {
      "image/png": "[encoded data removed]",
      "text/plain": [
       "<Figure size 432x288 with 1 Axes>"
      ]
     },
     "metadata": {
      "needs_background": "light"
     },
     "output_type": "display_data"
    }
   ],
   "source": [
    "for fts in cols_new:\n",
    "        pdf_plot_compare(fts)"
   ]
  },
  {
   "cell_type": "markdown",
   "id": "12278a27",
   "metadata": {},
   "source": [
    "### 2.2.1 Multivariate"
   ]
  },
  {
   "cell_type": "markdown",
   "id": "ff5c61a9",
   "metadata": {},
   "source": [
    "Correlation matrix"
   ]
  },
  {
   "cell_type": "code",
   "execution_count": 29,
   "id": "ab2ee203",
   "metadata": {
    "ExecuteTime": {
     "end_time": "2022-07-27T09:11:18.715998Z",
     "start_time": "2022-07-27T09:11:16.511203Z"
    }
   },
   "outputs": [
    {
     "data": {
      "text/plain": [
       "['count', 'neighbors', 'sig_looped', 'log_count']"
      ]
     },
     "execution_count": 29,
     "metadata": {},
     "output_type": "execute_result"
    }
   ],
   "source": [
    "n_corr = X_train_e_df.corr()\n",
    "corr_abs  = n_corr.abs()\n",
    "upper_triangle =corr_abs.where(np.triu(np.ones(corr_abs.shape),k=1).astype(bool))\n",
    "[column for column in upper_triangle.columns if any(upper_triangle[column] > 0.89)]"
   ]
  },
  {
   "cell_type": "code",
   "execution_count": 30,
   "id": "127dd7d2",
   "metadata": {
    "ExecuteTime": {
     "end_time": "2022-07-27T09:11:19.424205Z",
     "start_time": "2022-07-27T09:11:19.009186Z"
    }
   },
   "outputs": [
    {
     "data": {
      "image/png": "[encoded data removed]",
      "text/plain": [
       "<Figure size 1368x1152 with 2 Axes>"
      ]
     },
     "metadata": {
      "needs_background": "light"
     },
     "output_type": "display_data"
    }
   ],
   "source": [
    "mask = np.zeros_like(n_corr)\n",
    "mask[np.triu_indices_from(mask)] = True\n",
    "with sns.axes_style(\"white\"):\n",
    "    f, ax = plt.subplots(figsize=(19, 16))\n",
    "    ax = sns.heatmap(n_corr, mask=mask,cmap='coolwarm', vmin=-1,vmax=1,annot=True, square=True)"
   ]
  },
  {
   "cell_type": "markdown",
   "id": "ce45a09b",
   "metadata": {},
   "source": [
    "Remove highly correlated column"
   ]
  },
  {
   "cell_type": "code",
   "execution_count": 43,
   "id": "c546b234",
   "metadata": {
    "ExecuteTime": {
     "end_time": "2022-07-27T10:01:02.280586Z",
     "start_time": "2022-07-27T10:01:02.255721Z"
    }
   },
   "outputs": [
    {
     "ename": "ValueError",
     "evalue": "'log_count' is not in list",
     "output_type": "error",
     "traceback": [
      "\u001b[0;31m---------------------------------------------------------------------------\u001b[0m",
      "\u001b[0;31mValueError\u001b[0m                                Traceback (most recent call last)",
      "Input \u001b[0;32mIn [43]\u001b[0m, in \u001b[0;36m<cell line: 3>\u001b[0;34m()\u001b[0m\n\u001b[1;32m      1\u001b[0m \u001b[38;5;66;03m# drop highly correlated column\u001b[39;00m\n\u001b[1;32m      2\u001b[0m \u001b[38;5;66;03m#\u001b[39;00m\n\u001b[0;32m----> 3\u001b[0m colnames \u001b[38;5;241m=\u001b[39m \u001b[38;5;28mlist\u001b[39m(np\u001b[38;5;241m.\u001b[39mdelete(colnames,\u001b[43mcolnames\u001b[49m\u001b[38;5;241;43m.\u001b[39;49m\u001b[43mindex\u001b[49m\u001b[43m(\u001b[49m\u001b[38;5;124;43m'\u001b[39;49m\u001b[38;5;124;43mlog_count\u001b[39;49m\u001b[38;5;124;43m'\u001b[39;49m\u001b[43m)\u001b[49m))\n\u001b[1;32m      5\u001b[0m combined_X_e_df\u001b[38;5;241m.\u001b[39mdrop(columns\u001b[38;5;241m=\u001b[39m[\u001b[38;5;124m'\u001b[39m\u001b[38;5;124mlog_count\u001b[39m\u001b[38;5;124m'\u001b[39m],inplace\u001b[38;5;241m=\u001b[39m\u001b[38;5;28;01mTrue\u001b[39;00m)\n\u001b[1;32m      6\u001b[0m X_train_e_df\u001b[38;5;241m.\u001b[39mdrop(columns\u001b[38;5;241m=\u001b[39m[\u001b[38;5;124m'\u001b[39m\u001b[38;5;124mlog_count\u001b[39m\u001b[38;5;124m'\u001b[39m],inplace\u001b[38;5;241m=\u001b[39m\u001b[38;5;28;01mTrue\u001b[39;00m)\n",
      "\u001b[0;31mValueError\u001b[0m: 'log_count' is not in list"
     ]
    }
   ],
   "source": [
    "# drop highly correlated column\n",
    "#\n",
    "colnames = list(np.delete(colnames,colnames.index('log_count')))\n",
    "\n",
    "drop_log_cnt = lambda x: x.drop(columns=['log_count'],inplace=True)\n",
    "\n",
    "combined_X_e_df.drop(columns=['log_count'],inplace=True)\n",
    "X_train_e_df.drop(columns=['log_count'],inplace=True)\n",
    "X_test_e_df.drop(columns=['log_count'],inplace=True)\n",
    "#\n",
    "# convert to numpy again\n",
    "#\n",
    "X_train_e = X_train_e_df.to_numpy()\n",
    "X_test_e = X_test_e_df.to_numpy()\n",
    "combined_X_e = combined_X_e_df.to_numpy()"
   ]
  },
  {
   "cell_type": "markdown",
   "id": "232cf759",
   "metadata": {},
   "source": [
    "# 3.0 Modeling"
   ]
  },
  {
   "cell_type": "code",
   "execution_count": 32,
   "id": "e5adcebf",
   "metadata": {
    "ExecuteTime": {
     "end_time": "2022-07-27T09:11:26.172380Z",
     "start_time": "2022-07-27T09:11:26.164773Z"
    }
   },
   "outputs": [],
   "source": [
    "def plot_roc(model,X,y,plot_title):\n",
    "    plot_roc_curve(model,X,y)\n",
    "    plt.title(plot_title)\n",
    "    plt.plot(np.arange(0, 1.1, 0.1), np.arange(0, 1.1, 0.1), label='RandomModel (AUC = 0.50)')\n",
    "    plt.legend()\n",
    "    plt.show()\n",
    "    \n",
    "def tabulate_scores_df(model_name, y_test, y_pred):\n",
    " \n",
    "    df2 = pd.DataFrame([[\n",
    "        model_name,\n",
    "        accuracy_score(y_true = y_test, y_pred = y_pred),\n",
    "        precision_score(y_true = y_test, y_pred = y_pred),\n",
    "        recall_score(y_true = y_test, y_pred = y_pred),\n",
    "        f1_score(y_true = y_test, y_pred = y_pred)]],\n",
    "        columns = ['Model Name','Accuracy','Precision','Recall','F1-Score'])\n",
    "\n",
    "    return df2\n",
    "    "
   ]
  },
  {
   "cell_type": "markdown",
   "id": "b2046863",
   "metadata": {},
   "source": [
    "Test/train split of (down) sampled 50/50 data "
   ]
  },
  {
   "cell_type": "code",
   "execution_count": 33,
   "id": "d8e5d36e",
   "metadata": {
    "ExecuteTime": {
     "end_time": "2022-07-27T09:11:28.911795Z",
     "start_time": "2022-07-27T09:11:28.885786Z"
    }
   },
   "outputs": [
    {
     "ename": "NameError",
     "evalue": "name 'combined_X_e_df' is not defined",
     "output_type": "error",
     "traceback": [
      "\u001b[0;31m---------------------------------------------------------------------------\u001b[0m",
      "\u001b[0;31mNameError\u001b[0m                                 Traceback (most recent call last)",
      "Input \u001b[0;32mIn [33]\u001b[0m, in \u001b[0;36m<cell line: 2>\u001b[0;34m()\u001b[0m\n\u001b[1;32m      1\u001b[0m \u001b[38;5;66;03m# Generate a mini (balanced) data-set for hyper-parameter tuning\u001b[39;00m\n\u001b[1;32m      2\u001b[0m combined_X_train, combined_X_test, combined_y_train, combined_y_test \u001b[38;5;241m=\u001b[39m train_test_split(\n\u001b[0;32m----> 3\u001b[0m     \u001b[43mcombined_X_e_df\u001b[49m,   \u001b[38;5;66;03m# standardard X with  1 = pos/neg class ratio\u001b[39;00m\n\u001b[1;32m      4\u001b[0m     combined_labels, \u001b[38;5;66;03m# y \u001b[39;00m\n\u001b[1;32m      5\u001b[0m     test_size \u001b[38;5;241m=\u001b[39m SPLIT_RATIO,  \n\u001b[1;32m      6\u001b[0m     shuffle \u001b[38;5;241m=\u001b[39m \u001b[38;5;28;01mTrue\u001b[39;00m,\n\u001b[1;32m      7\u001b[0m     random_state \u001b[38;5;241m=\u001b[39m RAND_STATE\n\u001b[1;32m      8\u001b[0m )\n",
      "\u001b[0;31mNameError\u001b[0m: name 'combined_X_e_df' is not defined"
     ]
    }
   ],
   "source": [
    "# Generate a mini (balanced) data-set for hyper-parameter tuning\n",
    "combined_X_train, combined_X_test, combined_y_train, combined_y_test = train_test_split(\n",
    "    combined_X_e_df,   # standardard X with  1 = pos/neg class ratio\n",
    "    combined_labels, # y \n",
    "    test_size = SPLIT_RATIO,  \n",
    "    shuffle = True,\n",
    "    random_state = RAND_STATE\n",
    ")"
   ]
  },
  {
   "cell_type": "code",
   "execution_count": 34,
   "id": "9922a35c",
   "metadata": {
    "ExecuteTime": {
     "end_time": "2022-07-27T09:11:31.396967Z",
     "start_time": "2022-07-27T09:11:31.389270Z"
    }
   },
   "outputs": [],
   "source": [
    "score_names = ['Model Name','Accuracy','Precision','Recall','F1-Score']\n",
    "scores_df = pd.DataFrame([], columns = score_names)"
   ]
  },
  {
   "cell_type": "markdown",
   "id": "943c5898",
   "metadata": {},
   "source": [
    "## 3.1 Stochastic Gradient Descent "
   ]
  },
  {
   "cell_type": "markdown",
   "id": "fad40405",
   "metadata": {},
   "source": [
    "* Models based on the relative spatial distribution of data in the observation space. For these models, the training data must be transformed to zero mean unit variance."
   ]
  },
  {
   "cell_type": "markdown",
   "id": "9e2ea2d9",
   "metadata": {},
   "source": [
    "### 3.1.0 SGD Classification"
   ]
  },
  {
   "cell_type": "markdown",
   "id": "ded3aa52",
   "metadata": {},
   "source": [
    "#### 3.1.0.1 Optimization parameters"
   ]
  },
  {
   "cell_type": "code",
   "execution_count": 177,
   "id": "adc08b6a",
   "metadata": {
    "ExecuteTime": {
     "end_time": "2022-07-27T13:27:41.667350Z",
     "start_time": "2022-07-27T13:27:41.661888Z"
    }
   },
   "outputs": [],
   "source": [
    "# Stochastic Gradient Descent classifier \n",
    "from sklearn.linear_model import SGDClassifier"
   ]
  },
  {
   "cell_type": "code",
   "execution_count": 178,
   "id": "3ab59ca5",
   "metadata": {
    "ExecuteTime": {
     "end_time": "2022-07-27T13:27:42.256528Z",
     "start_time": "2022-07-27T13:27:42.246407Z"
    }
   },
   "outputs": [],
   "source": [
    "# model is stochastic gradient descent classifier\n",
    "sgd_cl = SGDClassifier(random_state = RAND_STATE, max_iter=3000, learning_rate='optimal')\n",
    "\n",
    "# parameter search\n",
    "sgd_params_in = {\n",
    "    \"loss\" : [ \"log_loss\", \"perceptron\"],\n",
    "    \"alpha\" : [0.0001, 0.001, 0.01, 0.1],\n",
    "    \"penalty\" : [\"l2\", \"l1\", \"elasticnet\"],\n",
    "    \"class_weight\" : ['balanced', None]\n",
    "}\n",
    "\n",
    "sgd_hyperparams = RandomizedSearchCV(\n",
    "    estimator = sgd_cl,\n",
    "    param_distributions = sgd_params_in,\n",
    "    scoring = 'recall',\n",
    "    n_jobs = -1,\n",
    "    verbose = 1,\n",
    "    random_state = RAND_STATE,\n",
    "    return_train_score = True,\n",
    "    n_iter = 5,\n",
    ")"
   ]
  },
  {
   "cell_type": "markdown",
   "id": "e1944d9c",
   "metadata": {},
   "source": [
    "#### 3.1.0.2 Modeling with unbalanced sampled data "
   ]
  },
  {
   "cell_type": "code",
   "execution_count": 179,
   "id": "30797d94",
   "metadata": {
    "ExecuteTime": {
     "end_time": "2022-07-27T13:27:54.479311Z",
     "start_time": "2022-07-27T13:27:44.580601Z"
    }
   },
   "outputs": [
    {
     "name": "stdout",
     "output_type": "stream",
     "text": [
      "Fitting 5 folds for each of 5 candidates, totalling 25 fits\n"
     ]
    }
   ],
   "source": [
    "# fit the parameters to the encoded data (not downsampled)\n",
    "sgd_hyperparams.fit(e_ds.X_train_sm, e_ds.y_train_sm)\n",
    "# get the fitted modeling parameters\n",
    "sgd_bps = sgd_hyperparams.best_params_\n",
    "# fit with optimized parameters\n",
    "sgd_opt = SGDClassifier(**sgd_bps, n_jobs = -1, random_state = RAND_STATE)\n",
    "\n",
    "# fit \n",
    "sgd_opt.fit(e_ds.X_train_sm, e_ds.y_train_sm)\n",
    "# make predicition\n",
    "sgd_opt_preds = sgd_opt.predict(e_ds.X_train_sm)"
   ]
  },
  {
   "cell_type": "code",
   "execution_count": 180,
   "id": "ca90c366",
   "metadata": {
    "ExecuteTime": {
     "end_time": "2022-07-27T13:27:54.770181Z",
     "start_time": "2022-07-27T13:27:54.716367Z"
    }
   },
   "outputs": [],
   "source": [
    "sgd_opt_preds_train = sgd_opt.predict(X_train_e)  \n",
    "sgd_opt_preds_test = sgd_opt.predict(X_test_e)  "
   ]
  },
  {
   "cell_type": "code",
   "execution_count": 181,
   "id": "e71b40be",
   "metadata": {
    "ExecuteTime": {
     "end_time": "2022-07-27T13:27:58.973125Z",
     "start_time": "2022-07-27T13:27:54.963896Z"
    },
    "scrolled": true
   },
   "outputs": [],
   "source": [
    "sgd_trn_score_df = tabulate_scores_df('SGD_trn', y_train_e, sgd_opt_preds_train )\n",
    "sgd_tst_score_df = tabulate_scores_df('SGD_tst', y_test_e, sgd_opt_preds_test)\n",
    "sgd_scores_df = sgd_trn_score_df.append(sgd_tst_score_df)\n"
   ]
  },
  {
   "cell_type": "code",
   "execution_count": 182,
   "id": "4c425ff7",
   "metadata": {
    "ExecuteTime": {
     "end_time": "2022-07-27T13:27:59.166302Z",
     "start_time": "2022-07-27T13:27:59.162957Z"
    }
   },
   "outputs": [
    {
     "data": {
      "text/html": [
       "<div>\n",
       "<style scoped>\n",
       "    .dataframe tbody tr th:only-of-type {\n",
       "        vertical-align: middle;\n",
       "    }\n",
       "\n",
       "    .dataframe tbody tr th {\n",
       "        vertical-align: top;\n",
       "    }\n",
       "\n",
       "    .dataframe thead th {\n",
       "        text-align: right;\n",
       "    }\n",
       "</style>\n",
       "<table border=\"1\" class=\"dataframe\">\n",
       "  <thead>\n",
       "    <tr style=\"text-align: right;\">\n",
       "      <th></th>\n",
       "      <th>Model Name</th>\n",
       "      <th>Accuracy</th>\n",
       "      <th>Precision</th>\n",
       "      <th>Recall</th>\n",
       "      <th>F1-Score</th>\n",
       "    </tr>\n",
       "  </thead>\n",
       "  <tbody>\n",
       "    <tr>\n",
       "      <th>0</th>\n",
       "      <td>SGD_trn</td>\n",
       "      <td>0.676956</td>\n",
       "      <td>0.025152</td>\n",
       "      <td>0.576079</td>\n",
       "      <td>0.048199</td>\n",
       "    </tr>\n",
       "    <tr>\n",
       "      <th>0</th>\n",
       "      <td>SGD_tst</td>\n",
       "      <td>0.683702</td>\n",
       "      <td>0.025466</td>\n",
       "      <td>0.570919</td>\n",
       "      <td>0.048758</td>\n",
       "    </tr>\n",
       "  </tbody>\n",
       "</table>\n",
       "</div>"
      ],
      "text/plain": [
       "  Model Name  Accuracy  Precision    Recall  F1-Score\n",
       "0    SGD_trn  0.676956   0.025152  0.576079  0.048199\n",
       "0    SGD_tst  0.683702   0.025466  0.570919  0.048758"
      ]
     },
     "execution_count": 182,
     "metadata": {},
     "output_type": "execute_result"
    }
   ],
   "source": [
    "sgd_scores_df"
   ]
  },
  {
   "cell_type": "code",
   "execution_count": 183,
   "id": "021dd503",
   "metadata": {
    "ExecuteTime": {
     "end_time": "2022-07-27T13:29:10.794447Z",
     "start_time": "2022-07-27T13:29:10.773842Z"
    }
   },
   "outputs": [],
   "source": [
    "scores_df = scores_df.append(sgd_scores_df)\n",
    "scores_df.reset_index(drop=True,inplace=True)"
   ]
  },
  {
   "cell_type": "code",
   "execution_count": 356,
   "id": "454eeb19",
   "metadata": {
    "ExecuteTime": {
     "end_time": "2022-07-27T07:57:34.800497Z",
     "start_time": "2022-07-27T07:57:34.585400Z"
    }
   },
   "outputs": [
    {
     "data": {
      "image/png": "[encoded data removed]",
      "text/plain": [
       "<Figure size 432x288 with 1 Axes>"
      ]
     },
     "metadata": {
      "needs_background": "light"
     },
     "output_type": "display_data"
    }
   ],
   "source": [
    "plot_roc(sgd_opt,X_test_e,y_test_e['labels'], 'ROC Curve for SGD')"
   ]
  },
  {
   "cell_type": "markdown",
   "id": "5af4cebb",
   "metadata": {
    "heading_collapsed": true
   },
   "source": [
    "#### 3.1.0.3 Modeling  balanced sampled data"
   ]
  },
  {
   "cell_type": "code",
   "execution_count": 235,
   "id": "52dbde93",
   "metadata": {
    "ExecuteTime": {
     "end_time": "2022-07-26T22:50:27.802262Z",
     "start_time": "2022-07-26T22:50:24.405356Z"
    },
    "hidden": true
   },
   "outputs": [
    {
     "name": "stdout",
     "output_type": "stream",
     "text": [
      "Fitting 5 folds for each of 5 candidates, totalling 25 fits\n"
     ]
    }
   ],
   "source": [
    "sgd_hyperparams_down = sgd_hyperparams.fit(combined_X_train, combined_y_train)"
   ]
  },
  {
   "cell_type": "code",
   "execution_count": 236,
   "id": "5118759c",
   "metadata": {
    "ExecuteTime": {
     "end_time": "2022-07-26T22:50:29.702794Z",
     "start_time": "2022-07-26T22:50:29.700633Z"
    },
    "hidden": true
   },
   "outputs": [
    {
     "data": {
      "text/plain": [
       "True"
      ]
     },
     "execution_count": 236,
     "metadata": {},
     "output_type": "execute_result"
    }
   ],
   "source": [
    "len(combined_X_test.columns) == len(combined_X_train.columns)"
   ]
  },
  {
   "cell_type": "code",
   "execution_count": 237,
   "id": "a1242ca5",
   "metadata": {
    "ExecuteTime": {
     "end_time": "2022-07-26T22:50:31.693249Z",
     "start_time": "2022-07-26T22:50:31.568385Z"
    },
    "hidden": true
   },
   "outputs": [],
   "source": [
    "# get the fitted modeling parameters\n",
    "sgd_down_bps = sgd_hyperparams_down.best_params_\n",
    "#  model with optimized parameters\n",
    "sgd_opt_down = SGDClassifier(**sgd_down_bps,n_jobs = -1, random_state = RAND_STATE)\n",
    "# fit the downsampled data\n",
    "sgd_opt_down.fit(combined_X_train, combined_y_train)\n",
    "# prediction for down sampled data\n",
    "sgd_opt_down_preds = sgd_opt_down.predict(combined_X_test) \n",
    "# prediction based on full data with params tuned from downsampled data\n",
    "sgd_opt_preds_test = sgd_opt_down.predict(X_test_e)  \n"
   ]
  },
  {
   "cell_type": "code",
   "execution_count": null,
   "id": "ce9774db",
   "metadata": {
    "ExecuteTime": {
     "end_time": "2022-07-26T17:08:54.405055Z",
     "start_time": "2022-07-26T17:08:54.348756Z"
    },
    "hidden": true
   },
   "outputs": [],
   "source": []
  },
  {
   "cell_type": "code",
   "execution_count": 238,
   "id": "bf92515a",
   "metadata": {
    "ExecuteTime": {
     "end_time": "2022-07-26T22:50:34.447370Z",
     "start_time": "2022-07-26T22:50:33.755294Z"
    },
    "hidden": true
   },
   "outputs": [
    {
     "data": {
      "text/html": [
       "<div>\n",
       "<style scoped>\n",
       "    .dataframe tbody tr th:only-of-type {\n",
       "        vertical-align: middle;\n",
       "    }\n",
       "\n",
       "    .dataframe tbody tr th {\n",
       "        vertical-align: top;\n",
       "    }\n",
       "\n",
       "    .dataframe thead th {\n",
       "        text-align: right;\n",
       "    }\n",
       "</style>\n",
       "<table border=\"1\" class=\"dataframe\">\n",
       "  <thead>\n",
       "    <tr style=\"text-align: right;\">\n",
       "      <th></th>\n",
       "      <th>Model Name</th>\n",
       "      <th>Accuracy</th>\n",
       "      <th>F1-Score</th>\n",
       "      <th>Precision</th>\n",
       "      <th>Recall</th>\n",
       "    </tr>\n",
       "  </thead>\n",
       "  <tbody>\n",
       "    <tr>\n",
       "      <th>0</th>\n",
       "      <td>SGD_0</td>\n",
       "      <td>0.711052</td>\n",
       "      <td>0.470674</td>\n",
       "      <td>0.338769</td>\n",
       "      <td>0.770791</td>\n",
       "    </tr>\n",
       "    <tr>\n",
       "      <th>1</th>\n",
       "      <td>SGD_1</td>\n",
       "      <td>0.947025</td>\n",
       "      <td>0.187443</td>\n",
       "      <td>0.119815</td>\n",
       "      <td>0.430341</td>\n",
       "    </tr>\n",
       "  </tbody>\n",
       "</table>\n",
       "</div>"
      ],
      "text/plain": [
       "  Model Name  Accuracy  F1-Score  Precision    Recall\n",
       "0      SGD_0  0.711052  0.470674   0.338769  0.770791\n",
       "1      SGD_1  0.947025  0.187443   0.119815  0.430341"
      ]
     },
     "execution_count": 238,
     "metadata": {},
     "output_type": "execute_result"
    }
   ],
   "source": [
    "sgd1_score_df = tabulate_scores_df('SGD_down', combined_y_test, sgd_opt_down_preds)\n",
    "sgd2_score_df = tabulate_scores_df('SGD_1', y_test, sgd_opt_preds_test)\n",
    "scores_df = sgd0_score_df.append(sgd2_score_df) #.append(sgd2_score_df)\n",
    "scores_df.reset_index(drop=True,inplace=True)\n",
    "scores_df"
   ]
  },
  {
   "cell_type": "code",
   "execution_count": 234,
   "id": "41b327d1",
   "metadata": {
    "ExecuteTime": {
     "end_time": "2022-07-26T22:50:12.205080Z",
     "start_time": "2022-07-26T22:50:12.095876Z"
    },
    "hidden": true
   },
   "outputs": [
    {
     "data": {
      "image/png": "[encoded data removed]",
      "text/plain": [
       "<Figure size 432x288 with 1 Axes>"
      ]
     },
     "metadata": {
      "needs_background": "light"
     },
     "output_type": "display_data"
    }
   ],
   "source": [
    "plot_roc(sgd_opt_down,combined_X_test,combined_y_test, 'ROC Curve for SGD_1 (sampled)')"
   ]
  },
  {
   "cell_type": "code",
   "execution_count": 59,
   "id": "602e2a80",
   "metadata": {
    "ExecuteTime": {
     "end_time": "2022-07-26T14:09:00.950788Z",
     "start_time": "2022-07-26T14:09:00.738917Z"
    },
    "hidden": true
   },
   "outputs": [
    {
     "data": {
      "image/png": "[encoded data removed]",
      "text/plain": [
       "<Figure size 432x288 with 1 Axes>"
      ]
     },
     "metadata": {
      "needs_background": "light"
     },
     "output_type": "display_data"
    }
   ],
   "source": [
    "plot_roc(sgd_opt_down, X_test_e,y_test_e, 'ROC Curve for SGD_2')"
   ]
  },
  {
   "cell_type": "code",
   "execution_count": 45,
   "id": "21120b47",
   "metadata": {
    "ExecuteTime": {
     "end_time": "2022-07-26T14:02:25.964715Z",
     "start_time": "2022-07-26T14:02:25.775551Z"
    },
    "hidden": true
   },
   "outputs": [
    {
     "data": {
      "image/png": "[encoded data removed]",
      "text/plain": [
       "<Figure size 1008x576 with 4 Axes>"
      ]
     },
     "metadata": {
      "needs_background": "light"
     },
     "output_type": "display_data"
    }
   ],
   "source": [
    "# plot confusion matrix\n",
    "fig, ax = plt.subplots(1,2, figsize=(14,8))\n",
    "\n",
    "plot_confusion_matrix(sgd_opt_down,combined_X_train,combined_y_train,ax=ax[0], values_format = 'd')\n",
    "ax[0].title.set_text(\"Train Set\")\n",
    "\n",
    "plot_confusion_matrix(sgd_opt_down,combined_X_test,combined_y_test,ax=ax[1],values_format = 'd')\n",
    "ax[1].title.set_text(\"Test Set\")"
   ]
  },
  {
   "cell_type": "code",
   "execution_count": 239,
   "id": "138aa670",
   "metadata": {
    "ExecuteTime": {
     "end_time": "2022-07-26T22:51:43.567940Z",
     "start_time": "2022-07-26T22:51:38.419663Z"
    },
    "hidden": true
   },
   "outputs": [
    {
     "name": "stdout",
     "output_type": "stream",
     "text": [
      "              precision    recall  f1-score   support\n",
      "\n",
      "           0       0.71      0.95      0.81     10295\n",
      "           1       0.85      0.44      0.58      7222\n",
      "\n",
      "    accuracy                           0.74     17517\n",
      "   macro avg       0.78      0.69      0.70     17517\n",
      "weighted avg       0.77      0.74      0.72     17517\n",
      "\n",
      "              precision    recall  f1-score   support\n",
      "\n",
      "         0.0       0.99      0.95      0.97    661316\n",
      "         1.0       0.12      0.43      0.19      9525\n",
      "\n",
      "    accuracy                           0.95    670841\n",
      "   macro avg       0.56      0.69      0.58    670841\n",
      "weighted avg       0.98      0.95      0.96    670841\n",
      "\n",
      "              precision    recall  f1-score   support\n",
      "\n",
      "         0.0       1.00      0.70      0.82   2213968\n",
      "         1.0       0.04      0.77      0.07     31888\n",
      "\n",
      "    accuracy                           0.70   2245856\n",
      "   macro avg       0.52      0.73      0.44   2245856\n",
      "weighted avg       0.98      0.70      0.81   2245856\n",
      "\n"
     ]
    }
   ],
   "source": [
    "print(classification_report(combined_y_test, sgd_opt_down_preds))\n",
    "print(classification_report(y_test_e, sgd_opt_preds_test))\n",
    "print(classification_report(y_train_e, sgd_opt_preds_train))"
   ]
  },
  {
   "cell_type": "code",
   "execution_count": 47,
   "id": "66e7d98c",
   "metadata": {
    "ExecuteTime": {
     "end_time": "2022-07-26T14:02:32.432181Z",
     "start_time": "2022-07-26T14:02:32.389220Z"
    },
    "hidden": true
   },
   "outputs": [
    {
     "data": {
      "image/png": "[encoded data removed]",
      "text/plain": [
       "<Figure size 432x288 with 1 Axes>"
      ]
     },
     "metadata": {
      "needs_background": "light"
     },
     "output_type": "display_data"
    }
   ],
   "source": [
    "#calculate precision and recall\n",
    "precision, recall, thresholds = precision_recall_curve(combined_y_test, sgd_opt_down_preds)\n",
    "\n",
    "#create precision recall curve\n",
    "fig, ax = plt.subplots()\n",
    "ax.plot(recall, precision, color='purple')\n",
    "\n",
    "#add axis labels to plot\n",
    "ax.set_title('Precision-Recall Curve')\n",
    "ax.set_ylabel('Precision')\n",
    "ax.set_xlabel('Recall')\n",
    "#display plot\n",
    "plt.show()"
   ]
  },
  {
   "cell_type": "markdown",
   "id": "9bfc612b",
   "metadata": {},
   "source": [
    "## 3.2 Decision Trees"
   ]
  },
  {
   "cell_type": "markdown",
   "id": "248ea399",
   "metadata": {},
   "source": [
    "### 3.2.0 Random Forest Classification"
   ]
  },
  {
   "cell_type": "markdown",
   "id": "8bbfb29a",
   "metadata": {},
   "source": []
  },
  {
   "cell_type": "markdown",
   "id": "a67b7300",
   "metadata": {},
   "source": [
    "#### 3.2.0.1 Parameters"
   ]
  },
  {
   "cell_type": "code",
   "execution_count": 142,
   "id": "2bf632b1",
   "metadata": {
    "ExecuteTime": {
     "end_time": "2022-07-27T12:53:53.476704Z",
     "start_time": "2022-07-27T12:53:53.474433Z"
    }
   },
   "outputs": [],
   "source": [
    "# parameter search\n",
    "rf_params_in = {\n",
    "    'max_depth' : [2,5,10,15],\n",
    "    'n_estimators' : [100, 500, 1000],\n",
    "    \"class_weight\" : ['balanced', None]\n",
    "}\n",
    "\n",
    "rf_clf = RandomForestClassifier(n_jobs = -1,random_state = RAND_STATE)\n",
    "\n",
    "# used randomized search to look for optimal parameters\n",
    "rf_hyperparams = RandomizedSearchCV(\n",
    "    estimator = rf_clf, \n",
    "    param_distributions = rf_params_in,\n",
    "    scoring = 'f1',\n",
    "    n_jobs = -1,\n",
    "    verbose = 1,\n",
    "    random_state = RAND_STATE,\n",
    "    return_train_score = True,\n",
    "    n_iter = 5\n",
    ")"
   ]
  },
  {
   "cell_type": "markdown",
   "id": "b0986432",
   "metadata": {},
   "source": [
    "####  3.2.0.1 RF model with HP tuning on resampled data"
   ]
  },
  {
   "cell_type": "code",
   "execution_count": 36,
   "id": "5a26ade2",
   "metadata": {
    "ExecuteTime": {
     "end_time": "2022-07-27T09:54:16.779826Z",
     "start_time": "2022-07-27T09:11:49.875511Z"
    }
   },
   "outputs": [
    {
     "name": "stdout",
     "output_type": "stream",
     "text": [
      "Fitting 5 folds for each of 5 candidates, totalling 25 fits\n"
     ]
    }
   ],
   "source": [
    "rf_hyperparams.fit(e_ds.X_train_sm, e_ds.y_train_sm) # fit to get optimal parameters \n",
    "rf_bps = rf_hyperparams.best_params_\n",
    "# save results\n",
    "#\n",
    "# remodel with optimized parameters\n",
    "rf_opt_down = RandomForestClassifier(\n",
    "    **rf_bps,   # pass optimal parameters \n",
    "    n_jobs = -1,               \n",
    "    random_state = RAND_STATE)\n",
    "#\n",
    "# fit \n",
    "rf_opt_down.fit(e_ds.X_train_sm, e_ds.y_train_sm) "
   ]
  },
  {
   "cell_type": "code",
   "execution_count": 161,
   "id": "6e90a479",
   "metadata": {
    "ExecuteTime": {
     "end_time": "2022-07-27T13:18:05.762894Z",
     "start_time": "2022-07-27T13:18:05.735942Z"
    }
   },
   "outputs": [
    {
     "ename": "AttributeError",
     "evalue": "'RandomizedSearchCV' object has no attribute 'best_params_'",
     "output_type": "error",
     "traceback": [
      "\u001b[0;31m---------------------------------------------------------------------------\u001b[0m",
      "\u001b[0;31mAttributeError\u001b[0m                            Traceback (most recent call last)",
      "Input \u001b[0;32mIn [161]\u001b[0m, in \u001b[0;36m<cell line: 1>\u001b[0;34m()\u001b[0m\n\u001b[0;32m----> 1\u001b[0m pd\u001b[38;5;241m.\u001b[39mDataFrame([\u001b[43mrf_hyperparams\u001b[49m\u001b[38;5;241;43m.\u001b[39;49m\u001b[43mbest_params_\u001b[49m])\u001b[38;5;241m.\u001b[39mto_csv(\u001b[38;5;124m'\u001b[39m\u001b[38;5;124mrf_bestparams_sm_e_05.csv\u001b[39m\u001b[38;5;124m'\u001b[39m)\n",
      "\u001b[0;31mAttributeError\u001b[0m: 'RandomizedSearchCV' object has no attribute 'best_params_'"
     ]
    }
   ],
   "source": [
    "pd.DataFrame([rf_hyperparams.best_params_]).to_csv('rf_bestparams_sm_e_05.csv')"
   ]
  },
  {
   "cell_type": "code",
   "execution_count": 58,
   "id": "c2ac5c2a",
   "metadata": {
    "ExecuteTime": {
     "end_time": "2022-07-27T10:08:21.565335Z",
     "start_time": "2022-07-27T10:08:21.558282Z"
    }
   },
   "outputs": [
    {
     "data": {
      "text/plain": [
       "{'bootstrap': True,\n",
       " 'ccp_alpha': 0.0,\n",
       " 'class_weight': 'balanced',\n",
       " 'criterion': 'gini',\n",
       " 'max_depth': 15,\n",
       " 'max_features': 'sqrt',\n",
       " 'max_leaf_nodes': None,\n",
       " 'max_samples': None,\n",
       " 'min_impurity_decrease': 0.0,\n",
       " 'min_samples_leaf': 1,\n",
       " 'min_samples_split': 2,\n",
       " 'min_weight_fraction_leaf': 0.0,\n",
       " 'n_estimators': 1000,\n",
       " 'n_jobs': -1,\n",
       " 'oob_score': False,\n",
       " 'random_state': 42,\n",
       " 'verbose': 0,\n",
       " 'warm_start': False}"
      ]
     },
     "execution_count": 58,
     "metadata": {},
     "output_type": "execute_result"
    }
   ],
   "source": [
    "rf_opt_down.get_params()"
   ]
  },
  {
   "cell_type": "code",
   "execution_count": 53,
   "id": "4a0a13ee",
   "metadata": {
    "ExecuteTime": {
     "end_time": "2022-07-27T10:06:30.622048Z",
     "start_time": "2022-07-27T10:05:34.877905Z"
    }
   },
   "outputs": [],
   "source": [
    "# predict \n",
    "rf_opt_preds = rf_opt_down.predict(e_ds.X_train_sm) # prediction from downsampled train\n",
    "rf_opt_preds_train = rf_opt_down.predict(X_train_e) # prediction from train\n",
    "rf_opt_preds_test = rf_opt_down.predict(X_test_e)   # prediction from test"
   ]
  },
  {
   "cell_type": "code",
   "execution_count": 59,
   "id": "7b4f4111",
   "metadata": {
    "ExecuteTime": {
     "end_time": "2022-07-27T10:08:40.825722Z",
     "start_time": "2022-07-27T10:08:40.747648Z"
    }
   },
   "outputs": [
    {
     "data": {
      "text/html": [
       "<div>\n",
       "<style scoped>\n",
       "    .dataframe tbody tr th:only-of-type {\n",
       "        vertical-align: middle;\n",
       "    }\n",
       "\n",
       "    .dataframe tbody tr th {\n",
       "        vertical-align: top;\n",
       "    }\n",
       "\n",
       "    .dataframe thead th {\n",
       "        text-align: right;\n",
       "    }\n",
       "</style>\n",
       "<table border=\"1\" class=\"dataframe\">\n",
       "  <thead>\n",
       "    <tr style=\"text-align: right;\">\n",
       "      <th></th>\n",
       "      <th>feature importance</th>\n",
       "    </tr>\n",
       "  </thead>\n",
       "  <tbody>\n",
       "    <tr>\n",
       "      <th>year</th>\n",
       "      <td>0.313469</td>\n",
       "    </tr>\n",
       "    <tr>\n",
       "      <th>logbc_n_address</th>\n",
       "      <td>0.288787</td>\n",
       "    </tr>\n",
       "    <tr>\n",
       "      <th>bc_income</th>\n",
       "      <td>0.090060</td>\n",
       "    </tr>\n",
       "    <tr>\n",
       "      <th>income</th>\n",
       "      <td>0.067281</td>\n",
       "    </tr>\n",
       "    <tr>\n",
       "      <th>day</th>\n",
       "      <td>0.051200</td>\n",
       "    </tr>\n",
       "  </tbody>\n",
       "</table>\n",
       "</div>"
      ],
      "text/plain": [
       "                 feature importance\n",
       "year                       0.313469\n",
       "logbc_n_address            0.288787\n",
       "bc_income                  0.090060\n",
       "income                     0.067281\n",
       "day                        0.051200"
      ]
     },
     "execution_count": 59,
     "metadata": {},
     "output_type": "execute_result"
    }
   ],
   "source": [
    "rf_opt_down_feat_ranks_df = pd.DataFrame(np.ravel(rf_opt_down.feature_importances_), index=colnames)\n",
    "rf_opt_down_feat_ranks_df.columns = ['feature importance']\n",
    "rf_opt_down_feat_ranks_df.sort_values(by='feature importance', ascending=False).head(5)"
   ]
  },
  {
   "cell_type": "code",
   "execution_count": 60,
   "id": "e3607d51",
   "metadata": {
    "ExecuteTime": {
     "end_time": "2022-07-27T10:09:02.773023Z",
     "start_time": "2022-07-27T10:08:50.886904Z"
    }
   },
   "outputs": [
    {
     "data": {
      "image/png": "[encoded data removed]",
      "text/plain": [
       "<Figure size 432x288 with 1 Axes>"
      ]
     },
     "metadata": {},
     "output_type": "display_data"
    }
   ],
   "source": [
    "plot_roc(rf_opt_down,e_ds.X_train_sm, e_ds.y_train_sm, 'ROC Curve for Random Forest Classifier')"
   ]
  },
  {
   "cell_type": "code",
   "execution_count": 61,
   "id": "2d7abf72",
   "metadata": {
    "ExecuteTime": {
     "end_time": "2022-07-27T10:09:27.795254Z",
     "start_time": "2022-07-27T10:09:22.705557Z"
    }
   },
   "outputs": [
    {
     "name": "stdout",
     "output_type": "stream",
     "text": [
      "              precision    recall  f1-score   support\n",
      "\n",
      "         0.0       1.00      0.94      0.97   2213968\n",
      "         1.0       0.19      0.95      0.31     31888\n",
      "\n",
      "    accuracy                           0.94   2245856\n",
      "   macro avg       0.59      0.94      0.64   2245856\n",
      "weighted avg       0.99      0.94      0.96   2245856\n",
      "\n",
      "              precision    recall  f1-score   support\n",
      "\n",
      "         0.0       1.00      0.90      0.95    661316\n",
      "         1.0       0.12      0.91      0.21      9525\n",
      "\n",
      "    accuracy                           0.90    670841\n",
      "   macro avg       0.56      0.91      0.58    670841\n",
      "weighted avg       0.99      0.90      0.94    670841\n",
      "\n"
     ]
    }
   ],
   "source": [
    "print(classification_report(y_train, rf_opt_preds_train))\n",
    "print(classification_report(y_test, rf_opt_preds_test))"
   ]
  },
  {
   "cell_type": "code",
   "execution_count": 64,
   "id": "cdddf0ef",
   "metadata": {
    "ExecuteTime": {
     "end_time": "2022-07-27T10:12:02.693233Z",
     "start_time": "2022-07-27T10:11:59.012682Z"
    }
   },
   "outputs": [],
   "source": [
    "rf_trn_score_df = tabulate_scores_df('RF_trn', y_train, rf_opt_preds_train)\n",
    "rf_tst_score_df = tabulate_scores_df('RF_tst', y_test, rf_opt_preds_test)"
   ]
  },
  {
   "cell_type": "code",
   "execution_count": 79,
   "id": "f15b219d",
   "metadata": {
    "ExecuteTime": {
     "end_time": "2022-07-27T10:22:12.238154Z",
     "start_time": "2022-07-27T10:22:12.212207Z"
    }
   },
   "outputs": [
    {
     "data": {
      "text/html": [
       "<div>\n",
       "<style scoped>\n",
       "    .dataframe tbody tr th:only-of-type {\n",
       "        vertical-align: middle;\n",
       "    }\n",
       "\n",
       "    .dataframe tbody tr th {\n",
       "        vertical-align: top;\n",
       "    }\n",
       "\n",
       "    .dataframe thead th {\n",
       "        text-align: right;\n",
       "    }\n",
       "</style>\n",
       "<table border=\"1\" class=\"dataframe\">\n",
       "  <thead>\n",
       "    <tr style=\"text-align: right;\">\n",
       "      <th></th>\n",
       "      <th>Model Name</th>\n",
       "      <th>Accuracy</th>\n",
       "      <th>Precision</th>\n",
       "      <th>Recall</th>\n",
       "      <th>F1-Score</th>\n",
       "    </tr>\n",
       "  </thead>\n",
       "  <tbody>\n",
       "    <tr>\n",
       "      <th>0</th>\n",
       "      <td>RF_trn</td>\n",
       "      <td>0.940706</td>\n",
       "      <td>0.186698</td>\n",
       "      <td>0.946312</td>\n",
       "      <td>0.311868</td>\n",
       "    </tr>\n",
       "    <tr>\n",
       "      <th>0</th>\n",
       "      <td>RF_tst</td>\n",
       "      <td>0.902312</td>\n",
       "      <td>0.118172</td>\n",
       "      <td>0.909921</td>\n",
       "      <td>0.209179</td>\n",
       "    </tr>\n",
       "  </tbody>\n",
       "</table>\n",
       "</div>"
      ],
      "text/plain": [
       "  Model Name  Accuracy  Precision    Recall  F1-Score\n",
       "0     RF_trn  0.940706   0.186698  0.946312  0.311868\n",
       "0     RF_tst  0.902312   0.118172  0.909921  0.209179"
      ]
     },
     "execution_count": 79,
     "metadata": {},
     "output_type": "execute_result"
    }
   ],
   "source": [
    "rf_scores_df = rf_trn_score_df.append(rf_tst_score_df)\n",
    "rf_scores_df"
   ]
  },
  {
   "cell_type": "code",
   "execution_count": 80,
   "id": "bc3cb026",
   "metadata": {
    "ExecuteTime": {
     "end_time": "2022-07-27T10:22:23.538658Z",
     "start_time": "2022-07-27T10:22:23.190851Z"
    }
   },
   "outputs": [
    {
     "data": {
      "text/plain": [
       "<AxesSubplot:>"
      ]
     },
     "execution_count": 80,
     "metadata": {},
     "output_type": "execute_result"
    },
    {
     "data": {
      "image/png": "[encoded data removed]",
      "text/plain": [
       "<Figure size 432x288 with 2 Axes>"
      ]
     },
     "metadata": {},
     "output_type": "display_data"
    }
   ],
   "source": [
    "# confusion matrix\n",
    "cf_matrix = confusion_matrix(y_test, rf_opt_preds_test)\n",
    "group_names = ['True Neg','False Pos','False Neg','True Pos']\n",
    "group_counts = ['{0:0.0f}'.format(value) for value in cf_matrix.flatten()]\n",
    "group_percentages = ['{0:.2%}'.format(value) for value in cf_matrix.flatten()/np.sum(cf_matrix)]\n",
    "labels = [f'{v1}\\n{v2}\\n{v3}' for v1, v2, v3 in  zip(group_names,group_counts,group_percentages)]\n",
    "labels = np.asarray(labels).reshape(2,2)\n",
    "sns.heatmap(cf_matrix, annot=labels, fmt='',cmap='Reds')"
   ]
  },
  {
   "cell_type": "markdown",
   "id": "431ea3b8",
   "metadata": {},
   "source": [
    "#####  Compare scores"
   ]
  },
  {
   "cell_type": "code",
   "execution_count": 81,
   "id": "9e6a831d",
   "metadata": {
    "ExecuteTime": {
     "end_time": "2022-07-27T10:23:12.775631Z",
     "start_time": "2022-07-27T10:23:12.749455Z"
    }
   },
   "outputs": [
    {
     "data": {
      "text/html": [
       "<div>\n",
       "<style scoped>\n",
       "    .dataframe tbody tr th:only-of-type {\n",
       "        vertical-align: middle;\n",
       "    }\n",
       "\n",
       "    .dataframe tbody tr th {\n",
       "        vertical-align: top;\n",
       "    }\n",
       "\n",
       "    .dataframe thead th {\n",
       "        text-align: right;\n",
       "    }\n",
       "</style>\n",
       "<table border=\"1\" class=\"dataframe\">\n",
       "  <thead>\n",
       "    <tr style=\"text-align: right;\">\n",
       "      <th></th>\n",
       "      <th>Model Name</th>\n",
       "      <th>Accuracy</th>\n",
       "      <th>Precision</th>\n",
       "      <th>Recall</th>\n",
       "      <th>F1-Score</th>\n",
       "    </tr>\n",
       "  </thead>\n",
       "  <tbody>\n",
       "    <tr>\n",
       "      <th>0</th>\n",
       "      <td>RF_trn</td>\n",
       "      <td>0.940706</td>\n",
       "      <td>0.186698</td>\n",
       "      <td>0.946312</td>\n",
       "      <td>0.311868</td>\n",
       "    </tr>\n",
       "    <tr>\n",
       "      <th>1</th>\n",
       "      <td>RF_tst</td>\n",
       "      <td>0.902312</td>\n",
       "      <td>0.118172</td>\n",
       "      <td>0.909921</td>\n",
       "      <td>0.209179</td>\n",
       "    </tr>\n",
       "  </tbody>\n",
       "</table>\n",
       "</div>"
      ],
      "text/plain": [
       "  Model Name  Accuracy Precision    Recall  F1-Score\n",
       "0     RF_trn  0.940706  0.186698  0.946312  0.311868\n",
       "1     RF_tst  0.902312  0.118172  0.909921  0.209179"
      ]
     },
     "execution_count": 81,
     "metadata": {},
     "output_type": "execute_result"
    }
   ],
   "source": [
    "scores_df = scores_df.append(rf_scores_df) #.append(rf1_score_df)\n",
    "scores_df.reset_index(drop=True,inplace=True)\n",
    "scores_df"
   ]
  },
  {
   "cell_type": "code",
   "execution_count": null,
   "id": "7db291f7",
   "metadata": {},
   "outputs": [],
   "source": []
  },
  {
   "cell_type": "markdown",
   "id": "a9fc019f",
   "metadata": {},
   "source": [
    "### 3.2.1 Xtreme Gradient Boosted Decision Tree (XGBT) Classification"
   ]
  },
  {
   "cell_type": "code",
   "execution_count": 82,
   "id": "2df4c01c",
   "metadata": {
    "ExecuteTime": {
     "end_time": "2022-07-27T10:25:59.897350Z",
     "start_time": "2022-07-27T10:25:59.823815Z"
    }
   },
   "outputs": [],
   "source": [
    "from xgboost import XGBClassifier\n",
    "from collections import Counter\n",
    "from sklearn.model_selection import cross_validate\n",
    "from sklearn.model_selection import KFold"
   ]
  },
  {
   "cell_type": "markdown",
   "id": "33e75cc0",
   "metadata": {},
   "source": [
    "####  3.2.1.1 Optimization Parameters"
   ]
  },
  {
   "cell_type": "code",
   "execution_count": 117,
   "id": "95d6dce9",
   "metadata": {
    "ExecuteTime": {
     "end_time": "2022-07-27T10:48:04.281162Z",
     "start_time": "2022-07-27T10:48:04.059025Z"
    }
   },
   "outputs": [],
   "source": [
    "# we use counter to decide how much weight to give the positive class (ransom address labels)\n",
    "# because only 1.5% of our data-set contains positive datapoints\n",
    "counter = Counter(y_train['labels'])\n",
    "estimate = np.sqrt(counter[0] / counter[1])\n",
    "\n",
    "kf = KFold(n_splits=5,shuffle = True, random_state = RAND_STATE)\n",
    "\n",
    "# basic classifier constructor [for parameter search] \n",
    "xgb_clf = XGBClassifier(\n",
    "    objective = 'binary:logistic', \n",
    "    use_label_encoder=False,\n",
    "    #scale_pos_weight = estimate,  \n",
    "    random_state = RAND_STATE,\n",
    ")\n",
    "\n",
    "\n",
    "param_dist = {'n_estimators': stats.randint(150, 1000),\n",
    "              'learning_rate': stats.uniform(0.01, 0.59),\n",
    "              'subsample': stats.uniform(0.3, 0.6),\n",
    "              'max_depth': [3, 4, 5, 6, 7],\n",
    "              'colsample_bytree': stats.uniform(0.5, 0.4),\n",
    "              'scale_pos_weight' : stats.uniform(estimate,estimate**2),\n",
    "              'min_child_weight': [1, 2, 3, 4]\n",
    "             }\n",
    "xgb_hyperparams = RandomizedSearchCV(\n",
    "    xgb_clf, \n",
    "    param_distributions = param_dist,\n",
    "    cv = kf,  \n",
    "    n_iter = 4, \n",
    "    scoring = 'recall', \n",
    "    error_score = 0, \n",
    "    verbose = 0, \n",
    "    n_jobs = -1\n",
    ")"
   ]
  },
  {
   "cell_type": "markdown",
   "id": "b1b6bf3c",
   "metadata": {},
   "source": [
    "#### 3.2.1.2 xGBDT with tuning"
   ]
  },
  {
   "cell_type": "code",
   "execution_count": 114,
   "id": "76658323",
   "metadata": {
    "ExecuteTime": {
     "end_time": "2022-07-27T10:47:27.881959Z",
     "start_time": "2022-07-27T10:47:27.761694Z"
    }
   },
   "outputs": [],
   "source": [
    "for col in colnames[-7:]:\n",
    "    X_train_e_df[col]=X_train_e_df[col].astype(np.int32)\n",
    "X_train_e = X_train_e_df.to_numpy()"
   ]
  },
  {
   "cell_type": "code",
   "execution_count": 138,
   "id": "82263f79",
   "metadata": {
    "ExecuteTime": {
     "end_time": "2022-07-27T10:50:46.538169Z",
     "start_time": "2022-07-27T10:50:46.528007Z"
    }
   },
   "outputs": [
    {
     "data": {
      "text/plain": [
       "0"
      ]
     },
     "execution_count": 138,
     "metadata": {},
     "output_type": "execute_result"
    }
   ],
   "source": [
    "y_train_np = np.ravel(y_train['labels'].to_numpy()).astype(np.int32)\n",
    "y_train_np[4546] == y_train.loc[[4546]]"
   ]
  },
  {
   "cell_type": "code",
   "execution_count": 141,
   "id": "20de1b26",
   "metadata": {
    "ExecuteTime": {
     "end_time": "2022-07-27T12:53:53.129089Z",
     "start_time": "2022-07-27T10:51:17.257653Z"
    }
   },
   "outputs": [
    {
     "name": "stderr",
     "output_type": "stream",
     "text": [
      "/Users/antares/.pyenv/versions/mambaforge-4.10.1-4/envs/ih_DA_env/lib/python3.9/site-packages/xgboost/compat.py:36: FutureWarning: pandas.Int64Index is deprecated and will be removed from pandas in a future version. Use pandas.Index with the appropriate dtype instead.\n",
      "  from pandas import MultiIndex, Int64Index\n",
      "/Users/antares/.pyenv/versions/mambaforge-4.10.1-4/envs/ih_DA_env/lib/python3.9/site-packages/xgboost/compat.py:36: FutureWarning: pandas.Int64Index is deprecated and will be removed from pandas in a future version. Use pandas.Index with the appropriate dtype instead.\n",
      "  from pandas import MultiIndex, Int64Index\n",
      "/Users/antares/.pyenv/versions/mambaforge-4.10.1-4/envs/ih_DA_env/lib/python3.9/site-packages/xgboost/compat.py:36: FutureWarning: pandas.Int64Index is deprecated and will be removed from pandas in a future version. Use pandas.Index with the appropriate dtype instead.\n",
      "  from pandas import MultiIndex, Int64Index\n",
      "/Users/antares/.pyenv/versions/mambaforge-4.10.1-4/envs/ih_DA_env/lib/python3.9/site-packages/xgboost/compat.py:36: FutureWarning: pandas.Int64Index is deprecated and will be removed from pandas in a future version. Use pandas.Index with the appropriate dtype instead.\n",
      "  from pandas import MultiIndex, Int64Index\n",
      "/Users/antares/.pyenv/versions/mambaforge-4.10.1-4/envs/ih_DA_env/lib/python3.9/site-packages/xgboost/compat.py:36: FutureWarning: pandas.Int64Index is deprecated and will be removed from pandas in a future version. Use pandas.Index with the appropriate dtype instead.\n",
      "  from pandas import MultiIndex, Int64Index\n",
      "/Users/antares/.pyenv/versions/mambaforge-4.10.1-4/envs/ih_DA_env/lib/python3.9/site-packages/xgboost/compat.py:36: FutureWarning: pandas.Int64Index is deprecated and will be removed from pandas in a future version. Use pandas.Index with the appropriate dtype instead.\n",
      "  from pandas import MultiIndex, Int64Index\n",
      "/Users/antares/.pyenv/versions/mambaforge-4.10.1-4/envs/ih_DA_env/lib/python3.9/site-packages/xgboost/compat.py:36: FutureWarning: pandas.Int64Index is deprecated and will be removed from pandas in a future version. Use pandas.Index with the appropriate dtype instead.\n",
      "  from pandas import MultiIndex, Int64Index\n",
      "/Users/antares/.pyenv/versions/mambaforge-4.10.1-4/envs/ih_DA_env/lib/python3.9/site-packages/xgboost/compat.py:36: FutureWarning: pandas.Int64Index is deprecated and will be removed from pandas in a future version. Use pandas.Index with the appropriate dtype instead.\n",
      "  from pandas import MultiIndex, Int64Index\n"
     ]
    },
    {
     "name": "stdout",
     "output_type": "stream",
     "text": [
      "[12:51:24] WARNING: /Users/runner/miniforge3/conda-bld/xgboost-split_1645117899018/work/src/learner.cc:1115: Starting in XGBoost 1.3.0, the default evaluation metric used with the objective 'binary:logistic' was changed from 'error' to 'logloss'. Explicitly set eval_metric if you'd like to restore the old behavior.\n",
      "[14:02:24] WARNING: /Users/runner/miniforge3/conda-bld/xgboost-split_1645117899018/work/src/learner.cc:1115: Starting in XGBoost 1.3.0, the default evaluation metric used with the objective 'binary:logistic' was changed from 'error' to 'logloss'. Explicitly set eval_metric if you'd like to restore the old behavior.\n",
      "[12:51:24] WARNING: /Users/runner/miniforge3/conda-bld/xgboost-split_1645117899018/work/src/learner.cc:1115: Starting in XGBoost 1.3.0, the default evaluation metric used with the objective 'binary:logistic' was changed from 'error' to 'logloss'. Explicitly set eval_metric if you'd like to restore the old behavior.\n",
      "[14:03:21] WARNING: /Users/runner/miniforge3/conda-bld/xgboost-split_1645117899018/work/src/learner.cc:1115: Starting in XGBoost 1.3.0, the default evaluation metric used with the objective 'binary:logistic' was changed from 'error' to 'logloss'. Explicitly set eval_metric if you'd like to restore the old behavior.\n",
      "[12:51:24] WARNING: /Users/runner/miniforge3/conda-bld/xgboost-split_1645117899018/work/src/learner.cc:1115: Starting in XGBoost 1.3.0, the default evaluation metric used with the objective 'binary:logistic' was changed from 'error' to 'logloss'. Explicitly set eval_metric if you'd like to restore the old behavior.\n",
      "[13:56:53] WARNING: /Users/runner/miniforge3/conda-bld/xgboost-split_1645117899018/work/src/learner.cc:1115: Starting in XGBoost 1.3.0, the default evaluation metric used with the objective 'binary:logistic' was changed from 'error' to 'logloss'. Explicitly set eval_metric if you'd like to restore the old behavior.\n",
      "[14:22:22] WARNING: /Users/runner/miniforge3/conda-bld/xgboost-split_1645117899018/work/src/learner.cc:1115: Starting in XGBoost 1.3.0, the default evaluation metric used with the objective 'binary:logistic' was changed from 'error' to 'logloss'. Explicitly set eval_metric if you'd like to restore the old behavior.\n",
      "[12:51:24] WARNING: /Users/runner/miniforge3/conda-bld/xgboost-split_1645117899018/work/src/learner.cc:1115: Starting in XGBoost 1.3.0, the default evaluation metric used with the objective 'binary:logistic' was changed from 'error' to 'logloss'. Explicitly set eval_metric if you'd like to restore the old behavior.\n",
      "[13:56:54] WARNING: /Users/runner/miniforge3/conda-bld/xgboost-split_1645117899018/work/src/learner.cc:1115: Starting in XGBoost 1.3.0, the default evaluation metric used with the objective 'binary:logistic' was changed from 'error' to 'logloss'. Explicitly set eval_metric if you'd like to restore the old behavior.\n",
      "[14:22:40] WARNING: /Users/runner/miniforge3/conda-bld/xgboost-split_1645117899018/work/src/learner.cc:1115: Starting in XGBoost 1.3.0, the default evaluation metric used with the objective 'binary:logistic' was changed from 'error' to 'logloss'. Explicitly set eval_metric if you'd like to restore the old behavior.\n",
      "[12:51:24] WARNING: /Users/runner/miniforge3/conda-bld/xgboost-split_1645117899018/work/src/learner.cc:1115: Starting in XGBoost 1.3.0, the default evaluation metric used with the objective 'binary:logistic' was changed from 'error' to 'logloss'. Explicitly set eval_metric if you'd like to restore the old behavior.\n",
      "[13:57:23] WARNING: /Users/runner/miniforge3/conda-bld/xgboost-split_1645117899018/work/src/learner.cc:1115: Starting in XGBoost 1.3.0, the default evaluation metric used with the objective 'binary:logistic' was changed from 'error' to 'logloss'. Explicitly set eval_metric if you'd like to restore the old behavior.\n",
      "[14:23:47] WARNING: /Users/runner/miniforge3/conda-bld/xgboost-split_1645117899018/work/src/learner.cc:1115: Starting in XGBoost 1.3.0, the default evaluation metric used with the objective 'binary:logistic' was changed from 'error' to 'logloss'. Explicitly set eval_metric if you'd like to restore the old behavior.\n",
      "[12:51:24] WARNING: /Users/runner/miniforge3/conda-bld/xgboost-split_1645117899018/work/src/learner.cc:1115: Starting in XGBoost 1.3.0, the default evaluation metric used with the objective 'binary:logistic' was changed from 'error' to 'logloss'. Explicitly set eval_metric if you'd like to restore the old behavior.\n",
      "[14:02:02] WARNING: /Users/runner/miniforge3/conda-bld/xgboost-split_1645117899018/work/src/learner.cc:1115: Starting in XGBoost 1.3.0, the default evaluation metric used with the objective 'binary:logistic' was changed from 'error' to 'logloss'. Explicitly set eval_metric if you'd like to restore the old behavior.\n",
      "[14:28:29] WARNING: /Users/runner/miniforge3/conda-bld/xgboost-split_1645117899018/work/src/learner.cc:1115: Starting in XGBoost 1.3.0, the default evaluation metric used with the objective 'binary:logistic' was changed from 'error' to 'logloss'. Explicitly set eval_metric if you'd like to restore the old behavior.\n",
      "[14:50:05] WARNING: /Users/runner/miniforge3/conda-bld/xgboost-split_1645117899018/work/src/learner.cc:1115: Starting in XGBoost 1.3.0, the default evaluation metric used with the objective 'binary:logistic' was changed from 'error' to 'logloss'. Explicitly set eval_metric if you'd like to restore the old behavior.\n"
     ]
    },
    {
     "data": {
      "text/html": [
       "<style>#sk-container-id-1 {color: black;background-color: white;}#sk-container-id-1 pre{padding: 0;}#sk-container-id-1 div.sk-toggleable {background-color: white;}#sk-container-id-1 label.sk-toggleable__label {cursor: pointer;display: block;width: 100%;margin-bottom: 0;padding: 0.3em;box-sizing: border-box;text-align: center;}#sk-container-id-1 label.sk-toggleable__label-arrow:before {content: \"▸\";float: left;margin-right: 0.25em;color: #696969;}#sk-container-id-1 label.sk-toggleable__label-arrow:hover:before {color: black;}#sk-container-id-1 div.sk-estimator:hover label.sk-toggleable__label-arrow:before {color: black;}#sk-container-id-1 div.sk-toggleable__content {max-height: 0;max-width: 0;overflow: hidden;text-align: left;background-color: #f0f8ff;}#sk-container-id-1 div.sk-toggleable__content pre {margin: 0.2em;color: black;border-radius: 0.25em;background-color: #f0f8ff;}#sk-container-id-1 input.sk-toggleable__control:checked~div.sk-toggleable__content {max-height: 200px;max-width: 100%;overflow: auto;}#sk-container-id-1 input.sk-toggleable__control:checked~label.sk-toggleable__label-arrow:before {content: \"▾\";}#sk-container-id-1 div.sk-estimator input.sk-toggleable__control:checked~label.sk-toggleable__label {background-color: #d4ebff;}#sk-container-id-1 div.sk-label input.sk-toggleable__control:checked~label.sk-toggleable__label {background-color: #d4ebff;}#sk-container-id-1 input.sk-hidden--visually {border: 0;clip: rect(1px 1px 1px 1px);clip: rect(1px, 1px, 1px, 1px);height: 1px;margin: -1px;overflow: hidden;padding: 0;position: absolute;width: 1px;}#sk-container-id-1 div.sk-estimator {font-family: monospace;background-color: #f0f8ff;border: 1px dotted black;border-radius: 0.25em;box-sizing: border-box;margin-bottom: 0.5em;}#sk-container-id-1 div.sk-estimator:hover {background-color: #d4ebff;}#sk-container-id-1 div.sk-parallel-item::after {content: \"\";width: 100%;border-bottom: 1px solid gray;flex-grow: 1;}#sk-container-id-1 div.sk-label:hover label.sk-toggleable__label {background-color: #d4ebff;}#sk-container-id-1 div.sk-serial::before {content: \"\";position: absolute;border-left: 1px solid gray;box-sizing: border-box;top: 0;bottom: 0;left: 50%;z-index: 0;}#sk-container-id-1 div.sk-serial {display: flex;flex-direction: column;align-items: center;background-color: white;padding-right: 0.2em;padding-left: 0.2em;position: relative;}#sk-container-id-1 div.sk-item {position: relative;z-index: 1;}#sk-container-id-1 div.sk-parallel {display: flex;align-items: stretch;justify-content: center;background-color: white;position: relative;}#sk-container-id-1 div.sk-item::before, #sk-container-id-1 div.sk-parallel-item::before {content: \"\";position: absolute;border-left: 1px solid gray;box-sizing: border-box;top: 0;bottom: 0;left: 50%;z-index: -1;}#sk-container-id-1 div.sk-parallel-item {display: flex;flex-direction: column;z-index: 1;position: relative;background-color: white;}#sk-container-id-1 div.sk-parallel-item:first-child::after {align-self: flex-end;width: 50%;}#sk-container-id-1 div.sk-parallel-item:last-child::after {align-self: flex-start;width: 50%;}#sk-container-id-1 div.sk-parallel-item:only-child::after {width: 0;}#sk-container-id-1 div.sk-dashed-wrapped {border: 1px dashed gray;margin: 0 0.4em 0.5em 0.4em;box-sizing: border-box;padding-bottom: 0.4em;background-color: white;}#sk-container-id-1 div.sk-label label {font-family: monospace;font-weight: bold;display: inline-block;line-height: 1.2em;}#sk-container-id-1 div.sk-label-container {text-align: center;}#sk-container-id-1 div.sk-container {/* jupyter's `normalize.less` sets `[hidden] { display: none; }` but bootstrap.min.css set `[hidden] { display: none !important; }` so we also need the `!important` here to be able to override the default hidden behavior on the sphinx rendered scikit-learn.org. See: https://github.com/scikit-learn/scikit-learn/issues/21755 */display: inline-block !important;position: relative;}#sk-container-id-1 div.sk-text-repr-fallback {display: none;}</style><div id=\"sk-container-id-1\" class=\"sk-top-container\"><div class=\"sk-text-repr-fallback\"><pre>RandomizedSearchCV(cv=KFold(n_splits=5, random_state=42, shuffle=True),\n",
       "                   error_score=0,\n",
       "                   estimator=XGBClassifier(base_score=None, booster=None,\n",
       "                                           colsample_bylevel=None,\n",
       "                                           colsample_bynode=None,\n",
       "                                           colsample_bytree=None,\n",
       "                                           enable_categorical=False, gamma=None,\n",
       "                                           gpu_id=None, importance_type=None,\n",
       "                                           interaction_constraints=None,\n",
       "                                           learning_rate=None,\n",
       "                                           max_delta_step=None, max_depth=...\n",
       "                                        &#x27;learning_rate&#x27;: &lt;scipy.stats._distn_infrastructure.rv_frozen object at 0x16c47c070&gt;,\n",
       "                                        &#x27;max_depth&#x27;: [3, 4, 5, 6, 7],\n",
       "                                        &#x27;min_child_weight&#x27;: [1, 2, 3, 4],\n",
       "                                        &#x27;n_estimators&#x27;: &lt;scipy.stats._distn_infrastructure.rv_frozen object at 0x16c46e910&gt;,\n",
       "                                        &#x27;scale_pos_weight&#x27;: &lt;scipy.stats._distn_infrastructure.rv_frozen object at 0x16c4efee0&gt;,\n",
       "                                        &#x27;subsample&#x27;: &lt;scipy.stats._distn_infrastructure.rv_frozen object at 0x16c50a2e0&gt;},\n",
       "                   scoring=&#x27;recall&#x27;)</pre><b>In a Jupyter environment, please rerun this cell to show the HTML representation or trust the notebook. <br />On GitHub, the HTML representation is unable to render, please try loading this page with nbviewer.org.</b></div><div class=\"sk-container\" hidden><div class=\"sk-item sk-dashed-wrapped\"><div class=\"sk-label-container\"><div class=\"sk-label sk-toggleable\"><input class=\"sk-toggleable__control sk-hidden--visually\" id=\"sk-estimator-id-1\" type=\"checkbox\" ><label for=\"sk-estimator-id-1\" class=\"sk-toggleable__label sk-toggleable__label-arrow\">RandomizedSearchCV</label><div class=\"sk-toggleable__content\"><pre>RandomizedSearchCV(cv=KFold(n_splits=5, random_state=42, shuffle=True),\n",
       "                   error_score=0,\n",
       "                   estimator=XGBClassifier(base_score=None, booster=None,\n",
       "                                           colsample_bylevel=None,\n",
       "                                           colsample_bynode=None,\n",
       "                                           colsample_bytree=None,\n",
       "                                           enable_categorical=False, gamma=None,\n",
       "                                           gpu_id=None, importance_type=None,\n",
       "                                           interaction_constraints=None,\n",
       "                                           learning_rate=None,\n",
       "                                           max_delta_step=None, max_depth=...\n",
       "                                        &#x27;learning_rate&#x27;: &lt;scipy.stats._distn_infrastructure.rv_frozen object at 0x16c47c070&gt;,\n",
       "                                        &#x27;max_depth&#x27;: [3, 4, 5, 6, 7],\n",
       "                                        &#x27;min_child_weight&#x27;: [1, 2, 3, 4],\n",
       "                                        &#x27;n_estimators&#x27;: &lt;scipy.stats._distn_infrastructure.rv_frozen object at 0x16c46e910&gt;,\n",
       "                                        &#x27;scale_pos_weight&#x27;: &lt;scipy.stats._distn_infrastructure.rv_frozen object at 0x16c4efee0&gt;,\n",
       "                                        &#x27;subsample&#x27;: &lt;scipy.stats._distn_infrastructure.rv_frozen object at 0x16c50a2e0&gt;},\n",
       "                   scoring=&#x27;recall&#x27;)</pre></div></div></div><div class=\"sk-parallel\"><div class=\"sk-parallel-item\"><div class=\"sk-item\"><div class=\"sk-label-container\"><div class=\"sk-label sk-toggleable\"><input class=\"sk-toggleable__control sk-hidden--visually\" id=\"sk-estimator-id-2\" type=\"checkbox\" ><label for=\"sk-estimator-id-2\" class=\"sk-toggleable__label sk-toggleable__label-arrow\">estimator: XGBClassifier</label><div class=\"sk-toggleable__content\"><pre>XGBClassifier(base_score=None, booster=None, colsample_bylevel=None,\n",
       "              colsample_bynode=None, colsample_bytree=None,\n",
       "              enable_categorical=False, gamma=None, gpu_id=None,\n",
       "              importance_type=None, interaction_constraints=None,\n",
       "              learning_rate=None, max_delta_step=None, max_depth=None,\n",
       "              min_child_weight=None, missing=nan, monotone_constraints=None,\n",
       "              n_estimators=100, n_jobs=None, num_parallel_tree=None,\n",
       "              predictor=None, random_state=42, reg_alpha=None, reg_lambda=None,\n",
       "              scale_pos_weight=None, subsample=None, tree_method=None,\n",
       "              use_label_encoder=False, validate_parameters=None,\n",
       "              verbosity=None)</pre></div></div></div><div class=\"sk-serial\"><div class=\"sk-item\"><div class=\"sk-estimator sk-toggleable\"><input class=\"sk-toggleable__control sk-hidden--visually\" id=\"sk-estimator-id-3\" type=\"checkbox\" ><label for=\"sk-estimator-id-3\" class=\"sk-toggleable__label sk-toggleable__label-arrow\">XGBClassifier</label><div class=\"sk-toggleable__content\"><pre>XGBClassifier(base_score=None, booster=None, colsample_bylevel=None,\n",
       "              colsample_bynode=None, colsample_bytree=None,\n",
       "              enable_categorical=False, gamma=None, gpu_id=None,\n",
       "              importance_type=None, interaction_constraints=None,\n",
       "              learning_rate=None, max_delta_step=None, max_depth=None,\n",
       "              min_child_weight=None, missing=nan, monotone_constraints=None,\n",
       "              n_estimators=100, n_jobs=None, num_parallel_tree=None,\n",
       "              predictor=None, random_state=42, reg_alpha=None, reg_lambda=None,\n",
       "              scale_pos_weight=None, subsample=None, tree_method=None,\n",
       "              use_label_encoder=False, validate_parameters=None,\n",
       "              verbosity=None)</pre></div></div></div></div></div></div></div></div></div></div>"
      ],
      "text/plain": [
       "RandomizedSearchCV(cv=KFold(n_splits=5, random_state=42, shuffle=True),\n",
       "                   error_score=0,\n",
       "                   estimator=XGBClassifier(base_score=None, booster=None,\n",
       "                                           colsample_bylevel=None,\n",
       "                                           colsample_bynode=None,\n",
       "                                           colsample_bytree=None,\n",
       "                                           enable_categorical=False, gamma=None,\n",
       "                                           gpu_id=None, importance_type=None,\n",
       "                                           interaction_constraints=None,\n",
       "                                           learning_rate=None,\n",
       "                                           max_delta_step=None, max_depth=...\n",
       "                                        'learning_rate': <scipy.stats._distn_infrastructure.rv_frozen object at 0x16c47c070>,\n",
       "                                        'max_depth': [3, 4, 5, 6, 7],\n",
       "                                        'min_child_weight': [1, 2, 3, 4],\n",
       "                                        'n_estimators': <scipy.stats._distn_infrastructure.rv_frozen object at 0x16c46e910>,\n",
       "                                        'scale_pos_weight': <scipy.stats._distn_infrastructure.rv_frozen object at 0x16c4efee0>,\n",
       "                                        'subsample': <scipy.stats._distn_infrastructure.rv_frozen object at 0x16c50a2e0>},\n",
       "                   scoring='recall')"
      ]
     },
     "execution_count": 141,
     "metadata": {},
     "output_type": "execute_result"
    }
   ],
   "source": [
    "# fit the encoded, unbalanced data using scale_pos_weight to account for the unbalancedness\n",
    "xgb_hyperparams.fit(X_train_e, y_train_np)  # pass conditioned np arrays"
   ]
  },
  {
   "cell_type": "code",
   "execution_count": 154,
   "id": "914715da",
   "metadata": {
    "ExecuteTime": {
     "end_time": "2022-07-27T13:15:01.256222Z",
     "start_time": "2022-07-27T13:15:01.250654Z"
    }
   },
   "outputs": [
    {
     "data": {
      "text/plain": [
       "{'colsample_bytree': 0.6034871321612655,\n",
       " 'learning_rate': 0.3956881259343352,\n",
       " 'max_depth': 3,\n",
       " 'min_child_weight': 1,\n",
       " 'n_estimators': 552,\n",
       " 'scale_pos_weight': 76.87869855035574,\n",
       " 'subsample': 0.8716548844406891,\n",
       " 'n_jobs': -1,\n",
       " 'booster': 'gbtree',\n",
       " 'objective': 'binary:logistic',\n",
       " 'random_state': 42}"
      ]
     },
     "execution_count": 154,
     "metadata": {},
     "output_type": "execute_result"
    }
   ],
   "source": [
    "xgb_hyperparams.best_params_"
   ]
  },
  {
   "cell_type": "code",
   "execution_count": 162,
   "id": "4f072740",
   "metadata": {
    "ExecuteTime": {
     "end_time": "2022-07-27T13:18:43.755236Z",
     "start_time": "2022-07-27T13:18:43.745264Z"
    }
   },
   "outputs": [],
   "source": [
    "# save results\n",
    "pd.DataFrame([xgb_hyperparams.best_params_]).to_csv('xgb_bestparams_train_e_05.csv')"
   ]
  },
  {
   "cell_type": "code",
   "execution_count": 144,
   "id": "d391ed27",
   "metadata": {
    "ExecuteTime": {
     "end_time": "2022-07-27T12:53:53.856616Z",
     "start_time": "2022-07-27T12:53:53.853770Z"
    }
   },
   "outputs": [
    {
     "data": {
      "text/plain": [
       "{'colsample_bytree': 0.6034871321612655,\n",
       " 'learning_rate': 0.3956881259343352,\n",
       " 'max_depth': 3,\n",
       " 'min_child_weight': 1,\n",
       " 'n_estimators': 552,\n",
       " 'scale_pos_weight': 76.87869855035574,\n",
       " 'subsample': 0.8716548844406891,\n",
       " 'n_jobs': -1,\n",
       " 'booster': 'gbtree',\n",
       " 'objective': 'binary:logistic',\n",
       " 'random_state': 42}"
      ]
     },
     "execution_count": 144,
     "metadata": {},
     "output_type": "execute_result"
    }
   ],
   "source": [
    "params_xgb = xgb_hyperparams.best_params_\n",
    "params_xgb['n_jobs'] = -1 \n",
    "params_xgb['booster'] = 'gbtree'\n",
    "params_xgb['objective'] = 'binary:logistic'\n",
    "params_xgb['random_state'] = RAND_STATE\n",
    "#params_xgb['scale_pos_weight'] = estimate\n",
    "params_xgb"
   ]
  },
  {
   "cell_type": "code",
   "execution_count": 145,
   "id": "3ee8d638",
   "metadata": {
    "ExecuteTime": {
     "end_time": "2022-07-27T12:57:37.983789Z",
     "start_time": "2022-07-27T12:53:54.041983Z"
    }
   },
   "outputs": [
    {
     "name": "stdout",
     "output_type": "stream",
     "text": [
      "[14:53:55] WARNING: /Users/runner/miniforge3/conda-bld/xgboost-split_1645117899018/work/src/learner.cc:1115: Starting in XGBoost 1.3.0, the default evaluation metric used with the objective 'binary:logistic' was changed from 'error' to 'logloss'. Explicitly set eval_metric if you'd like to restore the old behavior.\n",
      "[12:51:24] WARNING: /Users/runner/miniforge3/conda-bld/xgboost-split_1645117899018/work/src/learner.cc:1115: Starting in XGBoost 1.3.0, the default evaluation metric used with the objective 'binary:logistic' was changed from 'error' to 'logloss'. Explicitly set eval_metric if you'd like to restore the old behavior.\n",
      "[13:56:42] WARNING: /Users/runner/miniforge3/conda-bld/xgboost-split_1645117899018/work/src/learner.cc:1115: Starting in XGBoost 1.3.0, the default evaluation metric used with the objective 'binary:logistic' was changed from 'error' to 'logloss'. Explicitly set eval_metric if you'd like to restore the old behavior.\n",
      "[12:51:24] WARNING: /Users/runner/miniforge3/conda-bld/xgboost-split_1645117899018/work/src/learner.cc:1115: Starting in XGBoost 1.3.0, the default evaluation metric used with the objective 'binary:logistic' was changed from 'error' to 'logloss'. Explicitly set eval_metric if you'd like to restore the old behavior.\n",
      "[13:56:48] WARNING: /Users/runner/miniforge3/conda-bld/xgboost-split_1645117899018/work/src/learner.cc:1115: Starting in XGBoost 1.3.0, the default evaluation metric used with the objective 'binary:logistic' was changed from 'error' to 'logloss'. Explicitly set eval_metric if you'd like to restore the old behavior.\n"
     ]
    }
   ],
   "source": [
    "# rerun classifier with optimized parameters\n",
    "xgb_clf_opt = XGBClassifier(**params_xgb).fit(X_train_e_df, y_train['labels'], verbose=1)"
   ]
  },
  {
   "cell_type": "code",
   "execution_count": 114,
   "id": "65f85685",
   "metadata": {
    "ExecuteTime": {
     "end_time": "2022-07-26T15:16:51.630627Z",
     "start_time": "2022-07-26T15:16:51.628642Z"
    }
   },
   "outputs": [
    {
     "data": {
      "text/plain": [
       "{'colsample_bytree': 0.8410545220556309,\n",
       " 'learning_rate': 0.5618069757979138,\n",
       " 'max_depth': 4,\n",
       " 'min_child_weight': 3,\n",
       " 'n_estimators': 769,\n",
       " 'subsample': 0.7332006072135541,\n",
       " 'n_jobs': -1,\n",
       " 'booster': 'gbtree',\n",
       " 'objective': 'binary:logistic',\n",
       " 'random_state': 42,\n",
       " 'scale_pos_weight': 69.42950326141495}"
      ]
     },
     "execution_count": 114,
     "metadata": {},
     "output_type": "execute_result"
    }
   ],
   "source": []
  },
  {
   "cell_type": "code",
   "execution_count": 146,
   "id": "5e81df10",
   "metadata": {
    "ExecuteTime": {
     "end_time": "2022-07-27T12:57:40.622985Z",
     "start_time": "2022-07-27T12:57:38.239092Z"
    }
   },
   "outputs": [],
   "source": [
    "xgb_opt_preds_test = xgb_clf_opt.predict(X_test_e)\n",
    "xgb_opt_preds_train = xgb_clf_opt.predict(X_train_e)"
   ]
  },
  {
   "cell_type": "code",
   "execution_count": 155,
   "id": "642152de",
   "metadata": {
    "ExecuteTime": {
     "end_time": "2022-07-27T13:15:25.480016Z",
     "start_time": "2022-07-27T13:15:25.127795Z"
    }
   },
   "outputs": [
    {
     "data": {
      "text/plain": [
       "<AxesSubplot:>"
      ]
     },
     "execution_count": 155,
     "metadata": {},
     "output_type": "execute_result"
    },
    {
     "data": {
      "image/png": "[encoded data removed]",
      "text/plain": [
       "<Figure size 432x288 with 2 Axes>"
      ]
     },
     "metadata": {},
     "output_type": "display_data"
    }
   ],
   "source": [
    "# confusion matrix for test data\n",
    "cf_matrix = confusion_matrix(y_test, xgb_opt_preds_test)\n",
    "group_names = ['True Neg','False Pos','False Neg','True Pos']\n",
    "group_counts = ['{0:0.0f}'.format(value) for value in cf_matrix.flatten()]\n",
    "group_percentages = ['{0:.2%}'.format(value) for value in cf_matrix.flatten()/np.sum(cf_matrix)]\n",
    "labels = [f'{v1}\\n{v2}\\n{v3}' for v1, v2, v3 in  zip(group_names,group_counts,group_percentages)]\n",
    "labels = np.asarray(labels).reshape(2,2)\n",
    "sns.heatmap(cf_matrix, annot=labels, fmt='',cmap='Reds')"
   ]
  },
  {
   "cell_type": "code",
   "execution_count": 156,
   "id": "e0af35b4",
   "metadata": {
    "ExecuteTime": {
     "end_time": "2022-07-27T13:15:31.888346Z",
     "start_time": "2022-07-27T13:15:28.393611Z"
    }
   },
   "outputs": [
    {
     "data": {
      "image/png": "[encoded data removed]",
      "text/plain": [
       "<Figure size 1080x504 with 4 Axes>"
      ]
     },
     "metadata": {},
     "output_type": "display_data"
    }
   ],
   "source": [
    "# plot confusion matrices for test and train\n",
    "fig, ax = plt.subplots(1,2, figsize=(15,7))\n",
    "\n",
    "plot_confusion_matrix(xgb_clf_opt, X_train_e,y_train,ax=ax[0], values_format = 'd')\n",
    "ax[0].title.set_text(\"Train Set\")\n",
    "\n",
    "plot_confusion_matrix(xgb_clf_opt, X_test_e,y_test,ax=ax[1],values_format = 'd')\n",
    "ax[1].title.set_text(\"Test Set\")"
   ]
  },
  {
   "cell_type": "code",
   "execution_count": 157,
   "id": "e3acf3d9",
   "metadata": {
    "ExecuteTime": {
     "end_time": "2022-07-27T13:15:33.667623Z",
     "start_time": "2022-07-27T13:15:33.063742Z"
    }
   },
   "outputs": [
    {
     "data": {
      "image/png": "[encoded data removed]",
      "text/plain": [
       "<Figure size 432x288 with 1 Axes>"
      ]
     },
     "metadata": {},
     "output_type": "display_data"
    }
   ],
   "source": [
    "plot_roc(xgb_clf_opt, X_test_e, y_test,'ROC Curve for GBDT') "
   ]
  },
  {
   "cell_type": "code",
   "execution_count": 158,
   "id": "14aa3993",
   "metadata": {
    "ExecuteTime": {
     "end_time": "2022-07-27T13:15:41.505337Z",
     "start_time": "2022-07-27T13:15:37.827810Z"
    }
   },
   "outputs": [],
   "source": [
    "xgb_trn_score_df = tabulate_scores_df('XGBDT_trn', y_train, xgb_opt_preds_train)\n",
    "xgb_tst_score_df = tabulate_scores_df('XGBDT_tst', y_test, xgb_opt_preds_test)"
   ]
  },
  {
   "cell_type": "code",
   "execution_count": 159,
   "id": "6e7287d1",
   "metadata": {
    "ExecuteTime": {
     "end_time": "2022-07-27T13:15:41.713583Z",
     "start_time": "2022-07-27T13:15:41.695147Z"
    }
   },
   "outputs": [
    {
     "data": {
      "text/html": [
       "<div>\n",
       "<style scoped>\n",
       "    .dataframe tbody tr th:only-of-type {\n",
       "        vertical-align: middle;\n",
       "    }\n",
       "\n",
       "    .dataframe tbody tr th {\n",
       "        vertical-align: top;\n",
       "    }\n",
       "\n",
       "    .dataframe thead th {\n",
       "        text-align: right;\n",
       "    }\n",
       "</style>\n",
       "<table border=\"1\" class=\"dataframe\">\n",
       "  <thead>\n",
       "    <tr style=\"text-align: right;\">\n",
       "      <th></th>\n",
       "      <th>Model Name</th>\n",
       "      <th>Accuracy</th>\n",
       "      <th>Precision</th>\n",
       "      <th>Recall</th>\n",
       "      <th>F1-Score</th>\n",
       "    </tr>\n",
       "  </thead>\n",
       "  <tbody>\n",
       "    <tr>\n",
       "      <th>0</th>\n",
       "      <td>XGBDT_trn</td>\n",
       "      <td>0.950122</td>\n",
       "      <td>0.218200</td>\n",
       "      <td>0.972874</td>\n",
       "      <td>0.356453</td>\n",
       "    </tr>\n",
       "    <tr>\n",
       "      <th>0</th>\n",
       "      <td>XGBDT_tst</td>\n",
       "      <td>0.952479</td>\n",
       "      <td>0.216722</td>\n",
       "      <td>0.897743</td>\n",
       "      <td>0.349156</td>\n",
       "    </tr>\n",
       "  </tbody>\n",
       "</table>\n",
       "</div>"
      ],
      "text/plain": [
       "  Model Name  Accuracy  Precision    Recall  F1-Score\n",
       "0  XGBDT_trn  0.950122   0.218200  0.972874  0.356453\n",
       "0  XGBDT_tst  0.952479   0.216722  0.897743  0.349156"
      ]
     },
     "execution_count": 159,
     "metadata": {},
     "output_type": "execute_result"
    }
   ],
   "source": [
    "xgb_scores_df = xgb_trn_score_df.append(xgb_tst_score_df)\n",
    "xgb_scores_df"
   ]
  },
  {
   "cell_type": "code",
   "execution_count": 140,
   "id": "3a48c05a",
   "metadata": {
    "ExecuteTime": {
     "end_time": "2022-07-26T15:37:10.942121Z",
     "start_time": "2022-07-26T15:37:10.916289Z"
    }
   },
   "outputs": [
    {
     "data": {
      "text/html": [
       "<div>\n",
       "<style scoped>\n",
       "    .dataframe tbody tr th:only-of-type {\n",
       "        vertical-align: middle;\n",
       "    }\n",
       "\n",
       "    .dataframe tbody tr th {\n",
       "        vertical-align: top;\n",
       "    }\n",
       "\n",
       "    .dataframe thead th {\n",
       "        text-align: right;\n",
       "    }\n",
       "</style>\n",
       "<table border=\"1\" class=\"dataframe\">\n",
       "  <thead>\n",
       "    <tr style=\"text-align: right;\">\n",
       "      <th></th>\n",
       "      <th>Model Name</th>\n",
       "      <th>Accuracy</th>\n",
       "      <th>F1-Score</th>\n",
       "      <th>Precision</th>\n",
       "      <th>Recall</th>\n",
       "    </tr>\n",
       "  </thead>\n",
       "  <tbody>\n",
       "    <tr>\n",
       "      <th>0</th>\n",
       "      <td>SGD_0</td>\n",
       "      <td>0.734630</td>\n",
       "      <td>0.070634</td>\n",
       "      <td>0.037165</td>\n",
       "      <td>0.710236</td>\n",
       "    </tr>\n",
       "    <tr>\n",
       "      <th>1</th>\n",
       "      <td>SGD_1</td>\n",
       "      <td>0.734351</td>\n",
       "      <td>0.070836</td>\n",
       "      <td>0.037269</td>\n",
       "      <td>0.713176</td>\n",
       "    </tr>\n",
       "    <tr>\n",
       "      <th>2</th>\n",
       "      <td>RF_1</td>\n",
       "      <td>0.952634</td>\n",
       "      <td>0.337676</td>\n",
       "      <td>0.210663</td>\n",
       "      <td>0.850394</td>\n",
       "    </tr>\n",
       "    <tr>\n",
       "      <th>3</th>\n",
       "      <td>XGBDT_1</td>\n",
       "      <td>0.795087</td>\n",
       "      <td>0.108419</td>\n",
       "      <td>0.057779</td>\n",
       "      <td>0.877480</td>\n",
       "    </tr>\n",
       "  </tbody>\n",
       "</table>\n",
       "</div>"
      ],
      "text/plain": [
       "  Model Name  Accuracy  F1-Score  Precision    Recall\n",
       "0      SGD_0  0.734630  0.070634   0.037165  0.710236\n",
       "1      SGD_1  0.734351  0.070836   0.037269  0.713176\n",
       "2       RF_1  0.952634  0.337676   0.210663  0.850394\n",
       "3    XGBDT_1  0.795087  0.108419   0.057779  0.877480"
      ]
     },
     "execution_count": 140,
     "metadata": {},
     "output_type": "execute_result"
    }
   ],
   "source": [
    "\n"
   ]
  },
  {
   "cell_type": "markdown",
   "id": "f6375094",
   "metadata": {},
   "source": [
    "####  Original data no tuning"
   ]
  },
  {
   "cell_type": "code",
   "execution_count": 163,
   "id": "cdfea56b",
   "metadata": {
    "ExecuteTime": {
     "end_time": "2022-07-27T13:22:09.866604Z",
     "start_time": "2022-07-27T13:20:49.056228Z"
    }
   },
   "outputs": [
    {
     "name": "stdout",
     "output_type": "stream",
     "text": [
      "[15:20:49] WARNING: /Users/runner/miniforge3/conda-bld/xgboost-split_1645117899018/work/src/learner.cc:1115: Starting in XGBoost 1.3.0, the default evaluation metric used with the objective 'binary:logistic' was changed from 'error' to 'logloss'. Explicitly set eval_metric if you'd like to restore the old behavior.\n"
     ]
    },
    {
     "ename": "NameError",
     "evalue": "name 'gbdt_orig' is not defined",
     "output_type": "error",
     "traceback": [
      "\u001b[0;31m---------------------------------------------------------------------------\u001b[0m",
      "\u001b[0;31mNameError\u001b[0m                                 Traceback (most recent call last)",
      "Input \u001b[0;32mIn [163]\u001b[0m, in \u001b[0;36m<cell line: 15>\u001b[0;34m()\u001b[0m\n\u001b[1;32m      5\u001b[0m estimate \u001b[38;5;241m=\u001b[39m np\u001b[38;5;241m.\u001b[39msqrt(counter[\u001b[38;5;241m0\u001b[39m] \u001b[38;5;241m/\u001b[39m counter[\u001b[38;5;241m1\u001b[39m])\n\u001b[1;32m      7\u001b[0m xbg_clf0 \u001b[38;5;241m=\u001b[39m XGBClassifier(\n\u001b[1;32m      8\u001b[0m     n_estimators \u001b[38;5;241m=\u001b[39m \u001b[38;5;241m500\u001b[39m,\n\u001b[1;32m      9\u001b[0m     max_depth \u001b[38;5;241m=\u001b[39m \u001b[38;5;241m2\u001b[39m,\n\u001b[0;32m   (...)\u001b[0m\n\u001b[1;32m     13\u001b[0m     scale_pos_weight \u001b[38;5;241m=\u001b[39m estimate\n\u001b[1;32m     14\u001b[0m )\u001b[38;5;241m.\u001b[39mfit(X_train, y_train[\u001b[38;5;124m'\u001b[39m\u001b[38;5;124mlabels\u001b[39m\u001b[38;5;124m'\u001b[39m], verbose\u001b[38;5;241m=\u001b[39m\u001b[38;5;241m1\u001b[39m)\n\u001b[0;32m---> 15\u001b[0m xgb_orig_train \u001b[38;5;241m=\u001b[39m \u001b[43mgbdt_orig\u001b[49m\u001b[38;5;241m.\u001b[39mpredict(X_train)\n\u001b[1;32m     16\u001b[0m xgb_preds_test \u001b[38;5;241m=\u001b[39m gbdt_orig\u001b[38;5;241m.\u001b[39mpredict(X_test)\n",
      "\u001b[0;31mNameError\u001b[0m: name 'gbdt_orig' is not defined"
     ]
    }
   ],
   "source": [
    "# Original data\n",
    "# X_train is not processed.\n",
    "\n",
    "counter = Counter(y_train['labels'])\n",
    "estimate = np.sqrt(counter[0] / counter[1])\n",
    "\n",
    "xbg_clf0 = XGBClassifier(\n",
    "    n_estimators = 500,\n",
    "    max_depth = 2,\n",
    "    verbosity = 1,\n",
    "    n_jobs = 6,\n",
    "    random_state = RAND_STATE,\n",
    "    scale_pos_weight = estimate\n",
    ").fit(X_train, y_train['labels'], verbose=1)"
   ]
  },
  {
   "cell_type": "code",
   "execution_count": 168,
   "id": "3ed55a01",
   "metadata": {
    "ExecuteTime": {
     "end_time": "2022-07-27T13:23:16.091793Z",
     "start_time": "2022-07-27T13:23:15.086289Z"
    }
   },
   "outputs": [],
   "source": [
    "xgb_preds_train = xbg_clf0.predict(X_train)\n",
    "xgb_preds_test = xbg_clf0.predict(X_test)"
   ]
  },
  {
   "cell_type": "code",
   "execution_count": 170,
   "id": "47494a4d",
   "metadata": {
    "ExecuteTime": {
     "end_time": "2022-07-27T13:24:24.004150Z",
     "start_time": "2022-07-27T13:24:20.401743Z"
    }
   },
   "outputs": [],
   "source": [
    "xgb0_trn_score_df = tabulate_scores_df('XGBDT_trn_og', y_train, xgb_preds_train)\n",
    "xgb0_tst_score_df = tabulate_scores_df('XGBDT_tst_og', y_test, xgb_preds_test)\n",
    "xgb_scores_df = xgb_scores_df.append(xgb0_trn_score_df).append(xgb0_tst_score_df)"
   ]
  },
  {
   "cell_type": "code",
   "execution_count": null,
   "id": "2399b4f0",
   "metadata": {},
   "outputs": [],
   "source": []
  },
  {
   "cell_type": "code",
   "execution_count": 171,
   "id": "464b91a4",
   "metadata": {
    "ExecuteTime": {
     "end_time": "2022-07-27T13:24:24.199914Z",
     "start_time": "2022-07-27T13:24:24.193760Z"
    }
   },
   "outputs": [],
   "source": [
    "scores_df = scores_df.append(xgb_scores_df)\n",
    "scores_df.reset_index(drop=True,inplace=True)"
   ]
  },
  {
   "cell_type": "markdown",
   "id": "ef513756",
   "metadata": {},
   "source": [
    "## 3.3 Summary of model results"
   ]
  },
  {
   "cell_type": "code",
   "execution_count": 243,
   "id": "850c6afb",
   "metadata": {
    "ExecuteTime": {
     "end_time": "2022-07-27T14:57:19.017300Z",
     "start_time": "2022-07-27T14:57:19.005649Z"
    }
   },
   "outputs": [
    {
     "data": {
      "text/html": [
       "<div>\n",
       "<style scoped>\n",
       "    .dataframe tbody tr th:only-of-type {\n",
       "        vertical-align: middle;\n",
       "    }\n",
       "\n",
       "    .dataframe tbody tr th {\n",
       "        vertical-align: top;\n",
       "    }\n",
       "\n",
       "    .dataframe thead th {\n",
       "        text-align: right;\n",
       "    }\n",
       "</style>\n",
       "<table border=\"1\" class=\"dataframe\">\n",
       "  <thead>\n",
       "    <tr style=\"text-align: right;\">\n",
       "      <th></th>\n",
       "      <th>Model Name</th>\n",
       "      <th>Accuracy</th>\n",
       "      <th>Precision</th>\n",
       "      <th>Recall</th>\n",
       "      <th>F1-Score</th>\n",
       "    </tr>\n",
       "  </thead>\n",
       "  <tbody>\n",
       "    <tr>\n",
       "      <th>0</th>\n",
       "      <td>RF_trn</td>\n",
       "      <td>0.940706</td>\n",
       "      <td>0.186698</td>\n",
       "      <td>0.946312</td>\n",
       "      <td>0.311868</td>\n",
       "    </tr>\n",
       "    <tr>\n",
       "      <th>1</th>\n",
       "      <td>RF_tst</td>\n",
       "      <td>0.902312</td>\n",
       "      <td>0.118172</td>\n",
       "      <td>0.909921</td>\n",
       "      <td>0.209179</td>\n",
       "    </tr>\n",
       "    <tr>\n",
       "      <th>2</th>\n",
       "      <td>XGBDT_trn</td>\n",
       "      <td>0.950122</td>\n",
       "      <td>0.2182</td>\n",
       "      <td>0.972874</td>\n",
       "      <td>0.356453</td>\n",
       "    </tr>\n",
       "    <tr>\n",
       "      <th>3</th>\n",
       "      <td>XGBDT_tst</td>\n",
       "      <td>0.952479</td>\n",
       "      <td>0.216722</td>\n",
       "      <td>0.897743</td>\n",
       "      <td>0.349156</td>\n",
       "    </tr>\n",
       "    <tr>\n",
       "      <th>4</th>\n",
       "      <td>XGBDT_trn_og</td>\n",
       "      <td>0.977231</td>\n",
       "      <td>0.313949</td>\n",
       "      <td>0.509251</td>\n",
       "      <td>0.388432</td>\n",
       "    </tr>\n",
       "    <tr>\n",
       "      <th>5</th>\n",
       "      <td>XGBDT_tst_og</td>\n",
       "      <td>0.976789</td>\n",
       "      <td>0.306019</td>\n",
       "      <td>0.500682</td>\n",
       "      <td>0.379864</td>\n",
       "    </tr>\n",
       "    <tr>\n",
       "      <th>6</th>\n",
       "      <td>SGD_trn</td>\n",
       "      <td>0.676956</td>\n",
       "      <td>0.025152</td>\n",
       "      <td>0.576079</td>\n",
       "      <td>0.048199</td>\n",
       "    </tr>\n",
       "    <tr>\n",
       "      <th>7</th>\n",
       "      <td>SGD_tst</td>\n",
       "      <td>0.683702</td>\n",
       "      <td>0.025466</td>\n",
       "      <td>0.570919</td>\n",
       "      <td>0.048758</td>\n",
       "    </tr>\n",
       "  </tbody>\n",
       "</table>\n",
       "</div>"
      ],
      "text/plain": [
       "     Model Name  Accuracy Precision    Recall  F1-Score\n",
       "0        RF_trn  0.940706  0.186698  0.946312  0.311868\n",
       "1        RF_tst  0.902312  0.118172  0.909921  0.209179\n",
       "2     XGBDT_trn  0.950122    0.2182  0.972874  0.356453\n",
       "3     XGBDT_tst  0.952479  0.216722  0.897743  0.349156\n",
       "4  XGBDT_trn_og  0.977231  0.313949  0.509251  0.388432\n",
       "5  XGBDT_tst_og  0.976789  0.306019  0.500682  0.379864\n",
       "6       SGD_trn  0.676956  0.025152  0.576079  0.048199\n",
       "7       SGD_tst  0.683702  0.025466  0.570919  0.048758"
      ]
     },
     "execution_count": 243,
     "metadata": {},
     "output_type": "execute_result"
    }
   ],
   "source": [
    "scores_df"
   ]
  },
  {
   "cell_type": "code",
   "execution_count": 244,
   "id": "4c5b04e9",
   "metadata": {
    "ExecuteTime": {
     "end_time": "2022-07-27T14:57:21.674954Z",
     "start_time": "2022-07-27T14:57:21.671700Z"
    }
   },
   "outputs": [],
   "source": [
    "tst_scores_df = scores_df.iloc[1:9:2]"
   ]
  },
  {
   "cell_type": "code",
   "execution_count": 246,
   "id": "e2137898",
   "metadata": {
    "ExecuteTime": {
     "end_time": "2022-07-27T14:57:39.754497Z",
     "start_time": "2022-07-27T14:57:39.748819Z"
    }
   },
   "outputs": [],
   "source": [
    "tst_scores_df.reset_index(drop=True,inplace=True)"
   ]
  },
  {
   "cell_type": "code",
   "execution_count": 266,
   "id": "82d0a5b9",
   "metadata": {
    "ExecuteTime": {
     "end_time": "2022-07-27T15:03:28.914126Z",
     "start_time": "2022-07-27T15:03:28.900610Z"
    }
   },
   "outputs": [
    {
     "data": {
      "text/html": [
       "<div>\n",
       "<style scoped>\n",
       "    .dataframe tbody tr th:only-of-type {\n",
       "        vertical-align: middle;\n",
       "    }\n",
       "\n",
       "    .dataframe tbody tr th {\n",
       "        vertical-align: top;\n",
       "    }\n",
       "\n",
       "    .dataframe thead th {\n",
       "        text-align: right;\n",
       "    }\n",
       "</style>\n",
       "<table border=\"1\" class=\"dataframe\">\n",
       "  <thead>\n",
       "    <tr style=\"text-align: right;\">\n",
       "      <th></th>\n",
       "      <th>Model Name</th>\n",
       "      <th>Accuracy</th>\n",
       "      <th>Precision</th>\n",
       "      <th>Recall</th>\n",
       "      <th>F1-Score</th>\n",
       "    </tr>\n",
       "  </thead>\n",
       "  <tbody>\n",
       "    <tr>\n",
       "      <th>0</th>\n",
       "      <td>RF_tst</td>\n",
       "      <td>0.902312</td>\n",
       "      <td>0.118172</td>\n",
       "      <td>0.909921</td>\n",
       "      <td>0.209179</td>\n",
       "    </tr>\n",
       "    <tr>\n",
       "      <th>1</th>\n",
       "      <td>XGBDT_tst</td>\n",
       "      <td>0.952479</td>\n",
       "      <td>0.216722</td>\n",
       "      <td>0.897743</td>\n",
       "      <td>0.349156</td>\n",
       "    </tr>\n",
       "  </tbody>\n",
       "</table>\n",
       "</div>"
      ],
      "text/plain": [
       "  Model Name  Accuracy Precision    Recall  F1-Score\n",
       "0     RF_tst  0.902312  0.118172  0.909921  0.209179\n",
       "1  XGBDT_tst  0.952479  0.216722  0.897743  0.349156"
      ]
     },
     "execution_count": 266,
     "metadata": {},
     "output_type": "execute_result"
    }
   ],
   "source": [
    "np.round(tst_scores_df.iloc[:2],decimals=2)"
   ]
  },
  {
   "cell_type": "code",
   "execution_count": 271,
   "id": "30008aa7",
   "metadata": {
    "ExecuteTime": {
     "end_time": "2022-07-27T15:04:12.600192Z",
     "start_time": "2022-07-27T15:04:12.593718Z"
    }
   },
   "outputs": [],
   "source": [
    "trn_scores_df = scores_df.iloc[0:6:2]\n",
    "trn_scores_df =trn_scores_df.sort_values(by='Recall',ascending=False)\n",
    "trn_scores_df.reset_index(drop=True,inplace=True)\n"
   ]
  },
  {
   "cell_type": "code",
   "execution_count": 288,
   "id": "2b7397df",
   "metadata": {
    "ExecuteTime": {
     "end_time": "2022-07-27T21:02:17.418345Z",
     "start_time": "2022-07-27T21:02:17.410698Z"
    }
   },
   "outputs": [
    {
     "data": {
      "text/plain": [
       "Index(['Accuracy', 'Precision', 'Recall', 'F1-Score'], dtype='object')"
      ]
     },
     "execution_count": 288,
     "metadata": {},
     "output_type": "execute_result"
    }
   ],
   "source": [
    "trn_scores_df.columns[1:]"
   ]
  },
  {
   "cell_type": "code",
   "execution_count": 234,
   "id": "bd9f0ed9",
   "metadata": {
    "ExecuteTime": {
     "end_time": "2022-07-27T13:47:57.465604Z",
     "start_time": "2022-07-27T13:47:57.451001Z"
    }
   },
   "outputs": [
    {
     "data": {
      "text/html": [
       "<div>\n",
       "<style scoped>\n",
       "    .dataframe tbody tr th:only-of-type {\n",
       "        vertical-align: middle;\n",
       "    }\n",
       "\n",
       "    .dataframe tbody tr th {\n",
       "        vertical-align: top;\n",
       "    }\n",
       "\n",
       "    .dataframe thead th {\n",
       "        text-align: right;\n",
       "    }\n",
       "</style>\n",
       "<table border=\"1\" class=\"dataframe\">\n",
       "  <thead>\n",
       "    <tr style=\"text-align: right;\">\n",
       "      <th></th>\n",
       "      <th>Model Name</th>\n",
       "      <th>Accuracy</th>\n",
       "      <th>Precision</th>\n",
       "      <th>Recall</th>\n",
       "      <th>F1-Score</th>\n",
       "    </tr>\n",
       "  </thead>\n",
       "  <tbody>\n",
       "    <tr>\n",
       "      <th>0</th>\n",
       "      <td>RF_tst</td>\n",
       "      <td>0.902312</td>\n",
       "      <td>0.118172</td>\n",
       "      <td>0.909921</td>\n",
       "      <td>0.209179</td>\n",
       "    </tr>\n",
       "    <tr>\n",
       "      <th>1</th>\n",
       "      <td>XGBDT_tst</td>\n",
       "      <td>0.952479</td>\n",
       "      <td>0.216722</td>\n",
       "      <td>0.897743</td>\n",
       "      <td>0.349156</td>\n",
       "    </tr>\n",
       "    <tr>\n",
       "      <th>2</th>\n",
       "      <td>SGD_tst</td>\n",
       "      <td>0.683702</td>\n",
       "      <td>0.025466</td>\n",
       "      <td>0.570919</td>\n",
       "      <td>0.048758</td>\n",
       "    </tr>\n",
       "  </tbody>\n",
       "</table>\n",
       "</div>"
      ],
      "text/plain": [
       "  Model Name  Accuracy Precision    Recall  F1-Score\n",
       "0     RF_tst  0.902312  0.118172  0.909921  0.209179\n",
       "1  XGBDT_tst  0.952479  0.216722  0.897743  0.349156\n",
       "2    SGD_tst  0.683702  0.025466  0.570919  0.048758"
      ]
     },
     "execution_count": 234,
     "metadata": {},
     "output_type": "execute_result"
    }
   ],
   "source": [
    "tst_scores_df=tst_scores_df.sort_values(by='Recall',ascending=False)\n",
    "tst_scores_df.reset_index(drop=True).iloc[0:-1]"
   ]
  },
  {
   "cell_type": "code",
   "execution_count": 291,
   "id": "2b0255d3",
   "metadata": {
    "ExecuteTime": {
     "end_time": "2022-07-27T21:03:45.137888Z",
     "start_time": "2022-07-27T21:03:45.097144Z"
    }
   },
   "outputs": [
    {
     "name": "stderr",
     "output_type": "stream",
     "text": [
      "/var/folders/lj/my6r3k650wl54v5nz5r6x5cm0000gn/T/ipykernel_44028/2597407325.py:3: SettingWithCopyWarning: \n",
      "A value is trying to be set on a copy of a slice from a DataFrame.\n",
      "Try using .loc[row_indexer,col_indexer] = value instead\n",
      "\n",
      "See the caveats in the documentation: https://pandas.pydata.org/pandas-docs/stable/user_guide/indexing.html#returning-a-view-versus-a-copy\n",
      "  tst_scores_df[c] = tst_scores_df[c].astype(float).round(3)\n"
     ]
    }
   ],
   "source": [
    "cast_cols = trn_scores_df.columns[1:]\n",
    "for c in cast_cols:\n",
    "    tst_scores_df[c] = tst_scores_df[c].astype(float).round(3)\n",
    "    trn_scores_df[c] = trn_scores_df[c].astype(float).round(3)"
   ]
  },
  {
   "cell_type": "code",
   "execution_count": 295,
   "id": "f9694dde",
   "metadata": {
    "ExecuteTime": {
     "end_time": "2022-07-27T21:04:19.679576Z",
     "start_time": "2022-07-27T21:04:19.667229Z"
    }
   },
   "outputs": [
    {
     "data": {
      "text/html": [
       "<div>\n",
       "<style scoped>\n",
       "    .dataframe tbody tr th:only-of-type {\n",
       "        vertical-align: middle;\n",
       "    }\n",
       "\n",
       "    .dataframe tbody tr th {\n",
       "        vertical-align: top;\n",
       "    }\n",
       "\n",
       "    .dataframe thead th {\n",
       "        text-align: right;\n",
       "    }\n",
       "</style>\n",
       "<table border=\"1\" class=\"dataframe\">\n",
       "  <thead>\n",
       "    <tr style=\"text-align: right;\">\n",
       "      <th></th>\n",
       "      <th>Model Name</th>\n",
       "      <th>Accuracy</th>\n",
       "      <th>Precision</th>\n",
       "      <th>Recall</th>\n",
       "      <th>F1-Score</th>\n",
       "    </tr>\n",
       "  </thead>\n",
       "  <tbody>\n",
       "    <tr>\n",
       "      <th>0</th>\n",
       "      <td>RF_tst</td>\n",
       "      <td>0.902</td>\n",
       "      <td>0.118</td>\n",
       "      <td>0.910</td>\n",
       "      <td>0.209</td>\n",
       "    </tr>\n",
       "    <tr>\n",
       "      <th>1</th>\n",
       "      <td>XGBDT_tst</td>\n",
       "      <td>0.952</td>\n",
       "      <td>0.217</td>\n",
       "      <td>0.898</td>\n",
       "      <td>0.349</td>\n",
       "    </tr>\n",
       "  </tbody>\n",
       "</table>\n",
       "</div>"
      ],
      "text/plain": [
       "  Model Name  Accuracy  Precision  Recall  F1-Score\n",
       "0     RF_tst     0.902      0.118   0.910     0.209\n",
       "1  XGBDT_tst     0.952      0.217   0.898     0.349"
      ]
     },
     "execution_count": 295,
     "metadata": {},
     "output_type": "execute_result"
    }
   ],
   "source": [
    "tst_scores_df[0:2]"
   ]
  },
  {
   "cell_type": "code",
   "execution_count": 185,
   "id": "616ffe14",
   "metadata": {
    "ExecuteTime": {
     "end_time": "2022-07-27T13:29:36.247835Z",
     "start_time": "2022-07-27T13:29:36.238232Z"
    }
   },
   "outputs": [],
   "source": [
    "scores_df.to_csv('all_model_rank_scores.csv')"
   ]
  },
  {
   "cell_type": "code",
   "execution_count": null,
   "id": "ca39e9ef",
   "metadata": {
    "ExecuteTime": {
     "end_time": "2022-07-26T15:25:15.430828Z",
     "start_time": "2022-07-26T15:25:15.430824Z"
    }
   },
   "outputs": [],
   "source": [
    "# fig, axes = plt.subplots(1, 3, figsize=(15, 4))\n",
    "#sns.barplot(data=scores_df, x='Model Name', y='Accuracy', ax=axes[0,0])\n",
    "#sns.barplot(data=scores_df, x='Model Name', y='Precision', ax=axes[0])\n",
    "#sns.barplot(data=scores_df, x='Model Name', y='Recall', ax=axes[1])\n",
    "#sns.barplot(data=scores_df, x='Model Name', y='F1-Score', ax=axes[2])\n",
    "#plt.title(\"Model Comparisons\")\n",
    "#plt.savefig('model_metrics_ bars.png',dpi=400)"
   ]
  },
  {
   "cell_type": "code",
   "execution_count": 237,
   "id": "658801f0",
   "metadata": {
    "ExecuteTime": {
     "end_time": "2022-07-27T14:50:29.907597Z",
     "start_time": "2022-07-27T14:50:29.398927Z"
    }
   },
   "outputs": [
    {
     "data": {
      "image/png": "[encoded data removed]",
      "text/plain": [
       "<Figure size 576x360 with 1 Axes>"
      ]
     },
     "metadata": {},
     "output_type": "display_data"
    }
   ],
   "source": [
    "#calculate precision and recall\n",
    "\n",
    "#create precision recall curve\n",
    "fig, ax = plt.subplots(figsize=(8,5))\n",
    "precision, recall, thresholds = precision_recall_curve(y_test, sgd_opt_preds_test)\n",
    "ax.plot(recall, precision, color='green', label = 'LR' )\n",
    "#add axis labels to plot\n",
    "ax.set_title('PRC')\n",
    "ax.set_ylabel('Precision')\n",
    "ax.set_xlabel('Recall')\n",
    "precision, recall, thresholds = precision_recall_curve(y_test, rf_opt_preds_test)\n",
    "ax.plot(recall, precision, color='purple', label  = 'RF')\n",
    "#add axis labels to plot\n",
    "#display plot\n",
    "precision, recall, thresholds = precision_recall_curve(y_test, xgb_opt_preds_test)\n",
    "ax.plot(recall, precision, color='blue', label  = 'XGBDT')\n",
    "plt.legend(loc='upper right')\n",
    "#add axis labels to plot\n",
    "#display plot\n",
    "plt.savefig('PRC.png',dpi=400)\n"
   ]
  },
  {
   "cell_type": "code",
   "execution_count": 273,
   "id": "5f138df8",
   "metadata": {
    "ExecuteTime": {
     "end_time": "2022-07-27T15:04:23.562826Z",
     "start_time": "2022-07-27T15:04:22.835260Z"
    }
   },
   "outputs": [
    {
     "data": {
      "image/png": "[encoded data removed]",
      "text/plain": [
       "<Figure size 1008x576 with 4 Axes>"
      ]
     },
     "metadata": {},
     "output_type": "display_data"
    }
   ],
   "source": [
    "fig, axes = plt.subplots(2, 2, figsize=(14, 8))\n",
    "sns.barplot(data=tst_scores_df, x='Model Name', y='Accuracy', ax=axes[0,0])\n",
    "sns.barplot(data=tst_scores_df, x='Model Name', y='Precision', ax=axes[0,1])\n",
    "sns.barplot(data=tst_scores_df, x='Model Name', y='Recall', ax=axes[1,0])\n",
    "sns.barplot(data=tst_scores_df, x='Model Name', y='F1-Score', ax=axes[1,1])\n",
    "#plt.title(\"Model Comparisons\")\n",
    "plt.savefig('bars.png',dpi=400)"
   ]
  },
  {
   "cell_type": "code",
   "execution_count": null,
   "id": "26ff88fa",
   "metadata": {},
   "outputs": [],
   "source": []
  }
 ],
 "metadata": {
  "kernelspec": {
   "display_name": "Python 3 (ipykernel)",
   "language": "python",
   "name": "python3"
  },
  "language_info": {
   "codemirror_mode": {
    "name": "ipython",
    "version": 3
   },
   "file_extension": ".py",
   "mimetype": "text/x-python",
   "name": "python",
   "nbconvert_exporter": "python",
   "pygments_lexer": "ipython3",
   "version": "3.9.0"
  },
  "toc": {
   "base_numbering": 1,
   "nav_menu": {},
   "number_sections": false,
   "sideBar": true,
   "skip_h1_title": false,
   "title_cell": "Table of Contents",
   "title_sidebar": "Contents",
   "toc_cell": false,
   "toc_position": {
    "height": "calc(100% - 180px)",
    "left": "10px",
    "top": "150px",
    "width": "343px"
   },
   "toc_section_display": true,
   "toc_window_display": true
  },
  "varInspector": {
   "cols": {
    "lenName": 16,
    "lenType": 16,
    "lenVar": 40
   },
   "kernels_config": {
    "python": {
     "delete_cmd_postfix": "",
     "delete_cmd_prefix": "del ",
     "library": "var_list.py",
     "varRefreshCmd": "print(var_dic_list())"
    },
    "r": {
     "delete_cmd_postfix": ") ",
     "delete_cmd_prefix": "rm(",
     "library": "var_list.r",
     "varRefreshCmd": "cat(var_dic_list()) "
    }
   },
   "types_to_exclude": [
    "module",
    "function",
    "builtin_function_or_method",
    "instance",
    "_Feature"
   ],
   "window_display": false
  }
 },
 "nbformat": 4,
 "nbformat_minor": 5
}
