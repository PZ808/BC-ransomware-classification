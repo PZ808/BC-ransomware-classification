{
 "cells": [
  {
   "cell_type": "markdown",
   "id": "6f6fa43a",
   "metadata": {
    "heading_collapsed": true
   },
   "source": [
    "# 0.0 Table of Contents\n",
    "\n",
    "1. [Introduction](#1.0-Introduction)\n",
    "\n",
    "2. [Feature Analysis](#2.0-Feature-Analysis)\n"
   ]
  },
  {
   "cell_type": "markdown",
   "id": "86fd8be8",
   "metadata": {},
   "source": [
    "# 1.0 Introduction\n",
    " "
   ]
  },
  {
   "cell_type": "markdown",
   "id": "48a0c01d",
   "metadata": {},
   "source": [
    "### 1.1 Project -  Binary classification of bitcoin addresses\n",
    "\n",
    "-  **GOAL:** to predict whether an address has been the recipient of ransomware coins. \n",
    "\n",
    "-  **DATA:**  Data is time series (24hr chunks) derived from the topological and geometrical properties of the bitcoin network.\n",
    "\n",
    "### 1.2 Basics\n",
    "\n",
    "- Ransomware is a rogue compute code that encrypts the victim's filesystem unless money is paid to the attacker for decryption. \n",
    "\n",
    "- Bitcoin is often used for these payments because it provides a semi-anonymous transaction method.  Classify bitcoin addressess as \n",
    "\n",
    "- The dataset was taken from the UCI Machine Learning Repository. It contains labelled data of addresses according to whether they have been involved in Ransomware. The data is from 2009 January to 2018 December. \n",
    "- Link to the data-set: [click here](https://archive.ics.uci.edu/ml/datasets/BitcoinHeistRansomwareAddressDataset)\n",
    "\n",
    "#### 1.2.0 Variables:\n",
    "---\n",
    "**\"starter transactions\"**: transactions which are spent outputs from the  previous time window <n>\n",
    "\n",
    "Variables:\n",
    "\n",
    "- The **address** is a public address (key) which can receive and send bitcoins.        \n",
    "- The **income** of an address $a$ is the total amount of coins output to it measured in Satoshis (1 millionth of a BC)\n",
    "<b>\n",
    "- The number of (in) **neighbors** of an address $a$  is the number of transactions which\n",
    "have $a$ as one of its output addresses:\n",
    "<b>\n",
    "- The **weight** of an address is the sum of the fraction of *coins* that come from a starter transaction and merge at the address. Weight quantifies the merge behavior (i.e., the transaction\n",
    "has more input addresses than output addresses), where coins\n",
    "in multiple addresses are each passed through a succession of\n",
    "merging transactions and accumulated in a final address.\n",
    "- The **length** of an address $a$ is the number of non-starter transactions connected to $a$ on the longest chain.  A length of zero implies that the address is the recipient of starter transaction.\n",
    "address is an output address of a starter transaction.\n",
    "- The **count** of an address $a$ is the number of starter transactions\n",
    "which are connected to $a$ in a chain, where a chain is\n",
    "defined as an acyclic directed path originating from any starter\n",
    "transaction and ending at address $a$. he count feature represents\n",
    "information on the number of transactions, whereas the weight\n",
    "feature represents information on the amount (what percent of\n",
    "these transactions’ output?) of transactions.\n",
    "- **looped** is the number of starter transactions connected to $a$ by more than one path (chain). "
   ]
  },
  {
   "cell_type": "markdown",
   "id": "10c7352c",
   "metadata": {},
   "source": [
    "### 1.3 Packages and helper functions"
   ]
  },
  {
   "cell_type": "code",
   "execution_count": 2,
   "id": "b142e4c0",
   "metadata": {
    "ExecuteTime": {
     "end_time": "2022-07-26T10:37:37.959282Z",
     "start_time": "2022-07-26T10:37:37.952052Z"
    }
   },
   "outputs": [],
   "source": [
    "import pandas as pd\n",
    "import numpy as np\n",
    "import matplotlib\n",
    "import matplotlib.pyplot as plt\n",
    "import seaborn as sns\n",
    "from tqdm.notebook import tqdm\n",
    "import os\n",
    "import pickle\n",
    "import pdb\n",
    "import datetime\n",
    "import warnings\n",
    "\n",
    "from scipy.stats import pearsonr\n",
    "from scipy.stats import boxcox, yeojohnson\n",
    "\n",
    "\n",
    "from sklearn.model_selection import train_test_split\n",
    "\n",
    "from sklearn.preprocessing import PowerTransformer\n",
    "from sklearn.preprocessing import StandardScaler, OneHotEncoder\n",
    "from sklearn.compose import ColumnTransformer\n",
    "\n",
    "warnings.filterwarnings(\"ignore\",category=matplotlib.cbook.mplDeprecation)\n",
    "warnings.filterwarnings(\"ignore\", category=UserWarning)\n",
    "_ = np.seterr(over='ignore')\n",
    "#from pretty_confusion_matrix import plot_confusion_matrix_from_data as conf_matrix\n",
    "warnings.simplefilter(action='ignore', category=FutureWarning)"
   ]
  },
  {
   "cell_type": "code",
   "execution_count": 3,
   "id": "bac7e8cb",
   "metadata": {
    "ExecuteTime": {
     "end_time": "2022-07-26T10:37:40.450830Z",
     "start_time": "2022-07-26T10:37:40.444962Z"
    }
   },
   "outputs": [],
   "source": [
    "RAND_STATE  = 42\n",
    "SPLIT_RATIO = 0.23\n",
    "SAVE_TEST_TRAIN = True\n",
    "DS_FRAC = 1\n",
    "NF = 5"
   ]
  },
  {
   "cell_type": "code",
   "execution_count": 4,
   "id": "cc676ad1",
   "metadata": {
    "ExecuteTime": {
     "end_time": "2022-07-26T10:37:40.950387Z",
     "start_time": "2022-07-26T10:37:40.944494Z"
    }
   },
   "outputs": [],
   "source": [
    "def sigmoid(x):\n",
    "    #returns the logistic function of x\n",
    "    return 1 / (1 + np.exp(-x))"
   ]
  },
  {
   "cell_type": "markdown",
   "id": "2455c471",
   "metadata": {},
   "source": [
    "### 1.4 Importing data"
   ]
  },
  {
   "cell_type": "code",
   "execution_count": 6,
   "id": "c6001d1c",
   "metadata": {
    "ExecuteTime": {
     "end_time": "2022-07-26T10:37:52.274883Z",
     "start_time": "2022-07-26T10:37:49.903056Z"
    }
   },
   "outputs": [
    {
     "data": {
      "text/plain": [
       "(2916697, 10)"
      ]
     },
     "execution_count": 6,
     "metadata": {},
     "output_type": "execute_result"
    }
   ],
   "source": [
    "df = pd.read_csv('BitcoinHeistData.csv')\n",
    "df = df.sample(frac=DS_FRAC, axis=0,random_state=RAND_STATE)\n",
    "ROWS = df.shape[0]\n",
    "COLS = df.shape[1]\n",
    "ROWS,COLS"
   ]
  },
  {
   "cell_type": "code",
   "execution_count": 7,
   "id": "fc0b9086",
   "metadata": {
    "ExecuteTime": {
     "end_time": "2022-07-26T10:37:52.348023Z",
     "start_time": "2022-07-26T10:37:52.295199Z"
    }
   },
   "outputs": [],
   "source": [
    "# copy a data frame\n",
    "dfc = df.copy()"
   ]
  },
  {
   "cell_type": "code",
   "execution_count": 8,
   "id": "8787e035",
   "metadata": {
    "ExecuteTime": {
     "end_time": "2022-07-26T10:37:52.375321Z",
     "start_time": "2022-07-26T10:37:52.370138Z"
    }
   },
   "outputs": [
    {
     "data": {
      "text/html": [
       "<div>\n",
       "<style scoped>\n",
       "    .dataframe tbody tr th:only-of-type {\n",
       "        vertical-align: middle;\n",
       "    }\n",
       "\n",
       "    .dataframe tbody tr th {\n",
       "        vertical-align: top;\n",
       "    }\n",
       "\n",
       "    .dataframe thead th {\n",
       "        text-align: right;\n",
       "    }\n",
       "</style>\n",
       "<table border=\"1\" class=\"dataframe\">\n",
       "  <thead>\n",
       "    <tr style=\"text-align: right;\">\n",
       "      <th></th>\n",
       "      <th>address</th>\n",
       "      <th>year</th>\n",
       "      <th>day</th>\n",
       "      <th>length</th>\n",
       "      <th>weight</th>\n",
       "      <th>count</th>\n",
       "      <th>looped</th>\n",
       "      <th>neighbors</th>\n",
       "      <th>income</th>\n",
       "      <th>label</th>\n",
       "    </tr>\n",
       "  </thead>\n",
       "  <tbody>\n",
       "    <tr>\n",
       "      <th>2667698</th>\n",
       "      <td>15DQFhP5R7ZeaBS9Ute7NzrYVBFSH1Z2kZ</td>\n",
       "      <td>2018</td>\n",
       "      <td>82</td>\n",
       "      <td>8</td>\n",
       "      <td>1.311111</td>\n",
       "      <td>3</td>\n",
       "      <td>0</td>\n",
       "      <td>2</td>\n",
       "      <td>577264100.0</td>\n",
       "      <td>white</td>\n",
       "    </tr>\n",
       "    <tr>\n",
       "      <th>2013400</th>\n",
       "      <td>3FhUXgmVecach9dZ59JK1yBLEcr9JsvJXZ</td>\n",
       "      <td>2016</td>\n",
       "      <td>157</td>\n",
       "      <td>2</td>\n",
       "      <td>0.025000</td>\n",
       "      <td>44</td>\n",
       "      <td>0</td>\n",
       "      <td>1</td>\n",
       "      <td>100000000.0</td>\n",
       "      <td>white</td>\n",
       "    </tr>\n",
       "    <tr>\n",
       "      <th>2704440</th>\n",
       "      <td>3DpHZaCtj88yaXUtajYnYLb8xgN15K8fnw</td>\n",
       "      <td>2018</td>\n",
       "      <td>118</td>\n",
       "      <td>144</td>\n",
       "      <td>3.619217</td>\n",
       "      <td>5991</td>\n",
       "      <td>5991</td>\n",
       "      <td>2</td>\n",
       "      <td>299950000.0</td>\n",
       "      <td>white</td>\n",
       "    </tr>\n",
       "    <tr>\n",
       "      <th>1650833</th>\n",
       "      <td>1G6doAKXpDsnsdSA1wgh7jfAnkaPi49M4y</td>\n",
       "      <td>2015</td>\n",
       "      <td>160</td>\n",
       "      <td>144</td>\n",
       "      <td>0.000484</td>\n",
       "      <td>3452</td>\n",
       "      <td>3049</td>\n",
       "      <td>2</td>\n",
       "      <td>299000000.0</td>\n",
       "      <td>white</td>\n",
       "    </tr>\n",
       "    <tr>\n",
       "      <th>1586811</th>\n",
       "      <td>175gAXqbkq4nho268FZxoBZ7TCCZWzWcg</td>\n",
       "      <td>2015</td>\n",
       "      <td>96</td>\n",
       "      <td>128</td>\n",
       "      <td>0.625000</td>\n",
       "      <td>2</td>\n",
       "      <td>0</td>\n",
       "      <td>2</td>\n",
       "      <td>40000000.0</td>\n",
       "      <td>white</td>\n",
       "    </tr>\n",
       "  </tbody>\n",
       "</table>\n",
       "</div>"
      ],
      "text/plain": [
       "                                    address  year  day  length    weight  \\\n",
       "2667698  15DQFhP5R7ZeaBS9Ute7NzrYVBFSH1Z2kZ  2018   82       8  1.311111   \n",
       "2013400  3FhUXgmVecach9dZ59JK1yBLEcr9JsvJXZ  2016  157       2  0.025000   \n",
       "2704440  3DpHZaCtj88yaXUtajYnYLb8xgN15K8fnw  2018  118     144  3.619217   \n",
       "1650833  1G6doAKXpDsnsdSA1wgh7jfAnkaPi49M4y  2015  160     144  0.000484   \n",
       "1586811   175gAXqbkq4nho268FZxoBZ7TCCZWzWcg  2015   96     128  0.625000   \n",
       "\n",
       "         count  looped  neighbors       income  label  \n",
       "2667698      3       0          2  577264100.0  white  \n",
       "2013400     44       0          1  100000000.0  white  \n",
       "2704440   5991    5991          2  299950000.0  white  \n",
       "1650833   3452    3049          2  299000000.0  white  \n",
       "1586811      2       0          2   40000000.0  white  "
      ]
     },
     "execution_count": 8,
     "metadata": {},
     "output_type": "execute_result"
    }
   ],
   "source": [
    "df.head()"
   ]
  },
  {
   "cell_type": "code",
   "execution_count": 9,
   "id": "a328e72d",
   "metadata": {
    "ExecuteTime": {
     "end_time": "2022-07-26T10:37:54.346421Z",
     "start_time": "2022-07-26T10:37:52.401672Z"
    }
   },
   "outputs": [],
   "source": [
    "remove_words = [\"princeton\",\"padua\",\"montreal\"]\n",
    "for r in remove_words:\n",
    "    dfc['label']=dfc['label'].str.replace(r,\"\")"
   ]
  },
  {
   "cell_type": "markdown",
   "id": "06c98382",
   "metadata": {},
   "source": []
  },
  {
   "cell_type": "code",
   "execution_count": 10,
   "id": "68b6b3be",
   "metadata": {
    "ExecuteTime": {
     "end_time": "2022-07-26T10:37:58.205603Z",
     "start_time": "2022-07-26T10:37:58.175808Z"
    }
   },
   "outputs": [
    {
     "name": "stdout",
     "output_type": "stream",
     "text": [
      "The data extends from 2011 to 2018.\n",
      "File containts 2916697 rows and 10 columns\n"
     ]
    }
   ],
   "source": [
    "years = df['year'].unique()\n",
    "print('The data extends from {} to {}.'.format(years.min(),years.max()))\n",
    "print('File containts {:d} rows and {} columns'.format(df.shape[0], df.shape[1]))\n"
   ]
  },
  {
   "cell_type": "code",
   "execution_count": 11,
   "id": "ec523d80",
   "metadata": {
    "ExecuteTime": {
     "end_time": "2022-07-26T10:37:59.413805Z",
     "start_time": "2022-07-26T10:37:59.407886Z"
    },
    "run_control": {
     "marked": true
    }
   },
   "outputs": [
    {
     "name": "stdout",
     "output_type": "stream",
     "text": [
      "Feature columns: \n",
      "['address', 'year', 'day', 'length', 'weight', 'count', 'looped', 'neighbors', 'income']\n"
     ]
    }
   ],
   "source": [
    "features=list(df.columns)[:-1]\n",
    "print('Feature columns: \\n{}'.format(features))"
   ]
  },
  {
   "cell_type": "code",
   "execution_count": 12,
   "id": "90e1c28a",
   "metadata": {
    "ExecuteTime": {
     "end_time": "2022-07-26T10:37:59.703110Z",
     "start_time": "2022-07-26T10:37:59.697259Z"
    }
   },
   "outputs": [
    {
     "name": "stdout",
     "output_type": "stream",
     "text": [
      "Datatypes: \n",
      "\n",
      "address       object\n",
      "year           int64\n",
      "day            int64\n",
      "length         int64\n",
      "weight       float64\n",
      "count          int64\n",
      "looped         int64\n",
      "neighbors      int64\n",
      "income       float64\n",
      "label         object\n",
      "dtype: object\n"
     ]
    }
   ],
   "source": [
    "print('Datatypes: \\n\\n{}'.format(df.dtypes))"
   ]
  },
  {
   "cell_type": "code",
   "execution_count": 13,
   "id": "7cf798dd",
   "metadata": {
    "ExecuteTime": {
     "end_time": "2022-07-26T10:38:01.071687Z",
     "start_time": "2022-07-26T10:38:00.850245Z"
    }
   },
   "outputs": [
    {
     "data": {
      "text/plain": [
       "CryptoWall             12390\n",
       "CryptoLocker            9315\n",
       "Cerber                  9223\n",
       "Locky                   6625\n",
       "CryptXXX                2419\n",
       "NoobCrypt                483\n",
       "DMALockerv3              354\n",
       "DMALocker                251\n",
       "SamSam                    62\n",
       "CryptoTorLocker2015       55\n",
       "Name: label, dtype: int64"
      ]
     },
     "execution_count": 13,
     "metadata": {},
     "output_type": "execute_result"
    }
   ],
   "source": [
    "top_ransomwares_dict = dict(dfc.label.value_counts().head(10)[1:])\n",
    "top10_ransoms_labels = dfc.label.value_counts()[1:11]\n",
    "top10_ransoms_labels"
   ]
  },
  {
   "cell_type": "markdown",
   "id": "7920467d",
   "metadata": {},
   "source": [
    "- Note that the data is highly unbalanced"
   ]
  },
  {
   "cell_type": "code",
   "execution_count": 14,
   "id": "cfbf3a68",
   "metadata": {
    "ExecuteTime": {
     "end_time": "2022-07-26T10:38:06.392670Z",
     "start_time": "2022-07-26T10:38:06.175432Z"
    }
   },
   "outputs": [
    {
     "name": "stdout",
     "output_type": "stream",
     "text": [
      "The data is over 95% unbalanced towards clean!\n",
      "\n",
      "white label cnt: 2875284\n",
      "rannsomware label cnt: 41413\n"
     ]
    }
   ],
   "source": [
    "print('The data is over 95% unbalanced towards clean!\\n\\nwhite label cnt: {}\\nrannsomware label cnt: {}'\\\n",
    "      .format(df['label'].value_counts()[0], \n",
    "        sum(df['label'].value_counts()[1:])\n",
    "             ))\n"
   ]
  },
  {
   "cell_type": "markdown",
   "id": "407d234d",
   "metadata": {},
   "source": [
    "We have a large proportion of white points to ransom points"
   ]
  },
  {
   "cell_type": "markdown",
   "id": "73cfeae8",
   "metadata": {},
   "source": [
    "### 1.5 Cleaning the data"
   ]
  },
  {
   "cell_type": "markdown",
   "id": "43a55271",
   "metadata": {},
   "source": [
    "- check for corrupted, missing, or duplicated entries"
   ]
  },
  {
   "cell_type": "code",
   "execution_count": 15,
   "id": "b3762cae",
   "metadata": {
    "ExecuteTime": {
     "end_time": "2022-07-26T10:38:09.951888Z",
     "start_time": "2022-07-26T10:38:09.224239Z"
    }
   },
   "outputs": [
    {
     "data": {
      "text/plain": [
       "address      False\n",
       "year         False\n",
       "day          False\n",
       "length       False\n",
       "weight       False\n",
       "count        False\n",
       "looped       False\n",
       "neighbors    False\n",
       "income       False\n",
       "label        False\n",
       "dtype: bool"
      ]
     },
     "execution_count": 15,
     "metadata": {},
     "output_type": "execute_result"
    }
   ],
   "source": [
    "df.isnull().any() # check for null values"
   ]
  },
  {
   "cell_type": "code",
   "execution_count": 16,
   "id": "ca96d4b3",
   "metadata": {
    "ExecuteTime": {
     "end_time": "2022-07-26T10:38:13.174194Z",
     "start_time": "2022-07-26T10:38:13.169754Z"
    }
   },
   "outputs": [
    {
     "name": "stdout",
     "output_type": "stream",
     "text": [
      "The data is free of obvious null values\n"
     ]
    }
   ],
   "source": [
    "print('The data is free of obvious null values')"
   ]
  },
  {
   "cell_type": "code",
   "execution_count": 17,
   "id": "0bcb860e",
   "metadata": {
    "ExecuteTime": {
     "end_time": "2022-07-26T10:38:17.007388Z",
     "start_time": "2022-07-26T10:38:14.875527Z"
    }
   },
   "outputs": [],
   "source": [
    "df = df.drop_duplicates() # if any"
   ]
  },
  {
   "cell_type": "markdown",
   "id": "ede9dffd",
   "metadata": {},
   "source": [
    "### 1.6 X,y split of the data"
   ]
  },
  {
   "cell_type": "code",
   "execution_count": 18,
   "id": "021c8d82",
   "metadata": {
    "ExecuteTime": {
     "end_time": "2022-07-26T10:38:21.066475Z",
     "start_time": "2022-07-26T10:38:21.058796Z"
    }
   },
   "outputs": [],
   "source": [
    "def labels_to_binary(df_labels):\n",
    "    # takes labels of df and makes them binary\n",
    "    \n",
    "    labels = np.array([])\n",
    "    \n",
    "    for label_i in tqdm(df_labels):\n",
    "        if label_i == 'white':\n",
    "            # label all presumed \"white\" addresses with 0\n",
    "            labels = np.append(labels, 0) \n",
    "        else:\n",
    "            # label all ransomware addresses with 1\n",
    "            labels = np.append(labels, 1) #ransomware\n",
    "    return labels"
   ]
  },
  {
   "cell_type": "code",
   "execution_count": 19,
   "id": "540fe106",
   "metadata": {
    "ExecuteTime": {
     "end_time": "2022-07-26T11:07:40.229013Z",
     "start_time": "2022-07-26T10:38:22.209917Z"
    }
   },
   "outputs": [
    {
     "data": {
      "application/vnd.jupyter.widget-view+json": {
       "model_id": "026e6ca7e8be41e491fd7cc03460e1f9",
       "version_major": 2,
       "version_minor": 0
      },
      "text/plain": [
       "  0%|          | 0/2916697 [00:00<?, ?it/s]"
      ]
     },
     "metadata": {},
     "output_type": "display_data"
    }
   ],
   "source": [
    "labels = labels_to_binary(df.label) # labels array"
   ]
  },
  {
   "cell_type": "code",
   "execution_count": 20,
   "id": "071e721d",
   "metadata": {
    "ExecuteTime": {
     "end_time": "2022-07-26T11:07:40.255734Z",
     "start_time": "2022-07-26T11:07:40.253853Z"
    }
   },
   "outputs": [],
   "source": [
    "labels_df = pd.DataFrame(labels,columns=['labels'])"
   ]
  },
  {
   "cell_type": "code",
   "execution_count": 21,
   "id": "2d8ded61",
   "metadata": {
    "ExecuteTime": {
     "end_time": "2022-07-26T11:07:40.403237Z",
     "start_time": "2022-07-26T11:07:40.281638Z"
    }
   },
   "outputs": [
    {
     "name": "stdout",
     "output_type": "stream",
     "text": [
      "Percentage of labels belonging to ransomware class: 1.4\n"
     ]
    }
   ],
   "source": [
    "print('Percentage of labels \\\n",
    "belonging to ransomware class: {:.2}'.format( (sum(labels) / len(labels)) * 100) )"
   ]
  },
  {
   "cell_type": "markdown",
   "id": "87fc12f3",
   "metadata": {},
   "source": [
    "**Defining {X, X_test, x_rain, y_test, y_train}**"
   ]
  },
  {
   "cell_type": "code",
   "execution_count": 22,
   "id": "37ef2962",
   "metadata": {
    "ExecuteTime": {
     "end_time": "2022-07-26T11:07:40.523689Z",
     "start_time": "2022-07-26T11:07:40.430984Z"
    }
   },
   "outputs": [],
   "source": [
    "X_df = df.drop(['label'],axis=1) # features original"
   ]
  },
  {
   "cell_type": "code",
   "execution_count": 23,
   "id": "787c4497",
   "metadata": {
    "ExecuteTime": {
     "end_time": "2022-07-26T11:07:41.374390Z",
     "start_time": "2022-07-26T11:07:40.553836Z"
    }
   },
   "outputs": [],
   "source": [
    "# WORKING test train split. We perform many operations on this data\n",
    "# We will down sample this data for plotting, testing, and training optimization\n",
    "X_train, X_test, y_train, y_test = train_test_split(\n",
    "    X_df,\n",
    "    #df.drop(['label'], axis=1), # X\n",
    "    labels_df,                   # y \n",
    "    stratify = labels,          # We stratify to preserve the large imbalance in the target variable\n",
    "    random_state = RAND_STATE,\n",
    "    test_size = SPLIT_RATIO\n",
    ")"
   ]
  },
  {
   "cell_type": "code",
   "execution_count": 24,
   "id": "16e66870",
   "metadata": {
    "ExecuteTime": {
     "end_time": "2022-07-26T11:07:41.420442Z",
     "start_time": "2022-07-26T11:07:41.418914Z"
    }
   },
   "outputs": [],
   "source": [
    "fname = 'X_train_y_train_X_test_y_test_0'+str(NF)+'.pickle'"
   ]
  },
  {
   "cell_type": "code",
   "execution_count": 25,
   "id": "f24c294a",
   "metadata": {
    "ExecuteTime": {
     "end_time": "2022-07-26T11:07:42.115769Z",
     "start_time": "2022-07-26T11:07:41.464831Z"
    },
    "run_control": {
     "marked": true
    }
   },
   "outputs": [],
   "source": [
    "if SAVE_TEST_TRAIN == True: \n",
    "    with open(fname, 'wb') as save_file:\n",
    "        pickle.dump([X_train, y_train, X_test, y_test], save_file)\n"
   ]
  },
  {
   "cell_type": "code",
   "execution_count": 26,
   "id": "175e725e",
   "metadata": {
    "ExecuteTime": {
     "end_time": "2022-07-26T11:07:42.238380Z",
     "start_time": "2022-07-26T11:07:42.162606Z"
    }
   },
   "outputs": [],
   "source": [
    "# copy original dataframes to compare lates (background)\n",
    "X_orig = X_df.copy()\n",
    "X_train_orig = X_train.copy()\n",
    "X_test_orig = X_test.copy()"
   ]
  },
  {
   "cell_type": "markdown",
   "id": "792ba9b0",
   "metadata": {},
   "source": [
    "# 2.0 Feature Analysis"
   ]
  },
  {
   "cell_type": "markdown",
   "id": "cf2ac74f",
   "metadata": {},
   "source": [
    "* Transform features to reduce their skew\n",
    "* Normalize to unit variance and zero mean for distance classification\n",
    "* Engineer new features from the old ones"
   ]
  },
  {
   "cell_type": "markdown",
   "id": "36d0c86e",
   "metadata": {},
   "source": [
    "## 2.1 Feature Distributions, Normalization, and Engineering"
   ]
  },
  {
   "cell_type": "markdown",
   "id": "5378f302",
   "metadata": {},
   "source": [
    "* Description goes here"
   ]
  },
  {
   "cell_type": "code",
   "execution_count": 27,
   "id": "f973f9ac",
   "metadata": {
    "ExecuteTime": {
     "end_time": "2022-07-26T11:07:42.321479Z",
     "start_time": "2022-07-26T11:07:42.320000Z"
    }
   },
   "outputs": [],
   "source": [
    "pt = PowerTransformer(method='box-cox') # boxcox power transformer"
   ]
  },
  {
   "cell_type": "code",
   "execution_count": 28,
   "id": "dfc03d96",
   "metadata": {
    "ExecuteTime": {
     "end_time": "2022-07-26T11:07:42.382500Z",
     "start_time": "2022-07-26T11:07:42.380848Z"
    }
   },
   "outputs": [],
   "source": [
    "def plot_pdf(df, col):\n",
    "    sns.distplot(df[col])\n",
    "    plt.title(str(col) +  ' distribution')\n",
    "    plt.ylabel('density')\n",
    "    plt.xlabel(col)\n",
    "    plt.plot()"
   ]
  },
  {
   "cell_type": "code",
   "execution_count": 29,
   "id": "addb4c07",
   "metadata": {
    "ExecuteTime": {
     "end_time": "2022-07-26T11:07:42.442935Z",
     "start_time": "2022-07-26T11:07:42.441061Z"
    }
   },
   "outputs": [],
   "source": [
    "def apply_pt_for_plots(df_,col_):\n",
    "    return pt.fit_transform(np.array(df_[col_]).reshape(-1,1))"
   ]
  },
  {
   "cell_type": "code",
   "execution_count": 30,
   "id": "4129b6e2",
   "metadata": {
    "ExecuteTime": {
     "end_time": "2022-07-26T11:07:42.502399Z",
     "start_time": "2022-07-26T11:07:42.500164Z"
    }
   },
   "outputs": [],
   "source": [
    "def apply_box(df_,col_):\n",
    "    return  boxcox(np.array(df_[col_]))[0] \n",
    "def apply_yeo(df_,col_):\n",
    "    return  yeojohnson(np.array(df_[col_]))[0] "
   ]
  },
  {
   "cell_type": "markdown",
   "id": "ad5deb4a",
   "metadata": {},
   "source": [
    "#### 2.1.0 income , bc_income"
   ]
  },
  {
   "cell_type": "code",
   "execution_count": 31,
   "id": "6d85fd4c",
   "metadata": {
    "ExecuteTime": {
     "end_time": "2022-07-26T12:26:20.477979Z",
     "start_time": "2022-07-26T12:26:18.892748Z"
    }
   },
   "outputs": [
    {
     "data": {
      "image/png": "[encoded data removed]",
      "text/plain": [
       "<Figure size 432x288 with 1 Axes>"
      ]
     },
     "metadata": {
      "needs_background": "light"
     },
     "output_type": "display_data"
    }
   ],
   "source": [
    "plot_pdf(X_train,'income')"
   ]
  },
  {
   "cell_type": "code",
   "execution_count": 32,
   "id": "eba7e790",
   "metadata": {
    "ExecuteTime": {
     "end_time": "2022-07-26T12:26:24.653972Z",
     "start_time": "2022-07-26T12:26:24.484874Z"
    }
   },
   "outputs": [
    {
     "data": {
      "image/png": "[encoded data removed]",
      "text/plain": [
       "<Figure size 432x288 with 1 Axes>"
      ]
     },
     "metadata": {
      "needs_background": "light"
     },
     "output_type": "display_data"
    }
   ],
   "source": [
    "#plotting box plots\n",
    "ax = sns.boxplot(x=np.log(X_train['income']))"
   ]
  },
  {
   "cell_type": "code",
   "execution_count": 33,
   "id": "a9a38fad",
   "metadata": {
    "ExecuteTime": {
     "end_time": "2022-07-26T12:26:25.567256Z",
     "start_time": "2022-07-26T12:26:25.534609Z"
    }
   },
   "outputs": [
    {
     "data": {
      "text/plain": [
       "223.74388442838963"
      ]
     },
     "execution_count": 33,
     "metadata": {},
     "output_type": "execute_result"
    }
   ],
   "source": [
    "X_train.income.skew() # highly skwewed"
   ]
  },
  {
   "cell_type": "code",
   "execution_count": 34,
   "id": "8fc5f946",
   "metadata": {
    "ExecuteTime": {
     "end_time": "2022-07-26T12:26:27.793342Z",
     "start_time": "2022-07-26T12:26:25.940378Z"
    },
    "scrolled": true
   },
   "outputs": [
    {
     "data": {
      "image/png": "[encoded data removed]",
      "text/plain": [
       "<Figure size 432x288 with 1 Axes>"
      ]
     },
     "metadata": {
      "needs_background": "light"
     },
     "output_type": "display_data"
    }
   ],
   "source": [
    "sns.distplot( np.log(X_train['income']) )\n",
    "plt.title('Distribution of income after boxcox')\n",
    "plt.show()"
   ]
  },
  {
   "cell_type": "markdown",
   "id": "d65ae44f",
   "metadata": {},
   "source": [
    "Log doesn't quite normalize the distribution. Try with boxcox"
   ]
  },
  {
   "cell_type": "code",
   "execution_count": 35,
   "id": "cfb19ef1",
   "metadata": {
    "ExecuteTime": {
     "end_time": "2022-07-26T12:26:31.454186Z",
     "start_time": "2022-07-26T12:26:30.610028Z"
    }
   },
   "outputs": [
    {
     "data": {
      "image/png": "[encoded data removed]",
      "text/plain": [
       "<Figure size 432x288 with 1 Axes>"
      ]
     },
     "metadata": {
      "needs_background": "light"
     },
     "output_type": "display_data"
    }
   ],
   "source": [
    "# plot box plot\n",
    "ax = sns.boxplot(x=boxcox(X_train['income'])[0])"
   ]
  },
  {
   "cell_type": "code",
   "execution_count": 36,
   "id": "6784a590",
   "metadata": {
    "ExecuteTime": {
     "end_time": "2022-07-26T12:26:34.273446Z",
     "start_time": "2022-07-26T12:26:31.518891Z"
    }
   },
   "outputs": [
    {
     "data": {
      "image/png": "[encoded data removed]",
      "text/plain": [
       "<Figure size 432x288 with 1 Axes>"
      ]
     },
     "metadata": {
      "needs_background": "light"
     },
     "output_type": "display_data"
    }
   ],
   "source": [
    "sns.distplot(apply_pt_for_plots(X_train,'income') )\n",
    "plt.title('Distribution of boxcox(income)  ')\n",
    "plt.show()"
   ]
  },
  {
   "cell_type": "code",
   "execution_count": 37,
   "id": "5be41bc2",
   "metadata": {
    "ExecuteTime": {
     "end_time": "2022-07-26T12:26:35.326551Z",
     "start_time": "2022-07-26T12:26:34.336317Z"
    }
   },
   "outputs": [
    {
     "data": {
      "text/plain": [
       "(0.15762680795103856, 0.1580784865604138)"
      ]
     },
     "execution_count": 37,
     "metadata": {},
     "output_type": "execute_result"
    }
   ],
   "source": [
    "bc_income_train = apply_box(X_train, 'income')\n",
    "bc_income_test = apply_box(X_test, 'income')\n",
    "pd.Series(bc_income_train).skew(),pd.Series(bc_income_test).skew() # slightly skewed to the right  "
   ]
  },
  {
   "cell_type": "markdown",
   "id": "e2f32de0",
   "metadata": {},
   "source": [
    "#### 2.1.1 day,  day_of_week"
   ]
  },
  {
   "cell_type": "code",
   "execution_count": 38,
   "id": "de770be8",
   "metadata": {
    "ExecuteTime": {
     "end_time": "2022-07-26T12:26:35.925489Z",
     "start_time": "2022-07-26T12:26:35.915789Z"
    }
   },
   "outputs": [
    {
     "name": "stdout",
     "output_type": "stream",
     "text": [
      "The mean number of entries per day is 181.46.\n"
     ]
    }
   ],
   "source": [
    "print('The mean number of entries per day is {:.2f}.'.format(X_df.day.mean()))"
   ]
  },
  {
   "cell_type": "code",
   "execution_count": 39,
   "id": "f6b6c8a4",
   "metadata": {
    "ExecuteTime": {
     "end_time": "2022-07-26T12:26:38.462362Z",
     "start_time": "2022-07-26T12:26:36.367549Z"
    }
   },
   "outputs": [
    {
     "data": {
      "image/png": "[encoded data removed]",
      "text/plain": [
       "<Figure size 432x288 with 1 Axes>"
      ]
     },
     "metadata": {
      "needs_background": "light"
     },
     "output_type": "display_data"
    }
   ],
   "source": [
    "sns.distplot(X_train['day']) \n",
    "plt.title('Distribution of Day')\n",
    "plt.show()"
   ]
  },
  {
   "cell_type": "code",
   "execution_count": 40,
   "id": "8138825b",
   "metadata": {
    "ExecuteTime": {
     "end_time": "2022-07-26T12:26:38.585094Z",
     "start_time": "2022-07-26T12:26:38.572751Z"
    }
   },
   "outputs": [
    {
     "data": {
      "text/plain": [
       "0.010502148010392898"
      ]
     },
     "execution_count": 40,
     "metadata": {},
     "output_type": "execute_result"
    }
   ],
   "source": [
    "X_train.day.skew() # fairly normal. No transform needed"
   ]
  },
  {
   "cell_type": "markdown",
   "id": "5603ee5b",
   "metadata": {},
   "source": [
    "###### Engineering day of week feature"
   ]
  },
  {
   "cell_type": "code",
   "execution_count": 41,
   "id": "10cb4f2e",
   "metadata": {
    "ExecuteTime": {
     "end_time": "2022-07-26T12:26:38.648920Z",
     "start_time": "2022-07-26T12:26:38.647182Z"
    }
   },
   "outputs": [],
   "source": [
    "def get_day_number(first_day_of_year, day):\n",
    "    #return day number (0 for monday, 6 for sunday) for day\n",
    "    return (first_day_of_year + day - 1) % 7"
   ]
  },
  {
   "cell_type": "code",
   "execution_count": 42,
   "id": "8e52ec5e",
   "metadata": {
    "ExecuteTime": {
     "end_time": "2022-07-26T12:46:32.313024Z",
     "start_time": "2022-07-26T12:26:39.106670Z"
    }
   },
   "outputs": [
    {
     "data": {
      "application/vnd.jupyter.widget-view+json": {
       "model_id": "0ee6281c9c1f456a8ea17ab11ef3c05c",
       "version_major": 2,
       "version_minor": 0
      },
      "text/plain": [
       "0it [00:00, ?it/s]"
      ]
     },
     "metadata": {},
     "output_type": "display_data"
    }
   ],
   "source": [
    "day_of_week_train = np.array([])\n",
    "for index, row in tqdm(X_train.iterrows()):\n",
    "    #For each data-point, we consider its year and day and calculate what day of the week (Monday, Tuesday, etc)\n",
    "    #it was when the transaction happened\n",
    "\n",
    "    #datetime.datetime(year, 1, 1).weekday() returns the first day of the year in the year = year\n",
    "    #using this information, we can calculate the present day\n",
    "\n",
    "    year_i, day_i = row['year'], row['day']\n",
    "    day_of_week_train = np.append(day_of_week_train, \\\n",
    "                                  get_day_number(datetime.datetime(year_i, 1, 1).weekday(), day_i))"
   ]
  },
  {
   "cell_type": "code",
   "execution_count": 43,
   "id": "e4077e0a",
   "metadata": {
    "ExecuteTime": {
     "end_time": "2022-07-26T12:48:30.766243Z",
     "start_time": "2022-07-26T12:46:32.376312Z"
    }
   },
   "outputs": [
    {
     "data": {
      "application/vnd.jupyter.widget-view+json": {
       "model_id": "39c01f38bae0487e9febbcb8b8c499ab",
       "version_major": 2,
       "version_minor": 0
      },
      "text/plain": [
       "0it [00:00, ?it/s]"
      ]
     },
     "metadata": {},
     "output_type": "display_data"
    }
   ],
   "source": [
    "day_of_week_test = np.array([])\n",
    "for index, row in tqdm(X_test.iterrows()):\n",
    "    #same as above but for test set\n",
    "\n",
    "    year_i, day_i = row['year'], row['day']\n",
    "    day_of_week_test = np.append(day_of_week_test, \\\n",
    "                                 get_day_number(datetime.datetime(year_i, 1, 1).weekday(), day_i))"
   ]
  },
  {
   "cell_type": "markdown",
   "id": "e1c0a9fc",
   "metadata": {},
   "source": [
    "####  2.1.2 length, bc_length"
   ]
  },
  {
   "cell_type": "code",
   "execution_count": 44,
   "id": "02bdaaff",
   "metadata": {
    "ExecuteTime": {
     "end_time": "2022-07-26T12:48:32.958459Z",
     "start_time": "2022-07-26T12:48:30.826426Z"
    }
   },
   "outputs": [
    {
     "data": {
      "image/png": "[encoded data removed]",
      "text/plain": [
       "<Figure size 432x288 with 1 Axes>"
      ]
     },
     "metadata": {
      "needs_background": "light"
     },
     "output_type": "display_data"
    }
   ],
   "source": [
    "plot_pdf(X_train,'length')"
   ]
  },
  {
   "cell_type": "code",
   "execution_count": 45,
   "id": "214357ce",
   "metadata": {
    "ExecuteTime": {
     "end_time": "2022-07-26T12:48:33.078546Z",
     "start_time": "2022-07-26T12:48:33.024843Z"
    }
   },
   "outputs": [
    {
     "data": {
      "text/plain": [
       "(0.9254499020706156, 0.5753589017847328, -1.0738551331341115)"
      ]
     },
     "execution_count": 45,
     "metadata": {},
     "output_type": "execute_result"
    }
   ],
   "source": [
    "X_train.length.skew(), np.sqrt(X_train['length']).skew(), \\\n",
    "pd.Series(np.log(np.sqrt(np.array(X_train['length']) + 1e-6))).skew()"
   ]
  },
  {
   "cell_type": "code",
   "execution_count": 46,
   "id": "9fa3d9fa",
   "metadata": {
    "ExecuteTime": {
     "end_time": "2022-07-26T12:48:33.955827Z",
     "start_time": "2022-07-26T12:48:33.139628Z"
    }
   },
   "outputs": [],
   "source": [
    "#constructing the feature\n",
    "\n",
    "bc_length_train = boxcox((np.sin(np.log(np.sqrt(np.array(X_train['length']) + 1e-8))))**2)[0]\n",
    "bc_length_test  = boxcox((np.sin(np.log(np.sqrt(np.array(X_test['length']) + 1e-8))))**2)[0]"
   ]
  },
  {
   "cell_type": "code",
   "execution_count": 47,
   "id": "335cbf74",
   "metadata": {
    "ExecuteTime": {
     "end_time": "2022-07-26T12:48:36.136782Z",
     "start_time": "2022-07-26T12:48:34.019955Z"
    }
   },
   "outputs": [
    {
     "data": {
      "image/png": "[encoded data removed]",
      "text/plain": [
       "<Figure size 432x288 with 1 Axes>"
      ]
     },
     "metadata": {
      "needs_background": "light"
     },
     "output_type": "display_data"
    }
   ],
   "source": [
    "sns.distplot(bc_length_train)\n",
    "plt.title('Distribution of length after box.sin.log.sqrt')\n",
    "plt.xlabel('length_n')\n",
    "plt.show()"
   ]
  },
  {
   "cell_type": "code",
   "execution_count": 48,
   "id": "67fcdcd0",
   "metadata": {
    "ExecuteTime": {
     "end_time": "2022-07-26T12:48:36.215846Z",
     "start_time": "2022-07-26T12:48:36.201296Z"
    }
   },
   "outputs": [
    {
     "data": {
      "text/plain": [
       "-0.1807390108634564"
      ]
     },
     "execution_count": 48,
     "metadata": {},
     "output_type": "execute_result"
    }
   ],
   "source": [
    "pd.Series(bc_length_train).skew()"
   ]
  },
  {
   "cell_type": "markdown",
   "id": "dae1b403",
   "metadata": {},
   "source": [
    "#### 2.1.3 weight, yeo_weight"
   ]
  },
  {
   "cell_type": "code",
   "execution_count": 49,
   "id": "f387df34",
   "metadata": {
    "ExecuteTime": {
     "end_time": "2022-07-26T12:48:37.852769Z",
     "start_time": "2022-07-26T12:48:36.283804Z"
    }
   },
   "outputs": [
    {
     "data": {
      "image/png": "[encoded data removed]",
      "text/plain": [
       "<Figure size 432x288 with 1 Axes>"
      ]
     },
     "metadata": {
      "needs_background": "light"
     },
     "output_type": "display_data"
    }
   ],
   "source": [
    "plot_pdf(X_train, 'weight')"
   ]
  },
  {
   "cell_type": "code",
   "execution_count": 50,
   "id": "195e43e2",
   "metadata": {
    "ExecuteTime": {
     "end_time": "2022-07-26T12:48:38.005618Z",
     "start_time": "2022-07-26T12:48:37.920330Z"
    }
   },
   "outputs": [
    {
     "data": {
      "text/plain": [
       "count    2.245856e+06\n",
       "mean     5.450332e-01\n",
       "std      3.569671e+00\n",
       "min      3.606469e-94\n",
       "25%      2.147613e-02\n",
       "50%      2.500000e-01\n",
       "75%      8.868067e-01\n",
       "max      1.866717e+03\n",
       "Name: weight, dtype: float64"
      ]
     },
     "execution_count": 50,
     "metadata": {},
     "output_type": "execute_result"
    }
   ],
   "source": [
    "X_train['weight'].describe()"
   ]
  },
  {
   "cell_type": "code",
   "execution_count": 51,
   "id": "ef7a4d04",
   "metadata": {
    "ExecuteTime": {
     "end_time": "2022-07-26T12:48:38.084177Z",
     "start_time": "2022-07-26T12:48:38.069213Z"
    }
   },
   "outputs": [
    {
     "data": {
      "text/plain": [
       "241.30528151192055"
      ]
     },
     "execution_count": 51,
     "metadata": {},
     "output_type": "execute_result"
    }
   ],
   "source": [
    "X_train.weight.skew() # very skewed"
   ]
  },
  {
   "cell_type": "code",
   "execution_count": 52,
   "id": "9159621c",
   "metadata": {
    "ExecuteTime": {
     "end_time": "2022-07-26T12:48:39.422425Z",
     "start_time": "2022-07-26T12:48:38.146002Z"
    }
   },
   "outputs": [
    {
     "data": {
      "text/plain": [
       "(0.234994654528281, 0.23612532862797642)"
      ]
     },
     "execution_count": 52,
     "metadata": {},
     "output_type": "execute_result"
    }
   ],
   "source": [
    "yeo_weight_train = yeojohnson(X_train.weight)[0] \n",
    "yeo_weight_test  = yeojohnson(X_test.weight)[0] \n",
    "pd.Series(yeo_weight_train).skew(), pd.Series(yeo_weight_test).skew()"
   ]
  },
  {
   "cell_type": "code",
   "execution_count": 53,
   "id": "9cc642ea",
   "metadata": {
    "ExecuteTime": {
     "end_time": "2022-07-26T12:48:41.546101Z",
     "start_time": "2022-07-26T12:48:39.482348Z"
    }
   },
   "outputs": [
    {
     "data": {
      "image/png": "[encoded data removed]",
      "text/plain": [
       "<Figure size 432x288 with 1 Axes>"
      ]
     },
     "metadata": {
      "needs_background": "light"
     },
     "output_type": "display_data"
    }
   ],
   "source": [
    "sns.distplot(yeo_weight_train)\n",
    "plt.title('Distribution of weight after boxcox')\n",
    "plt.xlabel('yeo_weight_train')\n",
    "plt.show()"
   ]
  },
  {
   "cell_type": "code",
   "execution_count": 54,
   "id": "57c99478",
   "metadata": {
    "ExecuteTime": {
     "end_time": "2022-07-26T12:48:41.734634Z",
     "start_time": "2022-07-26T12:48:41.612301Z"
    }
   },
   "outputs": [
    {
     "data": {
      "image/png": "[encoded data removed]",
      "text/plain": [
       "<Figure size 432x288 with 1 Axes>"
      ]
     },
     "metadata": {
      "needs_background": "light"
     },
     "output_type": "display_data"
    }
   ],
   "source": [
    "#plotting box plots\n",
    "ax = sns.boxplot(x=yeo_weight_train)"
   ]
  },
  {
   "cell_type": "markdown",
   "id": "159ec6ba",
   "metadata": {},
   "source": [
    "#### 2.1.4 address, logbc_n_address"
   ]
  },
  {
   "cell_type": "code",
   "execution_count": 55,
   "id": "8468eef1",
   "metadata": {
    "ExecuteTime": {
     "end_time": "2022-07-26T12:48:43.596611Z",
     "start_time": "2022-07-26T12:48:41.801413Z"
    }
   },
   "outputs": [
    {
     "data": {
      "text/plain": [
       "1LXrSb67EaH1LGc6d6kWHq8rgv4ZBQAcpU    315\n",
       "16cVG72goMe4sNqZhnpmnqfCMZ1uSFbUit    189\n",
       "12wQZTDmA8onM3sEt4jwcvzDxnNXxD8Vza    158\n",
       "12YursV58dRT2c9iuZg3jEWfwgTDamBcnd    143\n",
       "1CVWpTNwNYGdKgZRohiiVFrnFNbw8anG9     134\n",
       "                                     ... \n",
       "163uHYykseq8RDPgQRcmzSHq3gNDL4xMeB      1\n",
       "1CZNSZikGTLUTYuHwynhKJBnK4ov4udWXz      1\n",
       "12efmrN9TsuxfihwEaLnVsdyrdkCg8UwUf      1\n",
       "18S2dKK2mpZoariHQvcqBKRNPdKCaWDvMF      1\n",
       "1AgiezDcp2Nb94Na5MaqSPmkM6P54b6D5C      1\n",
       "Name: address, Length: 2044946, dtype: int64"
      ]
     },
     "execution_count": 55,
     "metadata": {},
     "output_type": "execute_result"
    }
   ],
   "source": [
    "X_train['address'].value_counts()"
   ]
  },
  {
   "cell_type": "markdown",
   "id": "e76d3860",
   "metadata": {
    "heading_collapsed": true
   },
   "source": [
    "##### Highest paid ransom address"
   ]
  },
  {
   "cell_type": "code",
   "execution_count": 56,
   "id": "8a5552e7",
   "metadata": {
    "ExecuteTime": {
     "end_time": "2022-07-22T21:38:04.374821Z",
     "start_time": "2022-07-22T21:38:04.334257Z"
    },
    "hidden": true
   },
   "outputs": [
    {
     "data": {
      "text/html": [
       "<div>\n",
       "<style scoped>\n",
       "    .dataframe tbody tr th:only-of-type {\n",
       "        vertical-align: middle;\n",
       "    }\n",
       "\n",
       "    .dataframe tbody tr th {\n",
       "        vertical-align: top;\n",
       "    }\n",
       "\n",
       "    .dataframe thead th {\n",
       "        text-align: right;\n",
       "    }\n",
       "</style>\n",
       "<table border=\"1\" class=\"dataframe\">\n",
       "  <thead>\n",
       "    <tr style=\"text-align: right;\">\n",
       "      <th></th>\n",
       "      <th>year</th>\n",
       "      <th>day</th>\n",
       "      <th>length</th>\n",
       "      <th>weight</th>\n",
       "      <th>count</th>\n",
       "      <th>looped</th>\n",
       "      <th>neighbors</th>\n",
       "      <th>income</th>\n",
       "    </tr>\n",
       "    <tr>\n",
       "      <th>address</th>\n",
       "      <th></th>\n",
       "      <th></th>\n",
       "      <th></th>\n",
       "      <th></th>\n",
       "      <th></th>\n",
       "      <th></th>\n",
       "      <th></th>\n",
       "      <th></th>\n",
       "    </tr>\n",
       "  </thead>\n",
       "  <tbody>\n",
       "    <tr>\n",
       "      <th>1LXrSb67EaH1LGc6d6kWHq8rgv4ZBQAcpU</th>\n",
       "      <td>2013.386139</td>\n",
       "      <td>181.930693</td>\n",
       "      <td>7.485149</td>\n",
       "      <td>1.324719</td>\n",
       "      <td>43.930693</td>\n",
       "      <td>0.019802</td>\n",
       "      <td>1.554455</td>\n",
       "      <td>4.791904e+09</td>\n",
       "    </tr>\n",
       "  </tbody>\n",
       "</table>\n",
       "</div>"
      ],
      "text/plain": [
       "                                           year         day    length  \\\n",
       "address                                                                 \n",
       "1LXrSb67EaH1LGc6d6kWHq8rgv4ZBQAcpU  2013.386139  181.930693  7.485149   \n",
       "\n",
       "                                      weight      count    looped  neighbors  \\\n",
       "address                                                                        \n",
       "1LXrSb67EaH1LGc6d6kWHq8rgv4ZBQAcpU  1.324719  43.930693  0.019802   1.554455   \n",
       "\n",
       "                                          income  \n",
       "address                                           \n",
       "1LXrSb67EaH1LGc6d6kWHq8rgv4ZBQAcpU  4.791904e+09  "
      ]
     },
     "execution_count": 56,
     "metadata": {},
     "output_type": "execute_result"
    }
   ],
   "source": [
    "worst_culprit_address = df[df['address']=='1LXrSb67EaH1LGc6d6kWHq8rgv4ZBQAcpU']\n",
    "worst_culprit_address.groupby('address').mean()"
   ]
  },
  {
   "cell_type": "code",
   "execution_count": 57,
   "id": "b479e12e",
   "metadata": {
    "ExecuteTime": {
     "end_time": "2022-07-22T21:38:04.378942Z",
     "start_time": "2022-07-22T21:38:04.375727Z"
    },
    "hidden": true
   },
   "outputs": [
    {
     "data": {
      "text/plain": [
       "address\n",
       "1LXrSb67EaH1LGc6d6kWHq8rgv4ZBQAcpU    2\n",
       "Name: looped, dtype: int64"
      ]
     },
     "execution_count": 57,
     "metadata": {},
     "output_type": "execute_result"
    }
   ],
   "source": [
    "worst_culprit_address.groupby('address')['looped'].max()"
   ]
  },
  {
   "cell_type": "markdown",
   "id": "c514102e",
   "metadata": {},
   "source": [
    "##### Feature engineering:  logbc_n_address_train\n",
    "* the number of times the address appears (log boxcox transformation applied)"
   ]
  },
  {
   "cell_type": "code",
   "execution_count": 56,
   "id": "4b51eb90",
   "metadata": {
    "ExecuteTime": {
     "end_time": "2022-07-26T12:48:44.915103Z",
     "start_time": "2022-07-26T12:48:43.654148Z"
    }
   },
   "outputs": [
    {
     "name": "stdout",
     "output_type": "stream",
     "text": [
      "An address is repeated an average of 1.098 number of times\n"
     ]
    }
   ],
   "source": [
    "address_cnts = X_train['address'].value_counts()\n",
    "print('An address is repeated an average of {:.3f} number of times'.format(np.mean(address_cnts)))"
   ]
  },
  {
   "cell_type": "code",
   "execution_count": 57,
   "id": "292c8d28",
   "metadata": {
    "ExecuteTime": {
     "end_time": "2022-07-26T12:48:44.984374Z",
     "start_time": "2022-07-26T12:48:44.973337Z"
    }
   },
   "outputs": [
    {
     "data": {
      "text/plain": [
       "44.946475541236715"
      ]
     },
     "execution_count": 57,
     "metadata": {},
     "output_type": "execute_result"
    }
   ],
   "source": [
    "address_cnts.skew()"
   ]
  },
  {
   "cell_type": "code",
   "execution_count": 58,
   "id": "df803468",
   "metadata": {
    "ExecuteTime": {
     "end_time": "2022-07-26T12:48:45.438428Z",
     "start_time": "2022-07-26T12:48:45.042217Z"
    }
   },
   "outputs": [],
   "source": [
    "#Since this is an extremely skewed feature let's only visualize the 1st percentile points\n",
    "one_percentile = np.percentile(address_cnts, 99)\n",
    "\n",
    "n_addresses_1perc = np.array([element for element in address_cnts if element <= one_percentile])"
   ]
  },
  {
   "cell_type": "code",
   "execution_count": 59,
   "id": "8a7dbf06",
   "metadata": {
    "ExecuteTime": {
     "end_time": "2022-07-26T12:48:47.040984Z",
     "start_time": "2022-07-26T12:48:45.503743Z"
    }
   },
   "outputs": [
    {
     "data": {
      "image/png": "[encoded data removed]",
      "text/plain": [
       "<Figure size 432x288 with 1 Axes>"
      ]
     },
     "metadata": {
      "needs_background": "light"
     },
     "output_type": "display_data"
    }
   ],
   "source": [
    "#checking points only within 1st percentile\n",
    "\n",
    "plt.title('Distribution plot of points within 1st percentile')\n",
    "sns.distplot(n_addresses_1perc)\n",
    "plt.xlabel('n_addresses')\n",
    "plt.ylabel('PDF')\n",
    "plt.show()"
   ]
  },
  {
   "cell_type": "code",
   "execution_count": 60,
   "id": "f53885ea",
   "metadata": {
    "ExecuteTime": {
     "end_time": "2022-07-26T12:48:55.979234Z",
     "start_time": "2022-07-26T12:48:47.102553Z"
    }
   },
   "outputs": [
    {
     "data": {
      "application/vnd.jupyter.widget-view+json": {
       "model_id": "17ad67f7336245b7867eedbc201c57e8",
       "version_major": 2,
       "version_minor": 0
      },
      "text/plain": [
       "0it [00:00, ?it/s]"
      ]
     },
     "metadata": {},
     "output_type": "display_data"
    }
   ],
   "source": [
    "dict_address_cnts = dict(X_train['address'].value_counts())\n",
    "n_address = boxcox(np.array(list(dict_address_cnts.values())))[0]\n",
    "\n",
    "# \n",
    "for index, key in tqdm(enumerate(dict_address_cnts.keys())):\n",
    "    # updating the dictionary with number of times each address appears with the boxcox transformation applied to fix the skewness\n",
    "    dict_address_cnts.update({key: address_cnts[index]})\n",
    " "
   ]
  },
  {
   "cell_type": "code",
   "execution_count": 61,
   "id": "48e4f161",
   "metadata": {
    "ExecuteTime": {
     "end_time": "2022-07-26T12:48:59.075489Z",
     "start_time": "2022-07-26T12:48:58.650572Z"
    }
   },
   "outputs": [
    {
     "data": {
      "text/plain": [
       "5.0474571130747465"
      ]
     },
     "execution_count": 61,
     "metadata": {},
     "output_type": "execute_result"
    }
   ],
   "source": [
    "address_n = boxcox(np.array(list(dict_address_cnts.values())))[0]\n",
    "pd.Series(address_n).skew()"
   ]
  },
  {
   "cell_type": "code",
   "execution_count": 62,
   "id": "42e281eb",
   "metadata": {
    "ExecuteTime": {
     "end_time": "2022-07-26T12:49:03.412949Z",
     "start_time": "2022-07-26T12:49:01.737023Z"
    }
   },
   "outputs": [
    {
     "data": {
      "image/png": "[encoded data removed]",
      "text/plain": [
       "<Figure size 432x288 with 1 Axes>"
      ]
     },
     "metadata": {
      "needs_background": "light"
     },
     "output_type": "display_data"
    }
   ],
   "source": [
    "#plot to print distribution of n_addresses\n",
    "plt.title('Distribution of address counts')\n",
    "sns.distplot(address_n)\n",
    "plt.xlabel('addresses')\n",
    "plt.ylabel('density')\n",
    "plt.show()"
   ]
  },
  {
   "cell_type": "code",
   "execution_count": 63,
   "id": "a944bfdf",
   "metadata": {
    "ExecuteTime": {
     "end_time": "2022-07-26T13:14:04.127104Z",
     "start_time": "2022-07-26T12:49:06.135560Z"
    }
   },
   "outputs": [
    {
     "data": {
      "application/vnd.jupyter.widget-view+json": {
       "model_id": "708517081dd344d69053f82a3bdfa3a1",
       "version_major": 2,
       "version_minor": 0
      },
      "text/plain": [
       "  0%|          | 0/2245856 [00:00<?, ?it/s]"
      ]
     },
     "metadata": {},
     "output_type": "display_data"
    },
    {
     "data": {
      "application/vnd.jupyter.widget-view+json": {
       "model_id": "f69252c518d64981bc81550aafd0417d",
       "version_major": 2,
       "version_minor": 0
      },
      "text/plain": [
       "  0%|          | 0/670841 [00:00<?, ?it/s]"
      ]
     },
     "metadata": {},
     "output_type": "display_data"
    }
   ],
   "source": [
    "bc_n_address_train = np.array([])\n",
    "\n",
    "for index, row in tqdm(X_train.iterrows(), total=X_train.shape[0]):\n",
    "    #We are getting a list of the new values\n",
    "    #For each address in the training set we are appending its corresponding boxcox'd\n",
    "    #number of times its appeared in training set\n",
    "\n",
    "    n_address_i = dict_address_cnts.get(X_train.loc[index]['address']) \n",
    "    bc_n_address_train = np.append(bc_n_address_train, n_address_i)\n",
    "\n",
    "bc_n_address_test = np.array([])\n",
    "min_dict_n_address = min(list(dict_address_cnts.values()))\n",
    "\n",
    "for index, row in tqdm(X_test.iterrows(), total=X_test.shape[0]):\n",
    "    try:\n",
    "        #we do the same as above\n",
    "        n_address_i = dict_address_cnts[X_test.loc[index]['address']]\n",
    "    except KeyError:\n",
    "        #KeyError arises when the addreses in training set has not been seen before (i.e cold start)\n",
    "        #For this, we assign the minimum value to it\n",
    "\n",
    "        n_address_i = min_dict_n_address #Addressing cold start\n",
    "    bc_n_address_test = np.append(bc_n_address_test, n_address_i)"
   ]
  },
  {
   "cell_type": "code",
   "execution_count": 64,
   "id": "0fa27921",
   "metadata": {
    "ExecuteTime": {
     "end_time": "2022-07-26T13:14:08.388503Z",
     "start_time": "2022-07-26T13:14:06.775041Z"
    }
   },
   "outputs": [
    {
     "data": {
      "image/png": "[encoded data removed]",
      "text/plain": [
       "<Figure size 432x288 with 1 Axes>"
      ]
     },
     "metadata": {
      "needs_background": "light"
     },
     "output_type": "display_data"
    }
   ],
   "source": [
    "plt.title('Distribution of address counts')\n",
    "sns.distplot(bc_n_address_train)\n",
    "plt.xlabel('addresses')\n",
    "plt.ylabel('density')\n",
    "plt.show()"
   ]
  },
  {
   "cell_type": "code",
   "execution_count": 65,
   "id": "d153ffd1",
   "metadata": {
    "ExecuteTime": {
     "end_time": "2022-07-26T13:14:12.762341Z",
     "start_time": "2022-07-26T13:14:11.037170Z"
    }
   },
   "outputs": [
    {
     "data": {
      "image/png": "[encoded data removed]",
      "text/plain": [
       "<Figure size 432x288 with 1 Axes>"
      ]
     },
     "metadata": {
      "needs_background": "light"
     },
     "output_type": "display_data"
    }
   ],
   "source": [
    "plt.title('Distribution of address counts')\n",
    "sns.distplot(np.log(bc_n_address_train)) \n",
    "plt.xlabel('addresses')\n",
    "plt.ylabel('density')\n",
    "plt.show()"
   ]
  },
  {
   "cell_type": "code",
   "execution_count": 66,
   "id": "2f292139",
   "metadata": {
    "ExecuteTime": {
     "end_time": "2022-07-26T13:14:15.418553Z",
     "start_time": "2022-07-26T13:14:15.404383Z"
    }
   },
   "outputs": [
    {
     "data": {
      "text/plain": [
       "20.669142309836232"
      ]
     },
     "execution_count": 66,
     "metadata": {},
     "output_type": "execute_result"
    }
   ],
   "source": [
    "pd.Series( bc_n_address_train ).skew()"
   ]
  },
  {
   "cell_type": "code",
   "execution_count": 67,
   "id": "fdbcd250",
   "metadata": {
    "ExecuteTime": {
     "end_time": "2022-07-26T13:14:18.110314Z",
     "start_time": "2022-07-26T13:14:18.097191Z"
    }
   },
   "outputs": [],
   "source": [
    "logbc_n_address_train= np.log(bc_n_address_train)\n",
    "logbc_n_address_test= np.log(bc_n_address_test)"
   ]
  },
  {
   "cell_type": "code",
   "execution_count": 68,
   "id": "026f812d",
   "metadata": {
    "ExecuteTime": {
     "end_time": "2022-07-26T13:14:20.770092Z",
     "start_time": "2022-07-26T13:14:20.755969Z"
    }
   },
   "outputs": [
    {
     "data": {
      "text/plain": [
       "3.680863126526104"
      ]
     },
     "execution_count": 68,
     "metadata": {},
     "output_type": "execute_result"
    }
   ],
   "source": [
    "pd.Series( logbc_n_address_train ).skew()"
   ]
  },
  {
   "cell_type": "markdown",
   "id": "30270eae",
   "metadata": {},
   "source": [
    "#### 2.1.5 neighbors, bc_neighbors"
   ]
  },
  {
   "cell_type": "code",
   "execution_count": 69,
   "id": "212b3783",
   "metadata": {
    "ExecuteTime": {
     "end_time": "2022-07-26T13:14:24.948149Z",
     "start_time": "2022-07-26T13:14:23.418350Z"
    }
   },
   "outputs": [
    {
     "data": {
      "image/png": "[encoded data removed]",
      "text/plain": [
       "<Figure size 432x288 with 1 Axes>"
      ]
     },
     "metadata": {
      "needs_background": "light"
     },
     "output_type": "display_data"
    }
   ],
   "source": [
    "plot_pdf(X_train, 'neighbors')"
   ]
  },
  {
   "cell_type": "code",
   "execution_count": 70,
   "id": "47cea0b7",
   "metadata": {
    "ExecuteTime": {
     "end_time": "2022-07-26T13:14:28.415424Z",
     "start_time": "2022-07-26T13:14:27.623447Z"
    }
   },
   "outputs": [],
   "source": [
    "bc_neighbors_train = apply_box(X_train,'neighbors')\n",
    "bc_neighbors_test = apply_box(X_test,'neighbors')"
   ]
  },
  {
   "cell_type": "markdown",
   "id": "461fe0f7",
   "metadata": {},
   "source": [
    "#### 2.1.6 looped, sig_looped"
   ]
  },
  {
   "cell_type": "code",
   "execution_count": 71,
   "id": "53ca9737",
   "metadata": {
    "ExecuteTime": {
     "end_time": "2022-07-26T13:14:32.670962Z",
     "start_time": "2022-07-26T13:14:31.027306Z"
    }
   },
   "outputs": [
    {
     "data": {
      "image/png": "[encoded data removed]",
      "text/plain": [
       "<Figure size 432x288 with 1 Axes>"
      ]
     },
     "metadata": {
      "needs_background": "light"
     },
     "output_type": "display_data"
    }
   ],
   "source": [
    "plot_pdf(X_train,'looped')"
   ]
  },
  {
   "cell_type": "code",
   "execution_count": 72,
   "id": "d54faa21",
   "metadata": {
    "ExecuteTime": {
     "end_time": "2022-07-26T13:14:35.367544Z",
     "start_time": "2022-07-26T13:14:35.355861Z"
    }
   },
   "outputs": [
    {
     "data": {
      "text/plain": [
       "5.524140639304542"
      ]
     },
     "execution_count": 72,
     "metadata": {},
     "output_type": "execute_result"
    }
   ],
   "source": [
    "X_train.looped.skew()"
   ]
  },
  {
   "cell_type": "code",
   "execution_count": 73,
   "id": "331fd891",
   "metadata": {
    "ExecuteTime": {
     "end_time": "2022-07-26T13:14:38.065539Z",
     "start_time": "2022-07-26T13:14:38.035119Z"
    }
   },
   "outputs": [
    {
     "data": {
      "text/plain": [
       "2.2179514248454013"
      ]
     },
     "execution_count": 73,
     "metadata": {},
     "output_type": "execute_result"
    }
   ],
   "source": [
    "pd.Series(sigmoid(np.array(X_train['looped']))).skew()"
   ]
  },
  {
   "cell_type": "code",
   "execution_count": 74,
   "id": "b00ea235",
   "metadata": {
    "ExecuteTime": {
     "end_time": "2022-07-26T13:14:42.659337Z",
     "start_time": "2022-07-26T13:14:40.693885Z"
    }
   },
   "outputs": [
    {
     "data": {
      "image/png": "[encoded data removed]",
      "text/plain": [
       "<Figure size 432x288 with 1 Axes>"
      ]
     },
     "metadata": {
      "needs_background": "light"
     },
     "output_type": "display_data"
    }
   ],
   "source": [
    "sns.distplot(sigmoid(np.array(X_train['looped'])))\n",
    "plt.title('Sigmoid of looped')\n",
    "plt.show()\n"
   ]
  },
  {
   "cell_type": "code",
   "execution_count": 75,
   "id": "90cb74ce",
   "metadata": {
    "ExecuteTime": {
     "end_time": "2022-07-26T13:14:45.367681Z",
     "start_time": "2022-07-26T13:14:45.345523Z"
    }
   },
   "outputs": [],
   "source": [
    "sig_looped_train = sigmoid(np.array(X_train['looped']))\n",
    "sig_looped_test = sigmoid(np.array(X_test['looped']))"
   ]
  },
  {
   "cell_type": "code",
   "execution_count": 76,
   "id": "ecb458e2",
   "metadata": {
    "ExecuteTime": {
     "end_time": "2022-07-26T13:14:48.070748Z",
     "start_time": "2022-07-26T13:14:48.057098Z"
    }
   },
   "outputs": [
    {
     "data": {
      "text/plain": [
       "2.2179514248454013"
      ]
     },
     "execution_count": 76,
     "metadata": {},
     "output_type": "execute_result"
    }
   ],
   "source": [
    "pd.Series(sig_looped_train).skew()"
   ]
  },
  {
   "cell_type": "markdown",
   "id": "0ef7cbbe",
   "metadata": {},
   "source": [
    "#### 2.1.7 count, log_count"
   ]
  },
  {
   "cell_type": "code",
   "execution_count": 77,
   "id": "6737e903",
   "metadata": {
    "ExecuteTime": {
     "end_time": "2022-07-26T13:14:52.497639Z",
     "start_time": "2022-07-26T13:14:50.753129Z"
    },
    "scrolled": true
   },
   "outputs": [
    {
     "data": {
      "image/png": "[encoded data removed]",
      "text/plain": [
       "<Figure size 432x288 with 1 Axes>"
      ]
     },
     "metadata": {
      "needs_background": "light"
     },
     "output_type": "display_data"
    }
   ],
   "source": [
    "plot_pdf(X_train,'count')"
   ]
  },
  {
   "cell_type": "code",
   "execution_count": 78,
   "id": "587c4c8e",
   "metadata": {
    "ExecuteTime": {
     "end_time": "2022-07-26T13:14:57.185758Z",
     "start_time": "2022-07-26T13:14:55.156179Z"
    }
   },
   "outputs": [
    {
     "data": {
      "image/png": "[encoded data removed]",
      "text/plain": [
       "<Figure size 432x288 with 1 Axes>"
      ]
     },
     "metadata": {
      "needs_background": "light"
     },
     "output_type": "display_data"
    }
   ],
   "source": [
    "sns.distplot(np.log(np.array(X_train['count']) + 1e-6))\n",
    "plt.title('log count distribution')\n",
    "plt.show()"
   ]
  },
  {
   "cell_type": "code",
   "execution_count": 79,
   "id": "751ead53",
   "metadata": {
    "ExecuteTime": {
     "end_time": "2022-07-26T13:14:59.903782Z",
     "start_time": "2022-07-26T13:14:59.880242Z"
    }
   },
   "outputs": [],
   "source": [
    "log_count_train = np.log(np.array(X_train['count']) + 1e-6)\n",
    "log_count_test  = np.log(np.array(X_test['count'])  + 1e-6)"
   ]
  },
  {
   "cell_type": "markdown",
   "id": "149cb329",
   "metadata": {},
   "source": [
    "## 2.2 Standardizing,  Splitting, and Downsampling"
   ]
  },
  {
   "cell_type": "markdown",
   "id": "e801392b",
   "metadata": {},
   "source": [
    "* Data processing"
   ]
  },
  {
   "cell_type": "markdown",
   "id": "9fb79286",
   "metadata": {},
   "source": [
    "#### 2.2.0 Inserting new features in X data"
   ]
  },
  {
   "cell_type": "code",
   "execution_count": 80,
   "id": "e3aceff8",
   "metadata": {
    "ExecuteTime": {
     "end_time": "2022-07-26T13:15:02.559537Z",
     "start_time": "2022-07-26T13:15:02.557475Z"
    }
   },
   "outputs": [],
   "source": [
    "# original columns to get scaled for distance based classifiers\n",
    "cols_orig = [ \n",
    "    'year',\n",
    "    'day',\n",
    "    'length',\n",
    "    'weight',\n",
    "    'count',\n",
    "    'looped',\n",
    "    'neighbors',\n",
    "    'income']\n",
    "# new columns to get scaled for distance based classifiers\n",
    "cols_new = [\n",
    "    'bc_income',\n",
    "    'bc_length',\n",
    "    'yeo_weight',\n",
    "    'logbc_n_address',\n",
    "    'bc_neighbors',\n",
    "    'sig_looped',\n",
    "    'log_count',\n",
    "    'day_of_week']\n",
    "\n",
    "cols = cols_orig + cols_new\n",
    "num_to_enc = 1"
   ]
  },
  {
   "cell_type": "code",
   "execution_count": 81,
   "id": "843b1a3c",
   "metadata": {
    "ExecuteTime": {
     "end_time": "2022-07-26T13:15:05.209929Z",
     "start_time": "2022-07-26T13:15:05.193666Z"
    }
   },
   "outputs": [],
   "source": [
    "X_train['bc_income'] = bc_income_train\n",
    "X_train['bc_length'] = bc_length_train\n",
    "X_train['yeo_weight'] = yeo_weight_train\n",
    "X_train['logbc_n_address'] = logbc_n_address_train\n",
    "X_train['bc_neighbors'] = bc_neighbors_train\n",
    "X_train['sig_looped'] = sig_looped_train\n",
    "X_train['log_count'] = log_count_train\n",
    "X_train['day_of_week'] = day_of_week_train\n",
    "\n",
    "X_test['bc_income'] = bc_income_test\n",
    "X_test['bc_length'] = bc_length_test\n",
    "X_test['yeo_weight'] = yeo_weight_test\n",
    "X_test['logbc_n_address'] = logbc_n_address_test\n",
    "X_test['bc_neighbors'] = bc_neighbors_test\n",
    "X_test['sig_looped'] = sig_looped_test\n",
    "X_test['log_count'] = log_count_test\n",
    "X_test['day_of_week'] = day_of_week_test\n"
   ]
  },
  {
   "cell_type": "code",
   "execution_count": 82,
   "id": "be7b63fd",
   "metadata": {
    "ExecuteTime": {
     "end_time": "2022-07-26T13:15:07.851946Z",
     "start_time": "2022-07-26T13:15:07.849737Z"
    }
   },
   "outputs": [
    {
     "data": {
      "text/plain": [
       "array([ True,  True,  True,  True,  True,  True,  True,  True,  True,\n",
       "        True,  True,  True,  True,  True,  True,  True,  True])"
      ]
     },
     "execution_count": 82,
     "metadata": {},
     "output_type": "execute_result"
    }
   ],
   "source": [
    "X_train.columns == X_test.columns"
   ]
  },
  {
   "cell_type": "code",
   "execution_count": 83,
   "id": "99970326",
   "metadata": {
    "ExecuteTime": {
     "end_time": "2022-07-26T13:15:11.340598Z",
     "start_time": "2022-07-26T13:15:10.525839Z"
    }
   },
   "outputs": [],
   "source": [
    "if SAVE_TEST_TRAIN == True:\n",
    "    with open('derived'+fname, 'wb') as save_file:\n",
    "        pickle.dump([X_train, y_train, X_test, y_test], save_file)"
   ]
  },
  {
   "cell_type": "markdown",
   "id": "9632cb07",
   "metadata": {},
   "source": [
    "#### 2.2.1 Normalizing the data for distance based models"
   ]
  },
  {
   "cell_type": "code",
   "execution_count": 84,
   "id": "e3213b34",
   "metadata": {
    "ExecuteTime": {
     "end_time": "2022-07-26T13:15:13.986814Z",
     "start_time": "2022-07-26T13:15:13.984598Z"
    }
   },
   "outputs": [
    {
     "data": {
      "text/plain": [
       "['year',\n",
       " 'day',\n",
       " 'length',\n",
       " 'weight',\n",
       " 'count',\n",
       " 'looped',\n",
       " 'neighbors',\n",
       " 'income',\n",
       " 'bc_income',\n",
       " 'bc_length',\n",
       " 'yeo_weight',\n",
       " 'logbc_n_address',\n",
       " 'bc_neighbors',\n",
       " 'sig_looped',\n",
       " 'log_count']"
      ]
     },
     "execution_count": 84,
     "metadata": {},
     "output_type": "execute_result"
    }
   ],
   "source": [
    "# cols to standardize (0 mean, unit variance)\n",
    "col_names_standardize = cols[:-num_to_enc]\n",
    "col_names_standardize"
   ]
  },
  {
   "cell_type": "code",
   "execution_count": 85,
   "id": "55ee7761",
   "metadata": {
    "ExecuteTime": {
     "end_time": "2022-07-26T13:15:16.652894Z",
     "start_time": "2022-07-26T13:15:16.651391Z"
    }
   },
   "outputs": [],
   "source": [
    "# cols to encode\n",
    "\n",
    "col_names_encode = [\n",
    "    'day_of_week'\n",
    "]"
   ]
  },
  {
   "cell_type": "code",
   "execution_count": 86,
   "id": "d2cfaced",
   "metadata": {
    "ExecuteTime": {
     "end_time": "2022-07-26T13:15:20.650220Z",
     "start_time": "2022-07-26T13:15:19.341350Z"
    }
   },
   "outputs": [],
   "source": [
    "# transform the data for use in distance based modeling algorithms [logistic regression]\n",
    "transformer = ColumnTransformer([\n",
    "    ('standardize', StandardScaler(), col_names_standardize),\n",
    "    ('encode', OneHotEncoder(), col_names_encode)\n",
    "], remainder = 'passthrough')\n",
    "\n",
    "transformer.fit(X_train.drop(['address'], axis=1))\n",
    "\n",
    "# std. transformed and encoded variables\n",
    "X_train_e = transformer.transform(X_train.drop(['address'], axis=1))\n",
    "X_test_e  = transformer.transform(X_test.drop(['address'], axis=1))"
   ]
  },
  {
   "cell_type": "code",
   "execution_count": 87,
   "id": "23027f77",
   "metadata": {
    "ExecuteTime": {
     "end_time": "2022-07-26T13:15:23.528689Z",
     "start_time": "2022-07-26T13:15:23.285966Z"
    }
   },
   "outputs": [],
   "source": [
    "if SAVE_TEST_TRAIN == True: \n",
    "    with open('encoded' + fname, 'wb') as save_file:\n",
    "        pickle.dump([X_train_e, y_train, X_test_e, y_test], save_file)"
   ]
  },
  {
   "cell_type": "code",
   "execution_count": null,
   "id": "65b3ffb8",
   "metadata": {},
   "outputs": [],
   "source": []
  }
 ],
 "metadata": {
  "kernelspec": {
   "display_name": "Python 3 (ipykernel)",
   "language": "python",
   "name": "python3"
  },
  "language_info": {
   "codemirror_mode": {
    "name": "ipython",
    "version": 3
   },
   "file_extension": ".py",
   "mimetype": "text/x-python",
   "name": "python",
   "nbconvert_exporter": "python",
   "pygments_lexer": "ipython3",
   "version": "3.9.0"
  },
  "toc": {
   "base_numbering": 1,
   "nav_menu": {},
   "number_sections": false,
   "sideBar": true,
   "skip_h1_title": false,
   "title_cell": "Table of Contents",
   "title_sidebar": "Contents",
   "toc_cell": false,
   "toc_position": {
    "height": "calc(100% - 180px)",
    "left": "10px",
    "top": "150px",
    "width": "320.6px"
   },
   "toc_section_display": true,
   "toc_window_display": true
  },
  "varInspector": {
   "cols": {
    "lenName": 16,
    "lenType": 16,
    "lenVar": 40
   },
   "kernels_config": {
    "python": {
     "delete_cmd_postfix": "",
     "delete_cmd_prefix": "del ",
     "library": "var_list.py",
     "varRefreshCmd": "print(var_dic_list())"
    },
    "r": {
     "delete_cmd_postfix": ") ",
     "delete_cmd_prefix": "rm(",
     "library": "var_list.r",
     "varRefreshCmd": "cat(var_dic_list()) "
    }
   },
   "types_to_exclude": [
    "module",
    "function",
    "builtin_function_or_method",
    "instance",
    "_Feature"
   ],
   "window_display": false
  }
 },
 "nbformat": 4,
 "nbformat_minor": 5
}
