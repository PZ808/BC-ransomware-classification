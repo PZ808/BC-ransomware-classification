{
 "cells": [
  {
   "cell_type": "markdown",
   "id": "6f6fa43a",
   "metadata": {
    "heading_collapsed": true
   },
   "source": [
    "# 0.0 Table of Contents\n",
    "\n",
    "1. [Introduction](#1.0-Introduction)\n",
    "\n",
    "2. [Feature Analysis](#2.0-Feature-Analysis)"
   ]
  },
  {
   "cell_type": "markdown",
   "id": "86fd8be8",
   "metadata": {},
   "source": [
    "# 1.0 Introduction\n",
    " "
   ]
  },
  {
   "cell_type": "markdown",
   "id": "48a0c01d",
   "metadata": {},
   "source": [
    "### 1.1 Project -  Binary classification of bitcoin addresses\n",
    "\n",
    "-  **GOAL:** to predict whether an address has been the recipient of ransomware coins. \n",
    "\n",
    "-  **DATA:**  Data is time series (24hr chunks) derived from the topological and geometrical properties of the bitcoin network.\n",
    "\n",
    "### 1.2 Basics\n",
    "\n",
    "- Ransomware is a rogue compute code that encrypts the victim's filesystem unless money is paid to the attacker for decryption. \n",
    "\n",
    "- Bitcoin is often used for these payments because it provides a semi-anonymous transaction method.  \n",
    "\n",
    "- The dataset was taken from the UCI Machine Learning Repository. It contains labelled data of addresses according to whether they have been involved in Ransomware. The data is from 2009 January to 2018 December. \n",
    "- Link to the data-set: [click here](https://archive.ics.uci.edu/ml/datasets/BitcoinHeistRansomwareAddressDataset)\n",
    "\n",
    "#### 1.2.0 Information:\n",
    "---\n",
    "**\"starter transactions\"**: transactions which are spent outputs from the  previous time window <n>\n",
    "\n",
    "Features:\n",
    "\n",
    "- The **address** is a public BC address which can receive and send bitcoins.        \n",
    "- The **income** of an address $a$ is the total amount of coins output to it measured in Satoshis (1 millionth of a BC).\n",
    "<b>\n",
    "- The number of (in) **neighbors** of an address $a$  is the number of transactions which\n",
    "have $a$ as one of its output addresses.\n",
    "<b>\n",
    "- The **weight** of an address is the sum of the fraction of *coins* that come from a starter transaction and merge at the address. Weight quantifies the merge behavior (i.e., the transaction has more input addresses than output addresses), where coins\n",
    "in multiple addresses are each passed through a succession of\n",
    "merging transactions and accumulated in a final address.\n",
    "- The **length** of an address $a$ is the number of non-starter transactions connected to $a$ on the longest chain.  A length of zero implies that the address is the recipient of starter transaction.\n",
    "- The **count** of an address $a$ is the number of starter transactions\n",
    "which are connected to $a$ in a chain, where a chain is\n",
    "defined as an acyclic directed path originating from a starter\n",
    "transaction and ending at address $a$. Count captures\n",
    "information about the number of transactions, whereas weight\n",
    " gives information about the amount of coins.\n",
    "- **looped** is the number of starter transactions connected to $a$ by more than one path (chain). \n",
    "    \n",
    "       \n",
    "<n>\n",
    "Engineered/derived features:\n",
    "    \n",
    "- bc_income = boxcox of income\n",
    "    \n",
    "- bc_length = boxcox of length\n",
    "    \n",
    "- yeo_weight = yeo of weight\n",
    "   \n",
    "- logbc_n_address = boxcox log of address\n",
    "\n",
    "- bc_neighbors = box of neighbors\n",
    "   \n",
    "- sig_looped = sigmoid of looped\n",
    "    \n",
    "- log_count = log of count\n",
    "   \n",
    "- day_of_week = {'Monday':0,...,'Sunday': 6}"
   ]
  },
  {
   "cell_type": "markdown",
   "id": "10c7352c",
   "metadata": {},
   "source": [
    "### 1.3 Packages and helper functions"
   ]
  },
  {
   "cell_type": "code",
   "execution_count": 1,
   "id": "b142e4c0",
   "metadata": {
    "ExecuteTime": {
     "end_time": "2022-07-28T12:57:31.040703Z",
     "start_time": "2022-07-28T12:57:30.319897Z"
    }
   },
   "outputs": [],
   "source": [
    "import pandas as pd\n",
    "import numpy as np\n",
    "import matplotlib\n",
    "import matplotlib.pyplot as plt\n",
    "import seaborn as sns\n",
    "from tqdm.notebook import tqdm\n",
    "import os\n",
    "import pickle\n",
    "import pdb\n",
    "import datetime\n",
    "import warnings\n",
    "\n",
    "from scipy.stats import pearsonr\n",
    "from scipy.stats import boxcox, yeojohnson\n",
    "\n",
    "from sklearn.ensemble import RandomForestClassifier\n",
    "from imblearn.under_sampling import RandomUnderSampler\n",
    "\n",
    "from sklearn.model_selection import train_test_split\n",
    "from sklearn.model_selection import RandomizedSearchCV\n",
    "from sklearn.preprocessing import PowerTransformer\n",
    "from sklearn.preprocessing import StandardScaler, OneHotEncoder\n",
    "from sklearn.compose import ColumnTransformer\n",
    "from sklearn.metrics import accuracy_score, log_loss, plot_roc_curve, f1_score, precision_score, recall_score, classification_report\n",
    "from sklearn.metrics import confusion_matrix\n",
    "from sklearn.metrics import plot_confusion_matrix\n",
    "from sklearn.metrics import precision_recall_curve\n",
    "from prettytable import PrettyTable\n",
    "warnings.filterwarnings(\"ignore\",category=matplotlib.cbook.mplDeprecation)\n",
    "warnings.filterwarnings(\"ignore\", category=UserWarning)\n",
    "_ = np.seterr(over='ignore')\n",
    "#from pretty_confusion_matrix import plot_confusion_matrix_from_data as conf_matrix\n",
    "warnings.simplefilter(action='ignore', category=FutureWarning)"
   ]
  },
  {
   "cell_type": "code",
   "execution_count": 2,
   "id": "7302e378",
   "metadata": {
    "ExecuteTime": {
     "end_time": "2022-07-28T12:57:33.105095Z",
     "start_time": "2022-07-28T12:57:33.100101Z"
    }
   },
   "outputs": [],
   "source": [
    "RAND_STATE  = 42\n",
    "SPLIT_RATIO = 0.23\n",
    "SAVE_TEST_TRAIN = False\n",
    "DS_FRAC = .25\n",
    "NF = 7"
   ]
  },
  {
   "cell_type": "markdown",
   "id": "2455c471",
   "metadata": {},
   "source": [
    "### 1.4 Importing data"
   ]
  },
  {
   "cell_type": "code",
   "execution_count": 3,
   "id": "c6001d1c",
   "metadata": {
    "ExecuteTime": {
     "end_time": "2022-07-28T12:57:40.554547Z",
     "start_time": "2022-07-28T12:57:38.368467Z"
    }
   },
   "outputs": [
    {
     "data": {
      "text/plain": [
       "(729174, 10)"
      ]
     },
     "execution_count": 3,
     "metadata": {},
     "output_type": "execute_result"
    }
   ],
   "source": [
    "df = pd.read_csv('BitcoinHeistData.csv')\n",
    "df = df.sample(frac=DS_FRAC, axis=0,random_state=RAND_STATE)\n",
    "ROWS = df.shape[0]\n",
    "COLS = df.shape[1]\n",
    "ROWS,COLS\n"
   ]
  },
  {
   "cell_type": "code",
   "execution_count": 4,
   "id": "fc0b9086",
   "metadata": {
    "ExecuteTime": {
     "end_time": "2022-07-28T12:57:40.566614Z",
     "start_time": "2022-07-28T12:57:40.555654Z"
    }
   },
   "outputs": [],
   "source": [
    "# copy a data frame\n",
    "dfc = df.copy()"
   ]
  },
  {
   "cell_type": "code",
   "execution_count": 5,
   "id": "8787e035",
   "metadata": {
    "ExecuteTime": {
     "end_time": "2022-07-28T12:57:40.573997Z",
     "start_time": "2022-07-28T12:57:40.567587Z"
    }
   },
   "outputs": [
    {
     "data": {
      "text/html": [
       "<div>\n",
       "<style scoped>\n",
       "    .dataframe tbody tr th:only-of-type {\n",
       "        vertical-align: middle;\n",
       "    }\n",
       "\n",
       "    .dataframe tbody tr th {\n",
       "        vertical-align: top;\n",
       "    }\n",
       "\n",
       "    .dataframe thead th {\n",
       "        text-align: right;\n",
       "    }\n",
       "</style>\n",
       "<table border=\"1\" class=\"dataframe\">\n",
       "  <thead>\n",
       "    <tr style=\"text-align: right;\">\n",
       "      <th></th>\n",
       "      <th>address</th>\n",
       "      <th>year</th>\n",
       "      <th>day</th>\n",
       "      <th>length</th>\n",
       "      <th>weight</th>\n",
       "      <th>count</th>\n",
       "      <th>looped</th>\n",
       "      <th>neighbors</th>\n",
       "      <th>income</th>\n",
       "      <th>label</th>\n",
       "    </tr>\n",
       "  </thead>\n",
       "  <tbody>\n",
       "    <tr>\n",
       "      <th>2667698</th>\n",
       "      <td>15DQFhP5R7ZeaBS9Ute7NzrYVBFSH1Z2kZ</td>\n",
       "      <td>2018</td>\n",
       "      <td>82</td>\n",
       "      <td>8</td>\n",
       "      <td>1.311111</td>\n",
       "      <td>3</td>\n",
       "      <td>0</td>\n",
       "      <td>2</td>\n",
       "      <td>577264100.0</td>\n",
       "      <td>white</td>\n",
       "    </tr>\n",
       "    <tr>\n",
       "      <th>2013400</th>\n",
       "      <td>3FhUXgmVecach9dZ59JK1yBLEcr9JsvJXZ</td>\n",
       "      <td>2016</td>\n",
       "      <td>157</td>\n",
       "      <td>2</td>\n",
       "      <td>0.025000</td>\n",
       "      <td>44</td>\n",
       "      <td>0</td>\n",
       "      <td>1</td>\n",
       "      <td>100000000.0</td>\n",
       "      <td>white</td>\n",
       "    </tr>\n",
       "    <tr>\n",
       "      <th>2704440</th>\n",
       "      <td>3DpHZaCtj88yaXUtajYnYLb8xgN15K8fnw</td>\n",
       "      <td>2018</td>\n",
       "      <td>118</td>\n",
       "      <td>144</td>\n",
       "      <td>3.619217</td>\n",
       "      <td>5991</td>\n",
       "      <td>5991</td>\n",
       "      <td>2</td>\n",
       "      <td>299950000.0</td>\n",
       "      <td>white</td>\n",
       "    </tr>\n",
       "    <tr>\n",
       "      <th>1650833</th>\n",
       "      <td>1G6doAKXpDsnsdSA1wgh7jfAnkaPi49M4y</td>\n",
       "      <td>2015</td>\n",
       "      <td>160</td>\n",
       "      <td>144</td>\n",
       "      <td>0.000484</td>\n",
       "      <td>3452</td>\n",
       "      <td>3049</td>\n",
       "      <td>2</td>\n",
       "      <td>299000000.0</td>\n",
       "      <td>white</td>\n",
       "    </tr>\n",
       "    <tr>\n",
       "      <th>1586811</th>\n",
       "      <td>175gAXqbkq4nho268FZxoBZ7TCCZWzWcg</td>\n",
       "      <td>2015</td>\n",
       "      <td>96</td>\n",
       "      <td>128</td>\n",
       "      <td>0.625000</td>\n",
       "      <td>2</td>\n",
       "      <td>0</td>\n",
       "      <td>2</td>\n",
       "      <td>40000000.0</td>\n",
       "      <td>white</td>\n",
       "    </tr>\n",
       "  </tbody>\n",
       "</table>\n",
       "</div>"
      ],
      "text/plain": [
       "                                    address  year  day  length    weight  \\\n",
       "2667698  15DQFhP5R7ZeaBS9Ute7NzrYVBFSH1Z2kZ  2018   82       8  1.311111   \n",
       "2013400  3FhUXgmVecach9dZ59JK1yBLEcr9JsvJXZ  2016  157       2  0.025000   \n",
       "2704440  3DpHZaCtj88yaXUtajYnYLb8xgN15K8fnw  2018  118     144  3.619217   \n",
       "1650833  1G6doAKXpDsnsdSA1wgh7jfAnkaPi49M4y  2015  160     144  0.000484   \n",
       "1586811   175gAXqbkq4nho268FZxoBZ7TCCZWzWcg  2015   96     128  0.625000   \n",
       "\n",
       "         count  looped  neighbors       income  label  \n",
       "2667698      3       0          2  577264100.0  white  \n",
       "2013400     44       0          1  100000000.0  white  \n",
       "2704440   5991    5991          2  299950000.0  white  \n",
       "1650833   3452    3049          2  299000000.0  white  \n",
       "1586811      2       0          2   40000000.0  white  "
      ]
     },
     "execution_count": 5,
     "metadata": {},
     "output_type": "execute_result"
    }
   ],
   "source": [
    "df.head()"
   ]
  },
  {
   "cell_type": "code",
   "execution_count": 6,
   "id": "a328e72d",
   "metadata": {
    "ExecuteTime": {
     "end_time": "2022-07-28T12:57:41.548063Z",
     "start_time": "2022-07-28T12:57:40.575566Z"
    }
   },
   "outputs": [],
   "source": [
    "remove_words = [\"princeton\",\"padua\",\"montreal\"]\n",
    "for r in remove_words:\n",
    "    dfc['label']=dfc['label'].str.replace(r,\"\")\n",
    "    df['label']=df['label'].str.replace(r,\"\")"
   ]
  },
  {
   "cell_type": "markdown",
   "id": "06c98382",
   "metadata": {},
   "source": [
    "For each time window extending back from the t_now, we take a sample of addresses "
   ]
  },
  {
   "cell_type": "code",
   "execution_count": 7,
   "id": "d94932f4",
   "metadata": {
    "ExecuteTime": {
     "end_time": "2022-07-28T12:57:41.550576Z",
     "start_time": "2022-07-28T12:57:41.548843Z"
    }
   },
   "outputs": [],
   "source": [
    "#time_windows = [30,60,90,120,240] # time windows to train on extending back from t_now. t_back[i] = t_now - t_win[i]\n",
    "#address_samps = [250,500,1000]"
   ]
  },
  {
   "cell_type": "code",
   "execution_count": 8,
   "id": "68b6b3be",
   "metadata": {
    "ExecuteTime": {
     "end_time": "2022-07-28T12:57:41.555766Z",
     "start_time": "2022-07-28T12:57:41.551435Z"
    }
   },
   "outputs": [
    {
     "name": "stdout",
     "output_type": "stream",
     "text": [
      "The data extends from 2011 to 2018.\n",
      "File containts 729174 rows and 10 columns\n"
     ]
    }
   ],
   "source": [
    "years = df['year'].unique()\n",
    "print('The data extends from {} to {}.'.format(years.min(),years.max()))\n",
    "print('File containts {:d} rows and {} columns'.format(df.shape[0], df.shape[1]))\n"
   ]
  },
  {
   "cell_type": "code",
   "execution_count": 9,
   "id": "ec523d80",
   "metadata": {
    "ExecuteTime": {
     "end_time": "2022-07-28T12:57:41.558583Z",
     "start_time": "2022-07-28T12:57:41.556683Z"
    },
    "run_control": {
     "marked": true
    }
   },
   "outputs": [
    {
     "name": "stdout",
     "output_type": "stream",
     "text": [
      "Feature columns: \n",
      "['address', 'year', 'day', 'length', 'weight', 'count', 'looped', 'neighbors', 'income']\n"
     ]
    }
   ],
   "source": [
    "features=list(df.columns)[:-1]\n",
    "print('Feature columns: \\n{}'.format(features))"
   ]
  },
  {
   "cell_type": "code",
   "execution_count": 10,
   "id": "90e1c28a",
   "metadata": {
    "ExecuteTime": {
     "end_time": "2022-07-28T12:57:41.562713Z",
     "start_time": "2022-07-28T12:57:41.559578Z"
    }
   },
   "outputs": [
    {
     "name": "stdout",
     "output_type": "stream",
     "text": [
      "Datatypes: \n",
      "\n",
      "address       object\n",
      "year           int64\n",
      "day            int64\n",
      "length         int64\n",
      "weight       float64\n",
      "count          int64\n",
      "looped         int64\n",
      "neighbors      int64\n",
      "income       float64\n",
      "label         object\n",
      "dtype: object\n"
     ]
    }
   ],
   "source": [
    "print('Datatypes: \\n\\n{}'.format(df.dtypes))"
   ]
  },
  {
   "cell_type": "code",
   "execution_count": 11,
   "id": "7cf798dd",
   "metadata": {
    "ExecuteTime": {
     "end_time": "2022-07-28T12:57:41.622598Z",
     "start_time": "2022-07-28T12:57:41.564229Z"
    }
   },
   "outputs": [
    {
     "data": {
      "text/plain": [
       "CryptoWall      3008\n",
       "CryptoLocker    2322\n",
       "Cerber          2209\n",
       "Locky           1628\n",
       "CryptXXX         617\n",
       "NoobCrypt        101\n",
       "DMALockerv3       93\n",
       "DMALocker         50\n",
       "SamSam            16\n",
       "Globe             11\n",
       "Name: label, dtype: int64"
      ]
     },
     "execution_count": 11,
     "metadata": {},
     "output_type": "execute_result"
    }
   ],
   "source": [
    "top_ransomwares_dict = dict(dfc.label.value_counts().head(10)[1:])\n",
    "top10_ransoms_labels = dfc.label.value_counts()[1:11]\n",
    "top10_ransoms_labels"
   ]
  },
  {
   "cell_type": "markdown",
   "id": "476887a2",
   "metadata": {},
   "source": [
    "- Note that the data is highly unbalanced"
   ]
  },
  {
   "cell_type": "code",
   "execution_count": 12,
   "id": "cfbf3a68",
   "metadata": {
    "ExecuteTime": {
     "end_time": "2022-07-28T12:57:41.673739Z",
     "start_time": "2022-07-28T12:57:41.625120Z"
    }
   },
   "outputs": [
    {
     "name": "stdout",
     "output_type": "stream",
     "text": [
      "The data is over 95% unbalanced towards clean!\n",
      "\n",
      "white label cnt: 719067\n",
      "rannsomware label cnt: 10107\n"
     ]
    }
   ],
   "source": [
    "print('The data is over 95% unbalanced towards clean!\\n\\nwhite label cnt: {}\\nrannsomware label cnt: {}'\\\n",
    "      .format(df['label'].value_counts()[0], \n",
    "        sum(df['label'].value_counts()[1:])\n",
    "             ))\n"
   ]
  },
  {
   "cell_type": "markdown",
   "id": "407d234d",
   "metadata": {},
   "source": [
    "We have a large proportion of white points to ransom points"
   ]
  },
  {
   "cell_type": "markdown",
   "id": "73cfeae8",
   "metadata": {},
   "source": [
    "### 1.5 Cleaning the data"
   ]
  },
  {
   "cell_type": "markdown",
   "id": "43a55271",
   "metadata": {},
   "source": [
    "- check for corrupted, missing, or duplicated entries"
   ]
  },
  {
   "cell_type": "code",
   "execution_count": 13,
   "id": "b3762cae",
   "metadata": {
    "ExecuteTime": {
     "end_time": "2022-07-28T12:57:41.783622Z",
     "start_time": "2022-07-28T12:57:41.674684Z"
    }
   },
   "outputs": [
    {
     "data": {
      "text/plain": [
       "address      False\n",
       "year         False\n",
       "day          False\n",
       "length       False\n",
       "weight       False\n",
       "count        False\n",
       "looped       False\n",
       "neighbors    False\n",
       "income       False\n",
       "label        False\n",
       "dtype: bool"
      ]
     },
     "execution_count": 13,
     "metadata": {},
     "output_type": "execute_result"
    }
   ],
   "source": [
    "df.isnull().any() # check for null values"
   ]
  },
  {
   "cell_type": "code",
   "execution_count": 14,
   "id": "ca96d4b3",
   "metadata": {
    "ExecuteTime": {
     "end_time": "2022-07-28T12:57:41.786564Z",
     "start_time": "2022-07-28T12:57:41.784515Z"
    }
   },
   "outputs": [
    {
     "name": "stdout",
     "output_type": "stream",
     "text": [
      "The data is free of obvious null values\n"
     ]
    }
   ],
   "source": [
    "print('The data is free of obvious null values')"
   ]
  },
  {
   "cell_type": "code",
   "execution_count": 15,
   "id": "0bcb860e",
   "metadata": {
    "ExecuteTime": {
     "end_time": "2022-07-28T12:57:42.143421Z",
     "start_time": "2022-07-28T12:57:41.787808Z"
    }
   },
   "outputs": [],
   "source": [
    "df = df.drop_duplicates() # if any"
   ]
  },
  {
   "cell_type": "markdown",
   "id": "ede9dffd",
   "metadata": {},
   "source": [
    "### 1.6 X,y split of the data"
   ]
  },
  {
   "cell_type": "code",
   "execution_count": 16,
   "id": "6367af16",
   "metadata": {
    "ExecuteTime": {
     "end_time": "2022-07-28T12:57:42.147024Z",
     "start_time": "2022-07-28T12:57:42.144628Z"
    }
   },
   "outputs": [],
   "source": [
    "# temporal split\n",
    "#time_windows = [30,60,90,120,240] # time windows to train on extending back from t_now. t_back[i] = t_now - t_win[i]\n",
    "#address_samps = [250,500,1000]"
   ]
  },
  {
   "cell_type": "code",
   "execution_count": 17,
   "id": "021c8d82",
   "metadata": {
    "ExecuteTime": {
     "end_time": "2022-07-28T12:57:42.153156Z",
     "start_time": "2022-07-28T12:57:42.150014Z"
    }
   },
   "outputs": [],
   "source": [
    "def labels_to_binary(df_labels):\n",
    "    # takes labels of df and makes them binary\n",
    "    \n",
    "    labels = np.array([])\n",
    "    \n",
    "    for label_i in tqdm(df_labels):\n",
    "        if label_i == 'white':\n",
    "            # label all presumed \"white\" addresses with 0\n",
    "            labels = np.append(labels, 0) \n",
    "        else:\n",
    "            # label all ransomware addresses with 1\n",
    "            labels = np.append(labels, 1) #ransomware\n",
    "    return labels"
   ]
  },
  {
   "cell_type": "code",
   "execution_count": 18,
   "id": "7aecf0bd",
   "metadata": {
    "ExecuteTime": {
     "end_time": "2022-07-28T12:59:39.746401Z",
     "start_time": "2022-07-28T12:57:42.154188Z"
    }
   },
   "outputs": [
    {
     "data": {
      "application/vnd.jupyter.widget-view+json": {
       "model_id": "c05769ed043a4bfd8674ebb73671e19c",
       "version_major": 2,
       "version_minor": 0
      },
      "text/plain": [
       "  0%|          | 0/729174 [00:00<?, ?it/s]"
      ]
     },
     "metadata": {},
     "output_type": "display_data"
    }
   ],
   "source": [
    "labels = labels_to_binary(df.label) # labels array"
   ]
  },
  {
   "cell_type": "code",
   "execution_count": 19,
   "id": "071e721d",
   "metadata": {
    "ExecuteTime": {
     "end_time": "2022-07-28T12:59:39.749510Z",
     "start_time": "2022-07-28T12:59:39.747448Z"
    }
   },
   "outputs": [],
   "source": [
    "labels_df = pd.DataFrame(labels)"
   ]
  },
  {
   "cell_type": "code",
   "execution_count": 20,
   "id": "2d8ded61",
   "metadata": {
    "ExecuteTime": {
     "end_time": "2022-07-28T12:59:39.784444Z",
     "start_time": "2022-07-28T12:59:39.750175Z"
    }
   },
   "outputs": [
    {
     "name": "stdout",
     "output_type": "stream",
     "text": [
      "Percentage of labels belonging to ransomware class: 1.4\n"
     ]
    }
   ],
   "source": [
    "print('Percentage of labels \\\n",
    "belonging to ransomware class: {:.2}'.format( (sum(labels) / len(labels)) * 100) )"
   ]
  },
  {
   "cell_type": "markdown",
   "id": "4f7aa000",
   "metadata": {},
   "source": [
    "**Defining {X, X_test, x_rain, y_test, y_train}**"
   ]
  },
  {
   "cell_type": "code",
   "execution_count": 21,
   "id": "37ef2962",
   "metadata": {
    "ExecuteTime": {
     "end_time": "2022-07-28T12:59:39.913148Z",
     "start_time": "2022-07-28T12:59:39.785189Z"
    }
   },
   "outputs": [],
   "source": [
    "X_df = df.drop(['label'],axis=1) # X=features [original]\n",
    "X = X_df.to_numpy()"
   ]
  },
  {
   "cell_type": "code",
   "execution_count": 22,
   "id": "787c4497",
   "metadata": {
    "ExecuteTime": {
     "end_time": "2022-07-28T12:59:40.072774Z",
     "start_time": "2022-07-28T12:59:39.914014Z"
    }
   },
   "outputs": [],
   "source": [
    "# WORKING test train split. We perform many operations on this data\n",
    "# We will down sample this data for plotting, testing, and training optimization\n",
    "X_train, X_test, y_train, y_test = train_test_split(\n",
    "    X_df,\n",
    "    labels_df,                      # y \n",
    "    stratify = labels,           #  stratify preserves the large imbalance in the target variable\n",
    "    random_state = RAND_STATE,\n",
    "    test_size = SPLIT_RATIO\n",
    ")"
   ]
  },
  {
   "cell_type": "code",
   "execution_count": 23,
   "id": "ec1e15d1",
   "metadata": {
    "ExecuteTime": {
     "end_time": "2022-07-28T12:59:40.075392Z",
     "start_time": "2022-07-28T12:59:40.073784Z"
    }
   },
   "outputs": [],
   "source": [
    "fname = 'X_train_y_train_X_test_y_test_v2_0'+str(NF)+'.pickle'"
   ]
  },
  {
   "cell_type": "code",
   "execution_count": 24,
   "id": "f24c294a",
   "metadata": {
    "ExecuteTime": {
     "end_time": "2022-07-28T12:59:40.077697Z",
     "start_time": "2022-07-28T12:59:40.076090Z"
    },
    "run_control": {
     "marked": false
    }
   },
   "outputs": [],
   "source": [
    "#if SAVE_TEST_TRAIN == True:\n",
    "#    with open('X_train_y_train_X_test_y_test_label_v3_01.pickle', 'wb') as save_file:\n",
    "#        pickle.dump([X_train, y_train, X_test, y_test], save_file)\n",
    "\n",
    "if SAVE_TEST_TRAIN == True: \n",
    "    with open(fname, 'wb') as save_file:\n",
    "        pickle.dump([X_train, y_train, X_test, y_test], save_file)"
   ]
  },
  {
   "cell_type": "code",
   "execution_count": 25,
   "id": "175e725e",
   "metadata": {
    "ExecuteTime": {
     "end_time": "2022-07-28T12:59:40.100896Z",
     "start_time": "2022-07-28T12:59:40.078447Z"
    }
   },
   "outputs": [],
   "source": [
    "# copy original dataframes to compare lates (background)\n",
    "X_orig = X_df.copy()\n",
    "X_train_orig = X_train.copy()\n",
    "X_test_orig = X_test.copy()"
   ]
  },
  {
   "cell_type": "markdown",
   "id": "792ba9b0",
   "metadata": {},
   "source": [
    "# 2.0 Feature Analysis"
   ]
  },
  {
   "cell_type": "markdown",
   "id": "cf2ac74f",
   "metadata": {},
   "source": [
    "* Transform features to reduce their skew\n",
    "* Normalize to unit variance and zero mean for distance classification\n",
    "* Engineer new features from the old ones"
   ]
  },
  {
   "cell_type": "markdown",
   "id": "36d0c86e",
   "metadata": {},
   "source": [
    "## 2.1 Feature Distributions, Normalization, and Engineering"
   ]
  },
  {
   "cell_type": "markdown",
   "id": "5378f302",
   "metadata": {},
   "source": [
    "* Description goes here"
   ]
  },
  {
   "cell_type": "code",
   "execution_count": 26,
   "id": "f973f9ac",
   "metadata": {
    "ExecuteTime": {
     "end_time": "2022-07-28T12:59:40.103502Z",
     "start_time": "2022-07-28T12:59:40.101887Z"
    }
   },
   "outputs": [],
   "source": [
    "pt = PowerTransformer(method='box-cox') # transformer to reduce skew, not standard "
   ]
  },
  {
   "cell_type": "code",
   "execution_count": 27,
   "id": "de37c141",
   "metadata": {
    "ExecuteTime": {
     "end_time": "2022-07-28T12:59:40.109455Z",
     "start_time": "2022-07-28T12:59:40.104219Z"
    }
   },
   "outputs": [],
   "source": [
    "class feature:\n",
    "    def __init__(self, df, colname):\n",
    "        self.df = df\n",
    "        self.col = colname\n",
    "        self.vec = np.array(self.df[self.col])\n",
    "        self.series = self.df[self.col]\n",
    "        if self.series.dtype == 'O':\n",
    "            pass\n",
    "        else:\n",
    "            self.skew = self.series.skew()\n",
    "            self.mean = self.series.mean()\n",
    "            self.var  = self.series.var()\n",
    "            self.std  = self.series.std()\n",
    "    def plot_pdf(self):\n",
    "        # plots distributions\n",
    "        sns.distplot(self.series, color=\"c\")\n",
    "        plt.title(str(self.col) +  ' distribution')\n",
    "        plt.ylabel('density')\n",
    "        plt.xlabel(self.col)\n",
    "        plt.plot()\n",
    "    def plot_pdf_mod(self, s, desc):\n",
    "        # plots distributions\n",
    "        self.series = s\n",
    "        #self.col = s.name\n",
    "        sns.distplot(self.series, color=\"c\")\n",
    "        plt.title(desc +' ' + str(self.col) +  ' distribution')\n",
    "        plt.ylabel('density')\n",
    "        plt.xlabel(self.col)\n",
    "        plt.plot()    \n",
    "    def plot_box(self,s):\n",
    "        return sns.boxplot(x=s)\n",
    "    def apply_pt_for_plots(self):\n",
    "        return pt.fit_transform(self.vec.reshape(-1,1))\n",
    "    def bc(self):\n",
    "        # boxcox on column\n",
    "        return  boxcox(self.series)[0] \n",
    "    def yeo(self):   \n",
    "        # yeo on column\n",
    "        return  yeojohnson(self.series)[0] \n",
    "    def sigmoid(self):\n",
    "        # logistic function\n",
    "        return 1 / (1 + np.exp(-self.vec))"
   ]
  },
  {
   "cell_type": "markdown",
   "id": "ad5deb4a",
   "metadata": {},
   "source": [
    "#### 2.1.0 income , bc_income"
   ]
  },
  {
   "cell_type": "code",
   "execution_count": 28,
   "id": "8025f9fe",
   "metadata": {
    "ExecuteTime": {
     "end_time": "2022-07-28T12:59:40.580030Z",
     "start_time": "2022-07-28T12:59:40.110460Z"
    }
   },
   "outputs": [
    {
     "data": {
      "image/png": "[encoded data removed]",
      "text/plain": [
       "<Figure size 432x288 with 1 Axes>"
      ]
     },
     "metadata": {
      "needs_background": "light"
     },
     "output_type": "display_data"
    }
   ],
   "source": [
    "X_train_inc_ft = feature(X_train,'income')\n",
    "X_test_inc_ft  = feature(X_test,'income')\n",
    "X_train_inc_ft.plot_pdf() # highly peaked and skewed "
   ]
  },
  {
   "cell_type": "code",
   "execution_count": 29,
   "id": "0b796e38",
   "metadata": {
    "ExecuteTime": {
     "end_time": "2022-07-28T12:59:40.582868Z",
     "start_time": "2022-07-28T12:59:40.580987Z"
    }
   },
   "outputs": [
    {
     "name": "stdout",
     "output_type": "stream",
     "text": [
      "The income is skewed by 250.7389157110026\n"
     ]
    }
   ],
   "source": [
    "print('The income is skewed by {}'.format(X_train_inc_ft.skew)) # highly skwewed"
   ]
  },
  {
   "cell_type": "code",
   "execution_count": 30,
   "id": "a709df62",
   "metadata": {
    "ExecuteTime": {
     "end_time": "2022-07-28T12:59:40.648665Z",
     "start_time": "2022-07-28T12:59:40.587807Z"
    }
   },
   "outputs": [
    {
     "data": {
      "image/png": "[encoded data removed]",
      "text/plain": [
       "<Figure size 432x288 with 1 Axes>"
      ]
     },
     "metadata": {
      "needs_background": "light"
     },
     "output_type": "display_data"
    }
   ],
   "source": [
    "# reducing skew with log\n",
    "log_inc = np.log(X_train['income'])\n",
    "ax = X_train_inc_ft.plot_box(log_inc)"
   ]
  },
  {
   "cell_type": "code",
   "execution_count": 31,
   "id": "22fc7de0",
   "metadata": {
    "ExecuteTime": {
     "end_time": "2022-07-28T12:59:41.184078Z",
     "start_time": "2022-07-28T12:59:40.650134Z"
    }
   },
   "outputs": [
    {
     "data": {
      "image/png": "[encoded data removed]",
      "text/plain": [
       "<Figure size 432x288 with 1 Axes>"
      ]
     },
     "metadata": {
      "needs_background": "light"
     },
     "output_type": "display_data"
    }
   ],
   "source": [
    "X_train_inc_ft.plot_pdf_mod(log_inc, 'log')"
   ]
  },
  {
   "cell_type": "markdown",
   "id": "d65ae44f",
   "metadata": {},
   "source": [
    "Log doesn't quite normalize the distribution. Try with boxcox"
   ]
  },
  {
   "cell_type": "code",
   "execution_count": 32,
   "id": "a87c2e86",
   "metadata": {
    "ExecuteTime": {
     "end_time": "2022-07-28T12:59:41.421760Z",
     "start_time": "2022-07-28T12:59:41.185059Z"
    }
   },
   "outputs": [],
   "source": [
    "# boxcox \n",
    "bc_income_train = X_train_inc_ft.bc() # np array \n",
    "bc_income_test = X_test_inc_ft.bc()   # np array "
   ]
  },
  {
   "cell_type": "code",
   "execution_count": 33,
   "id": "8614078b",
   "metadata": {
    "ExecuteTime": {
     "end_time": "2022-07-28T12:59:41.475495Z",
     "start_time": "2022-07-28T12:59:41.422597Z"
    }
   },
   "outputs": [
    {
     "data": {
      "image/png": "[encoded data removed]",
      "text/plain": [
       "<Figure size 432x288 with 1 Axes>"
      ]
     },
     "metadata": {
      "needs_background": "light"
     },
     "output_type": "display_data"
    }
   ],
   "source": [
    "ax = X_train_inc_ft.plot_box(bc_income_train) # box plot of boxcox(income)"
   ]
  },
  {
   "cell_type": "code",
   "execution_count": 34,
   "id": "786751f1",
   "metadata": {
    "ExecuteTime": {
     "end_time": "2022-07-28T12:59:42.055004Z",
     "start_time": "2022-07-28T12:59:41.476391Z"
    }
   },
   "outputs": [
    {
     "data": {
      "image/png": "[encoded data removed]",
      "text/plain": [
       "<Figure size 432x288 with 1 Axes>"
      ]
     },
     "metadata": {
      "needs_background": "light"
     },
     "output_type": "display_data"
    }
   ],
   "source": [
    "X_train_inc_ft.plot_pdf_mod(bc_income_train, 'boxcox')"
   ]
  },
  {
   "cell_type": "code",
   "execution_count": 35,
   "id": "e73bf645",
   "metadata": {
    "ExecuteTime": {
     "end_time": "2022-07-28T12:59:42.069385Z",
     "start_time": "2022-07-28T12:59:42.055992Z"
    }
   },
   "outputs": [],
   "source": [
    "# Seems good enough to save as a new engineered feature\n",
    "bc_income_train_ft = feature( pd.DataFrame(bc_income_train,\n",
    "                    columns=['bc_income']),'bc_income' )\n",
    "bc_income_test_ft = feature( pd.DataFrame(bc_income_test,\n",
    "                    columns=['bc_income']),'bc_income' )"
   ]
  },
  {
   "cell_type": "code",
   "execution_count": 36,
   "id": "724a97ac",
   "metadata": {
    "ExecuteTime": {
     "end_time": "2022-07-28T12:59:42.072576Z",
     "start_time": "2022-07-28T12:59:42.070142Z"
    }
   },
   "outputs": [
    {
     "data": {
      "text/plain": [
       "0.12718941991298097"
      ]
     },
     "execution_count": 36,
     "metadata": {},
     "output_type": "execute_result"
    }
   ],
   "source": [
    "bc_income_train_ft.skew"
   ]
  },
  {
   "cell_type": "markdown",
   "id": "e2f32de0",
   "metadata": {},
   "source": [
    "#### 2.1.1 day,  day_of_week"
   ]
  },
  {
   "cell_type": "code",
   "execution_count": 37,
   "id": "de770be8",
   "metadata": {
    "ExecuteTime": {
     "end_time": "2022-07-28T12:59:42.076405Z",
     "start_time": "2022-07-28T12:59:42.073863Z"
    }
   },
   "outputs": [
    {
     "name": "stdout",
     "output_type": "stream",
     "text": [
      "The mean number of entries per day is 181.47.\n"
     ]
    }
   ],
   "source": [
    "print('The mean number of entries per day is {:.2f}.'.format(X_df.day.mean()))"
   ]
  },
  {
   "cell_type": "code",
   "execution_count": 38,
   "id": "e99a7dbd",
   "metadata": {
    "ExecuteTime": {
     "end_time": "2022-07-28T12:59:42.673488Z",
     "start_time": "2022-07-28T12:59:42.077466Z"
    }
   },
   "outputs": [
    {
     "data": {
      "image/png": "[encoded data removed]",
      "text/plain": [
       "<Figure size 432x288 with 1 Axes>"
      ]
     },
     "metadata": {
      "needs_background": "light"
     },
     "output_type": "display_data"
    }
   ],
   "source": [
    "X_train_day_ft = feature(X_train,'day')\n",
    "X_test_day_ft = feature(X_test,'day')\n",
    "X_train_day_ft.plot_pdf()"
   ]
  },
  {
   "cell_type": "code",
   "execution_count": 39,
   "id": "8138825b",
   "metadata": {
    "ExecuteTime": {
     "end_time": "2022-07-28T12:59:42.678499Z",
     "start_time": "2022-07-28T12:59:42.674392Z"
    }
   },
   "outputs": [
    {
     "data": {
      "text/plain": [
       "0.01044502861126917"
      ]
     },
     "execution_count": 39,
     "metadata": {},
     "output_type": "execute_result"
    }
   ],
   "source": [
    "X_train_day_ft.series.skew()\n"
   ]
  },
  {
   "cell_type": "markdown",
   "id": "5603ee5b",
   "metadata": {},
   "source": [
    "###### Engineering day of week feature"
   ]
  },
  {
   "cell_type": "code",
   "execution_count": 40,
   "id": "10cb4f2e",
   "metadata": {
    "ExecuteTime": {
     "end_time": "2022-07-28T12:59:42.680898Z",
     "start_time": "2022-07-28T12:59:42.679342Z"
    }
   },
   "outputs": [],
   "source": [
    "def get_day_number(first_day_of_year, day):\n",
    "    # day number (0 for monday, 6 for sunday) for day\n",
    "    return (first_day_of_year + day - 1) % 7"
   ]
  },
  {
   "cell_type": "code",
   "execution_count": 41,
   "id": "8e52ec5e",
   "metadata": {
    "ExecuteTime": {
     "end_time": "2022-07-28T13:00:49.792527Z",
     "start_time": "2022-07-28T12:59:42.681775Z"
    },
    "scrolled": true
   },
   "outputs": [
    {
     "data": {
      "application/vnd.jupyter.widget-view+json": {
       "model_id": "00e6985f8ad3409da0713eaeba3a943e",
       "version_major": 2,
       "version_minor": 0
      },
      "text/plain": [
       "0it [00:00, ?it/s]"
      ]
     },
     "metadata": {},
     "output_type": "display_data"
    }
   ],
   "source": [
    "day_of_week_train = np.array([])\n",
    "for index, row in tqdm(X_train.iterrows()):\n",
    "    # For each data-point, we consider its year and day \n",
    "    # and calculate what day of the week (Monday, Tuesday, etc)\n",
    "    # it was when the transaction happened\n",
    "    # datetime.datetime(year, 1, 1).weekday() returns the first day of the year\n",
    "    # using this information, we can calculate the present day\n",
    "\n",
    "    year_i, day_i = row['year'], row['day']\n",
    "    day_of_week_train = np.append(day_of_week_train, \\\n",
    "                                  get_day_number(datetime.datetime(year_i, 1, 1).weekday(), day_i))"
   ]
  },
  {
   "cell_type": "code",
   "execution_count": 42,
   "id": "e4077e0a",
   "metadata": {
    "ExecuteTime": {
     "end_time": "2022-07-28T13:00:55.739551Z",
     "start_time": "2022-07-28T13:00:49.793329Z"
    }
   },
   "outputs": [
    {
     "data": {
      "application/vnd.jupyter.widget-view+json": {
       "model_id": "771afd95c7ba43b9b15f9f37e51c0e62",
       "version_major": 2,
       "version_minor": 0
      },
      "text/plain": [
       "0it [00:00, ?it/s]"
      ]
     },
     "metadata": {},
     "output_type": "display_data"
    }
   ],
   "source": [
    "day_of_week_test = np.array([])\n",
    "for index, row in tqdm(X_test.iterrows()):\n",
    "    #same as above but for test set\n",
    "\n",
    "    year_i, day_i = row['year'], row['day']\n",
    "    day_of_week_test = np.append(day_of_week_test, \\\n",
    "                                 get_day_number(datetime.datetime(year_i, 1, 1).weekday(), day_i))"
   ]
  },
  {
   "cell_type": "markdown",
   "id": "e1c0a9fc",
   "metadata": {},
   "source": [
    "####  2.1.2 length, bc_length"
   ]
  },
  {
   "cell_type": "code",
   "execution_count": 43,
   "id": "b0beb6f0",
   "metadata": {
    "ExecuteTime": {
     "end_time": "2022-07-28T13:00:56.332209Z",
     "start_time": "2022-07-28T13:00:55.740405Z"
    }
   },
   "outputs": [
    {
     "data": {
      "image/png": "[encoded data removed]",
      "text/plain": [
       "<Figure size 432x288 with 1 Axes>"
      ]
     },
     "metadata": {
      "needs_background": "light"
     },
     "output_type": "display_data"
    }
   ],
   "source": [
    "X_train_length_ft = feature(X_train,'length')\n",
    "X_test_length_ft  = feature(X_test,'length')\n",
    "\n",
    "X_train_length_ft.plot_pdf()"
   ]
  },
  {
   "cell_type": "code",
   "execution_count": 44,
   "id": "23cde096",
   "metadata": {
    "ExecuteTime": {
     "end_time": "2022-07-28T13:00:56.335237Z",
     "start_time": "2022-07-28T13:00:56.333191Z"
    }
   },
   "outputs": [
    {
     "data": {
      "text/plain": [
       "0.926722338090165"
      ]
     },
     "execution_count": 44,
     "metadata": {},
     "output_type": "execute_result"
    }
   ],
   "source": [
    "X_train_length_ft.skew"
   ]
  },
  {
   "cell_type": "code",
   "execution_count": 45,
   "id": "214357ce",
   "metadata": {
    "ExecuteTime": {
     "end_time": "2022-07-28T13:00:56.348963Z",
     "start_time": "2022-07-28T13:00:56.336059Z"
    }
   },
   "outputs": [
    {
     "data": {
      "text/plain": [
       "(0.926722338090165, 0.5763394042722108, -1.7444221627158991)"
      ]
     },
     "execution_count": 45,
     "metadata": {},
     "output_type": "execute_result"
    }
   ],
   "source": [
    "# check whether log and sqrt help the skew\n",
    "X_tra_v = X_train_day_ft.vec\n",
    "opsXa = np.log(np.sqrt(X_tra_v + 1e-6))\n",
    "X_train_length_ft.skew, np.sqrt(X_train['length']).skew(), pd.Series(opsXa).skew()\n"
   ]
  },
  {
   "cell_type": "code",
   "execution_count": 46,
   "id": "9fa3d9fa",
   "metadata": {
    "ExecuteTime": {
     "end_time": "2022-07-28T13:00:56.563092Z",
     "start_time": "2022-07-28T13:00:56.349907Z"
    }
   },
   "outputs": [],
   "source": [
    "#constructing the feature\n",
    "bc_length_train = boxcox((np.sin(np.log(np.sqrt(np.array(X_train['length']) + 1e-8))))**2)[0]\n",
    "bc_length_test  = boxcox((np.sin(np.log(np.sqrt(np.array(X_test['length']) + 1e-8))))**2)[0]"
   ]
  },
  {
   "cell_type": "code",
   "execution_count": 47,
   "id": "0faeca24",
   "metadata": {
    "ExecuteTime": {
     "end_time": "2022-07-28T13:00:56.577904Z",
     "start_time": "2022-07-28T13:00:56.564000Z"
    }
   },
   "outputs": [],
   "source": [
    "# new features\n",
    "bc_length_train_ft = feature( pd.DataFrame(bc_length_train,\n",
    "                    columns=['bc_length']),'bc_length' )\n",
    "bc_length_test_ft = feature( pd.DataFrame(bc_length_test,\n",
    "                    columns=['bc_length']),'bc_length' )"
   ]
  },
  {
   "cell_type": "code",
   "execution_count": 48,
   "id": "2c0a9efa",
   "metadata": {
    "ExecuteTime": {
     "end_time": "2022-07-28T13:00:56.581164Z",
     "start_time": "2022-07-28T13:00:56.578765Z"
    }
   },
   "outputs": [
    {
     "data": {
      "text/plain": [
       "-0.18006363706286313"
      ]
     },
     "execution_count": 48,
     "metadata": {},
     "output_type": "execute_result"
    }
   ],
   "source": [
    "bc_length_train_ft.skew # the skew has improved"
   ]
  },
  {
   "cell_type": "markdown",
   "id": "dae1b403",
   "metadata": {},
   "source": [
    "#### 2.1.3 weight, yeo_weight"
   ]
  },
  {
   "cell_type": "code",
   "execution_count": 49,
   "id": "4454f4b9",
   "metadata": {
    "ExecuteTime": {
     "end_time": "2022-07-28T13:00:57.036492Z",
     "start_time": "2022-07-28T13:00:56.582117Z"
    }
   },
   "outputs": [
    {
     "data": {
      "image/png": "[encoded data removed]",
      "text/plain": [
       "<Figure size 432x288 with 1 Axes>"
      ]
     },
     "metadata": {
      "needs_background": "light"
     },
     "output_type": "display_data"
    }
   ],
   "source": [
    "X_train_wt_ft = feature(X_train, 'weight')\n",
    "X_test_wt_ft  = feature(X_test, 'weight')\n",
    "X_train_wt_ft.plot_pdf()"
   ]
  },
  {
   "cell_type": "code",
   "execution_count": 50,
   "id": "c89bfadb",
   "metadata": {
    "ExecuteTime": {
     "end_time": "2022-07-28T13:00:57.039532Z",
     "start_time": "2022-07-28T13:00:57.037402Z"
    }
   },
   "outputs": [
    {
     "data": {
      "text/plain": [
       "280.4573588750912"
      ]
     },
     "execution_count": 50,
     "metadata": {},
     "output_type": "execute_result"
    }
   ],
   "source": [
    "X_train_wt_ft.skew # very skewed!"
   ]
  },
  {
   "cell_type": "code",
   "execution_count": 51,
   "id": "195e43e2",
   "metadata": {
    "ExecuteTime": {
     "end_time": "2022-07-28T13:00:57.064185Z",
     "start_time": "2022-07-28T13:00:57.040328Z"
    }
   },
   "outputs": [
    {
     "data": {
      "text/plain": [
       "count    5.614630e+05\n",
       "mean     5.462778e-01\n",
       "std      4.606104e+00\n",
       "min      3.606469e-94\n",
       "25%      2.183655e-02\n",
       "50%      2.500000e-01\n",
       "75%      8.833250e-01\n",
       "max      1.943749e+03\n",
       "Name: weight, dtype: float64"
      ]
     },
     "execution_count": 51,
     "metadata": {},
     "output_type": "execute_result"
    }
   ],
   "source": [
    "X_train_wt_ft.series.describe()"
   ]
  },
  {
   "cell_type": "code",
   "execution_count": 52,
   "id": "d2f269aa",
   "metadata": {
    "ExecuteTime": {
     "end_time": "2022-07-28T13:00:57.352428Z",
     "start_time": "2022-07-28T13:00:57.065056Z"
    }
   },
   "outputs": [],
   "source": [
    "yeo_weight_train = X_train_wt_ft.yeo()\n",
    "yeo_weight_test  = X_test_wt_ft.yeo()"
   ]
  },
  {
   "cell_type": "code",
   "execution_count": 53,
   "id": "6737443c",
   "metadata": {
    "ExecuteTime": {
     "end_time": "2022-07-28T13:00:57.366712Z",
     "start_time": "2022-07-28T13:00:57.353352Z"
    }
   },
   "outputs": [],
   "source": [
    "yeo_weight_train_ft = feature( pd.DataFrame(yeo_weight_train,\n",
    "                    columns=['yeo_weight']),'yeo_weight' )\n",
    "yeo_weight_test_ft = feature( pd.DataFrame(yeo_weight_test,\n",
    "                    columns=['yeo_weight']),'yeo_weight' )"
   ]
  },
  {
   "cell_type": "code",
   "execution_count": 54,
   "id": "d6478d2b",
   "metadata": {
    "ExecuteTime": {
     "end_time": "2022-07-28T13:00:57.945006Z",
     "start_time": "2022-07-28T13:00:57.367513Z"
    }
   },
   "outputs": [
    {
     "data": {
      "image/png": "[encoded data removed]",
      "text/plain": [
       "<Figure size 432x288 with 1 Axes>"
      ]
     },
     "metadata": {
      "needs_background": "light"
     },
     "output_type": "display_data"
    }
   ],
   "source": [
    "yeo_weight_train_ft.plot_pdf()"
   ]
  },
  {
   "cell_type": "code",
   "execution_count": 55,
   "id": "57c99478",
   "metadata": {
    "ExecuteTime": {
     "end_time": "2022-07-28T13:00:57.999378Z",
     "start_time": "2022-07-28T13:00:57.945945Z"
    }
   },
   "outputs": [
    {
     "data": {
      "image/png": "[encoded data removed]",
      "text/plain": [
       "<Figure size 432x288 with 1 Axes>"
      ]
     },
     "metadata": {
      "needs_background": "light"
     },
     "output_type": "display_data"
    }
   ],
   "source": [
    "#plotting box plots\n",
    "ax = X_train_wt_ft.plot_box(yeo_weight_train_ft.series)\n",
    "\n",
    "#sns.boxplot(x=yeo_weight_train_ft.series)"
   ]
  },
  {
   "cell_type": "code",
   "execution_count": 56,
   "id": "6ce63520",
   "metadata": {
    "ExecuteTime": {
     "end_time": "2022-07-28T13:00:58.002695Z",
     "start_time": "2022-07-28T13:00:58.000336Z"
    }
   },
   "outputs": [
    {
     "data": {
      "text/plain": [
       "0.23440638184372953"
      ]
     },
     "execution_count": 56,
     "metadata": {},
     "output_type": "execute_result"
    }
   ],
   "source": [
    "yeo_weight_train_ft.skew"
   ]
  },
  {
   "cell_type": "markdown",
   "id": "159ec6ba",
   "metadata": {},
   "source": [
    "#### 2.1.4 address, logbc_n_address"
   ]
  },
  {
   "cell_type": "code",
   "execution_count": 57,
   "id": "f903b03c",
   "metadata": {
    "ExecuteTime": {
     "end_time": "2022-07-28T13:00:58.012333Z",
     "start_time": "2022-07-28T13:00:58.003663Z"
    }
   },
   "outputs": [],
   "source": [
    "X_train_address_ft = feature(X_train,'address')\n",
    "X_test_address_ft  = feature(X_test,'address')"
   ]
  },
  {
   "cell_type": "code",
   "execution_count": 58,
   "id": "8468eef1",
   "metadata": {
    "ExecuteTime": {
     "end_time": "2022-07-28T13:00:58.292964Z",
     "start_time": "2022-07-28T13:00:58.013280Z"
    }
   },
   "outputs": [
    {
     "data": {
      "text/plain": [
       "1LXrSb67EaH1LGc6d6kWHq8rgv4ZBQAcpU    76\n",
       "16cVG72goMe4sNqZhnpmnqfCMZ1uSFbUit    60\n",
       "12wQZTDmA8onM3sEt4jwcvzDxnNXxD8Vza    40\n",
       "1LEq4WmpCrqBd7V3PywE2nvFUFC3QTe52x    38\n",
       "1CVWpTNwNYGdKgZRohiiVFrnFNbw8anG9     35\n",
       "                                      ..\n",
       "3PRnPsknHbyxh7bmEz2JExAsnxjvHHr3mU     1\n",
       "1KhDd3kCtYCg8Kjrn6Tw9hRPDr8fYoiAfq     1\n",
       "1PD5cXpyNwL8SKYzcUWBEKgwVS8TPBubRQ     1\n",
       "1ChWuXBqD1RDhrxA8nXv3K3ppoxt5A9GhM     1\n",
       "1KasizAg9PNALw6hUZy7WKgkUcaf9DghbV     1\n",
       "Name: address, Length: 533512, dtype: int64"
      ]
     },
     "execution_count": 58,
     "metadata": {},
     "output_type": "execute_result"
    }
   ],
   "source": [
    "X_train['address'].value_counts()"
   ]
  },
  {
   "cell_type": "markdown",
   "id": "e76d3860",
   "metadata": {},
   "source": [
    "##### Highest paid ransom address"
   ]
  },
  {
   "cell_type": "code",
   "execution_count": 59,
   "id": "8a5552e7",
   "metadata": {
    "ExecuteTime": {
     "end_time": "2022-07-28T13:00:58.341433Z",
     "start_time": "2022-07-28T13:00:58.294066Z"
    }
   },
   "outputs": [
    {
     "data": {
      "text/html": [
       "<div>\n",
       "<style scoped>\n",
       "    .dataframe tbody tr th:only-of-type {\n",
       "        vertical-align: middle;\n",
       "    }\n",
       "\n",
       "    .dataframe tbody tr th {\n",
       "        vertical-align: top;\n",
       "    }\n",
       "\n",
       "    .dataframe thead th {\n",
       "        text-align: right;\n",
       "    }\n",
       "</style>\n",
       "<table border=\"1\" class=\"dataframe\">\n",
       "  <thead>\n",
       "    <tr style=\"text-align: right;\">\n",
       "      <th></th>\n",
       "      <th>year</th>\n",
       "      <th>day</th>\n",
       "      <th>length</th>\n",
       "      <th>weight</th>\n",
       "      <th>count</th>\n",
       "      <th>looped</th>\n",
       "      <th>neighbors</th>\n",
       "      <th>income</th>\n",
       "    </tr>\n",
       "  </thead>\n",
       "  <tbody>\n",
       "    <tr>\n",
       "      <th>count</th>\n",
       "      <td>62.0</td>\n",
       "      <td>62.000000</td>\n",
       "      <td>62.000000</td>\n",
       "      <td>62.000000</td>\n",
       "      <td>62.000000</td>\n",
       "      <td>62.0</td>\n",
       "      <td>62.000000</td>\n",
       "      <td>6.200000e+01</td>\n",
       "    </tr>\n",
       "    <tr>\n",
       "      <th>mean</th>\n",
       "      <td>2013.0</td>\n",
       "      <td>245.322581</td>\n",
       "      <td>10.032258</td>\n",
       "      <td>1.351558</td>\n",
       "      <td>70.483871</td>\n",
       "      <td>0.0</td>\n",
       "      <td>1.451613</td>\n",
       "      <td>6.696082e+09</td>\n",
       "    </tr>\n",
       "    <tr>\n",
       "      <th>std</th>\n",
       "      <td>0.0</td>\n",
       "      <td>79.087786</td>\n",
       "      <td>31.048332</td>\n",
       "      <td>0.679452</td>\n",
       "      <td>343.929784</td>\n",
       "      <td>0.0</td>\n",
       "      <td>0.693705</td>\n",
       "      <td>2.129775e+10</td>\n",
       "    </tr>\n",
       "    <tr>\n",
       "      <th>min</th>\n",
       "      <td>2013.0</td>\n",
       "      <td>92.000000</td>\n",
       "      <td>0.000000</td>\n",
       "      <td>0.000096</td>\n",
       "      <td>1.000000</td>\n",
       "      <td>0.0</td>\n",
       "      <td>1.000000</td>\n",
       "      <td>1.655000e+08</td>\n",
       "    </tr>\n",
       "    <tr>\n",
       "      <th>25%</th>\n",
       "      <td>2013.0</td>\n",
       "      <td>178.750000</td>\n",
       "      <td>0.000000</td>\n",
       "      <td>1.000000</td>\n",
       "      <td>1.000000</td>\n",
       "      <td>0.0</td>\n",
       "      <td>1.000000</td>\n",
       "      <td>1.748748e+09</td>\n",
       "    </tr>\n",
       "    <tr>\n",
       "      <th>50%</th>\n",
       "      <td>2013.0</td>\n",
       "      <td>253.500000</td>\n",
       "      <td>2.000000</td>\n",
       "      <td>1.000000</td>\n",
       "      <td>2.000000</td>\n",
       "      <td>0.0</td>\n",
       "      <td>1.000000</td>\n",
       "      <td>3.019705e+09</td>\n",
       "    </tr>\n",
       "    <tr>\n",
       "      <th>75%</th>\n",
       "      <td>2013.0</td>\n",
       "      <td>311.500000</td>\n",
       "      <td>4.000000</td>\n",
       "      <td>1.500000</td>\n",
       "      <td>3.000000</td>\n",
       "      <td>0.0</td>\n",
       "      <td>2.000000</td>\n",
       "      <td>4.891061e+09</td>\n",
       "    </tr>\n",
       "    <tr>\n",
       "      <th>max</th>\n",
       "      <td>2013.0</td>\n",
       "      <td>365.000000</td>\n",
       "      <td>144.000000</td>\n",
       "      <td>3.312269</td>\n",
       "      <td>2319.000000</td>\n",
       "      <td>0.0</td>\n",
       "      <td>4.000000</td>\n",
       "      <td>1.687649e+11</td>\n",
       "    </tr>\n",
       "  </tbody>\n",
       "</table>\n",
       "</div>"
      ],
      "text/plain": [
       "         year         day      length     weight        count  looped  \\\n",
       "count    62.0   62.000000   62.000000  62.000000    62.000000    62.0   \n",
       "mean   2013.0  245.322581   10.032258   1.351558    70.483871     0.0   \n",
       "std       0.0   79.087786   31.048332   0.679452   343.929784     0.0   \n",
       "min    2013.0   92.000000    0.000000   0.000096     1.000000     0.0   \n",
       "25%    2013.0  178.750000    0.000000   1.000000     1.000000     0.0   \n",
       "50%    2013.0  253.500000    2.000000   1.000000     2.000000     0.0   \n",
       "75%    2013.0  311.500000    4.000000   1.500000     3.000000     0.0   \n",
       "max    2013.0  365.000000  144.000000   3.312269  2319.000000     0.0   \n",
       "\n",
       "       neighbors        income  \n",
       "count  62.000000  6.200000e+01  \n",
       "mean    1.451613  6.696082e+09  \n",
       "std     0.693705  2.129775e+10  \n",
       "min     1.000000  1.655000e+08  \n",
       "25%     1.000000  1.748748e+09  \n",
       "50%     1.000000  3.019705e+09  \n",
       "75%     2.000000  4.891061e+09  \n",
       "max     4.000000  1.687649e+11  "
      ]
     },
     "execution_count": 59,
     "metadata": {},
     "output_type": "execute_result"
    }
   ],
   "source": [
    "worst_culprit_address = df[df['address']=='1LXrSb67EaH1LGc6d6kWHq8rgv4ZBQAcpU']\n",
    "worst_culprit_address[worst_culprit_address['year']==2013].describe()"
   ]
  },
  {
   "cell_type": "code",
   "execution_count": 60,
   "id": "1dbc0f9b",
   "metadata": {
    "ExecuteTime": {
     "end_time": "2022-07-28T13:00:58.388821Z",
     "start_time": "2022-07-28T13:00:58.343006Z"
    }
   },
   "outputs": [
    {
     "data": {
      "text/html": [
       "<div>\n",
       "<style scoped>\n",
       "    .dataframe tbody tr th:only-of-type {\n",
       "        vertical-align: middle;\n",
       "    }\n",
       "\n",
       "    .dataframe tbody tr th {\n",
       "        vertical-align: top;\n",
       "    }\n",
       "\n",
       "    .dataframe thead th {\n",
       "        text-align: right;\n",
       "    }\n",
       "</style>\n",
       "<table border=\"1\" class=\"dataframe\">\n",
       "  <thead>\n",
       "    <tr style=\"text-align: right;\">\n",
       "      <th></th>\n",
       "      <th>year</th>\n",
       "      <th>day</th>\n",
       "      <th>length</th>\n",
       "      <th>weight</th>\n",
       "      <th>count</th>\n",
       "      <th>looped</th>\n",
       "      <th>neighbors</th>\n",
       "      <th>income</th>\n",
       "    </tr>\n",
       "  </thead>\n",
       "  <tbody>\n",
       "    <tr>\n",
       "      <th>count</th>\n",
       "      <td>39.0</td>\n",
       "      <td>39.000000</td>\n",
       "      <td>39.000000</td>\n",
       "      <td>39.000000</td>\n",
       "      <td>39.000000</td>\n",
       "      <td>39.000000</td>\n",
       "      <td>39.000000</td>\n",
       "      <td>3.900000e+01</td>\n",
       "    </tr>\n",
       "    <tr>\n",
       "      <th>mean</th>\n",
       "      <td>2014.0</td>\n",
       "      <td>81.153846</td>\n",
       "      <td>3.435897</td>\n",
       "      <td>1.282052</td>\n",
       "      <td>1.717949</td>\n",
       "      <td>0.051282</td>\n",
       "      <td>1.717949</td>\n",
       "      <td>1.764748e+09</td>\n",
       "    </tr>\n",
       "    <tr>\n",
       "      <th>std</th>\n",
       "      <td>0.0</td>\n",
       "      <td>50.954850</td>\n",
       "      <td>17.561613</td>\n",
       "      <td>0.519929</td>\n",
       "      <td>0.856821</td>\n",
       "      <td>0.320256</td>\n",
       "      <td>0.856821</td>\n",
       "      <td>3.581429e+09</td>\n",
       "    </tr>\n",
       "    <tr>\n",
       "      <th>min</th>\n",
       "      <td>2014.0</td>\n",
       "      <td>5.000000</td>\n",
       "      <td>0.000000</td>\n",
       "      <td>0.500000</td>\n",
       "      <td>1.000000</td>\n",
       "      <td>0.000000</td>\n",
       "      <td>1.000000</td>\n",
       "      <td>4.076000e+07</td>\n",
       "    </tr>\n",
       "    <tr>\n",
       "      <th>25%</th>\n",
       "      <td>2014.0</td>\n",
       "      <td>38.500000</td>\n",
       "      <td>0.000000</td>\n",
       "      <td>1.000000</td>\n",
       "      <td>1.000000</td>\n",
       "      <td>0.000000</td>\n",
       "      <td>1.000000</td>\n",
       "      <td>2.127200e+08</td>\n",
       "    </tr>\n",
       "    <tr>\n",
       "      <th>50%</th>\n",
       "      <td>2014.0</td>\n",
       "      <td>74.000000</td>\n",
       "      <td>0.000000</td>\n",
       "      <td>1.000000</td>\n",
       "      <td>1.000000</td>\n",
       "      <td>0.000000</td>\n",
       "      <td>1.000000</td>\n",
       "      <td>6.354000e+08</td>\n",
       "    </tr>\n",
       "    <tr>\n",
       "      <th>75%</th>\n",
       "      <td>2014.0</td>\n",
       "      <td>122.000000</td>\n",
       "      <td>1.000000</td>\n",
       "      <td>1.500000</td>\n",
       "      <td>2.000000</td>\n",
       "      <td>0.000000</td>\n",
       "      <td>2.000000</td>\n",
       "      <td>1.555902e+09</td>\n",
       "    </tr>\n",
       "    <tr>\n",
       "      <th>max</th>\n",
       "      <td>2014.0</td>\n",
       "      <td>173.000000</td>\n",
       "      <td>110.000000</td>\n",
       "      <td>2.500000</td>\n",
       "      <td>4.000000</td>\n",
       "      <td>2.000000</td>\n",
       "      <td>4.000000</td>\n",
       "      <td>2.107868e+10</td>\n",
       "    </tr>\n",
       "  </tbody>\n",
       "</table>\n",
       "</div>"
      ],
      "text/plain": [
       "         year         day      length     weight      count     looped  \\\n",
       "count    39.0   39.000000   39.000000  39.000000  39.000000  39.000000   \n",
       "mean   2014.0   81.153846    3.435897   1.282052   1.717949   0.051282   \n",
       "std       0.0   50.954850   17.561613   0.519929   0.856821   0.320256   \n",
       "min    2014.0    5.000000    0.000000   0.500000   1.000000   0.000000   \n",
       "25%    2014.0   38.500000    0.000000   1.000000   1.000000   0.000000   \n",
       "50%    2014.0   74.000000    0.000000   1.000000   1.000000   0.000000   \n",
       "75%    2014.0  122.000000    1.000000   1.500000   2.000000   0.000000   \n",
       "max    2014.0  173.000000  110.000000   2.500000   4.000000   2.000000   \n",
       "\n",
       "       neighbors        income  \n",
       "count  39.000000  3.900000e+01  \n",
       "mean    1.717949  1.764748e+09  \n",
       "std     0.856821  3.581429e+09  \n",
       "min     1.000000  4.076000e+07  \n",
       "25%     1.000000  2.127200e+08  \n",
       "50%     1.000000  6.354000e+08  \n",
       "75%     2.000000  1.555902e+09  \n",
       "max     4.000000  2.107868e+10  "
      ]
     },
     "execution_count": 60,
     "metadata": {},
     "output_type": "execute_result"
    }
   ],
   "source": [
    "worst_culprit_address = df[df['address']=='1LXrSb67EaH1LGc6d6kWHq8rgv4ZBQAcpU']\n",
    "worst_culprit_address[worst_culprit_address['year']==2014].describe()"
   ]
  },
  {
   "cell_type": "code",
   "execution_count": 61,
   "id": "b479e12e",
   "metadata": {
    "ExecuteTime": {
     "end_time": "2022-07-28T13:00:58.393738Z",
     "start_time": "2022-07-28T13:00:58.389815Z"
    }
   },
   "outputs": [
    {
     "data": {
      "text/plain": [
       "year\n",
       "2013    963.998942\n",
       "2014    308.410256\n",
       "Name: length, dtype: float64"
      ]
     },
     "execution_count": 61,
     "metadata": {},
     "output_type": "execute_result"
    }
   ],
   "source": [
    "worst_culprit_address[['length','year','day']].groupby('year')['length'].var()"
   ]
  },
  {
   "cell_type": "markdown",
   "id": "c514102e",
   "metadata": {},
   "source": [
    "##### Feature engineering:  logbc_n_address_train\n",
    "* the number of times the address appears (log boxcox transformation applied)"
   ]
  },
  {
   "cell_type": "code",
   "execution_count": 62,
   "id": "4b51eb90",
   "metadata": {
    "ExecuteTime": {
     "end_time": "2022-07-28T13:00:58.621604Z",
     "start_time": "2022-07-28T13:00:58.394757Z"
    }
   },
   "outputs": [
    {
     "name": "stdout",
     "output_type": "stream",
     "text": [
      "An address is repeated an average of 1.052 number of times\n"
     ]
    }
   ],
   "source": [
    "address_cnts = X_train_address_ft.series.value_counts()\n",
    "print('An address is repeated an average of {:.3f} number of times'.format(np.mean(address_cnts)))"
   ]
  },
  {
   "cell_type": "code",
   "execution_count": 63,
   "id": "292c8d28",
   "metadata": {
    "ExecuteTime": {
     "end_time": "2022-07-28T13:00:58.627328Z",
     "start_time": "2022-07-28T13:00:58.622757Z"
    }
   },
   "outputs": [
    {
     "data": {
      "text/plain": [
       "27.97646128250812"
      ]
     },
     "execution_count": 63,
     "metadata": {},
     "output_type": "execute_result"
    }
   ],
   "source": [
    "address_cnts.skew()"
   ]
  },
  {
   "cell_type": "code",
   "execution_count": 64,
   "id": "df803468",
   "metadata": {
    "ExecuteTime": {
     "end_time": "2022-07-28T13:00:58.735722Z",
     "start_time": "2022-07-28T13:00:58.628365Z"
    }
   },
   "outputs": [],
   "source": [
    "#Since this is an extremely skewed feature let's only visualize the 1st percentile points\n",
    "one_percentile = np.percentile(address_cnts, 99)\n",
    "n_addresses_1perc = np.array([element for element in address_cnts if element <= one_percentile])"
   ]
  },
  {
   "cell_type": "code",
   "execution_count": 65,
   "id": "8a7dbf06",
   "metadata": {
    "ExecuteTime": {
     "end_time": "2022-07-28T13:00:59.208621Z",
     "start_time": "2022-07-28T13:00:58.736523Z"
    }
   },
   "outputs": [
    {
     "data": {
      "image/png": "[encoded data removed]",
      "text/plain": [
       "<Figure size 432x288 with 1 Axes>"
      ]
     },
     "metadata": {
      "needs_background": "light"
     },
     "output_type": "display_data"
    }
   ],
   "source": [
    "#checking points only within 1st percentile\n",
    "plt.title('addresses cnts within 1st percentile')\n",
    "sns.distplot(n_addresses_1perc)\n",
    "plt.xlabel('n_addresses')\n",
    "plt.ylabel('density')\n",
    "plt.show()"
   ]
  },
  {
   "cell_type": "code",
   "execution_count": 66,
   "id": "f53885ea",
   "metadata": {
    "ExecuteTime": {
     "end_time": "2022-07-28T13:01:01.181224Z",
     "start_time": "2022-07-28T13:00:59.209610Z"
    }
   },
   "outputs": [
    {
     "data": {
      "application/vnd.jupyter.widget-view+json": {
       "model_id": "3eb7c9dc05fd457fad875e4a38a2ad19",
       "version_major": 2,
       "version_minor": 0
      },
      "text/plain": [
       "0it [00:00, ?it/s]"
      ]
     },
     "metadata": {},
     "output_type": "display_data"
    }
   ],
   "source": [
    "dict_address_cnts = dict(X_train['address'].value_counts())\n",
    "n_address = boxcox(np.array(list(dict_address_cnts.values())))[0]\n",
    "# \n",
    "for index, key in tqdm(enumerate(dict_address_cnts.keys())):\n",
    "    # updating the dictionary with number of times each address appears with the boxcox transformation applied to fix the skewness\n",
    "    dict_address_cnts.update({key: address_cnts[index]})\n",
    " "
   ]
  },
  {
   "cell_type": "code",
   "execution_count": 67,
   "id": "9234d709",
   "metadata": {
    "ExecuteTime": {
     "end_time": "2022-07-28T13:01:01.184899Z",
     "start_time": "2022-07-28T13:01:01.182068Z"
    }
   },
   "outputs": [
    {
     "data": {
      "text/plain": [
       "0.0"
      ]
     },
     "execution_count": 67,
     "metadata": {},
     "output_type": "execute_result"
    }
   ],
   "source": [
    "n_address.min()"
   ]
  },
  {
   "cell_type": "code",
   "execution_count": 68,
   "id": "48e4f161",
   "metadata": {
    "ExecuteTime": {
     "end_time": "2022-07-28T13:01:01.312787Z",
     "start_time": "2022-07-28T13:01:01.185654Z"
    }
   },
   "outputs": [
    {
     "data": {
      "text/plain": [
       "5.953107169677995"
      ]
     },
     "execution_count": 68,
     "metadata": {},
     "output_type": "execute_result"
    }
   ],
   "source": [
    "bc_address_n = boxcox(np.array(list(dict_address_cnts.values())))[0] # \n",
    "pd.Series(bc_address_n).skew()"
   ]
  },
  {
   "cell_type": "code",
   "execution_count": 69,
   "id": "42e281eb",
   "metadata": {
    "ExecuteTime": {
     "end_time": "2022-07-28T13:01:01.807366Z",
     "start_time": "2022-07-28T13:01:01.313898Z"
    }
   },
   "outputs": [
    {
     "data": {
      "image/png": "[encoded data removed]",
      "text/plain": [
       "<Figure size 432x288 with 1 Axes>"
      ]
     },
     "metadata": {
      "needs_background": "light"
     },
     "output_type": "display_data"
    }
   ],
   "source": [
    "#plot to print distribution of n_addresses\n",
    "plt.title('bc num address distribution')\n",
    "sns.distplot(bc_address_n)\n",
    "plt.xlabel('addresses')\n",
    "plt.ylabel('density')\n",
    "plt.show()"
   ]
  },
  {
   "cell_type": "code",
   "execution_count": 70,
   "id": "a944bfdf",
   "metadata": {
    "ExecuteTime": {
     "end_time": "2022-07-28T13:02:24.081388Z",
     "start_time": "2022-07-28T13:01:01.808688Z"
    }
   },
   "outputs": [
    {
     "data": {
      "application/vnd.jupyter.widget-view+json": {
       "model_id": "3a618a761827410ca6326b6e2be01cd0",
       "version_major": 2,
       "version_minor": 0
      },
      "text/plain": [
       "  0%|          | 0/561463 [00:00<?, ?it/s]"
      ]
     },
     "metadata": {},
     "output_type": "display_data"
    },
    {
     "data": {
      "application/vnd.jupyter.widget-view+json": {
       "model_id": "1b122cb5a6924f65bf6d366800c37fab",
       "version_major": 2,
       "version_minor": 0
      },
      "text/plain": [
       "  0%|          | 0/167711 [00:00<?, ?it/s]"
      ]
     },
     "metadata": {},
     "output_type": "display_data"
    }
   ],
   "source": [
    "bc_n_address_train = np.array([])\n",
    "\n",
    "for index, row in tqdm(X_train.iterrows(), total=X_train.shape[0]):\n",
    "    # For each address in the training set append the boxcox'd\n",
    "    # number of times it appears in the training set\n",
    "\n",
    "    n_address_i = dict_address_cnts.get(X_train.loc[index]['address'])\n",
    "    \n",
    "    bc_n_address_train = np.append(bc_n_address_train, n_address_i)\n",
    "\n",
    "bc_n_address_test = np.array([])\n",
    "min_dict_n_address = min(list(dict_address_cnts.values()))\n",
    "\n",
    "for index, row in tqdm(X_test.iterrows(), total=X_test.shape[0]):\n",
    "    # For each address in the training set append the boxcox'd\n",
    "    # number of times it appears in the training set\n",
    "    try:\n",
    "        #we do the same as above\n",
    "        n_address_i = dict_address_cnts[X_test.loc[index]['address']]\n",
    "    except KeyError:\n",
    "        #KeyError arises when the addreses in training set has not been seen before (i.e cold start)\n",
    "        #For this, we assign the minimum value to it\n",
    "\n",
    "        n_address_i = min_dict_n_address #Addressing cold start\n",
    "    bc_n_address_test = np.append(bc_n_address_test, n_address_i)"
   ]
  },
  {
   "cell_type": "code",
   "execution_count": 71,
   "id": "0fa27921",
   "metadata": {
    "ExecuteTime": {
     "end_time": "2022-07-28T13:02:24.518845Z",
     "start_time": "2022-07-28T13:02:24.082159Z"
    }
   },
   "outputs": [
    {
     "data": {
      "image/png": "[encoded data removed]",
      "text/plain": [
       "<Figure size 432x288 with 1 Axes>"
      ]
     },
     "metadata": {
      "needs_background": "light"
     },
     "output_type": "display_data"
    }
   ],
   "source": [
    "plt.title('boxcox address counts distribution')\n",
    "sns.distplot(bc_n_address_train)\n",
    "plt.xlabel('addresses')\n",
    "plt.ylabel('density')\n",
    "plt.show()"
   ]
  },
  {
   "cell_type": "code",
   "execution_count": 72,
   "id": "d153ffd1",
   "metadata": {
    "ExecuteTime": {
     "end_time": "2022-07-28T13:02:24.993329Z",
     "start_time": "2022-07-28T13:02:24.519782Z"
    }
   },
   "outputs": [
    {
     "data": {
      "image/png": "[encoded data removed]",
      "text/plain": [
       "<Figure size 432x288 with 1 Axes>"
      ]
     },
     "metadata": {
      "needs_background": "light"
     },
     "output_type": "display_data"
    }
   ],
   "source": [
    "plt.title('log boxcox address counts distribution)')\n",
    "sns.distplot(np.log(bc_n_address_train)) \n",
    "plt.xlabel('addresses')\n",
    "plt.ylabel('density')\n",
    "plt.show()"
   ]
  },
  {
   "cell_type": "code",
   "execution_count": 73,
   "id": "fdbcd250",
   "metadata": {
    "ExecuteTime": {
     "end_time": "2022-07-28T13:02:24.998474Z",
     "start_time": "2022-07-28T13:02:24.994289Z"
    }
   },
   "outputs": [],
   "source": [
    "logbc_n_address_train = np.log(bc_n_address_train)\n",
    "logbc_n_address_test = np.log(bc_n_address_test)"
   ]
  },
  {
   "cell_type": "code",
   "execution_count": 74,
   "id": "8d7cd7d6",
   "metadata": {
    "ExecuteTime": {
     "end_time": "2022-07-28T13:02:25.012742Z",
     "start_time": "2022-07-28T13:02:24.999423Z"
    }
   },
   "outputs": [],
   "source": [
    "logbc_n_address_train_ft = feature( pd.DataFrame(logbc_n_address_train,\n",
    "                    columns=['logbc_n_address']),'logbc_n_address' )\n",
    "logbc_n_address_test_ft  = feature( pd.DataFrame(logbc_n_address_test,\n",
    "                    columns=['logbc_n_address']),'logbc_n_address' )"
   ]
  },
  {
   "cell_type": "code",
   "execution_count": 75,
   "id": "026f812d",
   "metadata": {
    "ExecuteTime": {
     "end_time": "2022-07-28T13:02:25.016364Z",
     "start_time": "2022-07-28T13:02:25.013631Z"
    }
   },
   "outputs": [
    {
     "data": {
      "text/plain": [
       "4.734594416456778"
      ]
     },
     "execution_count": 75,
     "metadata": {},
     "output_type": "execute_result"
    }
   ],
   "source": [
    "logbc_n_address_train_ft.skew"
   ]
  },
  {
   "cell_type": "code",
   "execution_count": 76,
   "id": "1dcefc63",
   "metadata": {
    "ExecuteTime": {
     "end_time": "2022-07-28T13:02:25.490966Z",
     "start_time": "2022-07-28T13:02:25.017711Z"
    }
   },
   "outputs": [
    {
     "data": {
      "image/png": "[encoded data removed]",
      "text/plain": [
       "<Figure size 432x288 with 1 Axes>"
      ]
     },
     "metadata": {
      "needs_background": "light"
     },
     "output_type": "display_data"
    }
   ],
   "source": [
    "logbc_n_address_train_ft.plot_pdf()"
   ]
  },
  {
   "cell_type": "markdown",
   "id": "30270eae",
   "metadata": {},
   "source": [
    "#### 2.1.5 neighbors, bc_neighbors"
   ]
  },
  {
   "cell_type": "code",
   "execution_count": 77,
   "id": "c078dc6a",
   "metadata": {
    "ExecuteTime": {
     "end_time": "2022-07-28T13:02:25.500790Z",
     "start_time": "2022-07-28T13:02:25.492081Z"
    }
   },
   "outputs": [],
   "source": [
    "X_train_neighs_ft = feature(X_train, 'neighbors')\n",
    "X_test_neighs_ft  = feature(X_test, 'neighbors')"
   ]
  },
  {
   "cell_type": "code",
   "execution_count": 78,
   "id": "4b422ef9",
   "metadata": {
    "ExecuteTime": {
     "end_time": "2022-07-28T13:02:25.981299Z",
     "start_time": "2022-07-28T13:02:25.501831Z"
    }
   },
   "outputs": [
    {
     "data": {
      "image/png": "[encoded data removed]",
      "text/plain": [
       "<Figure size 432x288 with 1 Axes>"
      ]
     },
     "metadata": {
      "needs_background": "light"
     },
     "output_type": "display_data"
    }
   ],
   "source": [
    "X_train_neighs_ft.plot_pdf()"
   ]
  },
  {
   "cell_type": "code",
   "execution_count": 79,
   "id": "ebfcb605",
   "metadata": {
    "ExecuteTime": {
     "end_time": "2022-07-28T13:02:25.984393Z",
     "start_time": "2022-07-28T13:02:25.982231Z"
    }
   },
   "outputs": [
    {
     "data": {
      "text/plain": [
       "349.670288068549"
      ]
     },
     "execution_count": 79,
     "metadata": {},
     "output_type": "execute_result"
    }
   ],
   "source": [
    "X_train_neighs_ft.skew"
   ]
  },
  {
   "cell_type": "code",
   "execution_count": 80,
   "id": "55be241d",
   "metadata": {
    "ExecuteTime": {
     "end_time": "2022-07-28T13:02:26.249248Z",
     "start_time": "2022-07-28T13:02:25.985202Z"
    }
   },
   "outputs": [],
   "source": [
    "# apply boxcox\n",
    "bc_neighbors_train = X_train_neighs_ft.bc()\n",
    "bc_neighbors_test = X_test_neighs_ft.bc()"
   ]
  },
  {
   "cell_type": "code",
   "execution_count": 81,
   "id": "7f653d32",
   "metadata": {
    "ExecuteTime": {
     "end_time": "2022-07-28T13:02:26.262020Z",
     "start_time": "2022-07-28T13:02:26.250218Z"
    }
   },
   "outputs": [],
   "source": [
    "# generate new feature\n",
    "bc_neighbors_train_ft = feature(pd.DataFrame(bc_neighbors_train,\n",
    "                    columns=['bc_neighbors']),'bc_neighbors' )\n",
    "bc_neighbors_test_ft = feature( pd.DataFrame(bc_neighbors_test,\n",
    "                    columns=['bc_neighbors']),'bc_neighbors' )"
   ]
  },
  {
   "cell_type": "code",
   "execution_count": 82,
   "id": "a3ee2c2c",
   "metadata": {
    "ExecuteTime": {
     "end_time": "2022-07-28T13:02:26.265236Z",
     "start_time": "2022-07-28T13:02:26.263003Z"
    }
   },
   "outputs": [
    {
     "data": {
      "text/plain": [
       "-0.06295930167846216"
      ]
     },
     "execution_count": 82,
     "metadata": {},
     "output_type": "execute_result"
    }
   ],
   "source": [
    "bc_neighbors_train_ft.skew # skew is reduced"
   ]
  },
  {
   "cell_type": "code",
   "execution_count": 83,
   "id": "d7231ccd",
   "metadata": {
    "ExecuteTime": {
     "end_time": "2022-07-28T13:02:26.800031Z",
     "start_time": "2022-07-28T13:02:26.265923Z"
    }
   },
   "outputs": [
    {
     "data": {
      "image/png": "[encoded data removed]",
      "text/plain": [
       "<Figure size 432x288 with 1 Axes>"
      ]
     },
     "metadata": {
      "needs_background": "light"
     },
     "output_type": "display_data"
    }
   ],
   "source": [
    "bc_neighbors_train_ft.plot_pdf()"
   ]
  },
  {
   "cell_type": "markdown",
   "id": "461fe0f7",
   "metadata": {},
   "source": [
    "#### 2.1.6 looped, sig_looped"
   ]
  },
  {
   "cell_type": "code",
   "execution_count": 84,
   "id": "b7a97f6a",
   "metadata": {
    "ExecuteTime": {
     "end_time": "2022-07-28T13:02:26.820638Z",
     "start_time": "2022-07-28T13:02:26.812977Z"
    }
   },
   "outputs": [],
   "source": [
    "X_train_lp_ft = feature(X_train, 'looped')\n",
    "X_test_lp_ft  = feature(X_test, 'looped')"
   ]
  },
  {
   "cell_type": "code",
   "execution_count": 85,
   "id": "9b7e14c5",
   "metadata": {
    "ExecuteTime": {
     "end_time": "2022-07-28T13:02:27.290683Z",
     "start_time": "2022-07-28T13:02:26.821471Z"
    }
   },
   "outputs": [
    {
     "data": {
      "image/png": "[encoded data removed]",
      "text/plain": [
       "<Figure size 432x288 with 1 Axes>"
      ]
     },
     "metadata": {
      "needs_background": "light"
     },
     "output_type": "display_data"
    }
   ],
   "source": [
    "X_train_lp_ft.plot_pdf()"
   ]
  },
  {
   "cell_type": "code",
   "execution_count": 86,
   "id": "d54faa21",
   "metadata": {
    "ExecuteTime": {
     "end_time": "2022-07-28T13:02:27.293813Z",
     "start_time": "2022-07-28T13:02:27.291778Z"
    }
   },
   "outputs": [
    {
     "data": {
      "text/plain": [
       "5.544117274510451"
      ]
     },
     "execution_count": 86,
     "metadata": {},
     "output_type": "execute_result"
    }
   ],
   "source": [
    "X_train_lp_ft.skew"
   ]
  },
  {
   "cell_type": "code",
   "execution_count": 87,
   "id": "f93d0856",
   "metadata": {
    "ExecuteTime": {
     "end_time": "2022-07-28T13:02:27.300341Z",
     "start_time": "2022-07-28T13:02:27.294534Z"
    }
   },
   "outputs": [],
   "source": [
    "# apply sigmoid\n",
    "sig_looped_train = X_train_lp_ft.sigmoid()\n",
    "sig_looped_test  = X_test_lp_ft.sigmoid()"
   ]
  },
  {
   "cell_type": "code",
   "execution_count": 88,
   "id": "a62118f0",
   "metadata": {
    "ExecuteTime": {
     "end_time": "2022-07-28T13:02:27.313217Z",
     "start_time": "2022-07-28T13:02:27.301486Z"
    }
   },
   "outputs": [],
   "source": [
    "# generate new feature\n",
    "sig_looped_train_ft = feature(pd.DataFrame(sig_looped_train,\n",
    "                    columns=['sig_looped']),'sig_looped' )\n",
    "sig_looped_test_ft = feature(pd.DataFrame(sig_looped_test,\n",
    "                    columns=['sig_looped']),'sig_looped' )"
   ]
  },
  {
   "cell_type": "code",
   "execution_count": 89,
   "id": "57230316",
   "metadata": {
    "ExecuteTime": {
     "end_time": "2022-07-28T13:02:27.316674Z",
     "start_time": "2022-07-28T13:02:27.314113Z"
    }
   },
   "outputs": [
    {
     "data": {
      "text/plain": [
       "2.2215463159882374"
      ]
     },
     "execution_count": 89,
     "metadata": {},
     "output_type": "execute_result"
    }
   ],
   "source": [
    "sig_looped_train_ft.skew"
   ]
  },
  {
   "cell_type": "code",
   "execution_count": 90,
   "id": "0c11b5c6",
   "metadata": {
    "ExecuteTime": {
     "end_time": "2022-07-28T13:02:27.874987Z",
     "start_time": "2022-07-28T13:02:27.317580Z"
    }
   },
   "outputs": [
    {
     "data": {
      "image/png": "[encoded data removed]",
      "text/plain": [
       "<Figure size 432x288 with 1 Axes>"
      ]
     },
     "metadata": {
      "needs_background": "light"
     },
     "output_type": "display_data"
    }
   ],
   "source": [
    "sig_looped_train_ft.plot_pdf()"
   ]
  },
  {
   "cell_type": "markdown",
   "id": "0ef7cbbe",
   "metadata": {},
   "source": [
    "#### 2.1.7 count, log_count"
   ]
  },
  {
   "cell_type": "code",
   "execution_count": 91,
   "id": "4c84d7d4",
   "metadata": {
    "ExecuteTime": {
     "end_time": "2022-07-28T13:02:27.883172Z",
     "start_time": "2022-07-28T13:02:27.875893Z"
    }
   },
   "outputs": [],
   "source": [
    "X_train_cnt_ft = feature(X_train,'count')\n",
    "X_test_cnt_ft  = feature(X_test,'count')"
   ]
  },
  {
   "cell_type": "code",
   "execution_count": 92,
   "id": "64c362bd",
   "metadata": {
    "ExecuteTime": {
     "end_time": "2022-07-28T13:02:28.383577Z",
     "start_time": "2022-07-28T13:02:27.884050Z"
    }
   },
   "outputs": [
    {
     "data": {
      "image/png": "[encoded data removed]",
      "text/plain": [
       "<Figure size 432x288 with 1 Axes>"
      ]
     },
     "metadata": {
      "needs_background": "light"
     },
     "output_type": "display_data"
    }
   ],
   "source": [
    "X_train_cnt_ft.plot_pdf()"
   ]
  },
  {
   "cell_type": "code",
   "execution_count": 93,
   "id": "df87e68b",
   "metadata": {
    "ExecuteTime": {
     "end_time": "2022-07-28T13:02:28.386557Z",
     "start_time": "2022-07-28T13:02:28.384407Z"
    }
   },
   "outputs": [
    {
     "data": {
      "text/plain": [
       "2.9361537332298413"
      ]
     },
     "execution_count": 93,
     "metadata": {},
     "output_type": "execute_result"
    }
   ],
   "source": [
    "X_train_cnt_ft.skew"
   ]
  },
  {
   "cell_type": "code",
   "execution_count": 94,
   "id": "587c4c8e",
   "metadata": {
    "ExecuteTime": {
     "end_time": "2022-07-28T13:02:28.393759Z",
     "start_time": "2022-07-28T13:02:28.387332Z"
    },
    "scrolled": false
   },
   "outputs": [],
   "source": [
    "log_count_train = np.log(X_train_cnt_ft.vec + 1e-6)\n",
    "log_count_test  = np.log(X_test_cnt_ft.vec + 1e-6)"
   ]
  },
  {
   "cell_type": "code",
   "execution_count": 95,
   "id": "1eb071e1",
   "metadata": {
    "ExecuteTime": {
     "end_time": "2022-07-28T13:02:28.406220Z",
     "start_time": "2022-07-28T13:02:28.394722Z"
    }
   },
   "outputs": [],
   "source": [
    "# generate new feature\n",
    "log_count_train_ft = feature( pd.DataFrame(log_count_train,\n",
    "                    columns=['log_count']),'log_count' )\n",
    "log_count_test_ft = feature( pd.DataFrame(log_count_test,\n",
    "                    columns=['log_count']),'log_count' )"
   ]
  },
  {
   "cell_type": "code",
   "execution_count": 96,
   "id": "751ead53",
   "metadata": {
    "ExecuteTime": {
     "end_time": "2022-07-28T13:02:28.979306Z",
     "start_time": "2022-07-28T13:02:28.407129Z"
    }
   },
   "outputs": [
    {
     "data": {
      "image/png": "[encoded data removed]",
      "text/plain": [
       "<Figure size 432x288 with 1 Axes>"
      ]
     },
     "metadata": {
      "needs_background": "light"
     },
     "output_type": "display_data"
    }
   ],
   "source": [
    "log_count_train_ft.plot_pdf()"
   ]
  },
  {
   "cell_type": "code",
   "execution_count": 97,
   "id": "a15a4f60",
   "metadata": {
    "ExecuteTime": {
     "end_time": "2022-07-28T13:02:28.982466Z",
     "start_time": "2022-07-28T13:02:28.980269Z"
    }
   },
   "outputs": [
    {
     "data": {
      "text/plain": [
       "1.0654652119731334"
      ]
     },
     "execution_count": 97,
     "metadata": {},
     "output_type": "execute_result"
    }
   ],
   "source": [
    "log_count_train_ft.skew"
   ]
  },
  {
   "cell_type": "markdown",
   "id": "149cb329",
   "metadata": {},
   "source": [
    "## 2.2 Standardizing and Encoding"
   ]
  },
  {
   "cell_type": "markdown",
   "id": "e801392b",
   "metadata": {},
   "source": [
    "* Data processing"
   ]
  },
  {
   "cell_type": "markdown",
   "id": "9fb79286",
   "metadata": {},
   "source": [
    "#### 2.2.0 Inserting new features in X data"
   ]
  },
  {
   "cell_type": "code",
   "execution_count": 98,
   "id": "e3aceff8",
   "metadata": {
    "ExecuteTime": {
     "end_time": "2022-07-28T13:02:28.985254Z",
     "start_time": "2022-07-28T13:02:28.983284Z"
    }
   },
   "outputs": [],
   "source": [
    "# original columns to get scaled for distance based classifiers\n",
    "cols_orig = [ \n",
    "    'year',\n",
    "    'day',\n",
    "    'length',\n",
    "    'weight',\n",
    "    'count',\n",
    "    'looped',\n",
    "    'neighbors',\n",
    "    'income']\n",
    "# new columns to get scaled for distance based classifiers\n",
    "cols_new = [\n",
    "    'bc_income',\n",
    "    'bc_length',\n",
    "    'yeo_weight',\n",
    "    'logbc_n_address',\n",
    "    'bc_neighbors',\n",
    "    'sig_looped',\n",
    "    'log_count',\n",
    "    'day_of_week'\n",
    "]\n",
    "\n",
    "cols = cols_orig + cols_new\n",
    "num_to_enc = 1"
   ]
  },
  {
   "cell_type": "code",
   "execution_count": 99,
   "id": "843b1a3c",
   "metadata": {
    "ExecuteTime": {
     "end_time": "2022-07-28T13:02:28.992953Z",
     "start_time": "2022-07-28T13:02:28.985996Z"
    }
   },
   "outputs": [],
   "source": [
    "# NOTE: the vecs are all np.array types but they get converted into pd.Series typed\n",
    "X_train['bc_income']       = bc_income_train_ft.vec\n",
    "X_train['bc_length']       = bc_length_train_ft.vec\n",
    "X_train['yeo_weight']      = yeo_weight_train_ft.vec\n",
    "X_train['logbc_n_address'] = logbc_n_address_train_ft.vec\n",
    "X_train['bc_neighbors']    = bc_neighbors_train_ft.vec\n",
    "X_train['sig_looped']      = sig_looped_train_ft.vec\n",
    "X_train['log_count']       = log_count_train_ft.vec\n",
    "X_train['day_of_week']     = day_of_week_train\n",
    "\n",
    "X_test['bc_income']        = bc_income_test_ft.vec\n",
    "X_test['bc_length']        = bc_length_test_ft.vec\n",
    "X_test['yeo_weight']       = yeo_weight_test_ft.vec\n",
    "X_test['logbc_n_address']  = logbc_n_address_test_ft.vec\n",
    "X_test['bc_neighbors']     = bc_neighbors_test_ft.vec\n",
    "X_test['sig_looped']       = sig_looped_test_ft.vec\n",
    "X_test['log_count']        = log_count_test_ft.vec\n",
    "X_test['day_of_week']      = day_of_week_test"
   ]
  },
  {
   "cell_type": "code",
   "execution_count": 100,
   "id": "be7b63fd",
   "metadata": {
    "ExecuteTime": {
     "end_time": "2022-07-28T13:02:28.996413Z",
     "start_time": "2022-07-28T13:02:28.993858Z"
    }
   },
   "outputs": [
    {
     "data": {
      "text/plain": [
       "array([ True,  True,  True,  True,  True,  True,  True,  True,  True,\n",
       "        True,  True,  True,  True,  True,  True,  True,  True])"
      ]
     },
     "execution_count": 100,
     "metadata": {},
     "output_type": "execute_result"
    }
   ],
   "source": [
    "X_train.columns == X_test.columns"
   ]
  },
  {
   "cell_type": "code",
   "execution_count": 101,
   "id": "e41fc14e",
   "metadata": {
    "ExecuteTime": {
     "end_time": "2022-07-28T13:02:28.999398Z",
     "start_time": "2022-07-28T13:02:28.997501Z"
    }
   },
   "outputs": [],
   "source": [
    "if SAVE_TEST_TRAIN == True:\n",
    "    with open('derived'+fname, 'wb') as save_file:\n",
    "        pickle.dump([X_train, y_train, X_test, y_test], save_file)"
   ]
  },
  {
   "cell_type": "markdown",
   "id": "9632cb07",
   "metadata": {},
   "source": [
    "#### 2.2.1 Scaling and encoding the data"
   ]
  },
  {
   "cell_type": "code",
   "execution_count": 102,
   "id": "e3213b34",
   "metadata": {
    "ExecuteTime": {
     "end_time": "2022-07-28T13:02:29.002849Z",
     "start_time": "2022-07-28T13:02:29.000155Z"
    }
   },
   "outputs": [
    {
     "data": {
      "text/plain": [
       "['year',\n",
       " 'day',\n",
       " 'length',\n",
       " 'weight',\n",
       " 'count',\n",
       " 'looped',\n",
       " 'neighbors',\n",
       " 'income',\n",
       " 'bc_income',\n",
       " 'bc_length',\n",
       " 'yeo_weight',\n",
       " 'logbc_n_address',\n",
       " 'bc_neighbors',\n",
       " 'sig_looped',\n",
       " 'log_count']"
      ]
     },
     "execution_count": 102,
     "metadata": {},
     "output_type": "execute_result"
    }
   ],
   "source": [
    "# cols to standardize (0 mean, unit variance)\n",
    "col_names_standardize = cols[:-num_to_enc]\n",
    "# cols to encode\n",
    "col_names_encode = ['day_of_week']\n",
    "col_names_standardize"
   ]
  },
  {
   "cell_type": "code",
   "execution_count": 103,
   "id": "d2cfaced",
   "metadata": {
    "ExecuteTime": {
     "end_time": "2022-07-28T13:02:29.169697Z",
     "start_time": "2022-07-28T13:02:29.003778Z"
    }
   },
   "outputs": [
    {
     "data": {
      "text/html": [
       "<style>#sk-container-id-1 {color: black;background-color: white;}#sk-container-id-1 pre{padding: 0;}#sk-container-id-1 div.sk-toggleable {background-color: white;}#sk-container-id-1 label.sk-toggleable__label {cursor: pointer;display: block;width: 100%;margin-bottom: 0;padding: 0.3em;box-sizing: border-box;text-align: center;}#sk-container-id-1 label.sk-toggleable__label-arrow:before {content: \"▸\";float: left;margin-right: 0.25em;color: #696969;}#sk-container-id-1 label.sk-toggleable__label-arrow:hover:before {color: black;}#sk-container-id-1 div.sk-estimator:hover label.sk-toggleable__label-arrow:before {color: black;}#sk-container-id-1 div.sk-toggleable__content {max-height: 0;max-width: 0;overflow: hidden;text-align: left;background-color: #f0f8ff;}#sk-container-id-1 div.sk-toggleable__content pre {margin: 0.2em;color: black;border-radius: 0.25em;background-color: #f0f8ff;}#sk-container-id-1 input.sk-toggleable__control:checked~div.sk-toggleable__content {max-height: 200px;max-width: 100%;overflow: auto;}#sk-container-id-1 input.sk-toggleable__control:checked~label.sk-toggleable__label-arrow:before {content: \"▾\";}#sk-container-id-1 div.sk-estimator input.sk-toggleable__control:checked~label.sk-toggleable__label {background-color: #d4ebff;}#sk-container-id-1 div.sk-label input.sk-toggleable__control:checked~label.sk-toggleable__label {background-color: #d4ebff;}#sk-container-id-1 input.sk-hidden--visually {border: 0;clip: rect(1px 1px 1px 1px);clip: rect(1px, 1px, 1px, 1px);height: 1px;margin: -1px;overflow: hidden;padding: 0;position: absolute;width: 1px;}#sk-container-id-1 div.sk-estimator {font-family: monospace;background-color: #f0f8ff;border: 1px dotted black;border-radius: 0.25em;box-sizing: border-box;margin-bottom: 0.5em;}#sk-container-id-1 div.sk-estimator:hover {background-color: #d4ebff;}#sk-container-id-1 div.sk-parallel-item::after {content: \"\";width: 100%;border-bottom: 1px solid gray;flex-grow: 1;}#sk-container-id-1 div.sk-label:hover label.sk-toggleable__label {background-color: #d4ebff;}#sk-container-id-1 div.sk-serial::before {content: \"\";position: absolute;border-left: 1px solid gray;box-sizing: border-box;top: 0;bottom: 0;left: 50%;z-index: 0;}#sk-container-id-1 div.sk-serial {display: flex;flex-direction: column;align-items: center;background-color: white;padding-right: 0.2em;padding-left: 0.2em;position: relative;}#sk-container-id-1 div.sk-item {position: relative;z-index: 1;}#sk-container-id-1 div.sk-parallel {display: flex;align-items: stretch;justify-content: center;background-color: white;position: relative;}#sk-container-id-1 div.sk-item::before, #sk-container-id-1 div.sk-parallel-item::before {content: \"\";position: absolute;border-left: 1px solid gray;box-sizing: border-box;top: 0;bottom: 0;left: 50%;z-index: -1;}#sk-container-id-1 div.sk-parallel-item {display: flex;flex-direction: column;z-index: 1;position: relative;background-color: white;}#sk-container-id-1 div.sk-parallel-item:first-child::after {align-self: flex-end;width: 50%;}#sk-container-id-1 div.sk-parallel-item:last-child::after {align-self: flex-start;width: 50%;}#sk-container-id-1 div.sk-parallel-item:only-child::after {width: 0;}#sk-container-id-1 div.sk-dashed-wrapped {border: 1px dashed gray;margin: 0 0.4em 0.5em 0.4em;box-sizing: border-box;padding-bottom: 0.4em;background-color: white;}#sk-container-id-1 div.sk-label label {font-family: monospace;font-weight: bold;display: inline-block;line-height: 1.2em;}#sk-container-id-1 div.sk-label-container {text-align: center;}#sk-container-id-1 div.sk-container {/* jupyter's `normalize.less` sets `[hidden] { display: none; }` but bootstrap.min.css set `[hidden] { display: none !important; }` so we also need the `!important` here to be able to override the default hidden behavior on the sphinx rendered scikit-learn.org. See: https://github.com/scikit-learn/scikit-learn/issues/21755 */display: inline-block !important;position: relative;}#sk-container-id-1 div.sk-text-repr-fallback {display: none;}</style><div id=\"sk-container-id-1\" class=\"sk-top-container\"><div class=\"sk-text-repr-fallback\"><pre>ColumnTransformer(remainder=&#x27;passthrough&#x27;,\n",
       "                  transformers=[(&#x27;standardize&#x27;, StandardScaler(),\n",
       "                                 [&#x27;year&#x27;, &#x27;day&#x27;, &#x27;length&#x27;, &#x27;weight&#x27;, &#x27;count&#x27;,\n",
       "                                  &#x27;looped&#x27;, &#x27;neighbors&#x27;, &#x27;income&#x27;, &#x27;bc_income&#x27;,\n",
       "                                  &#x27;bc_length&#x27;, &#x27;yeo_weight&#x27;, &#x27;logbc_n_address&#x27;,\n",
       "                                  &#x27;bc_neighbors&#x27;, &#x27;sig_looped&#x27;, &#x27;log_count&#x27;]),\n",
       "                                (&#x27;encode&#x27;, OneHotEncoder(), [&#x27;day_of_week&#x27;])])</pre><b>In a Jupyter environment, please rerun this cell to show the HTML representation or trust the notebook. <br />On GitHub, the HTML representation is unable to render, please try loading this page with nbviewer.org.</b></div><div class=\"sk-container\" hidden><div class=\"sk-item sk-dashed-wrapped\"><div class=\"sk-label-container\"><div class=\"sk-label sk-toggleable\"><input class=\"sk-toggleable__control sk-hidden--visually\" id=\"sk-estimator-id-1\" type=\"checkbox\" ><label for=\"sk-estimator-id-1\" class=\"sk-toggleable__label sk-toggleable__label-arrow\">ColumnTransformer</label><div class=\"sk-toggleable__content\"><pre>ColumnTransformer(remainder=&#x27;passthrough&#x27;,\n",
       "                  transformers=[(&#x27;standardize&#x27;, StandardScaler(),\n",
       "                                 [&#x27;year&#x27;, &#x27;day&#x27;, &#x27;length&#x27;, &#x27;weight&#x27;, &#x27;count&#x27;,\n",
       "                                  &#x27;looped&#x27;, &#x27;neighbors&#x27;, &#x27;income&#x27;, &#x27;bc_income&#x27;,\n",
       "                                  &#x27;bc_length&#x27;, &#x27;yeo_weight&#x27;, &#x27;logbc_n_address&#x27;,\n",
       "                                  &#x27;bc_neighbors&#x27;, &#x27;sig_looped&#x27;, &#x27;log_count&#x27;]),\n",
       "                                (&#x27;encode&#x27;, OneHotEncoder(), [&#x27;day_of_week&#x27;])])</pre></div></div></div><div class=\"sk-parallel\"><div class=\"sk-parallel-item\"><div class=\"sk-item\"><div class=\"sk-label-container\"><div class=\"sk-label sk-toggleable\"><input class=\"sk-toggleable__control sk-hidden--visually\" id=\"sk-estimator-id-2\" type=\"checkbox\" ><label for=\"sk-estimator-id-2\" class=\"sk-toggleable__label sk-toggleable__label-arrow\">standardize</label><div class=\"sk-toggleable__content\"><pre>[&#x27;year&#x27;, &#x27;day&#x27;, &#x27;length&#x27;, &#x27;weight&#x27;, &#x27;count&#x27;, &#x27;looped&#x27;, &#x27;neighbors&#x27;, &#x27;income&#x27;, &#x27;bc_income&#x27;, &#x27;bc_length&#x27;, &#x27;yeo_weight&#x27;, &#x27;logbc_n_address&#x27;, &#x27;bc_neighbors&#x27;, &#x27;sig_looped&#x27;, &#x27;log_count&#x27;]</pre></div></div></div><div class=\"sk-serial\"><div class=\"sk-item\"><div class=\"sk-estimator sk-toggleable\"><input class=\"sk-toggleable__control sk-hidden--visually\" id=\"sk-estimator-id-3\" type=\"checkbox\" ><label for=\"sk-estimator-id-3\" class=\"sk-toggleable__label sk-toggleable__label-arrow\">StandardScaler</label><div class=\"sk-toggleable__content\"><pre>StandardScaler()</pre></div></div></div></div></div></div><div class=\"sk-parallel-item\"><div class=\"sk-item\"><div class=\"sk-label-container\"><div class=\"sk-label sk-toggleable\"><input class=\"sk-toggleable__control sk-hidden--visually\" id=\"sk-estimator-id-4\" type=\"checkbox\" ><label for=\"sk-estimator-id-4\" class=\"sk-toggleable__label sk-toggleable__label-arrow\">encode</label><div class=\"sk-toggleable__content\"><pre>[&#x27;day_of_week&#x27;]</pre></div></div></div><div class=\"sk-serial\"><div class=\"sk-item\"><div class=\"sk-estimator sk-toggleable\"><input class=\"sk-toggleable__control sk-hidden--visually\" id=\"sk-estimator-id-5\" type=\"checkbox\" ><label for=\"sk-estimator-id-5\" class=\"sk-toggleable__label sk-toggleable__label-arrow\">OneHotEncoder</label><div class=\"sk-toggleable__content\"><pre>OneHotEncoder()</pre></div></div></div></div></div></div><div class=\"sk-parallel-item\"><div class=\"sk-item\"><div class=\"sk-label-container\"><div class=\"sk-label sk-toggleable\"><input class=\"sk-toggleable__control sk-hidden--visually\" id=\"sk-estimator-id-6\" type=\"checkbox\" ><label for=\"sk-estimator-id-6\" class=\"sk-toggleable__label sk-toggleable__label-arrow\">remainder</label><div class=\"sk-toggleable__content\"><pre>[]</pre></div></div></div><div class=\"sk-serial\"><div class=\"sk-item\"><div class=\"sk-estimator sk-toggleable\"><input class=\"sk-toggleable__control sk-hidden--visually\" id=\"sk-estimator-id-7\" type=\"checkbox\" ><label for=\"sk-estimator-id-7\" class=\"sk-toggleable__label sk-toggleable__label-arrow\">passthrough</label><div class=\"sk-toggleable__content\"><pre>passthrough</pre></div></div></div></div></div></div></div></div></div></div>"
      ],
      "text/plain": [
       "ColumnTransformer(remainder='passthrough',\n",
       "                  transformers=[('standardize', StandardScaler(),\n",
       "                                 ['year', 'day', 'length', 'weight', 'count',\n",
       "                                  'looped', 'neighbors', 'income', 'bc_income',\n",
       "                                  'bc_length', 'yeo_weight', 'logbc_n_address',\n",
       "                                  'bc_neighbors', 'sig_looped', 'log_count']),\n",
       "                                ('encode', OneHotEncoder(), ['day_of_week'])])"
      ]
     },
     "execution_count": 103,
     "metadata": {},
     "output_type": "execute_result"
    }
   ],
   "source": [
    "# transform the data for use in distance based modeling algorithms [logistic regression]\n",
    "transformer = ColumnTransformer([\n",
    "    ('standardize', StandardScaler(), col_names_standardize),\n",
    "    ('encode', OneHotEncoder(), col_names_encode)\n",
    "], remainder = 'passthrough', verbose_feature_names_out=True)\n",
    "\n",
    "transformer.fit(X_train.drop(['address'], axis=1))"
   ]
  },
  {
   "cell_type": "code",
   "execution_count": 104,
   "id": "6438ec98",
   "metadata": {
    "ExecuteTime": {
     "end_time": "2022-07-28T13:02:29.295782Z",
     "start_time": "2022-07-28T13:02:29.170548Z"
    }
   },
   "outputs": [],
   "source": [
    "# std. transformed and encoded variables (np arrays)\n",
    "X_train_e = transformer.transform(X_train.drop(['address'], axis=1))\n",
    "X_test_e  = transformer.transform(X_test.drop(['address'], axis=1))\n",
    "# std. transformed and encoded variables (df with verbose headers)\n",
    "\n",
    "X_train_e_df = pd.DataFrame(X_train_e,columns=transformer.get_feature_names_out())\n",
    "X_test_e_df = pd.DataFrame(X_test_e,columns=transformer.get_feature_names_out())"
   ]
  },
  {
   "cell_type": "code",
   "execution_count": 105,
   "id": "8239c7d0",
   "metadata": {
    "ExecuteTime": {
     "end_time": "2022-07-28T13:02:29.298463Z",
     "start_time": "2022-07-28T13:02:29.296655Z"
    }
   },
   "outputs": [],
   "source": [
    "if SAVE_TEST_TRAIN == True:\n",
    "    with open('encoded'+fname, 'wb') as save_file:\n",
    "        pickle.dump([X_train, y_train, X_test, y_test], save_file)"
   ]
  },
  {
   "cell_type": "code",
   "execution_count": 106,
   "id": "49dbe9d4",
   "metadata": {
    "ExecuteTime": {
     "end_time": "2022-07-28T13:02:29.399235Z",
     "start_time": "2022-07-28T13:02:29.299155Z"
    }
   },
   "outputs": [
    {
     "data": {
      "text/html": [
       "<div>\n",
       "<style scoped>\n",
       "    .dataframe tbody tr th:only-of-type {\n",
       "        vertical-align: middle;\n",
       "    }\n",
       "\n",
       "    .dataframe tbody tr th {\n",
       "        vertical-align: top;\n",
       "    }\n",
       "\n",
       "    .dataframe thead th {\n",
       "        text-align: right;\n",
       "    }\n",
       "</style>\n",
       "<table border=\"1\" class=\"dataframe\">\n",
       "  <thead>\n",
       "    <tr style=\"text-align: right;\">\n",
       "      <th></th>\n",
       "      <th>standardize__year</th>\n",
       "      <th>standardize__day</th>\n",
       "      <th>standardize__length</th>\n",
       "      <th>standardize__weight</th>\n",
       "      <th>standardize__count</th>\n",
       "      <th>standardize__looped</th>\n",
       "      <th>standardize__neighbors</th>\n",
       "      <th>standardize__income</th>\n",
       "      <th>standardize__bc_income</th>\n",
       "      <th>standardize__bc_length</th>\n",
       "      <th>...</th>\n",
       "      <th>standardize__bc_neighbors</th>\n",
       "      <th>standardize__sig_looped</th>\n",
       "      <th>standardize__log_count</th>\n",
       "      <th>encode__day_of_week_0.0</th>\n",
       "      <th>encode__day_of_week_1.0</th>\n",
       "      <th>encode__day_of_week_2.0</th>\n",
       "      <th>encode__day_of_week_3.0</th>\n",
       "      <th>encode__day_of_week_4.0</th>\n",
       "      <th>encode__day_of_week_5.0</th>\n",
       "      <th>encode__day_of_week_6.0</th>\n",
       "    </tr>\n",
       "  </thead>\n",
       "  <tbody>\n",
       "    <tr>\n",
       "      <th>0</th>\n",
       "      <td>-0.211527</td>\n",
       "      <td>0.792763</td>\n",
       "      <td>1.680326</td>\n",
       "      <td>-0.118137</td>\n",
       "      <td>-0.046058</td>\n",
       "      <td>-0.246207</td>\n",
       "      <td>-0.051118</td>\n",
       "      <td>-0.028709</td>\n",
       "      <td>-0.553624</td>\n",
       "      <td>0.200931</td>\n",
       "      <td>...</td>\n",
       "      <td>-1.381378</td>\n",
       "      <td>-0.394593</td>\n",
       "      <td>1.318264</td>\n",
       "      <td>0.0</td>\n",
       "      <td>0.0</td>\n",
       "      <td>0.0</td>\n",
       "      <td>0.0</td>\n",
       "      <td>0.0</td>\n",
       "      <td>0.0</td>\n",
       "      <td>1.0</td>\n",
       "    </tr>\n",
       "    <tr>\n",
       "      <th>1</th>\n",
       "      <td>0.674001</td>\n",
       "      <td>0.128802</td>\n",
       "      <td>-0.728628</td>\n",
       "      <td>-0.064323</td>\n",
       "      <td>-0.425706</td>\n",
       "      <td>-0.246207</td>\n",
       "      <td>-0.051118</td>\n",
       "      <td>-0.028146</td>\n",
       "      <td>-0.105409</td>\n",
       "      <td>-0.811871</td>\n",
       "      <td>...</td>\n",
       "      <td>-1.381378</td>\n",
       "      <td>-0.394593</td>\n",
       "      <td>-0.685371</td>\n",
       "      <td>0.0</td>\n",
       "      <td>0.0</td>\n",
       "      <td>1.0</td>\n",
       "      <td>0.0</td>\n",
       "      <td>0.0</td>\n",
       "      <td>0.0</td>\n",
       "      <td>0.0</td>\n",
       "    </tr>\n",
       "    <tr>\n",
       "      <th>2</th>\n",
       "      <td>-0.211527</td>\n",
       "      <td>0.013330</td>\n",
       "      <td>-0.525055</td>\n",
       "      <td>-0.091461</td>\n",
       "      <td>-0.425706</td>\n",
       "      <td>-0.246207</td>\n",
       "      <td>-0.009305</td>\n",
       "      <td>-0.029122</td>\n",
       "      <td>-1.399961</td>\n",
       "      <td>1.313954</td>\n",
       "      <td>...</td>\n",
       "      <td>0.491485</td>\n",
       "      <td>-0.394593</td>\n",
       "      <td>-0.685371</td>\n",
       "      <td>0.0</td>\n",
       "      <td>0.0</td>\n",
       "      <td>1.0</td>\n",
       "      <td>0.0</td>\n",
       "      <td>0.0</td>\n",
       "      <td>0.0</td>\n",
       "      <td>0.0</td>\n",
       "    </tr>\n",
       "    <tr>\n",
       "      <th>3</th>\n",
       "      <td>-0.211527</td>\n",
       "      <td>0.196160</td>\n",
       "      <td>-0.389339</td>\n",
       "      <td>0.098505</td>\n",
       "      <td>-0.425706</td>\n",
       "      <td>-0.246207</td>\n",
       "      <td>-0.009305</td>\n",
       "      <td>-0.026459</td>\n",
       "      <td>0.423527</td>\n",
       "      <td>1.402833</td>\n",
       "      <td>...</td>\n",
       "      <td>0.491485</td>\n",
       "      <td>-0.394593</td>\n",
       "      <td>-0.685371</td>\n",
       "      <td>1.0</td>\n",
       "      <td>0.0</td>\n",
       "      <td>0.0</td>\n",
       "      <td>0.0</td>\n",
       "      <td>0.0</td>\n",
       "      <td>0.0</td>\n",
       "      <td>0.0</td>\n",
       "    </tr>\n",
       "    <tr>\n",
       "      <th>4</th>\n",
       "      <td>-0.654290</td>\n",
       "      <td>-1.728367</td>\n",
       "      <td>-0.525055</td>\n",
       "      <td>-0.117751</td>\n",
       "      <td>-0.425706</td>\n",
       "      <td>-0.246207</td>\n",
       "      <td>-0.051118</td>\n",
       "      <td>-0.028686</td>\n",
       "      <td>-0.527178</td>\n",
       "      <td>1.313954</td>\n",
       "      <td>...</td>\n",
       "      <td>-1.381378</td>\n",
       "      <td>-0.394593</td>\n",
       "      <td>-0.685371</td>\n",
       "      <td>0.0</td>\n",
       "      <td>0.0</td>\n",
       "      <td>1.0</td>\n",
       "      <td>0.0</td>\n",
       "      <td>0.0</td>\n",
       "      <td>0.0</td>\n",
       "      <td>0.0</td>\n",
       "    </tr>\n",
       "    <tr>\n",
       "      <th>...</th>\n",
       "      <td>...</td>\n",
       "      <td>...</td>\n",
       "      <td>...</td>\n",
       "      <td>...</td>\n",
       "      <td>...</td>\n",
       "      <td>...</td>\n",
       "      <td>...</td>\n",
       "      <td>...</td>\n",
       "      <td>...</td>\n",
       "      <td>...</td>\n",
       "      <td>...</td>\n",
       "      <td>...</td>\n",
       "      <td>...</td>\n",
       "      <td>...</td>\n",
       "      <td>...</td>\n",
       "      <td>...</td>\n",
       "      <td>...</td>\n",
       "      <td>...</td>\n",
       "      <td>...</td>\n",
       "      <td>...</td>\n",
       "      <td>...</td>\n",
       "    </tr>\n",
       "    <tr>\n",
       "      <th>561458</th>\n",
       "      <td>1.559529</td>\n",
       "      <td>0.571443</td>\n",
       "      <td>1.680326</td>\n",
       "      <td>0.216763</td>\n",
       "      <td>2.917568</td>\n",
       "      <td>5.590756</td>\n",
       "      <td>-0.009305</td>\n",
       "      <td>-0.027957</td>\n",
       "      <td>-0.010136</td>\n",
       "      <td>0.200931</td>\n",
       "      <td>...</td>\n",
       "      <td>0.491485</td>\n",
       "      <td>2.697217</td>\n",
       "      <td>1.992261</td>\n",
       "      <td>0.0</td>\n",
       "      <td>0.0</td>\n",
       "      <td>1.0</td>\n",
       "      <td>0.0</td>\n",
       "      <td>0.0</td>\n",
       "      <td>0.0</td>\n",
       "      <td>0.0</td>\n",
       "    </tr>\n",
       "    <tr>\n",
       "      <th>561459</th>\n",
       "      <td>1.559529</td>\n",
       "      <td>-0.689122</td>\n",
       "      <td>0.798174</td>\n",
       "      <td>-0.118598</td>\n",
       "      <td>-0.425706</td>\n",
       "      <td>-0.246207</td>\n",
       "      <td>-0.009305</td>\n",
       "      <td>-0.018165</td>\n",
       "      <td>1.056186</td>\n",
       "      <td>0.723260</td>\n",
       "      <td>...</td>\n",
       "      <td>0.491485</td>\n",
       "      <td>-0.394593</td>\n",
       "      <td>-0.685371</td>\n",
       "      <td>0.0</td>\n",
       "      <td>0.0</td>\n",
       "      <td>0.0</td>\n",
       "      <td>0.0</td>\n",
       "      <td>1.0</td>\n",
       "      <td>0.0</td>\n",
       "      <td>0.0</td>\n",
       "    </tr>\n",
       "    <tr>\n",
       "      <th>561460</th>\n",
       "      <td>-1.539818</td>\n",
       "      <td>-0.515915</td>\n",
       "      <td>-0.558984</td>\n",
       "      <td>-0.116903</td>\n",
       "      <td>-0.425706</td>\n",
       "      <td>-0.246207</td>\n",
       "      <td>-0.051118</td>\n",
       "      <td>-0.023790</td>\n",
       "      <td>0.754322</td>\n",
       "      <td>1.250367</td>\n",
       "      <td>...</td>\n",
       "      <td>-1.381378</td>\n",
       "      <td>-0.394593</td>\n",
       "      <td>-0.685371</td>\n",
       "      <td>0.0</td>\n",
       "      <td>0.0</td>\n",
       "      <td>0.0</td>\n",
       "      <td>0.0</td>\n",
       "      <td>0.0</td>\n",
       "      <td>0.0</td>\n",
       "      <td>1.0</td>\n",
       "    </tr>\n",
       "    <tr>\n",
       "      <th>561461</th>\n",
       "      <td>-0.654290</td>\n",
       "      <td>1.014084</td>\n",
       "      <td>-0.660770</td>\n",
       "      <td>-0.050754</td>\n",
       "      <td>-0.424519</td>\n",
       "      <td>-0.246207</td>\n",
       "      <td>-0.009305</td>\n",
       "      <td>-0.028021</td>\n",
       "      <td>-0.040633</td>\n",
       "      <td>0.753080</td>\n",
       "      <td>...</td>\n",
       "      <td>0.491485</td>\n",
       "      <td>-0.394593</td>\n",
       "      <td>-0.344785</td>\n",
       "      <td>1.0</td>\n",
       "      <td>0.0</td>\n",
       "      <td>0.0</td>\n",
       "      <td>0.0</td>\n",
       "      <td>0.0</td>\n",
       "      <td>0.0</td>\n",
       "      <td>0.0</td>\n",
       "    </tr>\n",
       "    <tr>\n",
       "      <th>561462</th>\n",
       "      <td>0.231237</td>\n",
       "      <td>-1.603273</td>\n",
       "      <td>1.680326</td>\n",
       "      <td>-0.032091</td>\n",
       "      <td>0.928569</td>\n",
       "      <td>-0.246207</td>\n",
       "      <td>-0.009305</td>\n",
       "      <td>-0.022637</td>\n",
       "      <td>0.840618</td>\n",
       "      <td>0.200931</td>\n",
       "      <td>...</td>\n",
       "      <td>0.491485</td>\n",
       "      <td>-0.394593</td>\n",
       "      <td>1.712186</td>\n",
       "      <td>0.0</td>\n",
       "      <td>0.0</td>\n",
       "      <td>0.0</td>\n",
       "      <td>1.0</td>\n",
       "      <td>0.0</td>\n",
       "      <td>0.0</td>\n",
       "      <td>0.0</td>\n",
       "    </tr>\n",
       "  </tbody>\n",
       "</table>\n",
       "<p>561463 rows × 22 columns</p>\n",
       "</div>"
      ],
      "text/plain": [
       "        standardize__year  standardize__day  standardize__length  \\\n",
       "0               -0.211527          0.792763             1.680326   \n",
       "1                0.674001          0.128802            -0.728628   \n",
       "2               -0.211527          0.013330            -0.525055   \n",
       "3               -0.211527          0.196160            -0.389339   \n",
       "4               -0.654290         -1.728367            -0.525055   \n",
       "...                   ...               ...                  ...   \n",
       "561458           1.559529          0.571443             1.680326   \n",
       "561459           1.559529         -0.689122             0.798174   \n",
       "561460          -1.539818         -0.515915            -0.558984   \n",
       "561461          -0.654290          1.014084            -0.660770   \n",
       "561462           0.231237         -1.603273             1.680326   \n",
       "\n",
       "        standardize__weight  standardize__count  standardize__looped  \\\n",
       "0                 -0.118137           -0.046058            -0.246207   \n",
       "1                 -0.064323           -0.425706            -0.246207   \n",
       "2                 -0.091461           -0.425706            -0.246207   \n",
       "3                  0.098505           -0.425706            -0.246207   \n",
       "4                 -0.117751           -0.425706            -0.246207   \n",
       "...                     ...                 ...                  ...   \n",
       "561458             0.216763            2.917568             5.590756   \n",
       "561459            -0.118598           -0.425706            -0.246207   \n",
       "561460            -0.116903           -0.425706            -0.246207   \n",
       "561461            -0.050754           -0.424519            -0.246207   \n",
       "561462            -0.032091            0.928569            -0.246207   \n",
       "\n",
       "        standardize__neighbors  standardize__income  standardize__bc_income  \\\n",
       "0                    -0.051118            -0.028709               -0.553624   \n",
       "1                    -0.051118            -0.028146               -0.105409   \n",
       "2                    -0.009305            -0.029122               -1.399961   \n",
       "3                    -0.009305            -0.026459                0.423527   \n",
       "4                    -0.051118            -0.028686               -0.527178   \n",
       "...                        ...                  ...                     ...   \n",
       "561458               -0.009305            -0.027957               -0.010136   \n",
       "561459               -0.009305            -0.018165                1.056186   \n",
       "561460               -0.051118            -0.023790                0.754322   \n",
       "561461               -0.009305            -0.028021               -0.040633   \n",
       "561462               -0.009305            -0.022637                0.840618   \n",
       "\n",
       "        standardize__bc_length  ...  standardize__bc_neighbors  \\\n",
       "0                     0.200931  ...                  -1.381378   \n",
       "1                    -0.811871  ...                  -1.381378   \n",
       "2                     1.313954  ...                   0.491485   \n",
       "3                     1.402833  ...                   0.491485   \n",
       "4                     1.313954  ...                  -1.381378   \n",
       "...                        ...  ...                        ...   \n",
       "561458                0.200931  ...                   0.491485   \n",
       "561459                0.723260  ...                   0.491485   \n",
       "561460                1.250367  ...                  -1.381378   \n",
       "561461                0.753080  ...                   0.491485   \n",
       "561462                0.200931  ...                   0.491485   \n",
       "\n",
       "        standardize__sig_looped  standardize__log_count  \\\n",
       "0                     -0.394593                1.318264   \n",
       "1                     -0.394593               -0.685371   \n",
       "2                     -0.394593               -0.685371   \n",
       "3                     -0.394593               -0.685371   \n",
       "4                     -0.394593               -0.685371   \n",
       "...                         ...                     ...   \n",
       "561458                 2.697217                1.992261   \n",
       "561459                -0.394593               -0.685371   \n",
       "561460                -0.394593               -0.685371   \n",
       "561461                -0.394593               -0.344785   \n",
       "561462                -0.394593                1.712186   \n",
       "\n",
       "        encode__day_of_week_0.0  encode__day_of_week_1.0  \\\n",
       "0                           0.0                      0.0   \n",
       "1                           0.0                      0.0   \n",
       "2                           0.0                      0.0   \n",
       "3                           1.0                      0.0   \n",
       "4                           0.0                      0.0   \n",
       "...                         ...                      ...   \n",
       "561458                      0.0                      0.0   \n",
       "561459                      0.0                      0.0   \n",
       "561460                      0.0                      0.0   \n",
       "561461                      1.0                      0.0   \n",
       "561462                      0.0                      0.0   \n",
       "\n",
       "        encode__day_of_week_2.0  encode__day_of_week_3.0  \\\n",
       "0                           0.0                      0.0   \n",
       "1                           1.0                      0.0   \n",
       "2                           1.0                      0.0   \n",
       "3                           0.0                      0.0   \n",
       "4                           1.0                      0.0   \n",
       "...                         ...                      ...   \n",
       "561458                      1.0                      0.0   \n",
       "561459                      0.0                      0.0   \n",
       "561460                      0.0                      0.0   \n",
       "561461                      0.0                      0.0   \n",
       "561462                      0.0                      1.0   \n",
       "\n",
       "        encode__day_of_week_4.0  encode__day_of_week_5.0  \\\n",
       "0                           0.0                      0.0   \n",
       "1                           0.0                      0.0   \n",
       "2                           0.0                      0.0   \n",
       "3                           0.0                      0.0   \n",
       "4                           0.0                      0.0   \n",
       "...                         ...                      ...   \n",
       "561458                      0.0                      0.0   \n",
       "561459                      1.0                      0.0   \n",
       "561460                      0.0                      0.0   \n",
       "561461                      0.0                      0.0   \n",
       "561462                      0.0                      0.0   \n",
       "\n",
       "        encode__day_of_week_6.0  \n",
       "0                           1.0  \n",
       "1                           0.0  \n",
       "2                           0.0  \n",
       "3                           0.0  \n",
       "4                           0.0  \n",
       "...                         ...  \n",
       "561458                      0.0  \n",
       "561459                      0.0  \n",
       "561460                      1.0  \n",
       "561461                      0.0  \n",
       "561462                      0.0  \n",
       "\n",
       "[561463 rows x 22 columns]"
      ]
     },
     "execution_count": 106,
     "metadata": {},
     "output_type": "execute_result"
    }
   ],
   "source": [
    "X_train_e_df"
   ]
  }
 ],
 "metadata": {
  "kernelspec": {
   "display_name": "Python 3 (ipykernel)",
   "language": "python",
   "name": "python3"
  },
  "language_info": {
   "codemirror_mode": {
    "name": "ipython",
    "version": 3
   },
   "file_extension": ".py",
   "mimetype": "text/x-python",
   "name": "python",
   "nbconvert_exporter": "python",
   "pygments_lexer": "ipython3",
   "version": "3.9.0"
  },
  "toc": {
   "base_numbering": 1,
   "nav_menu": {},
   "number_sections": false,
   "sideBar": true,
   "skip_h1_title": false,
   "title_cell": "Table of Contents",
   "title_sidebar": "Contents",
   "toc_cell": false,
   "toc_position": {
    "height": "calc(100% - 180px)",
    "left": "10px",
    "top": "150px",
    "width": "413.6px"
   },
   "toc_section_display": true,
   "toc_window_display": true
  },
  "varInspector": {
   "cols": {
    "lenName": 16,
    "lenType": 16,
    "lenVar": 40
   },
   "kernels_config": {
    "python": {
     "delete_cmd_postfix": "",
     "delete_cmd_prefix": "del ",
     "library": "var_list.py",
     "varRefreshCmd": "print(var_dic_list())"
    },
    "r": {
     "delete_cmd_postfix": ") ",
     "delete_cmd_prefix": "rm(",
     "library": "var_list.r",
     "varRefreshCmd": "cat(var_dic_list()) "
    }
   },
   "types_to_exclude": [
    "module",
    "function",
    "builtin_function_or_method",
    "instance",
    "_Feature"
   ],
   "window_display": false
  }
 },
 "nbformat": 4,
 "nbformat_minor": 5
}
